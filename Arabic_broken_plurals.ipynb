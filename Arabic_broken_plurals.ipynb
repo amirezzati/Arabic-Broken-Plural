{
  "cells": [
    {
      "cell_type": "markdown",
      "metadata": {
        "id": "view-in-github",
        "colab_type": "text"
      },
      "source": [
        "<a href=\"https://colab.research.google.com/github/amirezzati/Arabic-Broken-Plural-RNN/blob/main/Arabic_broken_plurals.ipynb\" target=\"_parent\"><img src=\"https://colab.research.google.com/assets/colab-badge.svg\" alt=\"Open In Colab\"/></a>"
      ]
    },
    {
      "cell_type": "markdown",
      "metadata": {
        "id": "rgbi7F8b_x30"
      },
      "source": [
        "# **Libraries & Constants**"
      ]
    },
    {
      "cell_type": "code",
      "execution_count": null,
      "metadata": {
        "id": "D2-wlVMZYEkZ"
      },
      "outputs": [],
      "source": [
        "import pandas as pd\n",
        "import tensorflow as tf\n",
        "import numpy as np\n",
        "from keras.models import Sequential, load_model\n",
        "from keras.layers import Dense, Input, Softmax, BatchNormalization, Dropout, Conv2D, MaxPool2D, Embedding, Reshape, Flatten, LSTM, GRU, SimpleRNN, Concatenate, concatenate, RepeatVector, TimeDistributed, Bidirectional\n",
        "# from keras.layers.merge import concatenate\n",
        "from keras.losses import CategoricalCrossentropy\n",
        "from keras.metrics import CategoricalAccuracy\n",
        "from keras.preprocessing.text import Tokenizer\n",
        "from tensorflow.keras.optimizers import RMSprop, Adam, Adamax, Nadam, SGD\n",
        "from tensorflow.keras import Model\n",
        "from tensorflow.keras.optimizers.schedules import InverseTimeDecay, ExponentialDecay\n",
        "from tensorflow.keras.utils import to_categorical\n",
        "from keras.utils.vis_utils import plot_model\n",
        "from keras.callbacks import ModelCheckpoint\n",
        "from tensorflow.keras.preprocessing.sequence import pad_sequences #from keras.preprocessing.sequence import pad_sequences\n",
        "from sklearn.preprocessing import LabelEncoder\n",
        "from sklearn.model_selection import train_test_split, KFold\n",
        "from sklearn import metrics\n",
        "from matplotlib import pyplot as plt\n",
        "from sklearn.model_selection import KFold\n",
        "import os\n",
        "import string\n",
        "from google.colab import drive"
      ]
    },
    {
      "cell_type": "code",
      "execution_count": null,
      "metadata": {
        "colab": {
          "base_uri": "https://localhost:8080/"
        },
        "id": "srVvFhQrdymB",
        "outputId": "70d1ee79-63ab-4f57-a966-be6f42bc51e1"
      },
      "outputs": [
        {
          "name": "stdout",
          "output_type": "stream",
          "text": [
            "Drive already mounted at /content/drive; to attempt to forcibly remount, call drive.mount(\"/content/drive\", force_remount=True).\n"
          ]
        }
      ],
      "source": [
        "drive.mount('/content/drive')\n",
        "dataPath=\"/content/drive/MyDrive/AI Projects/Arabic Broken Plural/data\""
      ]
    },
    {
      "cell_type": "markdown",
      "metadata": {
        "id": "pGFwazuJClaC"
      },
      "source": [
        "# **Preprocessing**"
      ]
    },
    {
      "cell_type": "markdown",
      "metadata": {
        "id": "ubE6nCh4ClaD"
      },
      "source": [
        "## **Get dataset files and Organizing**"
      ]
    },
    {
      "cell_type": "code",
      "execution_count": null,
      "metadata": {
        "colab": {
          "base_uri": "https://localhost:8080/",
          "height": 270
        },
        "id": "_uBC6rVkClaD",
        "outputId": "a421127c-653c-4642-8744-5dea9e8a2401"
      },
      "outputs": [
        {
          "data": {
            "text/html": [
              "\n",
              "  <div id=\"df-37cf16c7-fcdc-463c-ae53-f3cfa3855d88\">\n",
              "    <div class=\"colab-df-container\">\n",
              "      <div>\n",
              "<style scoped>\n",
              "    .dataframe tbody tr th:only-of-type {\n",
              "        vertical-align: middle;\n",
              "    }\n",
              "\n",
              "    .dataframe tbody tr th {\n",
              "        vertical-align: top;\n",
              "    }\n",
              "\n",
              "    .dataframe thead th {\n",
              "        text-align: right;\n",
              "    }\n",
              "</style>\n",
              "<table border=\"1\" class=\"dataframe\">\n",
              "  <thead>\n",
              "    <tr style=\"text-align: right;\">\n",
              "      <th></th>\n",
              "      <th>lemma</th>\n",
              "      <th>inflection</th>\n",
              "      <th>NUM</th>\n",
              "      <th>GEN</th>\n",
              "      <th>RAT</th>\n",
              "      <th>lex_freq</th>\n",
              "      <th>B/S</th>\n",
              "      <th>SING_PATT</th>\n",
              "      <th>PL_PATT</th>\n",
              "      <th>ROOT</th>\n",
              "      <th>FREQ</th>\n",
              "    </tr>\n",
              "  </thead>\n",
              "  <tbody>\n",
              "    <tr>\n",
              "      <th>0</th>\n",
              "      <td>Eamal</td>\n",
              "      <td>&gt;aEomAl</td>\n",
              "      <td>PL</td>\n",
              "      <td>m</td>\n",
              "      <td>i</td>\n",
              "      <td>49</td>\n",
              "      <td>B</td>\n",
              "      <td>1a2a3</td>\n",
              "      <td>&gt;a1o2A3</td>\n",
              "      <td>E.m.l</td>\n",
              "      <td>49</td>\n",
              "    </tr>\n",
              "    <tr>\n",
              "      <th>1</th>\n",
              "      <td>hadaf</td>\n",
              "      <td>&gt;ahodAf</td>\n",
              "      <td>PL</td>\n",
              "      <td>m</td>\n",
              "      <td>i</td>\n",
              "      <td>42</td>\n",
              "      <td>B</td>\n",
              "      <td>1a2a3</td>\n",
              "      <td>&gt;a1o2A3</td>\n",
              "      <td>h.d.f</td>\n",
              "      <td>42</td>\n",
              "    </tr>\n",
              "    <tr>\n",
              "      <th>2</th>\n",
              "      <td>EuDow</td>\n",
              "      <td>&gt;aEoDA'</td>\n",
              "      <td>PL</td>\n",
              "      <td>m</td>\n",
              "      <td>r</td>\n",
              "      <td>46</td>\n",
              "      <td>B</td>\n",
              "      <td>1u2ow</td>\n",
              "      <td>&gt;a1o2A'</td>\n",
              "      <td>E.D.#</td>\n",
              "      <td>39</td>\n",
              "    </tr>\n",
              "    <tr>\n",
              "      <th>3</th>\n",
              "      <td>jihAz</td>\n",
              "      <td>&gt;ajohizap</td>\n",
              "      <td>PL</td>\n",
              "      <td>m</td>\n",
              "      <td>i</td>\n",
              "      <td>41</td>\n",
              "      <td>B</td>\n",
              "      <td>1i2A3</td>\n",
              "      <td>&gt;a1o2i3ap</td>\n",
              "      <td>j.h.z</td>\n",
              "      <td>35</td>\n",
              "    </tr>\n",
              "    <tr>\n",
              "      <th>4</th>\n",
              "      <td>Hukom</td>\n",
              "      <td>&gt;aHokAm</td>\n",
              "      <td>PL</td>\n",
              "      <td>m</td>\n",
              "      <td>i</td>\n",
              "      <td>35</td>\n",
              "      <td>B</td>\n",
              "      <td>1u2o3</td>\n",
              "      <td>&gt;a1o2A3</td>\n",
              "      <td>H.k.m</td>\n",
              "      <td>35</td>\n",
              "    </tr>\n",
              "  </tbody>\n",
              "</table>\n",
              "</div>\n",
              "      <button class=\"colab-df-convert\" onclick=\"convertToInteractive('df-37cf16c7-fcdc-463c-ae53-f3cfa3855d88')\"\n",
              "              title=\"Convert this dataframe to an interactive table.\"\n",
              "              style=\"display:none;\">\n",
              "        \n",
              "  <svg xmlns=\"http://www.w3.org/2000/svg\" height=\"24px\"viewBox=\"0 0 24 24\"\n",
              "       width=\"24px\">\n",
              "    <path d=\"M0 0h24v24H0V0z\" fill=\"none\"/>\n",
              "    <path d=\"M18.56 5.44l.94 2.06.94-2.06 2.06-.94-2.06-.94-.94-2.06-.94 2.06-2.06.94zm-11 1L8.5 8.5l.94-2.06 2.06-.94-2.06-.94L8.5 2.5l-.94 2.06-2.06.94zm10 10l.94 2.06.94-2.06 2.06-.94-2.06-.94-.94-2.06-.94 2.06-2.06.94z\"/><path d=\"M17.41 7.96l-1.37-1.37c-.4-.4-.92-.59-1.43-.59-.52 0-1.04.2-1.43.59L10.3 9.45l-7.72 7.72c-.78.78-.78 2.05 0 2.83L4 21.41c.39.39.9.59 1.41.59.51 0 1.02-.2 1.41-.59l7.78-7.78 2.81-2.81c.8-.78.8-2.07 0-2.86zM5.41 20L4 18.59l7.72-7.72 1.47 1.35L5.41 20z\"/>\n",
              "  </svg>\n",
              "      </button>\n",
              "      \n",
              "  <style>\n",
              "    .colab-df-container {\n",
              "      display:flex;\n",
              "      flex-wrap:wrap;\n",
              "      gap: 12px;\n",
              "    }\n",
              "\n",
              "    .colab-df-convert {\n",
              "      background-color: #E8F0FE;\n",
              "      border: none;\n",
              "      border-radius: 50%;\n",
              "      cursor: pointer;\n",
              "      display: none;\n",
              "      fill: #1967D2;\n",
              "      height: 32px;\n",
              "      padding: 0 0 0 0;\n",
              "      width: 32px;\n",
              "    }\n",
              "\n",
              "    .colab-df-convert:hover {\n",
              "      background-color: #E2EBFA;\n",
              "      box-shadow: 0px 1px 2px rgba(60, 64, 67, 0.3), 0px 1px 3px 1px rgba(60, 64, 67, 0.15);\n",
              "      fill: #174EA6;\n",
              "    }\n",
              "\n",
              "    [theme=dark] .colab-df-convert {\n",
              "      background-color: #3B4455;\n",
              "      fill: #D2E3FC;\n",
              "    }\n",
              "\n",
              "    [theme=dark] .colab-df-convert:hover {\n",
              "      background-color: #434B5C;\n",
              "      box-shadow: 0px 1px 3px 1px rgba(0, 0, 0, 0.15);\n",
              "      filter: drop-shadow(0px 1px 2px rgba(0, 0, 0, 0.3));\n",
              "      fill: #FFFFFF;\n",
              "    }\n",
              "  </style>\n",
              "\n",
              "      <script>\n",
              "        const buttonEl =\n",
              "          document.querySelector('#df-37cf16c7-fcdc-463c-ae53-f3cfa3855d88 button.colab-df-convert');\n",
              "        buttonEl.style.display =\n",
              "          google.colab.kernel.accessAllowed ? 'block' : 'none';\n",
              "\n",
              "        async function convertToInteractive(key) {\n",
              "          const element = document.querySelector('#df-37cf16c7-fcdc-463c-ae53-f3cfa3855d88');\n",
              "          const dataTable =\n",
              "            await google.colab.kernel.invokeFunction('convertToInteractive',\n",
              "                                                     [key], {});\n",
              "          if (!dataTable) return;\n",
              "\n",
              "          const docLinkHtml = 'Like what you see? Visit the ' +\n",
              "            '<a target=\"_blank\" href=https://colab.research.google.com/notebooks/data_table.ipynb>data table notebook</a>'\n",
              "            + ' to learn more about interactive tables.';\n",
              "          element.innerHTML = '';\n",
              "          dataTable['output_type'] = 'display_data';\n",
              "          await google.colab.output.renderOutput(dataTable, element);\n",
              "          const docLink = document.createElement('div');\n",
              "          docLink.innerHTML = docLinkHtml;\n",
              "          element.appendChild(docLink);\n",
              "        }\n",
              "      </script>\n",
              "    </div>\n",
              "  </div>\n",
              "  "
            ],
            "text/plain": [
              "   lemma inflection NUM GEN RAT  lex_freq B/S SING_PATT    PL_PATT   ROOT  \\\n",
              "0  Eamal    >aEomAl  PL   m   i        49   B     1a2a3    >a1o2A3  E.m.l   \n",
              "1  hadaf    >ahodAf  PL   m   i        42   B     1a2a3    >a1o2A3  h.d.f   \n",
              "2  EuDow    >aEoDA'  PL   m   r        46   B     1u2ow    >a1o2A'  E.D.#   \n",
              "3  jihAz  >ajohizap  PL   m   i        41   B     1i2A3  >a1o2i3ap  j.h.z   \n",
              "4  Hukom    >aHokAm  PL   m   i        35   B     1u2o3    >a1o2A3  H.k.m   \n",
              "\n",
              "   FREQ  \n",
              "0    49  \n",
              "1    42  \n",
              "2    39  \n",
              "3    35  \n",
              "4    35  "
            ]
          },
          "execution_count": 74,
          "metadata": {},
          "output_type": "execute_result"
        }
      ],
      "source": [
        "train_csv = pd.read_csv(dataPath+\"/train_pairs_all.csv\")\n",
        "dev_csv = pd.read_csv(dataPath+\"/dev_pairs_all.csv\")\n",
        "test_csv = pd.read_csv(dataPath+\"/test_pairs_all.csv\")\n",
        "\n",
        "train_csv.head()"
      ]
    },
    {
      "cell_type": "code",
      "execution_count": null,
      "metadata": {
        "id": "SdFejowuClaD"
      },
      "outputs": [],
      "source": [
        "train_csv_filtered = train_csv[train_csv['ROOT'] != 'NTWS']\n",
        "dev_csv_filtered = dev_csv[dev_csv['ROOT'] != 'NTWS']\n",
        "test_csv_filtered = test_csv[test_csv['ROOT'] != 'NTWS']"
      ]
    },
    {
      "cell_type": "code",
      "execution_count": null,
      "metadata": {
        "colab": {
          "base_uri": "https://localhost:8080/"
        },
        "id": "aMrYNnyDClaD",
        "outputId": "69b33a73-3b50-417a-e286-b1814cc23fdc"
      },
      "outputs": [
        {
          "name": "stdout",
          "output_type": "stream",
          "text": [
            "114\n",
            "38\n",
            "27\n"
          ]
        }
      ],
      "source": [
        "print(train_csv.shape[0] - train_csv_filtered.shape[0])\n",
        "print(dev_csv.shape[0] - dev_csv_filtered.shape[0])\n",
        "print(test_csv.shape[0] - test_csv_filtered.shape[0])"
      ]
    },
    {
      "cell_type": "code",
      "execution_count": null,
      "metadata": {
        "colab": {
          "base_uri": "https://localhost:8080/",
          "height": 270
        },
        "id": "yD10TibJClaD",
        "outputId": "eb0c925b-78c3-463e-bef3-bdb15ccc5420"
      },
      "outputs": [
        {
          "data": {
            "text/html": [
              "\n",
              "  <div id=\"df-41b2d884-89a3-41a8-a46c-cb1a853378e6\">\n",
              "    <div class=\"colab-df-container\">\n",
              "      <div>\n",
              "<style scoped>\n",
              "    .dataframe tbody tr th:only-of-type {\n",
              "        vertical-align: middle;\n",
              "    }\n",
              "\n",
              "    .dataframe tbody tr th {\n",
              "        vertical-align: top;\n",
              "    }\n",
              "\n",
              "    .dataframe thead th {\n",
              "        text-align: right;\n",
              "    }\n",
              "</style>\n",
              "<table border=\"1\" class=\"dataframe\">\n",
              "  <thead>\n",
              "    <tr style=\"text-align: right;\">\n",
              "      <th></th>\n",
              "      <th>lemma</th>\n",
              "      <th>inflection</th>\n",
              "      <th>NUM</th>\n",
              "      <th>GEN</th>\n",
              "      <th>RAT</th>\n",
              "      <th>lex_freq</th>\n",
              "      <th>B/S</th>\n",
              "      <th>SING_PATT</th>\n",
              "      <th>PL_PATT</th>\n",
              "      <th>ROOT</th>\n",
              "      <th>FREQ</th>\n",
              "    </tr>\n",
              "  </thead>\n",
              "  <tbody>\n",
              "    <tr>\n",
              "      <th>0</th>\n",
              "      <td>Eamal</td>\n",
              "      <td>&gt;aEomAl</td>\n",
              "      <td>PL</td>\n",
              "      <td>1</td>\n",
              "      <td>0</td>\n",
              "      <td>23</td>\n",
              "      <td>0</td>\n",
              "      <td>1a2a3</td>\n",
              "      <td>&gt;a1o2A3</td>\n",
              "      <td>E.m.l</td>\n",
              "      <td>23</td>\n",
              "    </tr>\n",
              "    <tr>\n",
              "      <th>1</th>\n",
              "      <td>hadaf</td>\n",
              "      <td>&gt;ahodAf</td>\n",
              "      <td>PL</td>\n",
              "      <td>1</td>\n",
              "      <td>0</td>\n",
              "      <td>16</td>\n",
              "      <td>0</td>\n",
              "      <td>1a2a3</td>\n",
              "      <td>&gt;a1o2A3</td>\n",
              "      <td>h.d.f</td>\n",
              "      <td>16</td>\n",
              "    </tr>\n",
              "    <tr>\n",
              "      <th>2</th>\n",
              "      <td>EalAqap</td>\n",
              "      <td>EalAqAt</td>\n",
              "      <td>PL</td>\n",
              "      <td>0</td>\n",
              "      <td>0</td>\n",
              "      <td>15</td>\n",
              "      <td>1</td>\n",
              "      <td>1a2A3ap</td>\n",
              "      <td>1a2A3At</td>\n",
              "      <td>E.l.q</td>\n",
              "      <td>15</td>\n",
              "    </tr>\n",
              "    <tr>\n",
              "      <th>3</th>\n",
              "      <td>mu&amp;as~asap</td>\n",
              "      <td>mu&amp;as~asAt</td>\n",
              "      <td>PL</td>\n",
              "      <td>0</td>\n",
              "      <td>0</td>\n",
              "      <td>14</td>\n",
              "      <td>1</td>\n",
              "      <td>mu&amp;a2~a3ap</td>\n",
              "      <td>mu&amp;a2~a3At</td>\n",
              "      <td>#.s.s</td>\n",
              "      <td>14</td>\n",
              "    </tr>\n",
              "    <tr>\n",
              "      <th>4</th>\n",
              "      <td>EuDow</td>\n",
              "      <td>&gt;aEoDA'</td>\n",
              "      <td>PL</td>\n",
              "      <td>1</td>\n",
              "      <td>1</td>\n",
              "      <td>15</td>\n",
              "      <td>0</td>\n",
              "      <td>1u2ow</td>\n",
              "      <td>&gt;a1o2A'</td>\n",
              "      <td>E.D.#</td>\n",
              "      <td>13</td>\n",
              "    </tr>\n",
              "  </tbody>\n",
              "</table>\n",
              "</div>\n",
              "      <button class=\"colab-df-convert\" onclick=\"convertToInteractive('df-41b2d884-89a3-41a8-a46c-cb1a853378e6')\"\n",
              "              title=\"Convert this dataframe to an interactive table.\"\n",
              "              style=\"display:none;\">\n",
              "        \n",
              "  <svg xmlns=\"http://www.w3.org/2000/svg\" height=\"24px\"viewBox=\"0 0 24 24\"\n",
              "       width=\"24px\">\n",
              "    <path d=\"M0 0h24v24H0V0z\" fill=\"none\"/>\n",
              "    <path d=\"M18.56 5.44l.94 2.06.94-2.06 2.06-.94-2.06-.94-.94-2.06-.94 2.06-2.06.94zm-11 1L8.5 8.5l.94-2.06 2.06-.94-2.06-.94L8.5 2.5l-.94 2.06-2.06.94zm10 10l.94 2.06.94-2.06 2.06-.94-2.06-.94-.94-2.06-.94 2.06-2.06.94z\"/><path d=\"M17.41 7.96l-1.37-1.37c-.4-.4-.92-.59-1.43-.59-.52 0-1.04.2-1.43.59L10.3 9.45l-7.72 7.72c-.78.78-.78 2.05 0 2.83L4 21.41c.39.39.9.59 1.41.59.51 0 1.02-.2 1.41-.59l7.78-7.78 2.81-2.81c.8-.78.8-2.07 0-2.86zM5.41 20L4 18.59l7.72-7.72 1.47 1.35L5.41 20z\"/>\n",
              "  </svg>\n",
              "      </button>\n",
              "      \n",
              "  <style>\n",
              "    .colab-df-container {\n",
              "      display:flex;\n",
              "      flex-wrap:wrap;\n",
              "      gap: 12px;\n",
              "    }\n",
              "\n",
              "    .colab-df-convert {\n",
              "      background-color: #E8F0FE;\n",
              "      border: none;\n",
              "      border-radius: 50%;\n",
              "      cursor: pointer;\n",
              "      display: none;\n",
              "      fill: #1967D2;\n",
              "      height: 32px;\n",
              "      padding: 0 0 0 0;\n",
              "      width: 32px;\n",
              "    }\n",
              "\n",
              "    .colab-df-convert:hover {\n",
              "      background-color: #E2EBFA;\n",
              "      box-shadow: 0px 1px 2px rgba(60, 64, 67, 0.3), 0px 1px 3px 1px rgba(60, 64, 67, 0.15);\n",
              "      fill: #174EA6;\n",
              "    }\n",
              "\n",
              "    [theme=dark] .colab-df-convert {\n",
              "      background-color: #3B4455;\n",
              "      fill: #D2E3FC;\n",
              "    }\n",
              "\n",
              "    [theme=dark] .colab-df-convert:hover {\n",
              "      background-color: #434B5C;\n",
              "      box-shadow: 0px 1px 3px 1px rgba(0, 0, 0, 0.15);\n",
              "      filter: drop-shadow(0px 1px 2px rgba(0, 0, 0, 0.3));\n",
              "      fill: #FFFFFF;\n",
              "    }\n",
              "  </style>\n",
              "\n",
              "      <script>\n",
              "        const buttonEl =\n",
              "          document.querySelector('#df-41b2d884-89a3-41a8-a46c-cb1a853378e6 button.colab-df-convert');\n",
              "        buttonEl.style.display =\n",
              "          google.colab.kernel.accessAllowed ? 'block' : 'none';\n",
              "\n",
              "        async function convertToInteractive(key) {\n",
              "          const element = document.querySelector('#df-41b2d884-89a3-41a8-a46c-cb1a853378e6');\n",
              "          const dataTable =\n",
              "            await google.colab.kernel.invokeFunction('convertToInteractive',\n",
              "                                                     [key], {});\n",
              "          if (!dataTable) return;\n",
              "\n",
              "          const docLinkHtml = 'Like what you see? Visit the ' +\n",
              "            '<a target=\"_blank\" href=https://colab.research.google.com/notebooks/data_table.ipynb>data table notebook</a>'\n",
              "            + ' to learn more about interactive tables.';\n",
              "          element.innerHTML = '';\n",
              "          dataTable['output_type'] = 'display_data';\n",
              "          await google.colab.output.renderOutput(dataTable, element);\n",
              "          const docLink = document.createElement('div');\n",
              "          docLink.innerHTML = docLinkHtml;\n",
              "          element.appendChild(docLink);\n",
              "        }\n",
              "      </script>\n",
              "    </div>\n",
              "  </div>\n",
              "  "
            ],
            "text/plain": [
              "        lemma  inflection NUM  GEN  RAT  lex_freq  B/S   SING_PATT  \\\n",
              "0       Eamal     >aEomAl  PL    1    0        23    0       1a2a3   \n",
              "1       hadaf     >ahodAf  PL    1    0        16    0       1a2a3   \n",
              "2     EalAqap     EalAqAt  PL    0    0        15    1     1a2A3ap   \n",
              "3  mu&as~asap  mu&as~asAt  PL    0    0        14    1  mu&a2~a3ap   \n",
              "4       EuDow     >aEoDA'  PL    1    1        15    0       1u2ow   \n",
              "\n",
              "      PL_PATT   ROOT  FREQ  \n",
              "0     >a1o2A3  E.m.l    23  \n",
              "1     >a1o2A3  h.d.f    16  \n",
              "2     1a2A3At  E.l.q    15  \n",
              "3  mu&a2~a3At  #.s.s    14  \n",
              "4     >a1o2A'  E.D.#    13  "
            ]
          },
          "execution_count": 77,
          "metadata": {},
          "output_type": "execute_result"
        }
      ],
      "source": [
        "\n",
        "# Label encoder for encoding gender and rational features\n",
        "# 'B' class: 0      'S' class: 1\n",
        "categorical_attr = ['GEN', 'RAT', 'B/S']\n",
        "\n",
        "le = LabelEncoder()\n",
        "#train_csv_filtered[categorical_attr] = train_csv_filtered[categorical_attr].apply(le.fit_transform, axis=0)\n",
        "train_csv[categorical_attr] = train_csv[categorical_attr].apply(le.fit_transform, axis=0)\n",
        "\n",
        "le = LabelEncoder()\n",
        "#dev_csv_filtered[categorical_attr] = dev_csv_filtered[categorical_attr].apply(le.fit_transform, axis=0)\n",
        "dev_csv[categorical_attr] = dev_csv[categorical_attr].apply(le.fit_transform, axis=0)\n",
        "\n",
        "le = LabelEncoder()\n",
        "#test_csv_filtered[categorical_attr] = test_csv_filtered[categorical_attr].apply(le.fit_transform, axis=0)\n",
        "test_csv[categorical_attr] = test_csv[categorical_attr].apply(le.fit_transform, axis=0)\n",
        "\n",
        "#test_csv_filtered.head()\n",
        "test_csv.head()"
      ]
    },
    {
      "cell_type": "code",
      "execution_count": null,
      "metadata": {
        "id": "vx1uEiSrClaD"
      },
      "outputs": [],
      "source": [
        "def getListOfData(dataFrame):\n",
        "  '''\n",
        "  Output type->List : 0:lamma | 1:singular pattern | 2:root |3:inflection | 4:plural pattern | 5:plural type(B/S) | 6:gender | 7:rational | 8:freq | 9:nmberOfRoot\n",
        "  '''\n",
        "  data = [] # 0:lemma | 1:singular pattern | 2:root |3:inflection | 4:plural pattern | 5:plural type(B/S) | 6:gender | 7:rational \n",
        "  data.append(dataFrame['lemma'].tolist())\n",
        "  data.append(dataFrame['SING_PATT'].tolist())\n",
        "\n",
        "  root = dataFrame['ROOT'].tolist()\n",
        "  # delete dot sign(.) in root feature\n",
        "  for i in range(len(root)): \n",
        "    root[i] = root[i].replace(\".\",\"\")\n",
        "    root[i] = root[i].replace(\"#\",\"\")\n",
        "  data.append(root)\n",
        "\n",
        "  data.append(dataFrame['inflection'].tolist())\n",
        "  data.append(dataFrame['PL_PATT'].tolist())\n",
        "  data.append(dataFrame['B/S'].tolist())\n",
        "  data.append(dataFrame['GEN'].tolist())\n",
        "  data.append(dataFrame['RAT'].tolist())\n",
        "  data.append(dataFrame['FREQ'].tolist())\n",
        "\n",
        "  numOfRoot = [len(x) for x in root]\n",
        "  data.append(numOfRoot)\n",
        "\n",
        "  return data\n",
        "\n",
        "trainData = getListOfData(train_csv)\n",
        "devData = getListOfData(dev_csv)\n",
        "testData = getListOfData(test_csv)\n",
        "is_dataOrginal=True"
      ]
    },
    {
      "cell_type": "markdown",
      "metadata": {
        "id": "4MFDQIHuClaE"
      },
      "source": [
        "## **Analyzing Datasets**"
      ]
    },
    {
      "cell_type": "code",
      "execution_count": null,
      "metadata": {
        "colab": {
          "base_uri": "https://localhost:8080/"
        },
        "id": "yJGoQfT1ClaE",
        "outputId": "09f87b6a-8e69-4c48-941c-7355e0f83dcd"
      },
      "outputs": [
        {
          "name": "stdout",
          "output_type": "stream",
          "text": [
            "number of unseen data(lemma) in dev set:  85\n",
            "number of unseen data(lemma) in test set:  78\n",
            "\n",
            "number of unseen data((lemma, inflection) pair) in dev set:  108\n",
            "number of unseen data((lemma, inflection) pair) in test set:  88\n"
          ]
        }
      ],
      "source": [
        "# generate samples of dev/test set which are not in train set\n",
        "# compare with lemma\n",
        "devSetExistence = np.array([lemma in trainData[0] for lemma in devData[0]])\n",
        "testSetExistence = np.array([lemma in trainData[0] for lemma in testData[0]])\n",
        "\n",
        "unseenLemmaIndices_dev = np.where(devSetExistence==False)[0]\n",
        "unseenLemmaIndices_test = np.where(testSetExistence==False)[0]\n",
        "\n",
        "print('number of unseen data(lemma) in dev set: ', np.count_nonzero(devSetExistence==False))\n",
        "print('number of unseen data(lemma) in test set: ', np.count_nonzero(testSetExistence==False), end='\\n\\n')\n",
        "\n",
        "# compare with (lemma, inflection) pair\n",
        "  # first: generate (lemma, inflection) pair in sets\n",
        "trainLemmaInf = np.stack((trainData[0], trainData[3]), axis=-1).tolist()\n",
        "devLemmaInf = np.stack((devData[0], devData[3]), axis=-1).tolist()\n",
        "testLemmaInf = np.stack((testData[0], testData[3]), axis=-1).tolist()\n",
        "\n",
        "devSetExistence = np.array([lemInf in trainLemmaInf for lemInf in devLemmaInf])\n",
        "testSetExistence = np.array([lemInf in trainLemmaInf for lemInf in testLemmaInf])\n",
        "\n",
        "unseenLemInfIndices_dev = np.where(devSetExistence==False)[0]\n",
        "unseenLemInfIndices_test = np.where(testSetExistence==False)[0]\n",
        "\n",
        "print('number of unseen data((lemma, inflection) pair) in dev set: ', np.count_nonzero(devSetExistence==False))\n",
        "print('number of unseen data((lemma, inflection) pair) in test set: ', np.count_nonzero(testSetExistence==False))"
      ]
    },
    {
      "cell_type": "code",
      "execution_count": null,
      "metadata": {
        "id": "5OTbLa3QClaE"
      },
      "outputs": [],
      "source": [
        "# create dataframe for dev set's unseen data\n",
        "    # 0:lemma | 1:singular pattern | 2:root |3:inflection | 4:plural pattern | 5:plural type(B/S) | 6:gender | 7:rational \n",
        "    \n",
        "data_analysis_path = '/content/drive/MyDrive/AI Projects/Arabic Broken Plural/Datasets analysis/'\n",
        "os.makedirs(data_analysis_path, exist_ok=True)  \n",
        "\n",
        "unseenLemmaIndices_dev_df = pd.DataFrame({'index': unseenLemmaIndices_dev,\n",
        "                                           'lemma': np.array(devData[0])[unseenLemmaIndices_dev],\n",
        "                                           'inflection': np.array(devData[3])[unseenLemmaIndices_dev],\n",
        "                                           'pl pattern': np.array(devData[4])[unseenLemmaIndices_dev]})\n",
        "unseenLemmaIndices_dev_df.to_csv(data_analysis_path + 'unseenLemma_dev.csv')\n",
        "\n",
        "\n",
        "unseenLemInfIndices_dev_df = pd.DataFrame({'index': unseenLemInfIndices_dev,\n",
        "                                           'lemma': np.array(devData[0])[unseenLemInfIndices_dev],\n",
        "                                           'inflection': np.array(devData[3])[unseenLemInfIndices_dev],\n",
        "                                           'pl pattern': np.array(devData[4])[unseenLemInfIndices_dev]})\n",
        "unseenLemInfIndices_dev_df.to_csv(data_analysis_path + 'unseenLemInf_dev.csv')"
      ]
    },
    {
      "cell_type": "code",
      "execution_count": null,
      "metadata": {
        "colab": {
          "base_uri": "https://localhost:8080/",
          "height": 270
        },
        "id": "w0Fr3rOaClaE",
        "outputId": "337022d6-6caa-445b-a5db-124f02f19338"
      },
      "outputs": [
        {
          "data": {
            "text/html": [
              "\n",
              "  <div id=\"df-23ce7f7b-44b2-4832-8974-0aae1351f4e4\">\n",
              "    <div class=\"colab-df-container\">\n",
              "      <div>\n",
              "<style scoped>\n",
              "    .dataframe tbody tr th:only-of-type {\n",
              "        vertical-align: middle;\n",
              "    }\n",
              "\n",
              "    .dataframe tbody tr th {\n",
              "        vertical-align: top;\n",
              "    }\n",
              "\n",
              "    .dataframe thead th {\n",
              "        text-align: right;\n",
              "    }\n",
              "</style>\n",
              "<table border=\"1\" class=\"dataframe\">\n",
              "  <thead>\n",
              "    <tr style=\"text-align: right;\">\n",
              "      <th></th>\n",
              "      <th>index</th>\n",
              "      <th>lemma</th>\n",
              "      <th>inflection</th>\n",
              "      <th>pl pattern</th>\n",
              "    </tr>\n",
              "  </thead>\n",
              "  <tbody>\n",
              "    <tr>\n",
              "      <th>0</th>\n",
              "      <td>224</td>\n",
              "      <td>muHaw~il</td>\n",
              "      <td>muHaw~ilAt</td>\n",
              "      <td>mu1aw~i3At</td>\n",
              "    </tr>\n",
              "    <tr>\n",
              "      <th>1</th>\n",
              "      <td>234</td>\n",
              "      <td>mujawohar</td>\n",
              "      <td>mujawoharAt</td>\n",
              "      <td>mu1awo3a4At</td>\n",
              "    </tr>\n",
              "    <tr>\n",
              "      <th>2</th>\n",
              "      <td>283</td>\n",
              "      <td>Haloy</td>\n",
              "      <td>Huliy~</td>\n",
              "      <td>1u2iy~</td>\n",
              "    </tr>\n",
              "    <tr>\n",
              "      <th>3</th>\n",
              "      <td>298</td>\n",
              "      <td>tAriyx</td>\n",
              "      <td>tawAriyx</td>\n",
              "      <td>tawA2iy3</td>\n",
              "    </tr>\n",
              "    <tr>\n",
              "      <th>4</th>\n",
              "      <td>325</td>\n",
              "      <td>$Aliyh</td>\n",
              "      <td>$AliyhAt</td>\n",
              "      <td>NTWSAt</td>\n",
              "    </tr>\n",
              "  </tbody>\n",
              "</table>\n",
              "</div>\n",
              "      <button class=\"colab-df-convert\" onclick=\"convertToInteractive('df-23ce7f7b-44b2-4832-8974-0aae1351f4e4')\"\n",
              "              title=\"Convert this dataframe to an interactive table.\"\n",
              "              style=\"display:none;\">\n",
              "        \n",
              "  <svg xmlns=\"http://www.w3.org/2000/svg\" height=\"24px\"viewBox=\"0 0 24 24\"\n",
              "       width=\"24px\">\n",
              "    <path d=\"M0 0h24v24H0V0z\" fill=\"none\"/>\n",
              "    <path d=\"M18.56 5.44l.94 2.06.94-2.06 2.06-.94-2.06-.94-.94-2.06-.94 2.06-2.06.94zm-11 1L8.5 8.5l.94-2.06 2.06-.94-2.06-.94L8.5 2.5l-.94 2.06-2.06.94zm10 10l.94 2.06.94-2.06 2.06-.94-2.06-.94-.94-2.06-.94 2.06-2.06.94z\"/><path d=\"M17.41 7.96l-1.37-1.37c-.4-.4-.92-.59-1.43-.59-.52 0-1.04.2-1.43.59L10.3 9.45l-7.72 7.72c-.78.78-.78 2.05 0 2.83L4 21.41c.39.39.9.59 1.41.59.51 0 1.02-.2 1.41-.59l7.78-7.78 2.81-2.81c.8-.78.8-2.07 0-2.86zM5.41 20L4 18.59l7.72-7.72 1.47 1.35L5.41 20z\"/>\n",
              "  </svg>\n",
              "      </button>\n",
              "      \n",
              "  <style>\n",
              "    .colab-df-container {\n",
              "      display:flex;\n",
              "      flex-wrap:wrap;\n",
              "      gap: 12px;\n",
              "    }\n",
              "\n",
              "    .colab-df-convert {\n",
              "      background-color: #E8F0FE;\n",
              "      border: none;\n",
              "      border-radius: 50%;\n",
              "      cursor: pointer;\n",
              "      display: none;\n",
              "      fill: #1967D2;\n",
              "      height: 32px;\n",
              "      padding: 0 0 0 0;\n",
              "      width: 32px;\n",
              "    }\n",
              "\n",
              "    .colab-df-convert:hover {\n",
              "      background-color: #E2EBFA;\n",
              "      box-shadow: 0px 1px 2px rgba(60, 64, 67, 0.3), 0px 1px 3px 1px rgba(60, 64, 67, 0.15);\n",
              "      fill: #174EA6;\n",
              "    }\n",
              "\n",
              "    [theme=dark] .colab-df-convert {\n",
              "      background-color: #3B4455;\n",
              "      fill: #D2E3FC;\n",
              "    }\n",
              "\n",
              "    [theme=dark] .colab-df-convert:hover {\n",
              "      background-color: #434B5C;\n",
              "      box-shadow: 0px 1px 3px 1px rgba(0, 0, 0, 0.15);\n",
              "      filter: drop-shadow(0px 1px 2px rgba(0, 0, 0, 0.3));\n",
              "      fill: #FFFFFF;\n",
              "    }\n",
              "  </style>\n",
              "\n",
              "      <script>\n",
              "        const buttonEl =\n",
              "          document.querySelector('#df-23ce7f7b-44b2-4832-8974-0aae1351f4e4 button.colab-df-convert');\n",
              "        buttonEl.style.display =\n",
              "          google.colab.kernel.accessAllowed ? 'block' : 'none';\n",
              "\n",
              "        async function convertToInteractive(key) {\n",
              "          const element = document.querySelector('#df-23ce7f7b-44b2-4832-8974-0aae1351f4e4');\n",
              "          const dataTable =\n",
              "            await google.colab.kernel.invokeFunction('convertToInteractive',\n",
              "                                                     [key], {});\n",
              "          if (!dataTable) return;\n",
              "\n",
              "          const docLinkHtml = 'Like what you see? Visit the ' +\n",
              "            '<a target=\"_blank\" href=https://colab.research.google.com/notebooks/data_table.ipynb>data table notebook</a>'\n",
              "            + ' to learn more about interactive tables.';\n",
              "          element.innerHTML = '';\n",
              "          dataTable['output_type'] = 'display_data';\n",
              "          await google.colab.output.renderOutput(dataTable, element);\n",
              "          const docLink = document.createElement('div');\n",
              "          docLink.innerHTML = docLinkHtml;\n",
              "          element.appendChild(docLink);\n",
              "        }\n",
              "      </script>\n",
              "    </div>\n",
              "  </div>\n",
              "  "
            ],
            "text/plain": [
              "   index      lemma   inflection   pl pattern\n",
              "0    224   muHaw~il   muHaw~ilAt   mu1aw~i3At\n",
              "1    234  mujawohar  mujawoharAt  mu1awo3a4At\n",
              "2    283      Haloy       Huliy~       1u2iy~\n",
              "3    298     tAriyx     tawAriyx     tawA2iy3\n",
              "4    325     $Aliyh     $AliyhAt       NTWSAt"
            ]
          },
          "execution_count": 81,
          "metadata": {},
          "output_type": "execute_result"
        }
      ],
      "source": [
        "unseenLemInfIndices_dev_df.head()"
      ]
    },
    {
      "cell_type": "code",
      "execution_count": null,
      "metadata": {
        "id": "ZSIHXimcClaE"
      },
      "outputs": [],
      "source": [
        "# create dataframe for test set's unseen data\n",
        "unseenLemmaIndices_test_df = pd.DataFrame({'index': unseenLemmaIndices_test,\n",
        "                                           'lemma': np.array(testData[0])[unseenLemmaIndices_test],\n",
        "                                           'inflection': np.array(testData[3])[unseenLemmaIndices_test],\n",
        "                                           'pl pattern': np.array(testData[4])[unseenLemmaIndices_test]})\n",
        "unseenLemmaIndices_test_df.to_csv(data_analysis_path + 'unseenLemma_test.csv')\n",
        "\n",
        "\n",
        "unseenLemInfIndices_test_df = pd.DataFrame({'index': unseenLemInfIndices_test,\n",
        "                                           'lemma': np.array(testData[0])[unseenLemInfIndices_test],\n",
        "                                           'inflection': np.array(testData[3])[unseenLemInfIndices_test],\n",
        "                                           'pl pattern': np.array(testData[4])[unseenLemInfIndices_test]})\n",
        "unseenLemInfIndices_test_df.to_csv(data_analysis_path + 'unseenLemInf_test.csv')"
      ]
    },
    {
      "cell_type": "code",
      "execution_count": null,
      "metadata": {
        "colab": {
          "base_uri": "https://localhost:8080/",
          "height": 288
        },
        "id": "a12IILXmClaE",
        "outputId": "a590f792-35b8-4c97-c17d-f94b57aaa268"
      },
      "outputs": [
        {
          "data": {
            "text/html": [
              "\n",
              "  <div id=\"df-15e34a23-1ce0-4a21-94ad-e6b172fc6415\">\n",
              "    <div class=\"colab-df-container\">\n",
              "      <div>\n",
              "<style scoped>\n",
              "    .dataframe tbody tr th:only-of-type {\n",
              "        vertical-align: middle;\n",
              "    }\n",
              "\n",
              "    .dataframe tbody tr th {\n",
              "        vertical-align: top;\n",
              "    }\n",
              "\n",
              "    .dataframe thead th {\n",
              "        text-align: right;\n",
              "    }\n",
              "</style>\n",
              "<table border=\"1\" class=\"dataframe\">\n",
              "  <thead>\n",
              "    <tr style=\"text-align: right;\">\n",
              "      <th></th>\n",
              "      <th>index</th>\n",
              "      <th>lemma</th>\n",
              "      <th>inflection</th>\n",
              "      <th>pl pattern</th>\n",
              "    </tr>\n",
              "  </thead>\n",
              "  <tbody>\n",
              "    <tr>\n",
              "      <th>0</th>\n",
              "      <td>179</td>\n",
              "      <td>minaS~ap</td>\n",
              "      <td>minaS~At</td>\n",
              "      <td>mi1a2~At</td>\n",
              "    </tr>\n",
              "    <tr>\n",
              "      <th>1</th>\n",
              "      <td>274</td>\n",
              "      <td>muDorib</td>\n",
              "      <td>muDoribiyn</td>\n",
              "      <td>mu1o2i3iyn</td>\n",
              "    </tr>\n",
              "    <tr>\n",
              "      <th>2</th>\n",
              "      <td>312</td>\n",
              "      <td>Eubuw~ap</td>\n",
              "      <td>Eubuw~At</td>\n",
              "      <td>1u2uw~At</td>\n",
              "    </tr>\n",
              "    <tr>\n",
              "      <th>3</th>\n",
              "      <td>339</td>\n",
              "      <td>rafiyqap</td>\n",
              "      <td>rafiyqAt</td>\n",
              "      <td>1a2iy3At</td>\n",
              "    </tr>\n",
              "    <tr>\n",
              "      <th>4</th>\n",
              "      <td>362</td>\n",
              "      <td>sAEidap</td>\n",
              "      <td>sawAEid</td>\n",
              "      <td>1awA2i3</td>\n",
              "    </tr>\n",
              "  </tbody>\n",
              "</table>\n",
              "</div>\n",
              "      <button class=\"colab-df-convert\" onclick=\"convertToInteractive('df-15e34a23-1ce0-4a21-94ad-e6b172fc6415')\"\n",
              "              title=\"Convert this dataframe to an interactive table.\"\n",
              "              style=\"display:none;\">\n",
              "        \n",
              "  <svg xmlns=\"http://www.w3.org/2000/svg\" height=\"24px\"viewBox=\"0 0 24 24\"\n",
              "       width=\"24px\">\n",
              "    <path d=\"M0 0h24v24H0V0z\" fill=\"none\"/>\n",
              "    <path d=\"M18.56 5.44l.94 2.06.94-2.06 2.06-.94-2.06-.94-.94-2.06-.94 2.06-2.06.94zm-11 1L8.5 8.5l.94-2.06 2.06-.94-2.06-.94L8.5 2.5l-.94 2.06-2.06.94zm10 10l.94 2.06.94-2.06 2.06-.94-2.06-.94-.94-2.06-.94 2.06-2.06.94z\"/><path d=\"M17.41 7.96l-1.37-1.37c-.4-.4-.92-.59-1.43-.59-.52 0-1.04.2-1.43.59L10.3 9.45l-7.72 7.72c-.78.78-.78 2.05 0 2.83L4 21.41c.39.39.9.59 1.41.59.51 0 1.02-.2 1.41-.59l7.78-7.78 2.81-2.81c.8-.78.8-2.07 0-2.86zM5.41 20L4 18.59l7.72-7.72 1.47 1.35L5.41 20z\"/>\n",
              "  </svg>\n",
              "      </button>\n",
              "      \n",
              "  <style>\n",
              "    .colab-df-container {\n",
              "      display:flex;\n",
              "      flex-wrap:wrap;\n",
              "      gap: 12px;\n",
              "    }\n",
              "\n",
              "    .colab-df-convert {\n",
              "      background-color: #E8F0FE;\n",
              "      border: none;\n",
              "      border-radius: 50%;\n",
              "      cursor: pointer;\n",
              "      display: none;\n",
              "      fill: #1967D2;\n",
              "      height: 32px;\n",
              "      padding: 0 0 0 0;\n",
              "      width: 32px;\n",
              "    }\n",
              "\n",
              "    .colab-df-convert:hover {\n",
              "      background-color: #E2EBFA;\n",
              "      box-shadow: 0px 1px 2px rgba(60, 64, 67, 0.3), 0px 1px 3px 1px rgba(60, 64, 67, 0.15);\n",
              "      fill: #174EA6;\n",
              "    }\n",
              "\n",
              "    [theme=dark] .colab-df-convert {\n",
              "      background-color: #3B4455;\n",
              "      fill: #D2E3FC;\n",
              "    }\n",
              "\n",
              "    [theme=dark] .colab-df-convert:hover {\n",
              "      background-color: #434B5C;\n",
              "      box-shadow: 0px 1px 3px 1px rgba(0, 0, 0, 0.15);\n",
              "      filter: drop-shadow(0px 1px 2px rgba(0, 0, 0, 0.3));\n",
              "      fill: #FFFFFF;\n",
              "    }\n",
              "  </style>\n",
              "\n",
              "      <script>\n",
              "        const buttonEl =\n",
              "          document.querySelector('#df-15e34a23-1ce0-4a21-94ad-e6b172fc6415 button.colab-df-convert');\n",
              "        buttonEl.style.display =\n",
              "          google.colab.kernel.accessAllowed ? 'block' : 'none';\n",
              "\n",
              "        async function convertToInteractive(key) {\n",
              "          const element = document.querySelector('#df-15e34a23-1ce0-4a21-94ad-e6b172fc6415');\n",
              "          const dataTable =\n",
              "            await google.colab.kernel.invokeFunction('convertToInteractive',\n",
              "                                                     [key], {});\n",
              "          if (!dataTable) return;\n",
              "\n",
              "          const docLinkHtml = 'Like what you see? Visit the ' +\n",
              "            '<a target=\"_blank\" href=https://colab.research.google.com/notebooks/data_table.ipynb>data table notebook</a>'\n",
              "            + ' to learn more about interactive tables.';\n",
              "          element.innerHTML = '';\n",
              "          dataTable['output_type'] = 'display_data';\n",
              "          await google.colab.output.renderOutput(dataTable, element);\n",
              "          const docLink = document.createElement('div');\n",
              "          docLink.innerHTML = docLinkHtml;\n",
              "          element.appendChild(docLink);\n",
              "        }\n",
              "      </script>\n",
              "    </div>\n",
              "  </div>\n",
              "  "
            ],
            "text/plain": [
              "   index     lemma  inflection  pl pattern\n",
              "0    179  minaS~ap    minaS~At    mi1a2~At\n",
              "1    274   muDorib  muDoribiyn  mu1o2i3iyn\n",
              "2    312  Eubuw~ap    Eubuw~At    1u2uw~At\n",
              "3    339  rafiyqap    rafiyqAt    1a2iy3At\n",
              "4    362   sAEidap     sawAEid     1awA2i3"
            ]
          },
          "execution_count": 83,
          "metadata": {},
          "output_type": "execute_result"
        }
      ],
      "source": [
        "unseenLemInfIndices_test_df.head()"
      ]
    },
    {
      "cell_type": "markdown",
      "metadata": {
        "id": "u_hpLQfwE5B2"
      },
      "source": [
        "## **Work On Duplicates**"
      ]
    },
    {
      "cell_type": "code",
      "execution_count": null,
      "metadata": {
        "colab": {
          "base_uri": "https://localhost:8080/"
        },
        "id": "wjehYdq8FCGg",
        "outputId": "b647ed80-31fe-432b-9209-4ec776e80195"
      },
      "outputs": [
        {
          "name": "stdout",
          "output_type": "stream",
          "text": [
            "duplicate indexes has been updated\n",
            "{'Eamal': [0], 'hadaf': [1], 'EuDow': [2, 815, 1619], 'jihAz': [3, 689], 'Hukom': [4], 'EunoSur': [5], 'Haq~': [6], 'maSolaHap': [7], 'Eamaliy~ap': [8], 'farod': [9], 'siEor': [10], '<imokAn': [11], \"<ijorA'\": [12], 'mawoqif': [13], 'jahod': [14], 'quw~ap': [15, 292, 933, 1650, 1827, 1835, 1845], 'EalAqap': [16], 'sabab': [17], 'Sawot': [18], 'qarAr': [19], 'silAH': [20, 394], '>avar': [21], 'Tifol': [22], 'Hadav': [23], 'balad': [24, 102], 'natiyjap': [25], 'Zarof': [26], '{it~iSAl': [27], 'waDoE': [28], 'mu&as~asap': [29], 'TAlib': [30, 674, 1119, 1345, 2715, 2716], 'fikor': [31], 'niZAm': [32, 888, 1138], 'taSoriyH': [33, 1208], '>aroD': [34, 1204], 'tahodiyd': [35], 'dawolap': [36, 453], 'walad': [37], 'mAl': [38], 'baronAmaj': [39], 'yawom': [40], 'ma$oruwE': [41, 1375], 'Had~': [42], 'Taraf': [43], 'mAd~ap': [44], 'SAHib': [45, 2573], '{inotixAb': [46], '$aEob': [47], 'jaw~': [48, 2405], 'maTolab': [49], 'TA}irap': [50], 'HuDuwr': [51], 'minoTaqap': [52], '>ax': [53, 532, 1199], '>usoluwb': [54], 'siyAsap': [55], '$aroT': [56], 'jariymap': [57], '$arikap': [58], 'hajomap': [59], \"mA'\": [60, 1359], 'nA}ib': [61], 'qAEidap': [62], 'HAjap': [63], '>amor': [64, 383], 'Suwrap': [65, 654], 'waraq': [66], 'xidomap': [67], 'qiymap': [68], '{ibon': [69, 437, 735], 'muHAdavap': [70], '$axoS': [71, 1298], '|liy~ap': [72], 'muno$a>ap': [73], 'say~Arap': [74], 'maSodar': [75], 'waziyr': [76, 2040], 'qaDiy~ap': [77], 'xasArap': [78], 'suwq': [79], 'na$AT': [80, 185, 2561], '<isorA}iyliy~': [81], 'maEoluwm': [82], 'tafoSiyl': [83], 'rajul': [84, 1756], 'DAbiT': [85, 553], 'mu$okilap': [86, 183], 'rukon': [87], 'EA}ilap': [88], 'suloTap': [89], 'kitAb': [90], 'qAnuwn': [91], 'taHar~uk': [92], '>amal': [93], 'HAdiv': [94], 'qiboTiy~': [95, 2629], 'Hizob': [96], 'bayAn': [97], '>anoSAr': [98], 'wasaT': [99], 'wilAyap': [100], 'fiylom': [101], 'sAkin': [103], 'kalimap': [104], '{isotivomAr': [105], 'mubArAp': [106], 'dirAsap': [107], 'SAruwx': [108], 'raqom': [109], '{it~ifAq': [110], 'maso&uwl': [111, 969, 971, 1085], 'Earabiy~': [112], 'naba>': [113], '{ijotimAE': [114], \"liqA'\": [115], 'wajoh': [116], 'mufAwaDap': [117], '$ab~': [118], '$a>on': [119, 1350], '{isom': [120, 1260, 1893], '>usotA*': [121, 1463], '>aSol': [122], 'ma$oEar': [123], 'furoSap': [124], 'wasiylap': [125, 1080], 'muhim~ap': [126], 'Hukuwmap': [127], '<irohAbiy~': [128, 1920], 'filasoTiyniy~': [129, 1761, 2503], 'munaZ~amap': [130], 'baHov': [131, 500], 'Eaqod': [132], 'HAkim': [133], 'taZAhurap': [134], 'xabiyr': [135, 1707], 'maxAfap': [136], 'taTaw~ur': [137], 'sabiyl': [138], 'Eadad': [139], 'ra}iys': [140, 1819], 'mawoDuwE': [141, 289], 'qudorap': [142], 'jamoEiy~ap': [143], 'EAmil': [144, 454, 646, 1901, 1904], 'rasom': [145], 'jihap': [146], 'HisAb': [147], 'junodiy~': [148], 'nawoE': [149], 'qiTAE': [150], 'taHoqiyq': [151], 'hayo}ap': [152], 'qA}id': [153, 648, 2676], 'tajoribap': [154], 'tawoSiyap': [155], 'DagoT': [156, 1242], 'maboda>': [157], \"{iEotidA'\": [158], 'maHaT~ap': [159], 'dam': [160, 1606, 2187], 'maxATir': [161], 'xaTowap': [162, 382, 1702], 'madiynap': [163, 2464], 'daEowap': [164], 'manozil': [165], 'muHAwalap': [166, 1781], 'muEad~': [167], 'xabar': [168], 'madorasap': [169], 'yahuwdiy~': [170], 'faSiyl': [171], '$iEAr': [172], 'Tariyq': [173, 1066], 'waHodap': [174, 1932], \"Eibo'\": [175], 'Harakap': [176], '$akol': [177], '<iSolAH': [178], 'taSar~uf': [179], 'sahom': [180], 'xilAf': [181], 'miEoyAr': [182], '>um~ap': [184], 'xaT~': [186], 'nAs': [187], 'daliyl': [188, 838], 'ra>oy': [189, 1623], '$ahiyd': [190, 2093, 2097], 'rAkib': [191], 'masiyHiy~': [192, 952, 2190], 'musolim': [193, 1254], 'ramoz': [194], 'maSoraf': [195], 'marokaz': [196], 'muwATin': [197, 389, 2594], 'mulAHaZap': [198], 'jamAEap': [199], 'sAEap': [200], 'Euquwbap': [201], 'riHolap': [202], 'tadobiyr': [203], 'munAqa$ap': [204], 'qaSiydap': [205], 'ra>os': [206], 'maso&uwliy~ap': [207, 2188], 'yad': [208, 1658, 1706, 2000], 'qalob': [209], 'taSofiyap': [210], '>azomap': [211], 'EAlim': [212], '>asAs': [213], 'xuT~ap': [214], '{it~ihAm': [215], 'firoqap': [216], 'riboH': [217], 'Haliyf': [218, 996, 1398], \"nisA'\": [219, 2653, 2655], 'xaTa>': [220], 'lajonap': [221], 'Harob': [222], 'lawon': [223], 'SAdir': [224], 'Hamolap': [225], 'mujotamaE': [226], '$ajarap': [227], 'banod': [228], \"dawA'\": [229], 'musAEadap': [230], 'dAfiE': [231], 'munotaj': [232], 'muwAjahap': [233], 'EA}id': [234], 'mumArasap': [235], 'EaroD': [236], 'Darar': [237], 'musotawoTanap': [238], 'mutamar~id': [239, 2567], 'Sadiyq': [240, 457, 753], '<isolAmiy~': [241, 1949], '{inotihAk': [242], 'fAEiliy~ap': [243], 'manohaj': [244], 'SaHiyfap': [245], '<iyrAd': [246], 'taZAhur': [247], '>awolawiy~ap': [248, 2070], 'qiyAdap': [249], '<iEolAn': [250], 'tAjir': [251], 'milaf~ap': [252], 'qADiy': [253], '>amoriykiy~': [254, 539, 1505, 1506, 2150], 'nuqoTap': [255], 'baTal': [256, 2304], '$abakap': [257, 368], 'lAji}': [258, 2389], 'muHAmiy': [259, 1040], 'Haqiyqap': [260], 'naS~': [261], 'mawoqiE': [262], 'bAb': [263], 'makAn': [264, 1649], 'waqiyEap': [265], 'taqoriyr': [266], 'maHokamap': [267], 'Darobap': [268], 'ji*or': [269], 'majomuwEap': [270], 'sanap': [271, 790], 'lubonAniy~': [272], 'maqoEad': [273], 'dayon': [274], 'musotavomir': [275, 2808], 'Hulom': [276], 'Tabaqap': [277], 'muwASafap': [278], 'muxay~am': [279], 'muEoTaY': [280], 'katiybap': [281], 'HAlap': [282], 'bayot': [283, 1116, 2335], 'kam~iy~ap': [284], 'mivol': [285], 'maworid': [286], 'mawoEid': [287], 'qaroD': [288], 'Eayon': [290, 637, 2635], 'dab~Abap': [291], 'jiyl': [293], 'jAmiEap': [294], 'Ealam': [295], 'faranosiy~': [296], 'Hal~': [297], 'tadoriyb': [298], \"<iHoSA'\": [299], 'waEod': [300], '>usobuwE': [301], '>ahol': [302, 2165, 2166], '{iqotirAH': [303], 'tanoZiym': [304], 'zaEiym': [305, 1615], 'ta$oriyE': [306], 'taEowiyD': [307], 'tuhomap': [308], 'tilomiy*': [309, 912, 913, 1971], 'tay~Ar': [310], '{ihotimAm': [311], 'maroHalap': [312], 'dA}irap': [313], 'dAr': [314, 388], 'damoE': [315], 'qiToEap': [316], 'Easokariy~': [317, 1815], 'maqAl': [318], 'xiyAr': [319], '$axoSiy~ap': [320], 'majozarap': [321], 'majAl': [322], '{iHotifAl': [323], '>ufuq': [324], '{iHotimAl': [325], '>um~': [326, 2059], '$ugol': [327], 'DaHiy~ap': [328], 'taTal~uE': [329], 'SuEuwbap': [330], 'tawaq~uE': [331, 1954], 'Hay~': [332], 'SaHAfiy~': [333, 2802], 'SalAp': [334], 'mura$~aH': [335, 337, 2852, 2854], 'varowap': [336], 'munotaxab': [338], 'munAwarap': [339], 'mu&a$~ir': [340], 'namaT': [341], 'TA}ifap': [342], 'wafod': [343], '<ilof': [344], 'waviyqap': [345, 2037], 'wikAlap': [346, 1584], 'maEonawiy~': [347], 'mu&otamar': [348], 'risAlap': [349], 'masoEaY': [350, 1084], 'maEolam': [351], \"juzo'\": [352, 1373], 'funoduq': [353], 'sA}iH': [354, 1879], '{isotiTolAE': [355], '{imotiHAn': [356], '{isotiEodAd': [357], '$Ahid': [358], '|lap': [359], '*ikoraY': [360], 'minoHap': [361], 'xuTobap': [362], '<imArap': [363], '>aromaniy~': [364], 'kAtib': [365], 'mubAdarap': [366], 'TumuwH': [367], 'bAHiv': [369], 'muHADarap': [370], 'qanAp': [371, 2622], '<iSobaE': [372], 'mu$Arik': [373, 2346], '<iSAbap': [374], 'muEad~al': [375], 'kitAbap': [376], 'Tabiyb': [377], 'baladiy~ap': [378], 'balodap': [379], 'tadAEiy': [380], 'lAEib': [381, 499, 1299, 1454], 'mu$Awarap': [384], 'muhanodis': [385, 2757], 'say~idap': [386], 'kAhin': [387], 'muwaZ~af': [390, 562, 1443, 1449, 1466], 'siloEap': [391], 'muxaT~aT': [392], 'mutaZAhir': [393], 'nAr': [395], 'jaziyrap': [396], 'musotawaY': [397], 'vAbitap': [398], 'taqoniy~ap': [399], 'Saf~': [400], 'su&Al': [401, 2103], 'Dariybap': [402], 'jA}izap': [403], 'SinAEap': [404, 2828], 'sik~ap': [405], 'wAjib': [406], 'munAsabap': [407], 'nafas': [408], 'sifArap': [409], 'mumotalak': [410], 'mumav~il': [411, 412, 1348], '<inojAz': [413], 'EAm': [414], 'EunowAn': [415], 'qayod': [416], 'ziyArap': [417], 'taHaw~ul': [418], 'diroE': [419], 'diyn': [420], '$ayox': [421, 1394], 'manoSib': [422], 'makotab': [423], 'garaD': [424], 'rAbiTap': [425, 608], 'mafohuwm': [426], '>unomulap': [427], 'EaqAr': [428], 'madaniy~': [429], 'mabolag': [430], 'mabiyE': [431], 'maZohar': [432], 'fi}ap': [433], '{ilotizAm': [434], 'ma>osAp': [435], 'rahiynap': [436], 'maEoriD': [438], 'taEobiyr': [439], 'Eaduw~': [440, 976, 1390], 'maEorakap': [441], 'ruwH': [442], 'taEad~iy': [443], 'rifoqap': [444], 'gAyap': [445], 'taEoziyz': [446], 'tasowiyap': [447], 'zA}ir': [448, 1641], 'maso>alap': [449], '$ahor': [450, 1029], 'masiyrap': [451], 'daqiyqap': [452], '$AEir': [455], '{iHotiyATiy~': [456], 'Sador': [458], '$ariyT': [459, 1420, 2135], 'maSonaE': [460], 'murAqib': [461, 1565], '{iHotikAr': [462], 'faroE': [463], 'SidAm': [464], 'muqad~as': [465], 'faqiyr': [466], '*axiyrap': [467], 'fatorap': [468], 'jumohuwr': [469], 'musotawoTin': [470, 2804, 2805, 2806], '{inotiqAd': [471], 'Hiyn': [472], 'tawojiyh': [473, 1961], \"{inotimA'\": [474], '*A': [475, 1672, 1673], 'muvaq~af': [476, 2596], 'mut~aham': [477], 'Hur~iy~ap': [478], 'mutafaj~ir': [479], '$Ab~': [480], 'mawoTin': [481], 'jalosap': [482], 'mutaTal~ab': [483], 'lAfitap': [484], 'xiborap': [485], 'jAr': [486], 'dibluwmAsiy~': [487, 1010, 2198], 'Sunoduwq': [488], 'maToEam': [489], 'xaSom': [490, 1688], 'muSad~ir': [491], '{inoEikAs': [492], '<idArap': [493], '<iTAr': [494, 1642], 'kabiyr': [495], '{iDoTirAb': [496], 'muEotaqal': [497, 2296, 2297], 'maraD': [498], 'muEaw~iq': [501], 'kurodiy~': [502], 'muDAEafap': [503], 'muEAriD': [504, 583, 2271], 'mubAHavap': [505], '$ak~': [506], 'dawor': [507], 'faE~Aliy~ap': [508], 'kul~iy~ap': [509], 'fan~An': [510, 1684, 2468], 'biDAEap': [511], '<i$Arap': [512], 'zamiyl': [513, 639, 1780], 'TAqap': [514], 'mukaw~in': [515], 'xaTar': [516], 'majolis': [517], 'wadiyEap': [518, 1939], 'fiEol': [519], 'fA}idap': [520], '<i*AEap': [521], 'sir~': [522], 'mirofaq': [523], 'TamaE': [524], 'Eilom': [525], 'taHo*iyr': [526], 'takoliyf': [527, 882], 'taHad~iy': [528], 'taDoHiyap': [529], 'taHaf~uZ': [530], 'qunobulap': [531], '>alam': [533], 'namuw*aj': [534], '>adab': [535], 'qA}imap': [536], 'safiyr': [537], 'nAdiy': [538, 661], 'EibArap': [540], 'taHoDiyr': [541], 'sijon': [542], 'niqAbap': [543], 'nafos': [544, 1419], '>adAp': [545], 'sanad': [546], 'sajiyn': [547], '>aqorab': [548], 'tarotiyb': [549], 'ta>oviyr': [550], 'niy~ap': [551, 892], 'taEoliyq': [552], 'tasA&ul': [554], 'rafiyq': [555], 'raSiyd': [556], '>ugoniyap': [557, 1542, 2063, 2065], '>ajonabiy~': [558], 'rAtib': [559], 'Eamiyl': [560, 1186], 'taEodiyl': [561], 'Dayof': [563], 'siyAsiy~': [564, 1491], 'tagoyiyr': [565], 'Eumor': [566], '<ifAdap': [567], 'tajam~uE': [568], 'muEal~im': [569, 896, 1766], 'kurap': [570], 'miyliy$iyA': [571], 'EASimap': [572], 'misAHap': [573], 'Eumoq': [574], 'muSaw~ir': [575, 2740], 'buEod': [576], 'qadiym': [577], 'muHar~ik': [578], '>amiyr': [579], 'mu$otaq~': [580], 'bArijap': [581], 'kaniysap': [582], 'badiyl': [584], 'kasor': [585], 'gurofap': [586], 'tajAwuz': [587], 'HAjiz': [588], 'wasiyT': [589], 'EASifap': [590], 'muHaq~iq': [591], 'mu*ak~irap': [592], \"{id~iEA'\": [593], 'wizArap': [594], 'HaDArap': [595], 'Eurof': [596], 'HAl': [597], 'miSoriy~': [598, 2327], '$A$ap': [599], 'kutolap': [600], 'xir~iyj': [601, 821], 'sA}iq': [602, 1157, 1915], 'ma$ohad': [603], 'malomaH': [604], 'malobas': [605], 'malik': [606], 'makosab': [607], 'rAhibap': [609], '{iEotiqAl': [610], 'taEoziyap': [611], '>unobuwb': [612], 'madoxuwl': [613], '{iEotirAf': [614], 'rA}id': [615, 1856], 'fan~': [616], 'taEoyiyn': [617], 'taEAmul': [618], 'maTar': [619], 'faraH': [620], 'riwAyap': [621], 'fataY': [622], 'gArap': [623], 'diymuqrATiy~': [624], 'diyAnap': [625], 'dalAlap': [626], 'qamar': [627], 'qaroyap': [628, 974, 2609], 'qawol': [629, 1582], '>usorap': [630], '>usoquf': [631], 'matAEib': [632], 'EirAqiy~': [633], 'lA}iHap': [634], 'lagom': [635], 'darajap': [636], 'daros': [638], 'zar~AE': [640], 'daworap': [641], '$ahAdap': [642], 'liybirAliy~': [643], 'mar~ap': [644], '{i$otibAk': [645], 'muSoTAf': [647], '$AriE': [649], 'SalAHiy~ap': [650], '{it~iHAd': [651], 'wahom': [652], 'Talab': [653], '{isotixobAr': [655], 'tamoriyn': [656], 'jayo$': [657], 'mujorim': [658, 2707], 'mutaTaw~iE': [659], 'jayob': [660], 'mutaEAmil': [662], 'muta$ad~id': [663], 'Hadiyv': [664], 'TAri}ap': [665], 'vugorap': [666, 1923], 'taqoliyd': [667], 'huwiy~ap': [668], 'Safoqap': [669], 'najom': [670], 'SafoHap': [671], '<iyqAE': [672], 'vamar': [673], 'hutAf': [675], 'Hakam': [676], 'musota$ofaY': [677], 'jidAr': [678], 'nafaqap': [679], 'muhAjir': [680], 'juroH': [681, 1302], 'muhAjim': [682, 2760], '<iyjAbiy~': [683], 'TaroH': [684], 'tawAzun': [685], 'nA$iT': [686, 1161], 'jawAb': [687], 'jawolap': [688], '>uwlA}ika': [690], 'jAnib': [691], 'DamAn': [692], 'DamAnap': [693], 'juv~ap': [694], 'Hariyq': [695], 'nihA}iy~': [696], 'Taqos': [697], '{it~ijAh': [698], 'saEuwdiy~': [699, 1861], 'murAsil': [700, 2855, 2857], 'Haqol': [701], 'mAruwniy~': [702], 'maqoTaE': [703], 'taqodiymAt': [704], 'lawoH': [705], 'quTor': [706], 'darob': [707], '>ab': [708, 1407, 2126], 'lawoHap': [709], 'taqodiyr': [710], 'qisoT': [711], 'murotakib': [712, 1545, 2820], 'musal~aH': [713], 'EAqibap': [714], 'marojiE': [715], 'Saqor': [716], '>awojuh': [717], 'jabal': [718], 'musAhamap': [719], 'marosam': [720], 'EiSAbap': [721], 'musAbaqap': [722], 'safiynap': [723], 'musotalozam': [724], '>uwrub~iy~': [725, 1438, 2106], 'naSiyHap': [726], 'faroq': [727], '{ixotibAr': [728], '$ariyk': [729, 1276, 2137], 'muxotabar': [730], 'maSoruwf': [731], 'muxAlafap': [732], 'taEoqiyd': [733], 'EalAmap': [734], 'fatAp': [736], 'Hayoviy~ap': [737], 'taEoliym': [738, 740], 'maHal~': [739, 926], 'maEorifap': [741], 'taEah~ud': [742], 'fayaDAn': [743], 'maEoniy~': [744], 'maEonaY': [745], '{iHotijAj': [746], '>uSuwliy~': [747, 2066], 'Harof': [748, 1155], 'zamAn': [749, 1938], 'duwlAr': [750], 'manoduwb': [751, 935, 2260], 'Earoqalap': [752], 'musotanad': [754], 'taro$iyH': [755], 'turokiy~': [756, 1979], 'sAHap': [757], 'fAtuwrap': [758], 'mutaTar~if': [759, 1484], 'EaSab': [760], 'musotaworid': [761, 1465, 2803], 'musotaxodam': [762, 2778], '{ikoti$Af': [763], '>u*un': [764], 'mahorajAn': [765], 'maham~ap': [766], 'faHoS': [767], '>asiyr': [768, 1567], 'EaZom': [769], '{iqotiSAd': [770], \"<ino$A'\": [771], 'tagay~ur': [772], 'wisAm': [773], 'qAtil': [774, 2679], '<iDorAb': [775], 'banok': [776], 'suwriy~': [777], 'HAfilap': [778], '{iqotiSAdiy~': [779, 2085, 2088], 'mu&omin': [780], 'munAfasap': [781], 'mu&al~af': [782], 'waZiyfap': [783], 'Hafolap': [784], 'qim~ap': [785], 'Euqob': [786], 'Eumuwm': [787], 'biTAqap': [788], 'najAH': [789], 'ham~': [791], 'niEomap': [792], 'baH~Arap': [793], \"nidA'\": [794], 'muSal~iy': [795], 'mubar~ir': [796], 'Zil~': [797], 'mudAfiE': [798], 'nisobap': [799], 'muHal~il': [800], 'hayokal': [801], 'muHAfiZ': [802], 'muHAfaZap': [803], 'kAdir': [804], 'muHADir': [805], 'ba*or': [806], 'nizAE': [807], 'nufAyap': [808], 'muEotaqad': [809], '>ajiyr': [810], 'mu$Ahid': [811, 2348], 'mu&Amarap': [812], 'miydAliyap': [813], 'Haqiybap': [814], '$uEAE': [816], '*At': [817], 'mawoquwf': [818], 'tanAzul': [819], '<i$AEap': [820], 'naZar': [822], 'miHowar': [823], 'salobiy~': [824], 'tasohiyl': [825], 'muqAtil': [826, 829, 2832], 'SirAE': [827], 'matoHaf': [828], 'jisor': [830], \"Dawo'\": [831], 'maziy~ap': [832], 'laHoZap': [833], 'muqiym': [834], 'mitor': [835, 2312], 'wArid': [836, 1929], 'Eumolap': [837], 'milok': [839], 'Daruwrap': [840], 'bi}or': [841], '*ihon': [842], 'jariyH': [843], 'mifotAH': [844], 'midofaE': [845], 'muTorAn': [846], 'munaf~i*': [847, 1523], 'buTuwlap': [848], 'kalob': [849], 'maEomal': [850], '{isotiHoqAq': [851], 'jar~Afap': [852], 'laqab': [853], 'say~id': [854, 1235], '{igotiyAl': [855], \"{ifotirA'\": [856], '{ixotiSAS': [857], 'sulaHofAp': [858], 'ma>orab': [859], 'jumohuwriy~': [860], 'kulowap': [861, 2360], 'jumoruk': [862], 'ma*obaHap': [863], '{inoqisAm': [864], 'junod': [865], '{isoti$Arap': [866], 'maEohad': [867], 'ta$okiyl': [868], 'maEAbid': [869], '{isotinotAj': [870], '{isoti$ohAdiy~': [871], 'kuwayotiy~': [872], 'kuwbiy~': [873], 'sayof': [874], 'muwAzanap': [875], 'rihAn': [876], 'wAfid': [877], 'nagom': [878], 'waHol': [879], 'mulAbasap': [880], 'mukab~ir': [881], 'mujam~aE': [883], 'mufat~i$': [884, 1413], 'mufAwiD': [885, 1416], 'tajohiyz': [886], 'wakiyl': [887, 1982], 'mudAwalap': [889], 'waqof': [890], 'waqot': [891], 'muHAkamap': [893], 'wijohap': [894], 'muEasokar': [895], 'qAr~ap': [897], 'muEAmalap': [898], 'nadowap': [899], 'naZariy~ap': [900], 'muDAd~': [901], 'muqATaEap': [902], 'tawaj~uh': [903], 'muwjib': [904], 'tawat~ur': [905], 'muxAbarap': [906], 'muxotAr': [907, 2535], 'tilofizyuwn': [908], 'mutagay~ir': [909], 'mutafar~ij': [910], 'nASiriy~': [911], 'nAxib': [914, 1410, 1429], 'valAviyn': [915], 'musAhim': [916, 2793], 'vaqAfap': [917], 'muqotaraH': [918], 'taqal~ub': [919], 'muqar~ar': [920], 'muqad~imap': [921], 'muqAwil': [922], 'muqAtilap': [923], 'muEAlajap': [924], 'mu&otamir': [925], 'marokabap': [927], '{i$otirAk': [928], 'mariyD': [929], 'maqohaY': [930, 1686], 'maqoTuwEap': [931], 'maqar~': [932, 2251], '{iEotibAr': [934], 'mano$uwr': [936, 2247], 'taHAluf': [937], '{iEotimAd': [938], 'majoraY': [939, 940, 1662], 'rAqiS': [941, 1177], '{iEotirAD': [942], 'ra$~A$ap': [943], 'raEiy~ap': [944], 'rad~': [945, 1853], '{iHotiyAT': [946, 1417], 'ragobap': [947], 'maHoDar': [948], 'quTob': [949], 'masAr': [950], 'mu$otarik': [951, 2334], 'qa*iyfap': [953], 'tabar~uE': [954], 'miyvAq': [955], 'qadam': [956], 'qalam': [957], 'xalofiy~ap': [958], 'mawojap': [959], 'mawohibap': [960], 'taHowiyl': [961], 'matojar': [962], 'qay~im': [963], 'taHoliyl': [964, 2073], 'masolak': [965], 'masokan': [966], 'masojid': [967], 'zabuwn': [968], 'qinAE': [970, 2648], 'qisom': [972], 'zujAjap': [973], '|yap': [975], '>us~': [977], 'Eamiyd': [978], 'Eahod': [979], 'dar~Ajap': [980], '>aqal~iy~ap': [981], 'bidAyap': [982], '<iSolAHiy~': [983], 'HAxAm': [984], '<iqoliym': [985], 'hinoduwsiy~': [986], 'dAEiy': [987, 1588, 1590], 'HiS~ap': [988], '$akowaY': [989], '<inos': [990], 'Sifap': [991], \"$ayo'\": [992], 'diEomap': [993], 'Hajar': [994, 1143], 'fiyliyb~iyniy~': [995], 'Haloqap': [997], 'EaSor': [998], 'EAzif': [999], '<ijAbap': [1000], '<ijAzap': [1001], 'bunoduqiy~ap': [1002], 'bu&orap': [1003], 'Tariyqap': [1004], 'briyTAniy~': [1005], '<iyrAniy~': [1006], '$atiymap': [1007], '$awoT': [1008], '$ubohap': [1009], 'Hur~': [1011], 'Tabol': [1012], 'fAn': [1013], '>amiyn': [1014, 2152], '$aqiyq': [1015, 1021], 'Eiborap': [1016], 'DiEof': [1017], '$ATi}': [1018], '>uxot': [1019], 'bAqiy': [1020, 1774], '$AHinap': [1022], 'faSol': [1023], '*akar': [1024], 'Eayob': [1025], 'Eaqabap': [1026], 'EA}iq': [1027], '$Ab~ap': [1028], 'HAfiz': [1030], 'HiwAr': [1031], 'bAS': [1032], 'bAkistAniy~': [1033], 'Talaq': [1034], '$Ahidap': [1035], 'Eamuwd': [1036], 'badal': [1037], 'jadowal': [1038], '*ariyEap': [1039], 'muHotarif': [1041, 1388, 1574], 'ZAhirap': [1042], 'tawoZiyf': [1043], 'muHotAj': [1044], 'tasojiyl': [1045], 'taroxiyS': [1046], '<iyTAliy~': [1047], '<iyDAH': [1048], 'Turobiyd': [1049], 'muforadAt': [1050], 'takah~un': [1051], 'mukotasab': [1052], 'mujotamiE': [1053, 2705], 'TaEon': [1054], 'tamoriyrap': [1055], 'mujAhid': [1056, 2734, 2735], 'tanAquD': [1057], 'muhar~ib': [1058], 'Talaqap': [1059], 'mugotarib': [1060, 2762], 'taqodiym': [1061], 'TaloEap': [1062], 'muTAlib': [1063], 'mufak~ir': [1064], '>aEolAm': [1065], 'mufAja>ap': [1067], 'muEotaSim': [1068], 'mud~aEiy': [1069], 'mudiyr': [1070, 1422, 1423, 2772], 'mudar~is': [1071], 'mudar~ib': [1072, 2774], 'mudar~aEap': [1073], 'mudAxalap': [1074], 'tawoqiyf': [1075], \"binA'\": [1076], 'tayosiyr': [1077], 'baSomap': [1078], 'buwroSap': [1079], 'mawokib': [1081], 'buwsoniy~': [1082, 1610], 'watar': [1083], 'marosuwm': [1086], 'marofa>': [1087], 'xA}in': [1088], 'dufoEap': [1089], 'maqoSuwrap': [1090], 'xaTiyb': [1091], 'xaTiy}ap': [1092], 'manosuwj': [1093], '<i$oEAE': [1094], 'manofa*': [1095], 'malomas': [1096], 'xariyTap': [1097], 'maloEab': [1098], 'xaroq': [1099], 'fA}iD': [1100], 'fa>or': [1101], 'xayorap': [1102], 'majod': [1103], 'buwq': [1104], 'buwayoD': [1105], 'mawosim': [1106], \"miynA'\": [1107], '<itoniy~ap': [1108], 'muEal~iq': [1109], '<isotuwdiyuw': [1110], 'timovAl': [1111], 'baqar': [1112], 'muDArabap': [1113], 'variy~': [1114], 'vaworap': [1115], 'biloyuwn': [1117], 'miyzAn': [1118], 'waro$ap': [1120, 2026], 'binot': [1121], 'mivAl': [1122], '<ino*Ar': [1123], 'binoyap': [1124, 1128, 1784, 2315], 'mirowaHiy~ap': [1125, 2314], 'miqoyAs': [1126], 'minobar': [1127], 'wajobap': [1129], 'mazoEamap': [1130], '<ihAnap': [1131], '>afogAniy~': [1132], 'muqAwalap': [1133], 'tajA*ub': [1134], 'Ead~Ad': [1135], \"Ead~A'\": [1136, 1828], 'rawoDap': [1137], 'Hab~': [1139, 1573], 'naqoD': [1140], 'Hadiyqap': [1141], 'nakobap': [1142], 'riyH': [1144], 'ruwsiy~': [1145], 'ruxoSap': [1146], 'Ham~Am': [1147], 'Haraj': [1148], 'Harobap': [1149], 'naHow': [1150], 'naEot': [1151], 'sAbiqap': [1152], 'na$orap': [1153], 'na$iyT': [1154], 'nAziH': [1156], 'HayawAn': [1158], 'nA$ir': [1159], 'saToH': [1160], 'saboEiyn': [1162], 'Ha$od': [1163], 'ramol': [1164], 'muxad~ir': [1165], 'nuxobap': [1166], 'quboruSiy~': [1167], 'rAEiy': [1168, 1834], 'Earabap': [1169], 'EaraD': [1170], 'rAdAr': [1171], 'rAfidap': [1172], 'rAgib': [1173], 'Eaqol': [1174], 'Eaqiydap': [1175], 'qiS~ap': [1176], 'qatiyl': [1178], 'qariynap': [1179], 'EaqArib': [1180], 'Eu$ob': [1181], 'Eu*or': [1182], 'qabiylap': [1183], 'qaDiyb': [1184], 'Eunoq': [1185], 'qA}im': [1187], 'qAsim': [1188], 'HAj~': [1189], 'qAri}': [1190], 'HAmil': [1191], 'qAEap': [1192], 'HAris': [1193], 'muxal~af': [1194], 'HikAyap': [1195], 'tahoni}ap': [1196], 'musAEid': [1197, 1540, 2796, 2797], '>axolAqiy~': [1198], '>atoEAb': [1200], \">arojA'\": [1201, 2076], 'taHosiyn': [1202], 'murAfiq': [1203, 2841], 'muqotaDaY': [1205], 'muqaw~im': [1206], 'muqar~ab': [1207], 'Silap': [1209], 'muqAwim': [1210], 'taTobiyq': [1211], 'faHol': [1212], 'muqAranap': [1213], 'muqAbalap': [1214], 'Siygap': [1215], 'munotij': [1216, 1217], 'munotaqid': [1218, 1430], 'tadaf~uq': [1219], 'tadax~ul': [1220], 'munaZ~im': [1221, 2718, 2719], 'tafAEul': [1222], 'tafojiyr': [1223], 'tafosiyr': [1224, 1336], '>uToruwHap': [1225], 'musAfir': [1226, 2794, 2795], 'sam~': [1227], 'ta>o$iyr': [1228], 'EATifap': [1229], 'EA$iq': [1230, 1818, 1837], 'HizAm': [1231], 'Huforap': [1232], 'Huj~ap': [1233], 'sariqap': [1234], 'DiloE': [1236], 'mutanAfis': [1237], 'sijil~': [1238], 'DayoEap': [1239], 'Huwt': [1240], 'sik~iyn': [1241], 'mutaEav~ir': [1243], 'mutaEAqid': [1244], 'musotawodaE': [1245], 'suHub': [1246], 'SaHon': [1247], 'musotawoEib': [1248], 'suk~An': [1249], 'SadaY': [1250], 'musotaholik': [1251, 2816], 'tAbiE': [1252], 'musota$Ar': [1253, 1450], 'musin~': [1255, 1453, 2784], 'mahArap': [1256], 'Eatabap': [1257], '$ahowap': [1258], '$iy$Aniy~': [1259, 1936], 'madofuwE': [1261], 'kas~Arap': [1262], 'jaras': [1263], 'gariyzap': [1264], 'jAniy': [1265], 'lamosap': [1266], 'ziy~': [1267], 'junayoh': [1268], 'hAjis': [1269], 'maTAr': [1270], 'haziymap': [1271], '{irotibAT': [1272], 'jumuwE': [1273], 'jinosiy~ap': [1274], 'jasad': [1275], '{imotiyAz': [1277], 'laHom': [1278], '{isotifozAz': [1279], 'kaniys': [1280], '$uhuwd': [1281], 'had~Af': [1282, 1445], 'yanobuwE': [1283], 'jumolap': [1284], 'zaworaq': [1285], '$ilow': [1286, 1934], '$uguwr': [1287], 'yamaniy~': [1288], 'fuwTap': [1289], '{ixotilAf': [1290], 'madoxal': [1291], 'zuqAqiy~': [1292], '{inofiEAl': [1293], '{iEotiSAm': [1294], 'kiyluwmitr': [1295], 'kiyAn': [1296], 'liyf': [1297], 'kArivap': [1300], 'gAziy': [1301], '{ijotiyAH': [1303], 'maHoruwq': [1304], 'ziyAdap': [1305], 'xurAfap': [1306], 'mafoEuwl': [1307], 'ma*ohab': [1308], 'jinAyap': [1309], 'maTomaE': [1310], 'mAniE': [1311], 'fariyq': [1312, 1630], '$A}ibap': [1313], '{ibotisAmap': [1314], \"EaTA'\": [1315], 'EaDalap': [1316], 'Hamalap': [1317], 'naZiyr': [1318, 2553, 2554, 2555], '>adabiy~At': [1319], 'TaEAm': [1320], 'hawaY': [1321], 'EaSabap': [1322], 'kAmirA': [1323], 'gAz': [1324], '{isotijowAb': [1325], 'mujan~is': [1326], 'taman~iy': [1327], 'gAbap': [1328], 'liybiy~': [1329], 'mukav~if': [1330], 'tajAEiyd': [1331], 'muna$~iT': [1332], 'munAx': [1333, 2721], '$aEiyrap': [1334], 'nAziy~': [1335], 'liyrap': [1337], '>akAdiymiy~': [1338], 'Haroq': [1339], 'munAhiD': [1340, 2729, 2730], 'munAfis': [1341], 'munASir': [1342, 2732], 'lugap': [1343], 'munADil': [1344], 'takotiyk': [1346], 'mumay~izap': [1347], 'mumar~iD': [1349], '>aforiyqiy~': [1351], 'mA$iy': [1352], 'Talal': [1353], 'muloHaq': [1354, 2696], '$a*~': [1355], 'mA$iyap': [1356], 'sAHil': [1357], 'TAqim': [1358], 'mAlik': [1360, 2493, 2494, 2495], 'fuwh': [1361], 'mAliyziy~': [1362], 'Tay~Ar': [1363, 1372], 'muSoTalaH': [1364], '{isotinAbap': [1365], 'Hafiyd': [1366], 'riwAq': [1367], 'Tay~ap': [1368], 'muZAharap': [1369], 'mubAdalap': [1370], 'muhan~i}': [1371], 'tarobawiy~': [1374], 'muboEad': [1376], 'mubodiE': [1377], 'Tun~': [1378], '<iyjAr': [1379], 'muSan~iE': [1380], 'tarotiylap': [1381], 'naqiyb': [1382], 'Eabowap': [1383], 'hibap': [1384], 'muSAdamap': [1385], 'muHotawaY': [1386], 'Eadasap': [1387], 'tasoriyb': [1389], \"<iyHA'\": [1391], 'muHotajaz': [1392], 'tawag~ul': [1393], 'mubotadi}': [1395], 'tarad~ud': [1396], 'Taw~Afap': [1397], '>abora$iy~': [1399], 'rubuwE': [1400], 'rubuE': [1401], 'nabiy~': [1402, 2548], 'ru&aY': [1403, 1404], 'hawol': [1405], 'rizoq': [1406], 'mugAlaTap': [1408], 'mufotaraq': [1409], 'nafaq': [1411], 'kAfir': [1412], '$ar~': [1414], '{iHotiyAj': [1415], 'taqoniy~': [1418, 2130], 'Hakiym': [1421], 'frAnokuwfuwniy~': [1424], 'Hajom': [1425], 'nahor': [1426, 2608], 'kAbuws': [1427], 'mudar~aj': [1428], '{ijotihAd': [1431], 'muwak~il': [1432], 'kanoz': [1433], '{inosiHAb': [1434], 'muwdiE': [1435], 'muwal~id': [1436], 'musotaqobil': [1437, 2810], 'gulAp': [1439], '{inoqilAb': [1440], 'sud~': [1441], '{inotiSAr': [1442], 'SaHAriy': [1444], 'siy~': [1446], 'musotajad~': [1447], 'suwr': [1448], 'muxaT~iT': [1451, 2540], 'salaf': [1452], 'HiSon': [1455], 'ta$okiylap': [1456], 'kuwriy~': [1457, 2375], '>usoturAliy~': [1458], 'SafiyHap': [1459], 'muxaS~aS': [1460], 'musotaEomir': [1461], 'tAyolanodiy~': [1462], 'salobiy~ap': [1464], 'musalosal': [1467], 'kiyniy~': [1468], 'mutabAriy': [1469, 2571], 'mutadar~ij': [1470], 'mut~ajih': [1471], 'Huzon': [1472], 'hadiy~ap': [1473], 'Huromap': [1474], 'sariy~ap': [1475], 'SAlap': [1476], 'hAtif': [1477, 2361], 'saxAfap': [1478], 'sibAq': [1479], 'mutasAbiq': [1480], 'mutaxar~ij': [1481, 2180], 'kawomap': [1482], 'Damiyr': [1483], 'musotaxodim': [1485, 2691, 2692], 'DAHiyap': [1486], 'siykArap': [1487], 'mutAbiE': [1488, 1489], 'SaEiyd': [1490, 2693], 'muta>ax~ir': [1492], 'sitArap': [1493], 'mutaTal~ib': [1494], 'Hujorap': [1495], 'muwASalap': [1496], 'simap': [1497], 'simAk': [1498], 'silok': [1499], 'SAniE': [1500, 2579], 'musal~am': [1501], 'ta>okiyd': [1502], 'kafAlap': [1503], '>anoguwliy~': [1504], 'Hawozap': [1507], 'Sinof': [1508, 2833], 'taTomiyn': [1509], '{ilotimAs': [1510], 'garobiy~': [1511], 'muqArabap': [1512], 'garosap': [1513], 'Sihoriyj': [1514], 'taSoniyf': [1515], '{imotidAd': [1516], 'muqotaTaf': [1517], 'Sayodaliy~ap': [1518], 'nAfi*ap': [1519], 'garAmap': [1520], '{ino$iqAq': [1521], 'tabAyun': [1522], 'HawoD': [1524, 1525], 'tabiEap': [1526], 'nAqid': [1527], 'tabaE': [1528], 'munotadaY': [1529], 'layolap': [1530], 'munotafiE': [1531], 'tabAdul': [1532], 'munotajaE': [1533], 'libAs': [1534], 'muHib~': [1535, 2565, 2754], 'Siyniy~': [1536], 'taSomiym': [1537], 'murAbiT': [1538], 'muxal~iS': [1539], 'murotafaE': [1541], 'murotakaz': [1543], 'HiDon': [1544], '>uko*uwbap': [1546], '>umoniy~ap': [1547, 2061], '{inobiEAv': [1548], 'Saliyb': [1549], 'muxorij': [1550], 'Sak~': [1551], 'Sahoyuwniy~': [1552], '>uno$uwdap': [1553], '>unovaY': [1554], 'taEorifap': [1555], 'kamiyn': [1556], 'kaf~': [1557], 'nA$i}': [1558], 'murAdif': [1559], 'taSad~uE': [1560], 'gaw~ASap': [1561], 'nAHiyap': [1562, 2528], '$akoliy~ap': [1563], 'murAjaEap': [1564], 'muzAriE': [1566, 2523, 2531], 'haram': [1568], 'Saxor': [1569], \"giTA'\": [1570, 2390], 'taHar~iy': [1571], '{inoTilAq': [1572], 'muHar~ir': [1575, 2521], 'mas~ap': [1576], 'dafotar': [1577], 'Eiroq': [1578, 2613], 'dafoEap': [1579], 'masoraH': [1580], '<iSodAr': [1581], 'wayolap': [1583, 2039], 'matAhap': [1585], 'qasoTal': [1586], 'maTobuwE': [1587], 'EiyAr': [1589, 2617], '<iHosAs': [1591], 'masobaH': [1592], 'jaHofal': [1593], 'jawoEAn': [1594, 2407], 'xAl': [1595], 'xAdim': [1596], 'qiTAr': [1597], 'wuquwE': [1598], 'wuSolap': [1599], 'EiroD': [1600], 'daworiy~ap': [1601], 'rAsib': [1602], 'yawomiy~At': [1603], 'wisATap': [1604], 'daq~ap': [1605], \"<iEofA'\": [1607], 'fan~iy~At': [1608], 'rA}iHap': [1609], 'mawoj': [1611], 'miHonap': [1612], 'jabohap': [1613], 'mazomuwr': [1614], 'miDax~ap': [1616], 'maSAEib': [1617], 'zaH~Afap': [1618], 'faqorap': [1620], 'EuTol': [1621], 'miZal~ap': [1622], '$iyk': [1624], '<ilozAm': [1625], 'qadar': [1626], 'buqoEap': [1627], 'qamiyS': [1628], 'ra$owap': [1629, 1631, 1863], 'mayodAn': [1632], 'maxozan': [1633], 'maxoraj': [1634], 'jazA}iriy~': [1635], 'jad~': [1636], 'zaEAmap': [1637], 'Eiyd': [1638], 'busotAn': [1639], 'qaron': [1640], 'maTab~': [1643], 'maZolimap': [1644], 'marosaY': [1645], 'rAliy': [1646], 'mala*~ap': [1647, 2229], 'fA}iz': [1648], 'makosiykiy~': [1651], 'fAr~': [1652], 'makotabap': [1653], 'Earo$': [1654], 'jarid': [1655, 2411], 'malo>ak': [1656], 'fahom': [1657], 'qiyAdiy~': [1659], 'xanodaq': [1660], 'xamor': [1661], 'faZiyEap': [1663], 'faDiyHap': [1664], 'majohuwl': [1665], 'xiTAb': [1666], 'majariy~': [1667], 'majal~ap': [1668], 'faDiylap': [1669], 'madoyuwniy~ap': [1670], 'xuloq': [1671], 'qumA$': [1674], 'mafosadap': [1675], 'xuSuwSiy~ap': [1676], 'qunoSuliy~ap': [1677], 'mafoquwd': [1678], 'rAbiH': [1679], 'fAkihap': [1680], 'jawAz': [1681], 'diysk': [1682], 'maqoSid': [1683], '<i*on': [1685, 1990], 'maqolaE': [1687], 'xaSiySap': [1689], 'xaliy~ap': [1690], 'rAhib': [1691], 'xAsir': [1692, 1986], 'yasAriy~': [1693, 1988], 'dihAn': [1694], 'marojiEiy~ap': [1695], 'xArij': [1696], 'duhon': [1697], 'EibAd': [1698], '|hap': [1699], 'manotuwj': [1700], 'fal~': [1701], 'qinodiyl': [1703], 'mabonaY': [1704, 2467], 'manofaEap': [1705], 'janAH': [1708, 1713], 'fAEil': [1709], 'manobaE': [1710], 'manoZuwmap': [1711], 'fAjir': [1712], 'mihonap': [1714], '$abah': [1715], 'mu&as~is': [1716, 2282, 2283], 'jumohuwriy~ap': [1717], 'mu&ar~ix': [1718], 'hinodiy~': [1719], 'maEodin': [1720], 'mu&al~if': [1721, 2286, 2308], 'taxomiyn': [1722], 'vawob': [1723], 'maEoqil': [1724], 'mu$otariy': [1725, 2333], 'rasomAl': [1726], 'fax~Ariy~At': [1727], 'muEotadiy': [1728], 'mu$otaraY': [1729], 'rasuwl': [1730], 'viqap': [1731], 'vuEobAn': [1732], '{isotixodAm': [1733], 'mu$orif': [1734, 2338], 'HaZ~': [1735], 'baEovap': [1736], 'wADiE': [1737, 1925], 'bi$Arap': [1738], 'mu$ay~iE': [1739], 'qArib': [1740], 'bAxirap': [1741], 'wAdiy': [1742], 'vamiyn': [1743], '<ivArap': [1744], 'mu$aj~iE': [1745], 'maEolAp': [1746], 'HAs~ap': [1747], 'nusoxap': [1748], 'badawiy~': [1749], 'rakiyzap': [1750], 'rakol': [1751], 'nuwr': [1752], 'tuHofap': [1753], 'vAniyap': [1754, 1951], 'tisoEiyn': [1755], 'muDAyaqap': [1757], 'muDArib': [1758], 'vA}ir': [1759], \"barA'ap\": [1760], \"bariy'\": [1762], 'valoj': [1763], '<isotrAtiyjiy~ap': [1764], 'barolamAn': [1765], 'vamAniyn': [1767], 'mu&ay~id': [1768, 1769, 2281], 'vaman': [1770], 'junoHap': [1771], '<iro$Ad': [1772], '<ivoniy~ap': [1773], 'mirojal': [1775], 'waSol': [1776], 'muHArib': [1777], 'binAyap': [1778], 'jinos': [1779], 'maDojaE': [1782], 'raSad': [1783], \"qaDA'\": [1785], 'Eumuwmiy~ap': [1786], 'bin': [1787, 2347], 'miqolAd': [1788], 'muHaS~il': [1789], 'Eumuwlap': [1790], 'bAdirap': [1791], 'miqodAr': [1792], 'maDobuwT': [1793], 'tawoDiyH': [1794], 'qaSor': [1795], 'Habol': [1796], 'zalam': [1797], '$iroyAn': [1798], 'miyEAd': [1799], 'badiyhiy~ap': [1800], '<inokliyziy~': [1801], 'mi}o*anap': [1802], 'fitonap': [1803], 'rab~': [1804], 'miyzap': [1805], 'ratol': [1806], 'radomiy~': [1807], 'mu$Arakap': [1808], 'fawAt': [1809], 'jisom': [1810], 'wAliy': [1811], 'Habiyb': [1812, 2659], '$abaH': [1813], 'EatAd': [1814], '{irotiEA$': [1816], 'samAd': [1817], 'quronap': [1820], '{irotifAE': [1821], 'ribAT': [1822], '{isotiqAlap': [1823], 'rAdiykAliy~': [1824], 'saqaT': [1825], '|xi*': [1826], 'saqof': [1829], 'Eabod': [1830], 'sanotimitr': [1831], \"{isotiqoSA'\": [1832], 'sarab': [1833], 'saqoTap': [1836], '|nisap': [1838], '$a*orap': [1839], 'sayol': [1840], 'raqabap': [1841], 'ras~Am': [1842], 'ratiyb': [1843], 'rAbiyap': [1844], 'Eab~Asiy~': [1846], 'ramoyap': [1847], '$Akiy': [1848], 'EaTiy~ap': [1849], 'rawosam': [1850], '$Arap': [1851], 'rA}iEap': [1852], '{isotihodAf': [1854], 'saHob': [1855], 'EArif': [1857], 'rabowap': [1858], 'raSiyf': [1859, 1864], \"{isotidoEA'\": [1860], '$Agir': [1862], 'Ea*Ab': [1865], 'saHonap': [1866], '{isotiEomAl': [1867], '{isotiEolAm': [1868], '$Amiy~': [1869], '{it~ifAqiy~ap': [1870], 'Eanotariy~ap': [1871], '$aTor': [1872], 'Eanobar': [1873], 'Eam~': [1874], 'sAtir': [1875], 'sA}il': [1876], '$aHonap': [1877], 'raD~': [1878], 'raSASap': [1880], '{isotiko$Af': [1881], 'rAyap': [1882], '{isotimArap': [1883], '{i}otilAf': [1884], 'riyADap': [1885], 'EAdap': [1886], \"{isotivonA'\": [1887], 'saliyf': [1888], '|Sirap': [1889], 'Eaq~Ar': [1890], 'riyAl': [1891], '{irotikAb': [1892], 'rAmiy': [1894], 'EAhap': [1895], 'raHol': [1896], 'EAlam': [1897], 'saf~Ak': [1898], '$Aridap': [1899], '{ixotirAq': [1900], 'Eajalap': [1902], 'Eajiybap': [1903], 'raf~': [1905], 'Ealaf': [1906], 'sab~Aq': [1907], '{ixotiyAr': [1908], 'EAqid': [1909], 'EAriD': [1910], '$Arib': [1911], 'saTor': [1912], '$aZiy~ap': [1913], 'rutobap': [1914], '$ujayorap': [1916], 'Duruwb': [1917], '<isohAm': [1918], '<irosAliy~ap': [1919], 'vinoy': [1921], 'viqal': [1922], '<irohAS': [1924], '<irobAk': [1926], 'zay~AH': [1927], 'zayot': [1928], '<iqAmap': [1930], '<inotAj': [1931], 'zawojap': [1933], 'waTan': [1935], 'zaman': [1937], '<imokAniy~ap': [1940], 'wafAp': [1941], 'zal~ap': [1942], '<imodAd': [1943], 'zalozalap': [1944], 'wafodiy~': [1945], '<imobirATuwriy~ap': [1946], 'wajaE': [1947], 'vamor': [1948], '<imAm': [1950], 'tawAfuq': [1952], 'quroSAn': [1953], '<ixorAj': [1955], 'tawas~uE': [1956], \"<ixolA'\": [1957], '<ixofAq': [1958], '$iEob': [1959], '$iEor': [1960], 'tawoqiyE': [1962], 'tawosiyE': [1963], 'taxofiyD': [1964], 'taxom': [1965], 'zuqAq': [1966], '$ihAb': [1967], '<ivom': [1968], 'tilisokuwb': [1969], 'zuhuwr': [1970, 1972], 'tirob': [1973], 'tisoEiyniy~': [1974], '<isotrAtiyjiy~': [1975, 1977], 'turobap': [1976], 'ziyjap': [1978], '<isonAd': [1980], 'zahor': [1981], '{iEoti*Ar': [1983], 'xAm': [1984], 'xAnap': [1985], 'xAtam': [1987], \"<iDA'ap\": [1989], '<i$okAliy~ap': [1991], '<i$okAl': [1992], '*ayol': [1993], 'xafiy~ap': [1994], 'xaliyfap': [1995], 'xaliyq': [1996], 'xaloT': [1997], '*aqon': [1998], 'xamiyr': [1999], 'xurosAn': [2001], '*anob': [2002], 'xawAliy': [2003], 'xayoT': [2004], 'xayomap': [2005, 2007], 'xuroTuwm': [2006], 'xaz~An': [2008], '*abo*abap': [2009], '*abiyHap': [2010], '*Ahib': [2011], 'xuDorap': [2012], '$uyuwEiy~': [2013], 'yatiym': [2014, 2015], \"walA'\": [2016], 'xATirap': [2017], '<ikorAmiy~ap': [2018], 'waliymap': [2019], 'waliy~': [2020], 'wamoDap': [2021], '<ikoliyl': [2022], '$iymap': [2023], 'waraY': [2024], 'waral': [2025], 'warod': [2027], \"<igorA'\": [2028], 'wasax': [2029], '<ibodAE': [2030], 'wasiyTap': [2031], '$uEobap': [2032], 'zAruwb': [2033], 'watad': [2034], 'zAniy': [2035], 'watiyrap': [2036], 'yaxot': [2038], 'wazon': [2041], \"wiEA'\": [2042], '<iHodAviy~': [2043], 'wilAdap': [2044], '<iEodAm': [2045], '<iDAfap': [2046], '<iySAl': [2047], 'tasomiyap': [2048], 'DifAf': [2049], 'ta$aw~uh': [2050], '>usoTuwl': [2051], '{inofirAj': [2052], '>urodun~iy~': [2053], 'ta>am~ul': [2054], '{inofijAr': [2055], 'ta>omiyn': [2056], '>uqoHuwAn': [2057], 'taEAqud': [2058], '>umosiy~ap': [2060], '>uloEuwbap': [2062], 'taEomiym': [2064], '>azaj~': [2067], '>ayodiyuwluwjiyA': [2068], '>axawiy~ap': [2069], 'taHiy~ap': [2071], '{inoTibAE': [2072], '>asad': [2074], '{inoHirAf': [2075], '>arobaEiyn': [2077], '$al~Al': [2078], '>anoziym': [2079], 'ta$obiyh': [2080], 'ta$an~uj': [2081], 'taTowiyb': [2082], 'ta$aE~ub': [2083], 'Did~': [2084], 'sifor': [2086], 'Daruwriy~': [2087], '$afor': [2089], 'DarAwap': [2090], '{inozilAq': [2091], 'sin~': [2092], 'DaHokap': [2094], '{inotiqAl': [2095], 'siyAHap': [2096], 'siyjArap': [2098], 'siynAriyw': [2099, 2100], 'siyrofirz': [2101], '>uwtuwbiys': [2102], 'su&or': [2104], '{inotihAziy~': [2105], 'sunobul': [2107], 'sur~': [2108], 'suwdAniy~': [2109], 'suwfoyitiy~': [2110], '$ajan': [2111], '{inohimAk': [2112], '{ilotibAs': [2113], '{ikotitAb': [2114], 'tasoliyf': [2115], 'tamoriyr': [2116], 'tamowiyh': [2117], 'tanaq~ul': [2118], '$aq~ap': [2119], 'tanoZiyf': [2120], '>aboSAr': [2121], '$arak': [2122], 'tanoqiyb': [2123], 'taqATuE': [2124], '$ariyEap': [2125], '{iSoTilAH': [2127], '>aSalap': [2128], '$ariyHap': [2129], '>a$uwriy~': [2131], '>a$al~': [2132], 'taqoyiyd': [2133], '{iHotirAm': [2134], 'tarAkum': [2136], 'tarojamap': [2138], 'tarojiyH': [2139], 'taromiym': [2140], '$atolap': [2141], 'taroniymap': [2142], '{iEotiqAd': [2143], '<iydAE': [2144], '$ayoTAn': [2145], '{ibotikAr': [2146], 'tamodiyd': [2147], '$amoEadAn': [2148], '$aqiyqap': [2149], 'tabodiyl': [2151], 'tadAxul': [2153], '$amoEap': [2154], '{ihotizAz': [2155], '$amosiy~ap': [2156], 'tadoqiyq': [2157], '>amAnap': [2158], 'tafAwut': [2159], '>alomAniy~': [2160], '>akamap': [2161], 'tahaj~um': [2162], '>ajal': [2163], '{ifotirAD': [2164], 'tajodiyd': [2167], 'tajowiyf': [2168], 'takat~ul': [2169], '>afoEaY': [2170], '>adiyb': [2171], 'takowiyn': [2172], 'talAEub': [2173], 'talomiyH': [2174], 'taloziym': [2175], 'tal~': [2176], 'tamAyuz': [2177], 'tamar~ud': [2178], 'janobap': [2179], 'quroS': [2181], 'dayor': [2182, 2191], 'masokuwkap': [2183], 'masojuwn': [2184], 'daf~AE': [2185], 'dagal': [2186], 'daraj': [2189], 'maro&uws': [2192], 'diEAmap': [2193], 'masAfap': [2194], 'diEAyap': [2195], 'marotabap': [2196], 'maroqab': [2197], 'marokab': [2199], 'marobaE': [2200], 'masolax': [2201], 'masomaE': [2202], 'masoraHiy~ap': [2203], 'masoruwq': [2204], 'may~it': [2205, 2265], 'mayol': [2206, 2207], 'maxoluwq': [2208], 'maxobaz': [2209], 'maxoTuwT': [2210], 'burohAn': [2211], 'buroj': [2212], 'maworuwv': [2213], 'mawoluwd': [2214], 'mawolid': [2215], 'dAEim': [2216], 'maviyl': [2217], 'dAb~ap': [2218], 'dAjin': [2219], 'daEowaY': [2220], 'matAE': [2221], 'dimAg': [2222], 'diymuqrATiy~ap': [2223], 'Zufur': [2224], \"faDA'\": [2225], 'mal~AH': [2226, 2244], 'fAriq': [2227], 'fArisiy~': [2228], 'malAm': [2230], 'fAsiq': [2231], 'makoman': [2232], 'fa>os': [2233], 'majomuwE': [2234], 'mariH': [2235], 'majohuwd': [2236], 'faDol': [2237], 'mahojaE': [2238], 'faDolap': [2239], 'magoribiy~': [2240], 'magorib': [2241], 'magonam': [2242], 'magAr': [2243], 'mamar~': [2245], 'mano$a>': [2246], 'maquwlap': [2248], \"duEA'\": [2249], 'duEAbap': [2250], 'dumoyap': [2252], 'duroziy~': [2253], 'dusotuwr': [2254], 'manoquwl': [2255], 'manokuwb': [2256, 2257], 'manojam': [2258], 'duwayolap': [2259], 'duwnum': [2261], 'manoZar': [2262], 'manoHuwtap': [2263], 'manoEaY': [2264], 'mazoruwEap': [2266], 'miEoSarap': [2267], 'muDax~im': [2268], 'muEa*~ib': [2269], 'muEAwin': [2270], 'muEAraDap': [2272], 'badolap': [2273], 'muEAhadap': [2274], 'muEAdalap': [2275], 'muDiyf': [2276], 'baqiy~ap': [2277], 'bunoduq': [2278], 'barakap': [2279], 'barobariy~': [2280], 'baromajiy~': [2284], 'mu&am~ar': [2285], 'badan': [2287], 'muEak~ir': [2288], 'muEal~ab': [2289], 'muEal~il': [2290], 'muHAsib': [2291], 'bAkiy': [2292], 'bAluwn': [2293], 'ba*olap': [2294], 'baEoviy~': [2295], 'baHor': [2298], 'muEotamir': [2299], 'muEojizap': [2300], 'muEojam': [2301], 'muEiyn': [2302], 'muEiyd': [2303], 'baTorak': [2305, 2306], 'baT~Ariy~ap': [2307], 'baroqiy~ap': [2309], 'baw~Abap': [2310], 'miyl': [2311], 'miro|ap': [2313], 'miqolAE': [2316], 'birokap': [2317], 'mil~iymitr': [2318], 'biroqi$': [2319], 'migowAr': [2320], 'bruwtisotAnotiy~': [2321], 'mifak~': [2322], 'midorah': [2323], 'buHayorap': [2324], 'miSoyadap': [2325], 'bukolap': [2326], 'miSofAp': [2328], 'miykoruwb': [2329], 'miyzAniy~ap': [2330], 'bayoraq': [2331], 'mu$AHanap': [2332], 'mu$otagil': [2336], 'mu$orik': [2337], 'ba}iys': [2339], 'mu$ar~iE': [2340, 2341, 2342], 'mu$ak~ik': [2343], 'mu$AyiE': [2344], 'mu$Awar': [2345], 'mu$Agib': [2349], 'maforuw$': [2350], 'maforazap': [2351], 'mafoSil': [2352], 'ku$ok': [2353], 'gud~ap': [2354], 'gul~': [2355], 'kurosiy~': [2356, 2357], 'hA$imiy~': [2358], 'hArib': [2359], 'klAsiykiy~': [2362, 2364], 'lisAn': [2363, 2436], 'hAytiy~': [2365], 'kaviyb': [2366], 'katif': [2367], 'katA}ibiy~': [2368], 'kar~': [2369], 'karodinAl': [2370], 'hafowap': [2371], 'kuwliys': [2372], 'kuwluwmobiy~': [2373], 'kuwmAnoduwz': [2374], 'liS~': [2376], 'ganam': [2377], 'gariyb': [2378], 'laqoTap': [2379], 'laqaY': [2380], 'laf~ap': [2381], 'lafoZ': [2382], 'laban': [2383], 'laHon': [2384], 'laHod': [2385], 'laEonap': [2386], 'laEobap': [2387], \"gi*A'\": [2388], 'guSon': [2391, 2392], 'kam~A$ap': [2393], 'hanap': [2394], 'kahof': [2395], \"hurA'\": [2396], 'jiybuwtiy~': [2397], 'jinirAl': [2398], 'jinAzap': [2399], 'jAriyap': [2400], 'jAsuws': [2401], 'jab~Ar': [2402], 'jahoba*': [2403], 'jaliys': [2404], 'jamAliy~ap': [2406], 'jamal': [2408], 'jam~Al': [2409], 'jariydap': [2410], 'jan~ap': [2412, 2413], 'jAliyap': [2414], 'hunayohap': [2415], \"kafo'\": [2416], 'hirAwap': [2417], \"kafA'At\": [2418], 'kabosuwl': [2419], 'kabiyrap': [2420], 'hawA}iy~': [2421], 'kabid': [2422], 'ka>os': [2423], 'ka*~Ab': [2424], 'ka$~Af': [2425], 'ka$of': [2426], 'kAtidrA}iy~ap': [2427], 'kAnotuwn': [2428], 'kAbil': [2429], 'haz~ap': [2430], 'jurovuwm': [2431], 'him~ap': [2432], 'juroEap': [2433], 'jura*': [2434], 'gajariy~': [2435], 'mafAtin': [2437], 'maHofuwr': [2438], 'fariyDap': [2439], 'maSiyr': [2440], 'maSaf~': [2441], 'maHosuwb': [2442, 2443], 'maHoram': [2444], 'maHokuwm': [2445], 'fariysiy~': [2446], 'maHofil': [2447], 'gaDon': [2448], 'maHoZuwr': [2449], 'maHoSuwl': [2450], 'faroDiy~ap': [2451], 'faroHap': [2452], 'fatowaY': [2453, 2454], 'maEuwnap': [2455], 'maEozuwfap': [2456], 'faranojiy~': [2457], 'farA$ap': [2458], 'maSoyaf': [2459], 'faqiyh': [2460], 'madoraj': [2461], 'madoluwl': [2462], 'madofan': [2463], 'fajowap': [2465], 'madAr': [2466], 'maboHav': [2469], 'maboEuwv': [2470], 'mabar~ap': [2471], 'maZoruwf': [2472], 'maZoluwm': [2473], 'fan~iy~': [2474], 'maToraH': [2475], 'maTomaH': [2476], 'maTolaE': [2477], 'maEozil': [2478], 'fawoj': [2479], 'fiD~iy~At': [2480], 'fiyniyqiy~': [2481], 'ma$oraf': [2482], 'ma$orab': [2483], 'ma$ohuwr': [2484], 'ma$ogal': [2485], 'ma$aq~ap': [2486], 'mA}idap': [2487], 'mAwiy~': [2488], 'mAr~': [2489, 2490], 'mArok': [2491], 'mAniH': [2492], 'fuwhap': [2496], 'luwrod': [2497], 'lub~': [2498], 'ma$oriq': [2499], 'ma$oruwb': [2500], 'fidA}iy~': [2501], 'fiyl~A': [2502], 'filos': [2504], 'finizuwil~iy~': [2505], 'firoEawon': [2506], 'maEobar': [2507], 'maEoSiyap': [2508], 'maEidap': [2509], 'maEA$': [2510], 'maDomuwn': [2511], 'maDiyq': [2512], 'maDar~ap': [2513], 'ma>oxa*': [2514], 'ma>ovarap': [2515], 'fiyl': [2516], 'ma>onap': [2517], 'ma>omuwr': [2518, 2519], 'muHar~iD': [2520], 'quf~Az': [2522], 'nAjiH': [2524], 'HayAp': [2525], 'nAb': [2526], 'nATiq': [2527], \"Hi*A'\": [2529], 'muzAyadap': [2530], 'muxotalif': [2532], 'muwlodAfiy~': [2533], 'muxotabi}': [2534], 'HiSAn': [2536, 2538], 'muxiyl': [2537], 'muxar~ib': [2539], 'muxAlif': [2541], 'nArjiylap': [2542], 'nAvir': [2543], 'Has~Asiy~ap': [2544], 'nAziEap': [2545], 'nafal': [2546], 'naboDap': [2547], 'HamAm': [2549], 'nabAt': [2550], 'naZ~Arap': [2551], 'naZorap': [2552], 'naSiyr': [2556], 'naSiyb': [2557], 'naH~At': [2558], 'naEol': [2559], 'na*or': [2560], 'Hasanap': [2562], 'muwmisap': [2563], 'Hilof': [2564], 'mutaHam~is': [2566], 'Husayoniy~': [2568], 'mutafar~iqAt': [2569], 'mutafAwiD': [2570], 'SAEiqap': [2572], 'mutaSay~id': [2574], 'mutaHad~iv': [2575], 'muwfad': [2576, 2589], 'mutaHAlif': [2577], 'mutaEad~iy': [2578], 'mutaEATiy': [2580], 'mutaEATif': [2581], 'muta>al~iq': [2582], 'muta>ah~il': [2583], 'mutAbaEap': [2584], 'mutamar~is': [2585], 'mutamaw~il': [2586], 'mutanak~ir': [2587], 'mutasab~ib': [2588], 'muwaj~ih': [2590], 'Himol': [2591], 'muwa$~aH': [2592], 'Hubayobap': [2593], 'Huqob': [2595], 'mut~ahim': [2597], 'mutoEab': [2598], 'muta|mir': [2599], 'januwbiy~': [2600], 'mutaxal~if': [2601], 'mutawar~iT': [2602], 'mutawAjid': [2603], 'mutatab~iE': [2604], 'mutasal~il': [2605], 'nafoHap': [2606], 'naforap': [2607], 'qiT~': [2610], 'EilAwap': [2611], 'qi$or': [2612], 'qawom': [2614], 'EiyAl': [2615], 'qasAwisiy~': [2616], 'qariyb': [2618], 'najomap': [2619], 'qan~AS': [2620], 'Eu$~': [2621], 'qaloqalap': [2623], 'qaloEap': [2624], 'qafor': [2625], 'qafAF': [2626], 'EuTolap': [2627], 'EilAj': [2628], 'qid~iys': [2630, 2631], 'qufol': [2632], 'qud~As': [2633], 'qub~aEap': [2634], 'quTon': [2636], 'Eay~inap': [2637], 'Eaziymap': [2638], 'qiyAs': [2639], 'Ei$oriyn': [2640], 'qis~iys': [2641], 'EiTof': [2642], 'EiZap': [2643], 'qiron': [2644], 'qiro$': [2645], \"qirA'ap\": [2646], 'qinoE': [2647], 'Eulobap': [2649], 'qaTiyE': [2650], 'qaTariy~': [2651], 'niyAbap': [2652], 'HaSAnap': [2654], 'HaSoriy~': [2656], 'niqA$': [2657], 'nihAyap': [2658], 'niSof': [2660], 'nazol': [2661], 'naziyl': [2662], 'naxob': [2663], 'nawoEiy~ap': [2664], 'Hadaqap': [2665], 'nasor': [2666], 'naqo$': [2667], 'namol': [2668], 'nakosap': [2669], 'nisowap': [2670], 'Ha$AF': [2671], 'qa$iyb': [2672], 'HA}iT': [2673], 'HADinap': [2674], 'qA}il': [2675], 'HADir': [2677], 'HASil': [2678], 'qAruwrap': [2680], 'qAlib': [2681], 'qAfiyap': [2682], 'qAfilap': [2683], 'qASir': [2684, 2685], 'HAmiy': [2686], 'nuzohap': [2687], 'nuwbiy~': [2688], 'HAwiy': [2689], 'nuTofap': [2690], 'mukas~arAt': [2694], 'muloHaqAt': [2695], 'mulim~ap': [2697], 'TAmiH': [2698], 'mulAHiZ': [2699], 'mulAHaqap': [2700], 'mukota$if': [2701], 'TAwilap': [2702], 'mukAfa>ap': [2703], 'munaw~ih': [2704], 'Tabaq': [2706], 'mujas~am': [2708], 'mujanozir': [2709], 'mujad~id': [2710], 'mujAnasap': [2711], 'mujAmalap': [2712], 'mulotaqaY': [2713], 'mumATalap': [2714], 'munaZ~ir': [2717], 'SuwmAliy~': [2720, 2776], 'munAwi}': [2722], 'TAEin': [2723], 'munAwa$ap': [2724], 'TAbiq': [2725], 'munAqalap': [2726], 'munAqaSap': [2727], 'TAbuwr': [2728], 'TAgiy': [2731], 'munA$adap': [2733], 'mujAbahap': [2736], 'mubAlagap': [2737], 'muTAradap': [2738], 'muTAlabap': [2739], 'muSan~af': [2741], 'Turoqap': [2742], 'muSaf~aHap': [2743], 'muSAlaHap': [2744], 'muSAfaHap': [2745], 'muSAb': [2746], 'muHotasib': [2747], 'muHotariS': [2748], 'muHotaram': [2749], 'muHotal~': [2750], 'muHotaj~': [2751], 'muHotafil': [2752], 'muHosin': [2753], 'muTArid': [2755], 'Tayor': [2756], 'Tayof': [2758], 'muhad~i}': [2759], 'TaliyEap': [2761], 'mugoriyAt': [2763], 'mugan~iy': [2764], 'mufosid': [2765], 'mufaw~aD': [2766], 'mufak~irap': [2767], 'Taluwqap': [2768], 'mufAraqap': [2769], 'mud~axar': [2770], 'mudomin': [2771], 'mudax~in': [2773], 'mubotakar': [2775], 'Sufuwf': [2777], 'musaj~il': [2779, 2788], 'musotaDoEaf': [2780], 'musota>omin': [2781], 'musota>ojir': [2782], 'SafoEap': [2783], 'musam~aY': [2785], 'Sagiyr': [2786], 'musak~in': [2787], 'muno$aq~': [2789], 'musad~asap': [2790], 'musab~ib': [2791], 'musab~ab': [2792], 'musotaEomarap': [2798], 'musotaHoDar': [2799], 'musotabiyH': [2800], 'musotadoEaY': [2801], 'Sabiy~': [2807], 'Sabiy~ap': [2809], 'musotanoqaE': [2811], 'musotanoTiq': [2812], 'musotamir~': [2813], 'musotamiE': [2814], 'Safad': [2815], 'musotafiyd': [2817], 'musotadoEiy': [2818], 'Saliybiy~': [2819], 'Saroxap': [2821], 'murAfaEap': [2822], 'muqotariE': [2823, 2824], 'muqar~ir': [2825], 'muqal~id': [2826], 'muqad~im': [2827], 'muqad~ar': [2829], 'SinAEiy~': [2830], 'muqAwamap': [2831], 'Sirobiy~': [2834], 'Sudofap': [2835], 'munojaz': [2836], 'munoTalaq': [2837], 'munoHadar': [2838], 'munoEaTaf': [2839], 'murAbiy': [2840], 'murotahin': [2842], 'murAhanap': [2843], 'murosil': [2844, 2845], 'muriyd': [2846], 'muraw~ij': [2847, 2848], 'murat~ab': [2849], 'murad~id': [2850], 'murab~aE': [2851], 'SawomaEap': [2853], 'SayoHap': [2856], 'Sayodaliy~': [2858], 'murAjiE': [2859], 'murAhiq': [2860], 'mibo$arap': [2861]}\n",
            "Report Error Analysis on duplicates has been saved in /content/drive/MyDrive/AI Projects/Arabic Broken Plural/Datasets analysis path\n"
          ]
        }
      ],
      "source": [
        "# find duplicates and create dictionaries\n",
        "\n",
        "def getDuplicateIndexes(data):\n",
        "  dupindex={}\n",
        "  f=False\n",
        "  for i in range(len(data[0])):\n",
        "    if f: break\n",
        "    lemma = data[0][i]\n",
        "    if dupindex.get(lemma)==None:\n",
        "      dupindex[lemma]=[]\n",
        "      dupindex[lemma].append(i)\n",
        "    else:\n",
        "      f=False\n",
        "      for k in range(len(dupindex[lemma])):\n",
        "        if data[8][i] > data[8][dupindex[lemma][k]]:\n",
        "          dupindex[lemma].insert(0,i)\n",
        "          f=True\n",
        "      if not f : dupindex[lemma].append(i)\n",
        "\n",
        "\n",
        "  return dupindex\n",
        "\n",
        "def reportErrorAnalysis_duplicates(dataframe,dicDup,path):\n",
        "  df=dataframe.loc[[]]\n",
        "  \n",
        "  indexes=[]\n",
        "  for key, value in dicDup.items():\n",
        "    if len(value)>1 :\n",
        "      for x in value:\n",
        "        n=len(df)\n",
        "        indexes.append(x)\n",
        "        df.loc[n]=dataframe.loc[x]\n",
        "  df.insert(0, \"index\", indexes, True)\n",
        "  df.to_csv(path)\n",
        "  return df\n",
        "\n",
        "\n",
        "if is_dataOrginal:\n",
        "  #Save similar lemmas indexes in dictionary (key->lemma | value->list of indexes)\n",
        "  trainDupIndex=getDuplicateIndexes(trainData)\n",
        "  devDupIndex=getDuplicateIndexes(devData)\n",
        "  testDupIndex=getDuplicateIndexes(testData)\n",
        "  print(\"duplicate indexes has been updated\")\n",
        "  print(trainDupIndex)\n",
        "\n",
        "if is_dataOrginal:\n",
        "  #Save Duplicate report on data in csv\n",
        "  trainDuplicateCsv=reportErrorAnalysis_duplicates(train_csv,trainDupIndex,data_analysis_path+\"/duplicateAnalyssis_train.csv\")\n",
        "  devDuplicateCsv=reportErrorAnalysis_duplicates(dev_csv,devDupIndex,data_analysis_path+\"/duplicateAnalyssis_dev.csv\")\n",
        "  testDuplicateCsv=reportErrorAnalysis_duplicates(test_csv,testDupIndex,data_analysis_path+\"/duplicateAnalyssis_test.csv\")\n",
        "  print(\"Report Error Analysis on duplicates has been saved in /content/drive/MyDrive/AI Projects/Arabic Broken Plural/Datasets analysis path\")\n",
        "\n",
        "#Generate lemma-inflection refrence\n",
        "dic_lemmaInflection={}\n",
        "def updateDic_lemmaInflection(Data,dupIndex):\n",
        "  global dic_lemmaInflection\n",
        "  for key, value in dupIndex.items():\n",
        "    if dic_lemmaInflection.get(key)==None:\n",
        "      dic_lemmaInflection[key]=[]\n",
        "    for x in value : \n",
        "      if not Data[3][x] in dic_lemmaInflection[key]: dic_lemmaInflection[key].append(Data[3][x])\n",
        "\n",
        "if is_dataOrginal:\n",
        "  updateDic_lemmaInflection(trainData,trainDupIndex)\n",
        "  updateDic_lemmaInflection(testData,testDupIndex)\n",
        "  updateDic_lemmaInflection(devData,devDupIndex)\n",
        "\n"
      ]
    },
    {
      "cell_type": "code",
      "execution_count": null,
      "metadata": {
        "colab": {
          "base_uri": "https://localhost:8080/"
        },
        "id": "3TIS2Q8bFLHE",
        "outputId": "e37ce33c-0d0c-4bad-c2a7-e03bbe115786"
      },
      "outputs": [
        {
          "name": "stdout",
          "output_type": "stream",
          "text": [
            "Number Of Lemmas before Dropping duplicates in Train Set:  2862\n",
            "Number Of Lemmas before Dropping duplicates in Test Set:  1103\n",
            "Number Of Lemmas before Dropping duplicates in Dev Set:  1151\n",
            "=============================================================\n",
            "Number Of Lemmas After Dropping duplicates in Train Set:  2475\n",
            "Number Of Lemmas After Dropping duplicates in Test Set:  1028\n",
            "Number Of Lemmas After Dropping duplicates in Dev Set:  1060\n"
          ]
        }
      ],
      "source": [
        "#Drop unnecessary duplicates\n",
        "def getUniqueData(data,dupIndex):\n",
        "  out=[]\n",
        "  #init nested lists\n",
        "  for x in data: out.append([])\n",
        "  #fill out with most frequent lemma-inflection pairs\n",
        "  for key, value in dupIndex.items():\n",
        "    for k in range(len(data)):\n",
        "      out[k].append(data[k][value[0]])\n",
        "  return out\n",
        "\n",
        "\n",
        "trainDataUnique=getUniqueData(trainData,trainDupIndex)\n",
        "devDataUnique=getUniqueData(devData,devDupIndex)\n",
        "testDataUnique=getUniqueData(testData,testDupIndex)\n",
        "print(\"Number Of Lemmas before Dropping duplicates in Train Set: \", len(trainData[0]))\n",
        "print(\"Number Of Lemmas before Dropping duplicates in Test Set: \",len(testData[0]))\n",
        "print(\"Number Of Lemmas before Dropping duplicates in Dev Set: \",len(devData[0]))\n",
        "print(\"=============================================================\")\n",
        "print(\"Number Of Lemmas After Dropping duplicates in Train Set: \", len(trainDataUnique[0]))\n",
        "print(\"Number Of Lemmas After Dropping duplicates in Test Set: \",len(testDataUnique[0]))\n",
        "print(\"Number Of Lemmas After Dropping duplicates in Dev Set: \",len(devDataUnique[0]))"
      ]
    },
    {
      "cell_type": "code",
      "execution_count": null,
      "metadata": {
        "id": "LodNC4wSsL0s"
      },
      "outputs": [],
      "source": [
        "#######Risky Implementation!!! Only Run This Once\n",
        "if is_dataOrginal:\n",
        "  trainData=trainDataUnique\n",
        "  devData=devDataUnique\n",
        "  testData=testDataUnique\n",
        "  is_dataOrginal=False\n",
        "else:\n",
        "  print(\"Warning!!! duplicate rows has already been dropped from data.(skipped this step)\")"
      ]
    },
    {
      "cell_type": "markdown",
      "metadata": {
        "id": "JRilqxawClaF"
      },
      "source": [
        "## **Encoding Datasets (Character-based)**"
      ]
    },
    {
      "cell_type": "code",
      "execution_count": null,
      "metadata": {
        "colab": {
          "base_uri": "https://localhost:8080/"
        },
        "id": "G8UL3rofClaF",
        "outputId": "73e65003-24c0-496e-8cd3-9eb9b3fe9377"
      },
      "outputs": [
        {
          "name": "stdout",
          "output_type": "stream",
          "text": [
            "50\n",
            "{'not available char': 0, 'E': 1, 'a': 2, 'm': 3, 'l': 4, '1': 5, '2': 6, '3': 7, '>': 8, 'o': 9, 'A': 10, 'h': 11, 'd': 12, 'f': 13, 'u': 14, 'D': 15, 'w': 16, \"'\": 17, 'j': 18, 'i': 19, 'z': 20, 'p': 21, 'H': 22, 'k': 23, 'n': 24, 'S': 25, 'r': 26, '4': 27, 'q': 28, '~': 29, 'y': 30, 't': 31, 's': 32, '<': 33, 'b': 34, 'v': 35, '|': 36, 'T': 37, '}': 38, 'Z': 39, '{': 40, '&': 41, '$': 42, 'x': 43, 'N': 44, 'W': 45, '*': 46, 'g': 47, 'Y': 48, 'F': 49}\n"
          ]
        }
      ],
      "source": [
        "# generate character encoding\n",
        "oov_token = 'not available char'\n",
        "char_index = {oov_token: 0}\n",
        "\n",
        "def updateCharIndex(data):\n",
        "  global char_index\n",
        "  # encode input with encoding character set\n",
        "  for i in range(len(data[0])):\n",
        "      chars = data[0][i] + data[1][i] + data[3][i] + data[4][i]\n",
        "      for c in chars:\n",
        "          if c not in char_index:\n",
        "              char_index[c] = len(char_index)\n",
        "\n",
        "updateCharIndex(trainData)\n",
        "print(len(char_index))\n",
        "print(char_index)"
      ]
    },
    {
      "cell_type": "code",
      "execution_count": null,
      "metadata": {
        "colab": {
          "base_uri": "https://localhost:8080/"
        },
        "id": "y3aR6noZClaF",
        "outputId": "87937d1a-2511-432d-eb99-18d40bdfd0f1"
      },
      "outputs": [
        {
          "name": "stdout",
          "output_type": "stream",
          "text": [
            "lemma shape train:  2475\n",
            "lemma shape dev:  1060\n",
            "lemma shape test:  1028\n",
            "max length in lemma elements:  17\n",
            "max length in root elements:  4\n",
            "max length in inflection elements:  18\n"
          ]
        }
      ],
      "source": [
        "# encode words with character encoder\n",
        "def encodeWord(word, dic=char_index, oov=oov_token):\n",
        "    return [dic[c] if c in dic else dic[oov] for c in list(word)]\n",
        "\n",
        "# encode data and get maximum length of features\n",
        "def getEncodedData(data):\n",
        "  '''\n",
        "  Output type->List : 0:lamma | 1:singular pattern | 2:root |3:inflection | 4:plural pattern | 5:plural type(B/S) | 6:gender | 7:rational | 8:number of root\n",
        "  '''\n",
        "\n",
        "  data_encoded = data.copy()\n",
        "  data_encoded[0] = [encodeWord(each) for each in data[0]]\n",
        "  data_encoded[1] = [encodeWord(each) for each in data[1]]\n",
        "  data_encoded[2] = [encodeWord(each) for each in data[2]]\n",
        "  data_encoded[3] = [encodeWord(each) for each in data[3]]\n",
        "  data_encoded[4] = [encodeWord(each) for each in data[4]]\n",
        "\n",
        "  lemma_max_len = max([len(each) for each in data_encoded[0]])\n",
        "  root_max_len = max([len(each) for each in data_encoded[2]])\n",
        "  inflection_max_len = max([len(each) for each in data_encoded[3]])\n",
        "\n",
        "  return data_encoded, lemma_max_len, root_max_len, inflection_max_len\n",
        "\n",
        "\n",
        "trainData_encoded, lemma_max_len, root_max_len, inflection_max_len = getEncodedData(trainData)\n",
        "devData_encoded, _, _, _  = getEncodedData(devData)\n",
        "testData_encoded, _, _, _ = getEncodedData(testData)\n",
        "\n",
        "print('lemma shape train: ', len(trainData_encoded[0]))\n",
        "print('lemma shape dev: ', len(devData_encoded[0]))\n",
        "print('lemma shape test: ', len(testData_encoded[0]))\n",
        "print('max length in lemma elements: ', lemma_max_len)\n",
        "print('max length in root elements: ', root_max_len)\n",
        "print('max length in inflection elements: ', inflection_max_len)"
      ]
    },
    {
      "cell_type": "code",
      "execution_count": null,
      "metadata": {
        "colab": {
          "base_uri": "https://localhost:8080/"
        },
        "id": "MoDYp2LuClaF",
        "outputId": "d6466868-b1ef-4e84-a01e-bd93d34f537f"
      },
      "outputs": [
        {
          "name": "stdout",
          "output_type": "stream",
          "text": [
            "lemma with pad shape train:  (2475, 17)\n",
            "lemma with pad shape dev:  (1060, 17)\n",
            "lemma with pad shape test:  (1028, 17)\n"
          ]
        }
      ],
      "source": [
        "# ADD padding to sample\n",
        "# 0:lamma | 1:singular pattern | 2:root |3:inflection | 4:plural pattern | 5:plural type(B/S) | 6:gender | 7:rational \n",
        "def getPaddedData(encodedData, lemma_max_len, root_max_len, inflection_max_len):\n",
        "  data_pad = []\n",
        "  data_pad.append(np.array(pad_sequences(encodedData[0], maxlen=lemma_max_len, padding='post'))) \n",
        "  data_pad.append(np.array(pad_sequences(encodedData[1], maxlen=lemma_max_len, padding='post')))\n",
        "  data_pad.append(np.array(pad_sequences(encodedData[2], maxlen=root_max_len, padding='post')))\n",
        "  data_pad.append(np.array(pad_sequences(encodedData[3], maxlen=inflection_max_len, padding='post')))\n",
        "  data_pad.append(np.array(pad_sequences(encodedData[4], maxlen=inflection_max_len, padding='post')))\n",
        "  data_pad.append(np.array(encodedData[5]))\n",
        "  data_pad.append(np.array(encodedData[6]))\n",
        "  data_pad.append(np.array(encodedData[7]))\n",
        "  data_pad.append(np.array(encodedData[8]))\n",
        "\n",
        "  return data_pad\n",
        "\n",
        "trainData_pad = getPaddedData(trainData_encoded, lemma_max_len, root_max_len, inflection_max_len)\n",
        "devData_pad = getPaddedData(devData_encoded, lemma_max_len, root_max_len, inflection_max_len)\n",
        "testData_pad = getPaddedData(testData_encoded, lemma_max_len, root_max_len, inflection_max_len)\n",
        "\n",
        "print('lemma with pad shape train: ', trainData_pad[0].shape)\n",
        "print('lemma with pad shape dev: ', devData_pad[0].shape)\n",
        "print('lemma with pad shape test: ', testData_pad[0].shape)"
      ]
    },
    {
      "cell_type": "markdown",
      "metadata": {
        "id": "O45BUvM0ClaF"
      },
      "source": [
        "### **Create inputs of neural network**"
      ]
    },
    {
      "cell_type": "code",
      "execution_count": null,
      "metadata": {
        "colab": {
          "base_uri": "https://localhost:8080/"
        },
        "id": "Cm__BnNyClaF",
        "outputId": "a0ca9dfb-ba0a-4d07-d05d-6472ee878ba4"
      },
      "outputs": [
        {
          "name": "stdout",
          "output_type": "stream",
          "text": [
            "X_train_lemma shape:  (2475, 17)\n",
            "X_train_singularPattern shape:  (2475, 17)\n",
            "X_train_root shape:  (2475, 4)\n",
            "X_train_genRat shape:  (2475, 2)\n",
            "X_train_numOfRoot shape:  (2475, 1)\n",
            "y_train_class shape:  (2475, 1)\n",
            "y_train_plPattern shape:  (2475, 18)\n",
            "y_train_unflection shape:  (2475, 18)\n"
          ]
        }
      ],
      "source": [
        "# 0:lamma | 1:singular pattern | 2:root |3:inflection | 4:plural pattern | 5:plural type(B/S) | 6:gender | 7:rational | 8:number of root\n",
        "# create train set\n",
        "X_train_lemma = trainData_pad[0]  # lemma feature\n",
        "X_train_singularPattern = trainData_pad[1]  # singular pattern feature\n",
        "X_train_root = trainData_pad[2]  # root feature\n",
        "X_train_genRat = np.stack((trainData_pad[6], trainData_pad[7]), axis=-1)  # gender & rational features\n",
        "X_train_numOfRoot = trainData_pad[8].reshape((trainData_pad[8].shape[0], -1))  # number of root\n",
        "\n",
        "y_train_class = trainData_pad[5].reshape((trainData_pad[5].shape[0], -1))  # broken or sound classes\n",
        "y_train_plPattern = trainData_pad[4]  # plural pattern\n",
        "y_train_inflection = trainData_pad[3]  # inflection\n",
        "\n",
        "# create dev set\n",
        "X_dev_lemma = devData_pad[0]  # lemma feature\n",
        "X_dev_singularPattern = devData_pad[1]  # singular pattern feature\n",
        "X_dev_root = devData_pad[2]  # root feature\n",
        "X_dev_genRat = np.stack((devData_pad[6], devData_pad[7]), axis=-1)  # gender & rational features\n",
        "X_dev_numOfRoot = devData_pad[8].reshape((devData_pad[8].shape[0], -1))  # number of root\n",
        "\n",
        "y_dev_class = devData_pad[5].reshape((devData_pad[5].shape[0], -1))  # broken or sound classes\n",
        "y_dev_plPattern = devData_pad[4]  # plural pattern\n",
        "y_dev_inflection = devData_pad[3]  # inflection\n",
        "\n",
        "# create test set\n",
        "X_test_lemma = testData_pad[0]  # lemma feature\n",
        "X_test_singularPattern = testData_pad[1]  # singular pattern feature\n",
        "X_test_root = testData_pad[2]  # root feature\n",
        "X_test_genRat = np.stack((testData_pad[6], testData_pad[7]), axis=-1)  # gender & rational features\n",
        "X_test_numOfRoot = testData_pad[8].reshape((testData_pad[8].shape[0], -1))  # number of root\n",
        "\n",
        "y_test_class = testData_pad[5].reshape((testData_pad[5].shape[0], -1))  # broken or sound classes\n",
        "y_test_plPattern = testData_pad[4]  # plural pattern\n",
        "y_test_inflection = testData_pad[3]  # inflection\n",
        "\n",
        "print('X_train_lemma shape: ', X_train_lemma.shape)\n",
        "print('X_train_singularPattern shape: ', X_train_singularPattern.shape)\n",
        "print('X_train_root shape: ', X_train_root.shape)\n",
        "print('X_train_genRat shape: ', X_train_genRat.shape)\n",
        "print('X_train_numOfRoot shape: ', X_train_numOfRoot.shape)\n",
        "print('y_train_class shape: ', y_train_class.shape)\n",
        "print('y_train_plPattern shape: ', y_train_plPattern.shape)\n",
        "print('y_train_unflection shape: ', y_train_inflection.shape)"
      ]
    },
    {
      "cell_type": "code",
      "execution_count": null,
      "metadata": {
        "colab": {
          "base_uri": "https://localhost:8080/"
        },
        "id": "z5tEprqGClaG",
        "outputId": "977bfdca-9fae-468b-81ae-a62f7d8e5f28"
      },
      "outputs": [
        {
          "name": "stdout",
          "output_type": "stream",
          "text": [
            "(2475, 17, 50)\n",
            "(2475, 17, 50)\n",
            "(2475, 4, 50)\n",
            "(2475, 18, 50)\n",
            "(2475, 18, 50)\n"
          ]
        }
      ],
      "source": [
        "# Convert to ONE-HOT encoding\n",
        "X_train_lemma_OH = to_categorical(X_train_lemma, len(char_index))\n",
        "X_train_singularPattern_OH = to_categorical(X_train_singularPattern, len(char_index))\n",
        "X_train_root_OH = to_categorical(X_train_root, len(char_index))\n",
        "\n",
        "X_dev_lemma_OH = to_categorical(X_dev_lemma, len(char_index))\n",
        "X_dev_singularPattern_OH = to_categorical(X_dev_singularPattern, len(char_index))\n",
        "X_dev_root_OH = to_categorical(X_dev_root, len(char_index))\n",
        "\n",
        "X_test_lemma_OH = to_categorical(X_test_lemma, len(char_index))\n",
        "X_test_singularPattern_OH = to_categorical(X_test_singularPattern, len(char_index))\n",
        "X_test_root_OH = to_categorical(X_test_root, len(char_index))\n",
        "\n",
        "y_train_plPattern_OH = to_categorical(y_train_plPattern, len(char_index))\n",
        "y_dev_plPattern_OH = to_categorical(y_dev_plPattern, len(char_index))\n",
        "y_test_plPattern_OH = to_categorical(y_test_plPattern, len(char_index))\n",
        "\n",
        "y_train_inflection_OH = to_categorical(y_train_inflection, len(char_index))\n",
        "y_dev_inflection_OH = to_categorical(y_dev_inflection, len(char_index))\n",
        "y_test_inflection_OH = to_categorical(y_test_inflection, len(char_index))\n",
        "\n",
        "print(X_train_lemma_OH.shape)\n",
        "print(X_train_singularPattern_OH.shape)\n",
        "print(X_train_root_OH.shape)\n",
        "print(y_train_plPattern_OH.shape)\n",
        "print(y_train_inflection_OH.shape)"
      ]
    },
    {
      "cell_type": "code",
      "execution_count": null,
      "metadata": {
        "id": "IxUhzb3nClaG"
      },
      "outputs": [],
      "source": [
        "# covern numerical inputs to int32\n",
        "X_train_genRat = np.asarray(X_train_genRat).astype('int32')\n",
        "X_train_numOfRoot = np.asarray(X_train_numOfRoot).astype('int32')\n",
        "X_dev_genRat = np.asarray(X_dev_genRat).astype('int32')\n",
        "X_dev_numOfRoot = np.asarray(X_dev_numOfRoot).astype('int32')\n",
        "X_test_genRat = np.asarray(X_test_genRat).astype('int32')\n",
        "X_test_numOfRoot = np.asarray(X_test_numOfRoot).astype('int32')\n",
        "\n",
        "y_train_class = np.asarray(y_train_class).astype('int32')\n",
        "y_dev_class = np.asarray(y_dev_class).astype('int32')\n",
        "y_test_class = np.asarray(y_test_class).astype('int32')"
      ]
    },
    {
      "cell_type": "markdown",
      "metadata": {
        "id": "g4MC1JT3TSec"
      },
      "source": [
        "# **Helper Functions**"
      ]
    },
    {
      "cell_type": "code",
      "execution_count": null,
      "metadata": {
        "id": "PtI4-1PCuFcB"
      },
      "outputs": [],
      "source": [
        "def getDuplicateIndexes(data):\n",
        "  dupindex={}\n",
        "  for i in range(len(data[0])):\n",
        "    if dupindex.get(data[0][i])==None:\n",
        "      dupindex[data[0][i]]=[]\n",
        "    dupindex[data[0][i]].append(i)\n",
        "\n",
        "  return dupindex\n",
        "\n",
        "def reportErrorAnalysis_duplicates(dataframe,dicDup,path):\n",
        "  df=dataframe.loc[[]]\n",
        "  \n",
        "  indexes=[]\n",
        "  for key, value in dicDup.items():\n",
        "    for x in value:\n",
        "      n=len(df)\n",
        "      indexes.append(x)\n",
        "      df.loc[n]=dataframe.loc[x]\n",
        "  df.insert(0, \"index\", indexes, True)\n",
        "  df.to_csv(path)\n",
        "  return df\n",
        "\n",
        "\n",
        "#Save similar lemmas indexes in dictionary (key->lemma | value->list of indexes)\n",
        "trainDupIndex=getDuplicateIndexes(trainData)\n",
        "devDupIndex=getDuplicateIndexes(devData)\n",
        "testDupIndex=getDuplicateIndexes(testData)\n",
        "\n",
        "\n",
        "#Save Duplicate report on data in csv\n",
        "trainDuplicateCsv=reportErrorAnalysis_duplicates(train_csv,trainDupIndex,dataPath+\"/duplicateAnalyssis_train.csv\")\n",
        "devDuplicateCsv=reportErrorAnalysis_duplicates(dev_csv,devDupIndex,dataPath+\"/duplicateAnalyssis_dev.csv\")\n",
        "testDuplicateCsv=reportErrorAnalysis_duplicates(test_csv,testDupIndex,dataPath+\"/duplicateAnalyssis_test.csv\")\n",
        "\n",
        "#Generate lemma-inflection refrence\n",
        "dic_lemmaInflection={}\n",
        "def updateDic_lemmaInflection(Data,dupIndex):\n",
        "  global dic_lemmaInflection\n",
        "  for key, value in dupIndex.items():\n",
        "    if dic_lemmaInflection.get(key)==None:\n",
        "      dic_lemmaInflection[key]=[]\n",
        "      for x in value : \n",
        "        if not Data[3][x] in dic_lemmaInflection[key]: dic_lemmaInflection[key].append(Data[3][x])\n",
        "\n",
        "updateDic_lemmaInflection(trainData,trainDupIndex)\n",
        "updateDic_lemmaInflection(testData,testDupIndex)\n",
        "updateDic_lemmaInflection(devData,devDupIndex)\n",
        "\n"
      ]
    },
    {
      "cell_type": "code",
      "execution_count": null,
      "metadata": {
        "colab": {
          "base_uri": "https://localhost:8080/"
        },
        "id": "qXiNUVV7zFqX",
        "outputId": "ece2c4d9-b532-4746-ac2e-7786471f11fe"
      },
      "outputs": [
        {
          "data": {
            "text/plain": [
              "<function __main__.updateDic_lemmaInflection(Data, dupIndex)>"
            ]
          },
          "execution_count": 94,
          "metadata": {},
          "output_type": "execute_result"
        }
      ],
      "source": [
        "updateDic_lemmaInflection"
      ]
    },
    {
      "cell_type": "code",
      "execution_count": null,
      "metadata": {
        "id": "PYqxULkbTSed"
      },
      "outputs": [],
      "source": [
        "def oneHot2D(arr):\n",
        "    tmp = np.zeros_like(arr)\n",
        "    tmp[np.arange(len(arr)), arr.argmax(1)] = 1\n",
        "    return tmp\n",
        "\n",
        "def oneHot3D(arr):\n",
        "    tmp = np.array([oneHot2D(x) for x in arr])\n",
        "    return tmp"
      ]
    },
    {
      "cell_type": "code",
      "execution_count": null,
      "metadata": {
        "id": "lR89g_k_7dYp"
      },
      "outputs": [],
      "source": [
        "char_index_key_list = list(char_index.keys())\n",
        "char_index_val_list = list(char_index.values())\n",
        "def getCharFromIdx(idx):\n",
        "  position = char_index_val_list.index(idx)\n",
        "  return char_index_key_list[position]"
      ]
    },
    {
      "cell_type": "code",
      "execution_count": null,
      "metadata": {
        "id": "M6wNFevTTSee"
      },
      "outputs": [],
      "source": [
        "def getWordFromOnehot(onehot):\n",
        "  encoded=np.argmax(onehot,axis=1)\n",
        "  word=[]\n",
        "  for x in encoded :\n",
        "    if x==0:break\n",
        "    word.append(getCharFromIdx(x))\n",
        "  return ''.join(word)\n",
        "\n",
        "def binaryConversion(arr, threshold=0.5):\n",
        "  tmp = np.zeros_like(arr)\n",
        "  tmp[arr > threshold] = 1\n",
        "  return tmp\n",
        "\n",
        "def reportResult(model, history, X_test, y_test):\n",
        "\n",
        "    # best models based on acc or loss in tarin set or test set\n",
        "    testHistory = list(\n",
        "        map(lambda x, y: [x, y], history['val_accuracy'], history['val_loss']))\n",
        "    print(\n",
        "        f\"best model based on min test set loss:  acc= {min(testHistory, key = lambda k: k[1])[0]}  loss= {min(testHistory, key = lambda k: k[1])[1]}\")\n",
        "    print(\n",
        "        f\"best model based on max test set accuracy:  acc= {max(testHistory, key = lambda k: k[0])[0]}  loss= {max(testHistory, key = lambda k: k[0])[1]}\")\n",
        "\n",
        "    print(\"\\nevaluate dataset with best model based on maximum test set accuracy\")\n",
        "    print(\"evaluate test set = \", model.evaluate(X_test, y_test, verbose=0))\n",
        "\n",
        "    y_test_pred = model.predict(X_test)\n",
        "    y_test_pred = binaryConversion(y_test_pred)\n",
        "\n",
        "    # confusion matrix and precision, recall and f1 report\n",
        "    print('-'*30, 'metrics for test set', '-'*30)\n",
        "    print(\"confusion matrix: \\n\", metrics.confusion_matrix(y_test, y_test_pred))\n",
        "    print(metrics.classification_report(y_test,\n",
        "          y_test_pred, digits=3, target_names=['Broken', 'Sound']))\n",
        "    \n",
        "def argmaxKeepDimensions(arr):\n",
        "  tmp = np.zeros_like(arr)\n",
        "  tmp[np.arange(len(arr)), arr.argmax(1)] = 1\n",
        "  return tmp\n",
        "\n",
        "def checkAccuracy(pred, true):\n",
        "  size = pred.shape[0]\n",
        "  numOfTrue = 0\n",
        "  for (x, y) in zip(pred, true):\n",
        "    if np.array_equal(x, y):\n",
        "      numOfTrue += 1\n",
        "  \n",
        "  return size-numOfTrue, numOfTrue/size\n",
        "\n",
        "def checkAccuracy_anyAcceptableInflectionInDataset(lemma, pred, dic_refrence):\n",
        "  size = pred.shape[0]\n",
        "  numOfTrue = 0\n",
        "  for i in range (len(pred)):\n",
        "    w=getWordFromOnehot(pred[i])\n",
        "    if w in dic_refrence[lemma[i]]:\n",
        "      numOfTrue += 1\n",
        "  \n",
        "  return size-numOfTrue, numOfTrue/size\n",
        "\n",
        "def reportErrorAnalysis(lemma, bs, pred_OH, inflection_OH, path):\n",
        "  size = pred_OH.shape[0]\n",
        "  report={'index':[], 'lemma':[], 'b/s':[], 'inflection':[], 'predict':[]}\n",
        "  i=0\n",
        "  for (x, y) in zip(pred_OH, inflection_OH):\n",
        "    if not np.array_equal(x, y):\n",
        "      report['index'].append(i)\n",
        "      report['lemma'].append(lemma[i])\n",
        "      report['b/s'].append(bs[i])\n",
        "      report['inflection'].append(getWordFromOnehot(inflection_OH[i]))\n",
        "      report['predict'].append(getWordFromOnehot(pred_OH[i]))\n",
        "    i+=1\n",
        "  \n",
        "  df = pd.DataFrame(report) \n",
        "  df.to_csv(path)\n",
        "  return df"
      ]
    },
    {
      "cell_type": "code",
      "execution_count": null,
      "metadata": {
        "id": "jPbJ_pHqmsyV"
      },
      "outputs": [],
      "source": [
        "def reportPercentageOfBrokenSoundErrors(dataset_errorAnalysis):\n",
        "  total_errors_num = dataset_errorAnalysis.shape[0]\n",
        "  train_sound_error = np.sum(dataset_errorAnalysis['b/s'])\n",
        "  train_broken_error = total_errors_num - train_sound_error\n",
        "  return train_broken_error/total_errors_num * 100, train_sound_error/total_errors_num * 100\n",
        "\n",
        "def reportPercentageOfUnseenErrors(errorIndices, unseenIndices):\n",
        "  isInUnseen = np.array([index in unseenIndices for index in errorIndices])\n",
        "  return np.count_nonzero(isInUnseen==True) / len(errorIndices) * 100, np.count_nonzero(isInUnseen==True) / len(unseenIndices) * 100"
      ]
    },
    {
      "cell_type": "markdown",
      "metadata": {
        "id": "5aRDIUaOvvJv"
      },
      "source": [
        "# **Classification Models**"
      ]
    },
    {
      "cell_type": "code",
      "execution_count": null,
      "metadata": {
        "id": "o2WmPwVwV7z-"
      },
      "outputs": [],
      "source": [
        "path = '/content/drive/MyDrive/AI Projects/Arabic Broken Plural/Results/Classification Models'"
      ]
    },
    {
      "cell_type": "code",
      "execution_count": null,
      "metadata": {
        "id": "caFMHfjbiMQT"
      },
      "outputs": [],
      "source": [
        "lemma_length = X_train_lemma_OH.shape[1] #17\n",
        "encode_size = X_train_lemma_OH.shape[2] #50\n",
        "genRat_length = X_train_genRat.shape[1] #2\n",
        "\n",
        "epochs = 100\n",
        "batch_size = 64"
      ]
    },
    {
      "cell_type": "markdown",
      "metadata": {
        "id": "wYae4z1hhH4t"
      },
      "source": [
        "## **Model 1**"
      ]
    },
    {
      "cell_type": "code",
      "execution_count": null,
      "metadata": {
        "colab": {
          "base_uri": "https://localhost:8080/"
        },
        "id": "BUCsnXkThH4z",
        "outputId": "1777c274-ea48-4abf-f093-363b0a28f70e"
      },
      "outputs": [
        {
          "name": "stderr",
          "output_type": "stream",
          "text": [
            "WARNING:tensorflow:Compiled the loaded model, but the compiled metrics have yet to be built. `model.compile_metrics` will be empty until you train or evaluate the model.\n"
          ]
        }
      ],
      "source": [
        "input_lemma = Input(shape=(lemma_length, encode_size), name='Lemma')\n",
        "input_genRat = Input(shape=(genRat_length,), name='Gender-Rational')\n",
        "\n",
        "\n",
        "lstm = Bidirectional(LSTM(256, name='Lstm'), name='Bidirectional')(input_lemma)\n",
        "\n",
        "c = Concatenate(axis=1, name='Concatenate')([lstm, input_genRat])\n",
        "\n",
        "d = Dense(256, activation='relu', name='Dense1')(c)\n",
        "d = Dense(64, activation='relu', name='Dense2')(d)\n",
        "# d = Dense(32, activation='relu')(d)\n",
        "\n",
        "output = Dense(1, activation='sigmoid', name='Class')(d)\n",
        "model = Model(inputs=[input_lemma, input_genRat], outputs=output)\n",
        "\n",
        "model.save(path + \"/model 1/structure.h5\")\n",
        "\n",
        "checkpoint_filepath = path + '/model 1/weights.hdf5'\n",
        "checkpoint = ModelCheckpoint(filepath=checkpoint_filepath, monitor='val_accuracy', mode='max', save_best_only=True, verbose=0)\n",
        "\n",
        "model.compile(loss=\"binary_crossentropy\", optimizer=Adam(0.001), metrics=['accuracy'])"
      ]
    },
    {
      "cell_type": "code",
      "execution_count": null,
      "metadata": {
        "colab": {
          "background_save": true,
          "base_uri": "https://localhost:8080/"
        },
        "id": "gd9ygt4yhH4-",
        "outputId": "3747cc22-713a-420e-de86-5db852da1ace"
      },
      "outputs": [
        {
          "name": "stdout",
          "output_type": "stream",
          "text": [
            "Epoch 1/100\n",
            "39/39 [==============================] - 4s 35ms/step - loss: 0.5688 - accuracy: 0.7030 - val_loss: 0.4507 - val_accuracy: 0.7868\n",
            "Epoch 2/100\n",
            "39/39 [==============================] - 0s 11ms/step - loss: 0.4602 - accuracy: 0.7681 - val_loss: 0.4350 - val_accuracy: 0.7783\n",
            "Epoch 3/100\n",
            "39/39 [==============================] - 0s 12ms/step - loss: 0.4289 - accuracy: 0.7814 - val_loss: 0.3930 - val_accuracy: 0.8104\n",
            "Epoch 4/100\n",
            "39/39 [==============================] - 1s 13ms/step - loss: 0.3971 - accuracy: 0.8053 - val_loss: 0.3601 - val_accuracy: 0.8217\n",
            "Epoch 5/100\n",
            "39/39 [==============================] - 0s 13ms/step - loss: 0.3812 - accuracy: 0.8198 - val_loss: 0.3560 - val_accuracy: 0.8302\n",
            "Epoch 6/100\n",
            "39/39 [==============================] - 1s 13ms/step - loss: 0.3507 - accuracy: 0.8376 - val_loss: 0.3254 - val_accuracy: 0.8443\n",
            "Epoch 7/100\n",
            "39/39 [==============================] - 1s 14ms/step - loss: 0.3262 - accuracy: 0.8525 - val_loss: 0.3029 - val_accuracy: 0.8623\n",
            "Epoch 8/100\n",
            "39/39 [==============================] - 1s 14ms/step - loss: 0.3207 - accuracy: 0.8493 - val_loss: 0.2909 - val_accuracy: 0.8792\n",
            "Epoch 9/100\n",
            "39/39 [==============================] - 0s 11ms/step - loss: 0.3066 - accuracy: 0.8715 - val_loss: 0.2856 - val_accuracy: 0.8736\n",
            "Epoch 10/100\n",
            "39/39 [==============================] - 0s 11ms/step - loss: 0.2877 - accuracy: 0.8788 - val_loss: 0.2816 - val_accuracy: 0.8698\n",
            "Epoch 11/100\n",
            "39/39 [==============================] - 0s 11ms/step - loss: 0.2897 - accuracy: 0.8760 - val_loss: 0.2809 - val_accuracy: 0.8717\n",
            "Epoch 12/100\n",
            "39/39 [==============================] - 0s 13ms/step - loss: 0.2772 - accuracy: 0.8780 - val_loss: 0.2734 - val_accuracy: 0.8877\n",
            "Epoch 13/100\n",
            "39/39 [==============================] - 0s 11ms/step - loss: 0.2691 - accuracy: 0.8764 - val_loss: 0.2598 - val_accuracy: 0.8868\n",
            "Epoch 14/100\n",
            "39/39 [==============================] - 1s 13ms/step - loss: 0.2619 - accuracy: 0.8828 - val_loss: 0.2508 - val_accuracy: 0.8906\n",
            "Epoch 15/100\n",
            "39/39 [==============================] - 1s 13ms/step - loss: 0.2428 - accuracy: 0.8909 - val_loss: 0.2487 - val_accuracy: 0.8943\n",
            "Epoch 16/100\n",
            "39/39 [==============================] - 0s 11ms/step - loss: 0.2430 - accuracy: 0.8954 - val_loss: 0.2723 - val_accuracy: 0.8868\n",
            "Epoch 17/100\n",
            "39/39 [==============================] - 1s 13ms/step - loss: 0.2364 - accuracy: 0.8958 - val_loss: 0.2519 - val_accuracy: 0.8981\n",
            "Epoch 18/100\n",
            "39/39 [==============================] - 0s 13ms/step - loss: 0.2362 - accuracy: 0.8970 - val_loss: 0.2330 - val_accuracy: 0.9019\n",
            "Epoch 19/100\n",
            "39/39 [==============================] - 0s 13ms/step - loss: 0.2167 - accuracy: 0.9075 - val_loss: 0.2287 - val_accuracy: 0.9038\n",
            "Epoch 20/100\n",
            "39/39 [==============================] - 0s 10ms/step - loss: 0.2028 - accuracy: 0.9139 - val_loss: 0.2378 - val_accuracy: 0.8943\n",
            "Epoch 21/100\n",
            "39/39 [==============================] - 1s 14ms/step - loss: 0.2069 - accuracy: 0.9079 - val_loss: 0.2133 - val_accuracy: 0.9085\n",
            "Epoch 22/100\n",
            "39/39 [==============================] - 1s 13ms/step - loss: 0.1894 - accuracy: 0.9188 - val_loss: 0.2283 - val_accuracy: 0.9066\n",
            "Epoch 23/100\n",
            "39/39 [==============================] - 1s 18ms/step - loss: 0.1851 - accuracy: 0.9240 - val_loss: 0.2029 - val_accuracy: 0.9160\n",
            "Epoch 24/100\n",
            "39/39 [==============================] - 1s 18ms/step - loss: 0.1802 - accuracy: 0.9204 - val_loss: 0.1945 - val_accuracy: 0.9179\n",
            "Epoch 25/100\n",
            "39/39 [==============================] - 1s 15ms/step - loss: 0.1585 - accuracy: 0.9386 - val_loss: 0.2295 - val_accuracy: 0.9113\n",
            "Epoch 26/100\n",
            "39/39 [==============================] - 1s 18ms/step - loss: 0.1706 - accuracy: 0.9212 - val_loss: 0.1870 - val_accuracy: 0.9302\n",
            "Epoch 27/100\n",
            "39/39 [==============================] - 1s 13ms/step - loss: 0.1403 - accuracy: 0.9422 - val_loss: 0.1969 - val_accuracy: 0.9283\n",
            "Epoch 28/100\n",
            "39/39 [==============================] - 0s 11ms/step - loss: 0.1359 - accuracy: 0.9438 - val_loss: 0.1996 - val_accuracy: 0.9226\n",
            "Epoch 29/100\n",
            "39/39 [==============================] - 1s 13ms/step - loss: 0.1330 - accuracy: 0.9426 - val_loss: 0.2010 - val_accuracy: 0.9358\n",
            "Epoch 30/100\n",
            "39/39 [==============================] - 0s 13ms/step - loss: 0.1113 - accuracy: 0.9535 - val_loss: 0.1838 - val_accuracy: 0.9472\n",
            "Epoch 31/100\n",
            "39/39 [==============================] - 0s 11ms/step - loss: 0.1097 - accuracy: 0.9543 - val_loss: 0.2169 - val_accuracy: 0.9340\n",
            "Epoch 32/100\n",
            "39/39 [==============================] - 0s 10ms/step - loss: 0.1053 - accuracy: 0.9584 - val_loss: 0.2067 - val_accuracy: 0.9274\n",
            "Epoch 33/100\n",
            "39/39 [==============================] - 0s 10ms/step - loss: 0.1116 - accuracy: 0.9556 - val_loss: 0.1942 - val_accuracy: 0.9330\n",
            "Epoch 34/100\n",
            "39/39 [==============================] - 1s 13ms/step - loss: 0.0894 - accuracy: 0.9653 - val_loss: 0.1630 - val_accuracy: 0.9519\n",
            "Epoch 35/100\n",
            "39/39 [==============================] - 1s 13ms/step - loss: 0.0776 - accuracy: 0.9681 - val_loss: 0.1622 - val_accuracy: 0.9632\n",
            "Epoch 36/100\n",
            "39/39 [==============================] - 0s 11ms/step - loss: 0.0595 - accuracy: 0.9778 - val_loss: 0.1584 - val_accuracy: 0.9594\n",
            "Epoch 37/100\n",
            "39/39 [==============================] - 0s 11ms/step - loss: 0.0673 - accuracy: 0.9741 - val_loss: 0.2419 - val_accuracy: 0.9415\n",
            "Epoch 38/100\n",
            "39/39 [==============================] - 0s 11ms/step - loss: 0.1180 - accuracy: 0.9584 - val_loss: 0.2078 - val_accuracy: 0.9462\n",
            "Epoch 39/100\n",
            "39/39 [==============================] - 0s 13ms/step - loss: 0.0743 - accuracy: 0.9693 - val_loss: 0.1838 - val_accuracy: 0.9642\n",
            "Epoch 40/100\n",
            "39/39 [==============================] - 1s 13ms/step - loss: 0.0513 - accuracy: 0.9846 - val_loss: 0.1863 - val_accuracy: 0.9670\n",
            "Epoch 41/100\n",
            "39/39 [==============================] - 0s 13ms/step - loss: 0.0378 - accuracy: 0.9883 - val_loss: 0.1584 - val_accuracy: 0.9708\n",
            "Epoch 42/100\n",
            "39/39 [==============================] - 0s 11ms/step - loss: 0.0340 - accuracy: 0.9911 - val_loss: 0.1800 - val_accuracy: 0.9689\n",
            "Epoch 43/100\n",
            "39/39 [==============================] - 0s 12ms/step - loss: 0.0332 - accuracy: 0.9887 - val_loss: 0.1744 - val_accuracy: 0.9698\n",
            "Epoch 44/100\n",
            "39/39 [==============================] - 0s 11ms/step - loss: 0.0348 - accuracy: 0.9883 - val_loss: 0.1544 - val_accuracy: 0.9651\n",
            "Epoch 45/100\n",
            "39/39 [==============================] - 0s 10ms/step - loss: 0.0382 - accuracy: 0.9871 - val_loss: 0.1836 - val_accuracy: 0.9651\n",
            "Epoch 46/100\n",
            "39/39 [==============================] - 1s 13ms/step - loss: 0.0261 - accuracy: 0.9943 - val_loss: 0.2216 - val_accuracy: 0.9717\n",
            "Epoch 47/100\n",
            "39/39 [==============================] - 1s 13ms/step - loss: 0.0219 - accuracy: 0.9947 - val_loss: 0.2172 - val_accuracy: 0.9660\n",
            "Epoch 48/100\n",
            "39/39 [==============================] - 0s 11ms/step - loss: 0.0449 - accuracy: 0.9851 - val_loss: 0.2338 - val_accuracy: 0.9481\n",
            "Epoch 49/100\n",
            "39/39 [==============================] - 0s 11ms/step - loss: 0.0814 - accuracy: 0.9685 - val_loss: 0.2331 - val_accuracy: 0.9660\n",
            "Epoch 50/100\n",
            "39/39 [==============================] - 0s 11ms/step - loss: 0.0383 - accuracy: 0.9859 - val_loss: 0.2163 - val_accuracy: 0.9670\n",
            "Epoch 51/100\n",
            "39/39 [==============================] - 0s 11ms/step - loss: 0.0387 - accuracy: 0.9887 - val_loss: 0.2286 - val_accuracy: 0.9594\n",
            "Epoch 52/100\n",
            "39/39 [==============================] - 0s 11ms/step - loss: 0.0332 - accuracy: 0.9883 - val_loss: 0.1848 - val_accuracy: 0.9670\n",
            "Epoch 53/100\n",
            "39/39 [==============================] - 0s 11ms/step - loss: 0.0190 - accuracy: 0.9952 - val_loss: 0.2120 - val_accuracy: 0.9698\n",
            "Epoch 54/100\n",
            "39/39 [==============================] - 0s 11ms/step - loss: 0.0103 - accuracy: 0.9988 - val_loss: 0.2107 - val_accuracy: 0.9698\n",
            "Epoch 55/100\n",
            "39/39 [==============================] - 0s 11ms/step - loss: 0.0081 - accuracy: 0.9980 - val_loss: 0.2147 - val_accuracy: 0.9708\n",
            "Epoch 56/100\n",
            "39/39 [==============================] - 0s 11ms/step - loss: 0.0052 - accuracy: 0.9996 - val_loss: 0.2273 - val_accuracy: 0.9689\n",
            "Epoch 57/100\n",
            "39/39 [==============================] - 0s 11ms/step - loss: 0.0046 - accuracy: 0.9996 - val_loss: 0.2274 - val_accuracy: 0.9717\n",
            "Epoch 58/100\n",
            "39/39 [==============================] - 0s 11ms/step - loss: 0.0018 - accuracy: 1.0000 - val_loss: 0.2303 - val_accuracy: 0.9717\n",
            "Epoch 59/100\n",
            "39/39 [==============================] - 1s 14ms/step - loss: 0.0013 - accuracy: 1.0000 - val_loss: 0.2379 - val_accuracy: 0.9745\n",
            "Epoch 60/100\n",
            "39/39 [==============================] - 0s 11ms/step - loss: 0.0011 - accuracy: 1.0000 - val_loss: 0.2410 - val_accuracy: 0.9745\n",
            "Epoch 61/100\n",
            "39/39 [==============================] - 1s 13ms/step - loss: 9.1426e-04 - accuracy: 1.0000 - val_loss: 0.2432 - val_accuracy: 0.9745\n",
            "Epoch 62/100\n",
            "39/39 [==============================] - 0s 10ms/step - loss: 8.1149e-04 - accuracy: 1.0000 - val_loss: 0.2478 - val_accuracy: 0.9745\n",
            "Epoch 63/100\n",
            "39/39 [==============================] - 1s 13ms/step - loss: 7.5380e-04 - accuracy: 1.0000 - val_loss: 0.2501 - val_accuracy: 0.9755\n",
            "Epoch 64/100\n",
            "39/39 [==============================] - 0s 11ms/step - loss: 6.6112e-04 - accuracy: 1.0000 - val_loss: 0.2526 - val_accuracy: 0.9755\n",
            "Epoch 65/100\n",
            "39/39 [==============================] - 0s 10ms/step - loss: 5.9433e-04 - accuracy: 1.0000 - val_loss: 0.2544 - val_accuracy: 0.9755\n",
            "Epoch 66/100\n",
            "39/39 [==============================] - 0s 11ms/step - loss: 5.5450e-04 - accuracy: 1.0000 - val_loss: 0.2576 - val_accuracy: 0.9755\n",
            "Epoch 67/100\n",
            "39/39 [==============================] - 0s 11ms/step - loss: 5.0481e-04 - accuracy: 1.0000 - val_loss: 0.2596 - val_accuracy: 0.9755\n",
            "Epoch 68/100\n",
            "39/39 [==============================] - 0s 11ms/step - loss: 4.6546e-04 - accuracy: 1.0000 - val_loss: 0.2620 - val_accuracy: 0.9755\n",
            "Epoch 69/100\n",
            "39/39 [==============================] - 0s 11ms/step - loss: 4.2829e-04 - accuracy: 1.0000 - val_loss: 0.2642 - val_accuracy: 0.9755\n",
            "Epoch 70/100\n",
            "39/39 [==============================] - 0s 11ms/step - loss: 3.9858e-04 - accuracy: 1.0000 - val_loss: 0.2666 - val_accuracy: 0.9755\n",
            "Epoch 71/100\n",
            "39/39 [==============================] - 0s 11ms/step - loss: 3.7403e-04 - accuracy: 1.0000 - val_loss: 0.2685 - val_accuracy: 0.9755\n",
            "Epoch 72/100\n",
            "39/39 [==============================] - 0s 10ms/step - loss: 3.4511e-04 - accuracy: 1.0000 - val_loss: 0.2702 - val_accuracy: 0.9755\n",
            "Epoch 73/100\n",
            "39/39 [==============================] - 0s 11ms/step - loss: 3.2459e-04 - accuracy: 1.0000 - val_loss: 0.2729 - val_accuracy: 0.9755\n",
            "Epoch 74/100\n",
            "39/39 [==============================] - 0s 11ms/step - loss: 2.9421e-04 - accuracy: 1.0000 - val_loss: 0.2745 - val_accuracy: 0.9755\n",
            "Epoch 75/100\n",
            "39/39 [==============================] - 0s 11ms/step - loss: 2.8018e-04 - accuracy: 1.0000 - val_loss: 0.2762 - val_accuracy: 0.9755\n",
            "Epoch 76/100\n",
            "39/39 [==============================] - 0s 11ms/step - loss: 2.6401e-04 - accuracy: 1.0000 - val_loss: 0.2768 - val_accuracy: 0.9755\n",
            "Epoch 77/100\n",
            "39/39 [==============================] - 0s 12ms/step - loss: 2.4668e-04 - accuracy: 1.0000 - val_loss: 0.2791 - val_accuracy: 0.9755\n",
            "Epoch 78/100\n",
            "39/39 [==============================] - 0s 11ms/step - loss: 2.3065e-04 - accuracy: 1.0000 - val_loss: 0.2805 - val_accuracy: 0.9755\n",
            "Epoch 79/100\n",
            "39/39 [==============================] - 0s 13ms/step - loss: 2.1602e-04 - accuracy: 1.0000 - val_loss: 0.2825 - val_accuracy: 0.9755\n",
            "Epoch 80/100\n",
            "39/39 [==============================] - 0s 12ms/step - loss: 2.0523e-04 - accuracy: 1.0000 - val_loss: 0.2837 - val_accuracy: 0.9755\n",
            "Epoch 81/100\n",
            "39/39 [==============================] - 0s 11ms/step - loss: 1.9262e-04 - accuracy: 1.0000 - val_loss: 0.2855 - val_accuracy: 0.9755\n",
            "Epoch 82/100\n",
            "39/39 [==============================] - 0s 12ms/step - loss: 1.8270e-04 - accuracy: 1.0000 - val_loss: 0.2872 - val_accuracy: 0.9755\n",
            "Epoch 83/100\n",
            "39/39 [==============================] - 0s 11ms/step - loss: 1.7058e-04 - accuracy: 1.0000 - val_loss: 0.2887 - val_accuracy: 0.9755\n",
            "Epoch 84/100\n",
            "39/39 [==============================] - 0s 11ms/step - loss: 1.6304e-04 - accuracy: 1.0000 - val_loss: 0.2904 - val_accuracy: 0.9755\n",
            "Epoch 85/100\n",
            "39/39 [==============================] - 0s 11ms/step - loss: 1.5455e-04 - accuracy: 1.0000 - val_loss: 0.2913 - val_accuracy: 0.9755\n",
            "Epoch 86/100\n",
            "39/39 [==============================] - 0s 11ms/step - loss: 1.4550e-04 - accuracy: 1.0000 - val_loss: 0.2940 - val_accuracy: 0.9755\n",
            "Epoch 87/100\n",
            "39/39 [==============================] - 0s 11ms/step - loss: 1.3952e-04 - accuracy: 1.0000 - val_loss: 0.2956 - val_accuracy: 0.9755\n",
            "Epoch 88/100\n",
            "39/39 [==============================] - 0s 10ms/step - loss: 1.3167e-04 - accuracy: 1.0000 - val_loss: 0.2969 - val_accuracy: 0.9755\n",
            "Epoch 89/100\n",
            "39/39 [==============================] - 0s 11ms/step - loss: 1.2384e-04 - accuracy: 1.0000 - val_loss: 0.2983 - val_accuracy: 0.9755\n",
            "Epoch 90/100\n",
            "39/39 [==============================] - 0s 11ms/step - loss: 1.1729e-04 - accuracy: 1.0000 - val_loss: 0.2999 - val_accuracy: 0.9755\n",
            "Epoch 91/100\n",
            "39/39 [==============================] - 0s 11ms/step - loss: 1.1170e-04 - accuracy: 1.0000 - val_loss: 0.3016 - val_accuracy: 0.9755\n",
            "Epoch 92/100\n",
            "39/39 [==============================] - 0s 11ms/step - loss: 1.0573e-04 - accuracy: 1.0000 - val_loss: 0.3024 - val_accuracy: 0.9755\n",
            "Epoch 93/100\n",
            "39/39 [==============================] - 0s 10ms/step - loss: 1.0126e-04 - accuracy: 1.0000 - val_loss: 0.3040 - val_accuracy: 0.9755\n",
            "Epoch 94/100\n",
            "39/39 [==============================] - 0s 11ms/step - loss: 9.6563e-05 - accuracy: 1.0000 - val_loss: 0.3056 - val_accuracy: 0.9755\n",
            "Epoch 95/100\n",
            "39/39 [==============================] - 0s 10ms/step - loss: 9.1750e-05 - accuracy: 1.0000 - val_loss: 0.3064 - val_accuracy: 0.9755\n",
            "Epoch 96/100\n",
            "39/39 [==============================] - 0s 11ms/step - loss: 8.8305e-05 - accuracy: 1.0000 - val_loss: 0.3091 - val_accuracy: 0.9755\n",
            "Epoch 97/100\n",
            "39/39 [==============================] - 0s 10ms/step - loss: 8.4385e-05 - accuracy: 1.0000 - val_loss: 0.3091 - val_accuracy: 0.9755\n",
            "Epoch 98/100\n",
            "39/39 [==============================] - 0s 10ms/step - loss: 7.9518e-05 - accuracy: 1.0000 - val_loss: 0.3104 - val_accuracy: 0.9755\n",
            "Epoch 99/100\n",
            "39/39 [==============================] - 0s 11ms/step - loss: 7.7286e-05 - accuracy: 1.0000 - val_loss: 0.3120 - val_accuracy: 0.9755\n",
            "Epoch 100/100\n",
            "39/39 [==============================] - 0s 10ms/step - loss: 7.3585e-05 - accuracy: 1.0000 - val_loss: 0.3142 - val_accuracy: 0.9755\n"
          ]
        }
      ],
      "source": [
        "with tf.device('/GPU:0'):\n",
        "  history = model.fit([X_train_lemma_OH, X_train_genRat], y_train_class, batch_size=batch_size, epochs=epochs, \n",
        "                      verbose=1, callbacks=[checkpoint], validation_data=([X_dev_lemma_OH, X_dev_genRat], y_dev_class)).history"
      ]
    },
    {
      "cell_type": "code",
      "execution_count": null,
      "metadata": {
        "colab": {
          "background_save": true
        },
        "id": "BB-ixvAghH5E",
        "outputId": "5f2ab258-041c-4797-a786-71888ffcd848"
      },
      "outputs": [
        {
          "name": "stdout",
          "output_type": "stream",
          "text": [
            "Model: \"model_14\"\n",
            "__________________________________________________________________________________________________\n",
            " Layer (type)                   Output Shape         Param #     Connected to                     \n",
            "==================================================================================================\n",
            " Lemma (InputLayer)             [(None, 17, 50)]     0           []                               \n",
            "                                                                                                  \n",
            " Bidirectional (Bidirectional)  (None, 512)          628736      ['Lemma[0][0]']                  \n",
            "                                                                                                  \n",
            " Gender-Rational (InputLayer)   [(None, 2)]          0           []                               \n",
            "                                                                                                  \n",
            " Concatenate (Concatenate)      (None, 514)          0           ['Bidirectional[0][0]',          \n",
            "                                                                  'Gender-Rational[0][0]']        \n",
            "                                                                                                  \n",
            " Dense1 (Dense)                 (None, 256)          131840      ['Concatenate[0][0]']            \n",
            "                                                                                                  \n",
            " Dense2 (Dense)                 (None, 64)           16448       ['Dense1[0][0]']                 \n",
            "                                                                                                  \n",
            " Class (Dense)                  (None, 1)            65          ['Dense2[0][0]']                 \n",
            "                                                                                                  \n",
            "==================================================================================================\n",
            "Total params: 777,089\n",
            "Trainable params: 777,089\n",
            "Non-trainable params: 0\n",
            "__________________________________________________________________________________________________\n",
            "None\n"
          ]
        },
        {
          "data": {
            "image/png": "[encoded data removed]",
            "text/plain": [
              "<IPython.core.display.Image object>"
            ]
          },
          "execution_count": 103,
          "metadata": {},
          "output_type": "execute_result"
        }
      ],
      "source": [
        "print(model.summary())\n",
        "plot_model(model, to_file=path+'/model 1/architecture.png', show_shapes=True, show_layer_names=True)"
      ]
    },
    {
      "cell_type": "code",
      "execution_count": null,
      "metadata": {
        "colab": {
          "background_save": true
        },
        "id": "dDj9zmJqhH5J",
        "outputId": "c76c2323-6f9e-4529-f24a-1475071e6304"
      },
      "outputs": [
        {
          "name": "stdout",
          "output_type": "stream",
          "text": [
            "33/33 [==============================] - 1s 5ms/step - loss: 0.1781 - accuracy: 0.9786\n"
          ]
        },
        {
          "data": {
            "text/plain": [
              "[0.1781269907951355, 0.9785992503166199]"
            ]
          },
          "execution_count": 104,
          "metadata": {},
          "output_type": "execute_result"
        }
      ],
      "source": [
        "model = load_model(checkpoint_filepath)\n",
        "model.evaluate([X_test_lemma_OH, X_test_genRat], y_test_class)"
      ]
    },
    {
      "cell_type": "code",
      "execution_count": null,
      "metadata": {
        "colab": {
          "background_save": true
        },
        "id": "8IP3NKsfhH5N",
        "outputId": "f7f7752e-bbff-4eed-ae1d-762af64fc712"
      },
      "outputs": [
        {
          "name": "stdout",
          "output_type": "stream",
          "text": [
            "best model based on min test set loss:  acc= 0.9650943279266357  loss= 0.15437383949756622\n",
            "best model based on max test set accuracy:  acc= 0.9754716753959656  loss= 0.25009629130363464\n",
            "\n",
            "evaluate dataset with best model based on maximum test set accuracy\n",
            "evaluate test set =  [0.1781269907951355, 0.9785992503166199]\n",
            "33/33 [==============================] - 1s 4ms/step\n",
            "------------------------------ metrics for test set ------------------------------\n",
            "confusion matrix: \n",
            " [[516  10]\n",
            " [ 12 490]]\n",
            "              precision    recall  f1-score   support\n",
            "\n",
            "      Broken      0.977     0.981     0.979       526\n",
            "       Sound      0.980     0.976     0.978       502\n",
            "\n",
            "    accuracy                          0.979      1028\n",
            "   macro avg      0.979     0.979     0.979      1028\n",
            "weighted avg      0.979     0.979     0.979      1028\n",
            "\n"
          ]
        }
      ],
      "source": [
        "reportResult(model, history, [X_test_lemma_OH, X_test_genRat], y_test_class)"
      ]
    },
    {
      "cell_type": "markdown",
      "metadata": {
        "id": "UB0fawJa66PY"
      },
      "source": [
        "# **Machine Translation Models**"
      ]
    },
    {
      "cell_type": "code",
      "execution_count": null,
      "metadata": {
        "id": "QjirN8TtdNqu"
      },
      "outputs": [],
      "source": [
        "path = '/content/drive/MyDrive/AI Projects/Arabic Broken Plural/Results/Machine Translation Models'"
      ]
    },
    {
      "cell_type": "code",
      "execution_count": null,
      "metadata": {
        "id": "52n_VZ40dNqy"
      },
      "outputs": [],
      "source": [
        "lemma_length = X_train_lemma_OH.shape[1] #17\n",
        "singularPattern_length = X_train_singularPattern_OH.shape[1] #17\n",
        "root_length = X_train_root_OH.shape[1] #4\n",
        "genRat_length = X_train_genRat.shape[1] #2\n",
        "numOfRoot_length = X_train_numOfRoot.shape[1] #1\n",
        "plPattern_length = y_train_plPattern_OH.shape[1] #18\n",
        "inflection_length = y_train_inflection_OH.shape[1] #18\n",
        "encode_size = X_train_lemma_OH.shape[2] #50\n",
        "\n",
        "epochs = 100\n",
        "batch_size = 64"
      ]
    },
    {
      "cell_type": "markdown",
      "metadata": {
        "id": "K87j_k_oEVh3"
      },
      "source": [
        "## **Model 1**\n",
        "lemma - root - inflection"
      ]
    },
    {
      "cell_type": "code",
      "execution_count": null,
      "metadata": {
        "id": "M-3oRhRlEVh4"
      },
      "outputs": [],
      "source": [
        "input_lemma = Input(shape=(lemma_length, encode_size), name='Lemma')\n",
        "input_root = Input(shape=(root_length, encode_size), name='Root')\n",
        "input_genRat = Input(shape=(genRat_length, ), name='Gender-Rational')\n",
        "\n",
        "\n",
        "lstm1 = Bidirectional(LSTM(256, name='Lstm1'), name='Encoder')(input_lemma)\n",
        "# lstm2 = Bidirectional(LSTM(64))(input_root)\n",
        "\n",
        "# c = Concatenate(axis=1)([lstm1, lstm2])\n",
        "\n",
        "d = Dense(254, activation='relu', name='Dense1')(lstm1)\n",
        "\n",
        "c = Concatenate(axis=1, name='Concatenate')([d, input_genRat])\n",
        "\n",
        "r = RepeatVector(inflection_length, name='RepeatVector')(c)\n",
        "\n",
        "lstm2 = Bidirectional(LSTM(256, return_sequences=True, name='Lstm2'), name='Decoder')(r)\n",
        "\n",
        "output = TimeDistributed(Dense(encode_size, activation='softmax', name='Dense2'), name='Inflection')(lstm2)\n",
        "\n",
        "model1 = Model(inputs=[input_lemma, input_genRat], outputs=output)\n",
        "\n",
        "checkpoint_filepath = path + '/model 1/weights.hdf5'\n",
        "checkpoint = ModelCheckpoint(filepath=checkpoint_filepath, monitor='val_accuracy', mode='max', save_best_only=True, verbose=0)\n",
        "\n",
        "model1.compile(loss=\"binary_crossentropy\", optimizer=Adam(0.001), metrics=['accuracy'])"
      ]
    },
    {
      "cell_type": "code",
      "execution_count": null,
      "metadata": {
        "colab": {
          "base_uri": "https://localhost:8080/"
        },
        "id": "7k64r76HEVh4",
        "outputId": "36e27f90-edc8-4b56-a740-e2065c2484a2"
      },
      "outputs": [
        {
          "name": "stdout",
          "output_type": "stream",
          "text": [
            "Epoch 1/100\n",
            "39/39 [==============================] - 8s 55ms/step - loss: 0.0514 - accuracy: 0.5616 - val_loss: 0.0403 - val_accuracy: 0.6044\n",
            "Epoch 2/100\n",
            "39/39 [==============================] - 1s 19ms/step - loss: 0.0389 - accuracy: 0.6099 - val_loss: 0.0375 - val_accuracy: 0.6270\n",
            "Epoch 3/100\n",
            "39/39 [==============================] - 1s 19ms/step - loss: 0.0371 - accuracy: 0.6282 - val_loss: 0.0356 - val_accuracy: 0.6465\n",
            "Epoch 4/100\n",
            "39/39 [==============================] - 1s 18ms/step - loss: 0.0358 - accuracy: 0.6405 - val_loss: 0.0348 - val_accuracy: 0.6586\n",
            "Epoch 5/100\n",
            "39/39 [==============================] - 1s 15ms/step - loss: 0.0345 - accuracy: 0.6545 - val_loss: 0.0339 - val_accuracy: 0.6557\n",
            "Epoch 6/100\n",
            "39/39 [==============================] - 1s 18ms/step - loss: 0.0335 - accuracy: 0.6631 - val_loss: 0.0323 - val_accuracy: 0.6813\n",
            "Epoch 7/100\n",
            "39/39 [==============================] - 1s 18ms/step - loss: 0.0321 - accuracy: 0.6772 - val_loss: 0.0308 - val_accuracy: 0.6939\n",
            "Epoch 8/100\n",
            "39/39 [==============================] - 1s 17ms/step - loss: 0.0304 - accuracy: 0.6921 - val_loss: 0.0296 - val_accuracy: 0.6939\n",
            "Epoch 9/100\n",
            "39/39 [==============================] - 1s 18ms/step - loss: 0.0293 - accuracy: 0.6965 - val_loss: 0.0282 - val_accuracy: 0.7019\n",
            "Epoch 10/100\n",
            "39/39 [==============================] - 1s 18ms/step - loss: 0.0283 - accuracy: 0.7039 - val_loss: 0.0273 - val_accuracy: 0.7168\n",
            "Epoch 11/100\n",
            "39/39 [==============================] - 1s 15ms/step - loss: 0.0266 - accuracy: 0.7220 - val_loss: 0.0276 - val_accuracy: 0.7027\n",
            "Epoch 12/100\n",
            "39/39 [==============================] - 1s 19ms/step - loss: 0.0258 - accuracy: 0.7269 - val_loss: 0.0252 - val_accuracy: 0.7338\n",
            "Epoch 13/100\n",
            "39/39 [==============================] - 1s 18ms/step - loss: 0.0246 - accuracy: 0.7384 - val_loss: 0.0244 - val_accuracy: 0.7381\n",
            "Epoch 14/100\n",
            "39/39 [==============================] - 1s 18ms/step - loss: 0.0237 - accuracy: 0.7483 - val_loss: 0.0227 - val_accuracy: 0.7615\n",
            "Epoch 15/100\n",
            "39/39 [==============================] - 1s 18ms/step - loss: 0.0224 - accuracy: 0.7626 - val_loss: 0.0216 - val_accuracy: 0.7727\n",
            "Epoch 16/100\n",
            "39/39 [==============================] - 1s 19ms/step - loss: 0.0216 - accuracy: 0.7699 - val_loss: 0.0216 - val_accuracy: 0.7734\n",
            "Epoch 17/100\n",
            "39/39 [==============================] - 1s 21ms/step - loss: 0.0205 - accuracy: 0.7856 - val_loss: 0.0193 - val_accuracy: 0.8056\n",
            "Epoch 18/100\n",
            "39/39 [==============================] - 1s 15ms/step - loss: 0.0190 - accuracy: 0.8066 - val_loss: 0.0187 - val_accuracy: 0.8039\n",
            "Epoch 19/100\n",
            "39/39 [==============================] - 1s 19ms/step - loss: 0.0184 - accuracy: 0.8114 - val_loss: 0.0184 - val_accuracy: 0.8096\n",
            "Epoch 20/100\n",
            "39/39 [==============================] - 1s 18ms/step - loss: 0.0176 - accuracy: 0.8187 - val_loss: 0.0168 - val_accuracy: 0.8260\n",
            "Epoch 21/100\n",
            "39/39 [==============================] - 1s 18ms/step - loss: 0.0163 - accuracy: 0.8333 - val_loss: 0.0159 - val_accuracy: 0.8402\n",
            "Epoch 22/100\n",
            "39/39 [==============================] - 1s 19ms/step - loss: 0.0151 - accuracy: 0.8488 - val_loss: 0.0146 - val_accuracy: 0.8549\n",
            "Epoch 23/100\n",
            "39/39 [==============================] - 1s 15ms/step - loss: 0.0152 - accuracy: 0.8453 - val_loss: 0.0145 - val_accuracy: 0.8534\n",
            "Epoch 24/100\n",
            "39/39 [==============================] - 1s 18ms/step - loss: 0.0137 - accuracy: 0.8621 - val_loss: 0.0133 - val_accuracy: 0.8681\n",
            "Epoch 25/100\n",
            "39/39 [==============================] - 1s 18ms/step - loss: 0.0131 - accuracy: 0.8692 - val_loss: 0.0128 - val_accuracy: 0.8760\n",
            "Epoch 26/100\n",
            "39/39 [==============================] - 1s 18ms/step - loss: 0.0123 - accuracy: 0.8790 - val_loss: 0.0122 - val_accuracy: 0.8827\n",
            "Epoch 27/100\n",
            "39/39 [==============================] - 1s 15ms/step - loss: 0.0121 - accuracy: 0.8816 - val_loss: 0.0127 - val_accuracy: 0.8770\n",
            "Epoch 28/100\n",
            "39/39 [==============================] - 1s 18ms/step - loss: 0.0121 - accuracy: 0.8799 - val_loss: 0.0116 - val_accuracy: 0.8887\n",
            "Epoch 29/100\n",
            "39/39 [==============================] - 1s 19ms/step - loss: 0.0109 - accuracy: 0.8936 - val_loss: 0.0110 - val_accuracy: 0.8973\n",
            "Epoch 30/100\n",
            "39/39 [==============================] - 1s 18ms/step - loss: 0.0100 - accuracy: 0.9054 - val_loss: 0.0106 - val_accuracy: 0.9018\n",
            "Epoch 31/100\n",
            "39/39 [==============================] - 1s 19ms/step - loss: 0.0096 - accuracy: 0.9095 - val_loss: 0.0104 - val_accuracy: 0.9044\n",
            "Epoch 32/100\n",
            "39/39 [==============================] - 1s 18ms/step - loss: 0.0096 - accuracy: 0.9101 - val_loss: 0.0100 - val_accuracy: 0.9071\n",
            "Epoch 33/100\n",
            "39/39 [==============================] - 1s 19ms/step - loss: 0.0086 - accuracy: 0.9218 - val_loss: 0.0091 - val_accuracy: 0.9187\n",
            "Epoch 34/100\n",
            "39/39 [==============================] - 1s 18ms/step - loss: 0.0079 - accuracy: 0.9299 - val_loss: 0.0085 - val_accuracy: 0.9259\n",
            "Epoch 35/100\n",
            "39/39 [==============================] - 1s 18ms/step - loss: 0.0073 - accuracy: 0.9359 - val_loss: 0.0080 - val_accuracy: 0.9331\n",
            "Epoch 36/100\n",
            "39/39 [==============================] - 1s 15ms/step - loss: 0.0071 - accuracy: 0.9368 - val_loss: 0.0084 - val_accuracy: 0.9277\n",
            "Epoch 37/100\n",
            "39/39 [==============================] - 1s 16ms/step - loss: 0.0072 - accuracy: 0.9363 - val_loss: 0.0097 - val_accuracy: 0.9091\n",
            "Epoch 38/100\n",
            "39/39 [==============================] - 1s 18ms/step - loss: 0.0073 - accuracy: 0.9342 - val_loss: 0.0074 - val_accuracy: 0.9414\n",
            "Epoch 39/100\n",
            "39/39 [==============================] - 1s 18ms/step - loss: 0.0060 - accuracy: 0.9509 - val_loss: 0.0071 - val_accuracy: 0.9430\n",
            "Epoch 40/100\n",
            "39/39 [==============================] - 1s 15ms/step - loss: 0.0057 - accuracy: 0.9540 - val_loss: 0.0079 - val_accuracy: 0.9331\n",
            "Epoch 41/100\n",
            "39/39 [==============================] - 1s 18ms/step - loss: 0.0057 - accuracy: 0.9523 - val_loss: 0.0065 - val_accuracy: 0.9519\n",
            "Epoch 42/100\n",
            "39/39 [==============================] - 1s 18ms/step - loss: 0.0047 - accuracy: 0.9641 - val_loss: 0.0061 - val_accuracy: 0.9562\n",
            "Epoch 43/100\n",
            "39/39 [==============================] - 1s 16ms/step - loss: 0.0045 - accuracy: 0.9666 - val_loss: 0.0066 - val_accuracy: 0.9505\n",
            "Epoch 44/100\n",
            "39/39 [==============================] - 1s 16ms/step - loss: 0.0044 - accuracy: 0.9664 - val_loss: 0.0066 - val_accuracy: 0.9495\n",
            "Epoch 45/100\n",
            "39/39 [==============================] - 1s 15ms/step - loss: 0.0055 - accuracy: 0.9527 - val_loss: 0.0068 - val_accuracy: 0.9443\n",
            "Epoch 46/100\n",
            "39/39 [==============================] - 1s 19ms/step - loss: 0.0044 - accuracy: 0.9656 - val_loss: 0.0060 - val_accuracy: 0.9566\n",
            "Epoch 47/100\n",
            "39/39 [==============================] - 1s 18ms/step - loss: 0.0042 - accuracy: 0.9668 - val_loss: 0.0055 - val_accuracy: 0.9598\n",
            "Epoch 48/100\n",
            "39/39 [==============================] - 1s 18ms/step - loss: 0.0033 - accuracy: 0.9776 - val_loss: 0.0049 - val_accuracy: 0.9693\n",
            "Epoch 49/100\n",
            "39/39 [==============================] - 1s 19ms/step - loss: 0.0025 - accuracy: 0.9859 - val_loss: 0.0048 - val_accuracy: 0.9699\n",
            "Epoch 50/100\n",
            "39/39 [==============================] - 1s 19ms/step - loss: 0.0023 - accuracy: 0.9882 - val_loss: 0.0046 - val_accuracy: 0.9732\n",
            "Epoch 51/100\n",
            "39/39 [==============================] - 1s 15ms/step - loss: 0.0021 - accuracy: 0.9897 - val_loss: 0.0049 - val_accuracy: 0.9689\n",
            "Epoch 52/100\n",
            "39/39 [==============================] - 1s 16ms/step - loss: 0.0022 - accuracy: 0.9885 - val_loss: 0.0048 - val_accuracy: 0.9700\n",
            "Epoch 53/100\n",
            "39/39 [==============================] - 1s 19ms/step - loss: 0.0021 - accuracy: 0.9880 - val_loss: 0.0044 - val_accuracy: 0.9747\n",
            "Epoch 54/100\n",
            "39/39 [==============================] - 1s 18ms/step - loss: 0.0017 - accuracy: 0.9916 - val_loss: 0.0042 - val_accuracy: 0.9756\n",
            "Epoch 55/100\n",
            "39/39 [==============================] - 1s 18ms/step - loss: 0.0014 - accuracy: 0.9938 - val_loss: 0.0041 - val_accuracy: 0.9772\n",
            "Epoch 56/100\n",
            "39/39 [==============================] - 1s 18ms/step - loss: 0.0025 - accuracy: 0.9836 - val_loss: 0.0058 - val_accuracy: 0.9595\n",
            "Epoch 57/100\n",
            "39/39 [==============================] - 1s 15ms/step - loss: 0.0032 - accuracy: 0.9744 - val_loss: 0.0051 - val_accuracy: 0.9677\n",
            "Epoch 58/100\n",
            "39/39 [==============================] - 1s 16ms/step - loss: 0.0023 - accuracy: 0.9855 - val_loss: 0.0047 - val_accuracy: 0.9718\n",
            "Epoch 59/100\n",
            "39/39 [==============================] - 1s 16ms/step - loss: 0.0022 - accuracy: 0.9856 - val_loss: 0.0046 - val_accuracy: 0.9725\n",
            "Epoch 60/100\n",
            "39/39 [==============================] - 1s 15ms/step - loss: 0.0020 - accuracy: 0.9879 - val_loss: 0.0050 - val_accuracy: 0.9692\n",
            "Epoch 61/100\n",
            "39/39 [==============================] - 1s 16ms/step - loss: 0.0019 - accuracy: 0.9886 - val_loss: 0.0046 - val_accuracy: 0.9721\n",
            "Epoch 62/100\n",
            "39/39 [==============================] - 1s 16ms/step - loss: 0.0021 - accuracy: 0.9850 - val_loss: 0.0046 - val_accuracy: 0.9723\n",
            "Epoch 63/100\n",
            "39/39 [==============================] - 1s 19ms/step - loss: 0.0014 - accuracy: 0.9933 - val_loss: 0.0041 - val_accuracy: 0.9779\n",
            "Epoch 64/100\n",
            "39/39 [==============================] - 1s 15ms/step - loss: 0.0012 - accuracy: 0.9946 - val_loss: 0.0043 - val_accuracy: 0.9759\n",
            "Epoch 65/100\n",
            "39/39 [==============================] - 1s 15ms/step - loss: 0.0011 - accuracy: 0.9944 - val_loss: 0.0041 - val_accuracy: 0.9776\n",
            "Epoch 66/100\n",
            "39/39 [==============================] - 1s 19ms/step - loss: 8.6262e-04 - accuracy: 0.9969 - val_loss: 0.0039 - val_accuracy: 0.9788\n",
            "Epoch 67/100\n",
            "39/39 [==============================] - 1s 16ms/step - loss: 6.2742e-04 - accuracy: 0.9979 - val_loss: 0.0046 - val_accuracy: 0.9729\n",
            "Epoch 68/100\n",
            "39/39 [==============================] - 1s 15ms/step - loss: 0.0018 - accuracy: 0.9876 - val_loss: 0.0044 - val_accuracy: 0.9745\n",
            "Epoch 69/100\n",
            "39/39 [==============================] - 1s 15ms/step - loss: 0.0012 - accuracy: 0.9941 - val_loss: 0.0041 - val_accuracy: 0.9774\n",
            "Epoch 70/100\n",
            "39/39 [==============================] - 1s 15ms/step - loss: 7.8970e-04 - accuracy: 0.9966 - val_loss: 0.0041 - val_accuracy: 0.9781\n",
            "Epoch 71/100\n",
            "39/39 [==============================] - 1s 15ms/step - loss: 7.1590e-04 - accuracy: 0.9970 - val_loss: 0.0041 - val_accuracy: 0.9785\n",
            "Epoch 72/100\n",
            "39/39 [==============================] - 1s 19ms/step - loss: 5.4134e-04 - accuracy: 0.9983 - val_loss: 0.0040 - val_accuracy: 0.9792\n",
            "Epoch 73/100\n",
            "39/39 [==============================] - 1s 16ms/step - loss: 5.5738e-04 - accuracy: 0.9973 - val_loss: 0.0042 - val_accuracy: 0.9777\n",
            "Epoch 74/100\n",
            "39/39 [==============================] - 1s 18ms/step - loss: 4.3778e-04 - accuracy: 0.9982 - val_loss: 0.0040 - val_accuracy: 0.9798\n",
            "Epoch 75/100\n",
            "39/39 [==============================] - 1s 16ms/step - loss: 4.2166e-04 - accuracy: 0.9982 - val_loss: 0.0041 - val_accuracy: 0.9792\n",
            "Epoch 76/100\n",
            "39/39 [==============================] - 1s 18ms/step - loss: 3.4787e-04 - accuracy: 0.9989 - val_loss: 0.0040 - val_accuracy: 0.9807\n",
            "Epoch 77/100\n",
            "39/39 [==============================] - 1s 16ms/step - loss: 3.6562e-04 - accuracy: 0.9983 - val_loss: 0.0041 - val_accuracy: 0.9797\n",
            "Epoch 78/100\n",
            "39/39 [==============================] - 1s 15ms/step - loss: 4.7928e-04 - accuracy: 0.9979 - val_loss: 0.0042 - val_accuracy: 0.9788\n",
            "Epoch 79/100\n",
            "39/39 [==============================] - 1s 15ms/step - loss: 3.4182e-04 - accuracy: 0.9985 - val_loss: 0.0041 - val_accuracy: 0.9801\n",
            "Epoch 80/100\n",
            "39/39 [==============================] - 1s 15ms/step - loss: 2.5929e-04 - accuracy: 0.9993 - val_loss: 0.0041 - val_accuracy: 0.9803\n",
            "Epoch 81/100\n",
            "39/39 [==============================] - 1s 16ms/step - loss: 2.1465e-04 - accuracy: 0.9995 - val_loss: 0.0041 - val_accuracy: 0.9800\n",
            "Epoch 82/100\n",
            "39/39 [==============================] - 1s 19ms/step - loss: 2.0598e-04 - accuracy: 0.9994 - val_loss: 0.0041 - val_accuracy: 0.9808\n",
            "Epoch 83/100\n",
            "39/39 [==============================] - 1s 17ms/step - loss: 1.9394e-04 - accuracy: 0.9995 - val_loss: 0.0042 - val_accuracy: 0.9805\n",
            "Epoch 84/100\n",
            "39/39 [==============================] - 1s 17ms/step - loss: 7.2804e-04 - accuracy: 0.9953 - val_loss: 0.0049 - val_accuracy: 0.9731\n",
            "Epoch 85/100\n",
            "39/39 [==============================] - 1s 15ms/step - loss: 0.0023 - accuracy: 0.9813 - val_loss: 0.0070 - val_accuracy: 0.9508\n",
            "Epoch 86/100\n",
            "39/39 [==============================] - 1s 16ms/step - loss: 0.0049 - accuracy: 0.9546 - val_loss: 0.0079 - val_accuracy: 0.9371\n",
            "Epoch 87/100\n",
            "39/39 [==============================] - 1s 15ms/step - loss: 0.0043 - accuracy: 0.9600 - val_loss: 0.0058 - val_accuracy: 0.9592\n",
            "Epoch 88/100\n",
            "39/39 [==============================] - 1s 16ms/step - loss: 0.0021 - accuracy: 0.9829 - val_loss: 0.0049 - val_accuracy: 0.9711\n",
            "Epoch 89/100\n",
            "39/39 [==============================] - 1s 21ms/step - loss: 0.0010 - accuracy: 0.9949 - val_loss: 0.0045 - val_accuracy: 0.9774\n",
            "Epoch 90/100\n",
            "39/39 [==============================] - 1s 29ms/step - loss: 5.9287e-04 - accuracy: 0.9980 - val_loss: 0.0043 - val_accuracy: 0.9794\n",
            "Epoch 91/100\n",
            "39/39 [==============================] - 1s 21ms/step - loss: 3.8793e-04 - accuracy: 0.9989 - val_loss: 0.0041 - val_accuracy: 0.9805\n",
            "Epoch 92/100\n",
            "39/39 [==============================] - 1s 24ms/step - loss: 7.2746e-04 - accuracy: 0.9962 - val_loss: 0.0060 - val_accuracy: 0.9662\n",
            "Epoch 93/100\n",
            "39/39 [==============================] - 1s 29ms/step - loss: 0.0025 - accuracy: 0.9788 - val_loss: 0.0058 - val_accuracy: 0.9627\n",
            "Epoch 94/100\n",
            "39/39 [==============================] - 1s 26ms/step - loss: 0.0021 - accuracy: 0.9832 - val_loss: 0.0047 - val_accuracy: 0.9731\n",
            "Epoch 95/100\n",
            "39/39 [==============================] - 1s 21ms/step - loss: 0.0011 - accuracy: 0.9940 - val_loss: 0.0044 - val_accuracy: 0.9776\n",
            "Epoch 96/100\n",
            "39/39 [==============================] - 1s 16ms/step - loss: 7.4831e-04 - accuracy: 0.9968 - val_loss: 0.0041 - val_accuracy: 0.9787\n",
            "Epoch 97/100\n",
            "39/39 [==============================] - 1s 16ms/step - loss: 3.3038e-04 - accuracy: 0.9993 - val_loss: 0.0041 - val_accuracy: 0.9803\n",
            "Epoch 98/100\n",
            "39/39 [==============================] - 1s 15ms/step - loss: 2.3032e-04 - accuracy: 0.9993 - val_loss: 0.0041 - val_accuracy: 0.9803\n",
            "Epoch 99/100\n",
            "39/39 [==============================] - 1s 15ms/step - loss: 3.6663e-04 - accuracy: 0.9982 - val_loss: 0.0043 - val_accuracy: 0.9793\n",
            "Epoch 100/100\n",
            "39/39 [==============================] - 1s 15ms/step - loss: 3.2294e-04 - accuracy: 0.9991 - val_loss: 0.0042 - val_accuracy: 0.9801\n"
          ]
        }
      ],
      "source": [
        "with tf.device('/GPU:0'):\n",
        "  model1.fit([X_train_lemma_OH, X_train_genRat], y_train_inflection_OH, batch_size=batch_size, epochs=epochs, callbacks=[checkpoint], validation_data=([X_dev_lemma_OH, X_dev_genRat], y_dev_inflection_OH))  # starts training"
      ]
    },
    {
      "cell_type": "code",
      "execution_count": null,
      "metadata": {
        "colab": {
          "base_uri": "https://localhost:8080/"
        },
        "id": "CF__oNPxEVh4",
        "outputId": "9272a7cf-711a-4642-9d84-183dc92f5a9d"
      },
      "outputs": [
        {
          "name": "stdout",
          "output_type": "stream",
          "text": [
            "33/33 [==============================] - 3s 9ms/step - loss: 0.0031 - accuracy: 0.9843\n"
          ]
        },
        {
          "data": {
            "text/plain": [
              "[0.003147248877212405, 0.9843277335166931]"
            ]
          },
          "execution_count": 161,
          "metadata": {},
          "output_type": "execute_result"
        }
      ],
      "source": [
        "model1 = load_model(checkpoint_filepath)\n",
        "model1.evaluate([X_test_lemma_OH, X_test_genRat], y_test_inflection_OH)"
      ]
    },
    {
      "cell_type": "code",
      "execution_count": null,
      "metadata": {
        "colab": {
          "base_uri": "https://localhost:8080/",
          "height": 1000
        },
        "id": "C-_uAugdEVh4",
        "outputId": "8540f396-88ee-4b59-ac69-68105e36ae6c"
      },
      "outputs": [
        {
          "name": "stdout",
          "output_type": "stream",
          "text": [
            "Model: \"model_9\"\n",
            "__________________________________________________________________________________________________\n",
            " Layer (type)                   Output Shape         Param #     Connected to                     \n",
            "==================================================================================================\n",
            " Lemma (InputLayer)             [(None, 17, 50)]     0           []                               \n",
            "                                                                                                  \n",
            " Encoder (Bidirectional)        (None, 512)          628736      ['Lemma[0][0]']                  \n",
            "                                                                                                  \n",
            " Dense1 (Dense)                 (None, 254)          130302      ['Encoder[0][0]']                \n",
            "                                                                                                  \n",
            " Gender-Rational (InputLayer)   [(None, 2)]          0           []                               \n",
            "                                                                                                  \n",
            " Concatenate (Concatenate)      (None, 256)          0           ['Dense1[0][0]',                 \n",
            "                                                                  'Gender-Rational[0][0]']        \n",
            "                                                                                                  \n",
            " RepeatVector (RepeatVector)    (None, 18, 256)      0           ['Concatenate[0][0]']            \n",
            "                                                                                                  \n",
            " Decoder (Bidirectional)        (None, 18, 512)      1050624     ['RepeatVector[0][0]']           \n",
            "                                                                                                  \n",
            " Inflection (TimeDistributed)   (None, 18, 50)       25650       ['Decoder[0][0]']                \n",
            "                                                                                                  \n",
            "==================================================================================================\n",
            "Total params: 1,835,312\n",
            "Trainable params: 1,835,312\n",
            "Non-trainable params: 0\n",
            "__________________________________________________________________________________________________\n",
            "None\n"
          ]
        },
        {
          "data": {
            "image/png": "[encoded data removed]",
            "text/plain": [
              "<IPython.core.display.Image object>"
            ]
          },
          "execution_count": 162,
          "metadata": {},
          "output_type": "execute_result"
        }
      ],
      "source": [
        "print(model1.summary())\n",
        "plot_model(model1, to_file=path+'/model 1/architecture.png', show_shapes=True, show_layer_names=True)"
      ]
    },
    {
      "cell_type": "markdown",
      "metadata": {
        "id": "XAoL0KSoEVh4"
      },
      "source": [
        "### **Train analyze**"
      ]
    },
    {
      "cell_type": "code",
      "execution_count": null,
      "metadata": {
        "colab": {
          "base_uri": "https://localhost:8080/"
        },
        "id": "pq30qNbbEVh5",
        "outputId": "2afec486-a3da-41da-c15b-e981011facbb"
      },
      "outputs": [
        {
          "name": "stdout",
          "output_type": "stream",
          "text": [
            "78/78 [==============================] - 2s 5ms/step\n"
          ]
        },
        {
          "data": {
            "text/plain": [
              "(9, 0.9963636363636363)"
            ]
          },
          "execution_count": 163,
          "metadata": {},
          "output_type": "execute_result"
        }
      ],
      "source": [
        "train_pred = model1.predict([X_train_lemma_OH, X_train_genRat])\n",
        "train_pred_OH = oneHot3D(train_pred)\n",
        "train_error_num, train_acc_num = checkAccuracy(train_pred_OH, y_train_inflection_OH)\n",
        "train_error_num, train_acc_num"
      ]
    },
    {
      "cell_type": "code",
      "execution_count": null,
      "metadata": {
        "colab": {
          "base_uri": "https://localhost:8080/"
        },
        "id": "Lktzh8o5HNsn",
        "outputId": "f2947928-85c6-44ce-84a5-ac60fe78da62"
      },
      "outputs": [
        {
          "data": {
            "text/plain": [
              "(2475, 18, 50)"
            ]
          },
          "execution_count": 164,
          "metadata": {},
          "output_type": "execute_result"
        }
      ],
      "source": [
        "y_train_inflection_OH.shape"
      ]
    },
    {
      "cell_type": "code",
      "execution_count": null,
      "metadata": {
        "colab": {
          "base_uri": "https://localhost:8080/",
          "height": 270
        },
        "id": "XK3xq6x0EVh5",
        "outputId": "a76110b2-a3e9-4281-e3a5-2fd239c4117b"
      },
      "outputs": [
        {
          "data": {
            "text/html": [
              "\n",
              "  <div id=\"df-54689ec4-2761-49d8-a852-a1b9829c1893\">\n",
              "    <div class=\"colab-df-container\">\n",
              "      <div>\n",
              "<style scoped>\n",
              "    .dataframe tbody tr th:only-of-type {\n",
              "        vertical-align: middle;\n",
              "    }\n",
              "\n",
              "    .dataframe tbody tr th {\n",
              "        vertical-align: top;\n",
              "    }\n",
              "\n",
              "    .dataframe thead th {\n",
              "        text-align: right;\n",
              "    }\n",
              "</style>\n",
              "<table border=\"1\" class=\"dataframe\">\n",
              "  <thead>\n",
              "    <tr style=\"text-align: right;\">\n",
              "      <th></th>\n",
              "      <th>index</th>\n",
              "      <th>lemma</th>\n",
              "      <th>b/s</th>\n",
              "      <th>inflection</th>\n",
              "      <th>predict</th>\n",
              "    </tr>\n",
              "  </thead>\n",
              "  <tbody>\n",
              "    <tr>\n",
              "      <th>0</th>\n",
              "      <td>40</td>\n",
              "      <td>yawom</td>\n",
              "      <td>0</td>\n",
              "      <td>&gt;ay~Am</td>\n",
              "      <td>&gt;ay~AA</td>\n",
              "    </tr>\n",
              "    <tr>\n",
              "      <th>1</th>\n",
              "      <td>863</td>\n",
              "      <td>tilofizyuwn</td>\n",
              "      <td>1</td>\n",
              "      <td>tilofizyuwnAt</td>\n",
              "      <td>tilofizzuwnAt</td>\n",
              "    </tr>\n",
              "    <tr>\n",
              "      <th>2</th>\n",
              "      <td>939</td>\n",
              "      <td>fiyliyb~iyniy~</td>\n",
              "      <td>1</td>\n",
              "      <td>fiyliyb~iyniy~iyn</td>\n",
              "      <td>fiyliyb~~yiy~iyn</td>\n",
              "    </tr>\n",
              "    <tr>\n",
              "      <th>3</th>\n",
              "      <td>948</td>\n",
              "      <td>briyTAniy~</td>\n",
              "      <td>1</td>\n",
              "      <td>briyTAniy~iyn</td>\n",
              "      <td>bryyTAniy~iyn</td>\n",
              "    </tr>\n",
              "    <tr>\n",
              "      <th>4</th>\n",
              "      <td>1045</td>\n",
              "      <td>&lt;isotuwdiyuw</td>\n",
              "      <td>1</td>\n",
              "      <td>&lt;isotuwdiyuwAt</td>\n",
              "      <td>&lt;isotuwdiyuwAAt</td>\n",
              "    </tr>\n",
              "  </tbody>\n",
              "</table>\n",
              "</div>\n",
              "      <button class=\"colab-df-convert\" onclick=\"convertToInteractive('df-54689ec4-2761-49d8-a852-a1b9829c1893')\"\n",
              "              title=\"Convert this dataframe to an interactive table.\"\n",
              "              style=\"display:none;\">\n",
              "        \n",
              "  <svg xmlns=\"http://www.w3.org/2000/svg\" height=\"24px\"viewBox=\"0 0 24 24\"\n",
              "       width=\"24px\">\n",
              "    <path d=\"M0 0h24v24H0V0z\" fill=\"none\"/>\n",
              "    <path d=\"M18.56 5.44l.94 2.06.94-2.06 2.06-.94-2.06-.94-.94-2.06-.94 2.06-2.06.94zm-11 1L8.5 8.5l.94-2.06 2.06-.94-2.06-.94L8.5 2.5l-.94 2.06-2.06.94zm10 10l.94 2.06.94-2.06 2.06-.94-2.06-.94-.94-2.06-.94 2.06-2.06.94z\"/><path d=\"M17.41 7.96l-1.37-1.37c-.4-.4-.92-.59-1.43-.59-.52 0-1.04.2-1.43.59L10.3 9.45l-7.72 7.72c-.78.78-.78 2.05 0 2.83L4 21.41c.39.39.9.59 1.41.59.51 0 1.02-.2 1.41-.59l7.78-7.78 2.81-2.81c.8-.78.8-2.07 0-2.86zM5.41 20L4 18.59l7.72-7.72 1.47 1.35L5.41 20z\"/>\n",
              "  </svg>\n",
              "      </button>\n",
              "      \n",
              "  <style>\n",
              "    .colab-df-container {\n",
              "      display:flex;\n",
              "      flex-wrap:wrap;\n",
              "      gap: 12px;\n",
              "    }\n",
              "\n",
              "    .colab-df-convert {\n",
              "      background-color: #E8F0FE;\n",
              "      border: none;\n",
              "      border-radius: 50%;\n",
              "      cursor: pointer;\n",
              "      display: none;\n",
              "      fill: #1967D2;\n",
              "      height: 32px;\n",
              "      padding: 0 0 0 0;\n",
              "      width: 32px;\n",
              "    }\n",
              "\n",
              "    .colab-df-convert:hover {\n",
              "      background-color: #E2EBFA;\n",
              "      box-shadow: 0px 1px 2px rgba(60, 64, 67, 0.3), 0px 1px 3px 1px rgba(60, 64, 67, 0.15);\n",
              "      fill: #174EA6;\n",
              "    }\n",
              "\n",
              "    [theme=dark] .colab-df-convert {\n",
              "      background-color: #3B4455;\n",
              "      fill: #D2E3FC;\n",
              "    }\n",
              "\n",
              "    [theme=dark] .colab-df-convert:hover {\n",
              "      background-color: #434B5C;\n",
              "      box-shadow: 0px 1px 3px 1px rgba(0, 0, 0, 0.15);\n",
              "      filter: drop-shadow(0px 1px 2px rgba(0, 0, 0, 0.3));\n",
              "      fill: #FFFFFF;\n",
              "    }\n",
              "  </style>\n",
              "\n",
              "      <script>\n",
              "        const buttonEl =\n",
              "          document.querySelector('#df-54689ec4-2761-49d8-a852-a1b9829c1893 button.colab-df-convert');\n",
              "        buttonEl.style.display =\n",
              "          google.colab.kernel.accessAllowed ? 'block' : 'none';\n",
              "\n",
              "        async function convertToInteractive(key) {\n",
              "          const element = document.querySelector('#df-54689ec4-2761-49d8-a852-a1b9829c1893');\n",
              "          const dataTable =\n",
              "            await google.colab.kernel.invokeFunction('convertToInteractive',\n",
              "                                                     [key], {});\n",
              "          if (!dataTable) return;\n",
              "\n",
              "          const docLinkHtml = 'Like what you see? Visit the ' +\n",
              "            '<a target=\"_blank\" href=https://colab.research.google.com/notebooks/data_table.ipynb>data table notebook</a>'\n",
              "            + ' to learn more about interactive tables.';\n",
              "          element.innerHTML = '';\n",
              "          dataTable['output_type'] = 'display_data';\n",
              "          await google.colab.output.renderOutput(dataTable, element);\n",
              "          const docLink = document.createElement('div');\n",
              "          docLink.innerHTML = docLinkHtml;\n",
              "          element.appendChild(docLink);\n",
              "        }\n",
              "      </script>\n",
              "    </div>\n",
              "  </div>\n",
              "  "
            ],
            "text/plain": [
              "   index           lemma  b/s         inflection           predict\n",
              "0     40           yawom    0             >ay~Am            >ay~AA\n",
              "1    863     tilofizyuwn    1      tilofizyuwnAt     tilofizzuwnAt\n",
              "2    939  fiyliyb~iyniy~    1  fiyliyb~iyniy~iyn  fiyliyb~~yiy~iyn\n",
              "3    948      briyTAniy~    1      briyTAniy~iyn     bryyTAniy~iyn\n",
              "4   1045    <isotuwdiyuw    1     <isotuwdiyuwAt   <isotuwdiyuwAAt"
            ]
          },
          "execution_count": 165,
          "metadata": {},
          "output_type": "execute_result"
        }
      ],
      "source": [
        "train_errorAnalysis = reportErrorAnalysis(trainData[0], trainData[5], train_pred_OH, y_train_inflection_OH, path + \"/model 1/train_errorAnalysis.csv\")\n",
        "train_errorAnalysis.head()"
      ]
    },
    {
      "cell_type": "code",
      "execution_count": null,
      "metadata": {
        "colab": {
          "base_uri": "https://localhost:8080/"
        },
        "id": "YzOAAD4jEVh5",
        "outputId": "c7963a03-f6f2-44e5-db47-e149963fca51"
      },
      "outputs": [
        {
          "name": "stdout",
          "output_type": "stream",
          "text": [
            "(Broken error %, Sound error %):  (22.22222222222222, 77.77777777777779)\n"
          ]
        }
      ],
      "source": [
        "print('(Broken error %, Sound error %): ', reportPercentageOfBrokenSoundErrors(train_errorAnalysis))"
      ]
    },
    {
      "cell_type": "code",
      "execution_count": null,
      "metadata": {
        "colab": {
          "base_uri": "https://localhost:8080/"
        },
        "id": "86i08EoppWIi",
        "outputId": "788faa58-9f0a-41ef-b83a-dcf3858f799b"
      },
      "outputs": [
        {
          "data": {
            "text/plain": [
              "(9, 0.9963636363636363)"
            ]
          },
          "execution_count": 167,
          "metadata": {},
          "output_type": "execute_result"
        }
      ],
      "source": [
        "checkAccuracy_anyAcceptableInflectionInDataset(trainData[0],train_pred_OH,dic_lemmaInflection)"
      ]
    },
    {
      "cell_type": "markdown",
      "metadata": {
        "id": "ybXFriUqEVh5"
      },
      "source": [
        "### **Dev analyze**"
      ]
    },
    {
      "cell_type": "code",
      "execution_count": null,
      "metadata": {
        "colab": {
          "base_uri": "https://localhost:8080/"
        },
        "id": "2s-l01ipEVh5",
        "outputId": "33f4fecd-0712-45d9-bda2-08794694c609"
      },
      "outputs": [
        {
          "name": "stdout",
          "output_type": "stream",
          "text": [
            "34/34 [==============================] - 0s 5ms/step\n"
          ]
        },
        {
          "data": {
            "text/plain": [
              "(95, 0.910377358490566)"
            ]
          },
          "execution_count": 168,
          "metadata": {},
          "output_type": "execute_result"
        }
      ],
      "source": [
        "dev_pred = model1.predict([X_dev_lemma_OH, X_dev_genRat])\n",
        "dev_pred_OH = oneHot3D(dev_pred)\n",
        "dev_error_num, dev_acc_num = checkAccuracy(dev_pred_OH, y_dev_inflection_OH)\n",
        "dev_error_num, dev_acc_num"
      ]
    },
    {
      "cell_type": "code",
      "execution_count": null,
      "metadata": {
        "colab": {
          "base_uri": "https://localhost:8080/",
          "height": 270
        },
        "id": "yPCOBCrEEVh5",
        "outputId": "2ad6f955-5d5b-4ecd-d22f-14f80dcf3567"
      },
      "outputs": [
        {
          "data": {
            "text/html": [
              "\n",
              "  <div id=\"df-178492b7-62e0-4a33-8259-4e8fa20572c7\">\n",
              "    <div class=\"colab-df-container\">\n",
              "      <div>\n",
              "<style scoped>\n",
              "    .dataframe tbody tr th:only-of-type {\n",
              "        vertical-align: middle;\n",
              "    }\n",
              "\n",
              "    .dataframe tbody tr th {\n",
              "        vertical-align: top;\n",
              "    }\n",
              "\n",
              "    .dataframe thead th {\n",
              "        text-align: right;\n",
              "    }\n",
              "</style>\n",
              "<table border=\"1\" class=\"dataframe\">\n",
              "  <thead>\n",
              "    <tr style=\"text-align: right;\">\n",
              "      <th></th>\n",
              "      <th>index</th>\n",
              "      <th>lemma</th>\n",
              "      <th>b/s</th>\n",
              "      <th>inflection</th>\n",
              "      <th>predict</th>\n",
              "    </tr>\n",
              "  </thead>\n",
              "  <tbody>\n",
              "    <tr>\n",
              "      <th>0</th>\n",
              "      <td>56</td>\n",
              "      <td>yawom</td>\n",
              "      <td>0</td>\n",
              "      <td>&gt;ay~Am</td>\n",
              "      <td>&gt;ay~AA</td>\n",
              "    </tr>\n",
              "    <tr>\n",
              "      <th>1</th>\n",
              "      <td>59</td>\n",
              "      <td>nAdiy</td>\n",
              "      <td>0</td>\n",
              "      <td>&gt;anodiyap</td>\n",
              "      <td>nawAdiy</td>\n",
              "    </tr>\n",
              "    <tr>\n",
              "      <th>2</th>\n",
              "      <td>193</td>\n",
              "      <td>&gt;amoriykiy~</td>\n",
              "      <td>1</td>\n",
              "      <td>&gt;amoriykiy~iyn</td>\n",
              "      <td>&gt;amiyrokiy~iyn</td>\n",
              "    </tr>\n",
              "    <tr>\n",
              "      <th>3</th>\n",
              "      <td>213</td>\n",
              "      <td>na$AT</td>\n",
              "      <td>0</td>\n",
              "      <td>&gt;ano$iTap</td>\n",
              "      <td>na$ATAt</td>\n",
              "    </tr>\n",
              "    <tr>\n",
              "      <th>4</th>\n",
              "      <td>229</td>\n",
              "      <td>mujawohar</td>\n",
              "      <td>1</td>\n",
              "      <td>mujawoharAt</td>\n",
              "      <td>mujahararAt</td>\n",
              "    </tr>\n",
              "  </tbody>\n",
              "</table>\n",
              "</div>\n",
              "      <button class=\"colab-df-convert\" onclick=\"convertToInteractive('df-178492b7-62e0-4a33-8259-4e8fa20572c7')\"\n",
              "              title=\"Convert this dataframe to an interactive table.\"\n",
              "              style=\"display:none;\">\n",
              "        \n",
              "  <svg xmlns=\"http://www.w3.org/2000/svg\" height=\"24px\"viewBox=\"0 0 24 24\"\n",
              "       width=\"24px\">\n",
              "    <path d=\"M0 0h24v24H0V0z\" fill=\"none\"/>\n",
              "    <path d=\"M18.56 5.44l.94 2.06.94-2.06 2.06-.94-2.06-.94-.94-2.06-.94 2.06-2.06.94zm-11 1L8.5 8.5l.94-2.06 2.06-.94-2.06-.94L8.5 2.5l-.94 2.06-2.06.94zm10 10l.94 2.06.94-2.06 2.06-.94-2.06-.94-.94-2.06-.94 2.06-2.06.94z\"/><path d=\"M17.41 7.96l-1.37-1.37c-.4-.4-.92-.59-1.43-.59-.52 0-1.04.2-1.43.59L10.3 9.45l-7.72 7.72c-.78.78-.78 2.05 0 2.83L4 21.41c.39.39.9.59 1.41.59.51 0 1.02-.2 1.41-.59l7.78-7.78 2.81-2.81c.8-.78.8-2.07 0-2.86zM5.41 20L4 18.59l7.72-7.72 1.47 1.35L5.41 20z\"/>\n",
              "  </svg>\n",
              "      </button>\n",
              "      \n",
              "  <style>\n",
              "    .colab-df-container {\n",
              "      display:flex;\n",
              "      flex-wrap:wrap;\n",
              "      gap: 12px;\n",
              "    }\n",
              "\n",
              "    .colab-df-convert {\n",
              "      background-color: #E8F0FE;\n",
              "      border: none;\n",
              "      border-radius: 50%;\n",
              "      cursor: pointer;\n",
              "      display: none;\n",
              "      fill: #1967D2;\n",
              "      height: 32px;\n",
              "      padding: 0 0 0 0;\n",
              "      width: 32px;\n",
              "    }\n",
              "\n",
              "    .colab-df-convert:hover {\n",
              "      background-color: #E2EBFA;\n",
              "      box-shadow: 0px 1px 2px rgba(60, 64, 67, 0.3), 0px 1px 3px 1px rgba(60, 64, 67, 0.15);\n",
              "      fill: #174EA6;\n",
              "    }\n",
              "\n",
              "    [theme=dark] .colab-df-convert {\n",
              "      background-color: #3B4455;\n",
              "      fill: #D2E3FC;\n",
              "    }\n",
              "\n",
              "    [theme=dark] .colab-df-convert:hover {\n",
              "      background-color: #434B5C;\n",
              "      box-shadow: 0px 1px 3px 1px rgba(0, 0, 0, 0.15);\n",
              "      filter: drop-shadow(0px 1px 2px rgba(0, 0, 0, 0.3));\n",
              "      fill: #FFFFFF;\n",
              "    }\n",
              "  </style>\n",
              "\n",
              "      <script>\n",
              "        const buttonEl =\n",
              "          document.querySelector('#df-178492b7-62e0-4a33-8259-4e8fa20572c7 button.colab-df-convert');\n",
              "        buttonEl.style.display =\n",
              "          google.colab.kernel.accessAllowed ? 'block' : 'none';\n",
              "\n",
              "        async function convertToInteractive(key) {\n",
              "          const element = document.querySelector('#df-178492b7-62e0-4a33-8259-4e8fa20572c7');\n",
              "          const dataTable =\n",
              "            await google.colab.kernel.invokeFunction('convertToInteractive',\n",
              "                                                     [key], {});\n",
              "          if (!dataTable) return;\n",
              "\n",
              "          const docLinkHtml = 'Like what you see? Visit the ' +\n",
              "            '<a target=\"_blank\" href=https://colab.research.google.com/notebooks/data_table.ipynb>data table notebook</a>'\n",
              "            + ' to learn more about interactive tables.';\n",
              "          element.innerHTML = '';\n",
              "          dataTable['output_type'] = 'display_data';\n",
              "          await google.colab.output.renderOutput(dataTable, element);\n",
              "          const docLink = document.createElement('div');\n",
              "          docLink.innerHTML = docLinkHtml;\n",
              "          element.appendChild(docLink);\n",
              "        }\n",
              "      </script>\n",
              "    </div>\n",
              "  </div>\n",
              "  "
            ],
            "text/plain": [
              "   index        lemma  b/s      inflection         predict\n",
              "0     56        yawom    0          >ay~Am          >ay~AA\n",
              "1     59        nAdiy    0       >anodiyap         nawAdiy\n",
              "2    193  >amoriykiy~    1  >amoriykiy~iyn  >amiyrokiy~iyn\n",
              "3    213        na$AT    0       >ano$iTap         na$ATAt\n",
              "4    229    mujawohar    1     mujawoharAt     mujahararAt"
            ]
          },
          "execution_count": 169,
          "metadata": {},
          "output_type": "execute_result"
        }
      ],
      "source": [
        "dev_errorAnalysis = reportErrorAnalysis(devData[0], devData[5], dev_pred_OH, y_dev_inflection_OH, path + \"/model 1/dev_errorAnalysis.csv\")\n",
        "dev_errorAnalysis.head()"
      ]
    },
    {
      "cell_type": "code",
      "execution_count": null,
      "metadata": {
        "colab": {
          "base_uri": "https://localhost:8080/"
        },
        "id": "Rb3-t4ehEVh5",
        "outputId": "a2295d42-2996-4695-91e1-94e7599a54bb"
      },
      "outputs": [
        {
          "name": "stdout",
          "output_type": "stream",
          "text": [
            "(Broken error %, Sound error %):  (53.68421052631579, 46.31578947368421)\n"
          ]
        }
      ],
      "source": [
        "print('(Broken error %, Sound error %): ', reportPercentageOfBrokenSoundErrors(dev_errorAnalysis))"
      ]
    },
    {
      "cell_type": "code",
      "execution_count": null,
      "metadata": {
        "colab": {
          "base_uri": "https://localhost:8080/"
        },
        "id": "3q8CzzBqpMAR",
        "outputId": "50ea85ef-a836-4562-8a2f-a46629a80bdc"
      },
      "outputs": [
        {
          "data": {
            "text/plain": [
              "(70, 0.9339622641509434)"
            ]
          },
          "execution_count": 171,
          "metadata": {},
          "output_type": "execute_result"
        }
      ],
      "source": [
        "checkAccuracy_anyAcceptableInflectionInDataset(devData[0],dev_pred_OH,dic_lemmaInflection)"
      ]
    },
    {
      "cell_type": "code",
      "execution_count": null,
      "metadata": {
        "colab": {
          "base_uri": "https://localhost:8080/"
        },
        "id": "mOswiP7Fqhdp",
        "outputId": "f9c0278d-7a84-417f-8033-c7e5db31b5f4"
      },
      "outputs": [
        {
          "name": "stdout",
          "output_type": "stream",
          "text": [
            "Percentage of Unseen Errors with respect to Total Errors, Percentage of Unseen Errors with respect to Total Unseen Samples\n",
            "(17.894736842105264, 15.74074074074074)\n"
          ]
        }
      ],
      "source": [
        "# Report Percentage of Unseen Errors in Dev set\n",
        "errorIndices_dev = dev_errorAnalysis['index'].tolist()\n",
        "unseenIndices_dev = unseenLemInfIndices_dev_df['index'].tolist()\n",
        "\n",
        "print('Percentage of Unseen Errors with respect to Total Errors, Percentage of Unseen Errors with respect to Total Unseen Samples')\n",
        "print(reportPercentageOfUnseenErrors(errorIndices_dev, unseenIndices_dev))"
      ]
    },
    {
      "cell_type": "markdown",
      "metadata": {
        "id": "i7R3KZnxEVh5"
      },
      "source": [
        "### **Test analyze**"
      ]
    },
    {
      "cell_type": "code",
      "execution_count": null,
      "metadata": {
        "colab": {
          "base_uri": "https://localhost:8080/"
        },
        "id": "55GGksBBEVh6",
        "outputId": "7a4884b5-bfaa-432a-9b0b-05b62d0a6023"
      },
      "outputs": [
        {
          "name": "stdout",
          "output_type": "stream",
          "text": [
            "33/33 [==============================] - 0s 5ms/step\n"
          ]
        },
        {
          "data": {
            "text/plain": [
              "(85, 0.9173151750972762)"
            ]
          },
          "execution_count": 173,
          "metadata": {},
          "output_type": "execute_result"
        }
      ],
      "source": [
        "test_pred = model1.predict([X_test_lemma_OH, X_test_genRat])\n",
        "test_pred_OH = oneHot3D(test_pred)\n",
        "test_error_num, test_acc_num = checkAccuracy(test_pred_OH, y_test_inflection_OH)\n",
        "test_error_num, test_acc_num"
      ]
    },
    {
      "cell_type": "code",
      "execution_count": null,
      "metadata": {
        "id": "i57C2rVDEVh6"
      },
      "outputs": [],
      "source": [
        "test_errorAnalysis = reportErrorAnalysis(testData[0], testData[5], test_pred_OH, y_test_inflection_OH, path + \"/model 1/test_errorAnalysis.csv\")"
      ]
    },
    {
      "cell_type": "code",
      "execution_count": null,
      "metadata": {
        "colab": {
          "base_uri": "https://localhost:8080/"
        },
        "id": "n6v7_vY1EVh6",
        "outputId": "a8169d07-f465-40cf-bcdd-f200e8ebafd4"
      },
      "outputs": [
        {
          "name": "stdout",
          "output_type": "stream",
          "text": [
            "(Broken error %, Sound error %):  (51.76470588235295, 48.23529411764706)\n"
          ]
        }
      ],
      "source": [
        "print('(Broken error %, Sound error %): ', reportPercentageOfBrokenSoundErrors(test_errorAnalysis))"
      ]
    },
    {
      "cell_type": "code",
      "execution_count": null,
      "metadata": {
        "colab": {
          "base_uri": "https://localhost:8080/"
        },
        "id": "J2NUckr-pPAf",
        "outputId": "562cc991-7a9c-46bc-ae22-ae7d5590b428"
      },
      "outputs": [
        {
          "data": {
            "text/plain": [
              "(66, 0.9357976653696498)"
            ]
          },
          "execution_count": 176,
          "metadata": {},
          "output_type": "execute_result"
        }
      ],
      "source": [
        "checkAccuracy_anyAcceptableInflectionInDataset(testData[0],test_pred_OH,dic_lemmaInflection)"
      ]
    },
    {
      "cell_type": "code",
      "execution_count": null,
      "metadata": {
        "colab": {
          "base_uri": "https://localhost:8080/"
        },
        "id": "7HL3bbXgzGck",
        "outputId": "d5ea7a43-d3ad-4918-8264-5f3b7b053deb"
      },
      "outputs": [
        {
          "name": "stdout",
          "output_type": "stream",
          "text": [
            "Percentage of Unseen Errors with respect to Total Errors, Percentage of Unseen Errors with respect to Total Unseen Samples\n",
            "(14.117647058823529, 13.636363636363635)\n"
          ]
        }
      ],
      "source": [
        "# Report Percentage of Unseen Errors in Test set\n",
        "errorIndices_test = test_errorAnalysis['index'].tolist()\n",
        "unseenIndices_test = unseenLemInfIndices_test_df['index'].tolist()\n",
        "\n",
        "print('Percentage of Unseen Errors with respect to Total Errors, Percentage of Unseen Errors with respect to Total Unseen Samples')\n",
        "print(reportPercentageOfUnseenErrors(errorIndices_test, unseenIndices_test))"
      ]
    },
    {
      "cell_type": "markdown",
      "metadata": {
        "id": "XOv7r-UPAa82"
      },
      "source": [
        "## **Model 2**\n",
        "lemma - inflection"
      ]
    },
    {
      "cell_type": "code",
      "execution_count": null,
      "metadata": {
        "id": "gJSuS8jE7EkI"
      },
      "outputs": [],
      "source": [
        "input_lemma = Input(shape=(lemma_length, encode_size))\n",
        "input_sinPat = Input(shape=(singularPattern_length, encode_size))\n",
        "input_root = Input(shape=(root_length, encode_size))\n",
        "input_genRat = Input(shape=(genRat_length, ))\n",
        "input_numOfRoot = Input(shape=(numOfRoot_length, ))\n",
        "\n",
        "\n",
        "lstm1 = Bidirectional(LSTM(256))(input_lemma)\n",
        "lstm2 = Bidirectional(LSTM(128))(input_root)\n",
        "\n",
        "c = Concatenate(axis=1)([lstm1, lstm2])\n",
        "\n",
        "d = Dense(1000, activation='relu')(c)\n",
        "\n",
        "c = Concatenate(axis=1)([d, input_genRat])\n",
        "\n",
        "r = RepeatVector(inflection_length)(c)\n",
        "\n",
        "lstm = Bidirectional(LSTM(256, return_sequences=True))(r)\n",
        "\n",
        "# dense = TimeDistributed(Dense(128, activation='relu'))(lstm)\n",
        "\n",
        "output = TimeDistributed(Dense(encode_size, activation='softmax'))(lstm)\n",
        "\n",
        "model1 = Model(inputs=[input_lemma, input_sinPat, input_root, input_genRat, input_numOfRoot], outputs=output)\n",
        "\n",
        "checkpoint_filepath = path + '/model 2/best model.hdf5'\n",
        "checkpoint = ModelCheckpoint(filepath=checkpoint_filepath, monitor='val_accuracy', mode='max', save_best_only=True, verbose=0)\n",
        "\n",
        "model1.compile(loss=\"binary_crossentropy\", optimizer=Adam(0.001), metrics=['accuracy'])"
      ]
    },
    {
      "cell_type": "code",
      "execution_count": null,
      "metadata": {
        "id": "nl6vG4OOn85h"
      },
      "outputs": [],
      "source": [
        "with tf.device('/GPU:0'):\n",
        "  model1.fit([X_train_lemma_OH, X_train_singularPattern_OH, X_train_root_OH, X_train_genRat, X_train_numOfRoot], y_train_inflection_OH, batch_size=batch_size, epochs=epochs, callbacks=[checkpoint], validation_data=([X_dev_lemma_OH, X_dev_singularPattern_OH, X_dev_root_OH, X_dev_genRat, X_dev_numOfRoot], y_dev_inflection_OH))  # starts training"
      ]
    },
    {
      "cell_type": "code",
      "execution_count": null,
      "metadata": {
        "id": "SGWl02cbomAi"
      },
      "outputs": [],
      "source": [
        "print(model1.summary())\n",
        "plot_model(model1, to_file=path+'/model 2/architecture.png', show_shapes=True, show_layer_names=False)"
      ]
    },
    {
      "cell_type": "code",
      "execution_count": null,
      "metadata": {
        "id": "THMMAnwKor7X"
      },
      "outputs": [],
      "source": [
        "model = load_model(checkpoint_filepath)\n",
        "model.evaluate([X_test_lemma_OH, X_test_singularPattern_OH, X_test_root_OH, X_test_genRat, X_test_numOfRoot], y_test_inflection_OH)"
      ]
    },
    {
      "cell_type": "code",
      "execution_count": null,
      "metadata": {
        "colab": {
          "base_uri": "https://localhost:8080/"
        },
        "id": "8x86ljlTdd3t",
        "outputId": "bb158815-9989-477f-aa36-3c44604250c7"
      },
      "outputs": [
        {
          "name": "stdout",
          "output_type": "stream",
          "text": [
            "34/34 [==============================] - 4s 15ms/step\n",
            "(1076, 17, 48)\n",
            "(1076, 17, 48)\n"
          ]
        }
      ],
      "source": [
        "pred_plPattern = model.predict([X_test_lemma_OH, X_test_singularPattern_OH, X_test_root_OH, X_test_genRat, X_test_numOfRoot])\n",
        "\n",
        "pred_plPattern = oneHot3D(pred_plPattern)\n",
        "\n",
        "print(pred_plPattern.shape)\n",
        "print(y_test_plPattern_OH.shape)"
      ]
    },
    {
      "cell_type": "code",
      "execution_count": null,
      "metadata": {
        "colab": {
          "base_uri": "https://localhost:8080/",
          "height": 423
        },
        "id": "umzIhhbWzhiI",
        "outputId": "89bacd28-ebd3-4223-8f7c-9ed5799812d1"
      },
      "outputs": [
        {
          "data": {
            "text/html": [
              "\n",
              "  <div id=\"df-2ae0c291-7f7c-4f69-a692-5d0409666b80\">\n",
              "    <div class=\"colab-df-container\">\n",
              "      <div>\n",
              "<style scoped>\n",
              "    .dataframe tbody tr th:only-of-type {\n",
              "        vertical-align: middle;\n",
              "    }\n",
              "\n",
              "    .dataframe tbody tr th {\n",
              "        vertical-align: top;\n",
              "    }\n",
              "\n",
              "    .dataframe thead th {\n",
              "        text-align: right;\n",
              "    }\n",
              "</style>\n",
              "<table border=\"1\" class=\"dataframe\">\n",
              "  <thead>\n",
              "    <tr style=\"text-align: right;\">\n",
              "      <th></th>\n",
              "      <th>index</th>\n",
              "      <th>lemma</th>\n",
              "      <th>inflection</th>\n",
              "      <th>predict</th>\n",
              "    </tr>\n",
              "  </thead>\n",
              "  <tbody>\n",
              "    <tr>\n",
              "      <th>0</th>\n",
              "      <td>7</td>\n",
              "      <td>quw~ap</td>\n",
              "      <td>quw~At</td>\n",
              "      <td>quwaY</td>\n",
              "    </tr>\n",
              "    <tr>\n",
              "      <th>1</th>\n",
              "      <td>17</td>\n",
              "      <td>balad</td>\n",
              "      <td>bilAd</td>\n",
              "      <td>bilAd</td>\n",
              "    </tr>\n",
              "    <tr>\n",
              "      <th>2</th>\n",
              "      <td>41</td>\n",
              "      <td>maso&amp;uwl</td>\n",
              "      <td>maso&amp;uwliyn</td>\n",
              "      <td>maso}uwliyn</td>\n",
              "    </tr>\n",
              "    <tr>\n",
              "      <th>3</th>\n",
              "      <td>65</td>\n",
              "      <td>mu$okilap</td>\n",
              "      <td>ma$Akil</td>\n",
              "      <td>mu$okilA</td>\n",
              "    </tr>\n",
              "    <tr>\n",
              "      <th>4</th>\n",
              "      <td>69</td>\n",
              "      <td>TAlib</td>\n",
              "      <td>Tul~Ab</td>\n",
              "      <td>TAlibb</td>\n",
              "    </tr>\n",
              "    <tr>\n",
              "      <th>...</th>\n",
              "      <td>...</td>\n",
              "      <td>...</td>\n",
              "      <td>...</td>\n",
              "      <td>...</td>\n",
              "    </tr>\n",
              "    <tr>\n",
              "      <th>132</th>\n",
              "      <td>1056</td>\n",
              "      <td>majoraY</td>\n",
              "      <td>mujorayAt</td>\n",
              "      <td>majoray</td>\n",
              "    </tr>\n",
              "    <tr>\n",
              "      <th>133</th>\n",
              "      <td>1060</td>\n",
              "      <td>mano$uwr</td>\n",
              "      <td>mano$uwrAt</td>\n",
              "      <td>manA$iyr</td>\n",
              "    </tr>\n",
              "    <tr>\n",
              "      <th>134</th>\n",
              "      <td>1061</td>\n",
              "      <td>manobat</td>\n",
              "      <td>manAbit</td>\n",
              "      <td>manAtib</td>\n",
              "    </tr>\n",
              "    <tr>\n",
              "      <th>135</th>\n",
              "      <td>1065</td>\n",
              "      <td>maqAm</td>\n",
              "      <td>maqAmAt</td>\n",
              "      <td>maqAmim</td>\n",
              "    </tr>\n",
              "    <tr>\n",
              "      <th>136</th>\n",
              "      <td>1066</td>\n",
              "      <td>maqar~</td>\n",
              "      <td>maqar~At</td>\n",
              "      <td>maqAr~</td>\n",
              "    </tr>\n",
              "  </tbody>\n",
              "</table>\n",
              "<p>137 rows × 4 columns</p>\n",
              "</div>\n",
              "      <button class=\"colab-df-convert\" onclick=\"convertToInteractive('df-2ae0c291-7f7c-4f69-a692-5d0409666b80')\"\n",
              "              title=\"Convert this dataframe to an interactive table.\"\n",
              "              style=\"display:none;\">\n",
              "        \n",
              "  <svg xmlns=\"http://www.w3.org/2000/svg\" height=\"24px\"viewBox=\"0 0 24 24\"\n",
              "       width=\"24px\">\n",
              "    <path d=\"M0 0h24v24H0V0z\" fill=\"none\"/>\n",
              "    <path d=\"M18.56 5.44l.94 2.06.94-2.06 2.06-.94-2.06-.94-.94-2.06-.94 2.06-2.06.94zm-11 1L8.5 8.5l.94-2.06 2.06-.94-2.06-.94L8.5 2.5l-.94 2.06-2.06.94zm10 10l.94 2.06.94-2.06 2.06-.94-2.06-.94-.94-2.06-.94 2.06-2.06.94z\"/><path d=\"M17.41 7.96l-1.37-1.37c-.4-.4-.92-.59-1.43-.59-.52 0-1.04.2-1.43.59L10.3 9.45l-7.72 7.72c-.78.78-.78 2.05 0 2.83L4 21.41c.39.39.9.59 1.41.59.51 0 1.02-.2 1.41-.59l7.78-7.78 2.81-2.81c.8-.78.8-2.07 0-2.86zM5.41 20L4 18.59l7.72-7.72 1.47 1.35L5.41 20z\"/>\n",
              "  </svg>\n",
              "      </button>\n",
              "      \n",
              "  <style>\n",
              "    .colab-df-container {\n",
              "      display:flex;\n",
              "      flex-wrap:wrap;\n",
              "      gap: 12px;\n",
              "    }\n",
              "\n",
              "    .colab-df-convert {\n",
              "      background-color: #E8F0FE;\n",
              "      border: none;\n",
              "      border-radius: 50%;\n",
              "      cursor: pointer;\n",
              "      display: none;\n",
              "      fill: #1967D2;\n",
              "      height: 32px;\n",
              "      padding: 0 0 0 0;\n",
              "      width: 32px;\n",
              "    }\n",
              "\n",
              "    .colab-df-convert:hover {\n",
              "      background-color: #E2EBFA;\n",
              "      box-shadow: 0px 1px 2px rgba(60, 64, 67, 0.3), 0px 1px 3px 1px rgba(60, 64, 67, 0.15);\n",
              "      fill: #174EA6;\n",
              "    }\n",
              "\n",
              "    [theme=dark] .colab-df-convert {\n",
              "      background-color: #3B4455;\n",
              "      fill: #D2E3FC;\n",
              "    }\n",
              "\n",
              "    [theme=dark] .colab-df-convert:hover {\n",
              "      background-color: #434B5C;\n",
              "      box-shadow: 0px 1px 3px 1px rgba(0, 0, 0, 0.15);\n",
              "      filter: drop-shadow(0px 1px 2px rgba(0, 0, 0, 0.3));\n",
              "      fill: #FFFFFF;\n",
              "    }\n",
              "  </style>\n",
              "\n",
              "      <script>\n",
              "        const buttonEl =\n",
              "          document.querySelector('#df-2ae0c291-7f7c-4f69-a692-5d0409666b80 button.colab-df-convert');\n",
              "        buttonEl.style.display =\n",
              "          google.colab.kernel.accessAllowed ? 'block' : 'none';\n",
              "\n",
              "        async function convertToInteractive(key) {\n",
              "          const element = document.querySelector('#df-2ae0c291-7f7c-4f69-a692-5d0409666b80');\n",
              "          const dataTable =\n",
              "            await google.colab.kernel.invokeFunction('convertToInteractive',\n",
              "                                                     [key], {});\n",
              "          if (!dataTable) return;\n",
              "\n",
              "          const docLinkHtml = 'Like what you see? Visit the ' +\n",
              "            '<a target=\"_blank\" href=https://colab.research.google.com/notebooks/data_table.ipynb>data table notebook</a>'\n",
              "            + ' to learn more about interactive tables.';\n",
              "          element.innerHTML = '';\n",
              "          dataTable['output_type'] = 'display_data';\n",
              "          await google.colab.output.renderOutput(dataTable, element);\n",
              "          const docLink = document.createElement('div');\n",
              "          docLink.innerHTML = docLinkHtml;\n",
              "          element.appendChild(docLink);\n",
              "        }\n",
              "      </script>\n",
              "    </div>\n",
              "  </div>\n",
              "  "
            ],
            "text/plain": [
              "     index      lemma   inflection      predict\n",
              "0        7     quw~ap       quw~At        quwaY\n",
              "1       17      balad        bilAd        bilAd\n",
              "2       41   maso&uwl  maso&uwliyn  maso}uwliyn\n",
              "3       65  mu$okilap      ma$Akil     mu$okilA\n",
              "4       69      TAlib       Tul~Ab       TAlibb\n",
              "..     ...        ...          ...          ...\n",
              "132   1056    majoraY    mujorayAt      majoray\n",
              "133   1060   mano$uwr   mano$uwrAt     manA$iyr\n",
              "134   1061    manobat      manAbit      manAtib\n",
              "135   1065      maqAm      maqAmAt      maqAmim\n",
              "136   1066     maqar~     maqar~At       maqAr~\n",
              "\n",
              "[137 rows x 4 columns]"
            ]
          },
          "execution_count": 75,
          "metadata": {},
          "output_type": "execute_result"
        }
      ],
      "source": [
        "reportErrorAnalysis(testData[0],pred_plPattern,y_test_inflection_OH, path+\"/model 2/test_errorAnalysis.csv\")"
      ]
    },
    {
      "cell_type": "code",
      "execution_count": null,
      "metadata": {
        "colab": {
          "base_uri": "https://localhost:8080/"
        },
        "id": "31Ka-PdPdd33",
        "outputId": "a0018009-0161-4fa6-b9d8-a4eb961a6e57"
      },
      "outputs": [
        {
          "data": {
            "text/plain": [
              "(137, 0.8726765799256505)"
            ]
          },
          "execution_count": 76,
          "metadata": {},
          "output_type": "execute_result"
        }
      ],
      "source": [
        "checkAccuracy(pred_plPattern, y_test_inflection_OH)"
      ]
    },
    {
      "cell_type": "markdown",
      "metadata": {
        "id": "bGnDKnFMwWZN"
      },
      "source": [
        "## **Model 3**\n",
        "singular pattern - plural pattern"
      ]
    },
    {
      "cell_type": "code",
      "execution_count": null,
      "metadata": {
        "id": "FbsjWhWDwWZO"
      },
      "outputs": [],
      "source": [
        "input_singularPattern = Input(shape=(singularPattern_length, encode_size))\n",
        "input_root = Input(shape=(root_length, encode_size))\n",
        "input_genRat = Input(shape=(genRat_length, ))\n",
        "\n",
        "\n",
        "lstm1 = Bidirectional(LSTM(256))(input_singularPattern)\n",
        "lstm2 = Bidirectional(LSTM(64))(input_root)\n",
        "\n",
        "c = Concatenate(axis=1)([lstm1, lstm2])\n",
        "\n",
        "d = Dense(126, activation='relu')(c)\n",
        "\n",
        "c = Concatenate(axis=1)([d, input_genRat])\n",
        "\n",
        "r = RepeatVector(plPattern_length)(c)\n",
        "\n",
        "lstm2 = Bidirectional(LSTM(256, return_sequences=True))(r)\n",
        "\n",
        "output = TimeDistributed(Dense(encode_size, activation='softmax'))(lstm2)\n",
        "\n",
        "model2 = Model(inputs=[input_singularPattern, input_root, input_genRat], outputs=output)\n",
        "\n",
        "checkpoint_filepath = path + '/model 2/best model.hdf5'\n",
        "checkpoint = ModelCheckpoint(filepath=checkpoint_filepath, monitor='val_accuracy', mode='max', save_best_only=True, verbose=0)\n",
        "\n",
        "model2.compile(loss=\"binary_crossentropy\", optimizer=Adam(0.001), metrics=['accuracy'])"
      ]
    },
    {
      "cell_type": "code",
      "execution_count": null,
      "metadata": {
        "id": "PdX8HQegwWZP"
      },
      "outputs": [],
      "source": [
        "with tf.device('/GPU:0'):\n",
        "  model2.fit([X_train_singularPattern_OH, X_train_root_OH, X_train_genRat], y_train_plPattern_OH, batch_size=batch_size, epochs=epochs, callbacks=[checkpoint], validation_data=([X_dev_singularPattern_OH, X_dev_root_OH, X_dev_genRat], y_dev_plPattern_OH))  # starts training"
      ]
    },
    {
      "cell_type": "code",
      "execution_count": null,
      "metadata": {
        "id": "JlGB3C2DwWZQ"
      },
      "outputs": [],
      "source": [
        "print(model2.summary())\n",
        "plot_model(model2, to_file=path+'/model 2/architecture.png', show_shapes=True, show_layer_names=False)"
      ]
    },
    {
      "cell_type": "code",
      "execution_count": null,
      "metadata": {
        "colab": {
          "base_uri": "https://localhost:8080/"
        },
        "id": "3PY123jMwWZR",
        "outputId": "1023d676-37fd-41ce-ed81-80f33c796f65"
      },
      "outputs": [
        {
          "name": "stdout",
          "output_type": "stream",
          "text": [
            "35/35 [==============================] - 2s 8ms/step - loss: 0.0032 - accuracy: 0.9736\n"
          ]
        },
        {
          "data": {
            "text/plain": [
              "[0.0032125026918947697, 0.9735569953918457]"
            ]
          },
          "execution_count": 31,
          "metadata": {},
          "output_type": "execute_result"
        }
      ],
      "source": [
        "model = load_model(checkpoint_filepath)\n",
        "model.evaluate([X_test_singularPattern_OH, X_test_root_OH, X_test_genRat], y_test_plPattern_OH)"
      ]
    },
    {
      "cell_type": "markdown",
      "metadata": {
        "id": "w8vSGnlA1K3B"
      },
      "source": [
        "## **Model 4**\n",
        "lemma - plural pattern"
      ]
    },
    {
      "cell_type": "code",
      "execution_count": null,
      "metadata": {
        "id": "83b-jT2L1K3C"
      },
      "outputs": [],
      "source": [
        "input_lemma = Input(shape=(lemma_length, encode_size))\n",
        "input_root = Input(shape=(root_length, encode_size))\n",
        "input_genRat = Input(shape=(genRat_length, ))\n",
        "input_numOfRoot = Input(shape=(numOfRoot_length, ))\n",
        "\n",
        "\n",
        "lstm1 = Bidirectional(LSTM(128))(input_lemma)\n",
        "lstm2 = Bidirectional(LSTM(128))(input_root)\n",
        "\n",
        "c = Concatenate(axis=1)([lstm1, lstm2])\n",
        "\n",
        "d = Dense(254, activation='relu')(c)\n",
        "\n",
        "c = Concatenate(axis=1)([d, input_genRat])\n",
        "\n",
        "r = RepeatVector(plPattern_length)(c)\n",
        "\n",
        "lstm1 = Bidirectional(LSTM(128, return_sequences=True))(r)\n",
        "# lstm2 = Bidirectional(LSTM(256, return_sequences=True))(lstm1)\n",
        "\n",
        "output = TimeDistributed(Dense(encode_size, activation='softmax'))(lstm1)\n",
        "\n",
        "model3 = Model(inputs=[input_lemma, input_root, input_genRat, input_numOfRoot], outputs=output)\n",
        "\n",
        "checkpoint_filepath = path + '/model 3/best model.hdf5'\n",
        "checkpoint = ModelCheckpoint(filepath=checkpoint_filepath, monitor='val_accuracy', mode='max', save_best_only=True, verbose=0)\n",
        "\n",
        "model3.compile(loss=\"categorical_crossentropy\", optimizer=Adam(0.001), metrics=['accuracy'])"
      ]
    },
    {
      "cell_type": "code",
      "execution_count": null,
      "metadata": {
        "id": "yoHgvt471K3D"
      },
      "outputs": [],
      "source": [
        "with tf.device('/GPU:0'):\n",
        "  model3.fit([X_train_lemma_OH, X_train_root_OH, X_train_genRat, X_train_numOfRoot], y_train_plPattern_OH, batch_size=batch_size, epochs=epochs, callbacks=[checkpoint], validation_data=([X_dev_lemma_OH, X_dev_root_OH, X_dev_genRat, X_dev_numOfRoot], y_dev_plPattern_OH))  # starts training"
      ]
    },
    {
      "cell_type": "code",
      "execution_count": null,
      "metadata": {
        "id": "BdcTuQmr1K3F"
      },
      "outputs": [],
      "source": [
        "print(model3.summary())\n",
        "plot_model(model3, to_file=path+'/model 3/architecture.png', show_shapes=True, show_layer_names=False)"
      ]
    },
    {
      "cell_type": "code",
      "execution_count": null,
      "metadata": {
        "colab": {
          "base_uri": "https://localhost:8080/"
        },
        "id": "0Da0kwHx1K3F",
        "outputId": "d4eb7529-1ff9-4a2e-d013-01eb1b7dab61"
      },
      "outputs": [
        {
          "name": "stdout",
          "output_type": "stream",
          "text": [
            "34/34 [==============================] - 2s 7ms/step - loss: 0.0973 - accuracy: 0.9712\n"
          ]
        },
        {
          "data": {
            "text/plain": [
              "[0.09726995974779129, 0.9711896181106567]"
            ]
          },
          "execution_count": 53,
          "metadata": {},
          "output_type": "execute_result"
        }
      ],
      "source": [
        "model = load_model(checkpoint_filepath)\n",
        "model.evaluate([X_test_lemma_OH, X_test_root_OH, X_test_genRat, X_test_numOfRoot], y_test_plPattern_OH)"
      ]
    },
    {
      "cell_type": "code",
      "execution_count": null,
      "metadata": {
        "colab": {
          "base_uri": "https://localhost:8080/"
        },
        "id": "3mMRUOvb-OvF",
        "outputId": "2204db7f-4801-4007-bff2-93d67e82e170"
      },
      "outputs": [
        {
          "name": "stdout",
          "output_type": "stream",
          "text": [
            "34/34 [==============================] - 2s 6ms/step\n",
            "(1076, 17, 48)\n",
            "(1076, 17, 48)\n"
          ]
        }
      ],
      "source": [
        "pred_plPattern = model.predict([X_test_lemma_OH, X_test_root_OH, X_test_genRat, X_test_numOfRoot])\n",
        "\n",
        "print(pred_plPattern.shape)\n",
        "print(y_test_plPattern_OH.shape)"
      ]
    },
    {
      "cell_type": "code",
      "execution_count": null,
      "metadata": {
        "id": "g-hxObTBxU4T"
      },
      "outputs": [],
      "source": [
        "reportErrorAnalysis(testData[0],pred_plPattern,y_test_inflection_OH, path+\"/model 3/test_errorAnalysis.csv\")"
      ]
    },
    {
      "cell_type": "code",
      "execution_count": null,
      "metadata": {
        "id": "brGJUavNZRxD"
      },
      "outputs": [],
      "source": [
        "pred_plPattern = oneHot3D(pred_plPattern)"
      ]
    },
    {
      "cell_type": "code",
      "execution_count": null,
      "metadata": {
        "colab": {
          "base_uri": "https://localhost:8080/"
        },
        "id": "9MHCGKotkWA4",
        "outputId": "6cd3de6f-e29f-4132-c0a9-5fb3ae206cb2"
      },
      "outputs": [
        {
          "data": {
            "text/plain": [
              "0.7955390334572491"
            ]
          },
          "execution_count": 56,
          "metadata": {},
          "output_type": "execute_result"
        }
      ],
      "source": [
        "checkAccuracy(pred_plPattern, y_test_plPattern_OH)"
      ]
    },
    {
      "cell_type": "markdown",
      "metadata": {
        "id": "87_lGKl1YqGY"
      },
      "source": [
        "## **Model 5**\n",
        "lemma - inflection"
      ]
    },
    {
      "cell_type": "code",
      "execution_count": null,
      "metadata": {
        "id": "1KAe4FU9YqGf"
      },
      "outputs": [],
      "source": [
        "input_lemma = Input(shape=(lemma_length, encode_size))\n",
        "input_genRat = Input(shape=(genRat_length, ))\n",
        "\n",
        "\n",
        "lstm1 = Bidirectional(LSTM(256))(input_lemma)\n",
        "\n",
        "d = Dense(254, activation='relu')(lstm1)\n",
        "\n",
        "c = Concatenate(axis=1)([d, input_genRat])\n",
        "\n",
        "r = RepeatVector(inflection_length)(c)\n",
        "\n",
        "lstm2 = Bidirectional(LSTM(256, return_sequences=True))(r)\n",
        "\n",
        "output = TimeDistributed(Dense(encode_size, activation='softmax'))(lstm2)\n",
        "\n",
        "model5 = Model(inputs=[input_lemma, input_genRat], outputs=output)\n",
        "\n",
        "checkpoint_filepath = path + '/model 5/best model.hdf5'\n",
        "checkpoint = ModelCheckpoint(filepath=checkpoint_filepath, monitor='val_accuracy', mode='max', save_best_only=True, verbose=0)\n",
        "\n",
        "model5.compile(loss=\"binary_crossentropy\", optimizer=Adam(0.001), metrics=['accuracy'])"
      ]
    },
    {
      "cell_type": "code",
      "execution_count": null,
      "metadata": {
        "colab": {
          "base_uri": "https://localhost:8080/"
        },
        "id": "sMbsBsqCYqGf",
        "outputId": "87351e54-68a7-4fb6-8a0d-f7b9cef56360"
      },
      "outputs": [
        {
          "name": "stdout",
          "output_type": "stream",
          "text": [
            "Epoch 1/100\n",
            "45/45 [==============================] - 8s 63ms/step - loss: 0.0501 - accuracy: 0.5612 - val_loss: 0.0391 - val_accuracy: 0.6090\n",
            "Epoch 2/100\n",
            "45/45 [==============================] - 1s 19ms/step - loss: 0.0388 - accuracy: 0.6127 - val_loss: 0.0371 - val_accuracy: 0.6228\n",
            "Epoch 3/100\n",
            "45/45 [==============================] - 1s 18ms/step - loss: 0.0370 - accuracy: 0.6282 - val_loss: 0.0353 - val_accuracy: 0.6396\n",
            "Epoch 4/100\n",
            "45/45 [==============================] - 1s 18ms/step - loss: 0.0353 - accuracy: 0.6453 - val_loss: 0.0338 - val_accuracy: 0.6523\n",
            "Epoch 5/100\n",
            "45/45 [==============================] - 1s 18ms/step - loss: 0.0339 - accuracy: 0.6580 - val_loss: 0.0329 - val_accuracy: 0.6750\n",
            "Epoch 6/100\n",
            "45/45 [==============================] - 1s 18ms/step - loss: 0.0326 - accuracy: 0.6739 - val_loss: 0.0309 - val_accuracy: 0.6917\n",
            "Epoch 7/100\n",
            "45/45 [==============================] - 1s 17ms/step - loss: 0.0309 - accuracy: 0.6888 - val_loss: 0.0292 - val_accuracy: 0.7077\n",
            "Epoch 8/100\n",
            "45/45 [==============================] - 1s 18ms/step - loss: 0.0292 - accuracy: 0.7035 - val_loss: 0.0279 - val_accuracy: 0.7150\n",
            "Epoch 9/100\n",
            "45/45 [==============================] - 1s 15ms/step - loss: 0.0280 - accuracy: 0.7094 - val_loss: 0.0269 - val_accuracy: 0.7145\n",
            "Epoch 10/100\n",
            "45/45 [==============================] - 1s 18ms/step - loss: 0.0264 - accuracy: 0.7249 - val_loss: 0.0247 - val_accuracy: 0.7464\n",
            "Epoch 11/100\n",
            "45/45 [==============================] - 1s 15ms/step - loss: 0.0250 - accuracy: 0.7376 - val_loss: 0.0248 - val_accuracy: 0.7429\n",
            "Epoch 12/100\n",
            "45/45 [==============================] - 1s 18ms/step - loss: 0.0236 - accuracy: 0.7535 - val_loss: 0.0221 - val_accuracy: 0.7699\n",
            "Epoch 13/100\n",
            "45/45 [==============================] - 1s 18ms/step - loss: 0.0224 - accuracy: 0.7667 - val_loss: 0.0214 - val_accuracy: 0.7755\n",
            "Epoch 14/100\n",
            "45/45 [==============================] - 1s 18ms/step - loss: 0.0213 - accuracy: 0.7785 - val_loss: 0.0200 - val_accuracy: 0.7931\n",
            "Epoch 15/100\n",
            "45/45 [==============================] - 1s 17ms/step - loss: 0.0199 - accuracy: 0.7949 - val_loss: 0.0186 - val_accuracy: 0.8120\n",
            "Epoch 16/100\n",
            "45/45 [==============================] - 1s 18ms/step - loss: 0.0183 - accuracy: 0.8137 - val_loss: 0.0180 - val_accuracy: 0.8159\n",
            "Epoch 17/100\n",
            "45/45 [==============================] - 1s 15ms/step - loss: 0.0179 - accuracy: 0.8163 - val_loss: 0.0179 - val_accuracy: 0.8145\n",
            "Epoch 18/100\n",
            "45/45 [==============================] - 1s 17ms/step - loss: 0.0168 - accuracy: 0.8288 - val_loss: 0.0151 - val_accuracy: 0.8455\n",
            "Epoch 19/100\n",
            "45/45 [==============================] - 1s 18ms/step - loss: 0.0148 - accuracy: 0.8531 - val_loss: 0.0147 - val_accuracy: 0.8494\n",
            "Epoch 20/100\n",
            "45/45 [==============================] - 1s 18ms/step - loss: 0.0147 - accuracy: 0.8525 - val_loss: 0.0138 - val_accuracy: 0.8630\n",
            "Epoch 21/100\n",
            "45/45 [==============================] - 1s 15ms/step - loss: 0.0137 - accuracy: 0.8637 - val_loss: 0.0135 - val_accuracy: 0.8629\n",
            "Epoch 22/100\n",
            "45/45 [==============================] - 1s 18ms/step - loss: 0.0130 - accuracy: 0.8716 - val_loss: 0.0124 - val_accuracy: 0.8779\n",
            "Epoch 23/100\n",
            "45/45 [==============================] - 1s 18ms/step - loss: 0.0122 - accuracy: 0.8790 - val_loss: 0.0121 - val_accuracy: 0.8824\n",
            "Epoch 24/100\n",
            "45/45 [==============================] - 1s 18ms/step - loss: 0.0121 - accuracy: 0.8811 - val_loss: 0.0115 - val_accuracy: 0.8870\n",
            "Epoch 25/100\n",
            "45/45 [==============================] - 1s 19ms/step - loss: 0.0113 - accuracy: 0.8882 - val_loss: 0.0110 - val_accuracy: 0.8941\n",
            "Epoch 26/100\n",
            "45/45 [==============================] - 1s 18ms/step - loss: 0.0105 - accuracy: 0.8999 - val_loss: 0.0102 - val_accuracy: 0.9025\n",
            "Epoch 27/100\n",
            "45/45 [==============================] - 1s 18ms/step - loss: 0.0101 - accuracy: 0.9041 - val_loss: 0.0101 - val_accuracy: 0.9049\n",
            "Epoch 28/100\n",
            "45/45 [==============================] - 1s 18ms/step - loss: 0.0104 - accuracy: 0.8997 - val_loss: 0.0098 - val_accuracy: 0.9089\n",
            "Epoch 29/100\n",
            "45/45 [==============================] - 1s 17ms/step - loss: 0.0088 - accuracy: 0.9183 - val_loss: 0.0091 - val_accuracy: 0.9172\n",
            "Epoch 30/100\n",
            "45/45 [==============================] - 1s 18ms/step - loss: 0.0085 - accuracy: 0.9224 - val_loss: 0.0088 - val_accuracy: 0.9200\n",
            "Epoch 31/100\n",
            "45/45 [==============================] - 1s 18ms/step - loss: 0.0081 - accuracy: 0.9255 - val_loss: 0.0086 - val_accuracy: 0.9230\n",
            "Epoch 32/100\n",
            "45/45 [==============================] - 1s 18ms/step - loss: 0.0077 - accuracy: 0.9304 - val_loss: 0.0076 - val_accuracy: 0.9333\n",
            "Epoch 33/100\n",
            "45/45 [==============================] - 1s 18ms/step - loss: 0.0069 - accuracy: 0.9389 - val_loss: 0.0072 - val_accuracy: 0.9383\n",
            "Epoch 34/100\n",
            "45/45 [==============================] - 1s 15ms/step - loss: 0.0067 - accuracy: 0.9420 - val_loss: 0.0079 - val_accuracy: 0.9300\n",
            "Epoch 35/100\n",
            "45/45 [==============================] - 1s 18ms/step - loss: 0.0067 - accuracy: 0.9420 - val_loss: 0.0071 - val_accuracy: 0.9399\n",
            "Epoch 36/100\n",
            "45/45 [==============================] - 1s 18ms/step - loss: 0.0061 - accuracy: 0.9480 - val_loss: 0.0066 - val_accuracy: 0.9448\n",
            "Epoch 37/100\n",
            "45/45 [==============================] - 1s 20ms/step - loss: 0.0054 - accuracy: 0.9542 - val_loss: 0.0062 - val_accuracy: 0.9482\n",
            "Epoch 38/100\n",
            "45/45 [==============================] - 1s 18ms/step - loss: 0.0051 - accuracy: 0.9587 - val_loss: 0.0059 - val_accuracy: 0.9516\n",
            "Epoch 39/100\n",
            "45/45 [==============================] - 1s 18ms/step - loss: 0.0050 - accuracy: 0.9578 - val_loss: 0.0057 - val_accuracy: 0.9549\n",
            "Epoch 40/100\n",
            "45/45 [==============================] - 1s 19ms/step - loss: 0.0046 - accuracy: 0.9627 - val_loss: 0.0057 - val_accuracy: 0.9556\n",
            "Epoch 41/100\n",
            "45/45 [==============================] - 1s 15ms/step - loss: 0.0044 - accuracy: 0.9638 - val_loss: 0.0066 - val_accuracy: 0.9464\n",
            "Epoch 42/100\n",
            "45/45 [==============================] - 1s 15ms/step - loss: 0.0049 - accuracy: 0.9583 - val_loss: 0.0060 - val_accuracy: 0.9492\n",
            "Epoch 43/100\n",
            "45/45 [==============================] - 1s 18ms/step - loss: 0.0046 - accuracy: 0.9608 - val_loss: 0.0052 - val_accuracy: 0.9595\n",
            "Epoch 44/100\n",
            "45/45 [==============================] - 1s 15ms/step - loss: 0.0040 - accuracy: 0.9677 - val_loss: 0.0052 - val_accuracy: 0.9583\n",
            "Epoch 45/100\n",
            "45/45 [==============================] - 1s 18ms/step - loss: 0.0038 - accuracy: 0.9695 - val_loss: 0.0051 - val_accuracy: 0.9618\n",
            "Epoch 46/100\n",
            "45/45 [==============================] - 1s 18ms/step - loss: 0.0038 - accuracy: 0.9692 - val_loss: 0.0047 - val_accuracy: 0.9630\n",
            "Epoch 47/100\n",
            "45/45 [==============================] - 1s 18ms/step - loss: 0.0034 - accuracy: 0.9719 - val_loss: 0.0047 - val_accuracy: 0.9647\n",
            "Epoch 48/100\n",
            "45/45 [==============================] - 1s 15ms/step - loss: 0.0036 - accuracy: 0.9703 - val_loss: 0.0048 - val_accuracy: 0.9632\n",
            "Epoch 49/100\n",
            "45/45 [==============================] - 1s 14ms/step - loss: 0.0032 - accuracy: 0.9735 - val_loss: 0.0048 - val_accuracy: 0.9620\n",
            "Epoch 50/100\n",
            "45/45 [==============================] - 1s 18ms/step - loss: 0.0029 - accuracy: 0.9762 - val_loss: 0.0043 - val_accuracy: 0.9671\n",
            "Epoch 51/100\n",
            "45/45 [==============================] - 1s 18ms/step - loss: 0.0025 - accuracy: 0.9796 - val_loss: 0.0042 - val_accuracy: 0.9688\n",
            "Epoch 52/100\n",
            "45/45 [==============================] - 1s 16ms/step - loss: 0.0025 - accuracy: 0.9792 - val_loss: 0.0044 - val_accuracy: 0.9683\n",
            "Epoch 53/100\n",
            "45/45 [==============================] - 1s 15ms/step - loss: 0.0030 - accuracy: 0.9739 - val_loss: 0.0053 - val_accuracy: 0.9571\n",
            "Epoch 54/100\n",
            "45/45 [==============================] - 1s 14ms/step - loss: 0.0031 - accuracy: 0.9728 - val_loss: 0.0049 - val_accuracy: 0.9622\n",
            "Epoch 55/100\n",
            "45/45 [==============================] - 1s 16ms/step - loss: 0.0033 - accuracy: 0.9722 - val_loss: 0.0053 - val_accuracy: 0.9572\n",
            "Epoch 56/100\n",
            "45/45 [==============================] - 1s 16ms/step - loss: 0.0034 - accuracy: 0.9705 - val_loss: 0.0047 - val_accuracy: 0.9633\n",
            "Epoch 57/100\n",
            "45/45 [==============================] - 1s 15ms/step - loss: 0.0029 - accuracy: 0.9750 - val_loss: 0.0045 - val_accuracy: 0.9640\n",
            "Epoch 58/100\n",
            "45/45 [==============================] - 1s 18ms/step - loss: 0.0026 - accuracy: 0.9772 - val_loss: 0.0039 - val_accuracy: 0.9696\n",
            "Epoch 59/100\n",
            "45/45 [==============================] - 1s 17ms/step - loss: 0.0023 - accuracy: 0.9798 - val_loss: 0.0040 - val_accuracy: 0.9683\n",
            "Epoch 60/100\n",
            "45/45 [==============================] - 1s 17ms/step - loss: 0.0022 - accuracy: 0.9796 - val_loss: 0.0044 - val_accuracy: 0.9649\n",
            "Epoch 61/100\n",
            "45/45 [==============================] - 1s 18ms/step - loss: 0.0022 - accuracy: 0.9809 - val_loss: 0.0039 - val_accuracy: 0.9698\n",
            "Epoch 62/100\n",
            "45/45 [==============================] - 1s 18ms/step - loss: 0.0019 - accuracy: 0.9826 - val_loss: 0.0037 - val_accuracy: 0.9708\n",
            "Epoch 63/100\n",
            "45/45 [==============================] - 1s 18ms/step - loss: 0.0019 - accuracy: 0.9819 - val_loss: 0.0037 - val_accuracy: 0.9709\n",
            "Epoch 64/100\n",
            "45/45 [==============================] - 1s 15ms/step - loss: 0.0019 - accuracy: 0.9815 - val_loss: 0.0037 - val_accuracy: 0.9706\n",
            "Epoch 65/100\n",
            "45/45 [==============================] - 1s 20ms/step - loss: 0.0017 - accuracy: 0.9838 - val_loss: 0.0037 - val_accuracy: 0.9711\n",
            "Epoch 66/100\n",
            "45/45 [==============================] - 1s 15ms/step - loss: 0.0017 - accuracy: 0.9830 - val_loss: 0.0037 - val_accuracy: 0.9711\n",
            "Epoch 67/100\n",
            "45/45 [==============================] - 1s 15ms/step - loss: 0.0018 - accuracy: 0.9818 - val_loss: 0.0040 - val_accuracy: 0.9682\n",
            "Epoch 68/100\n",
            "45/45 [==============================] - 1s 18ms/step - loss: 0.0019 - accuracy: 0.9819 - val_loss: 0.0037 - val_accuracy: 0.9719\n",
            "Epoch 69/100\n",
            "45/45 [==============================] - 1s 18ms/step - loss: 0.0016 - accuracy: 0.9831 - val_loss: 0.0037 - val_accuracy: 0.9720\n",
            "Epoch 70/100\n",
            "45/45 [==============================] - 1s 18ms/step - loss: 0.0016 - accuracy: 0.9824 - val_loss: 0.0037 - val_accuracy: 0.9726\n",
            "Epoch 71/100\n",
            "45/45 [==============================] - 1s 15ms/step - loss: 0.0016 - accuracy: 0.9831 - val_loss: 0.0037 - val_accuracy: 0.9719\n",
            "Epoch 72/100\n",
            "45/45 [==============================] - 1s 15ms/step - loss: 0.0016 - accuracy: 0.9832 - val_loss: 0.0038 - val_accuracy: 0.9716\n",
            "Epoch 73/100\n",
            "45/45 [==============================] - 1s 15ms/step - loss: 0.0015 - accuracy: 0.9833 - val_loss: 0.0036 - val_accuracy: 0.9719\n",
            "Epoch 74/100\n",
            "45/45 [==============================] - 1s 15ms/step - loss: 0.0022 - accuracy: 0.9786 - val_loss: 0.0041 - val_accuracy: 0.9671\n",
            "Epoch 75/100\n",
            "45/45 [==============================] - 1s 15ms/step - loss: 0.0022 - accuracy: 0.9785 - val_loss: 0.0046 - val_accuracy: 0.9639\n",
            "Epoch 76/100\n",
            "45/45 [==============================] - 1s 14ms/step - loss: 0.0026 - accuracy: 0.9756 - val_loss: 0.0043 - val_accuracy: 0.9662\n",
            "Epoch 77/100\n",
            "45/45 [==============================] - 1s 15ms/step - loss: 0.0021 - accuracy: 0.9797 - val_loss: 0.0041 - val_accuracy: 0.9676\n",
            "Epoch 78/100\n",
            "45/45 [==============================] - 1s 15ms/step - loss: 0.0020 - accuracy: 0.9807 - val_loss: 0.0041 - val_accuracy: 0.9686\n",
            "Epoch 79/100\n",
            "45/45 [==============================] - 1s 16ms/step - loss: 0.0018 - accuracy: 0.9819 - val_loss: 0.0039 - val_accuracy: 0.9715\n",
            "Epoch 80/100\n",
            "45/45 [==============================] - 1s 16ms/step - loss: 0.0016 - accuracy: 0.9827 - val_loss: 0.0037 - val_accuracy: 0.9714\n",
            "Epoch 81/100\n",
            "45/45 [==============================] - 1s 15ms/step - loss: 0.0015 - accuracy: 0.9834 - val_loss: 0.0038 - val_accuracy: 0.9719\n",
            "Epoch 82/100\n",
            "45/45 [==============================] - 1s 15ms/step - loss: 0.0014 - accuracy: 0.9842 - val_loss: 0.0037 - val_accuracy: 0.9717\n",
            "Epoch 83/100\n",
            "45/45 [==============================] - 1s 15ms/step - loss: 0.0014 - accuracy: 0.9836 - val_loss: 0.0036 - val_accuracy: 0.9718\n",
            "Epoch 84/100\n",
            "45/45 [==============================] - 1s 16ms/step - loss: 0.0014 - accuracy: 0.9843 - val_loss: 0.0035 - val_accuracy: 0.9720\n",
            "Epoch 85/100\n",
            "45/45 [==============================] - 2s 39ms/step - loss: 0.0013 - accuracy: 0.9845 - val_loss: 0.0035 - val_accuracy: 0.9730\n",
            "Epoch 86/100\n",
            "45/45 [==============================] - 1s 16ms/step - loss: 0.0013 - accuracy: 0.9842 - val_loss: 0.0035 - val_accuracy: 0.9729\n",
            "Epoch 87/100\n",
            "45/45 [==============================] - 1s 15ms/step - loss: 0.0017 - accuracy: 0.9817 - val_loss: 0.0067 - val_accuracy: 0.9516\n",
            "Epoch 88/100\n",
            "45/45 [==============================] - 1s 15ms/step - loss: 0.0036 - accuracy: 0.9657 - val_loss: 0.0054 - val_accuracy: 0.9541\n",
            "Epoch 89/100\n",
            "45/45 [==============================] - 1s 15ms/step - loss: 0.0030 - accuracy: 0.9715 - val_loss: 0.0056 - val_accuracy: 0.9569\n",
            "Epoch 90/100\n",
            "45/45 [==============================] - 1s 15ms/step - loss: 0.0034 - accuracy: 0.9683 - val_loss: 0.0049 - val_accuracy: 0.9614\n",
            "Epoch 91/100\n",
            "45/45 [==============================] - 1s 15ms/step - loss: 0.0023 - accuracy: 0.9776 - val_loss: 0.0040 - val_accuracy: 0.9682\n",
            "Epoch 92/100\n",
            "45/45 [==============================] - 1s 15ms/step - loss: 0.0018 - accuracy: 0.9823 - val_loss: 0.0037 - val_accuracy: 0.9707\n",
            "Epoch 93/100\n",
            "45/45 [==============================] - 1s 15ms/step - loss: 0.0014 - accuracy: 0.9841 - val_loss: 0.0036 - val_accuracy: 0.9719\n",
            "Epoch 94/100\n",
            "45/45 [==============================] - 1s 15ms/step - loss: 0.0013 - accuracy: 0.9841 - val_loss: 0.0036 - val_accuracy: 0.9730\n",
            "Epoch 95/100\n",
            "45/45 [==============================] - 1s 15ms/step - loss: 0.0013 - accuracy: 0.9842 - val_loss: 0.0035 - val_accuracy: 0.9719\n",
            "Epoch 96/100\n",
            "45/45 [==============================] - 1s 15ms/step - loss: 0.0012 - accuracy: 0.9842 - val_loss: 0.0035 - val_accuracy: 0.9721\n",
            "Epoch 97/100\n",
            "45/45 [==============================] - 1s 18ms/step - loss: 0.0012 - accuracy: 0.9845 - val_loss: 0.0035 - val_accuracy: 0.9733\n",
            "Epoch 98/100\n",
            "45/45 [==============================] - 1s 15ms/step - loss: 0.0012 - accuracy: 0.9842 - val_loss: 0.0036 - val_accuracy: 0.9727\n",
            "Epoch 99/100\n",
            "45/45 [==============================] - 1s 15ms/step - loss: 0.0012 - accuracy: 0.9848 - val_loss: 0.0035 - val_accuracy: 0.9724\n",
            "Epoch 100/100\n",
            "45/45 [==============================] - 1s 15ms/step - loss: 0.0012 - accuracy: 0.9840 - val_loss: 0.0036 - val_accuracy: 0.9717\n"
          ]
        }
      ],
      "source": [
        "with tf.device('/GPU:0'):\n",
        "  model5.fit([X_train_lemma_OH, X_train_genRat], y_train_inflection_OH, batch_size=batch_size, epochs=epochs, callbacks=[checkpoint], validation_data=([X_dev_lemma_OH, X_dev_genRat], y_dev_inflection_OH))  # starts training"
      ]
    },
    {
      "cell_type": "code",
      "execution_count": null,
      "metadata": {
        "colab": {
          "base_uri": "https://localhost:8080/"
        },
        "id": "xDouw07TYqGg",
        "outputId": "c965c722-23e2-478e-dd45-050e140785f3"
      },
      "outputs": [
        {
          "name": "stdout",
          "output_type": "stream",
          "text": [
            "35/35 [==============================] - 2s 7ms/step - loss: 0.0027 - accuracy: 0.9775\n"
          ]
        },
        {
          "data": {
            "text/plain": [
              "[0.0027498039416968822, 0.9774856567382812]"
            ]
          },
          "execution_count": 79,
          "metadata": {},
          "output_type": "execute_result"
        }
      ],
      "source": [
        "model5 = load_model(checkpoint_filepath)\n",
        "model5.evaluate([X_test_lemma_OH, X_test_genRat], y_test_inflection_OH)"
      ]
    },
    {
      "cell_type": "code",
      "execution_count": null,
      "metadata": {
        "colab": {
          "base_uri": "https://localhost:8080/",
          "height": 1000
        },
        "id": "RetFQ0OFYqGg",
        "outputId": "d70bd293-cdfa-4924-efc7-aba2af3d7366"
      },
      "outputs": [
        {
          "name": "stdout",
          "output_type": "stream",
          "text": [
            "Model: \"model_2\"\n",
            "__________________________________________________________________________________________________\n",
            " Layer (type)                   Output Shape         Param #     Connected to                     \n",
            "==================================================================================================\n",
            " input_6 (InputLayer)           [(None, 17, 50)]     0           []                               \n",
            "                                                                                                  \n",
            " bidirectional_4 (Bidirectional  (None, 512)         628736      ['input_6[0][0]']                \n",
            " )                                                                                                \n",
            "                                                                                                  \n",
            " dense_5 (Dense)                (None, 254)          130302      ['bidirectional_4[0][0]']        \n",
            "                                                                                                  \n",
            " input_7 (InputLayer)           [(None, 2)]          0           []                               \n",
            "                                                                                                  \n",
            " concatenate_3 (Concatenate)    (None, 256)          0           ['dense_5[0][0]',                \n",
            "                                                                  'input_7[0][0]']                \n",
            "                                                                                                  \n",
            " repeat_vector_1 (RepeatVector)  (None, 18, 256)     0           ['concatenate_3[0][0]']          \n",
            "                                                                                                  \n",
            " bidirectional_5 (Bidirectional  (None, 18, 512)     1050624     ['repeat_vector_1[0][0]']        \n",
            " )                                                                                                \n",
            "                                                                                                  \n",
            " time_distributed_1 (TimeDistri  (None, 18, 50)      25650       ['bidirectional_5[0][0]']        \n",
            " buted)                                                                                           \n",
            "                                                                                                  \n",
            "==================================================================================================\n",
            "Total params: 1,835,312\n",
            "Trainable params: 1,835,312\n",
            "Non-trainable params: 0\n",
            "__________________________________________________________________________________________________\n",
            "None\n"
          ]
        },
        {
          "data": {
            "image/png": "[encoded data removed]",
            "text/plain": [
              "<IPython.core.display.Image object>"
            ]
          },
          "execution_count": 80,
          "metadata": {},
          "output_type": "execute_result"
        }
      ],
      "source": [
        "print(model5.summary())\n",
        "plot_model(model5, to_file=path+'/model 5/architecture.png', show_shapes=True, show_layer_names=False)"
      ]
    },
    {
      "cell_type": "markdown",
      "metadata": {
        "id": "sg5vDI-5YqGg"
      },
      "source": [
        "### **Train analyze**"
      ]
    },
    {
      "cell_type": "code",
      "execution_count": null,
      "metadata": {
        "colab": {
          "base_uri": "https://localhost:8080/"
        },
        "id": "4LGdjR_tYqGg",
        "outputId": "b419c470-b97a-4f16-ba7d-76d13e3a7598"
      },
      "outputs": [
        {
          "name": "stdout",
          "output_type": "stream",
          "text": [
            "90/90 [==============================] - 2s 6ms/step\n"
          ]
        },
        {
          "data": {
            "text/plain": [
              "(209, 0.926974143955276)"
            ]
          },
          "execution_count": 81,
          "metadata": {},
          "output_type": "execute_result"
        }
      ],
      "source": [
        "train_pred = model5.predict([X_train_lemma_OH, X_train_genRat])\n",
        "train_pred_OH = oneHot3D(train_pred)\n",
        "train_error_num, train_acc_num = checkAccuracy(train_pred_OH, y_train_inflection_OH)\n",
        "train_error_num, train_acc_num"
      ]
    },
    {
      "cell_type": "code",
      "execution_count": null,
      "metadata": {
        "colab": {
          "base_uri": "https://localhost:8080/"
        },
        "id": "YfxXVEgLYqGh",
        "outputId": "93fa99ea-f862-45e4-8fca-c61560d7c3f9"
      },
      "outputs": [
        {
          "data": {
            "text/plain": [
              "(2862, 18, 50)"
            ]
          },
          "execution_count": 82,
          "metadata": {},
          "output_type": "execute_result"
        }
      ],
      "source": [
        "y_train_inflection_OH.shape"
      ]
    },
    {
      "cell_type": "code",
      "execution_count": null,
      "metadata": {
        "colab": {
          "base_uri": "https://localhost:8080/",
          "height": 206
        },
        "id": "6nbMTMWOYqGh",
        "outputId": "d3f8c06c-fcad-45bf-b1be-3c73193df790"
      },
      "outputs": [
        {
          "data": {
            "text/html": [
              "\n",
              "  <div id=\"df-7cea4497-2112-45fe-a27c-dade9ca38219\">\n",
              "    <div class=\"colab-df-container\">\n",
              "      <div>\n",
              "<style scoped>\n",
              "    .dataframe tbody tr th:only-of-type {\n",
              "        vertical-align: middle;\n",
              "    }\n",
              "\n",
              "    .dataframe tbody tr th {\n",
              "        vertical-align: top;\n",
              "    }\n",
              "\n",
              "    .dataframe thead th {\n",
              "        text-align: right;\n",
              "    }\n",
              "</style>\n",
              "<table border=\"1\" class=\"dataframe\">\n",
              "  <thead>\n",
              "    <tr style=\"text-align: right;\">\n",
              "      <th></th>\n",
              "      <th>index</th>\n",
              "      <th>lemma</th>\n",
              "      <th>b/s</th>\n",
              "      <th>inflection</th>\n",
              "      <th>predict</th>\n",
              "    </tr>\n",
              "  </thead>\n",
              "  <tbody>\n",
              "    <tr>\n",
              "      <th>0</th>\n",
              "      <td>15</td>\n",
              "      <td>quw~ap</td>\n",
              "      <td>1</td>\n",
              "      <td>quw~At</td>\n",
              "      <td>quwaY</td>\n",
              "    </tr>\n",
              "    <tr>\n",
              "      <th>1</th>\n",
              "      <td>24</td>\n",
              "      <td>balad</td>\n",
              "      <td>0</td>\n",
              "      <td>bilAd</td>\n",
              "      <td>bulAdAn</td>\n",
              "    </tr>\n",
              "    <tr>\n",
              "      <th>2</th>\n",
              "      <td>30</td>\n",
              "      <td>TAlib</td>\n",
              "      <td>0</td>\n",
              "      <td>Tul~Ab</td>\n",
              "      <td>Talabap</td>\n",
              "    </tr>\n",
              "    <tr>\n",
              "      <th>3</th>\n",
              "      <td>32</td>\n",
              "      <td>niZAm</td>\n",
              "      <td>0</td>\n",
              "      <td>&gt;anoZimap</td>\n",
              "      <td>&gt;aZuZi</td>\n",
              "    </tr>\n",
              "    <tr>\n",
              "      <th>4</th>\n",
              "      <td>33</td>\n",
              "      <td>taSoriyH</td>\n",
              "      <td>1</td>\n",
              "      <td>taSoriyHAt</td>\n",
              "      <td>taSAriyHA</td>\n",
              "    </tr>\n",
              "  </tbody>\n",
              "</table>\n",
              "</div>\n",
              "      <button class=\"colab-df-convert\" onclick=\"convertToInteractive('df-7cea4497-2112-45fe-a27c-dade9ca38219')\"\n",
              "              title=\"Convert this dataframe to an interactive table.\"\n",
              "              style=\"display:none;\">\n",
              "        \n",
              "  <svg xmlns=\"http://www.w3.org/2000/svg\" height=\"24px\"viewBox=\"0 0 24 24\"\n",
              "       width=\"24px\">\n",
              "    <path d=\"M0 0h24v24H0V0z\" fill=\"none\"/>\n",
              "    <path d=\"M18.56 5.44l.94 2.06.94-2.06 2.06-.94-2.06-.94-.94-2.06-.94 2.06-2.06.94zm-11 1L8.5 8.5l.94-2.06 2.06-.94-2.06-.94L8.5 2.5l-.94 2.06-2.06.94zm10 10l.94 2.06.94-2.06 2.06-.94-2.06-.94-.94-2.06-.94 2.06-2.06.94z\"/><path d=\"M17.41 7.96l-1.37-1.37c-.4-.4-.92-.59-1.43-.59-.52 0-1.04.2-1.43.59L10.3 9.45l-7.72 7.72c-.78.78-.78 2.05 0 2.83L4 21.41c.39.39.9.59 1.41.59.51 0 1.02-.2 1.41-.59l7.78-7.78 2.81-2.81c.8-.78.8-2.07 0-2.86zM5.41 20L4 18.59l7.72-7.72 1.47 1.35L5.41 20z\"/>\n",
              "  </svg>\n",
              "      </button>\n",
              "      \n",
              "  <style>\n",
              "    .colab-df-container {\n",
              "      display:flex;\n",
              "      flex-wrap:wrap;\n",
              "      gap: 12px;\n",
              "    }\n",
              "\n",
              "    .colab-df-convert {\n",
              "      background-color: #E8F0FE;\n",
              "      border: none;\n",
              "      border-radius: 50%;\n",
              "      cursor: pointer;\n",
              "      display: none;\n",
              "      fill: #1967D2;\n",
              "      height: 32px;\n",
              "      padding: 0 0 0 0;\n",
              "      width: 32px;\n",
              "    }\n",
              "\n",
              "    .colab-df-convert:hover {\n",
              "      background-color: #E2EBFA;\n",
              "      box-shadow: 0px 1px 2px rgba(60, 64, 67, 0.3), 0px 1px 3px 1px rgba(60, 64, 67, 0.15);\n",
              "      fill: #174EA6;\n",
              "    }\n",
              "\n",
              "    [theme=dark] .colab-df-convert {\n",
              "      background-color: #3B4455;\n",
              "      fill: #D2E3FC;\n",
              "    }\n",
              "\n",
              "    [theme=dark] .colab-df-convert:hover {\n",
              "      background-color: #434B5C;\n",
              "      box-shadow: 0px 1px 3px 1px rgba(0, 0, 0, 0.15);\n",
              "      filter: drop-shadow(0px 1px 2px rgba(0, 0, 0, 0.3));\n",
              "      fill: #FFFFFF;\n",
              "    }\n",
              "  </style>\n",
              "\n",
              "      <script>\n",
              "        const buttonEl =\n",
              "          document.querySelector('#df-7cea4497-2112-45fe-a27c-dade9ca38219 button.colab-df-convert');\n",
              "        buttonEl.style.display =\n",
              "          google.colab.kernel.accessAllowed ? 'block' : 'none';\n",
              "\n",
              "        async function convertToInteractive(key) {\n",
              "          const element = document.querySelector('#df-7cea4497-2112-45fe-a27c-dade9ca38219');\n",
              "          const dataTable =\n",
              "            await google.colab.kernel.invokeFunction('convertToInteractive',\n",
              "                                                     [key], {});\n",
              "          if (!dataTable) return;\n",
              "\n",
              "          const docLinkHtml = 'Like what you see? Visit the ' +\n",
              "            '<a target=\"_blank\" href=https://colab.research.google.com/notebooks/data_table.ipynb>data table notebook</a>'\n",
              "            + ' to learn more about interactive tables.';\n",
              "          element.innerHTML = '';\n",
              "          dataTable['output_type'] = 'display_data';\n",
              "          await google.colab.output.renderOutput(dataTable, element);\n",
              "          const docLink = document.createElement('div');\n",
              "          docLink.innerHTML = docLinkHtml;\n",
              "          element.appendChild(docLink);\n",
              "        }\n",
              "      </script>\n",
              "    </div>\n",
              "  </div>\n",
              "  "
            ],
            "text/plain": [
              "   index     lemma  b/s  inflection    predict\n",
              "0     15    quw~ap    1      quw~At      quwaY\n",
              "1     24     balad    0       bilAd    bulAdAn\n",
              "2     30     TAlib    0      Tul~Ab    Talabap\n",
              "3     32     niZAm    0   >anoZimap     >aZuZi\n",
              "4     33  taSoriyH    1  taSoriyHAt  taSAriyHA"
            ]
          },
          "execution_count": 83,
          "metadata": {},
          "output_type": "execute_result"
        }
      ],
      "source": [
        "train_errorAnalysis = reportErrorAnalysis(trainData[0], trainData[5], train_pred_OH, y_train_inflection_OH, path + \"/model 5/train_errorAnalysis.csv\")\n",
        "train_errorAnalysis.head()"
      ]
    },
    {
      "cell_type": "code",
      "execution_count": null,
      "metadata": {
        "colab": {
          "base_uri": "https://localhost:8080/"
        },
        "id": "DMM-Z2BTYqGh",
        "outputId": "bdb54b53-fa65-43ae-d528-824db789e848"
      },
      "outputs": [
        {
          "name": "stdout",
          "output_type": "stream",
          "text": [
            "(Broken error %, Sound error %):  (65.55023923444976, 34.44976076555024)\n"
          ]
        }
      ],
      "source": [
        "print('(Broken error %, Sound error %): ', reportPercentageOfBrokenSoundErrors(train_errorAnalysis))"
      ]
    },
    {
      "cell_type": "code",
      "execution_count": null,
      "metadata": {
        "colab": {
          "base_uri": "https://localhost:8080/"
        },
        "id": "n7w4BAfZYqGh",
        "outputId": "2094256f-953b-442e-ffb9-690ac4c03c50"
      },
      "outputs": [
        {
          "data": {
            "text/plain": [
              "(142, 0.9503843466107617)"
            ]
          },
          "execution_count": 85,
          "metadata": {},
          "output_type": "execute_result"
        }
      ],
      "source": [
        "checkAccuracy_anyAcceptableInflectionInDataset(trainData[0],train_pred_OH,dic_lemmaInflection)"
      ]
    },
    {
      "cell_type": "markdown",
      "metadata": {
        "id": "nF5NosgVYqGh"
      },
      "source": [
        "### **Dev analyze**"
      ]
    },
    {
      "cell_type": "code",
      "execution_count": null,
      "metadata": {
        "colab": {
          "base_uri": "https://localhost:8080/"
        },
        "id": "JlpWWJvUYqGi",
        "outputId": "4069c7da-b5fa-40dd-d6d5-3b3b1fa95756"
      },
      "outputs": [
        {
          "name": "stdout",
          "output_type": "stream",
          "text": [
            "36/36 [==============================] - 0s 5ms/step\n"
          ]
        },
        {
          "data": {
            "text/plain": [
              "(176, 0.8470894874022589)"
            ]
          },
          "execution_count": 86,
          "metadata": {},
          "output_type": "execute_result"
        }
      ],
      "source": [
        "dev_pred = model5.predict([X_dev_lemma_OH, X_dev_genRat])\n",
        "dev_pred_OH = oneHot3D(dev_pred)\n",
        "dev_error_num, dev_acc_num = checkAccuracy(dev_pred_OH, y_dev_inflection_OH)\n",
        "dev_error_num, dev_acc_num"
      ]
    },
    {
      "cell_type": "code",
      "execution_count": null,
      "metadata": {
        "colab": {
          "base_uri": "https://localhost:8080/",
          "height": 206
        },
        "id": "Zn7xHzxRYqGi",
        "outputId": "d21410ee-e84f-47b3-80a7-073932c7687c"
      },
      "outputs": [
        {
          "data": {
            "text/html": [
              "\n",
              "  <div id=\"df-d34f21f5-88ea-469a-a81c-f98e275fb8be\">\n",
              "    <div class=\"colab-df-container\">\n",
              "      <div>\n",
              "<style scoped>\n",
              "    .dataframe tbody tr th:only-of-type {\n",
              "        vertical-align: middle;\n",
              "    }\n",
              "\n",
              "    .dataframe tbody tr th {\n",
              "        vertical-align: top;\n",
              "    }\n",
              "\n",
              "    .dataframe thead th {\n",
              "        text-align: right;\n",
              "    }\n",
              "</style>\n",
              "<table border=\"1\" class=\"dataframe\">\n",
              "  <thead>\n",
              "    <tr style=\"text-align: right;\">\n",
              "      <th></th>\n",
              "      <th>index</th>\n",
              "      <th>lemma</th>\n",
              "      <th>b/s</th>\n",
              "      <th>inflection</th>\n",
              "      <th>predict</th>\n",
              "    </tr>\n",
              "  </thead>\n",
              "  <tbody>\n",
              "    <tr>\n",
              "      <th>0</th>\n",
              "      <td>13</td>\n",
              "      <td>&gt;ax</td>\n",
              "      <td>0</td>\n",
              "      <td>&lt;ixowAn</td>\n",
              "      <td>&lt;ixowAp</td>\n",
              "    </tr>\n",
              "    <tr>\n",
              "      <th>1</th>\n",
              "      <td>14</td>\n",
              "      <td>TAlib</td>\n",
              "      <td>0</td>\n",
              "      <td>Tul~Ab</td>\n",
              "      <td>Talabap</td>\n",
              "    </tr>\n",
              "    <tr>\n",
              "      <th>2</th>\n",
              "      <td>17</td>\n",
              "      <td>&gt;amor</td>\n",
              "      <td>0</td>\n",
              "      <td>&gt;umuwr</td>\n",
              "      <td>&gt;umAmrr</td>\n",
              "    </tr>\n",
              "    <tr>\n",
              "      <th>3</th>\n",
              "      <td>24</td>\n",
              "      <td>balad</td>\n",
              "      <td>0</td>\n",
              "      <td>bilAd</td>\n",
              "      <td>bulAdAn</td>\n",
              "    </tr>\n",
              "    <tr>\n",
              "      <th>4</th>\n",
              "      <td>26</td>\n",
              "      <td>quw~ap</td>\n",
              "      <td>1</td>\n",
              "      <td>quw~At</td>\n",
              "      <td>quwaY</td>\n",
              "    </tr>\n",
              "  </tbody>\n",
              "</table>\n",
              "</div>\n",
              "      <button class=\"colab-df-convert\" onclick=\"convertToInteractive('df-d34f21f5-88ea-469a-a81c-f98e275fb8be')\"\n",
              "              title=\"Convert this dataframe to an interactive table.\"\n",
              "              style=\"display:none;\">\n",
              "        \n",
              "  <svg xmlns=\"http://www.w3.org/2000/svg\" height=\"24px\"viewBox=\"0 0 24 24\"\n",
              "       width=\"24px\">\n",
              "    <path d=\"M0 0h24v24H0V0z\" fill=\"none\"/>\n",
              "    <path d=\"M18.56 5.44l.94 2.06.94-2.06 2.06-.94-2.06-.94-.94-2.06-.94 2.06-2.06.94zm-11 1L8.5 8.5l.94-2.06 2.06-.94-2.06-.94L8.5 2.5l-.94 2.06-2.06.94zm10 10l.94 2.06.94-2.06 2.06-.94-2.06-.94-.94-2.06-.94 2.06-2.06.94z\"/><path d=\"M17.41 7.96l-1.37-1.37c-.4-.4-.92-.59-1.43-.59-.52 0-1.04.2-1.43.59L10.3 9.45l-7.72 7.72c-.78.78-.78 2.05 0 2.83L4 21.41c.39.39.9.59 1.41.59.51 0 1.02-.2 1.41-.59l7.78-7.78 2.81-2.81c.8-.78.8-2.07 0-2.86zM5.41 20L4 18.59l7.72-7.72 1.47 1.35L5.41 20z\"/>\n",
              "  </svg>\n",
              "      </button>\n",
              "      \n",
              "  <style>\n",
              "    .colab-df-container {\n",
              "      display:flex;\n",
              "      flex-wrap:wrap;\n",
              "      gap: 12px;\n",
              "    }\n",
              "\n",
              "    .colab-df-convert {\n",
              "      background-color: #E8F0FE;\n",
              "      border: none;\n",
              "      border-radius: 50%;\n",
              "      cursor: pointer;\n",
              "      display: none;\n",
              "      fill: #1967D2;\n",
              "      height: 32px;\n",
              "      padding: 0 0 0 0;\n",
              "      width: 32px;\n",
              "    }\n",
              "\n",
              "    .colab-df-convert:hover {\n",
              "      background-color: #E2EBFA;\n",
              "      box-shadow: 0px 1px 2px rgba(60, 64, 67, 0.3), 0px 1px 3px 1px rgba(60, 64, 67, 0.15);\n",
              "      fill: #174EA6;\n",
              "    }\n",
              "\n",
              "    [theme=dark] .colab-df-convert {\n",
              "      background-color: #3B4455;\n",
              "      fill: #D2E3FC;\n",
              "    }\n",
              "\n",
              "    [theme=dark] .colab-df-convert:hover {\n",
              "      background-color: #434B5C;\n",
              "      box-shadow: 0px 1px 3px 1px rgba(0, 0, 0, 0.15);\n",
              "      filter: drop-shadow(0px 1px 2px rgba(0, 0, 0, 0.3));\n",
              "      fill: #FFFFFF;\n",
              "    }\n",
              "  </style>\n",
              "\n",
              "      <script>\n",
              "        const buttonEl =\n",
              "          document.querySelector('#df-d34f21f5-88ea-469a-a81c-f98e275fb8be button.colab-df-convert');\n",
              "        buttonEl.style.display =\n",
              "          google.colab.kernel.accessAllowed ? 'block' : 'none';\n",
              "\n",
              "        async function convertToInteractive(key) {\n",
              "          const element = document.querySelector('#df-d34f21f5-88ea-469a-a81c-f98e275fb8be');\n",
              "          const dataTable =\n",
              "            await google.colab.kernel.invokeFunction('convertToInteractive',\n",
              "                                                     [key], {});\n",
              "          if (!dataTable) return;\n",
              "\n",
              "          const docLinkHtml = 'Like what you see? Visit the ' +\n",
              "            '<a target=\"_blank\" href=https://colab.research.google.com/notebooks/data_table.ipynb>data table notebook</a>'\n",
              "            + ' to learn more about interactive tables.';\n",
              "          element.innerHTML = '';\n",
              "          dataTable['output_type'] = 'display_data';\n",
              "          await google.colab.output.renderOutput(dataTable, element);\n",
              "          const docLink = document.createElement('div');\n",
              "          docLink.innerHTML = docLinkHtml;\n",
              "          element.appendChild(docLink);\n",
              "        }\n",
              "      </script>\n",
              "    </div>\n",
              "  </div>\n",
              "  "
            ],
            "text/plain": [
              "   index   lemma  b/s inflection  predict\n",
              "0     13     >ax    0    <ixowAn  <ixowAp\n",
              "1     14   TAlib    0     Tul~Ab  Talabap\n",
              "2     17   >amor    0     >umuwr  >umAmrr\n",
              "3     24   balad    0      bilAd  bulAdAn\n",
              "4     26  quw~ap    1     quw~At    quwaY"
            ]
          },
          "execution_count": 87,
          "metadata": {},
          "output_type": "execute_result"
        }
      ],
      "source": [
        "dev_errorAnalysis = reportErrorAnalysis(devData[0], devData[5], dev_pred_OH, y_dev_inflection_OH, path + \"/model 5/dev_errorAnalysis.csv\")\n",
        "dev_errorAnalysis.head()"
      ]
    },
    {
      "cell_type": "code",
      "execution_count": null,
      "metadata": {
        "colab": {
          "base_uri": "https://localhost:8080/"
        },
        "id": "F7sANnW1YqGi",
        "outputId": "4af23d18-73c9-46ea-a35b-4c7c2c46b767"
      },
      "outputs": [
        {
          "name": "stdout",
          "output_type": "stream",
          "text": [
            "(Broken error %, Sound error %):  (58.52272727272727, 41.47727272727273)\n"
          ]
        }
      ],
      "source": [
        "print('(Broken error %, Sound error %): ', reportPercentageOfBrokenSoundErrors(dev_errorAnalysis))"
      ]
    },
    {
      "cell_type": "code",
      "execution_count": null,
      "metadata": {
        "colab": {
          "base_uri": "https://localhost:8080/"
        },
        "id": "PMtvUzaNYqGi",
        "outputId": "7b29b9d6-b63a-4924-ccd8-60c71e3a30f7"
      },
      "outputs": [
        {
          "data": {
            "text/plain": [
              "(135, 0.8827106863596872)"
            ]
          },
          "execution_count": 89,
          "metadata": {},
          "output_type": "execute_result"
        }
      ],
      "source": [
        "checkAccuracy_anyAcceptableInflectionInDataset(devData[0],dev_pred_OH,dic_lemmaInflection)"
      ]
    },
    {
      "cell_type": "code",
      "execution_count": null,
      "metadata": {
        "colab": {
          "base_uri": "https://localhost:8080/"
        },
        "id": "jRD1FeIhYqGi",
        "outputId": "6efa865b-fa31-4f23-c844-1f449af9b903"
      },
      "outputs": [
        {
          "name": "stdout",
          "output_type": "stream",
          "text": [
            "Percentage of Unseen Errors with respect to Total Errors, Percentage of Unseen Errors with respect to Total Unseen Samples\n",
            "(85.18518518518519, 52.27272727272727)\n"
          ]
        }
      ],
      "source": [
        "# Report Percentage of Unseen Errors in Dev set\n",
        "errorIndices_dev = unseenLemInfIndices_dev_df['index'].tolist()\n",
        "unseenIndices_dev = dev_errorAnalysis['index'].tolist()\n",
        "\n",
        "print('Percentage of Unseen Errors with respect to Total Errors, Percentage of Unseen Errors with respect to Total Unseen Samples')\n",
        "print(reportPercentageOfUnseenErrors(errorIndices_dev, unseenIndices_dev))"
      ]
    },
    {
      "cell_type": "markdown",
      "metadata": {
        "id": "Q3KS-fhpYqGi"
      },
      "source": [
        "### **Test analyze**"
      ]
    },
    {
      "cell_type": "code",
      "execution_count": null,
      "metadata": {
        "colab": {
          "base_uri": "https://localhost:8080/"
        },
        "id": "U8i6h5oCYqGj",
        "outputId": "c69ead97-142c-4107-b861-9d20868667c8"
      },
      "outputs": [
        {
          "name": "stdout",
          "output_type": "stream",
          "text": [
            "35/35 [==============================] - 0s 5ms/step\n"
          ]
        },
        {
          "data": {
            "text/plain": [
              "(144, 0.8694469628286491)"
            ]
          },
          "execution_count": 91,
          "metadata": {},
          "output_type": "execute_result"
        }
      ],
      "source": [
        "test_pred = model5.predict([X_test_lemma_OH, X_test_genRat])\n",
        "test_pred_OH = oneHot3D(test_pred)\n",
        "test_error_num, test_acc_num = checkAccuracy(test_pred_OH, y_test_inflection_OH)\n",
        "test_error_num, test_acc_num"
      ]
    },
    {
      "cell_type": "code",
      "execution_count": null,
      "metadata": {
        "id": "_oS4Y1PxYqGj"
      },
      "outputs": [],
      "source": [
        "test_errorAnalysis = reportErrorAnalysis(testData[0], testData[5], test_pred_OH, y_test_inflection_OH, path + \"/model 5/test_errorAnalysis.csv\")"
      ]
    },
    {
      "cell_type": "code",
      "execution_count": null,
      "metadata": {
        "colab": {
          "base_uri": "https://localhost:8080/"
        },
        "id": "RhQhce-vYqGj",
        "outputId": "124ed7fb-8d0c-4af0-ecda-2f1077f5e857"
      },
      "outputs": [
        {
          "name": "stdout",
          "output_type": "stream",
          "text": [
            "(Broken error %, Sound error %):  (58.333333333333336, 41.66666666666667)\n"
          ]
        }
      ],
      "source": [
        "print('(Broken error %, Sound error %): ', reportPercentageOfBrokenSoundErrors(test_errorAnalysis))"
      ]
    },
    {
      "cell_type": "code",
      "execution_count": null,
      "metadata": {
        "colab": {
          "base_uri": "https://localhost:8080/"
        },
        "id": "Oco7QgtDYqGj",
        "outputId": "2cf0ef61-e3a4-4559-8699-199ce56d7634"
      },
      "outputs": [
        {
          "data": {
            "text/plain": [
              "(117, 0.8939256572982774)"
            ]
          },
          "execution_count": 94,
          "metadata": {},
          "output_type": "execute_result"
        }
      ],
      "source": [
        "checkAccuracy_anyAcceptableInflectionInDataset(testData[0],test_pred_OH,dic_lemmaInflection)"
      ]
    },
    {
      "cell_type": "code",
      "execution_count": null,
      "metadata": {
        "colab": {
          "base_uri": "https://localhost:8080/"
        },
        "id": "HsT6EiaPYqGj",
        "outputId": "5bcdaf9d-6b6b-494b-cf31-4e56f0f1ef02"
      },
      "outputs": [
        {
          "name": "stdout",
          "output_type": "stream",
          "text": [
            "Percentage of Unseen Errors with respect to Total Errors, Percentage of Unseen Errors with respect to Total Unseen Samples\n",
            "(69.31818181818183, 42.36111111111111)\n"
          ]
        }
      ],
      "source": [
        "# Report Percentage of Unseen Errors in Test set\n",
        "errorIndices_test = unseenLemInfIndices_test_df['index'].tolist()\n",
        "unseenIndices_test = test_errorAnalysis['index'].tolist()\n",
        "\n",
        "print('Percentage of Unseen Errors with respect to Total Errors, Percentage of Unseen Errors with respect to Total Unseen Samples')\n",
        "print(reportPercentageOfUnseenErrors(errorIndices_test, unseenIndices_test))"
      ]
    },
    {
      "cell_type": "markdown",
      "metadata": {
        "id": "fdCz16FjpUjU"
      },
      "source": [
        "## **Mix Model (2 Networks: Classification + Machine Translation)**"
      ]
    },
    {
      "cell_type": "code",
      "execution_count": null,
      "metadata": {
        "colab": {
          "base_uri": "https://localhost:8080/",
          "height": 381
        },
        "id": "VU_KhzdDpTiO",
        "outputId": "07fb1962-8194-46cf-9c90-aeed6660c1df"
      },
      "outputs": [
        {
          "ename": "OSError",
          "evalue": "ignored",
          "output_type": "error",
          "traceback": [
            "\u001b[0;31m---------------------------------------------------------------------------\u001b[0m",
            "\u001b[0;31mOSError\u001b[0m                                   Traceback (most recent call last)",
            "\u001b[0;32m<ipython-input-71-f4ec54ac9789>\u001b[0m in \u001b[0;36m<module>\u001b[0;34m\u001b[0m\n\u001b[1;32m      4\u001b[0m \u001b[0;34m\u001b[0m\u001b[0m\n\u001b[1;32m      5\u001b[0m \u001b[0mBSC_model\u001b[0m \u001b[0;34m=\u001b[0m \u001b[0mload_model\u001b[0m\u001b[0;34m(\u001b[0m\u001b[0mBSClassification_model_path\u001b[0m\u001b[0;34m)\u001b[0m\u001b[0;34m\u001b[0m\u001b[0;34m\u001b[0m\u001b[0m\n\u001b[0;32m----> 6\u001b[0;31m \u001b[0mBSC_model_struct\u001b[0m \u001b[0;34m=\u001b[0m \u001b[0mload_model\u001b[0m\u001b[0;34m(\u001b[0m\u001b[0mBSClassification_model_structure_path\u001b[0m\u001b[0;34m)\u001b[0m\u001b[0;34m\u001b[0m\u001b[0;34m\u001b[0m\u001b[0m\n\u001b[0m\u001b[1;32m      7\u001b[0m \u001b[0;34m\u001b[0m\u001b[0m\n\u001b[1;32m      8\u001b[0m \u001b[0mBSC_model_struct\u001b[0m\u001b[0;34m.\u001b[0m\u001b[0mset_weights\u001b[0m\u001b[0;34m(\u001b[0m\u001b[0mBSC_model\u001b[0m\u001b[0;34m.\u001b[0m\u001b[0mget_weights\u001b[0m\u001b[0;34m(\u001b[0m\u001b[0;34m)\u001b[0m\u001b[0;34m)\u001b[0m\u001b[0;34m\u001b[0m\u001b[0;34m\u001b[0m\u001b[0m\n",
            "\u001b[0;32m/usr/local/lib/python3.7/dist-packages/keras/utils/traceback_utils.py\u001b[0m in \u001b[0;36merror_handler\u001b[0;34m(*args, **kwargs)\u001b[0m\n\u001b[1;32m     65\u001b[0m     \u001b[0;32mexcept\u001b[0m \u001b[0mException\u001b[0m \u001b[0;32mas\u001b[0m \u001b[0me\u001b[0m\u001b[0;34m:\u001b[0m  \u001b[0;31m# pylint: disable=broad-except\u001b[0m\u001b[0;34m\u001b[0m\u001b[0;34m\u001b[0m\u001b[0m\n\u001b[1;32m     66\u001b[0m       \u001b[0mfiltered_tb\u001b[0m \u001b[0;34m=\u001b[0m \u001b[0m_process_traceback_frames\u001b[0m\u001b[0;34m(\u001b[0m\u001b[0me\u001b[0m\u001b[0;34m.\u001b[0m\u001b[0m__traceback__\u001b[0m\u001b[0;34m)\u001b[0m\u001b[0;34m\u001b[0m\u001b[0;34m\u001b[0m\u001b[0m\n\u001b[0;32m---> 67\u001b[0;31m       \u001b[0;32mraise\u001b[0m \u001b[0me\u001b[0m\u001b[0;34m.\u001b[0m\u001b[0mwith_traceback\u001b[0m\u001b[0;34m(\u001b[0m\u001b[0mfiltered_tb\u001b[0m\u001b[0;34m)\u001b[0m \u001b[0;32mfrom\u001b[0m \u001b[0;32mNone\u001b[0m\u001b[0;34m\u001b[0m\u001b[0;34m\u001b[0m\u001b[0m\n\u001b[0m\u001b[1;32m     68\u001b[0m     \u001b[0;32mfinally\u001b[0m\u001b[0;34m:\u001b[0m\u001b[0;34m\u001b[0m\u001b[0;34m\u001b[0m\u001b[0m\n\u001b[1;32m     69\u001b[0m       \u001b[0;32mdel\u001b[0m \u001b[0mfiltered_tb\u001b[0m\u001b[0;34m\u001b[0m\u001b[0;34m\u001b[0m\u001b[0m\n",
            "\u001b[0;32m/usr/local/lib/python3.7/dist-packages/keras/saving/save.py\u001b[0m in \u001b[0;36mload_model\u001b[0;34m(filepath, custom_objects, compile, options)\u001b[0m\n\u001b[1;32m    204\u001b[0m         \u001b[0;32mif\u001b[0m \u001b[0misinstance\u001b[0m\u001b[0;34m(\u001b[0m\u001b[0mfilepath_str\u001b[0m\u001b[0;34m,\u001b[0m \u001b[0mstr\u001b[0m\u001b[0;34m)\u001b[0m\u001b[0;34m:\u001b[0m\u001b[0;34m\u001b[0m\u001b[0;34m\u001b[0m\u001b[0m\n\u001b[1;32m    205\u001b[0m           \u001b[0;32mif\u001b[0m \u001b[0;32mnot\u001b[0m \u001b[0mtf\u001b[0m\u001b[0;34m.\u001b[0m\u001b[0mio\u001b[0m\u001b[0;34m.\u001b[0m\u001b[0mgfile\u001b[0m\u001b[0;34m.\u001b[0m\u001b[0mexists\u001b[0m\u001b[0;34m(\u001b[0m\u001b[0mfilepath_str\u001b[0m\u001b[0;34m)\u001b[0m\u001b[0;34m:\u001b[0m\u001b[0;34m\u001b[0m\u001b[0;34m\u001b[0m\u001b[0m\n\u001b[0;32m--> 206\u001b[0;31m             \u001b[0;32mraise\u001b[0m \u001b[0mIOError\u001b[0m\u001b[0;34m(\u001b[0m\u001b[0;34mf'No file or directory found at {filepath_str}'\u001b[0m\u001b[0;34m)\u001b[0m\u001b[0;34m\u001b[0m\u001b[0;34m\u001b[0m\u001b[0m\n\u001b[0m\u001b[1;32m    207\u001b[0m \u001b[0;34m\u001b[0m\u001b[0m\n\u001b[1;32m    208\u001b[0m           \u001b[0;32mif\u001b[0m \u001b[0mtf\u001b[0m\u001b[0;34m.\u001b[0m\u001b[0mio\u001b[0m\u001b[0;34m.\u001b[0m\u001b[0mgfile\u001b[0m\u001b[0;34m.\u001b[0m\u001b[0misdir\u001b[0m\u001b[0;34m(\u001b[0m\u001b[0mfilepath_str\u001b[0m\u001b[0;34m)\u001b[0m\u001b[0;34m:\u001b[0m\u001b[0;34m\u001b[0m\u001b[0;34m\u001b[0m\u001b[0m\n",
            "\u001b[0;31mOSError\u001b[0m: No file or directory found at /content/drive/MyDrive/AI Projects/Arabic Broken Plural/Results/Classification Models/model 1/structure.h5"
          ]
        }
      ],
      "source": [
        "BSClassification_path = '/content/drive/MyDrive/AI Projects/Arabic Broken Plural/Results/Classification Models'\n",
        "BSClassification_model_path = BSClassification_path + '/model 1/weights.hdf5'\n",
        "BSClassification_model_structure_path = BSClassification_path + \"/model 1/structure.h5\"\n",
        "\n",
        "BSC_model = load_model(BSClassification_model_path)\n",
        "BSC_model_struct = load_model(BSClassification_model_structure_path)\n",
        "\n",
        "BSC_model_struct.set_weights(BSC_model.get_weights())\n",
        "BSC_model_struct.trainable = False\n",
        "# print(BSC_model.layers[1].get_weights()[0][0])\n",
        "print(BSC_model_struct.layers[1].get_weights()[0][0])"
      ]
    },
    {
      "cell_type": "code",
      "execution_count": null,
      "metadata": {
        "id": "qCGzhHLgQQNa"
      },
      "outputs": [],
      "source": [
        "# print(y_train_class[0:10])\n",
        "BSC_model_struct.predict([X_train_lemma_OH, X_train_genRat])[0:10]"
      ]
    },
    {
      "cell_type": "code",
      "execution_count": null,
      "metadata": {
        "id": "N0ko_Jsbr3Gs"
      },
      "outputs": [],
      "source": [
        "input_lemma = Input(shape=(lemma_length, encode_size), name='Lemma')\n",
        "input_genRat = Input(shape=(genRat_length, ), name='Gender-Rational')\n",
        "\n",
        "cls = BSC_model_struct([input_lemma, input_genRat])\n",
        "\n",
        "lstm1 = Bidirectional(LSTM(256, name='Lstm1'), name='Encoder')(input_lemma)\n",
        "\n",
        "d = Dense(252, activation='relu', name='Dense1')(lstm1)\n",
        "\n",
        "c = Concatenate(axis=1, name='Concatenate')([d, input_genRat, cls, cls])\n",
        "\n",
        "r = RepeatVector(inflection_length, name='RepeatVector')(c)\n",
        "\n",
        "lstm2 = Bidirectional(LSTM(256, return_sequences=True, name='Lstm2'), name='Decoder')(r)\n",
        "\n",
        "output = TimeDistributed(Dense(encode_size, activation='softmax', name='Dense2'), name='Inflection')(lstm2)\n",
        "\n",
        "mix_model = Model(inputs=[input_lemma, input_genRat], outputs=output)\n",
        "\n",
        "checkpoint_filepath = path + '/Mix Model/weights.hdf5'\n",
        "checkpoint = ModelCheckpoint(filepath=checkpoint_filepath, monitor='val_accuracy', mode='max', save_best_only=True, verbose=0)\n",
        "\n",
        "mix_model.compile(loss=\"binary_crossentropy\", optimizer=Adam(0.001), metrics=['accuracy'])"
      ]
    },
    {
      "cell_type": "code",
      "execution_count": null,
      "metadata": {
        "id": "i56qrPBBVh4j"
      },
      "outputs": [],
      "source": [
        "mix_model.layers[4].layers[1].get_weights()[0][0]"
      ]
    },
    {
      "cell_type": "code",
      "execution_count": null,
      "metadata": {
        "id": "tJjSxEPFUUx_"
      },
      "outputs": [],
      "source": [
        "with tf.device('/GPU:0'):\n",
        "  mix_model.fit([X_train_lemma_OH, X_train_genRat], y_train_inflection_OH, batch_size=batch_size, epochs=epochs, callbacks=[checkpoint], validation_data=([X_dev_lemma_OH, X_dev_genRat], y_dev_inflection_OH))  # starts training"
      ]
    },
    {
      "cell_type": "code",
      "execution_count": null,
      "metadata": {
        "id": "P2s1v375Um5l"
      },
      "outputs": [],
      "source": [
        "mix_model = load_model(checkpoint_filepath)\n",
        "mix_model.evaluate([X_test_lemma_OH, X_test_genRat], y_test_inflection_OH)"
      ]
    },
    {
      "cell_type": "code",
      "execution_count": null,
      "metadata": {
        "id": "PIWe1psZ3dZ4"
      },
      "outputs": [],
      "source": [
        "print(mix_model.summary())\n",
        "# os.makedirs(path+'/Mix Model', exist_ok=True)\n",
        "plot_model(mix_model, to_file=path+'/Mix Model/architecture.png', show_shapes=True, show_layer_names=True)"
      ]
    },
    {
      "cell_type": "markdown",
      "metadata": {
        "id": "jgfj5lhjU6z3"
      },
      "source": [
        "### **Train analyze**"
      ]
    },
    {
      "cell_type": "code",
      "execution_count": null,
      "metadata": {
        "id": "J_IHpXM1U6z9"
      },
      "outputs": [],
      "source": [
        "train_pred = mix_model.predict([X_train_lemma_OH, X_train_genRat])\n",
        "train_pred_OH = oneHot3D(train_pred)\n",
        "train_error_num, train_acc_num = checkAccuracy(train_pred_OH, y_train_inflection_OH)\n",
        "train_error_num, train_acc_num"
      ]
    },
    {
      "cell_type": "code",
      "execution_count": null,
      "metadata": {
        "id": "FYvcpoH7U60B"
      },
      "outputs": [],
      "source": [
        "y_train_inflection_OH.shape"
      ]
    },
    {
      "cell_type": "code",
      "execution_count": null,
      "metadata": {
        "id": "niUWd_7tU60E"
      },
      "outputs": [],
      "source": [
        "train_errorAnalysis = reportErrorAnalysis(trainData[0], trainData[5], train_pred_OH, y_train_inflection_OH, path + \"/Mix Model/train_errorAnalysis.csv\")\n",
        "train_errorAnalysis.head()"
      ]
    },
    {
      "cell_type": "code",
      "execution_count": null,
      "metadata": {
        "id": "HkGc9jELU60H"
      },
      "outputs": [],
      "source": [
        "print('(Broken error %, Sound error %): ', reportPercentageOfBrokenSoundErrors(train_errorAnalysis))"
      ]
    },
    {
      "cell_type": "code",
      "execution_count": null,
      "metadata": {
        "id": "z5l_gwk2U60K"
      },
      "outputs": [],
      "source": [
        "checkAccuracy_anyAcceptableInflectionInDataset(trainData[0],train_pred_OH,dic_lemmaInflection)"
      ]
    },
    {
      "cell_type": "markdown",
      "metadata": {
        "id": "WHCsxDc9U60N"
      },
      "source": [
        "### **Dev analyze**"
      ]
    },
    {
      "cell_type": "code",
      "execution_count": null,
      "metadata": {
        "id": "iA-xaxEZU60P"
      },
      "outputs": [],
      "source": [
        "dev_pred = mix_model.predict([X_dev_lemma_OH, X_dev_genRat])\n",
        "dev_pred_OH = oneHot3D(dev_pred)\n",
        "dev_error_num, dev_acc_num = checkAccuracy(dev_pred_OH, y_dev_inflection_OH)\n",
        "dev_error_num, dev_acc_num"
      ]
    },
    {
      "cell_type": "code",
      "execution_count": null,
      "metadata": {
        "id": "758ZYt8YU60S"
      },
      "outputs": [],
      "source": [
        "dev_errorAnalysis = reportErrorAnalysis(devData[0], devData[5], dev_pred_OH, y_dev_inflection_OH, path + \"/Mix Model/dev_errorAnalysis.csv\")\n",
        "dev_errorAnalysis.head()"
      ]
    },
    {
      "cell_type": "code",
      "execution_count": null,
      "metadata": {
        "id": "r-Kn0v0qU60X"
      },
      "outputs": [],
      "source": [
        "print('(Broken error %, Sound error %): ', reportPercentageOfBrokenSoundErrors(dev_errorAnalysis))"
      ]
    },
    {
      "cell_type": "code",
      "execution_count": null,
      "metadata": {
        "id": "z2SBpLd4U60a"
      },
      "outputs": [],
      "source": [
        "checkAccuracy_anyAcceptableInflectionInDataset(devData[0], dev_pred_OH, dic_lemmaInflection)"
      ]
    },
    {
      "cell_type": "code",
      "execution_count": null,
      "metadata": {
        "id": "_E1WV0QxU60c"
      },
      "outputs": [],
      "source": [
        "# Report Percentage of Unseen Errors in Dev set\n",
        "errorIndices_dev = dev_errorAnalysis['index'].tolist()\n",
        "unseenIndices_dev = unseenLemInfIndices_dev_df['index'].tolist()\n",
        "\n",
        "print('Percentage of Unseen Errors with respect to Total Errors, Percentage of Unseen Errors with respect to Total Unseen Samples')\n",
        "print(reportPercentageOfUnseenErrors(errorIndices_dev, unseenIndices_dev))"
      ]
    },
    {
      "cell_type": "markdown",
      "metadata": {
        "id": "gVg1pBydU60g"
      },
      "source": [
        "### **Test analyze**"
      ]
    },
    {
      "cell_type": "code",
      "execution_count": null,
      "metadata": {
        "id": "HqA9bxlFU60i"
      },
      "outputs": [],
      "source": [
        "test_pred = mix_model.predict([X_test_lemma_OH, X_test_genRat])\n",
        "test_pred_OH = oneHot3D(test_pred)\n",
        "test_error_num, test_acc_num = checkAccuracy(test_pred_OH, y_test_inflection_OH)\n",
        "test_error_num, test_acc_num"
      ]
    },
    {
      "cell_type": "code",
      "execution_count": null,
      "metadata": {
        "id": "LEn_8FwpU60k"
      },
      "outputs": [],
      "source": [
        "test_errorAnalysis = reportErrorAnalysis(testData[0], testData[5], test_pred_OH, y_test_inflection_OH, path + \"/Mix Model/test_errorAnalysis.csv\")"
      ]
    },
    {
      "cell_type": "code",
      "execution_count": null,
      "metadata": {
        "id": "7UuTiZ52U60m"
      },
      "outputs": [],
      "source": [
        "print('(Broken error %, Sound error %): ', reportPercentageOfBrokenSoundErrors(test_errorAnalysis))"
      ]
    },
    {
      "cell_type": "code",
      "execution_count": null,
      "metadata": {
        "id": "CitdRhOKU60p"
      },
      "outputs": [],
      "source": [
        "checkAccuracy_anyAcceptableInflectionInDataset(testData[0], test_pred_OH, dic_lemmaInflection)"
      ]
    },
    {
      "cell_type": "code",
      "execution_count": null,
      "metadata": {
        "id": "TpR-Yp-rU60q"
      },
      "outputs": [],
      "source": [
        "# Report Percentage of Unseen Errors in Test set\n",
        "errorIndices_test = test_errorAnalysis['index'].tolist()\n",
        "unseenIndices_test = unseenLemInfIndices_test_df['index'].tolist()\n",
        "\n",
        "print('Percentage of Unseen Errors with respect to Total Errors, Percentage of Unseen Errors with respect to Total Unseen Samples')\n",
        "print(reportPercentageOfUnseenErrors(errorIndices_test, unseenIndices_test))"
      ]
    }
  ],
  "metadata": {
    "accelerator": "GPU",
    "colab": {
      "collapsed_sections": [
        "rgbi7F8b_x30",
        "pGFwazuJClaC",
        "ubE6nCh4ClaD",
        "4MFDQIHuClaE",
        "JRilqxawClaF",
        "g4MC1JT3TSec",
        "5aRDIUaOvvJv",
        "wYae4z1hhH4t",
        "K87j_k_oEVh3",
        "XAoL0KSoEVh4",
        "ybXFriUqEVh5",
        "i7R3KZnxEVh5",
        "XOv7r-UPAa82",
        "bGnDKnFMwWZN",
        "w8vSGnlA1K3B",
        "87_lGKl1YqGY",
        "fdCz16FjpUjU",
        "jgfj5lhjU6z3",
        "WHCsxDc9U60N"
      ],
      "provenance": [],
      "include_colab_link": true
    },
    "kernelspec": {
      "display_name": "Python 3",
      "name": "python3"
    },
    "language_info": {
      "name": "python"
    }
  },
  "nbformat": 4,
  "nbformat_minor": 0
}