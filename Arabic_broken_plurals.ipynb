{
  "cells": [
    {
      "cell_type": "markdown",
      "metadata": {
        "id": "view-in-github",
        "colab_type": "text"
      },
      "source": [
        "<a href=\"https://colab.research.google.com/github/amirezzati/Arabic-Broken-Plural-RNN/blob/main/Arabic_broken_plurals.ipynb\" target=\"_parent\"><img src=\"https://colab.research.google.com/assets/colab-badge.svg\" alt=\"Open In Colab\"/></a>"
      ]
    },
    {
      "cell_type": "markdown",
      "metadata": {
        "id": "rgbi7F8b_x30"
      },
      "source": [
        "# **Libraries & Constants**"
      ]
    },
    {
      "cell_type": "code",
      "execution_count": 1,
      "metadata": {
        "id": "D2-wlVMZYEkZ"
      },
      "outputs": [],
      "source": [
        "import pandas as pd\n",
        "import tensorflow as tf\n",
        "import numpy as np\n",
        "from keras.models import Sequential, load_model\n",
        "from keras.layers import Dense, Input, Softmax, BatchNormalization, Dropout, Conv2D, MaxPool2D, Embedding, Reshape, Flatten, LSTM, GRU, SimpleRNN, Concatenate, concatenate, RepeatVector, TimeDistributed, Bidirectional\n",
        "# from keras.layers.merge import concatenate\n",
        "from keras.losses import CategoricalCrossentropy\n",
        "from keras.metrics import CategoricalAccuracy\n",
        "from keras.preprocessing.text import Tokenizer\n",
        "from tensorflow.keras.optimizers import RMSprop, Adam, Adamax, Nadam, SGD\n",
        "from tensorflow.keras import Model\n",
        "from tensorflow.keras.optimizers.schedules import InverseTimeDecay, ExponentialDecay\n",
        "from tensorflow.keras.utils import to_categorical\n",
        "from keras.utils.vis_utils import plot_model\n",
        "from keras.callbacks import ModelCheckpoint\n",
        "from tensorflow.keras.preprocessing.sequence import pad_sequences #from keras.preprocessing.sequence import pad_sequences\n",
        "from sklearn.preprocessing import LabelEncoder\n",
        "from sklearn.model_selection import train_test_split, KFold\n",
        "from sklearn import metrics\n",
        "from matplotlib import pyplot as plt\n",
        "from sklearn.model_selection import KFold\n",
        "import os\n",
        "import string\n",
        "from google.colab import drive"
      ]
    },
    {
      "cell_type": "code",
      "execution_count": 2,
      "metadata": {
        "id": "srVvFhQrdymB",
        "colab": {
          "base_uri": "https://localhost:8080/"
        },
        "outputId": "31c78920-644a-4e4b-9c4e-11080c6a13be"
      },
      "outputs": [
        {
          "output_type": "stream",
          "name": "stdout",
          "text": [
            "Mounted at /content/drive\n"
          ]
        }
      ],
      "source": [
        "drive.mount('/content/drive')\n",
        "dataPath=\"/content/drive/MyDrive/AI Projects/Arabic Broken Plural/data\""
      ]
    },
    {
      "cell_type": "markdown",
      "metadata": {
        "id": "i2nvnH4mAR8F"
      },
      "source": [
        "# **Preprocessing**"
      ]
    },
    {
      "cell_type": "markdown",
      "source": [
        "## **Get dataset files and Organizing**"
      ],
      "metadata": {
        "id": "-WOml2gW6dg-"
      }
    },
    {
      "cell_type": "code",
      "execution_count": 3,
      "metadata": {
        "colab": {
          "base_uri": "https://localhost:8080/",
          "height": 270
        },
        "id": "m21FhzeWeGRd",
        "outputId": "d2105b05-0f9a-4657-c4f0-e3a952cdc1be"
      },
      "outputs": [
        {
          "output_type": "execute_result",
          "data": {
            "text/plain": [
              "   lemma inflection NUM GEN RAT  lex_freq B/S SING_PATT    PL_PATT   ROOT  \\\n",
              "0  Eamal    >aEomAl  PL   m   i        49   B     1a2a3    >a1o2A3  E.m.l   \n",
              "1  hadaf    >ahodAf  PL   m   i        42   B     1a2a3    >a1o2A3  h.d.f   \n",
              "2  EuDow    >aEoDA'  PL   m   r        46   B     1u2ow    >a1o2A'  E.D.#   \n",
              "3  jihAz  >ajohizap  PL   m   i        41   B     1i2A3  >a1o2i3ap  j.h.z   \n",
              "4  Hukom    >aHokAm  PL   m   i        35   B     1u2o3    >a1o2A3  H.k.m   \n",
              "\n",
              "   FREQ  \n",
              "0    49  \n",
              "1    42  \n",
              "2    39  \n",
              "3    35  \n",
              "4    35  "
            ],
            "text/html": [
              "\n",
              "  <div id=\"df-f2ab4dc3-02b9-4855-b17a-8f9377c9afc2\">\n",
              "    <div class=\"colab-df-container\">\n",
              "      <div>\n",
              "<style scoped>\n",
              "    .dataframe tbody tr th:only-of-type {\n",
              "        vertical-align: middle;\n",
              "    }\n",
              "\n",
              "    .dataframe tbody tr th {\n",
              "        vertical-align: top;\n",
              "    }\n",
              "\n",
              "    .dataframe thead th {\n",
              "        text-align: right;\n",
              "    }\n",
              "</style>\n",
              "<table border=\"1\" class=\"dataframe\">\n",
              "  <thead>\n",
              "    <tr style=\"text-align: right;\">\n",
              "      <th></th>\n",
              "      <th>lemma</th>\n",
              "      <th>inflection</th>\n",
              "      <th>NUM</th>\n",
              "      <th>GEN</th>\n",
              "      <th>RAT</th>\n",
              "      <th>lex_freq</th>\n",
              "      <th>B/S</th>\n",
              "      <th>SING_PATT</th>\n",
              "      <th>PL_PATT</th>\n",
              "      <th>ROOT</th>\n",
              "      <th>FREQ</th>\n",
              "    </tr>\n",
              "  </thead>\n",
              "  <tbody>\n",
              "    <tr>\n",
              "      <th>0</th>\n",
              "      <td>Eamal</td>\n",
              "      <td>&gt;aEomAl</td>\n",
              "      <td>PL</td>\n",
              "      <td>m</td>\n",
              "      <td>i</td>\n",
              "      <td>49</td>\n",
              "      <td>B</td>\n",
              "      <td>1a2a3</td>\n",
              "      <td>&gt;a1o2A3</td>\n",
              "      <td>E.m.l</td>\n",
              "      <td>49</td>\n",
              "    </tr>\n",
              "    <tr>\n",
              "      <th>1</th>\n",
              "      <td>hadaf</td>\n",
              "      <td>&gt;ahodAf</td>\n",
              "      <td>PL</td>\n",
              "      <td>m</td>\n",
              "      <td>i</td>\n",
              "      <td>42</td>\n",
              "      <td>B</td>\n",
              "      <td>1a2a3</td>\n",
              "      <td>&gt;a1o2A3</td>\n",
              "      <td>h.d.f</td>\n",
              "      <td>42</td>\n",
              "    </tr>\n",
              "    <tr>\n",
              "      <th>2</th>\n",
              "      <td>EuDow</td>\n",
              "      <td>&gt;aEoDA'</td>\n",
              "      <td>PL</td>\n",
              "      <td>m</td>\n",
              "      <td>r</td>\n",
              "      <td>46</td>\n",
              "      <td>B</td>\n",
              "      <td>1u2ow</td>\n",
              "      <td>&gt;a1o2A'</td>\n",
              "      <td>E.D.#</td>\n",
              "      <td>39</td>\n",
              "    </tr>\n",
              "    <tr>\n",
              "      <th>3</th>\n",
              "      <td>jihAz</td>\n",
              "      <td>&gt;ajohizap</td>\n",
              "      <td>PL</td>\n",
              "      <td>m</td>\n",
              "      <td>i</td>\n",
              "      <td>41</td>\n",
              "      <td>B</td>\n",
              "      <td>1i2A3</td>\n",
              "      <td>&gt;a1o2i3ap</td>\n",
              "      <td>j.h.z</td>\n",
              "      <td>35</td>\n",
              "    </tr>\n",
              "    <tr>\n",
              "      <th>4</th>\n",
              "      <td>Hukom</td>\n",
              "      <td>&gt;aHokAm</td>\n",
              "      <td>PL</td>\n",
              "      <td>m</td>\n",
              "      <td>i</td>\n",
              "      <td>35</td>\n",
              "      <td>B</td>\n",
              "      <td>1u2o3</td>\n",
              "      <td>&gt;a1o2A3</td>\n",
              "      <td>H.k.m</td>\n",
              "      <td>35</td>\n",
              "    </tr>\n",
              "  </tbody>\n",
              "</table>\n",
              "</div>\n",
              "      <button class=\"colab-df-convert\" onclick=\"convertToInteractive('df-f2ab4dc3-02b9-4855-b17a-8f9377c9afc2')\"\n",
              "              title=\"Convert this dataframe to an interactive table.\"\n",
              "              style=\"display:none;\">\n",
              "        \n",
              "  <svg xmlns=\"http://www.w3.org/2000/svg\" height=\"24px\"viewBox=\"0 0 24 24\"\n",
              "       width=\"24px\">\n",
              "    <path d=\"M0 0h24v24H0V0z\" fill=\"none\"/>\n",
              "    <path d=\"M18.56 5.44l.94 2.06.94-2.06 2.06-.94-2.06-.94-.94-2.06-.94 2.06-2.06.94zm-11 1L8.5 8.5l.94-2.06 2.06-.94-2.06-.94L8.5 2.5l-.94 2.06-2.06.94zm10 10l.94 2.06.94-2.06 2.06-.94-2.06-.94-.94-2.06-.94 2.06-2.06.94z\"/><path d=\"M17.41 7.96l-1.37-1.37c-.4-.4-.92-.59-1.43-.59-.52 0-1.04.2-1.43.59L10.3 9.45l-7.72 7.72c-.78.78-.78 2.05 0 2.83L4 21.41c.39.39.9.59 1.41.59.51 0 1.02-.2 1.41-.59l7.78-7.78 2.81-2.81c.8-.78.8-2.07 0-2.86zM5.41 20L4 18.59l7.72-7.72 1.47 1.35L5.41 20z\"/>\n",
              "  </svg>\n",
              "      </button>\n",
              "      \n",
              "  <style>\n",
              "    .colab-df-container {\n",
              "      display:flex;\n",
              "      flex-wrap:wrap;\n",
              "      gap: 12px;\n",
              "    }\n",
              "\n",
              "    .colab-df-convert {\n",
              "      background-color: #E8F0FE;\n",
              "      border: none;\n",
              "      border-radius: 50%;\n",
              "      cursor: pointer;\n",
              "      display: none;\n",
              "      fill: #1967D2;\n",
              "      height: 32px;\n",
              "      padding: 0 0 0 0;\n",
              "      width: 32px;\n",
              "    }\n",
              "\n",
              "    .colab-df-convert:hover {\n",
              "      background-color: #E2EBFA;\n",
              "      box-shadow: 0px 1px 2px rgba(60, 64, 67, 0.3), 0px 1px 3px 1px rgba(60, 64, 67, 0.15);\n",
              "      fill: #174EA6;\n",
              "    }\n",
              "\n",
              "    [theme=dark] .colab-df-convert {\n",
              "      background-color: #3B4455;\n",
              "      fill: #D2E3FC;\n",
              "    }\n",
              "\n",
              "    [theme=dark] .colab-df-convert:hover {\n",
              "      background-color: #434B5C;\n",
              "      box-shadow: 0px 1px 3px 1px rgba(0, 0, 0, 0.15);\n",
              "      filter: drop-shadow(0px 1px 2px rgba(0, 0, 0, 0.3));\n",
              "      fill: #FFFFFF;\n",
              "    }\n",
              "  </style>\n",
              "\n",
              "      <script>\n",
              "        const buttonEl =\n",
              "          document.querySelector('#df-f2ab4dc3-02b9-4855-b17a-8f9377c9afc2 button.colab-df-convert');\n",
              "        buttonEl.style.display =\n",
              "          google.colab.kernel.accessAllowed ? 'block' : 'none';\n",
              "\n",
              "        async function convertToInteractive(key) {\n",
              "          const element = document.querySelector('#df-f2ab4dc3-02b9-4855-b17a-8f9377c9afc2');\n",
              "          const dataTable =\n",
              "            await google.colab.kernel.invokeFunction('convertToInteractive',\n",
              "                                                     [key], {});\n",
              "          if (!dataTable) return;\n",
              "\n",
              "          const docLinkHtml = 'Like what you see? Visit the ' +\n",
              "            '<a target=\"_blank\" href=https://colab.research.google.com/notebooks/data_table.ipynb>data table notebook</a>'\n",
              "            + ' to learn more about interactive tables.';\n",
              "          element.innerHTML = '';\n",
              "          dataTable['output_type'] = 'display_data';\n",
              "          await google.colab.output.renderOutput(dataTable, element);\n",
              "          const docLink = document.createElement('div');\n",
              "          docLink.innerHTML = docLinkHtml;\n",
              "          element.appendChild(docLink);\n",
              "        }\n",
              "      </script>\n",
              "    </div>\n",
              "  </div>\n",
              "  "
            ]
          },
          "metadata": {},
          "execution_count": 3
        }
      ],
      "source": [
        "train_csv = pd.read_csv(dataPath+\"/train_pairs_all.csv\")\n",
        "dev_csv = pd.read_csv(dataPath+\"/dev_pairs_all.csv\")\n",
        "test_csv = pd.read_csv(dataPath+\"/test_pairs_all.csv\")\n",
        "\n",
        "train_csv.head()"
      ]
    },
    {
      "cell_type": "code",
      "execution_count": 4,
      "metadata": {
        "id": "FOzSPP8jz291"
      },
      "outputs": [],
      "source": [
        "train_csv_filtered = train_csv[train_csv['ROOT'] != 'NTWS']\n",
        "dev_csv_filtered = dev_csv[dev_csv['ROOT'] != 'NTWS']\n",
        "test_csv_filtered = test_csv[test_csv['ROOT'] != 'NTWS']"
      ]
    },
    {
      "cell_type": "code",
      "execution_count": 5,
      "metadata": {
        "colab": {
          "base_uri": "https://localhost:8080/",
          "height": 376
        },
        "id": "7Y-HQQM57AzY",
        "outputId": "9f5b44ef-b279-461c-f9e1-1a17995e2d04"
      },
      "outputs": [
        {
          "output_type": "stream",
          "name": "stderr",
          "text": [
            "/usr/local/lib/python3.7/dist-packages/pandas/core/frame.py:3641: SettingWithCopyWarning: \n",
            "A value is trying to be set on a copy of a slice from a DataFrame.\n",
            "Try using .loc[row_indexer,col_indexer] = value instead\n",
            "\n",
            "See the caveats in the documentation: https://pandas.pydata.org/pandas-docs/stable/user_guide/indexing.html#returning-a-view-versus-a-copy\n",
            "  self[k1] = value[k2]\n"
          ]
        },
        {
          "output_type": "execute_result",
          "data": {
            "text/plain": [
              "        lemma  inflection NUM  GEN  RAT  lex_freq  B/S   SING_PATT  \\\n",
              "0       Eamal     >aEomAl  PL    1    0        23    0       1a2a3   \n",
              "1       hadaf     >ahodAf  PL    1    0        16    0       1a2a3   \n",
              "2     EalAqap     EalAqAt  PL    0    0        15    1     1a2A3ap   \n",
              "3  mu&as~asap  mu&as~asAt  PL    0    0        14    1  mu&a2~a3ap   \n",
              "4       EuDow     >aEoDA'  PL    1    1        15    0       1u2ow   \n",
              "\n",
              "      PL_PATT   ROOT  FREQ  \n",
              "0     >a1o2A3  E.m.l    23  \n",
              "1     >a1o2A3  h.d.f    16  \n",
              "2     1a2A3At  E.l.q    15  \n",
              "3  mu&a2~a3At  #.s.s    14  \n",
              "4     >a1o2A'  E.D.#    13  "
            ],
            "text/html": [
              "\n",
              "  <div id=\"df-2556fd54-dad8-4274-b722-65242cd560cc\">\n",
              "    <div class=\"colab-df-container\">\n",
              "      <div>\n",
              "<style scoped>\n",
              "    .dataframe tbody tr th:only-of-type {\n",
              "        vertical-align: middle;\n",
              "    }\n",
              "\n",
              "    .dataframe tbody tr th {\n",
              "        vertical-align: top;\n",
              "    }\n",
              "\n",
              "    .dataframe thead th {\n",
              "        text-align: right;\n",
              "    }\n",
              "</style>\n",
              "<table border=\"1\" class=\"dataframe\">\n",
              "  <thead>\n",
              "    <tr style=\"text-align: right;\">\n",
              "      <th></th>\n",
              "      <th>lemma</th>\n",
              "      <th>inflection</th>\n",
              "      <th>NUM</th>\n",
              "      <th>GEN</th>\n",
              "      <th>RAT</th>\n",
              "      <th>lex_freq</th>\n",
              "      <th>B/S</th>\n",
              "      <th>SING_PATT</th>\n",
              "      <th>PL_PATT</th>\n",
              "      <th>ROOT</th>\n",
              "      <th>FREQ</th>\n",
              "    </tr>\n",
              "  </thead>\n",
              "  <tbody>\n",
              "    <tr>\n",
              "      <th>0</th>\n",
              "      <td>Eamal</td>\n",
              "      <td>&gt;aEomAl</td>\n",
              "      <td>PL</td>\n",
              "      <td>1</td>\n",
              "      <td>0</td>\n",
              "      <td>23</td>\n",
              "      <td>0</td>\n",
              "      <td>1a2a3</td>\n",
              "      <td>&gt;a1o2A3</td>\n",
              "      <td>E.m.l</td>\n",
              "      <td>23</td>\n",
              "    </tr>\n",
              "    <tr>\n",
              "      <th>1</th>\n",
              "      <td>hadaf</td>\n",
              "      <td>&gt;ahodAf</td>\n",
              "      <td>PL</td>\n",
              "      <td>1</td>\n",
              "      <td>0</td>\n",
              "      <td>16</td>\n",
              "      <td>0</td>\n",
              "      <td>1a2a3</td>\n",
              "      <td>&gt;a1o2A3</td>\n",
              "      <td>h.d.f</td>\n",
              "      <td>16</td>\n",
              "    </tr>\n",
              "    <tr>\n",
              "      <th>2</th>\n",
              "      <td>EalAqap</td>\n",
              "      <td>EalAqAt</td>\n",
              "      <td>PL</td>\n",
              "      <td>0</td>\n",
              "      <td>0</td>\n",
              "      <td>15</td>\n",
              "      <td>1</td>\n",
              "      <td>1a2A3ap</td>\n",
              "      <td>1a2A3At</td>\n",
              "      <td>E.l.q</td>\n",
              "      <td>15</td>\n",
              "    </tr>\n",
              "    <tr>\n",
              "      <th>3</th>\n",
              "      <td>mu&amp;as~asap</td>\n",
              "      <td>mu&amp;as~asAt</td>\n",
              "      <td>PL</td>\n",
              "      <td>0</td>\n",
              "      <td>0</td>\n",
              "      <td>14</td>\n",
              "      <td>1</td>\n",
              "      <td>mu&amp;a2~a3ap</td>\n",
              "      <td>mu&amp;a2~a3At</td>\n",
              "      <td>#.s.s</td>\n",
              "      <td>14</td>\n",
              "    </tr>\n",
              "    <tr>\n",
              "      <th>4</th>\n",
              "      <td>EuDow</td>\n",
              "      <td>&gt;aEoDA'</td>\n",
              "      <td>PL</td>\n",
              "      <td>1</td>\n",
              "      <td>1</td>\n",
              "      <td>15</td>\n",
              "      <td>0</td>\n",
              "      <td>1u2ow</td>\n",
              "      <td>&gt;a1o2A'</td>\n",
              "      <td>E.D.#</td>\n",
              "      <td>13</td>\n",
              "    </tr>\n",
              "  </tbody>\n",
              "</table>\n",
              "</div>\n",
              "      <button class=\"colab-df-convert\" onclick=\"convertToInteractive('df-2556fd54-dad8-4274-b722-65242cd560cc')\"\n",
              "              title=\"Convert this dataframe to an interactive table.\"\n",
              "              style=\"display:none;\">\n",
              "        \n",
              "  <svg xmlns=\"http://www.w3.org/2000/svg\" height=\"24px\"viewBox=\"0 0 24 24\"\n",
              "       width=\"24px\">\n",
              "    <path d=\"M0 0h24v24H0V0z\" fill=\"none\"/>\n",
              "    <path d=\"M18.56 5.44l.94 2.06.94-2.06 2.06-.94-2.06-.94-.94-2.06-.94 2.06-2.06.94zm-11 1L8.5 8.5l.94-2.06 2.06-.94-2.06-.94L8.5 2.5l-.94 2.06-2.06.94zm10 10l.94 2.06.94-2.06 2.06-.94-2.06-.94-.94-2.06-.94 2.06-2.06.94z\"/><path d=\"M17.41 7.96l-1.37-1.37c-.4-.4-.92-.59-1.43-.59-.52 0-1.04.2-1.43.59L10.3 9.45l-7.72 7.72c-.78.78-.78 2.05 0 2.83L4 21.41c.39.39.9.59 1.41.59.51 0 1.02-.2 1.41-.59l7.78-7.78 2.81-2.81c.8-.78.8-2.07 0-2.86zM5.41 20L4 18.59l7.72-7.72 1.47 1.35L5.41 20z\"/>\n",
              "  </svg>\n",
              "      </button>\n",
              "      \n",
              "  <style>\n",
              "    .colab-df-container {\n",
              "      display:flex;\n",
              "      flex-wrap:wrap;\n",
              "      gap: 12px;\n",
              "    }\n",
              "\n",
              "    .colab-df-convert {\n",
              "      background-color: #E8F0FE;\n",
              "      border: none;\n",
              "      border-radius: 50%;\n",
              "      cursor: pointer;\n",
              "      display: none;\n",
              "      fill: #1967D2;\n",
              "      height: 32px;\n",
              "      padding: 0 0 0 0;\n",
              "      width: 32px;\n",
              "    }\n",
              "\n",
              "    .colab-df-convert:hover {\n",
              "      background-color: #E2EBFA;\n",
              "      box-shadow: 0px 1px 2px rgba(60, 64, 67, 0.3), 0px 1px 3px 1px rgba(60, 64, 67, 0.15);\n",
              "      fill: #174EA6;\n",
              "    }\n",
              "\n",
              "    [theme=dark] .colab-df-convert {\n",
              "      background-color: #3B4455;\n",
              "      fill: #D2E3FC;\n",
              "    }\n",
              "\n",
              "    [theme=dark] .colab-df-convert:hover {\n",
              "      background-color: #434B5C;\n",
              "      box-shadow: 0px 1px 3px 1px rgba(0, 0, 0, 0.15);\n",
              "      filter: drop-shadow(0px 1px 2px rgba(0, 0, 0, 0.3));\n",
              "      fill: #FFFFFF;\n",
              "    }\n",
              "  </style>\n",
              "\n",
              "      <script>\n",
              "        const buttonEl =\n",
              "          document.querySelector('#df-2556fd54-dad8-4274-b722-65242cd560cc button.colab-df-convert');\n",
              "        buttonEl.style.display =\n",
              "          google.colab.kernel.accessAllowed ? 'block' : 'none';\n",
              "\n",
              "        async function convertToInteractive(key) {\n",
              "          const element = document.querySelector('#df-2556fd54-dad8-4274-b722-65242cd560cc');\n",
              "          const dataTable =\n",
              "            await google.colab.kernel.invokeFunction('convertToInteractive',\n",
              "                                                     [key], {});\n",
              "          if (!dataTable) return;\n",
              "\n",
              "          const docLinkHtml = 'Like what you see? Visit the ' +\n",
              "            '<a target=\"_blank\" href=https://colab.research.google.com/notebooks/data_table.ipynb>data table notebook</a>'\n",
              "            + ' to learn more about interactive tables.';\n",
              "          element.innerHTML = '';\n",
              "          dataTable['output_type'] = 'display_data';\n",
              "          await google.colab.output.renderOutput(dataTable, element);\n",
              "          const docLink = document.createElement('div');\n",
              "          docLink.innerHTML = docLinkHtml;\n",
              "          element.appendChild(docLink);\n",
              "        }\n",
              "      </script>\n",
              "    </div>\n",
              "  </div>\n",
              "  "
            ]
          },
          "metadata": {},
          "execution_count": 5
        }
      ],
      "source": [
        "# Label encoder for encoding gender and rational features\n",
        "# 'B' class: 0      'S' class: 1\n",
        "categorical_attr = ['GEN', 'RAT', 'B/S']\n",
        "\n",
        "le = LabelEncoder()\n",
        "train_csv_filtered[categorical_attr] = train_csv_filtered[categorical_attr].apply(le.fit_transform, axis=0)\n",
        "\n",
        "le = LabelEncoder()\n",
        "dev_csv_filtered[categorical_attr] = dev_csv_filtered[categorical_attr].apply(le.fit_transform, axis=0)\n",
        "\n",
        "le = LabelEncoder()\n",
        "test_csv_filtered[categorical_attr] = test_csv_filtered[categorical_attr].apply(le.fit_transform, axis=0)\n",
        "\n",
        "test_csv_filtered.head()"
      ]
    },
    {
      "cell_type": "code",
      "execution_count": 6,
      "metadata": {
        "colab": {
          "base_uri": "https://localhost:8080/"
        },
        "id": "HULbwhrD7Azc",
        "outputId": "642c01b6-9d42-4b05-fdc7-2e8f404549f2"
      },
      "outputs": [
        {
          "output_type": "stream",
          "name": "stdout",
          "text": [
            "(2748,)\n",
            "(1113,)\n",
            "(1076,)\n"
          ]
        }
      ],
      "source": [
        "def getNumpyData(dataFrame):\n",
        "  '''\n",
        "  Output type->List : 0:lamma | 1:singular pattern | 2:root |3:inflection | 4:plural pattern | 5:plural type(B/S) | 6:gender | 7:rational | 8:freq | 9:nmberOfRoot\n",
        "  '''\n",
        "  data = [] # 0:lemma | 1:singular pattern | 2:root |3:inflection | 4:plural pattern | 5:plural type(B/S) | 6:gender | 7:rational \n",
        "  data.append(dataFrame['lemma'].to_numpy())\n",
        "  data.append(dataFrame['SING_PATT'].to_numpy())\n",
        "\n",
        "  root = dataFrame['ROOT'].to_numpy()\n",
        "  # delete dot sign(.) in root feature\n",
        "  for i in range(len(root)): \n",
        "    root[i] = root[i].replace(\".\",\"\")\n",
        "    root[i] = root[i].replace(\"#\",\"\")\n",
        "  data.append(root)\n",
        "\n",
        "  data.append(dataFrame['inflection'].to_numpy())\n",
        "  data.append(dataFrame['PL_PATT'].to_numpy())\n",
        "  data.append(dataFrame['B/S'].to_numpy())\n",
        "  data.append(dataFrame['GEN'].to_numpy())\n",
        "  data.append(dataFrame['RAT'].to_numpy())\n",
        "  data.append(dataFrame['FREQ'].to_numpy())\n",
        "\n",
        "  numOfRoot = [len(x) for x in root]\n",
        "  data.append(np.array(numOfRoot))\n",
        "\n",
        "  print(data[0].shape)\n",
        "  return data\n",
        "\n",
        "trainData = getNumpyData(train_csv_filtered)\n",
        "devData = getNumpyData(dev_csv_filtered)\n",
        "testData = getNumpyData(test_csv_filtered)"
      ]
    },
    {
      "cell_type": "markdown",
      "source": [
        "## **Analyzing Datasets**"
      ],
      "metadata": {
        "id": "mGvkEaGn52gO"
      }
    },
    {
      "cell_type": "code",
      "source": [
        "# generate samples of dev/test set which are not in train set\n",
        "# compare with lemma\n",
        "devSetExistence = np.array([lemma in trainData[0] for lemma in devData[0]])\n",
        "testSetExistence = np.array([lemma in trainData[0] for lemma in testData[0]])\n",
        "\n",
        "unseenLemmaIndices_dev = np.where(devSetExistence==False)[0]\n",
        "unseenLemmaIndices_test = np.where(testSetExistence==False)[0]\n",
        "\n",
        "print('number of unseen data(lemma) in dev set: ', np.count_nonzero(devSetExistence==False))\n",
        "print('number of unseen data(lemma) in test set: ', np.count_nonzero(testSetExistence==False), end='\\n\\n')\n",
        "\n",
        "# compare with (lemma, inflection) pair\n",
        "  # first: generate (lemma, inflection) pair in sets\n",
        "trainLemmaInf = np.stack((trainData[0], trainData[3]), axis=-1).tolist()\n",
        "devLemmaInf = np.stack((devData[0], devData[3]), axis=-1).tolist()\n",
        "testLemmaInf = np.stack((testData[0], testData[3]), axis=-1).tolist()\n",
        "\n",
        "devSetExistence = np.array([lemInf in trainLemmaInf for lemInf in devLemmaInf])\n",
        "testSetExistence = np.array([lemInf in trainLemmaInf for lemInf in testLemmaInf])\n",
        "\n",
        "unseenLemInfIndices_dev = np.where(devSetExistence==False)[0]\n",
        "unseenLemInfIndices_test = np.where(testSetExistence==False)[0]\n",
        "\n",
        "print('number of unseen data((lemma, inflection) pair) in dev set: ', np.count_nonzero(devSetExistence==False))\n",
        "print('number of unseen data((lemma, inflection) pair) in test set: ', np.count_nonzero(testSetExistence==False))"
      ],
      "metadata": {
        "colab": {
          "base_uri": "https://localhost:8080/"
        },
        "id": "8A4h0Xsq2D5T",
        "outputId": "1afd5993-c28d-421b-8340-d914a8f159ad"
      },
      "execution_count": 7,
      "outputs": [
        {
          "output_type": "stream",
          "name": "stdout",
          "text": [
            "number of unseen data(lemma) in dev set:  80\n",
            "number of unseen data(lemma) in test set:  75\n",
            "\n",
            "number of unseen data((lemma, inflection) pair) in dev set:  102\n",
            "number of unseen data((lemma, inflection) pair) in test set:  85\n"
          ]
        }
      ]
    },
    {
      "cell_type": "code",
      "source": [
        "# create dataframe for dev set's unseen data\n",
        "    # 0:lemma | 1:singular pattern | 2:root |3:inflection | 4:plural pattern | 5:plural type(B/S) | 6:gender | 7:rational \n",
        "    \n",
        "path = '/content/drive/MyDrive/AI Projects/Arabic Broken Plural/Datasets analysis/'\n",
        "# os.makedirs(path, exist_ok=True)  \n",
        "\n",
        "unseenLemmaIndices_dev_df = pd.DataFrame({'index': unseenLemmaIndices_dev,\n",
        "                                           'lemma': devData[0][unseenLemmaIndices_dev],\n",
        "                                           'inflection': devData[3][unseenLemmaIndices_dev],\n",
        "                                           'pl pattern': devData[4][unseenLemmaIndices_dev]})\n",
        "unseenLemmaIndices_dev_df.to_csv(path + 'unseenLemma_dev.csv')\n",
        "\n",
        "\n",
        "unseenLemInfIndices_dev_df = pd.DataFrame({'index': unseenLemInfIndices_dev,\n",
        "                                           'lemma': devData[0][unseenLemInfIndices_dev],\n",
        "                                           'inflection': devData[3][unseenLemInfIndices_dev],\n",
        "                                           'pl pattern': devData[4][unseenLemInfIndices_dev]})\n",
        "unseenLemInfIndices_dev_df.to_csv(path + 'unseenLemInf_dev.csv')"
      ],
      "metadata": {
        "id": "4svS48t-E52e"
      },
      "execution_count": 8,
      "outputs": []
    },
    {
      "cell_type": "code",
      "source": [
        "unseenLemInfIndices_dev_df.head()"
      ],
      "metadata": {
        "colab": {
          "base_uri": "https://localhost:8080/",
          "height": 206
        },
        "id": "uyffjGYjL9Er",
        "outputId": "86293562-0bab-449e-ce43-f73d8825f681"
      },
      "execution_count": 9,
      "outputs": [
        {
          "output_type": "execute_result",
          "data": {
            "text/plain": [
              "   index      lemma   inflection   pl pattern\n",
              "0    220   muHaw~il   muHaw~ilAt   mu1aw~i3At\n",
              "1    230  mujawohar  mujawoharAt  mu1awo3a4At\n",
              "2    278      Haloy       Huliy~       1u2iy~\n",
              "3    293     tAriyx     tawAriyx     tawA2iy3\n",
              "4    383      madad      >amodAd      >a1o2A3"
            ],
            "text/html": [
              "\n",
              "  <div id=\"df-5a1e8780-0df7-4b9b-978c-c9bcbc0dffdc\">\n",
              "    <div class=\"colab-df-container\">\n",
              "      <div>\n",
              "<style scoped>\n",
              "    .dataframe tbody tr th:only-of-type {\n",
              "        vertical-align: middle;\n",
              "    }\n",
              "\n",
              "    .dataframe tbody tr th {\n",
              "        vertical-align: top;\n",
              "    }\n",
              "\n",
              "    .dataframe thead th {\n",
              "        text-align: right;\n",
              "    }\n",
              "</style>\n",
              "<table border=\"1\" class=\"dataframe\">\n",
              "  <thead>\n",
              "    <tr style=\"text-align: right;\">\n",
              "      <th></th>\n",
              "      <th>index</th>\n",
              "      <th>lemma</th>\n",
              "      <th>inflection</th>\n",
              "      <th>pl pattern</th>\n",
              "    </tr>\n",
              "  </thead>\n",
              "  <tbody>\n",
              "    <tr>\n",
              "      <th>0</th>\n",
              "      <td>220</td>\n",
              "      <td>muHaw~il</td>\n",
              "      <td>muHaw~ilAt</td>\n",
              "      <td>mu1aw~i3At</td>\n",
              "    </tr>\n",
              "    <tr>\n",
              "      <th>1</th>\n",
              "      <td>230</td>\n",
              "      <td>mujawohar</td>\n",
              "      <td>mujawoharAt</td>\n",
              "      <td>mu1awo3a4At</td>\n",
              "    </tr>\n",
              "    <tr>\n",
              "      <th>2</th>\n",
              "      <td>278</td>\n",
              "      <td>Haloy</td>\n",
              "      <td>Huliy~</td>\n",
              "      <td>1u2iy~</td>\n",
              "    </tr>\n",
              "    <tr>\n",
              "      <th>3</th>\n",
              "      <td>293</td>\n",
              "      <td>tAriyx</td>\n",
              "      <td>tawAriyx</td>\n",
              "      <td>tawA2iy3</td>\n",
              "    </tr>\n",
              "    <tr>\n",
              "      <th>4</th>\n",
              "      <td>383</td>\n",
              "      <td>madad</td>\n",
              "      <td>&gt;amodAd</td>\n",
              "      <td>&gt;a1o2A3</td>\n",
              "    </tr>\n",
              "  </tbody>\n",
              "</table>\n",
              "</div>\n",
              "      <button class=\"colab-df-convert\" onclick=\"convertToInteractive('df-5a1e8780-0df7-4b9b-978c-c9bcbc0dffdc')\"\n",
              "              title=\"Convert this dataframe to an interactive table.\"\n",
              "              style=\"display:none;\">\n",
              "        \n",
              "  <svg xmlns=\"http://www.w3.org/2000/svg\" height=\"24px\"viewBox=\"0 0 24 24\"\n",
              "       width=\"24px\">\n",
              "    <path d=\"M0 0h24v24H0V0z\" fill=\"none\"/>\n",
              "    <path d=\"M18.56 5.44l.94 2.06.94-2.06 2.06-.94-2.06-.94-.94-2.06-.94 2.06-2.06.94zm-11 1L8.5 8.5l.94-2.06 2.06-.94-2.06-.94L8.5 2.5l-.94 2.06-2.06.94zm10 10l.94 2.06.94-2.06 2.06-.94-2.06-.94-.94-2.06-.94 2.06-2.06.94z\"/><path d=\"M17.41 7.96l-1.37-1.37c-.4-.4-.92-.59-1.43-.59-.52 0-1.04.2-1.43.59L10.3 9.45l-7.72 7.72c-.78.78-.78 2.05 0 2.83L4 21.41c.39.39.9.59 1.41.59.51 0 1.02-.2 1.41-.59l7.78-7.78 2.81-2.81c.8-.78.8-2.07 0-2.86zM5.41 20L4 18.59l7.72-7.72 1.47 1.35L5.41 20z\"/>\n",
              "  </svg>\n",
              "      </button>\n",
              "      \n",
              "  <style>\n",
              "    .colab-df-container {\n",
              "      display:flex;\n",
              "      flex-wrap:wrap;\n",
              "      gap: 12px;\n",
              "    }\n",
              "\n",
              "    .colab-df-convert {\n",
              "      background-color: #E8F0FE;\n",
              "      border: none;\n",
              "      border-radius: 50%;\n",
              "      cursor: pointer;\n",
              "      display: none;\n",
              "      fill: #1967D2;\n",
              "      height: 32px;\n",
              "      padding: 0 0 0 0;\n",
              "      width: 32px;\n",
              "    }\n",
              "\n",
              "    .colab-df-convert:hover {\n",
              "      background-color: #E2EBFA;\n",
              "      box-shadow: 0px 1px 2px rgba(60, 64, 67, 0.3), 0px 1px 3px 1px rgba(60, 64, 67, 0.15);\n",
              "      fill: #174EA6;\n",
              "    }\n",
              "\n",
              "    [theme=dark] .colab-df-convert {\n",
              "      background-color: #3B4455;\n",
              "      fill: #D2E3FC;\n",
              "    }\n",
              "\n",
              "    [theme=dark] .colab-df-convert:hover {\n",
              "      background-color: #434B5C;\n",
              "      box-shadow: 0px 1px 3px 1px rgba(0, 0, 0, 0.15);\n",
              "      filter: drop-shadow(0px 1px 2px rgba(0, 0, 0, 0.3));\n",
              "      fill: #FFFFFF;\n",
              "    }\n",
              "  </style>\n",
              "\n",
              "      <script>\n",
              "        const buttonEl =\n",
              "          document.querySelector('#df-5a1e8780-0df7-4b9b-978c-c9bcbc0dffdc button.colab-df-convert');\n",
              "        buttonEl.style.display =\n",
              "          google.colab.kernel.accessAllowed ? 'block' : 'none';\n",
              "\n",
              "        async function convertToInteractive(key) {\n",
              "          const element = document.querySelector('#df-5a1e8780-0df7-4b9b-978c-c9bcbc0dffdc');\n",
              "          const dataTable =\n",
              "            await google.colab.kernel.invokeFunction('convertToInteractive',\n",
              "                                                     [key], {});\n",
              "          if (!dataTable) return;\n",
              "\n",
              "          const docLinkHtml = 'Like what you see? Visit the ' +\n",
              "            '<a target=\"_blank\" href=https://colab.research.google.com/notebooks/data_table.ipynb>data table notebook</a>'\n",
              "            + ' to learn more about interactive tables.';\n",
              "          element.innerHTML = '';\n",
              "          dataTable['output_type'] = 'display_data';\n",
              "          await google.colab.output.renderOutput(dataTable, element);\n",
              "          const docLink = document.createElement('div');\n",
              "          docLink.innerHTML = docLinkHtml;\n",
              "          element.appendChild(docLink);\n",
              "        }\n",
              "      </script>\n",
              "    </div>\n",
              "  </div>\n",
              "  "
            ]
          },
          "metadata": {},
          "execution_count": 9
        }
      ]
    },
    {
      "cell_type": "code",
      "source": [
        "# create dataframe for test set's unseen data\n",
        "unseenLemmaIndices_test_df = pd.DataFrame({'index': unseenLemmaIndices_test,\n",
        "                                           'lemma': testData[0][unseenLemmaIndices_test],\n",
        "                                           'inflection': testData[3][unseenLemmaIndices_test],\n",
        "                                           'pl pattern': testData[4][unseenLemmaIndices_test]})\n",
        "unseenLemmaIndices_test_df.to_csv(path + 'unseenLemma_test.csv')\n",
        "\n",
        "\n",
        "unseenLemInfIndices_test_df = pd.DataFrame({'index': unseenLemInfIndices_test,\n",
        "                                           'lemma': testData[0][unseenLemInfIndices_test],\n",
        "                                           'inflection': testData[3][unseenLemInfIndices_test],\n",
        "                                           'pl pattern': testData[4][unseenLemInfIndices_test]})\n",
        "unseenLemInfIndices_test_df.to_csv(path + 'unseenLemInf_test.csv')"
      ],
      "metadata": {
        "id": "89nLjJsYLKBq"
      },
      "execution_count": 10,
      "outputs": []
    },
    {
      "cell_type": "code",
      "source": [
        "unseenLemInfIndices_test_df.head()"
      ],
      "metadata": {
        "colab": {
          "base_uri": "https://localhost:8080/",
          "height": 206
        },
        "id": "rSBoMvifMDd4",
        "outputId": "5da77146-1e58-49cd-e420-8113f9846553"
      },
      "execution_count": 11,
      "outputs": [
        {
          "output_type": "execute_result",
          "data": {
            "text/plain": [
              "   index     lemma  inflection  pl pattern\n",
              "0    177  minaS~ap    minaS~At    mi1a2~At\n",
              "1    270   muDorib  muDoribiyn  mu1o2i3iyn\n",
              "2    307  Eubuw~ap    Eubuw~At    1u2uw~At\n",
              "3    332  rafiyqap    rafiyqAt    1a2iy3At\n",
              "4    355   sAEidap     sawAEid     1awA2i3"
            ],
            "text/html": [
              "\n",
              "  <div id=\"df-13f9e5b9-14c5-48d5-879b-099ee3b77633\">\n",
              "    <div class=\"colab-df-container\">\n",
              "      <div>\n",
              "<style scoped>\n",
              "    .dataframe tbody tr th:only-of-type {\n",
              "        vertical-align: middle;\n",
              "    }\n",
              "\n",
              "    .dataframe tbody tr th {\n",
              "        vertical-align: top;\n",
              "    }\n",
              "\n",
              "    .dataframe thead th {\n",
              "        text-align: right;\n",
              "    }\n",
              "</style>\n",
              "<table border=\"1\" class=\"dataframe\">\n",
              "  <thead>\n",
              "    <tr style=\"text-align: right;\">\n",
              "      <th></th>\n",
              "      <th>index</th>\n",
              "      <th>lemma</th>\n",
              "      <th>inflection</th>\n",
              "      <th>pl pattern</th>\n",
              "    </tr>\n",
              "  </thead>\n",
              "  <tbody>\n",
              "    <tr>\n",
              "      <th>0</th>\n",
              "      <td>177</td>\n",
              "      <td>minaS~ap</td>\n",
              "      <td>minaS~At</td>\n",
              "      <td>mi1a2~At</td>\n",
              "    </tr>\n",
              "    <tr>\n",
              "      <th>1</th>\n",
              "      <td>270</td>\n",
              "      <td>muDorib</td>\n",
              "      <td>muDoribiyn</td>\n",
              "      <td>mu1o2i3iyn</td>\n",
              "    </tr>\n",
              "    <tr>\n",
              "      <th>2</th>\n",
              "      <td>307</td>\n",
              "      <td>Eubuw~ap</td>\n",
              "      <td>Eubuw~At</td>\n",
              "      <td>1u2uw~At</td>\n",
              "    </tr>\n",
              "    <tr>\n",
              "      <th>3</th>\n",
              "      <td>332</td>\n",
              "      <td>rafiyqap</td>\n",
              "      <td>rafiyqAt</td>\n",
              "      <td>1a2iy3At</td>\n",
              "    </tr>\n",
              "    <tr>\n",
              "      <th>4</th>\n",
              "      <td>355</td>\n",
              "      <td>sAEidap</td>\n",
              "      <td>sawAEid</td>\n",
              "      <td>1awA2i3</td>\n",
              "    </tr>\n",
              "  </tbody>\n",
              "</table>\n",
              "</div>\n",
              "      <button class=\"colab-df-convert\" onclick=\"convertToInteractive('df-13f9e5b9-14c5-48d5-879b-099ee3b77633')\"\n",
              "              title=\"Convert this dataframe to an interactive table.\"\n",
              "              style=\"display:none;\">\n",
              "        \n",
              "  <svg xmlns=\"http://www.w3.org/2000/svg\" height=\"24px\"viewBox=\"0 0 24 24\"\n",
              "       width=\"24px\">\n",
              "    <path d=\"M0 0h24v24H0V0z\" fill=\"none\"/>\n",
              "    <path d=\"M18.56 5.44l.94 2.06.94-2.06 2.06-.94-2.06-.94-.94-2.06-.94 2.06-2.06.94zm-11 1L8.5 8.5l.94-2.06 2.06-.94-2.06-.94L8.5 2.5l-.94 2.06-2.06.94zm10 10l.94 2.06.94-2.06 2.06-.94-2.06-.94-.94-2.06-.94 2.06-2.06.94z\"/><path d=\"M17.41 7.96l-1.37-1.37c-.4-.4-.92-.59-1.43-.59-.52 0-1.04.2-1.43.59L10.3 9.45l-7.72 7.72c-.78.78-.78 2.05 0 2.83L4 21.41c.39.39.9.59 1.41.59.51 0 1.02-.2 1.41-.59l7.78-7.78 2.81-2.81c.8-.78.8-2.07 0-2.86zM5.41 20L4 18.59l7.72-7.72 1.47 1.35L5.41 20z\"/>\n",
              "  </svg>\n",
              "      </button>\n",
              "      \n",
              "  <style>\n",
              "    .colab-df-container {\n",
              "      display:flex;\n",
              "      flex-wrap:wrap;\n",
              "      gap: 12px;\n",
              "    }\n",
              "\n",
              "    .colab-df-convert {\n",
              "      background-color: #E8F0FE;\n",
              "      border: none;\n",
              "      border-radius: 50%;\n",
              "      cursor: pointer;\n",
              "      display: none;\n",
              "      fill: #1967D2;\n",
              "      height: 32px;\n",
              "      padding: 0 0 0 0;\n",
              "      width: 32px;\n",
              "    }\n",
              "\n",
              "    .colab-df-convert:hover {\n",
              "      background-color: #E2EBFA;\n",
              "      box-shadow: 0px 1px 2px rgba(60, 64, 67, 0.3), 0px 1px 3px 1px rgba(60, 64, 67, 0.15);\n",
              "      fill: #174EA6;\n",
              "    }\n",
              "\n",
              "    [theme=dark] .colab-df-convert {\n",
              "      background-color: #3B4455;\n",
              "      fill: #D2E3FC;\n",
              "    }\n",
              "\n",
              "    [theme=dark] .colab-df-convert:hover {\n",
              "      background-color: #434B5C;\n",
              "      box-shadow: 0px 1px 3px 1px rgba(0, 0, 0, 0.15);\n",
              "      filter: drop-shadow(0px 1px 2px rgba(0, 0, 0, 0.3));\n",
              "      fill: #FFFFFF;\n",
              "    }\n",
              "  </style>\n",
              "\n",
              "      <script>\n",
              "        const buttonEl =\n",
              "          document.querySelector('#df-13f9e5b9-14c5-48d5-879b-099ee3b77633 button.colab-df-convert');\n",
              "        buttonEl.style.display =\n",
              "          google.colab.kernel.accessAllowed ? 'block' : 'none';\n",
              "\n",
              "        async function convertToInteractive(key) {\n",
              "          const element = document.querySelector('#df-13f9e5b9-14c5-48d5-879b-099ee3b77633');\n",
              "          const dataTable =\n",
              "            await google.colab.kernel.invokeFunction('convertToInteractive',\n",
              "                                                     [key], {});\n",
              "          if (!dataTable) return;\n",
              "\n",
              "          const docLinkHtml = 'Like what you see? Visit the ' +\n",
              "            '<a target=\"_blank\" href=https://colab.research.google.com/notebooks/data_table.ipynb>data table notebook</a>'\n",
              "            + ' to learn more about interactive tables.';\n",
              "          element.innerHTML = '';\n",
              "          dataTable['output_type'] = 'display_data';\n",
              "          await google.colab.output.renderOutput(dataTable, element);\n",
              "          const docLink = document.createElement('div');\n",
              "          docLink.innerHTML = docLinkHtml;\n",
              "          element.appendChild(docLink);\n",
              "        }\n",
              "      </script>\n",
              "    </div>\n",
              "  </div>\n",
              "  "
            ]
          },
          "metadata": {},
          "execution_count": 11
        }
      ]
    },
    {
      "cell_type": "markdown",
      "source": [
        "## **Encoding Datasets (Character-based)**"
      ],
      "metadata": {
        "id": "_g-e8zVR6FP4"
      }
    },
    {
      "cell_type": "code",
      "execution_count": 12,
      "metadata": {
        "id": "N7T6jiEjfAdt",
        "colab": {
          "base_uri": "https://localhost:8080/"
        },
        "outputId": "346f192d-8609-4ff9-d701-1abe1a28f4bc"
      },
      "outputs": [
        {
          "output_type": "stream",
          "name": "stdout",
          "text": [
            "48\n",
            "{'not available char': 0, 'E': 1, 'a': 2, 'm': 3, 'l': 4, '1': 5, '2': 6, '3': 7, '>': 8, 'o': 9, 'A': 10, 'h': 11, 'd': 12, 'f': 13, 'u': 14, 'D': 15, 'w': 16, \"'\": 17, 'j': 18, 'i': 19, 'z': 20, 'p': 21, 'H': 22, 'k': 23, 'n': 24, 'S': 25, 'r': 26, '4': 27, 'q': 28, '~': 29, 'y': 30, 't': 31, 's': 32, '<': 33, 'b': 34, 'v': 35, '|': 36, 'T': 37, '}': 38, 'Z': 39, '{': 40, '&': 41, '$': 42, 'x': 43, '*': 44, 'g': 45, 'Y': 46, 'F': 47}\n"
          ]
        }
      ],
      "source": [
        "# generate character encoding\n",
        "oov_token = 'not available char'\n",
        "char_index = {oov_token: 0}\n",
        "\n",
        "def updateCharIndex(data):\n",
        "  global char_index\n",
        "  # encode input with encoding character set\n",
        "  for i in range(len(data[0])):\n",
        "      chars = list(data[0][i]) + list(data[1][i]) + list(data[3][i]) + list(data[4][i])\n",
        "      for c in chars:\n",
        "          if c not in char_index:\n",
        "              char_index[c] = len(char_index)\n",
        "\n",
        "updateCharIndex(trainData)\n",
        "print(len(char_index))\n",
        "print(char_index)"
      ]
    },
    {
      "cell_type": "code",
      "execution_count": 13,
      "metadata": {
        "id": "pg2zaYXBgGL8",
        "colab": {
          "base_uri": "https://localhost:8080/"
        },
        "outputId": "6e5202a6-34b9-452d-fce5-0cbfbfc90211"
      },
      "outputs": [
        {
          "output_type": "stream",
          "name": "stdout",
          "text": [
            "lemma shape train:  (2748,)\n",
            "lemma shape dev:  (1113,)\n",
            "lemma shape test:  (1076,)\n",
            "max length in lemma elements:  16\n",
            "max length in root elements:  4\n",
            "max length in inflection elements:  17\n"
          ]
        },
        {
          "output_type": "stream",
          "name": "stderr",
          "text": [
            "/usr/local/lib/python3.7/dist-packages/ipykernel_launcher.py:12: VisibleDeprecationWarning: Creating an ndarray from ragged nested sequences (which is a list-or-tuple of lists-or-tuples-or ndarrays with different lengths or shapes) is deprecated. If you meant to do this, you must specify 'dtype=object' when creating the ndarray.\n",
            "  if sys.path[0] == '':\n",
            "/usr/local/lib/python3.7/dist-packages/ipykernel_launcher.py:13: VisibleDeprecationWarning: Creating an ndarray from ragged nested sequences (which is a list-or-tuple of lists-or-tuples-or ndarrays with different lengths or shapes) is deprecated. If you meant to do this, you must specify 'dtype=object' when creating the ndarray.\n",
            "  del sys.path[0]\n",
            "/usr/local/lib/python3.7/dist-packages/ipykernel_launcher.py:14: VisibleDeprecationWarning: Creating an ndarray from ragged nested sequences (which is a list-or-tuple of lists-or-tuples-or ndarrays with different lengths or shapes) is deprecated. If you meant to do this, you must specify 'dtype=object' when creating the ndarray.\n",
            "  \n",
            "/usr/local/lib/python3.7/dist-packages/ipykernel_launcher.py:15: VisibleDeprecationWarning: Creating an ndarray from ragged nested sequences (which is a list-or-tuple of lists-or-tuples-or ndarrays with different lengths or shapes) is deprecated. If you meant to do this, you must specify 'dtype=object' when creating the ndarray.\n",
            "  from ipykernel import kernelapp as app\n",
            "/usr/local/lib/python3.7/dist-packages/ipykernel_launcher.py:16: VisibleDeprecationWarning: Creating an ndarray from ragged nested sequences (which is a list-or-tuple of lists-or-tuples-or ndarrays with different lengths or shapes) is deprecated. If you meant to do this, you must specify 'dtype=object' when creating the ndarray.\n",
            "  app.launch_new_instance()\n"
          ]
        }
      ],
      "source": [
        "# encode words with character encoder\n",
        "def encodeWord(word, dic=char_index, oov=oov_token):\n",
        "    return [dic[c] if c in dic else dic[oov] for c in list(word)]\n",
        "\n",
        "# encode data and get maximum length of features\n",
        "def getEncodedData(data):\n",
        "  '''\n",
        "  Output type->List : 0:lamma | 1:singular pattern | 2:root |3:inflection | 4:plural pattern | 5:plural type(B/S) | 6:gender | 7:rational | 8:number of root\n",
        "  '''\n",
        "\n",
        "  data_encoded = np.copy(data)\n",
        "  data_encoded[0] = np.array([encodeWord(each) for each in data[0]])\n",
        "  data_encoded[1] = np.array([encodeWord(each) for each in data[1]])\n",
        "  data_encoded[2] = np.array([encodeWord(each) for each in data[2]])\n",
        "  data_encoded[3] = np.array([encodeWord(each) for each in data[3]])\n",
        "  data_encoded[4] = np.array([encodeWord(each) for each in data[4]])\n",
        "\n",
        "  lemma_max_len = max([len(each) for each in data_encoded[0]])\n",
        "  root_max_len = max([len(each) for each in data_encoded[2]])\n",
        "  inflection_max_len = max([len(each) for each in data_encoded[3]])\n",
        "\n",
        "  return data_encoded, lemma_max_len, root_max_len, inflection_max_len\n",
        "\n",
        "\n",
        "trainData_encoded, lemma_max_len, root_max_len, inflection_max_len = getEncodedData(trainData)\n",
        "devData_encoded, _, _, _  = getEncodedData(devData)\n",
        "testData_encoded, _, _, _ = getEncodedData(testData)\n",
        "\n",
        "print('lemma shape train: ', trainData_encoded[0].shape)\n",
        "print('lemma shape dev: ', devData_encoded[0].shape)\n",
        "print('lemma shape test: ', testData_encoded[0].shape)\n",
        "print('max length in lemma elements: ', lemma_max_len)\n",
        "print('max length in root elements: ', root_max_len)\n",
        "print('max length in inflection elements: ', inflection_max_len)"
      ]
    },
    {
      "cell_type": "code",
      "execution_count": 14,
      "metadata": {
        "id": "t84a_M5RgWak",
        "colab": {
          "base_uri": "https://localhost:8080/"
        },
        "outputId": "66f34d7e-ba13-4ef4-86fc-8b94914f0620"
      },
      "outputs": [
        {
          "output_type": "stream",
          "name": "stdout",
          "text": [
            "lemma with pad shape train:  (2748, 16)\n",
            "lemma with pad shape dev:  (1113, 16)\n",
            "lemma with pad shape test:  (1076, 16)\n"
          ]
        }
      ],
      "source": [
        "# ADD padding to sample\n",
        "# 0:lamma | 1:singular pattern | 2:root |3:inflection | 4:plural pattern | 5:plural type(B/S) | 6:gender | 7:rational \n",
        "def getPaddedData(encodedData, lemma_max_len, root_max_len, inflection_max_len):\n",
        "  data_pad = []\n",
        "  data_pad.append(np.array(pad_sequences(encodedData[0], maxlen=lemma_max_len, padding='post'))) \n",
        "  data_pad.append(np.array(pad_sequences(encodedData[1], maxlen=lemma_max_len, padding='post')))\n",
        "  data_pad.append(np.array(pad_sequences(encodedData[2], maxlen=root_max_len, padding='post')))\n",
        "  data_pad.append(np.array(pad_sequences(encodedData[3], maxlen=inflection_max_len, padding='post')))\n",
        "  data_pad.append(np.array(pad_sequences(encodedData[4], maxlen=inflection_max_len, padding='post')))\n",
        "  data_pad.append(encodedData[5])\n",
        "  data_pad.append(encodedData[6])\n",
        "  data_pad.append(encodedData[7])\n",
        "  data_pad.append(encodedData[8])\n",
        "\n",
        "  return data_pad\n",
        "\n",
        "trainData_pad = getPaddedData(trainData_encoded, lemma_max_len, root_max_len, inflection_max_len)\n",
        "devData_pad = getPaddedData(devData_encoded, lemma_max_len, root_max_len, inflection_max_len)\n",
        "testData_pad = getPaddedData(testData_encoded, lemma_max_len, root_max_len, inflection_max_len)\n",
        "\n",
        "print('lemma with pad shape train: ', trainData_pad[0].shape)\n",
        "print('lemma with pad shape dev: ', devData_pad[0].shape)\n",
        "print('lemma with pad shape test: ', testData_pad[0].shape)"
      ]
    },
    {
      "cell_type": "markdown",
      "metadata": {
        "id": "GOz6rMhcCHXo"
      },
      "source": [
        "### **Create inputs of neural network**"
      ]
    },
    {
      "cell_type": "code",
      "execution_count": 15,
      "metadata": {
        "id": "moNhyuol4RMk",
        "colab": {
          "base_uri": "https://localhost:8080/"
        },
        "outputId": "81b53c2a-cc58-43be-a6cb-56690bf33ffd"
      },
      "outputs": [
        {
          "output_type": "stream",
          "name": "stdout",
          "text": [
            "X_train_lemma shape:  (2748, 16)\n",
            "X_train_singularPattern shape:  (2748, 16)\n",
            "X_train_root shape:  (2748, 4)\n",
            "X_train_genRat shape:  (2748, 2)\n",
            "X_train_numOfRoot shape:  (2748, 1)\n",
            "y_train_class shape:  (2748, 1)\n",
            "y_train_plPattern shape:  (2748, 17)\n",
            "y_train_unflection shape:  (2748, 17)\n"
          ]
        }
      ],
      "source": [
        "# 0:lamma | 1:singular pattern | 2:root |3:inflection | 4:plural pattern | 5:plural type(B/S) | 6:gender | 7:rational | 8:number of root\n",
        "# create train set\n",
        "X_train_lemma = trainData_pad[0]  # lemma feature\n",
        "X_train_singularPattern = trainData_pad[1]  # singular pattern feature\n",
        "X_train_root = trainData_pad[2]  # root feature\n",
        "X_train_genRat = np.stack((trainData_pad[6], trainData_pad[7]), axis=-1)  # gender & rational features\n",
        "X_train_numOfRoot = trainData_pad[8].reshape((trainData_pad[8].shape[0], -1))  # number of root\n",
        "\n",
        "y_train_class = trainData_pad[5].reshape((trainData_pad[5].shape[0], -1))  # broken or sound classes\n",
        "y_train_plPattern = trainData_pad[4]  # plural pattern\n",
        "y_train_inflection = trainData_pad[3]  # inflection\n",
        "\n",
        "# create dev set\n",
        "X_dev_lemma = devData_pad[0]  # lemma feature\n",
        "X_dev_singularPattern = devData_pad[1]  # singular pattern feature\n",
        "X_dev_root = devData_pad[2]  # root feature\n",
        "X_dev_genRat = np.stack((devData_pad[6], devData_pad[7]), axis=-1)  # gender & rational features\n",
        "X_dev_numOfRoot = devData_pad[8].reshape((devData_pad[8].shape[0], -1))  # number of root\n",
        "\n",
        "y_dev_class = devData_pad[5].reshape((devData_pad[5].shape[0], -1))  # broken or sound classes\n",
        "y_dev_plPattern = devData_pad[4]  # plural pattern\n",
        "y_dev_inflection = devData_pad[3]  # inflection\n",
        "\n",
        "# create test set\n",
        "X_test_lemma = testData_pad[0]  # lemma feature\n",
        "X_test_singularPattern = testData_pad[1]  # singular pattern feature\n",
        "X_test_root = testData_pad[2]  # root feature\n",
        "X_test_genRat = np.stack((testData_pad[6], testData_pad[7]), axis=-1)  # gender & rational features\n",
        "X_test_numOfRoot = testData_pad[8].reshape((testData_pad[8].shape[0], -1))  # number of root\n",
        "\n",
        "y_test_class = testData_pad[5].reshape((testData_pad[5].shape[0], -1))  # broken or sound classes\n",
        "y_test_plPattern = testData_pad[4]  # plural pattern\n",
        "y_test_inflection = testData_pad[3]  # inflection\n",
        "\n",
        "print('X_train_lemma shape: ', X_train_lemma.shape)\n",
        "print('X_train_singularPattern shape: ', X_train_singularPattern.shape)\n",
        "print('X_train_root shape: ', X_train_root.shape)\n",
        "print('X_train_genRat shape: ', X_train_genRat.shape)\n",
        "print('X_train_numOfRoot shape: ', X_train_numOfRoot.shape)\n",
        "print('y_train_class shape: ', y_train_class.shape)\n",
        "print('y_train_plPattern shape: ', y_train_plPattern.shape)\n",
        "print('y_train_unflection shape: ', y_train_inflection.shape)"
      ]
    },
    {
      "cell_type": "code",
      "execution_count": 16,
      "metadata": {
        "id": "aPdGFMk81RY8",
        "colab": {
          "base_uri": "https://localhost:8080/"
        },
        "outputId": "1e5672f8-897e-4c27-cfa3-422143c3ef7b"
      },
      "outputs": [
        {
          "output_type": "stream",
          "name": "stdout",
          "text": [
            "(2748, 16, 48)\n",
            "(2748, 16, 48)\n",
            "(2748, 4, 48)\n",
            "(2748, 17, 48)\n",
            "(2748, 17, 48)\n"
          ]
        }
      ],
      "source": [
        "# Convert to ONE-HOT encoding\n",
        "X_train_lemma_OH = to_categorical(X_train_lemma, len(char_index))\n",
        "X_train_singularPattern_OH = to_categorical(X_train_singularPattern, len(char_index))\n",
        "X_train_root_OH = to_categorical(X_train_root, len(char_index))\n",
        "\n",
        "X_dev_lemma_OH = to_categorical(X_dev_lemma, len(char_index))\n",
        "X_dev_singularPattern_OH = to_categorical(X_dev_singularPattern, len(char_index))\n",
        "X_dev_root_OH = to_categorical(X_dev_root, len(char_index))\n",
        "\n",
        "X_test_lemma_OH = to_categorical(X_test_lemma, len(char_index))\n",
        "X_test_singularPattern_OH = to_categorical(X_test_singularPattern, len(char_index))\n",
        "X_test_root_OH = to_categorical(X_test_root, len(char_index))\n",
        "\n",
        "y_train_plPattern_OH = to_categorical(y_train_plPattern, len(char_index))\n",
        "y_dev_plPattern_OH = to_categorical(y_dev_plPattern, len(char_index))\n",
        "y_test_plPattern_OH = to_categorical(y_test_plPattern, len(char_index))\n",
        "\n",
        "y_train_inflection_OH = to_categorical(y_train_inflection, len(char_index))\n",
        "y_dev_inflection_OH = to_categorical(y_dev_inflection, len(char_index))\n",
        "y_test_inflection_OH = to_categorical(y_test_inflection, len(char_index))\n",
        "\n",
        "print(X_train_lemma_OH.shape)\n",
        "print(X_train_singularPattern_OH.shape)\n",
        "print(X_train_root_OH.shape)\n",
        "print(y_train_plPattern_OH.shape)\n",
        "print(y_train_inflection_OH.shape)"
      ]
    },
    {
      "cell_type": "code",
      "execution_count": 17,
      "metadata": {
        "id": "yVSLXq6_j4Xe"
      },
      "outputs": [],
      "source": [
        "# covern numerical inputs to int32\n",
        "X_train_genRat = np.asarray(X_train_genRat).astype('int32')\n",
        "X_train_numOfRoot = np.asarray(X_train_numOfRoot).astype('int32')\n",
        "X_dev_genRat = np.asarray(X_dev_genRat).astype('int32')\n",
        "X_dev_numOfRoot = np.asarray(X_dev_numOfRoot).astype('int32')\n",
        "X_test_genRat = np.asarray(X_test_genRat).astype('int32')\n",
        "X_test_numOfRoot = np.asarray(X_test_numOfRoot).astype('int32')\n",
        "\n",
        "y_train_class = np.asarray(y_train_class).astype('int32')\n",
        "y_dev_class = np.asarray(y_dev_class).astype('int32')\n",
        "y_test_class = np.asarray(y_test_class).astype('int32')"
      ]
    },
    {
      "cell_type": "markdown",
      "metadata": {
        "id": "g4MC1JT3TSec"
      },
      "source": [
        "# **Helper Functions**"
      ]
    },
    {
      "cell_type": "code",
      "source": [
        "from collections import Counter\n",
        "# 0:lamma | 1:singular pattern | 2:root |3:inflection | 4:plural pattern | 5:plural type(B/S) | 6:gender | 7:rational \n",
        "def getDuplicateIndexes(data):\n",
        "  dupindex={}\n",
        "  for i in range(len(data[0])):\n",
        "    if dupindex.get(data[0][i])==None:\n",
        "      dupindex[data[0][i]]=[]\n",
        "    dupindex[data[0][i]].append(i)\n",
        "\n",
        "  return dupindex\n",
        "\n",
        "def reportErrorAnalysis_duplicates(dataframe,dicDup,path):\n",
        "  df=dataframe.loc[[]]\n",
        "  \n",
        "  indexes=[]\n",
        "  for key, value in dicDup.items():\n",
        "    for x in value:\n",
        "      n=len(df)\n",
        "      indexes.append(x)\n",
        "      df.loc[n]=dataframe.loc[x]\n",
        "  df.insert(0, \"index\", indexes, True)\n",
        "  df.to_csv(path)\n",
        "  return df\n",
        "\n",
        "def getUniqueNumpy(data,dicDup):\n",
        "  \n",
        "  dic=Counter(data[0])\n",
        "  out=[]\n",
        "  out_np=[]\n",
        "  for i in range(len(data)):out.append([])\n",
        "  for key, value in dicDup.items():\n",
        "    for k in range(len(data)):\n",
        "      out[k].append(data[k][value[0]])\n",
        "  for i in range(data[0].shape[0]):\n",
        "    if dic[data[0][i]] == 1:\n",
        "      for k in range(len(data)):\n",
        "        out[k].append(data[k][i])\n",
        "  for i in range(len(out)):out_np.append(np.array(out[i]))\n",
        "  return out\n",
        "  \n",
        "\n",
        "trainDupIndex=getDuplicateIndexes(trainData)\n",
        "print(trainDupIndex)\n",
        "print(len(trainDupIndex))\n",
        "#uniqueTrainCsv=reportErrorAnalysis_duplicates(train_csv,dupindex,dataPath+\"/duplicateAnalyssis_train.csv\")\n",
        "#trainData=getUniqueNumpy(trainData,dupindex)\n",
        "print('unique: ',len(trainData[0]))\n",
        "\n",
        "devDupIndex=getDuplicateIndexes(devData)\n",
        "print(devDupIndex)\n",
        "print(len(devDupIndex))\n",
        "#uniqueTrainCsv=reportErrorAnalysis_duplicates(dev_csv,dupindex,dataPath+\"/duplicateAnalyssis_dev.csv\")\n",
        "#devData=getUniqueNumpy(devData,dupindex)\n",
        "print('unique: ',len(devData[0]))\n",
        "\n",
        "testDupindex=getDuplicateIndexes(testData)\n",
        "print(testDupindex)\n",
        "print(len(testDupindex))\n",
        "#uniqueTrainCsv=reportErrorAnalysis_duplicates(test_csv,dupindex,dataPath+\"/duplicateAnalyssis_test.csv\")\n",
        "#testData=getUniqueNumpy(testData,dupindex)\n",
        "print('unique: ',len(testData[0]))\n",
        "\n",
        "\n",
        "#uniqueTrainCsv.head()\n",
        "\n",
        "#Generate lemma-inflection refrence\n",
        "dic_lemmaInflection={}\n",
        "for key, value in trainDupIndex.items():\n",
        "  if dic_lemmaInflection.get(key)==None:\n",
        "    dic_lemmaInflection[key]=[]\n",
        "  for x in value : \n",
        "    if not trainData[3][x] in dic_lemmaInflection[key]: dic_lemmaInflection[key].append(trainData[3][x])\n",
        "\n",
        "for key, value in testDupindex.items():\n",
        "  if dic_lemmaInflection.get(key)==None:\n",
        "    dic_lemmaInflection[key]=[]\n",
        "  for x in value : \n",
        "    if not testData[3][x] in dic_lemmaInflection[key]: dic_lemmaInflection[key].append(testData[3][x])\n",
        "\n",
        "for key, value in devDupIndex.items():\n",
        "  if dic_lemmaInflection.get(key)==None:\n",
        "    dic_lemmaInflection[key]=[]\n",
        "  for x in value : \n",
        "    if not devData[3][x] in dic_lemmaInflection[key]: dic_lemmaInflection[key].append(devData[3][x])\n",
        "\n"
      ],
      "metadata": {
        "colab": {
          "base_uri": "https://localhost:8080/"
        },
        "id": "PtI4-1PCuFcB",
        "outputId": "c8e7f9b8-260e-4777-9659-93a26b8b5865"
      },
      "execution_count": 37,
      "outputs": [
        {
          "output_type": "stream",
          "name": "stdout",
          "text": [
            "{'Eamal': [0], 'hadaf': [1], 'EuDow': [2, 796, 1565], 'jihAz': [3, 676], 'Hukom': [4], 'EunoSur': [5], 'Haq~': [6], 'maSolaHap': [7], 'Eamaliy~ap': [8], 'farod': [9], 'siEor': [10], '<imokAn': [11], \"<ijorA'\": [12], 'mawoqif': [13], 'jahod': [14], 'quw~ap': [15, 288, 912, 1595, 1761, 1768, 1778], 'EalAqap': [16], 'sabab': [17], 'Sawot': [18], 'qarAr': [19], 'silAH': [20, 389], '>avar': [21], 'Tifol': [22], 'Hadav': [23], 'balad': [24, 100], 'natiyjap': [25], 'Zarof': [26], '{it~iSAl': [27], 'waDoE': [28], 'mu&as~asap': [29], 'TAlib': [30, 661, 1084, 1303, 2602, 2603], 'fikor': [31], 'niZAm': [32, 868, 1102], 'taSoriyH': [33, 1171], '>aroD': [34, 1167], 'tahodiyd': [35], 'dawolap': [36, 448], 'walad': [37], 'mAl': [38], 'baronAmaj': [39], 'yawom': [40], 'ma$oruwE': [41, 1332], 'Had~': [42], 'Taraf': [43], 'mAd~ap': [44], 'SAHib': [45, 2460], '{inotixAb': [46], '$aEob': [47], 'jaw~': [48, 2305], 'maTolab': [49], 'TA}irap': [50], 'HuDuwr': [51], 'minoTaqap': [52], '>ax': [53, 524, 1162], '>usoluwb': [54], 'siyAsap': [55], '$aroT': [56], 'jariymap': [57], '$arikap': [58], 'hajomap': [59], \"mA'\": [60, 1317], 'nA}ib': [61], 'qAEidap': [62], 'HAjap': [63], '>amor': [64, 378], 'Suwrap': [65, 642], 'waraq': [66], 'xidomap': [67], 'qiymap': [68], '{ibon': [69, 432, 719], 'muHAdavap': [70], '$axoS': [71, 1260], '|liy~ap': [72], 'muno$a>ap': [73], 'say~Arap': [74], 'maSodar': [75], 'waziyr': [76, 1968], 'qaDiy~ap': [77], 'xasArap': [78], 'suwq': [79], 'na$AT': [80, 182, 2448], 'maEoluwm': [81], 'tafoSiyl': [82], 'rajul': [83, 1696], 'DAbiT': [84, 544], 'mu$okilap': [85, 180], 'rukon': [86], 'EA}ilap': [87], 'suloTap': [88], 'kitAb': [89], 'qAnuwn': [90], 'taHar~uk': [91], '>amal': [92], 'HAdiv': [93], 'qiboTiy~': [94, 2516], 'Hizob': [95], 'bayAn': [96], '>anoSAr': [97], 'wasaT': [98], 'wilAyap': [99], 'sAkin': [101], 'kalimap': [102], '{isotivomAr': [103], 'mubArAp': [104], 'dirAsap': [105], 'SAruwx': [106], 'raqom': [107], '{it~ifAq': [108], 'maso&uwl': [109, 948, 950, 1052], 'Earabiy~': [110], 'naba>': [111], '{ijotimAE': [112], \"liqA'\": [113], 'wajoh': [114], 'mufAwaDap': [115], '$ab~': [116], '$a>on': [117, 1308], '{isom': [118, 1223, 1826], '>usotA*': [119, 1415], '>aSol': [120], 'ma$oEar': [121], 'furoSap': [122], 'wasiylap': [123, 1048], 'muhim~ap': [124], 'Hukuwmap': [125], '<irohAbiy~': [126, 1853], 'munaZ~amap': [127], 'baHov': [128, 493], 'Eaqod': [129], 'HAkim': [130], 'taZAhurap': [131], 'xabiyr': [132, 1647], 'maxAfap': [133], 'taTaw~ur': [134], 'sabiyl': [135], 'Eadad': [136], 'ra}iys': [137, 1754], 'mawoDuwE': [138, 285], 'qudorap': [139], 'jamoEiy~ap': [140], 'EAmil': [141, 449, 634, 1834, 1837], 'rasom': [142], 'jihap': [143], 'HisAb': [144], 'junodiy~': [145], 'nawoE': [146], 'qiTAE': [147], 'taHoqiyq': [148], 'hayo}ap': [149], 'qA}id': [150, 636, 2563], 'tajoribap': [151], 'tawoSiyap': [152], 'DagoT': [153, 1205], 'maboda>': [154], \"{iEotidA'\": [155], 'maHaT~ap': [156], 'dam': [157, 1553, 2103], 'maxATir': [158], 'xaTowap': [159, 377, 1642], 'madiynap': [160, 2360], 'daEowap': [161], 'manozil': [162], 'muHAwalap': [163, 1717], 'muEad~': [164], 'xabar': [165], 'madorasap': [166], 'yahuwdiy~': [167], 'faSiyl': [168], '$iEAr': [169], 'Tariyq': [170, 1035], 'waHodap': [171, 1865], \"Eibo'\": [172], 'Harakap': [173], '$akol': [174], '<iSolAH': [175], 'taSar~uf': [176], 'sahom': [177], 'xilAf': [178], 'miEoyAr': [179], '>um~ap': [181], 'xaT~': [183], 'nAs': [184], 'daliyl': [185, 818], 'ra>oy': [186, 1569], '$ahiyd': [187, 2018, 2022], 'rAkib': [188], 'masiyHiy~': [189, 931, 2106], 'musolim': [190, 1217], 'ramoz': [191], 'maSoraf': [192], 'marokaz': [193], 'muwATin': [194, 384, 2481], 'mulAHaZap': [195], 'jamAEap': [196], 'sAEap': [197], 'Euquwbap': [198], 'riHolap': [199], 'tadobiyr': [200], 'munAqa$ap': [201], 'qaSiydap': [202], 'ra>os': [203], 'maso&uwliy~ap': [204, 2104], 'yad': [205, 1602, 1646, 1929], 'qalob': [206], 'taSofiyap': [207], '>azomap': [208], 'EAlim': [209], '>asAs': [210], 'xuT~ap': [211], '{it~ihAm': [212], 'firoqap': [213], 'riboH': [214], 'Haliyf': [215, 972, 1354], \"nisA'\": [216, 2540, 2542], 'xaTa>': [217], 'lajonap': [218], 'Harob': [219], 'lawon': [220], 'SAdir': [221], 'Hamolap': [222], 'mujotamaE': [223], '$ajarap': [224], 'banod': [225], \"dawA'\": [226], 'musAEadap': [227], 'dAfiE': [228], 'munotaj': [229], 'muwAjahap': [230], 'EA}id': [231], 'mumArasap': [232], 'EaroD': [233], 'Darar': [234], 'musotawoTanap': [235], 'mutamar~id': [236, 2454], 'Sadiyq': [237, 452, 736], '<isolAmiy~': [238, 1881], '{inotihAk': [239], 'fAEiliy~ap': [240], 'manohaj': [241], 'SaHiyfap': [242], '<iyrAd': [243], 'taZAhur': [244], '>awolawiy~ap': [245, 1996], 'qiyAdap': [246], '<iEolAn': [247], 'tAjir': [248], 'milaf~ap': [249], 'qADiy': [250], '>amoriykiy~': [251, 530, 1453, 1454, 2067], 'nuqoTap': [252], 'baTal': [253, 2216], '$abakap': [254, 363], 'lAji}': [255, 2291], 'muHAmiy': [256, 1011], 'Haqiyqap': [257], 'naS~': [258], 'mawoqiE': [259], 'bAb': [260], 'makAn': [261, 1594], 'waqiyEap': [262], 'taqoriyr': [263], 'maHokamap': [264], 'Darobap': [265], 'ji*or': [266], 'majomuwEap': [267], 'sanap': [268, 772], 'maqoEad': [269], 'dayon': [270], 'musotavomir': [271, 2695], 'Hulom': [272], 'Tabaqap': [273], 'muwASafap': [274], 'muxay~am': [275], 'muEoTaY': [276], 'katiybap': [277], 'HAlap': [278], 'bayot': [279, 1081, 2243], 'kam~iy~ap': [280], 'mivol': [281], 'maworid': [282], 'mawoEid': [283], 'qaroD': [284], 'Eayon': [286, 626, 2522], 'dab~Abap': [287], 'jiyl': [289], 'jAmiEap': [290], 'Ealam': [291], 'Hal~': [292], 'tadoriyb': [293], \"<iHoSA'\": [294], 'waEod': [295], '>usobuwE': [296], '>ahol': [297, 2081, 2082], '{iqotirAH': [298], 'tanoZiym': [299], 'zaEiym': [300, 1561], 'ta$oriyE': [301], 'taEowiyD': [302], 'tuhomap': [303], 'tilomiy*': [304, 891, 892, 1902], 'tay~Ar': [305], '{ihotimAm': [306], 'maroHalap': [307], 'dA}irap': [308], 'dAr': [309, 383], 'damoE': [310], 'qiToEap': [311], 'Easokariy~': [312, 1750], 'maqAl': [313], 'xiyAr': [314], '$axoSiy~ap': [315], 'majozarap': [316], 'majAl': [317], '{iHotifAl': [318], '>ufuq': [319], '{iHotimAl': [320], '>um~': [321, 1985], '$ugol': [322], 'DaHiy~ap': [323], 'taTal~uE': [324], 'SuEuwbap': [325], 'tawaq~uE': [326, 1886], 'Hay~': [327], 'SaHAfiy~': [328, 2689], 'SalAp': [329], 'mura$~aH': [330, 332, 2738, 2740], 'varowap': [331], 'munotaxab': [333], 'munAwarap': [334], 'mu&a$~ir': [335], 'namaT': [336], 'TA}ifap': [337], 'wafod': [338], '<ilof': [339], 'waviyqap': [340, 1965], 'wikAlap': [341, 1531], 'maEonawiy~': [342], 'mu&otamar': [343], 'risAlap': [344], 'masoEaY': [345, 1051], 'maEolam': [346], \"juzo'\": [347, 1330], 'funoduq': [348], 'sA}iH': [349, 1812], '{isotiTolAE': [350], '{imotiHAn': [351], '{isotiEodAd': [352], '$Ahid': [353], '|lap': [354], '*ikoraY': [355], 'minoHap': [356], 'xuTobap': [357], '<imArap': [358], '>aromaniy~': [359], 'kAtib': [360], 'mubAdarap': [361], 'TumuwH': [362], 'bAHiv': [364], 'muHADarap': [365], 'qanAp': [366, 2509], '<iSobaE': [367], 'mu$Arik': [368, 2254], '<iSAbap': [369], 'muEad~al': [370], 'kitAbap': [371], 'Tabiyb': [372], 'baladiy~ap': [373], 'balodap': [374], 'tadAEiy': [375], 'lAEib': [376, 492, 1261, 1408], 'mu$Awarap': [379], 'muhanodis': [380, 2644], 'say~idap': [381], 'kAhin': [382], 'muwaZ~af': [385, 553, 1397, 1403, 1418], 'siloEap': [386], 'muxaT~aT': [387], 'mutaZAhir': [388], 'nAr': [390], 'jaziyrap': [391], 'musotawaY': [392], 'vAbitap': [393], 'taqoniy~ap': [394], 'Saf~': [395], 'su&Al': [396, 2023], 'Dariybap': [397], 'jA}izap': [398], 'SinAEap': [399, 2715], 'sik~ap': [400], 'wAjib': [401], 'munAsabap': [402], 'nafas': [403], 'sifArap': [404], 'mumotalak': [405], 'mumav~il': [406, 407, 1306], '<inojAz': [408], 'EAm': [409], 'EunowAn': [410], 'qayod': [411], 'ziyArap': [412], 'taHaw~ul': [413], 'diroE': [414], 'diyn': [415], '$ayox': [416, 1350], 'manoSib': [417], 'makotab': [418], 'garaD': [419], 'rAbiTap': [420, 598], 'mafohuwm': [421], '>unomulap': [422], 'EaqAr': [423], 'madaniy~': [424], 'mabolag': [425], 'mabiyE': [426], 'maZohar': [427], 'fi}ap': [428], '{ilotizAm': [429], 'ma>osAp': [430], 'rahiynap': [431], 'maEoriD': [433], 'taEobiyr': [434], 'Eaduw~': [435, 955, 1346], 'maEorakap': [436], 'ruwH': [437], 'taEad~iy': [438], 'rifoqap': [439], 'gAyap': [440], 'taEoziyz': [441], 'tasowiyap': [442], 'zA}ir': [443, 1587], 'maso>alap': [444], '$ahor': [445, 1001], 'masiyrap': [446], 'daqiyqap': [447], '$AEir': [450], '{iHotiyATiy~': [451], 'Sador': [453], '$ariyT': [454, 1376, 2052], 'maSonaE': [455], 'murAqib': [456, 1512], '{iHotikAr': [457], 'faroE': [458], 'SidAm': [459], 'muqad~as': [460], 'faqiyr': [461], '*axiyrap': [462], 'fatorap': [463], 'jumohuwr': [464], 'musotawoTin': [465, 2691, 2692, 2693], '{inotiqAd': [466], 'Hiyn': [467], 'tawojiyh': [468, 1893], \"{inotimA'\": [469], 'muvaq~af': [470, 2483], 'mut~aham': [471], 'Hur~iy~ap': [472], 'mutafaj~ir': [473], '$Ab~': [474], 'mawoTin': [475], 'jalosap': [476], 'mutaTal~ab': [477], 'lAfitap': [478], 'xiborap': [479], 'jAr': [480], 'Sunoduwq': [481], 'maToEam': [482], 'xaSom': [483, 1628], 'muSad~ir': [484], '{inoEikAs': [485], '<idArap': [486], '<iTAr': [487, 1588], 'kabiyr': [488], '{iDoTirAb': [489], 'muEotaqal': [490, 2208, 2209], 'maraD': [491], 'muEaw~iq': [494], 'muDAEafap': [495], 'muEAriD': [496, 573, 2184], 'mubAHavap': [497], '$ak~': [498], 'dawor': [499], 'faE~Aliy~ap': [500], 'kul~iy~ap': [501], 'fan~An': [502, 1624, 2364], 'biDAEap': [503], '<i$Arap': [504], 'zamiyl': [505, 628, 1716], 'TAqap': [506], 'mukaw~in': [507], 'xaTar': [508], 'majolis': [509], 'wadiyEap': [510, 1872], 'fiEol': [511], 'fA}idap': [512], '<i*AEap': [513], 'sir~': [514], 'mirofaq': [515], 'TamaE': [516], 'Eilom': [517], 'taHo*iyr': [518], 'takoliyf': [519, 862], 'taHad~iy': [520], 'taDoHiyap': [521], 'taHaf~uZ': [522], 'qunobulap': [523], '>alam': [525], '>adab': [526], 'qA}imap': [527], 'safiyr': [528], 'nAdiy': [529, 649], 'EibArap': [531], 'taHoDiyr': [532], 'sijon': [533], 'niqAbap': [534], 'nafos': [535, 1375], '>adAp': [536], 'sanad': [537], 'sajiyn': [538], '>aqorab': [539], 'tarotiyb': [540], 'ta>oviyr': [541], 'niy~ap': [542, 872], 'taEoliyq': [543], 'tasA&ul': [545], 'rafiyq': [546], 'raSiyd': [547], '>ugoniyap': [548, 1490, 1989, 1991], '>ajonabiy~': [549], 'rAtib': [550], 'Eamiyl': [551, 1149], 'taEodiyl': [552], 'Dayof': [554], 'siyAsiy~': [555, 1440], 'tagoyiyr': [556], 'Eumor': [557], '<ifAdap': [558], 'tajam~uE': [559], 'muEal~im': [560, 876, 1703], 'kurap': [561], 'EASimap': [562], 'misAHap': [563], 'Eumoq': [564], 'muSaw~ir': [565, 2627], 'buEod': [566], 'qadiym': [567], 'muHar~ik': [568], '>amiyr': [569], 'mu$otaq~': [570], 'bArijap': [571], 'kaniysap': [572], 'badiyl': [574], 'kasor': [575], 'gurofap': [576], 'tajAwuz': [577], 'HAjiz': [578], 'wasiyT': [579], 'EASifap': [580], 'muHaq~iq': [581], 'mu*ak~irap': [582], \"{id~iEA'\": [583], 'wizArap': [584], 'HaDArap': [585], 'Eurof': [586], 'HAl': [587], 'miSoriy~': [588, 2236], '$A$ap': [589], 'kutolap': [590], 'xir~iyj': [591, 801], 'sA}iq': [592, 1121, 1848], 'ma$ohad': [593], 'malomaH': [594], 'malobas': [595], 'malik': [596], 'makosab': [597], 'rAhibap': [599], '{iEotiqAl': [600], 'taEoziyap': [601], '>unobuwb': [602], 'madoxuwl': [603], '{iEotirAf': [604], 'rA}id': [605, 1789], 'fan~': [606], 'taEoyiyn': [607], 'taEAmul': [608], 'maTar': [609], 'faraH': [610], 'riwAyap': [611], 'fataY': [612], 'gArap': [613], 'diyAnap': [614], 'dalAlap': [615], 'qamar': [616], 'qaroyap': [617, 953, 2496], 'qawol': [618, 1529], '>usorap': [619], '>usoquf': [620], 'matAEib': [621], 'EirAqiy~': [622], 'lA}iHap': [623], 'lagom': [624], 'darajap': [625], 'daros': [627], 'zar~AE': [629], 'daworap': [630], '$ahAdap': [631], 'mar~ap': [632], '{i$otibAk': [633], 'muSoTAf': [635], '$AriE': [637], 'SalAHiy~ap': [638], '{it~iHAd': [639], 'wahom': [640], 'Talab': [641], '{isotixobAr': [643], 'tamoriyn': [644], 'jayo$': [645], 'mujorim': [646, 2594], 'mutaTaw~iE': [647], 'jayob': [648], 'mutaEAmil': [650], 'muta$ad~id': [651], 'Hadiyv': [652], 'TAri}ap': [653], 'vugorap': [654, 1856], 'taqoliyd': [655], 'Safoqap': [656], 'najom': [657], 'SafoHap': [658], '<iyqAE': [659], 'vamar': [660], 'hutAf': [662], 'Hakam': [663], 'musota$ofaY': [664], 'jidAr': [665], 'nafaqap': [666], 'muhAjir': [667], 'juroH': [668, 1264], 'muhAjim': [669, 2647], '<iyjAbiy~': [670], 'TaroH': [671], 'tawAzun': [672], 'nA$iT': [673, 1125], 'jawAb': [674], 'jawolap': [675], 'jAnib': [677], 'DamAn': [678], 'DamAnap': [679], 'juv~ap': [680], 'Hariyq': [681], 'nihA}iy~': [682], 'Taqos': [683], '{it~ijAh': [684], 'saEuwdiy~': [685, 1794], 'murAsil': [686, 2741, 2743], 'Haqol': [687], 'maqoTaE': [688], 'taqodiymAt': [689], 'lawoH': [690], 'quTor': [691], 'darob': [692], '>ab': [693, 1363, 2044], 'lawoHap': [694], 'taqodiyr': [695], 'qisoT': [696], 'murotakib': [697, 1493, 2707], 'musal~aH': [698], 'EAqibap': [699], 'marojiE': [700], 'Saqor': [701], '>awojuh': [702], 'jabal': [703], 'musAhamap': [704], 'marosam': [705], 'EiSAbap': [706], 'musAbaqap': [707], 'safiynap': [708], 'musotalozam': [709], 'naSiyHap': [710], 'faroq': [711], '{ixotibAr': [712], '$ariyk': [713, 1239, 2054], 'muxotabar': [714], 'maSoruwf': [715], 'muxAlafap': [716], 'taEoqiyd': [717], 'EalAmap': [718], 'fatAp': [720], 'Hayoviy~ap': [721], 'taEoliym': [722, 724], 'maHal~': [723, 905], 'maEorifap': [725], 'taEah~ud': [726], 'fayaDAn': [727], 'maEoniy~': [728], 'maEonaY': [729], '{iHotijAj': [730], '>uSuwliy~': [731, 1992], 'Harof': [732, 1119], 'zamAn': [733, 1871], 'manoduwb': [734, 914, 2174], 'Earoqalap': [735], 'musotanad': [737], 'taro$iyH': [738], 'turokiy~': [739, 1908], 'sAHap': [740], 'fAtuwrap': [741], 'mutaTar~if': [742, 1434], 'EaSab': [743], 'musotaworid': [744, 1417, 2690], 'musotaxodam': [745, 2665], '{ikoti$Af': [746], '>u*un': [747], 'maham~ap': [748], 'faHoS': [749], '>asiyr': [750, 1514], 'EaZom': [751], '{iqotiSAd': [752], \"<ino$A'\": [753], 'tagay~ur': [754], 'wisAm': [755], 'qAtil': [756, 2566], '<iDorAb': [757], 'banok': [758], 'suwriy~': [759], 'HAfilap': [760], '{iqotiSAdiy~': [761, 2010, 2013], 'mu&omin': [762], 'munAfasap': [763], 'mu&al~af': [764], 'waZiyfap': [765], 'Hafolap': [766], 'qim~ap': [767], 'Euqob': [768], 'Eumuwm': [769], 'biTAqap': [770], 'najAH': [771], 'ham~': [773], 'niEomap': [774], 'baH~Arap': [775], \"nidA'\": [776], 'muSal~iy': [777], 'mubar~ir': [778], 'Zil~': [779], 'mudAfiE': [780], 'nisobap': [781], 'muHal~il': [782], 'hayokal': [783], 'muHAfiZ': [784], 'muHAfaZap': [785], 'kAdir': [786], 'muHADir': [787], 'ba*or': [788], 'nizAE': [789], 'nufAyap': [790], 'muEotaqad': [791], '>ajiyr': [792], 'mu$Ahid': [793, 2256], 'mu&Amarap': [794], 'Haqiybap': [795], '$uEAE': [797], 'mawoquwf': [798], 'tanAzul': [799], '<i$AEap': [800], 'naZar': [802], 'miHowar': [803], 'salobiy~': [804], 'tasohiyl': [805], 'muqAtil': [806, 809, 2719], 'SirAE': [807], 'matoHaf': [808], 'jisor': [810], \"Dawo'\": [811], 'maziy~ap': [812], 'laHoZap': [813], 'muqiym': [814], 'mitor': [815, 2223], 'wArid': [816, 1862], 'Eumolap': [817], 'milok': [819], 'Daruwrap': [820], 'bi}or': [821], '*ihon': [822], 'jariyH': [823], 'mifotAH': [824], 'midofaE': [825], 'muTorAn': [826], 'munaf~i*': [827, 1471], 'buTuwlap': [828], 'kalob': [829], 'maEomal': [830], '{isotiHoqAq': [831], 'jar~Afap': [832], 'laqab': [833], 'say~id': [834, 1198], '{igotiyAl': [835], \"{ifotirA'\": [836], '{ixotiSAS': [837], 'sulaHofAp': [838], 'ma>orab': [839], 'jumohuwriy~': [840], 'kulowap': [841, 2268], 'jumoruk': [842], 'ma*obaHap': [843], '{inoqisAm': [844], 'junod': [845], '{isoti$Arap': [846], 'maEohad': [847], 'ta$okiyl': [848], 'maEAbid': [849], '{isotinotAj': [850], '{isoti$ohAdiy~': [851], 'kuwayotiy~': [852], 'kuwbiy~': [853], 'sayof': [854], 'muwAzanap': [855], 'rihAn': [856], 'wAfid': [857], 'nagom': [858], 'waHol': [859], 'mulAbasap': [860], 'mukab~ir': [861], 'mujam~aE': [863], 'mufat~i$': [864, 1369], 'mufAwiD': [865, 1372], 'tajohiyz': [866], 'wakiyl': [867, 1911], 'mudAwalap': [869], 'waqof': [870], 'waqot': [871], 'muHAkamap': [873], 'wijohap': [874], 'muEasokar': [875], 'qAr~ap': [877], 'muEAmalap': [878], 'nadowap': [879], 'naZariy~ap': [880], 'muDAd~': [881], 'muqATaEap': [882], 'tawaj~uh': [883], 'muwjib': [884], 'tawat~ur': [885], 'muxAbarap': [886], 'muxotAr': [887, 2423], 'mutagay~ir': [888], 'mutafar~ij': [889], 'nASiriy~': [890], 'nAxib': [893, 1366, 1384], 'valAviyn': [894], 'musAhim': [895, 2680], 'vaqAfap': [896], 'muqotaraH': [897], 'taqal~ub': [898], 'muqar~ar': [899], 'muqad~imap': [900], 'muqAwil': [901], 'muqAtilap': [902], 'muEAlajap': [903], 'mu&otamir': [904], 'marokabap': [906], '{i$otirAk': [907], 'mariyD': [908], 'maqohaY': [909, 1626], 'maqoTuwEap': [910], 'maqar~': [911, 2165], '{iEotibAr': [913], 'mano$uwr': [915, 2161], 'taHAluf': [916], '{iEotimAd': [917], 'majoraY': [918, 919, 1606], 'rAqiS': [920, 1140], '{iEotirAD': [921], 'ra$~A$ap': [922], 'raEiy~ap': [923], 'rad~': [924, 1786], '{iHotiyAT': [925, 1373], 'ragobap': [926], 'maHoDar': [927], 'quTob': [928], 'masAr': [929], 'mu$otarik': [930, 2242], 'qa*iyfap': [932], 'tabar~uE': [933], 'miyvAq': [934], 'qadam': [935], 'qalam': [936], 'xalofiy~ap': [937], 'mawojap': [938], 'mawohibap': [939], 'taHowiyl': [940], 'matojar': [941], 'qay~im': [942], 'taHoliyl': [943, 1999], 'masolak': [944], 'masokan': [945], 'masojid': [946], 'zabuwn': [947], 'qinAE': [949, 2535], 'qisom': [951], 'zujAjap': [952], '|yap': [954], '>us~': [956], 'Eamiyd': [957], 'Eahod': [958], 'dar~Ajap': [959], '>aqal~iy~ap': [960], 'bidAyap': [961], '<iSolAHiy~': [962], '<iqoliym': [963], 'dAEiy': [964, 1535, 1537], 'HiS~ap': [965], '$akowaY': [966], '<inos': [967], 'Sifap': [968], \"$ayo'\": [969], 'diEomap': [970], 'Hajar': [971, 1107], 'Haloqap': [973], 'EaSor': [974], 'EAzif': [975], '<ijAbap': [976], '<ijAzap': [977], 'bunoduqiy~ap': [978], 'bu&orap': [979], 'Tariyqap': [980], '$atiymap': [981], '$awoT': [982], '$ubohap': [983], 'Hur~': [984], 'Tabol': [985], '>amiyn': [986, 2069], '$aqiyq': [987, 993], 'Eiborap': [988], 'DiEof': [989], '$ATi}': [990], '>uxot': [991], 'bAqiy': [992, 1710], '$AHinap': [994], 'faSol': [995], '*akar': [996], 'Eayob': [997], 'Eaqabap': [998], 'EA}iq': [999], '$Ab~ap': [1000], 'HAfiz': [1002], 'HiwAr': [1003], 'bAS': [1004], 'Talaq': [1005], '$Ahidap': [1006], 'Eamuwd': [1007], 'badal': [1008], 'jadowal': [1009], '*ariyEap': [1010], 'muHotarif': [1012, 1344, 1521], 'ZAhirap': [1013], 'tawoZiyf': [1014], 'muHotAj': [1015], 'tasojiyl': [1016], 'taroxiyS': [1017], '<iyDAH': [1018], 'muforadAt': [1019], 'takah~un': [1020], 'mukotasab': [1021], 'mujotamiE': [1022, 2592], 'TaEon': [1023], 'tamoriyrap': [1024], 'mujAhid': [1025, 2621, 2622], 'tanAquD': [1026], 'muhar~ib': [1027], 'Talaqap': [1028], 'mugotarib': [1029, 2649], 'taqodiym': [1030], 'TaloEap': [1031], 'muTAlib': [1032], 'mufak~ir': [1033], '>aEolAm': [1034], 'mufAja>ap': [1036], 'muEotaSim': [1037], 'mud~aEiy': [1038], 'mudiyr': [1039, 1378, 1379, 2659], 'mudar~is': [1040], 'mudar~ib': [1041, 2661], 'mudar~aEap': [1042], 'mudAxalap': [1043], 'tawoqiyf': [1044], \"binA'\": [1045], 'tayosiyr': [1046], 'baSomap': [1047], 'mawokib': [1049], 'watar': [1050], 'marosuwm': [1053], 'marofa>': [1054], 'xA}in': [1055], 'dufoEap': [1056], 'maqoSuwrap': [1057], 'xaTiyb': [1058], 'xaTiy}ap': [1059], 'manosuwj': [1060], '<i$oEAE': [1061], 'manofa*': [1062], 'malomas': [1063], 'xariyTap': [1064], 'maloEab': [1065], 'xaroq': [1066], 'fA}iD': [1067], 'fa>or': [1068], 'xayorap': [1069], 'majod': [1070], 'buwq': [1071], 'buwayoD': [1072], 'mawosim': [1073], \"miynA'\": [1074], 'muEal~iq': [1075], 'timovAl': [1076], 'baqar': [1077], 'muDArabap': [1078], 'variy~': [1079], 'vaworap': [1080], 'biloyuwn': [1082], 'miyzAn': [1083], 'waro$ap': [1085, 1954], 'binot': [1086], 'mivAl': [1087], '<ino*Ar': [1088], 'binoyap': [1089, 1093, 1720, 2226], 'mirowaHiy~ap': [1090, 2225], 'miqoyAs': [1091], 'minobar': [1092], 'wajobap': [1094], 'mazoEamap': [1095], '<ihAnap': [1096], 'muqAwalap': [1097], 'tajA*ub': [1098], 'Ead~Ad': [1099], \"Ead~A'\": [1100, 1762], 'rawoDap': [1101], 'Hab~': [1103, 1520], 'naqoD': [1104], 'Hadiyqap': [1105], 'nakobap': [1106], 'riyH': [1108], 'ruwsiy~': [1109], 'ruxoSap': [1110], 'Ham~Am': [1111], 'Haraj': [1112], 'Harobap': [1113], 'naHow': [1114], 'naEot': [1115], 'sAbiqap': [1116], 'na$orap': [1117], 'na$iyT': [1118], 'nAziH': [1120], 'HayawAn': [1122], 'nA$ir': [1123], 'saToH': [1124], 'saboEiyn': [1126], 'Ha$od': [1127], 'ramol': [1128], 'muxad~ir': [1129], 'nuxobap': [1130], 'quboruSiy~': [1131], 'rAEiy': [1132, 1767], 'Earabap': [1133], 'EaraD': [1134], 'rAfidap': [1135], 'rAgib': [1136], 'Eaqol': [1137], 'Eaqiydap': [1138], 'qiS~ap': [1139], 'qatiyl': [1141], 'qariynap': [1142], 'EaqArib': [1143], 'Eu$ob': [1144], 'Eu*or': [1145], 'qabiylap': [1146], 'qaDiyb': [1147], 'Eunoq': [1148], 'qA}im': [1150], 'qAsim': [1151], 'HAj~': [1152], 'qAri}': [1153], 'HAmil': [1154], 'qAEap': [1155], 'HAris': [1156], 'muxal~af': [1157], 'HikAyap': [1158], 'tahoni}ap': [1159], 'musAEid': [1160, 1488, 2683, 2684], '>axolAqiy~': [1161], '>atoEAb': [1163], \">arojA'\": [1164, 2002], 'taHosiyn': [1165], 'murAfiq': [1166, 2727], 'muqotaDaY': [1168], 'muqaw~im': [1169], 'muqar~ab': [1170], 'Silap': [1172], 'muqAwim': [1173], 'taTobiyq': [1174], 'faHol': [1175], 'muqAranap': [1176], 'muqAbalap': [1177], 'Siygap': [1178], 'munotij': [1179, 1180], 'munotaqid': [1181, 1385], 'tadaf~uq': [1182], 'tadax~ul': [1183], 'munaZ~im': [1184, 2605, 2606], 'tafAEul': [1185], 'tafojiyr': [1186], 'tafosiyr': [1187, 1295], '>uToruwHap': [1188], 'musAfir': [1189, 2681, 2682], 'sam~': [1190], 'ta>o$iyr': [1191], 'EATifap': [1192], 'EA$iq': [1193, 1753, 1770], 'HizAm': [1194], 'Huforap': [1195], 'Huj~ap': [1196], 'sariqap': [1197], 'DiloE': [1199], 'mutanAfis': [1200], 'sijil~': [1201], 'DayoEap': [1202], 'Huwt': [1203], 'sik~iyn': [1204], 'mutaEav~ir': [1206], 'mutaEAqid': [1207], 'musotawodaE': [1208], 'suHub': [1209], 'SaHon': [1210], 'musotawoEib': [1211], 'suk~An': [1212], 'SadaY': [1213], 'musotaholik': [1214, 2703], 'tAbiE': [1215], 'musota$Ar': [1216, 1404], 'musin~': [1218, 1407, 2671], 'mahArap': [1219], 'Eatabap': [1220], '$ahowap': [1221], '$iy$Aniy~': [1222, 1869], 'madofuwE': [1224], 'kas~Arap': [1225], 'jaras': [1226], 'gariyzap': [1227], 'jAniy': [1228], 'lamosap': [1229], 'ziy~': [1230], 'junayoh': [1231], 'hAjis': [1232], 'maTAr': [1233], 'haziymap': [1234], '{irotibAT': [1235], 'jumuwE': [1236], 'jinosiy~ap': [1237], 'jasad': [1238], '{imotiyAz': [1240], 'laHom': [1241], '{isotifozAz': [1242], 'kaniys': [1243], '$uhuwd': [1244], 'had~Af': [1245, 1399], 'yanobuwE': [1246], 'jumolap': [1247], 'zaworaq': [1248], '$ilow': [1249, 1867], '$uguwr': [1250], 'yamaniy~': [1251], 'fuwTap': [1252], '{ixotilAf': [1253], 'madoxal': [1254], 'zuqAqiy~': [1255], '{inofiEAl': [1256], '{iEotiSAm': [1257], 'kiyAn': [1258], 'liyf': [1259], 'kArivap': [1262], 'gAziy': [1263], '{ijotiyAH': [1265], 'maHoruwq': [1266], 'ziyAdap': [1267], 'xurAfap': [1268], 'mafoEuwl': [1269], 'ma*ohab': [1270], 'jinAyap': [1271], 'maTomaE': [1272], 'mAniE': [1273], 'fariyq': [1274, 1576], '$A}ibap': [1275], '{ibotisAmap': [1276], \"EaTA'\": [1277], 'EaDalap': [1278], 'Hamalap': [1279], 'naZiyr': [1280, 2440, 2441, 2442], '>adabiy~At': [1281], 'TaEAm': [1282], 'hawaY': [1283], 'EaSabap': [1284], 'gAz': [1285], '{isotijowAb': [1286], 'mujan~is': [1287], 'taman~iy': [1288], 'gAbap': [1289], 'mukav~if': [1290], 'tajAEiyd': [1291], 'muna$~iT': [1292], 'munAx': [1293, 2608], '$aEiyrap': [1294], 'liyrap': [1296], 'Haroq': [1297], 'munAhiD': [1298, 2616, 2617], 'munAfis': [1299], 'munASir': [1300, 2619], 'lugap': [1301], 'munADil': [1302], 'takotiyk': [1304], 'mumay~izap': [1305], 'mumar~iD': [1307], '>aforiyqiy~': [1309], 'mA$iy': [1310], 'Talal': [1311], 'muloHaq': [1312, 2583], '$a*~': [1313], 'mA$iyap': [1314], 'sAHil': [1315], 'TAqim': [1316], 'mAlik': [1318, 2386, 2387, 2388], 'fuwh': [1319], 'Tay~Ar': [1320, 1329], 'muSoTalaH': [1321], '{isotinAbap': [1322], 'Hafiyd': [1323], 'riwAq': [1324], 'Tay~ap': [1325], 'muZAharap': [1326], 'mubAdalap': [1327], 'muhan~i}': [1328], 'tarobawiy~': [1331], 'muboEad': [1333], 'mubodiE': [1334], '<iyjAr': [1335], 'muSan~iE': [1336], 'tarotiylap': [1337], 'naqiyb': [1338], 'Eabowap': [1339], 'hibap': [1340], 'muSAdamap': [1341], 'muHotawaY': [1342], 'Eadasap': [1343], 'tasoriyb': [1345], \"<iyHA'\": [1347], 'muHotajaz': [1348], 'tawag~ul': [1349], 'mubotadi}': [1351], 'tarad~ud': [1352], 'Taw~Afap': [1353], '>abora$iy~': [1355], 'rubuwE': [1356], 'rubuE': [1357], 'nabiy~': [1358, 2435], 'ru&aY': [1359, 1360], 'hawol': [1361], 'rizoq': [1362], 'mugAlaTap': [1364], 'mufotaraq': [1365], 'nafaq': [1367], 'kAfir': [1368], '$ar~': [1370], '{iHotiyAj': [1371], 'taqoniy~': [1374, 2048], 'Hakiym': [1377], 'Hajom': [1380], 'nahor': [1381, 2495], 'kAbuws': [1382], 'mudar~aj': [1383], '{ijotihAd': [1386], 'muwak~il': [1387], 'kanoz': [1388], '{inosiHAb': [1389], 'muwdiE': [1390], 'muwal~id': [1391], 'musotaqobil': [1392, 2697], 'gulAp': [1393], '{inoqilAb': [1394], 'sud~': [1395], '{inotiSAr': [1396], 'SaHAriy': [1398], 'siy~': [1400], 'musotajad~': [1401], 'suwr': [1402], 'muxaT~iT': [1405, 2428], 'salaf': [1406], 'HiSon': [1409], 'ta$okiylap': [1410], 'kuwriy~': [1411, 2277], 'SafiyHap': [1412], 'muxaS~aS': [1413], 'musotaEomir': [1414], 'salobiy~ap': [1416], 'musalosal': [1419], 'mutabAriy': [1420, 2458], 'mutadar~ij': [1421], 'mut~ajih': [1422], 'Huzon': [1423], 'hadiy~ap': [1424], 'Huromap': [1425], 'sariy~ap': [1426], 'hAtif': [1427, 2269], 'saxAfap': [1428], 'sibAq': [1429], 'mutasAbiq': [1430], 'mutaxar~ij': [1431, 2096], 'kawomap': [1432], 'Damiyr': [1433], 'musotaxodim': [1435, 2578, 2579], 'DAHiyap': [1436], 'mutAbiE': [1437, 1438], 'SaEiyd': [1439, 2580], 'muta>ax~ir': [1441], 'sitArap': [1442], 'mutaTal~ib': [1443], 'Hujorap': [1444], 'muwASalap': [1445], 'simap': [1446], 'simAk': [1447], 'silok': [1448], 'SAniE': [1449, 2466], 'musal~am': [1450], 'ta>okiyd': [1451], 'kafAlap': [1452], 'Hawozap': [1455], 'Sinof': [1456, 2720], 'taTomiyn': [1457], '{ilotimAs': [1458], 'garobiy~': [1459], 'muqArabap': [1460], 'garosap': [1461], 'Sihoriyj': [1462], 'taSoniyf': [1463], '{imotidAd': [1464], 'muqotaTaf': [1465], 'Sayodaliy~ap': [1466], 'nAfi*ap': [1467], 'garAmap': [1468], '{ino$iqAq': [1469], 'tabAyun': [1470], 'HawoD': [1472, 1473], 'tabiEap': [1474], 'nAqid': [1475], 'tabaE': [1476], 'munotadaY': [1477], 'layolap': [1478], 'munotafiE': [1479], 'tabAdul': [1480], 'munotajaE': [1481], 'libAs': [1482], 'muHib~': [1483, 2452, 2641], 'Siyniy~': [1484], 'taSomiym': [1485], 'murAbiT': [1486], 'muxal~iS': [1487], 'murotafaE': [1489], 'murotakaz': [1491], 'HiDon': [1492], '>uko*uwbap': [1494], '>umoniy~ap': [1495, 1987], '{inobiEAv': [1496], 'Saliyb': [1497], 'muxorij': [1498], 'Sak~': [1499], '>uno$uwdap': [1500], '>unovaY': [1501], 'taEorifap': [1502], 'kamiyn': [1503], 'kaf~': [1504], 'nA$i}': [1505], 'murAdif': [1506], 'taSad~uE': [1507], 'gaw~ASap': [1508], 'nAHiyap': [1509, 2417], '$akoliy~ap': [1510], 'murAjaEap': [1511], 'muzAriE': [1513, 2412, 2420], 'haram': [1515], 'Saxor': [1516], \"giTA'\": [1517, 2292], 'taHar~iy': [1518], '{inoTilAq': [1519], 'muHar~ir': [1522, 2410], 'mas~ap': [1523], 'dafotar': [1524], 'Eiroq': [1525, 2500], 'dafoEap': [1526], 'masoraH': [1527], '<iSodAr': [1528], 'wayolap': [1530, 1967], 'matAhap': [1532], 'qasoTal': [1533], 'maTobuwE': [1534], 'EiyAr': [1536, 2504], '<iHosAs': [1538], 'masobaH': [1539], 'jaHofal': [1540], 'jawoEAn': [1541, 2307], 'xAl': [1542], 'xAdim': [1543], 'qiTAr': [1544], 'wuquwE': [1545], 'wuSolap': [1546], 'EiroD': [1547], 'daworiy~ap': [1548], 'rAsib': [1549], 'yawomiy~At': [1550], 'wisATap': [1551], 'daq~ap': [1552], \"<iEofA'\": [1554], 'fan~iy~At': [1555], 'rA}iHap': [1556], 'mawoj': [1557], 'miHonap': [1558], 'jabohap': [1559], 'mazomuwr': [1560], 'miDax~ap': [1562], 'maSAEib': [1563], 'zaH~Afap': [1564], 'faqorap': [1566], 'EuTol': [1567], 'miZal~ap': [1568], '$iyk': [1570], '<ilozAm': [1571], 'qadar': [1572], 'buqoEap': [1573], 'qamiyS': [1574], 'ra$owap': [1575, 1577, 1796], 'mayodAn': [1578], 'maxozan': [1579], 'maxoraj': [1580], 'jazA}iriy~': [1581], 'jad~': [1582], 'zaEAmap': [1583], 'Eiyd': [1584], 'busotAn': [1585], 'qaron': [1586], 'maTab~': [1589], 'maZolimap': [1590], 'marosaY': [1591], 'mala*~ap': [1592, 2143], 'fA}iz': [1593], 'fAr~': [1596], 'makotabap': [1597], 'Earo$': [1598], 'jarid': [1599, 2311], 'malo>ak': [1600], 'fahom': [1601], 'qiyAdiy~': [1603], 'xanodaq': [1604], 'xamor': [1605], 'faZiyEap': [1607], 'faDiyHap': [1608], 'majohuwl': [1609], 'xiTAb': [1610], 'majariy~': [1611], 'majal~ap': [1612], 'faDiylap': [1613], 'madoyuwniy~ap': [1614], 'xuloq': [1615], 'qumA$': [1616], 'mafosadap': [1617], 'xuSuwSiy~ap': [1618], 'mafoquwd': [1619], 'rAbiH': [1620], 'fAkihap': [1621], 'jawAz': [1622], 'maqoSid': [1623], '<i*on': [1625, 1919], 'maqolaE': [1627], 'xaSiySap': [1629], 'xaliy~ap': [1630], 'rAhib': [1631], 'xAsir': [1632, 1915], 'yasAriy~': [1633, 1917], 'dihAn': [1634], 'marojiEiy~ap': [1635], 'xArij': [1636], 'duhon': [1637], 'EibAd': [1638], '|hap': [1639], 'manotuwj': [1640], 'fal~': [1641], 'qinodiyl': [1643], 'mabonaY': [1644, 2363], 'manofaEap': [1645], 'janAH': [1648, 1653], 'fAEil': [1649], 'manobaE': [1650], 'manoZuwmap': [1651], 'fAjir': [1652], 'mihonap': [1654], '$abah': [1655], 'mu&as~is': [1656, 2195, 2196], 'jumohuwriy~ap': [1657], 'mu&ar~ix': [1658], 'hinodiy~': [1659], 'maEodin': [1660], 'mu&al~if': [1661, 2199, 2219], 'taxomiyn': [1662], 'vawob': [1663], 'maEoqil': [1664], 'mu$otariy': [1665, 2241], 'rasomAl': [1666], 'fax~Ariy~At': [1667], 'muEotadiy': [1668], 'mu$otaraY': [1669], 'rasuwl': [1670], 'viqap': [1671], 'vuEobAn': [1672], '{isotixodAm': [1673], 'mu$orif': [1674, 2246], 'HaZ~': [1675], 'baEovap': [1676], 'wADiE': [1677, 1858], 'bi$Arap': [1678], 'mu$ay~iE': [1679], 'qArib': [1680], 'bAxirap': [1681], 'wAdiy': [1682], 'vamiyn': [1683], '<ivArap': [1684], 'mu$aj~iE': [1685], 'maEolAp': [1686], 'HAs~ap': [1687], 'nusoxap': [1688], 'badawiy~': [1689], 'rakiyzap': [1690], 'rakol': [1691], 'nuwr': [1692], 'tuHofap': [1693], 'vAniyap': [1694, 1883], 'tisoEiyn': [1695], 'muDAyaqap': [1697], 'muDArib': [1698], 'vA}ir': [1699], \"barA'ap\": [1700], \"bariy'\": [1701], 'valoj': [1702], 'vamAniyn': [1704], 'mu&ay~id': [1705, 1706, 2194], 'vaman': [1707], 'junoHap': [1708], '<iro$Ad': [1709], 'mirojal': [1711], 'waSol': [1712], 'muHArib': [1713], 'binAyap': [1714], 'jinos': [1715], 'maDojaE': [1718], 'raSad': [1719], \"qaDA'\": [1721], 'Eumuwmiy~ap': [1722], 'bin': [1723, 2255], 'miqolAd': [1724], 'muHaS~il': [1725], 'Eumuwlap': [1726], 'bAdirap': [1727], 'miqodAr': [1728], 'maDobuwT': [1729], 'tawoDiyH': [1730], 'qaSor': [1731], 'Habol': [1732], 'zalam': [1733], '$iroyAn': [1734], 'miyEAd': [1735], 'badiyhiy~ap': [1736], 'mi}o*anap': [1737], 'fitonap': [1738], 'rab~': [1739], 'miyzap': [1740], 'ratol': [1741], 'radomiy~': [1742], 'mu$Arakap': [1743], 'fawAt': [1744], 'jisom': [1745], 'wAliy': [1746], 'Habiyb': [1747, 2546], '$abaH': [1748], 'EatAd': [1749], '{irotiEA$': [1751], 'samAd': [1752], 'quronap': [1755], '{irotifAE': [1756], 'ribAT': [1757], '{isotiqAlap': [1758], 'saqaT': [1759], '|xi*': [1760], 'saqof': [1763], 'Eabod': [1764], \"{isotiqoSA'\": [1765], 'sarab': [1766], 'saqoTap': [1769], '|nisap': [1771], '$a*orap': [1772], 'sayol': [1773], 'raqabap': [1774], 'ras~Am': [1775], 'ratiyb': [1776], 'rAbiyap': [1777], 'Eab~Asiy~': [1779], 'ramoyap': [1780], '$Akiy': [1781], 'EaTiy~ap': [1782], 'rawosam': [1783], '$Arap': [1784], 'rA}iEap': [1785], '{isotihodAf': [1787], 'saHob': [1788], 'EArif': [1790], 'rabowap': [1791], 'raSiyf': [1792, 1797], \"{isotidoEA'\": [1793], '$Agir': [1795], 'Ea*Ab': [1798], 'saHonap': [1799], '{isotiEomAl': [1800], '{isotiEolAm': [1801], '$Amiy~': [1802], '{it~ifAqiy~ap': [1803], 'Eanotariy~ap': [1804], '$aTor': [1805], 'Eanobar': [1806], 'Eam~': [1807], 'sAtir': [1808], 'sA}il': [1809], '$aHonap': [1810], 'raD~': [1811], 'raSASap': [1813], '{isotiko$Af': [1814], 'rAyap': [1815], '{isotimArap': [1816], '{i}otilAf': [1817], 'riyADap': [1818], 'EAdap': [1819], \"{isotivonA'\": [1820], 'saliyf': [1821], '|Sirap': [1822], 'Eaq~Ar': [1823], 'riyAl': [1824], '{irotikAb': [1825], 'rAmiy': [1827], 'EAhap': [1828], 'raHol': [1829], 'EAlam': [1830], 'saf~Ak': [1831], '$Aridap': [1832], '{ixotirAq': [1833], 'Eajalap': [1835], 'Eajiybap': [1836], 'raf~': [1838], 'Ealaf': [1839], 'sab~Aq': [1840], '{ixotiyAr': [1841], 'EAqid': [1842], 'EAriD': [1843], '$Arib': [1844], 'saTor': [1845], '$aZiy~ap': [1846], 'rutobap': [1847], '$ujayorap': [1849], 'Duruwb': [1850], '<isohAm': [1851], '<irosAliy~ap': [1852], 'vinoy': [1854], 'viqal': [1855], '<irohAS': [1857], '<irobAk': [1859], 'zay~AH': [1860], 'zayot': [1861], '<iqAmap': [1863], '<inotAj': [1864], 'zawojap': [1866], 'waTan': [1868], 'zaman': [1870], '<imokAniy~ap': [1873], 'wafAp': [1874], 'zal~ap': [1875], '<imodAd': [1876], 'zalozalap': [1877], 'wafodiy~': [1878], 'wajaE': [1879], 'vamor': [1880], '<imAm': [1882], 'tawAfuq': [1884], 'quroSAn': [1885], '<ixorAj': [1887], 'tawas~uE': [1888], \"<ixolA'\": [1889], '<ixofAq': [1890], '$iEob': [1891], '$iEor': [1892], 'tawoqiyE': [1894], 'tawosiyE': [1895], 'taxofiyD': [1896], 'taxom': [1897], 'zuqAq': [1898], '$ihAb': [1899], '<ivom': [1900], 'zuhuwr': [1901, 1903], 'tirob': [1904], 'tisoEiyniy~': [1905], 'turobap': [1906], 'ziyjap': [1907], '<isonAd': [1909], 'zahor': [1910], '{iEoti*Ar': [1912], 'xAm': [1913], 'xAnap': [1914], 'xAtam': [1916], \"<iDA'ap\": [1918], '<i$okAliy~ap': [1920], '<i$okAl': [1921], '*ayol': [1922], 'xafiy~ap': [1923], 'xaliyfap': [1924], 'xaliyq': [1925], 'xaloT': [1926], '*aqon': [1927], 'xamiyr': [1928], '*anob': [1930], 'xawAliy': [1931], 'xayoT': [1932], 'xayomap': [1933, 1935], 'xuroTuwm': [1934], 'xaz~An': [1936], '*abo*abap': [1937], '*abiyHap': [1938], '*Ahib': [1939], 'xuDorap': [1940], '$uyuwEiy~': [1941], 'yatiym': [1942, 1943], \"walA'\": [1944], 'xATirap': [1945], '<ikorAmiy~ap': [1946], 'waliymap': [1947], 'waliy~': [1948], 'wamoDap': [1949], '<ikoliyl': [1950], '$iymap': [1951], 'waraY': [1952], 'waral': [1953], 'warod': [1955], \"<igorA'\": [1956], 'wasax': [1957], '<ibodAE': [1958], 'wasiyTap': [1959], '$uEobap': [1960], 'zAruwb': [1961], 'watad': [1962], 'zAniy': [1963], 'watiyrap': [1964], 'yaxot': [1966], 'wazon': [1969], \"wiEA'\": [1970], '<iHodAviy~': [1971], 'wilAdap': [1972], '<iEodAm': [1973], '<iDAfap': [1974], '<iySAl': [1975], 'tasomiyap': [1976], 'DifAf': [1977], 'ta$aw~uh': [1978], '>usoTuwl': [1979], '{inofirAj': [1980], 'ta>am~ul': [1981], '{inofijAr': [1982], 'ta>omiyn': [1983], 'taEAqud': [1984], '>umosiy~ap': [1986], '>uloEuwbap': [1988], 'taEomiym': [1990], '>azaj~': [1993], '>ayodiyuwluwjiyA': [1994], '>axawiy~ap': [1995], 'taHiy~ap': [1997], '{inoTibAE': [1998], '>asad': [2000], '{inoHirAf': [2001], '>arobaEiyn': [2003], '$al~Al': [2004], 'ta$obiyh': [2005], 'ta$an~uj': [2006], 'taTowiyb': [2007], 'ta$aE~ub': [2008], 'Did~': [2009], 'sifor': [2011], 'Daruwriy~': [2012], '$afor': [2014], 'DarAwap': [2015], '{inozilAq': [2016], 'sin~': [2017], 'DaHokap': [2019], '{inotiqAl': [2020], 'siyAHap': [2021], 'su&or': [2024], '{inotihAziy~': [2025], 'sunobul': [2026], 'sur~': [2027], 'suwdAniy~': [2028], '$ajan': [2029], '{inohimAk': [2030], '{ilotibAs': [2031], '{ikotitAb': [2032], 'tasoliyf': [2033], 'tamoriyr': [2034], 'tamowiyh': [2035], 'tanaq~ul': [2036], '$aq~ap': [2037], 'tanoZiyf': [2038], '>aboSAr': [2039], '$arak': [2040], 'tanoqiyb': [2041], 'taqATuE': [2042], '$ariyEap': [2043], '{iSoTilAH': [2045], '>aSalap': [2046], '$ariyHap': [2047], '>a$al~': [2049], 'taqoyiyd': [2050], '{iHotirAm': [2051], 'tarAkum': [2053], 'tarojamap': [2055], 'tarojiyH': [2056], 'taromiym': [2057], '$atolap': [2058], 'taroniymap': [2059], '{iEotiqAd': [2060], '<iydAE': [2061], '$ayoTAn': [2062], '{ibotikAr': [2063], 'tamodiyd': [2064], '$amoEadAn': [2065], '$aqiyqap': [2066], 'tabodiyl': [2068], 'tadAxul': [2070], '$amoEap': [2071], '{ihotizAz': [2072], '$amosiy~ap': [2073], 'tadoqiyq': [2074], '>amAnap': [2075], 'tafAwut': [2076], '>akamap': [2077], 'tahaj~um': [2078], '>ajal': [2079], '{ifotirAD': [2080], 'tajodiyd': [2083], 'tajowiyf': [2084], 'takat~ul': [2085], '>afoEaY': [2086], '>adiyb': [2087], 'takowiyn': [2088], 'talAEub': [2089], 'talomiyH': [2090], 'taloziym': [2091], 'tal~': [2092], 'tamAyuz': [2093], 'tamar~ud': [2094], 'janobap': [2095], 'quroS': [2097], 'dayor': [2098, 2107], 'masokuwkap': [2099], 'masojuwn': [2100], 'daf~AE': [2101], 'dagal': [2102], 'daraj': [2105], 'maro&uws': [2108], 'diEAmap': [2109], 'masAfap': [2110], 'diEAyap': [2111], 'marotabap': [2112], 'maroqab': [2113], 'marokab': [2114], 'marobaE': [2115], 'masolax': [2116], 'masomaE': [2117], 'masoraHiy~ap': [2118], 'masoruwq': [2119], 'may~it': [2120, 2178], 'mayol': [2121, 2122], 'maxoluwq': [2123], 'maxobaz': [2124], 'maxoTuwT': [2125], 'burohAn': [2126], 'buroj': [2127], 'maworuwv': [2128], 'mawoluwd': [2129], 'mawolid': [2130], 'dAEim': [2131], 'maviyl': [2132], 'dAb~ap': [2133], 'dAjin': [2134], 'daEowaY': [2135], 'matAE': [2136], 'dimAg': [2137], 'Zufur': [2138], \"faDA'\": [2139], 'mal~AH': [2140, 2158], 'fAriq': [2141], 'fArisiy~': [2142], 'malAm': [2144], 'fAsiq': [2145], 'makoman': [2146], 'fa>os': [2147], 'majomuwE': [2148], 'mariH': [2149], 'majohuwd': [2150], 'faDol': [2151], 'mahojaE': [2152], 'faDolap': [2153], 'magoribiy~': [2154], 'magorib': [2155], 'magonam': [2156], 'magAr': [2157], 'mamar~': [2159], 'mano$a>': [2160], 'maquwlap': [2162], \"duEA'\": [2163], 'duEAbap': [2164], 'dumoyap': [2166], 'duroziy~': [2167], 'dusotuwr': [2168], 'manoquwl': [2169], 'manokuwb': [2170, 2171], 'manojam': [2172], 'duwayolap': [2173], 'manoZar': [2175], 'manoHuwtap': [2176], 'manoEaY': [2177], 'mazoruwEap': [2179], 'miEoSarap': [2180], 'muDax~im': [2181], 'muEa*~ib': [2182], 'muEAwin': [2183], 'muEAraDap': [2185], 'badolap': [2186], 'muEAhadap': [2187], 'muEAdalap': [2188], 'muDiyf': [2189], 'baqiy~ap': [2190], 'bunoduq': [2191], 'barakap': [2192], 'barobariy~': [2193], 'baromajiy~': [2197], 'mu&am~ar': [2198], 'badan': [2200], 'muEak~ir': [2201], 'muEal~ab': [2202], 'muEal~il': [2203], 'muHAsib': [2204], 'bAkiy': [2205], 'ba*olap': [2206], 'baEoviy~': [2207], 'baHor': [2210], 'muEotamir': [2211], 'muEojizap': [2212], 'muEojam': [2213], 'muEiyn': [2214], 'muEiyd': [2215], 'baTorak': [2217, 2218], 'baroqiy~ap': [2220], 'baw~Abap': [2221], 'miyl': [2222], 'miro|ap': [2224], 'miqolAE': [2227], 'birokap': [2228], 'biroqi$': [2229], 'migowAr': [2230], 'mifak~': [2231], 'midorah': [2232], 'buHayorap': [2233], 'miSoyadap': [2234], 'bukolap': [2235], 'miSofAp': [2237], 'miyzAniy~ap': [2238], 'bayoraq': [2239], 'mu$AHanap': [2240], 'mu$otagil': [2244], 'mu$orik': [2245], 'ba}iys': [2247], 'mu$ar~iE': [2248, 2249, 2250], 'mu$ak~ik': [2251], 'mu$AyiE': [2252], 'mu$Awar': [2253], 'mu$Agib': [2257], 'maforuw$': [2258], 'maforazap': [2259], 'mafoSil': [2260], 'ku$ok': [2261], 'gud~ap': [2262], 'gul~': [2263], 'kurosiy~': [2264, 2265], 'hA$imiy~': [2266], 'hArib': [2267], 'lisAn': [2270, 2333], 'kaviyb': [2271], 'katif': [2272], 'katA}ibiy~': [2273], 'kar~': [2274], 'hafowap': [2275], 'kuwliys': [2276], 'liS~': [2278], 'ganam': [2279], 'gariyb': [2280], 'laqoTap': [2281], 'laqaY': [2282], 'laf~ap': [2283], 'lafoZ': [2284], 'laban': [2285], 'laHon': [2286], 'laHod': [2287], 'laEonap': [2288], 'laEobap': [2289], \"gi*A'\": [2290], 'guSon': [2293, 2294], 'kam~A$ap': [2295], 'hanap': [2296], 'kahof': [2297], \"hurA'\": [2298], 'jinAzap': [2299], 'jAriyap': [2300], 'jAsuws': [2301], 'jab~Ar': [2302], 'jahoba*': [2303], 'jaliys': [2304], 'jamAliy~ap': [2306], 'jamal': [2308], 'jam~Al': [2309], 'jariydap': [2310], 'jan~ap': [2312, 2313], 'jAliyap': [2314], 'hunayohap': [2315], \"kafo'\": [2316], 'hirAwap': [2317], \"kafA'At\": [2318], 'kabosuwl': [2319], 'kabiyrap': [2320], 'hawA}iy~': [2321], 'kabid': [2322], 'ka>os': [2323], 'ka*~Ab': [2324], 'ka$~Af': [2325], 'ka$of': [2326], 'haz~ap': [2327], 'jurovuwm': [2328], 'him~ap': [2329], 'juroEap': [2330], 'jura*': [2331], 'gajariy~': [2332], 'mafAtin': [2334], 'maHofuwr': [2335], 'fariyDap': [2336], 'maSiyr': [2337], 'maSaf~': [2338], 'maHosuwb': [2339, 2340], 'maHoram': [2341], 'maHokuwm': [2342], 'fariysiy~': [2343], 'maHofil': [2344], 'gaDon': [2345], 'maHoZuwr': [2346], 'maHoSuwl': [2347], 'faroDiy~ap': [2348], 'faroHap': [2349], 'fatowaY': [2350, 2351], 'maEuwnap': [2352], 'maEozuwfap': [2353], 'farA$ap': [2354], 'maSoyaf': [2355], 'faqiyh': [2356], 'madoraj': [2357], 'madoluwl': [2358], 'madofan': [2359], 'fajowap': [2361], 'madAr': [2362], 'maboHav': [2365], 'maboEuwv': [2366], 'mabar~ap': [2367], 'maZoruwf': [2368], 'maZoluwm': [2369], 'fan~iy~': [2370], 'maToraH': [2371], 'maTomaH': [2372], 'maTolaE': [2373], 'maEozil': [2374], 'fawoj': [2375], 'fiD~iy~At': [2376], 'ma$oraf': [2377], 'ma$orab': [2378], 'ma$ohuwr': [2379], 'ma$ogal': [2380], 'ma$aq~ap': [2381], 'mA}idap': [2382], 'mAr~': [2383, 2384], 'mAniH': [2385], 'fuwhap': [2389], 'lub~': [2390], 'ma$oriq': [2391], 'ma$oruwb': [2392], 'fidA}iy~': [2393], 'filos': [2394], 'firoEawon': [2395], 'maEobar': [2396], 'maEoSiyap': [2397], 'maEidap': [2398], 'maEA$': [2399], 'maDomuwn': [2400], 'maDiyq': [2401], 'maDar~ap': [2402], 'ma>oxa*': [2403], 'ma>ovarap': [2404], 'fiyl': [2405], 'ma>onap': [2406], 'ma>omuwr': [2407, 2408], 'muHar~iD': [2409], 'quf~Az': [2411], 'nAjiH': [2413], 'HayAp': [2414], 'nAb': [2415], 'nATiq': [2416], \"Hi*A'\": [2418], 'muzAyadap': [2419], 'muxotalif': [2421], 'muxotabi}': [2422], 'HiSAn': [2424, 2426], 'muxiyl': [2425], 'muxar~ib': [2427], 'muxAlif': [2429], 'nAvir': [2430], 'Has~Asiy~ap': [2431], 'nAziEap': [2432], 'nafal': [2433], 'naboDap': [2434], 'HamAm': [2436], 'nabAt': [2437], 'naZ~Arap': [2438], 'naZorap': [2439], 'naSiyr': [2443], 'naSiyb': [2444], 'naH~At': [2445], 'naEol': [2446], 'na*or': [2447], 'Hasanap': [2449], 'muwmisap': [2450], 'Hilof': [2451], 'mutaHam~is': [2453], 'Husayoniy~': [2455], 'mutafar~iqAt': [2456], 'mutafAwiD': [2457], 'SAEiqap': [2459], 'mutaSay~id': [2461], 'mutaHad~iv': [2462], 'muwfad': [2463, 2476], 'mutaHAlif': [2464], 'mutaEad~iy': [2465], 'mutaEATiy': [2467], 'mutaEATif': [2468], 'muta>al~iq': [2469], 'muta>ah~il': [2470], 'mutAbaEap': [2471], 'mutamar~is': [2472], 'mutamaw~il': [2473], 'mutanak~ir': [2474], 'mutasab~ib': [2475], 'muwaj~ih': [2477], 'Himol': [2478], 'muwa$~aH': [2479], 'Hubayobap': [2480], 'Huqob': [2482], 'mut~ahim': [2484], 'mutoEab': [2485], 'muta|mir': [2486], 'januwbiy~': [2487], 'mutaxal~if': [2488], 'mutawar~iT': [2489], 'mutawAjid': [2490], 'mutatab~iE': [2491], 'mutasal~il': [2492], 'nafoHap': [2493], 'naforap': [2494], 'qiT~': [2497], 'EilAwap': [2498], 'qi$or': [2499], 'qawom': [2501], 'EiyAl': [2502], 'qasAwisiy~': [2503], 'qariyb': [2505], 'najomap': [2506], 'qan~AS': [2507], 'Eu$~': [2508], 'qaloqalap': [2510], 'qaloEap': [2511], 'qafor': [2512], 'qafAF': [2513], 'EuTolap': [2514], 'EilAj': [2515], 'qid~iys': [2517, 2518], 'qufol': [2519], 'qud~As': [2520], 'qub~aEap': [2521], 'quTon': [2523], 'Eay~inap': [2524], 'Eaziymap': [2525], 'qiyAs': [2526], 'Ei$oriyn': [2527], 'qis~iys': [2528], 'EiTof': [2529], 'EiZap': [2530], 'qiron': [2531], 'qiro$': [2532], \"qirA'ap\": [2533], 'qinoE': [2534], 'Eulobap': [2536], 'qaTiyE': [2537], 'qaTariy~': [2538], 'niyAbap': [2539], 'HaSAnap': [2541], 'HaSoriy~': [2543], 'niqA$': [2544], 'nihAyap': [2545], 'niSof': [2547], 'nazol': [2548], 'naziyl': [2549], 'naxob': [2550], 'nawoEiy~ap': [2551], 'Hadaqap': [2552], 'nasor': [2553], 'naqo$': [2554], 'namol': [2555], 'nakosap': [2556], 'nisowap': [2557], 'Ha$AF': [2558], 'qa$iyb': [2559], 'HA}iT': [2560], 'HADinap': [2561], 'qA}il': [2562], 'HADir': [2564], 'HASil': [2565], 'qAruwrap': [2567], 'qAlib': [2568], 'qAfiyap': [2569], 'qAfilap': [2570], 'qASir': [2571, 2572], 'HAmiy': [2573], 'nuzohap': [2574], 'nuwbiy~': [2575], 'HAwiy': [2576], 'nuTofap': [2577], 'mukas~arAt': [2581], 'muloHaqAt': [2582], 'mulim~ap': [2584], 'TAmiH': [2585], 'mulAHiZ': [2586], 'mulAHaqap': [2587], 'mukota$if': [2588], 'TAwilap': [2589], 'mukAfa>ap': [2590], 'munaw~ih': [2591], 'Tabaq': [2593], 'mujas~am': [2595], 'mujanozir': [2596], 'mujad~id': [2597], 'mujAnasap': [2598], 'mujAmalap': [2599], 'mulotaqaY': [2600], 'mumATalap': [2601], 'munaZ~ir': [2604], 'SuwmAliy~': [2607, 2663], 'munAwi}': [2609], 'TAEin': [2610], 'munAwa$ap': [2611], 'TAbiq': [2612], 'munAqalap': [2613], 'munAqaSap': [2614], 'TAbuwr': [2615], 'TAgiy': [2618], 'munA$adap': [2620], 'mujAbahap': [2623], 'mubAlagap': [2624], 'muTAradap': [2625], 'muTAlabap': [2626], 'muSan~af': [2628], 'Turoqap': [2629], 'muSaf~aHap': [2630], 'muSAlaHap': [2631], 'muSAfaHap': [2632], 'muSAb': [2633], 'muHotasib': [2634], 'muHotariS': [2635], 'muHotaram': [2636], 'muHotal~': [2637], 'muHotaj~': [2638], 'muHotafil': [2639], 'muHosin': [2640], 'muTArid': [2642], 'Tayor': [2643], 'Tayof': [2645], 'muhad~i}': [2646], 'TaliyEap': [2648], 'mugoriyAt': [2650], 'mugan~iy': [2651], 'mufosid': [2652], 'mufaw~aD': [2653], 'mufak~irap': [2654], 'Taluwqap': [2655], 'mufAraqap': [2656], 'mud~axar': [2657], 'mudomin': [2658], 'mudax~in': [2660], 'mubotakar': [2662], 'Sufuwf': [2664], 'musaj~il': [2666, 2675], 'musotaDoEaf': [2667], 'musota>omin': [2668], 'musota>ojir': [2669], 'SafoEap': [2670], 'musam~aY': [2672], 'Sagiyr': [2673], 'musak~in': [2674], 'muno$aq~': [2676], 'musad~asap': [2677], 'musab~ib': [2678], 'musab~ab': [2679], 'musotaEomarap': [2685], 'musotaHoDar': [2686], 'musotabiyH': [2687], 'musotadoEaY': [2688], 'Sabiy~': [2694], 'Sabiy~ap': [2696], 'musotanoqaE': [2698], 'musotanoTiq': [2699], 'musotamir~': [2700], 'musotamiE': [2701], 'Safad': [2702], 'musotafiyd': [2704], 'musotadoEiy': [2705], 'Saliybiy~': [2706], 'Saroxap': [2708], 'murAfaEap': [2709], 'muqotariE': [2710, 2711], 'muqar~ir': [2712], 'muqal~id': [2713], 'muqad~im': [2714], 'muqad~ar': [2716], 'SinAEiy~': [2717], 'muqAwamap': [2718], 'Sudofap': [2721], 'munojaz': [2722], 'munoTalaq': [2723], 'munoHadar': [2724], 'munoEaTaf': [2725], 'murAbiy': [2726], 'murotahin': [2728], 'murAhanap': [2729], 'murosil': [2730, 2731], 'muriyd': [2732], 'muraw~ij': [2733, 2734], 'murat~ab': [2735], 'murad~id': [2736], 'murab~aE': [2737], 'SawomaEap': [2739], 'SayoHap': [2742], 'Sayodaliy~': [2744], 'murAjiE': [2745], 'murAhiq': [2746], 'mibo$arap': [2747]}\n",
            "2373\n",
            "unique:  2748\n",
            "{'Eamal': [0], 'Haq~': [1], 'EuDow': [2, 295, 664, 665], 'wilAyap': [3], \"<ijorA'\": [4], 'Eamaliy~ap': [5], 'dawolap': [6, 510], 'mAl': [7], 'EalAqap': [8], 'jahod': [9], 'waDoE': [10], 'EunoSur': [11], 'mufAwaDap': [12], '>ax': [13], 'TAlib': [14, 1009], 'mawoqif': [15], 'jihAz': [16], '>amor': [17, 798], 'maso&uwl': [18, 349, 939], '<isolAmiy~': [19], 'DagoT': [20], '>aroD': [21, 290], '{it~iSAl': [22], 'muHAdavap': [23], 'balad': [24, 219], '{inotixAb': [25], 'quw~ap': [26, 79, 662, 667], 'Had~': [27], 'minoTaqap': [28], 'qA}id': [29, 418], \"mA'\": [30], '$aroT': [31], 'qarAr': [32], 'marokaz': [33], 'ma$oruwE': [34, 227], 'maEoluwm': [35], 'SaHAfiy~': [36], 'maSolaHap': [37], 'sAkin': [38], 'hadaf': [39], 'yahuwdiy~': [40], 'maSodar': [41], 'silAH': [42, 582], 'TA}irap': [43], 'suwq': [44], 'taSoriyH': [45], 'Sawot': [46], '$arikap': [47], 'SAHib': [48], 'Hadav': [49], 'madorasap': [50], 'munaZ~amap': [51], 'junodiy~': [52], 'maTolab': [53], 'xidomap': [54], 'yawom': [55], 'munotaj': [56], '>avar': [57], 'nAdiy': [58, 977], 'jihap': [59], '{ijotimAE': [60], 'jamAEap': [61], 'jamoEiy~ap': [62], 'Earabiy~': [63], 'jaw~': [64], 'siEor': [65], 'HAl': [66], '>usotA*': [67, 750], 'raqom': [68], 'maxATir': [69], 'dirAsap': [70], 'milaf~ap': [71], 'taTaw~ur': [72], 'funoduq': [73], \"nisA'\": [74], 'mu$okilap': [75, 160], 'mu&as~asap': [76], 'EAm': [77], 'Zarof': [78], '$a>on': [80, 718], 'baronAmaj': [81], 'Suwrap': [82, 1010], 'nA}ib': [83], 'natiyjap': [84], 'waziyr': [85], 'madaniy~': [86], 'xaT~': [87], 'SAruwx': [88], '$axoS': [89], 'muxotAr': [90], 'rukon': [91], 'kitAb': [92], '{iEotibAr': [93], 'HAjap': [94], 'Saf~': [95], 'EAmil': [96, 500, 670, 764], 'tadobiyr': [97], 'tadoriyb': [98], 'waHodap': [99], 'qaDiy~ap': [100], 'yad': [101, 353], 'taEoliym': [102], 'lagom': [103], 'sabab': [104], 'safiyr': [105], 'Tariyq': [106], '$aEob': [107], 'sahom': [108], 'sanap': [109, 455, 658], 'farod': [110, 869], 'mudar~is': [111], 'mubArAp': [112], '{it~ifAq': [113], 'say~Arap': [114], 'sAEap': [115], 'rajul': [116], '>usoluwb': [117], 'Hiyn': [118], 'mutamar~id': [119, 1090], 'wasiylap': [120, 787], 'manozil': [121], 'Hamolap': [122], 'Hukom': [123], 'tawaj~uh': [124, 753], '>um~ap': [125], 'Harakap': [126], 'daliyl': [127], 'wasaT': [128], 'tanoZiym': [129], 'xabiyr': [130], 'ra>os': [131], 'murAqib': [132], 'xasArap': [133, 696], 'musolim': [134, 1110], 'musAEadap': [135], 'ra}iys': [136, 619], 'xaTowap': [137, 384, 691], 'raSiyd': [138, 398], 'HiS~ap': [139], 'nihA}iy~': [140], 'Tifol': [141], 'HisAb': [142], 'Harob': [143], 'Hay~': [144], 'dayon': [145], 'qAnuwn': [146], 'mumav~il': [147, 1055], 'muwATin': [148, 394], 'nawoE': [149], 'Talab': [150], 'HuDuwr': [151], 'qiTAE': [152], 'baladiy~ap': [153], 'musotavomir': [154], 'naba>': [155], 'Hukuwmap': [156], 'nA$iT': [157, 970, 971], 'SaHiyfap': [158], 'mubar~ir': [159], 'sibAq': [161], '>usobuwE': [162], 'vA}ir': [163], '>uSuwliy~': [164], 'vawob': [165], '>asiyr': [166, 282], 'waEod': [167], 'makAn': [168], 'Easokariy~': [169], 'wadiyEap': [170], 'majomuwEap': [171], '>ahol': [172], '>aSol': [173], 'waviyqap': [174, 789], 'madiynap': [175], 'maSoraf': [176], '<idArap': [177], 'katiybap': [178], '*ikoraY': [179], \"{iEotidA'\": [180], '{iEotiqAl': [181], '{iHotimAl': [182], '{ibon': [183, 731], '$axoSiy~ap': [184], '{ilotizAm': [185], 'lAEib': [186, 925], '$ahor': [187, 544], 'lawon': [188], '$ab~': [189], '$AriE': [190], 'mAd~ap': [191], 'tasohiyl': [192], '>amoriykiy~': [193, 466], 'hajomap': [194], 'tanAzul': [195], 'taHad~iy': [196], 'muHAwalap': [197, 857], 'garaD': [198], 'suloTap': [199], 'siyAsap': [200], 'tafoSiyl': [201], 'Darar': [202], 'taEodiyl': [203], 'Eaqod': [204], 'DAbiT': [205], 'lajonap': [206], 'nafas': [207], 'mubAHavap': [208], 'nAs': [209], 'kul~iy~ap': [210], 'fAtuwrap': [211], 'na$AT': [212, 213], 'niZAm': [214, 1036], 'maEoniy~': [215], 'balodap': [216], 'muHar~ik': [217], 'mAlik': [218], 'muHaw~il': [220], 'kuwayotiy~': [221], 'muEad~al': [222], 'fataY': [223], 'lAfitap': [224], 'lAji}': [225], 'faSiyl': [226], 'nafaqap': [228], 'najom': [229], 'mujawohar': [230], 'darajap': [231], 'kabiyr': [232], 'kam~iy~ap': [233], 'fiEol': [234], 'jAmiEap': [235], 'masoEaY': [236, 338], 'maso>alap': [237], 'mawoDuwE': [238], 'musotawaY': [239], 'masiyHiy~': [240], 'daEowap': [241], 'musotawoTin': [242], 'dAr': [243, 522], 'mawoEid': [244], 'mar~ap': [245], 'murotafaE': [246, 1104], 'ham~': [247], 'mut~aham': [248], 'murAjaEap': [249], 'maworid': [250], 'jiyl': [251], 'majAl': [252], 'maxAfap': [253], 'muwAjahap': [254], 'miSoriy~': [255], 'muwaZ~af': [256, 991], 'muqAtil': [257, 1050, 1051], 'muxAbarap': [258], 'binot': [259], 'mabonaY': [260, 385], 'muxaS~aS': [261], 'maboda>': [262], 'daqiyqap': [263], '$ATi}': [264], 'Sadiyq': [265, 608], 'Darobap': [266], 'rasom': [267], 'Ha$od': [268], 'riboH': [269], 'rasomAl': [270], 'tilomiy*': [271], 'Hajar': [272], 'EaSab': [273], 'ramoz': [274], 'Haqol': [275], 'taHoDiyr': [276], 'xaroq': [277, 695], 'Haloy': [278], 'Hal~': [279], 'rahiynap': [280], 'ragobap': [281], 'valoj': [283], '>awolawiy~ap': [284], 'riyH': [285], 'HAj~': [286], 'silok': [287], 'say~idap': [288], 'Eamuwd': [289, 576], 'sanad': [291], 'su&Al': [292], 'tAriyx': [293], 'Eiyd': [294], 'taEah~ud': [296], 'sabiyl': [297], 'saEuwdiy~': [298], 'Eaduw~': [299], 'waraq': [300], 'Euquwbap': [301], 'taqoriyr': [302], 'EaroD': [303, 579], 'rAtib': [304], 'tadAEiy': [305], 'Sagiyr': [306, 596], 'ziyArap': [307], 'qaroyap': [308, 559], 'qaroD': [309], '$akowaY': [310], '$akol': [311], '{isom': [312], 'tahodiyd': [313], '{inofijAr': [314], \"Dawo'\": [315], '{isotivomAr': [316], 'tajoribap': [317], 'Taraf': [318], 'nuqoTap': [319], '{it~ihAm': [320], '{inotihAk': [321], 'SalAHiy~ap': [322], 'Hizob': [323], 'qisom': [324], '{inoEikAs': [325], '$iEAr': [326], 'EAlim': [327], 'Safoqap': [328], 'qudorap': [329], 'taSofiyap': [330], 'qunobulap': [331], 'qiToEap': [332], 'turokiy~': [333], 'tay~Ar': [334], 'varowap': [335], 'tasA&ul': [336], 'tarotiyb': [337], 'tal~': [339], 'maqoEad': [340], 'maraD': [341], 'mawoqiE': [342], 'taqoliyd': [343], 'taqodiyr': [344], 'maroHalap': [345], 'mawohibap': [346], 'marojiE': [347], 'tuhomap': [348], 'niy~ap': [350, 1021], 'manohaj': [351], 'maTar': [352], 'zaEiym': [354], 'zujAjap': [355], '{iDoTirAb': [356], 'maHaT~ap': [357], 'maEuwnap': [358], '{iHotijAj': [359], '{ifotirAD': [360], '{inotiqAd': [361], 'ma$oruwb': [362], '{inozilAq': [363], '{isotiEodAd': [364], 'ma$oEar': [365], '{isotiHoqAq': [366], '{isotixobAr': [367], 'xuT~ap': [368], 'xir~iyj': [369], 'manoSib': [370], 'maZohar': [371], 'malomaH': [372], 'waZiyfap': [373], 'wafod': [374], 'wajoh': [375], 'walad': [376], 'majohuwl': [377], 'waqof': [378], 'maham~ap': [379], 'mafoEuwl': [380], 'xAtam': [381], 'takoliyf': [382], 'madad': [383], 'xariyTap': [386], 'xaSom': [387], 'taHar~iy': [388], 'miEoyAr': [389], 'qawol': [390], 'qayod': [391], 'qiymap': [392], 'muwfad': [393], 'muwASafap': [395], 'mutagay~ir': [396], 'mutaZAhir': [397], 'mutaEAmil': [399], 'musotawoSaf': [400], 'musotaHaq~': [401], 'musota$ofaY': [402], 'musAhim': [403], 'musAhamap': [404], 'riHolap': [405], 'muzAriE': [406, 969], 'nAHiyap': [407], 'murAsil': [408], 'qawiy~': [409], 'nizAE': [410], \"nidA'\": [411], 'nuwr': [412], 'qA*ifap': [413], 'najAH': [414], 'qAEap': [415], 'qAEidap': [416], 'nafaq': [417], 'qA}im': [419], 'qa*iyfap': [420], 'qadam': [421], 'nabAt': [422], 'qatiyl': [423], 'murak~ib': [424], 'risAlap': [425], 'taZAhurap': [426], 'muDArabap': [427], 'mu*ak~irap': [428], 'niqAbap': [429], 'mu&otamar': [430], 'mu&omin': [431], 'taHar~uk': [432], 'mu$Awarap': [433], 'mu$Arik': [434], 'taHoqiyq': [435], 'miyzAn': [436], 'miqoyAs': [437], 'minoHap': [438], 'taZAhur': [439], 'mihonap': [440], 'mifotAH': [441], 'taEowiyD': [442], 'muEotaqal': [443, 875], 'riwAyap': [444], 'muHAkamap': [445], 'muqotaTaf': [446], 'ruwsiy~': [447], 'muno$a>ap': [448], 'sA}iH': [449], 'munAqaSap': [450], 'munAfasap': [451], 'mukAfa>ap': [452], 'muhim~ap': [453], 'mufat~i$': [454], 'mufAja>ap': [456], 'sariy~ap': [457], 'silosilap': [458], 'muSaw~ir': [459], 'sin~': [460], 'mA$iy': [461], '|liy~ap': [462], 'bAdirap': [463], 'gurofap': [464], '>anoSAr': [465], 'dAEiy': [467, 468], 'furoSap': [469], 'gAbap': [470], '>ajor': [471], '>ajonabiy~': [472], 'Eumolap': [473], 'gAz': [474], '<iyrAd': [475], 'Euqob': [476], 'HAdiv': [477], '<irohAbiy~': [478], \">arojA'\": [479], '<ino*Ar': [480], \"binA'\": [481], '<imokAn': [482], 'bin': [483, 967], 'Hadiyv': [484], 'jabal': [485], 'jad~': [486], 'Hafolap': [487], 'Haloqap': [488], 'jariyH': [489], 'jariymap': [490], 'jar~Afap': [491], '<iSodAr': [492], 'Ham~Am': [493], 'EirAqiy~': [494], 'fiyl': [495], 'Haqiyqap': [496], 'DaEiyf': [497], 'fA}idap': [498], 'EAqibap': [499], 'EA}id': [501], 'faE~Aliy~ap': [502], 'DiEof': [503], 'EaZom': [504], 'Dariybap': [505], 'DamAnap': [506], 'fan~': [507], 'faqiyh': [508], 'daworap': [509], 'faroD': [511], 'EalAmap': [512], '>asAs': [513], 'daros': [514], 'daq~ap': [515], 'fatorap': [516], 'fatowaY': [517, 873], 'fat~iy$ap': [518], 'daEowaY': [519], 'dA}irap': [520], 'Eayon': [521], 'EibArap': [523], \"Eibo'\": [524], '>awAdim': [525], 'fikor': [526], 'firoqap': [527], '<iSAbap': [528], 'HAkim': [529], \"<iHoSA'\": [530], 'bAS': [531], 'baHov': [532, 1031], '$ugol': [533], 'kAdir': [534], 'kAfir': [535], '$ubohap': [536], 'Huj~ap': [537], 'ka>os': [538], 'liyrap': [539], 'kaniysap': [540], '$amoEap': [541, 743], '$ajarap': [542], 'Talaq': [543], '$ahiyd': [545], 'SAdir': [546], 'TAri}ap': [547], 'SinAEap': [548], 'liS~': [549], \"liqA'\": [550], 'baTal': [551], 'bAb': [552], 'fAEiliy~ap': [553], 'juroH': [554], 'jinosiy~ap': [555], 'jumohuwr': [556], 'jumohuwriy~ap': [557], 'banod': [558], 'suHub': [560], 'Ead~Ad': [561], 'taEAqud': [562], 'Eajiybap': [563], 'tAjir': [564], 'qaron': [565], 'HalowaY': [566], 'Ealaf': [567], 'Harof': [568, 581], 'suk~An': [569], 'suhob': [570], 'rA}id': [571], 'Ealam': [572], 'SaEiyd': [573], 'qim~ap': [574], 'Eamiyd': [575], 'taSoliyH': [577], 'Earo$': [578], 'qinAE': [580], 'Earuws': [583], 'ra>oy': [584], 'raSiyf': [585], 'taHoSiyn': [586], 'taHAluf': [587], 'EA}ilap': [588], 'taHiy~ap': [589], 'taHaw~ul': [590], 'EaSor': [591], 'taSar~uf': [592], 'taHar~u$': [593], 'Saqor': [594], 'Haqiybap': [595], 'taHaf~uZ': [597], 'Eadad': [598], 'taEoziyz': [599], 'qiS~ap': [600], 'taEoyiyn': [601], 'SafoHap': [602], 'Eadasap': [603], 'SafiyHap': [604], 'taEoqiyd': [605], 'qawomiy~ap': [606], 'rafiyq': [607], \"Ead~A'\": [609, 611], 'sik~iyn': [610], 'qay~im': [612], 'ribAT': [613], 'sik~ap': [614], 'sijil~': [615], 'saTor': [616], 'Eumor': [617], 'Eumuwm': [618], 'EunowAn': [620], 'sAbiqap': [621], 'HayawAn': [622], 'sAHil': [623], 'rAbiTap': [624, 628], 'ruxoSap': [625], 'Eurof': [626], 'ruwH': [627], 'rizoq': [629], 'taSoniyf': [630], 'riyADiy~': [631], 'HAlap': [632], 'Hab~': [633], 'riwAq': [634], 'HAmil': [635], 'rAhibap': [636], 'rijol': [637], 'rAgib': [638], 'rifoqap': [639, 640], 'EuTol': [641], 'ras~Am': [642], 'rasuwl': [643], 'raqoSap': [644], 'HaDArap': [645], 'Eatabap': [646], 'EawAdim': [647], 'Hur~iy~ap': [648], 'rakiyzap': [649], 'qiyAs': [650], 'Hulom': [651], 'quTob': [652], 'quboruSiy~': [653], 'Eilom': [654], 'Hariyq': [655], 'Hayoviy~ap': [656], 'Haliyf': [657, 659], 'rAkib': [660], 'HizAm': [661], 'EiyAr': [663], 'saboEiyniy~': [666], 'qisoT': [668], 'DaHiy~ap': [669], 'zar~AE': [671], 'yaxot': [672], 'zAwiyap': [673], 'zA}ir': [674], 'zamiyl': [675, 676, 677], 'zam~Arap': [678], 'zuhuwr': [679], 'taTal~uE': [680], 'zuj~': [681], '{i$otirAk': [682], '<i*on': [683], '{iEotiSAm': [684], '*ihon': [685], '{iEotimAd': [686], '<iSolAHiy~': [687], 'yatiym': [688], '<iforanojiy~': [689], '<ijAzap': [690], '<isoEAf': [692], '<iqoliym': [693], '<inojAz': [694], \"<imolA'\": [697], 'xayomap': [698], 'xaz~An': [699], 'xiborap': [700], 'xilAf': [701], '<imodAd': [702], 'xiyAr': [703], '<imArap': [704], '<iloHAH': [705], '{iEotirAD': [706], '{iEotirAf': [707], '$uroTiy~': [708], '{iqotiSAd': [709], '{irotifAE': [710], '$ahAdap': [711], \"{isotidoEA'\": [712], '{isotifohAm': [713], '{isotinotAj': [714], '$abakap': [715], \"{isotivonA'\": [716], '$aEiyrap': [717], '$Ahidap': [719], '$Ahid': [720], '{it~ijAh': [721], '{ixotilAl': [722], '{ixotinAq': [723], '|lap': [724], '{iqotiSAdiy~': [725], '$ak~': [726], '{iHotiyAT': [727], '{inotiqAl': [728], '{iHotiyATiy~': [729], '$ujAE': [730], '{igotiyAl': [732], '{ihotimAm': [733], '{ijotiyAH': [734], '$ariyk': [735], '{imotiHAn': [736], '{imotiyAz': [737], '{ino$igAl': [738], '$ariyT': [739, 740], '{inoqisAm': [741], '{inotiSAr': [742], 'xaTar': [744], 'xaTa>': [745], 'DamAn': [746], 'taqodiymAt': [747], 'DAliE': [748], 'taqoniy~ap': [749], 'taroxiyS': [751], '>unobuwb': [752], '>um~': [754], 'tawaq~uE': [755], 'tawoqiyf': [756], 'taxaS~uS': [757], 'taxaw~uf': [758], 'taxom': [759], 'qariynap': [760], 'tamoriyrap': [761], '>umoniy~ap': [762, 780], 'taman~iy': [763], 'EATifap': [765], 'tabaE': [766], 'tabar~uE': [767], 'EASimap': [768], 'DiloE': [769], 'DifAf': [770], 'tafAEul': [771], 'tafojiyr': [772], 'tagoyiyr': [773], 'DayoEap': [774], 'tajam~uE': [775], 'Daruwrap': [776], 'takah~un': [777], 'talomiyH': [778], 'tayosiyr': [779], '<iyDAH': [781], 'wajobap': [782], '>amal': [783], '>alam': [784], 'waqofap': [785], 'waqot': [786], '>adab': [788], '>aEolaY': [790], \"wiEA'\": [791], 'wikAlap': [792], 'wisATap': [793], 'wizArap': [794], \"<iyHA'\": [795], 'xa$ab': [796], '>amiyr': [797], 'tirob': [799], '>aqorab': [800], 'tisoEiyn': [801], 'tisoEiyniy~': [802], '>ukosiyd': [803], '>uko*uwbap': [804], 'vAbitap': [805], 'vAniyap': [806, 807], '>ufuq': [808], 'valAviyn': [809], '>uEojuwbap': [810], 'vamAniyn': [811], '>awojuh': [812], 'vawor': [813], 'wAriv': [814], 'waHo$': [815], 'Say~Ad': [816], 'qariyb': [817], 'miyvAq': [818], 'gArap': [819], 'mirofaq': [820], 'mirowaHiy~ap': [821], 'misokiyn': [822], 'mitor': [823], 'mitorAs': [824], 'mivol': [825], 'miyzap': [826], 'milok': [827], 'mu$Ahid': [828], 'fi}ap': [829], 'mu$aj~iE': [830], 'mu$orif': [831], 'gajariy~': [832], 'galaq': [833], 'Silap': [834], 'had~Af': [835], 'mawoTin': [836], 'hinodiy~': [837], 'mawohuwb': [838], 'mawolid': [839], 'hibap': [840], 'hayo}ap': [841], '$Ab~ap': [842], 'mawosim': [843], 'garAmap': [844], 'hAmi$': [845], 'maxozan': [846], 'gul~': [847], 'gud~ap': [848], 'mibo$arap': [849], 'midofaE': [850], \"gi*A'\": [851], 'mu$otarik': [852], 'mu&Amarap': [853], 'mu&a$~ir': [854], 'fatAp': [855], 'muHArib': [856], 'muHaS~il': [858], 'muHal~il': [859], 'fatoH': [860], 'muHar~iq': [861], 'muHar~ir': [862], 'muHotajaz': [863], 'mu&as~is': [864, 876], 'muHotal~': [865], 'muHotarif': [866], 'muHotawaY': [867], 'muSAb': [868], 'faroE': [870], 'fariyq': [871], 'muHAmiy': [872], 'muHAfaZap': [874], 'fitonap': [877], 'muDAEafap': [878], 'fayaDAn': [879], 'muDArib': [880], 'muDAyaqap': [881], 'muEAlajap': [882], 'muEAraDap': [883], 'muEad~': [884], 'fawoj': [885], 'muEal~ab': [886], 'muEal~im': [887], 'muEasokar': [888], 'muEoTaY': [889], 'muEotaqad': [890], 'jAmiE': [891], 'matojar': [892], 'maTAr': [893], 'kiyAn': [894], 'maHokamap': [895], 'maHosuwb': [896], 'kalimap': [897], 'kahof': [898], 'maSorafiy~': [899], 'kadomap': [900], 'madofuwE': [901], 'maToEam': [902], 'maTobuwE': [903], 'mabiyE': [904], 'maboHav': [905], 'ka$of': [906], 'mabolag': [907], 'maEoriD': [908], 'maEorakap': [909], 'kurap': [910], 'maEonaY': [911], 'layolap': [912, 913], 'mAniE': [914], 'laqab': [915], 'laban': [916], 'laHoZap': [917], 'lA}iHap': [918], 'ma*obaHap': [919], 'ma>okuwl': [920], 'ma>osAp': [921], 'maDomuwn': [922], 'maEAbid': [923], 'maEodin': [924], 'kAtib': [926], 'masoruwq': [927], 'jarid': [928, 933], 'jayob': [929], 'jayo$': [930], 'jawAz': [931], 'jasad': [932], 'marosam': [934], 'marotabap': [935], 'masAr': [936], 'madoxal': [937], 'jalosap': [938], 'maso&uwliy~ap': [940], 'jA}izap': [941], 'jAr': [942], 'jAnib': [943], 'masokan': [944], 'mano$uwr': [945, 946], 'mamar~': [947], 'jaziyrap': [948], 'madoyuwniy~ap': [949], \"juzo'\": [950], 'mafoSil': [951], 'mafohuwm': [952], 'mafoquwd': [953], 'mafoxarap': [954], 'majolis': [955], 'majoraY': [956], 'ji*or': [957], 'makotab': [958], 'makotabap': [959], 'malik': [960], 'maloEab': [961], 'malobas': [962], 'mudar~ib': [963], 'faqiyr': [964], 'mudaw~an': [965], 'nA$i}': [966, 973], 'muxotabar': [968], 'bidAyap': [972], 'biTAqap': [974], 'na*or': [975], 'biDAEap': [976], 'nAr': [978], 'bayot': [979], 'bayAn': [980], 'muxay~am': [981], 'muxaT~aT': [982], 'muxAlif': [983], 'muxAlafap': [984], 'buwm': [985], 'muwASalap': [986], 'buroj': [987], 'burohAn': [988], 'buHayorap': [989], 'muwAzanap': [990], 'bu&orap': [992], 'muwak~il': [993], 'muwal~id': [994], 'muwar~id': [995], 'muwdiE': [996], 'muwdiyl': [997], 'binoyap': [998], 'baqiy~ap': [999], 'naHow': [1000], 'muval~aj': [1001], 'TAbiq': [1002], 'Tariyqap': [1003], 'TamaE': [1004], 'qADiy': [1005], 'TaEonap': [1006], 'TAwilap': [1007], 'qAr~ap': [1008], 'naSiyHap': [1011], 'qA}imap': [1012], 'Sunoduwq': [1013], 'SinAEiy~': [1014], 'qaTiyE': [1015], 'qadiym': [1016], 'qamiyS': [1017], 'qanAp': [1018], 'Taw~Afap': [1019], 'Zil~': [1020], 'bAHiv': [1022], 'naSorAniy~': [1023], 'naS~': [1024], 'naZar': [1025], 'naZ~Arap': [1026], 'banok': [1027], 'nadowap': [1028], 'badawiy~': [1029], 'nahor': [1030], 'baEovap': [1032], 'naqod': [1033], 'bAxirap': [1034], 'bAqiy': [1035], 'muvaq~af': [1037], 'mut~ahim': [1038], 'mufAwiD': [1039], 'munodoraj': [1040], 'mumotalak': [1041], 'munAqa$ap': [1042], 'munAsabap': [1043], 'munAx': [1044], 'duwayolap': [1045], 'muno$id': [1046], 'duhon': [1047], 'muqad~as': [1048], 'munotaxab': [1049], 'muqAtilap': [1052], 'muqAwalap': [1053], 'muqAwil': [1054], 'fA}iz': [1056], 'mumArasap': [1057], 'mulAHiZ': [1058], 'faHoS': [1059, 1063], 'mugAlaTap': [1060], 'mugotarib': [1061], 'muhAjir': [1062], 'mujAhid': [1064, 1065, 1066], 'mujal~ad': [1067], 'mujam~aE': [1068], 'mujotamaE': [1069], \"faDA'\": [1070], 'mukaw~in': [1071], 'mukotasab': [1072], 'mulAHaZap': [1073], 'muqAwim': [1074], 'mutarojim': [1075], 'mutaEAqid': [1076], 'musotajad~': [1077], 'dafotar': [1078], 'dab~Abap': [1079], 'musotawoTanap': [1080], 'musotaxodam': [1081], 'mutAbiE': [1082], 'muta$ad~id': [1083], 'mutaEav~ir': [1084], 'muqotaraH': [1085], 'mutaTal~ab': [1086], 'mutaTar~if': [1087], 'dAfiE': [1088], 'mutafaj~ir': [1089], 'mutamaw~il': [1091], 'mutaqADiy': [1092], 'dagal': [1093], 'musotaEoTiy': [1094], 'dalAlap': [1095], 'musota$Ar': [1096], 'murAhanap': [1097], 'daworiy~ap': [1098], 'murAsalap': [1099], 'mura$~aH': [1100], \"dawA'\": [1101], 'murat~ab': [1102], 'dar~Ajap': [1103], 'murotakib': [1105], 'musAbaqap': [1106], 'musAfir': [1107], 'damoE': [1108], 'musaj~il': [1109], 'dam': [1111], 'mawoquwf': [1112]}\n",
            "1024\n",
            "unique:  1113\n",
            "{'Eamal': [0], 'hadaf': [1], 'EalAqap': [2], 'mu&as~asap': [3], 'EuDow': [4, 324], 'natiyjap': [5], 'xidomap': [6], 'quw~ap': [7, 178, 416, 663], 'Haq~': [8], 'mawoqiE': [9], 'jahod': [10], 'dawolap': [11, 785], 'wilAyap': [12], 'Eamaliy~ap': [13], 'Tifol': [14], 'sabab': [15], 'TA}irap': [16], 'balad': [17, 305], '$aroT': [18], 'firoqap': [19], 'farod': [20], 'mAl': [21], 'Hizob': [22], 'hajomap': [23], 'siyAsap': [24], 'HisAb': [25], 'qarAr': [26], 'minoTaqap': [27], 'waDoE': [28], \"<ijorA'\": [29], '$ab~': [30], 'qAEidap': [31], '$arikap': [32], 'silAH': [33], 'maEoluwm': [34], 'rajul': [35], 'muhim~ap': [36], 'SAruwx': [37], 'jaw~': [38, 778], 'junodiy~': [39], 'fikor': [40], 'maso&uwl': [41, 1055], 'ma$oEar': [42], 'EA}ilap': [43], 'Had~': [44], 'mAd~ap': [45], 'yawom': [46], 'nA}ib': [47], 'musolim': [48], \"mA'\": [49, 989], '>avar': [50], 'wasiylap': [51, 695], 'ma$oruwE': [52], 'waziyr': [53, 659], 'Earabiy~': [54], 'siEor': [55], 'maSolaHap': [56], 'DagoT': [57], 'jihAz': [58], 'jihap': [59], 'mawoqif': [60], 'majomuwEap': [61], 'EAlim': [62], 'muHAdavap': [63], 'baronAmaj': [64], 'mu$okilap': [65, 117], 'tadAEiy': [66], 'mumotalak': [67], '*axiyrap': [68], 'TAlib': [69, 754], 'Taraf': [70], 'dayon': [71], 'munAqa$ap': [72], 'musAhamap': [73], '$axoS': [74], 'mubArAp': [75], '$a>on': [76], 'bayAn': [77], 'suwq': [78], 'xabiyr': [79], 'lAji}': [80], 'madiynap': [81], 'xaTowap': [82, 637], 'marokaz': [83], 'rasom': [84, 661], '{it~ifAq': [85], 'maroHalap': [86], 'xilAf': [87], 'ka$of': [88, 1015], 'muqATaEap': [89], 'zabuwn': [90], 'faSiyl': [91], 'suloTap': [92], 'na$AT': [93, 235, 568], 'Tariyq': [94], 'EAm': [95], 'lagom': [96], 'mumArasap': [97], 'EAmil': [98, 359], 'Eadad': [99], 'munaZ~amap': [100], 'mafohuwm': [101], '{isotixobAr': [102], 'maSodar': [103], \"nisA'\": [104], 'damoE': [105], 'SAdir': [106], 'taSoriyH': [107], 'wasaT': [108], 'qalob': [109], 'Sawot': [110], 'muEad~': [111], 'qa*iyfap': [112], 'SaHiyfap': [113], 'buEod': [114], '$Ahid': [115], 'jariymap': [116], '>aroD': [118], 'daliyl': [119, 726], 'qA}id': [120, 428], 'mufAwaDap': [121], '{inotixAb': [122], '{iqotirAH': [123], 'Hukom': [124], '>um~ap': [125], 'miEoyAr': [126], '$ahor': [127, 834], '{ibon': [128, 298], '{inotiqAd': [129], 'lajonap': [130], \"liqA'\": [131], 'baTal': [132], 'sik~ap': [133], 'HAlap': [134], 'HAdiv': [135], 'lawoHap': [136], 'xaTar': [137], 'taTaw~ur': [138], 'xaTa>': [139], 'taqoriyr': [140], 'Sador': [141], 'taSofiyap': [142], 'SaHAfiy~': [143, 740, 741], 'EunoSur': [144], 'hayo}ap': [145], 'taHoqiyq': [146], 'SAHib': [147], 'tadoriyb': [148], 'Hur~iy~ap': [149], 'tafoSiyl': [150], 'jiyl': [151], 'Talab': [152], 'Talaq': [153], 'Hiyn': [154], 'taEowiyD': [155], 'kAtib': [156], 'jamAEap': [157], 'kitAb': [158], 'Harob': [159], 'Haqiyqap': [160], 'tanoZiym': [161], 'Hadav': [162], 'Zarof': [163], 'kalimap': [164], 'maboda>': [165], 'muno$a>ap': [166], 'mulAHaZap': [167], 'Darar': [168], 'maraD': [169], 'qAnuwn': [170], '$axoSiy~ap': [171], 'maso&uwliy~ap': [172], 'rad~': [173, 704], '>usoluwb': [174], 'niZAm': [175, 179], 'milaf~ap': [176], 'minaS~ap': [177], '{isom': [180, 585], 'qiyAdap': [181], '{it~iSAl': [182], '>anoSAr': [183], '>amor': [184], 'qiTAE': [185], '{ijotimAE': [186], 'maEohad': [187], '>ab': [188], '>aSol': [189], 'mujotamaE': [190], 'qADiy': [191], '<iSAbap': [192], 'mubAdarap': [193], 'mufat~i$': [194], 'ra}iys': [195, 628], '<imokAn': [196], '{it~ihAm': [197], 'sAkin': [198], 'maTobuwE': [199], 'maTolab': [200], 'maSoraf': [201], 'muqAtilap': [202], '$aEob': [203], 'nAdiy': [204], 'madorasap': [205], 'Eayob': [206], 'maToEam': [207], '$abakap': [208, 209], 'Eayon': [210, 892], 'sanap': [211, 356], 'makotab': [212], 'risAlap': [213], 'garaD': [214], 'gArap': [215], 'tahodiyd': [216], 'muxay~am': [217], 'dAr': [218, 733], 'mutafaj~ir': [219], 'muwAjahap': [220], 'furoSap': [221], 'nuqoTap': [222], 'musota$ofaY': [223], 'fi}ap': [224], 'tajoribap': [225], 'daEowap': [226], 'niqAbap': [227], 'darajap': [228], 'dar~Ajap': [229], 'naqiyb': [230], 'fA}idap': [231], 'musAEadap': [232], 'faSol': [233], 'nafos': [234], 'taqoniy~': [236], 'say~Arap': [237], 'qaroyap': [238], 'tadobiyr': [239], 'lAEib': [240, 503, 1028], 'manozil': [241], 'rukon': [242], 'malobas': [243], 'ruwH': [244], 'su&Al': [245], 'kurap': [246], 'sir~': [247], 'majAl': [248], 'haz~ap': [249], 'sabiyl': [250], 'safiyr': [251], 'banod': [252], 'sahom': [253], 'maHaT~ap': [254], 'maEorakap': [255], 'sayol': [256], 'maEolam': [257], 'rihAn': [258], 'taEoliym': [259], \"juzo'\": [260], 'mar~ap': [261], 'jAmiEap': [262], 'taZAhurap': [263], 'qaDiy~ap': [264], 'taZAhur': [265], 'muHAwalap': [266, 896], 'jalosap': [267], 'jamoEiy~ap': [268], 'muHAmiy': [269, 917], 'muDorib': [270], 'qayod': [271], 'qiymap': [272], 'qudorap': [273], 'qunobulap': [274], 'mirofaq': [275], 'ra>os': [276], 'maworid': [277], 'masiyHiy~': [278], 'tafojiyr': [279], 'muwaZ~af': [280, 493, 716], '<iSolAH': [281], 'EibArap': [282], '$iroyAn': [283], '*ariyEap': [284], \"{iEotidA'\": [285], '{inotihAk': [286], 'HuDuwr': [287], 'Huj~ap': [288], 'Hukuwmap': [289], 'Hulom': [290], 'Darobap': [291], 'DaHiy~ap': [292], '>amoriykiy~': [293, 294], 'TAri}ap': [295], 'SalAHiy~ap': [296], 'SalAp': [297], 'waraq': [299], '>ax': [300, 417, 824], '>usotA*': [301], 'HAjap': [302], 'yad': [303], '>usobuwE': [304], 'xaT~': [306], 'Eubuw~ap': [307], '$ahAdap': [308], '$Ab~': [309], 'xasArap': [310], 'xariyTap': [311], 'Hal~': [312], 'Euquwbap': [313], 'Haliyf': [314], 'Haloqap': [315], '{it~ijAh': [316], 'Eilom': [317], 'raqom': [318], 'masAfap': [319], 'marosam': [320], 'ziyArap': [321], 'DAbiT': [322, 876], 'maEonaY': [323], 'DamAn': [325], 'ramoz': [326], 'DamAnap': [327], 'ma$ohad': [328], 'rakol': [329], 'mA$iy': [330], 'masojid': [331], 'rafiyqap': [332], '>usoquf': [333], 'raSASap': [334], 'ra>oy': [335], 'mariyD': [336, 1068], 'maSonaE': [337], 'Dariybap': [338], 'majolis': [339], 'Easokariy~': [340], 'mabiyE': [341], 'Eaqol': [342], 'yaxot': [343], 'Eamiyl': [344, 884], 'sanad': [345], 'mahArap': [346], 'maham~ap': [347], 'maHokamap': [348], 'xiborap': [349], 'EA}id': [350], 'sAbiqap': [351], \"bariy'\": [352], 'EirAqiy~': [353], 'EAqibap': [354], 'sAEidap': [355], 'sAEap': [357], 'makAn': [358], 'zamiyl': [360, 621], 'manohaj': [361], \"Dawo'\": [362], 'manosuwj': [363], 'Daruwrap': [364], 'Eavorap': [365], 'turokiy~': [366], '>ufuq': [367], 'maxATir': [368], 'muqad~im': [369], 'munotaxab': [370], 'munotaj': [371], 'nafas': [372], 'najom': [373], '{isotivomAr': [374], 'munAwarap': [375], '$ayox': [376, 845], '$iEAr': [377], '$ugol': [378], 'mumAris': [379], 'mukaw~in': [380], 'nizAE': [381], '<i*AEap': [382], '<iSobaE': [383], 'muhAjim': [384], '$aqiyq': [385], 'naS~': [386], 'maxozuwn': [387], 'naHow': [388], 'muwATin': [389, 760], 'muwASafap': [390], 'mut~aham': [391], '$ATi}': [392], 'mutaZAhir': [393], 'muxal~af': [394], 'musotawoTin': [395], 'musotawoTanap': [396], 'muzAriE': [397, 532, 554], 'musota$Ar': [398], '$AriE': [399], '|liy~ap': [400], '$aZiy~ap': [401], 'nAr': [402], 'nAs': [403], 'mugotarib': [404], 'mud~axar': [405], 'mud~aEiy': [406], 'mudar~aj': [407], 'qiToEap': [408], \">arojA'\": [409], 'mu$ay~iE': [410], 'mu$Arik': [411], 'quboruSiy~': [412], '>asiyr': [413], 'mirowaHiy~ap': [414, 998], 'quronap': [415], 'miSoriy~': [418, 1046], 'rAbiTap': [419], '>um~': [420], 'mazoEamap': [421], 'rA}iHap': [422], 'mu&otamir': [423], '>amal': [424], '<irohAbiy~': [425], '<inojAz': [426], 'mudAfiE': [427], 'muSad~ir': [429], 'muSAlaHap': [430], 'muHotaj~': [431], '{inofiEAl': [432], 'qaron': [433], 'qaSiydap': [434], 'qabor': [435], '>adab': [436], 'qaroD': [437], 'muEal~im': [438], '{ilotimAs': [439], 'sijon': [440], '$A$ap': [441], 'HAj~': [442], 'dawor': [443], 'dirAsap': [444], 'waqiyEap': [445], 'SinAEap': [446], 'hibap': [447], 'hutAf': [448], 'daworiy~ap': [449], 'daworap': [450], 'Say~Ad': [451], 'jAnib': [452], 'waqot': [453], 'Saf~': [454], 'SafoHap': [455], 'haram': [456], 'jariyH': [457], 'tawaj~uh': [458, 591], 'baHov': [459, 720], 'jaziyrap': [460], 'ji*or': [461], 'daros': [462], 'jidAr': [463], 'taHoDiyr': [464], 'taHar~uk': [465], 'jisor': [466], 'daqiyqap': [467], 'tawoSiyap': [468], 'walad': [469], 'juroH': [470, 986], 'tajohiyz': [471], 'waEod': [472], 'taqal~ub': [473], 'taqodiymAt': [474], 'taqodiyr': [475], 'TaliyEap': [476], 'fan~iy~': [477], 'takoliyf': [478], 'wArid': [479], 'Tabiyb': [480], 'bAS': [481], 'wadiyEap': [482], 'TA}ifap': [483], 'HAl': [484], 'wajoh': [485], 'tajam~uE': [486], 'bAb': [487], 'faE~Aliy~ap': [488], 'gAziy': [489], 'TAqap': [490], 'tagoyiyr': [491], 'tasA&ul': [492], 'Suwrap': [494, 753], 'fAEiliy~ap': [495], 'hadiy~ap': [496], 'taHad~iy': [497], 'fatorap': [498], 'juv~ap': [499], 'tirob': [500], 'ka$~Af': [501], \"binA'\": [502], 'Haqol': [504], 'dA}irap': [505], 'taDoHiyap': [506], 'Hajar': [507], 'dab~Abap': [508], 'siyAsiy~': [509], 'Hasorap': [510], 'kam~iy~ap': [511], 'tAjir': [512], 'suwriy~': [513], 'Hamolap': [514], 'biTAqap': [515], 'tawoqiyE': [516], 'Harakap': [517], 'vamAniyn': [518], 'HiS~ap': [519], 'vaman': [520], 'Hay~': [521], 'biDAEap': [522], 'nA$iT': [523], 'tasodiyd': [524], 'qAdim': [525], 'qAfilap': [526], 'tasohiyl': [527], 'qabiylap': [528], '{inoHirAf': [529], 'muzaw~id': [530], \"{inotimA'\": [531], '{inoEikAs': [533], 'qaSor': [534], 'tilomiy*': [535, 589], 'vugorap': [536, 539], 'taqoniy~ap': [537], 'tarotiylap': [538], '{inofijAr': [540], '{inotiSAr': [541], 'qA}il': [542], 'muxad~ir': [543], 'muxAlafap': [544], 'muxAbarap': [545], 'muxal~iS': [546], 'tuhomap': [547], 'tuHofap': [548], 'muxotAr': [549], 'qA}imap': [550], 'vamar': [551], 'muwak~il': [552], 'qAr~ap': [553], 'qAri}': [555], 'nA$i}': [556, 590], '{iqotinAE': [557], '|hap': [558], 'vaniy~ap': [559], 'naqoD': [560], 'qadiym': [561], 'tawaq~uE': [562], 'nagom': [563], '{isotixodAm': [564], 'nAxib': [565], '|lap': [566], '{it~iHAd': [567], 'tawAzun': [569], 'vawob': [570], '{ixotirAq': [571], 'na*or': [572], 'tawat~ur': [573], 'nafaq': [574], 'varowap': [575], 'nadowap': [576], 'tawoZiyf': [577], 'vaqAfap': [578], 'vaworap': [579], '{isotifozAz': [580], 'nAqilap': [581], 'nAfi*ap': [582], 'nuzohap': [583], '{irotidAd': [584], 'naba>': [586], '|mil': [587], 'niy~ap': [588], '{isotiEodAd': [592], 'viqal': [593], 'nAHiyap': [594], 'niqA$': [595], 'nihA}iy~': [596], 'nATiq': [597], \"nidA'\": [598], 'tay~Ar': [599], '{isotibAHap': [600], '{isotimolAk': [601], '{igotiyAl': [602], 'qalam': [603], 'yatiym': [604], 'yawomiy~At': [605], 'saboEiyn': [606], 'taEodiyl': [607], 'zAwiyap': [608], 'zA}ir': [609], 'sA}iq': [610], 'zaEAmap': [611], 'sAmiE': [612], 'xAm': [613], 'zaEiym': [614], 'xAbi}ap': [615], 'taEoliyq': [616], 'taEoyiyn': [617], 'wizArap': [618], 'taHAluf': [619], 'zagoradap': [620], 'taHar~iy': [622], 'rubuwE': [623], 'rubuE': [624], 'riyADiy~': [625], 'taHaw~ul': [626], 'riHolap': [627], 'rayoHAn': [629], 'taEah~ud': [630], 'ta$okiylap': [631], '{imotidAd': [632], 'xuDorap': [633], 'xaliyl': [634], 'sifArap': [635], 'xaliy~ap': [636], 'siloEap': [638], 'xalofiy~ap': [639], 'xaTiyb': [640], 'xaroq': [641], 'say~idap': [642], 'simAk': [643], 'xaSom': [644], 'say~id': [645, 646], 'sin~': [647], 'xatom': [648], 'xayoT': [649], 'xayomap': [650], 'xayorap': [651], 'sariy~ap': [652], 'sarAy': [653], 'xaSiySap': [654], 'xiyAr': [655], 'sam~': [656], 'sajiyn': [657], 'wijohap': [658], 'rasomAl': [660], '{iHotimAl': [662], 'tagay~ur': [664], 'wafod': [665], 'qud~As': [666], 'tajA*ub': [667], 'quboTAn': [668], \"{id~iEA'\": [669], 'qiyAdiy~': [670], 'qinAE': [671], 'qid~iys': [672], 'takah~un': [673], '{ijotihAd': [674], 'waZiyfap': [675], 'qiS~ap': [676], 'qay~im': [677], 'qawomiy~ap': [678], 'qawol': [679], '{ilotihAb': [680], 'waTan': [681], 'taman~iy': [682], 'tamoriyrap': [683], 'waSof': [684], 'qariyb': [685], '{imotiHAn': [686], '{iHotifAl': [687], '{iEotirAD': [688], 'tafAEul': [689], 'rafiyq': [690], 'taHowiyl': [691], 'wayolap': [692], 'waviyqap': [693], 'raqoSap': [694], 'wasiyT': [696], 'rakiyzap': [697], 'zuhuwr': [698], 'tabar~uE': [699], 'rahiynap': [700], 'taboliyg': [701], 'waqof': [702], 'rAbiH': [703], '{iEotibAr': [705], 'tadax~ul': [706], '{iEotimAd': [707], 'rA}id': [708], 'rAkib': [709], 'wakiyl': [710], 'rAhib': [711], 'rAbiyap': [712], 'wahom': [713], 'sAHil': [714], 'maviyl': [715], 'bAHiv': [717], 'bAniy': [718], 'ba*or': [719], 'baSomap': [721], 'baTorak': [722], 'badan': [723], 'baladiy~ap': [724], 'balodap': [725], 'baqiy~ap': [727], 'bayoraq': [728], 'bi}or': [729], 'burohAn': [730], 'dAEiy': [731, 732], 'dAris': [734], 'daEowaY': [735], 'Zil~': [736], 'TumuwH': [737], 'TibAE': [738], 'SaEiyd': [739, 803], 'Sadiyq': [742], 'Safoqap': [743], 'Sagiyrap': [744], 'Saqor': [745], 'Saroxap': [746], 'Saxor': [747], 'SidAm': [748], 'SinAEiy~': [749], 'Sinof': [750], 'SirAE': [751], 'SuEuwbap': [752], 'Tabaqap': [755], 'Tabol': [756], 'Tay~Ar': [757], 'dafotar': [758], 'daraj': [759], 'jAliyap': [761], 'gaw~ASap': [762], \"giTA'\": [763], 'gurofap': [764], 'hAjis': [765], 'hAtif': [766], 'had~Af': [767], 'ham~': [768], 'haziymap': [769], 'jAmiE': [770], \"dawA'\": [771], 'jabal': [772], 'jabohap': [773], 'jad~': [774], 'janAH': [775], 'jaras': [776], 'jasad': [777], 'jinAzap': [779], 'jirom': [780], 'gariyb': [781], 'gamor': [782], 'gAz': [783], 'gAyap': [784], 'diEomap': [786], 'duwayolap': [787], 'fAEil': [788], 'fAtuwrap': [789], 'faDiylap': [790], 'fal~': [791], 'fal~AH': [792], 'fan~An': [793], 'fariyq': [794], 'faroDiy~ap': [795], 'faroHap': [796], 'fatowaY': [797], 'fiEol': [798], 'fidA}iy~': [799], 'filo*ap': [800], 'fitonap': [801], 'fiyl': [802], 'SAniE': [804], 'Huwt': [805], '<iHobAT': [806], '<ilof': [807], '<imArap': [808], '<imodAd': [809], '<inos': [810], '<iqoliym': [811], '<isolAmiy~': [812], '<izoEAj': [813], '>abokam': [814], '>ahol': [815], 'Hinow': [816], '>ajiyr': [817], '>alam': [818], '>amAnap': [819], '>amiyn': [820], '>aromaniy~': [821], '>asAs': [822], '>awAdim': [823], '>u*un': [825], \"<iHoSA'\": [826], '<i*on': [827], '<i$Arap': [828], '*ikoraY': [829], '$AHinap': [830], '$Ahidap': [831], '$aHonap': [832], '$ahiyd': [833], '$ajan': [835], '$akowaY': [836], '$ak~': [837], '$amoEap': [838], '$amosiy~ap': [839], '$ariyEap': [840], '$ariyT': [841], '$ariyk': [842], '$atiymap': [843], \"$ayo'\": [844], '$ilow': [846], '$ujAE': [847], '>uSobuwE': [848], '>uToruwHap': [849], '>unobuwb': [850], 'EinAn': [851], 'Eiroq': [852, 871], 'Eu*or': [853], 'Eumolap': [854], 'Eumor': [855], 'Euqob': [856], 'Euqodap': [857], 'Eurof': [858], 'HADir': [859], 'HAjiz': [860], 'HAwiy': [861], 'Ha$AF': [862], 'Ha$od': [863], 'HaDArap': [864], 'HaZ~': [865], 'Hab~': [866], 'Hafolap': [867], 'Haroq': [868], 'Hayoviy~ap': [869], \"Hi*A'\": [870], \"Eibo'\": [872, 874], '>unomulap': [873], '>usorap': [875], 'DayoEap': [877], 'EATifap': [878], 'EAdap': [879], 'EA}iq': [880], 'EaTiy~ap': [881], 'EaZom': [882], 'Eaduw~': [883], 'Eanotariy~ap': [885], 'EaqAr': [886], 'Eaqabap': [887], 'Eaqoliy~ap': [888], 'EaraD': [889], 'EaroD': [890], 'Eawon': [891], 'jisom': [893], 'jumoruk': [894], 'mudiyr': [895, 905], 'muHaq~iq': [897], 'muHar~ik': [898], 'muHar~ir': [899, 900], 'muHotAj': [901], 'muHotarif': [902], 'mubAHavap': [903], 'mudAxalap': [904], 'mitor': [906], 'mud~axir': [907], 'mufAwiD': [908], 'mufak~ir': [909], 'muhanodis': [910], 'mujAhid': [911], 'mujAzafap': [912], 'mujotamiE': [913], 'mukAlamap': [914], 'mukotasab': [915], 'muHArib': [916], 'muHAfaZap': [918], 'muHADir': [919], 'mivol': [920], \"miynA'\": [921], 'miyvAq': [922], 'mu$ag~al': [923], 'mu&al~if': [924], 'mu&ay~id': [925], 'mu&omin': [926], 'mu&otamar': [927], 'mu*ak~irap': [928], 'muDAEafap': [929], 'muDAd~': [930], 'muDiyf': [931], 'muEAraDap': [932], 'muEAriD': [933], 'muEAwin': [934], 'muEasokar': [935], 'muEoTaY': [936], 'muHADarap': [937], 'mulAbasap': [938], 'mumav~il': [939, 940, 963], 'muraH~ib': [941], 'muro$id': [942], 'musAEid': [943, 944], 'musal~aH': [945, 946], 'musal~am': [947], 'musotajad~': [948], 'musotalozam': [949], 'musotanad': [950], 'musotaqobil': [951, 952], 'musotawaY': [953], 'musotaworid': [954], 'mutaDar~ir': [955], 'mutaEAmil': [956], 'mutaEah~id': [957], 'mutaTal~ab': [958], 'mutagay~ir': [959], 'mutasab~ib': [960], 'murak~ib': [961], 'mura$~aH': [962, 964], 'munAfasap': [965], 'munAfis': [966], 'munAhiD': [967], 'munAsabap': [968], 'munAwi}': [969], 'munAx': [970], 'munaf~i*': [971, 972], 'munas~iq': [973], 'munotaZir': [974], 'muqAtil': [975], 'muqAwamap': [976], 'muqaw~im': [977], 'muqotaDaY': [978], 'muqotaTaf': [979], 'muqotaraH': [980], 'murAfiq': [981], 'murAhanap': [982], 'murAqib': [983], 'mivAl': [984], 'misAHap': [985], 'maHal~': [987], 'lisAn': [988], 'mAlik': [990], 'ma$oraf': [991], 'ma>osAp': [992], 'maEoSiyap': [993], 'maEoniy~': [994], 'maEuwnap': [995], 'maHAsin': [996], 'maHofil': [997], 'maHoruwq': [999], 'maSorafiy~': [1000], 'maSoruwf': [1001], 'maZohar': [1002], 'mabolag': [1003], 'mabonaY': [1004, 1005], 'madaniy~': [1006], 'mafoSil': [1007], 'libAs': [1008], 'laqab': [1009], 'laHon': [1010], 'laHoZap': [1011], 'kA*ib': [1012], 'kAdir': [1013], 'kAhin': [1014], 'ka>os': [1016], 'kabiyr': [1017], \"kafA'At\": [1018], 'kafAlap': [1019], 'kaniysap': [1020], 'katiybap': [1021], 'kiys': [1022], 'kulowap': [1023, 1024], 'kurosiy~': [1025], 'kutolap': [1026], 'kuwriy~': [1027], 'mafoquwd': [1029], 'majal~ap': [1030], 'majod': [1031], 'masoEaY': [1032], 'matojar': [1033], 'maval': [1034], '$AEir': [1035], 'mawoDuwE': [1036], 'mawoj': [1037], 'mawolid': [1038], 'maxAfap': [1039], 'maxoluwq': [1040], 'mayodAn': [1041], 'may~it': [1042], 'maziy~ap': [1043], 'mazoruwEap': [1044], 'miSofAp': [1045], 'miZal~ap': [1047], 'mihonap': [1048], 'minoHap': [1049], 'miqoyAs': [1050], 'mirojal': [1051], 'masojuwn': [1052], 'maso>alap': [1053], 'majomuwE': [1054], 'majoraY': [1056], 'majozarap': [1057], 'makosab': [1058], 'malomaH': [1059], 'mano$uwr': [1060], 'manobat': [1061], 'manoduwb': [1062], 'manojam': [1063], 'maqAl': [1064], 'maqAm': [1065], 'maqar~': [1066], 'maqolaE': [1067], 'maroSad': [1069], 'marojiE': [1070], 'marokabap': [1071], 'marosuwm': [1072], 'marotabap': [1073], 'masAr': [1074], '|yap': [1075]}\n",
            "1001\n",
            "unique:  1076\n"
          ]
        }
      ]
    },
    {
      "cell_type": "code",
      "source": [
        "def oneHot2D(arr):\n",
        "    tmp = np.zeros_like(arr)\n",
        "    tmp[np.arange(len(arr)), arr.argmax(1)] = 1\n",
        "    return tmp\n",
        "\n",
        "def oneHot3D(arr):\n",
        "    tmp = np.array([oneHot2D(x) for x in arr])\n",
        "    return tmp"
      ],
      "metadata": {
        "id": "PYqxULkbTSed"
      },
      "execution_count": 38,
      "outputs": []
    },
    {
      "cell_type": "code",
      "source": [
        "char_index_key_list = list(char_index.keys())\n",
        "char_index_val_list = list(char_index.values())\n",
        "def getCharFromIdx(idx):\n",
        "  position = char_index_val_list.index(idx)\n",
        "  return char_index_key_list[position]"
      ],
      "metadata": {
        "id": "lR89g_k_7dYp"
      },
      "execution_count": 39,
      "outputs": []
    },
    {
      "cell_type": "code",
      "execution_count": 65,
      "metadata": {
        "id": "M6wNFevTTSee"
      },
      "outputs": [],
      "source": [
        "def getWordFromOnehot(onehot):\n",
        "  encoded=np.argmax(onehot,axis=1)\n",
        "  word=[]\n",
        "  for x in encoded :\n",
        "    if x==0:break\n",
        "    word.append(getCharFromIdx(x))\n",
        "  return ''.join(word)\n",
        "\n",
        "def binaryConversion(arr, threshold=0.5):\n",
        "  tmp = np.zeros_like(arr)\n",
        "  tmp[arr > threshold] = 1\n",
        "  return tmp\n",
        "\n",
        "def reportResult(model, history, X_test, y_test):\n",
        "\n",
        "    # best models based on acc or loss in tarin set or test set\n",
        "    testHistory = list(\n",
        "        map(lambda x, y: [x, y], history['val_accuracy'], history['val_loss']))\n",
        "    print(\n",
        "        f\"best model based on min test set loss:  acc= {min(testHistory, key = lambda k: k[1])[0]}  loss= {min(testHistory, key = lambda k: k[1])[1]}\")\n",
        "    print(\n",
        "        f\"best model based on max test set accuracy:  acc= {max(testHistory, key = lambda k: k[0])[0]}  loss= {max(testHistory, key = lambda k: k[0])[1]}\")\n",
        "\n",
        "    print(\"\\nevaluate dataset with best model based on maximum test set accuracy\")\n",
        "    print(\"evaluate test set = \", model.evaluate(X_test, y_test, verbose=0))\n",
        "\n",
        "    y_test_pred = model.predict(X_test)\n",
        "    y_test_pred = binaryConversion(y_test_pred)\n",
        "\n",
        "    # confusion matrix and precision, recall and f1 report\n",
        "    print('-'*30, 'metrics for test set', '-'*30)\n",
        "    print(\"confusion matrix: \\n\", metrics.confusion_matrix(y_test, y_test_pred))\n",
        "    print(metrics.classification_report(y_test,\n",
        "          y_test_pred, digits=3, target_names=['Broken', 'Sound']))\n",
        "    \n",
        "def argmaxKeepDimensions(arr):\n",
        "  tmp = np.zeros_like(arr)\n",
        "  tmp[np.arange(len(arr)), arr.argmax(1)] = 1\n",
        "  return tmp\n",
        "\n",
        "def checkAccuracy(pred, true):\n",
        "  size = pred.shape[0]\n",
        "  numOfTrue = 0\n",
        "  for (x, y) in zip(pred, true):\n",
        "    if np.array_equal(x, y):\n",
        "      numOfTrue += 1\n",
        "  \n",
        "  return size-numOfTrue, numOfTrue/size\n",
        "\n",
        "def checkAccuracy_withPredict(lemma, pred, dic_refrence):\n",
        "  size = pred.shape[0]\n",
        "  numOfTrue = 0\n",
        "  for i in range (len(pred)):\n",
        "    w=getWordFromOnehot(pred[i])\n",
        "    if w in dic_refrence[lemma[i]]:\n",
        "      numOfTrue += 1\n",
        "  \n",
        "  return size-numOfTrue, numOfTrue/size\n",
        "\n",
        "def reportErrorAnalysis(lemma, bs, pred_OH, inflection_OH, path):\n",
        "  size = pred_OH.shape[0]\n",
        "  report={'index':[], 'lemma':[], 'b/s':[], 'inflection':[], 'predict':[]}\n",
        "  i=0\n",
        "  for (x, y) in zip(pred_OH, inflection_OH):\n",
        "    if not np.array_equal(x, y):\n",
        "      report['index'].append(i)\n",
        "      report['lemma'].append(lemma[i])\n",
        "      report['b/s'].append(bs[i])\n",
        "      report['inflection'].append(getWordFromOnehot(inflection_OH[i]))\n",
        "      report['predict'].append(getWordFromOnehot(pred_OH[i]))\n",
        "    i+=1\n",
        "  \n",
        "  df = pd.DataFrame(report) \n",
        "  df.to_csv(path)\n",
        "  return df"
      ]
    },
    {
      "cell_type": "code",
      "source": [
        "def reportPercentageOfBrokenSoundErrors(dataset_errorAnalysis):\n",
        "  total_errors_num = dataset_errorAnalysis.shape[0]\n",
        "  train_sound_error = np.sum(dataset_errorAnalysis['b/s'])\n",
        "  train_broken_error = total_errors_num - train_sound_error\n",
        "  return train_broken_error/total_errors_num * 100, train_sound_error/total_errors_num * 100\n",
        "\n",
        "def reportPercentageOfUnseenErrors(errorIndices, unseenIndices):\n",
        "  isInUnseen = np.array([index in unseenIndices for index in errorIndices])\n",
        "  return np.count_nonzero(isInUnseen==True) / len(errorIndices) * 100, np.count_nonzero(isInUnseen==True) / len(unseenIndices) * 100"
      ],
      "metadata": {
        "id": "jPbJ_pHqmsyV"
      },
      "execution_count": 81,
      "outputs": []
    },
    {
      "cell_type": "markdown",
      "metadata": {
        "id": "5aRDIUaOvvJv"
      },
      "source": [
        "# **Classification Models**"
      ]
    },
    {
      "cell_type": "code",
      "execution_count": null,
      "metadata": {
        "id": "o2WmPwVwV7z-"
      },
      "outputs": [],
      "source": [
        "path = '/content/drive/MyDrive/AI Projects/Arabic Broken Plural/Results/Classification Models'"
      ]
    },
    {
      "cell_type": "code",
      "execution_count": null,
      "metadata": {
        "id": "caFMHfjbiMQT"
      },
      "outputs": [],
      "source": [
        "lemma_length = X_train_lemma_OH.shape[1] #17\n",
        "encode_size = X_train_lemma_OH.shape[2] #50\n",
        "genRat_length = X_train_genRat.shape[1] #2\n",
        "\n",
        "epochs = 100\n",
        "batch_size = 64"
      ]
    },
    {
      "cell_type": "markdown",
      "metadata": {
        "id": "wYae4z1hhH4t"
      },
      "source": [
        "## **Model 1**"
      ]
    },
    {
      "cell_type": "code",
      "execution_count": null,
      "metadata": {
        "id": "BUCsnXkThH4z"
      },
      "outputs": [],
      "source": [
        "input_lemma = Input(shape=(lemma_length, encode_size))\n",
        "input_genRat = Input(shape=(genRat_length,))\n",
        "\n",
        "\n",
        "lstm = Bidirectional(LSTM(256))(input_lemma)\n",
        "\n",
        "c = Concatenate(axis=1)([lstm, input_genRat])\n",
        "\n",
        "d = Dense(256, activation='relu')(c)\n",
        "d = Dense(64, activation='relu')(d)\n",
        "# d = Dense(32, activation='relu')(d)\n",
        "\n",
        "output = Dense(1, activation='sigmoid')(d)\n",
        "model = Model(inputs=[input_lemma, input_genRat], outputs=output)\n",
        "\n",
        "checkpoint_filepath = path + '/model 1/model 1.hdf5'\n",
        "checkpoint = ModelCheckpoint(filepath=checkpoint_filepath, monitor='val_accuracy', mode='max', save_best_only=True, verbose=0)\n",
        "\n",
        "model.compile(loss=\"binary_crossentropy\", optimizer=Adam(0.001), metrics=['accuracy'])"
      ]
    },
    {
      "cell_type": "code",
      "execution_count": null,
      "metadata": {
        "id": "gd9ygt4yhH4-"
      },
      "outputs": [],
      "source": [
        "with tf.device('/GPU:0'):\n",
        "  history = model.fit([X_train_lemma_OH, X_train_genRat], y_train_class, batch_size=batch_size, epochs=epochs, \n",
        "                      verbose=1, callbacks=[checkpoint], validation_data=([X_dev_lemma_OH, X_dev_genRat], y_dev_class)).history"
      ]
    },
    {
      "cell_type": "code",
      "execution_count": null,
      "metadata": {
        "id": "BB-ixvAghH5E"
      },
      "outputs": [],
      "source": [
        "print(model.summary())\n",
        "plot_model(model, to_file=path+'/model 1/architecture.png', show_shapes=True, show_layer_names=False)"
      ]
    },
    {
      "cell_type": "code",
      "execution_count": null,
      "metadata": {
        "colab": {
          "base_uri": "https://localhost:8080/"
        },
        "id": "dDj9zmJqhH5J",
        "outputId": "54fd6d9f-d7ef-43fc-b8d2-7a169bf1502f"
      },
      "outputs": [
        {
          "output_type": "stream",
          "name": "stdout",
          "text": [
            "34/34 [==============================] - 1s 4ms/step - loss: 0.1456 - accuracy: 0.9684\n"
          ]
        },
        {
          "output_type": "execute_result",
          "data": {
            "text/plain": [
              "[0.14561790227890015, 0.9684014916419983]"
            ]
          },
          "metadata": {},
          "execution_count": 21
        }
      ],
      "source": [
        "model = load_model(BSClassification_checkpoint_filepath)\n",
        "model.evaluate([X_test_lemma_OH, X_test_genRat], y_test_class)"
      ]
    },
    {
      "cell_type": "code",
      "execution_count": null,
      "metadata": {
        "id": "8IP3NKsfhH5N"
      },
      "outputs": [],
      "source": [
        "reportResult(model, history, [X_test_lemma_OH, X_test_genRat], y_test_class)"
      ]
    },
    {
      "cell_type": "markdown",
      "metadata": {
        "id": "UB0fawJa66PY"
      },
      "source": [
        "# **Machine Translation Models**"
      ]
    },
    {
      "cell_type": "code",
      "execution_count": 22,
      "metadata": {
        "id": "QjirN8TtdNqu"
      },
      "outputs": [],
      "source": [
        "path = '/content/drive/MyDrive/AI Projects/Arabic Broken Plural/Results/Machine Translation Models'"
      ]
    },
    {
      "cell_type": "code",
      "execution_count": 23,
      "metadata": {
        "id": "52n_VZ40dNqy"
      },
      "outputs": [],
      "source": [
        "lemma_length = X_train_lemma_OH.shape[1] #17\n",
        "singularPattern_length = X_train_singularPattern_OH.shape[1] #17\n",
        "root_length = X_train_root_OH.shape[1] #4\n",
        "genRat_length = X_train_genRat.shape[1] #2\n",
        "numOfRoot_length = X_train_numOfRoot.shape[1] #1\n",
        "plPattern_length = y_train_plPattern_OH.shape[1] #18\n",
        "inflection_length = y_train_inflection_OH.shape[1] #18\n",
        "encode_size = X_train_lemma_OH.shape[2] #50\n",
        "\n",
        "epochs = 100\n",
        "batch_size = 64"
      ]
    },
    {
      "cell_type": "markdown",
      "metadata": {
        "id": "K87j_k_oEVh3"
      },
      "source": [
        "## **Model 1**\n",
        "lemma - inflection"
      ]
    },
    {
      "cell_type": "code",
      "execution_count": 24,
      "metadata": {
        "id": "M-3oRhRlEVh4"
      },
      "outputs": [],
      "source": [
        "input_lemma = Input(shape=(lemma_length, encode_size))\n",
        "input_root = Input(shape=(root_length, encode_size))\n",
        "input_genRat = Input(shape=(genRat_length, ))\n",
        "\n",
        "\n",
        "lstm1 = Bidirectional(LSTM(256))(input_lemma)\n",
        "lstm2 = Bidirectional(LSTM(64))(input_root)\n",
        "\n",
        "c = Concatenate(axis=1)([lstm1, lstm2])\n",
        "\n",
        "d = Dense(254, activation='relu')(c)\n",
        "\n",
        "c = Concatenate(axis=1)([d, input_genRat])\n",
        "\n",
        "r = RepeatVector(inflection_length)(c)\n",
        "\n",
        "lstm2 = Bidirectional(LSTM(256, return_sequences=True))(r)\n",
        "\n",
        "output = TimeDistributed(Dense(encode_size, activation='softmax'))(lstm2)\n",
        "\n",
        "model1 = Model(inputs=[input_lemma, input_root, input_genRat], outputs=output)\n",
        "\n",
        "checkpoint_filepath = path + '/model 1/best model.hdf5'\n",
        "checkpoint = ModelCheckpoint(filepath=checkpoint_filepath, monitor='val_accuracy', mode='max', save_best_only=True, verbose=0)\n",
        "\n",
        "model1.compile(loss=\"binary_crossentropy\", optimizer=Adam(0.001), metrics=['accuracy'])"
      ]
    },
    {
      "cell_type": "code",
      "execution_count": null,
      "metadata": {
        "id": "7k64r76HEVh4"
      },
      "outputs": [],
      "source": [
        "with tf.device('/GPU:0'):\n",
        "  model1.fit([X_train_lemma_OH, X_train_root_OH, X_train_genRat], y_train_inflection_OH, batch_size=batch_size, epochs=epochs, callbacks=[checkpoint], validation_data=([X_dev_lemma_OH, X_dev_root_OH, X_dev_genRat], y_dev_inflection_OH))  # starts training"
      ]
    },
    {
      "cell_type": "code",
      "execution_count": 26,
      "metadata": {
        "id": "CF__oNPxEVh4",
        "colab": {
          "base_uri": "https://localhost:8080/"
        },
        "outputId": "59fd9a01-b662-4356-dea8-59e1ce2c6b7a"
      },
      "outputs": [
        {
          "output_type": "stream",
          "name": "stdout",
          "text": [
            "34/34 [==============================] - 2s 8ms/step - loss: 0.0028 - accuracy: 0.9771\n"
          ]
        },
        {
          "output_type": "execute_result",
          "data": {
            "text/plain": [
              "[0.002833267441019416, 0.9771484732627869]"
            ]
          },
          "metadata": {},
          "execution_count": 26
        }
      ],
      "source": [
        "model1 = load_model(checkpoint_filepath)\n",
        "model1.evaluate([X_test_lemma_OH, X_test_root_OH, X_test_genRat], y_test_inflection_OH)"
      ]
    },
    {
      "cell_type": "code",
      "execution_count": null,
      "metadata": {
        "id": "C-_uAugdEVh4"
      },
      "outputs": [],
      "source": [
        "print(model1.summary())\n",
        "plot_model(model1, to_file=path+'/model 1/architecture.png', show_shapes=True, show_layer_names=False)"
      ]
    },
    {
      "cell_type": "markdown",
      "source": [
        "### **Train analyze**"
      ],
      "metadata": {
        "id": "XAoL0KSoEVh4"
      }
    },
    {
      "cell_type": "code",
      "source": [
        "train_pred = model1.predict([X_train_lemma_OH, X_train_root_OH, X_train_genRat])\n",
        "train_pred_OH = oneHot3D(train_pred)\n",
        "train_error_num, train_acc_num = checkAccuracy(train_pred_OH, y_train_inflection_OH)\n",
        "train_error_num, train_acc_num"
      ],
      "metadata": {
        "id": "pq30qNbbEVh5",
        "colab": {
          "base_uri": "https://localhost:8080/"
        },
        "outputId": "5d21ae58-ca40-41fd-feaf-ad797e4106f8"
      },
      "execution_count": 52,
      "outputs": [
        {
          "output_type": "stream",
          "name": "stdout",
          "text": [
            "86/86 [==============================] - 1s 7ms/step\n"
          ]
        },
        {
          "output_type": "execute_result",
          "data": {
            "text/plain": [
              "(194, 0.9294032023289666)"
            ]
          },
          "metadata": {},
          "execution_count": 52
        }
      ]
    },
    {
      "cell_type": "code",
      "source": [
        "y_train_inflection_OH.shape"
      ],
      "metadata": {
        "id": "Lktzh8o5HNsn",
        "colab": {
          "base_uri": "https://localhost:8080/"
        },
        "outputId": "8481e6c0-20a2-4792-a6da-f70d2eb64c1b"
      },
      "execution_count": 53,
      "outputs": [
        {
          "output_type": "execute_result",
          "data": {
            "text/plain": [
              "(2748, 17, 48)"
            ]
          },
          "metadata": {},
          "execution_count": 53
        }
      ]
    },
    {
      "cell_type": "code",
      "source": [
        "train_errorAnalysis = reportErrorAnalysis(trainData[0], trainData[5], train_pred_OH, y_train_inflection_OH, path + \"/model 1/train_errorAnalysis.csv\")\n",
        "train_errorAnalysis.head()"
      ],
      "metadata": {
        "id": "XK3xq6x0EVh5",
        "colab": {
          "base_uri": "https://localhost:8080/",
          "height": 270
        },
        "outputId": "1e7afb3a-ac2e-43df-a064-f969ec99b4b8"
      },
      "execution_count": 54,
      "outputs": [
        {
          "output_type": "execute_result",
          "data": {
            "text/plain": [
              "   index     lemma  b/s inflection     predict\n",
              "0     15    quw~ap    1     quw~At       quwaY\n",
              "1     24     balad    0      bilAd     bilodAn\n",
              "2     30     TAlib    0     Tul~Ab    TAlabayn\n",
              "3     34     >aroD    0    >arADiy      >arADi\n",
              "4     41  ma$oruwE    0   ma$AriyE  ma$AruwEAt"
            ],
            "text/html": [
              "\n",
              "  <div id=\"df-1ada9eb2-34d4-4886-8034-d6bb949a27f3\">\n",
              "    <div class=\"colab-df-container\">\n",
              "      <div>\n",
              "<style scoped>\n",
              "    .dataframe tbody tr th:only-of-type {\n",
              "        vertical-align: middle;\n",
              "    }\n",
              "\n",
              "    .dataframe tbody tr th {\n",
              "        vertical-align: top;\n",
              "    }\n",
              "\n",
              "    .dataframe thead th {\n",
              "        text-align: right;\n",
              "    }\n",
              "</style>\n",
              "<table border=\"1\" class=\"dataframe\">\n",
              "  <thead>\n",
              "    <tr style=\"text-align: right;\">\n",
              "      <th></th>\n",
              "      <th>index</th>\n",
              "      <th>lemma</th>\n",
              "      <th>b/s</th>\n",
              "      <th>inflection</th>\n",
              "      <th>predict</th>\n",
              "    </tr>\n",
              "  </thead>\n",
              "  <tbody>\n",
              "    <tr>\n",
              "      <th>0</th>\n",
              "      <td>15</td>\n",
              "      <td>quw~ap</td>\n",
              "      <td>1</td>\n",
              "      <td>quw~At</td>\n",
              "      <td>quwaY</td>\n",
              "    </tr>\n",
              "    <tr>\n",
              "      <th>1</th>\n",
              "      <td>24</td>\n",
              "      <td>balad</td>\n",
              "      <td>0</td>\n",
              "      <td>bilAd</td>\n",
              "      <td>bilodAn</td>\n",
              "    </tr>\n",
              "    <tr>\n",
              "      <th>2</th>\n",
              "      <td>30</td>\n",
              "      <td>TAlib</td>\n",
              "      <td>0</td>\n",
              "      <td>Tul~Ab</td>\n",
              "      <td>TAlabayn</td>\n",
              "    </tr>\n",
              "    <tr>\n",
              "      <th>3</th>\n",
              "      <td>34</td>\n",
              "      <td>&gt;aroD</td>\n",
              "      <td>0</td>\n",
              "      <td>&gt;arADiy</td>\n",
              "      <td>&gt;arADi</td>\n",
              "    </tr>\n",
              "    <tr>\n",
              "      <th>4</th>\n",
              "      <td>41</td>\n",
              "      <td>ma$oruwE</td>\n",
              "      <td>0</td>\n",
              "      <td>ma$AriyE</td>\n",
              "      <td>ma$AruwEAt</td>\n",
              "    </tr>\n",
              "  </tbody>\n",
              "</table>\n",
              "</div>\n",
              "      <button class=\"colab-df-convert\" onclick=\"convertToInteractive('df-1ada9eb2-34d4-4886-8034-d6bb949a27f3')\"\n",
              "              title=\"Convert this dataframe to an interactive table.\"\n",
              "              style=\"display:none;\">\n",
              "        \n",
              "  <svg xmlns=\"http://www.w3.org/2000/svg\" height=\"24px\"viewBox=\"0 0 24 24\"\n",
              "       width=\"24px\">\n",
              "    <path d=\"M0 0h24v24H0V0z\" fill=\"none\"/>\n",
              "    <path d=\"M18.56 5.44l.94 2.06.94-2.06 2.06-.94-2.06-.94-.94-2.06-.94 2.06-2.06.94zm-11 1L8.5 8.5l.94-2.06 2.06-.94-2.06-.94L8.5 2.5l-.94 2.06-2.06.94zm10 10l.94 2.06.94-2.06 2.06-.94-2.06-.94-.94-2.06-.94 2.06-2.06.94z\"/><path d=\"M17.41 7.96l-1.37-1.37c-.4-.4-.92-.59-1.43-.59-.52 0-1.04.2-1.43.59L10.3 9.45l-7.72 7.72c-.78.78-.78 2.05 0 2.83L4 21.41c.39.39.9.59 1.41.59.51 0 1.02-.2 1.41-.59l7.78-7.78 2.81-2.81c.8-.78.8-2.07 0-2.86zM5.41 20L4 18.59l7.72-7.72 1.47 1.35L5.41 20z\"/>\n",
              "  </svg>\n",
              "      </button>\n",
              "      \n",
              "  <style>\n",
              "    .colab-df-container {\n",
              "      display:flex;\n",
              "      flex-wrap:wrap;\n",
              "      gap: 12px;\n",
              "    }\n",
              "\n",
              "    .colab-df-convert {\n",
              "      background-color: #E8F0FE;\n",
              "      border: none;\n",
              "      border-radius: 50%;\n",
              "      cursor: pointer;\n",
              "      display: none;\n",
              "      fill: #1967D2;\n",
              "      height: 32px;\n",
              "      padding: 0 0 0 0;\n",
              "      width: 32px;\n",
              "    }\n",
              "\n",
              "    .colab-df-convert:hover {\n",
              "      background-color: #E2EBFA;\n",
              "      box-shadow: 0px 1px 2px rgba(60, 64, 67, 0.3), 0px 1px 3px 1px rgba(60, 64, 67, 0.15);\n",
              "      fill: #174EA6;\n",
              "    }\n",
              "\n",
              "    [theme=dark] .colab-df-convert {\n",
              "      background-color: #3B4455;\n",
              "      fill: #D2E3FC;\n",
              "    }\n",
              "\n",
              "    [theme=dark] .colab-df-convert:hover {\n",
              "      background-color: #434B5C;\n",
              "      box-shadow: 0px 1px 3px 1px rgba(0, 0, 0, 0.15);\n",
              "      filter: drop-shadow(0px 1px 2px rgba(0, 0, 0, 0.3));\n",
              "      fill: #FFFFFF;\n",
              "    }\n",
              "  </style>\n",
              "\n",
              "      <script>\n",
              "        const buttonEl =\n",
              "          document.querySelector('#df-1ada9eb2-34d4-4886-8034-d6bb949a27f3 button.colab-df-convert');\n",
              "        buttonEl.style.display =\n",
              "          google.colab.kernel.accessAllowed ? 'block' : 'none';\n",
              "\n",
              "        async function convertToInteractive(key) {\n",
              "          const element = document.querySelector('#df-1ada9eb2-34d4-4886-8034-d6bb949a27f3');\n",
              "          const dataTable =\n",
              "            await google.colab.kernel.invokeFunction('convertToInteractive',\n",
              "                                                     [key], {});\n",
              "          if (!dataTable) return;\n",
              "\n",
              "          const docLinkHtml = 'Like what you see? Visit the ' +\n",
              "            '<a target=\"_blank\" href=https://colab.research.google.com/notebooks/data_table.ipynb>data table notebook</a>'\n",
              "            + ' to learn more about interactive tables.';\n",
              "          element.innerHTML = '';\n",
              "          dataTable['output_type'] = 'display_data';\n",
              "          await google.colab.output.renderOutput(dataTable, element);\n",
              "          const docLink = document.createElement('div');\n",
              "          docLink.innerHTML = docLinkHtml;\n",
              "          element.appendChild(docLink);\n",
              "        }\n",
              "      </script>\n",
              "    </div>\n",
              "  </div>\n",
              "  "
            ]
          },
          "metadata": {},
          "execution_count": 54
        }
      ]
    },
    {
      "cell_type": "code",
      "source": [
        "print('(Broken error %, Sound error %): ', reportPercentageOfBrokenSoundErrors(train_errorAnalysis))"
      ],
      "metadata": {
        "id": "YzOAAD4jEVh5",
        "colab": {
          "base_uri": "https://localhost:8080/"
        },
        "outputId": "44cc9d94-266e-4aa6-cfa7-6ae5a3128288"
      },
      "execution_count": 55,
      "outputs": [
        {
          "output_type": "stream",
          "name": "stdout",
          "text": [
            "(Broken error %, Sound error %):  (75.25773195876289, 24.742268041237114)\n"
          ]
        }
      ]
    },
    {
      "cell_type": "code",
      "source": [
        "checkAccuracy_withPredict(trainData[0],train_pred_OH,dic_lemmaInflection)"
      ],
      "metadata": {
        "colab": {
          "base_uri": "https://localhost:8080/"
        },
        "id": "86i08EoppWIi",
        "outputId": "315f339b-47aa-43af-c187-ab8353250646"
      },
      "execution_count": 56,
      "outputs": [
        {
          "output_type": "execute_result",
          "data": {
            "text/plain": [
              "(132, 0.9519650655021834)"
            ]
          },
          "metadata": {},
          "execution_count": 56
        }
      ]
    },
    {
      "cell_type": "markdown",
      "source": [
        "### **Dev analyze**"
      ],
      "metadata": {
        "id": "ybXFriUqEVh5"
      }
    },
    {
      "cell_type": "code",
      "source": [
        "dev_pred = model1.predict([X_dev_lemma_OH, X_dev_root_OH, X_dev_genRat])\n",
        "dev_pred_OH = oneHot3D(dev_pred)\n",
        "dev_error_num, dev_acc_num = checkAccuracy(dev_pred_OH, y_dev_inflection_OH)\n",
        "dev_error_num, dev_acc_num"
      ],
      "metadata": {
        "id": "2s-l01ipEVh5",
        "colab": {
          "base_uri": "https://localhost:8080/"
        },
        "outputId": "a670bdce-cc2f-4163-e68f-3d70a72c6bcf"
      },
      "execution_count": 57,
      "outputs": [
        {
          "output_type": "stream",
          "name": "stdout",
          "text": [
            "35/35 [==============================] - 0s 7ms/step\n"
          ]
        },
        {
          "output_type": "execute_result",
          "data": {
            "text/plain": [
              "(164, 0.8526504941599281)"
            ]
          },
          "metadata": {},
          "execution_count": 57
        }
      ]
    },
    {
      "cell_type": "code",
      "source": [
        "dev_errorAnalysis = reportErrorAnalysis(devData[0], devData[5], dev_pred_OH, y_dev_inflection_OH, path + \"/model 1/dev_errorAnalysis.csv\")\n",
        "dev_errorAnalysis.head()"
      ],
      "metadata": {
        "id": "yPCOBCrEEVh5",
        "colab": {
          "base_uri": "https://localhost:8080/",
          "height": 206
        },
        "outputId": "85cd03ad-3518-4639-dc1e-f9a71ae46489"
      },
      "execution_count": 58,
      "outputs": [
        {
          "output_type": "execute_result",
          "data": {
            "text/plain": [
              "   index     lemma  b/s   inflection      predict\n",
              "0     13       >ax    0      <ixowAn      <ixowap\n",
              "1     14     TAlib    0       Tul~Ab     TAlabayn\n",
              "2     17     >amor    0       >umuwr       >awuwi\n",
              "3     18  maso&uwl    1  maso&uwliyn  maso}uwliyn\n",
              "4     20     DagoT    0       DuguwT      DuguwTA"
            ],
            "text/html": [
              "\n",
              "  <div id=\"df-006e43f3-d2c7-4766-a154-5889ce786d7c\">\n",
              "    <div class=\"colab-df-container\">\n",
              "      <div>\n",
              "<style scoped>\n",
              "    .dataframe tbody tr th:only-of-type {\n",
              "        vertical-align: middle;\n",
              "    }\n",
              "\n",
              "    .dataframe tbody tr th {\n",
              "        vertical-align: top;\n",
              "    }\n",
              "\n",
              "    .dataframe thead th {\n",
              "        text-align: right;\n",
              "    }\n",
              "</style>\n",
              "<table border=\"1\" class=\"dataframe\">\n",
              "  <thead>\n",
              "    <tr style=\"text-align: right;\">\n",
              "      <th></th>\n",
              "      <th>index</th>\n",
              "      <th>lemma</th>\n",
              "      <th>b/s</th>\n",
              "      <th>inflection</th>\n",
              "      <th>predict</th>\n",
              "    </tr>\n",
              "  </thead>\n",
              "  <tbody>\n",
              "    <tr>\n",
              "      <th>0</th>\n",
              "      <td>13</td>\n",
              "      <td>&gt;ax</td>\n",
              "      <td>0</td>\n",
              "      <td>&lt;ixowAn</td>\n",
              "      <td>&lt;ixowap</td>\n",
              "    </tr>\n",
              "    <tr>\n",
              "      <th>1</th>\n",
              "      <td>14</td>\n",
              "      <td>TAlib</td>\n",
              "      <td>0</td>\n",
              "      <td>Tul~Ab</td>\n",
              "      <td>TAlabayn</td>\n",
              "    </tr>\n",
              "    <tr>\n",
              "      <th>2</th>\n",
              "      <td>17</td>\n",
              "      <td>&gt;amor</td>\n",
              "      <td>0</td>\n",
              "      <td>&gt;umuwr</td>\n",
              "      <td>&gt;awuwi</td>\n",
              "    </tr>\n",
              "    <tr>\n",
              "      <th>3</th>\n",
              "      <td>18</td>\n",
              "      <td>maso&amp;uwl</td>\n",
              "      <td>1</td>\n",
              "      <td>maso&amp;uwliyn</td>\n",
              "      <td>maso}uwliyn</td>\n",
              "    </tr>\n",
              "    <tr>\n",
              "      <th>4</th>\n",
              "      <td>20</td>\n",
              "      <td>DagoT</td>\n",
              "      <td>0</td>\n",
              "      <td>DuguwT</td>\n",
              "      <td>DuguwTA</td>\n",
              "    </tr>\n",
              "  </tbody>\n",
              "</table>\n",
              "</div>\n",
              "      <button class=\"colab-df-convert\" onclick=\"convertToInteractive('df-006e43f3-d2c7-4766-a154-5889ce786d7c')\"\n",
              "              title=\"Convert this dataframe to an interactive table.\"\n",
              "              style=\"display:none;\">\n",
              "        \n",
              "  <svg xmlns=\"http://www.w3.org/2000/svg\" height=\"24px\"viewBox=\"0 0 24 24\"\n",
              "       width=\"24px\">\n",
              "    <path d=\"M0 0h24v24H0V0z\" fill=\"none\"/>\n",
              "    <path d=\"M18.56 5.44l.94 2.06.94-2.06 2.06-.94-2.06-.94-.94-2.06-.94 2.06-2.06.94zm-11 1L8.5 8.5l.94-2.06 2.06-.94-2.06-.94L8.5 2.5l-.94 2.06-2.06.94zm10 10l.94 2.06.94-2.06 2.06-.94-2.06-.94-.94-2.06-.94 2.06-2.06.94z\"/><path d=\"M17.41 7.96l-1.37-1.37c-.4-.4-.92-.59-1.43-.59-.52 0-1.04.2-1.43.59L10.3 9.45l-7.72 7.72c-.78.78-.78 2.05 0 2.83L4 21.41c.39.39.9.59 1.41.59.51 0 1.02-.2 1.41-.59l7.78-7.78 2.81-2.81c.8-.78.8-2.07 0-2.86zM5.41 20L4 18.59l7.72-7.72 1.47 1.35L5.41 20z\"/>\n",
              "  </svg>\n",
              "      </button>\n",
              "      \n",
              "  <style>\n",
              "    .colab-df-container {\n",
              "      display:flex;\n",
              "      flex-wrap:wrap;\n",
              "      gap: 12px;\n",
              "    }\n",
              "\n",
              "    .colab-df-convert {\n",
              "      background-color: #E8F0FE;\n",
              "      border: none;\n",
              "      border-radius: 50%;\n",
              "      cursor: pointer;\n",
              "      display: none;\n",
              "      fill: #1967D2;\n",
              "      height: 32px;\n",
              "      padding: 0 0 0 0;\n",
              "      width: 32px;\n",
              "    }\n",
              "\n",
              "    .colab-df-convert:hover {\n",
              "      background-color: #E2EBFA;\n",
              "      box-shadow: 0px 1px 2px rgba(60, 64, 67, 0.3), 0px 1px 3px 1px rgba(60, 64, 67, 0.15);\n",
              "      fill: #174EA6;\n",
              "    }\n",
              "\n",
              "    [theme=dark] .colab-df-convert {\n",
              "      background-color: #3B4455;\n",
              "      fill: #D2E3FC;\n",
              "    }\n",
              "\n",
              "    [theme=dark] .colab-df-convert:hover {\n",
              "      background-color: #434B5C;\n",
              "      box-shadow: 0px 1px 3px 1px rgba(0, 0, 0, 0.15);\n",
              "      filter: drop-shadow(0px 1px 2px rgba(0, 0, 0, 0.3));\n",
              "      fill: #FFFFFF;\n",
              "    }\n",
              "  </style>\n",
              "\n",
              "      <script>\n",
              "        const buttonEl =\n",
              "          document.querySelector('#df-006e43f3-d2c7-4766-a154-5889ce786d7c button.colab-df-convert');\n",
              "        buttonEl.style.display =\n",
              "          google.colab.kernel.accessAllowed ? 'block' : 'none';\n",
              "\n",
              "        async function convertToInteractive(key) {\n",
              "          const element = document.querySelector('#df-006e43f3-d2c7-4766-a154-5889ce786d7c');\n",
              "          const dataTable =\n",
              "            await google.colab.kernel.invokeFunction('convertToInteractive',\n",
              "                                                     [key], {});\n",
              "          if (!dataTable) return;\n",
              "\n",
              "          const docLinkHtml = 'Like what you see? Visit the ' +\n",
              "            '<a target=\"_blank\" href=https://colab.research.google.com/notebooks/data_table.ipynb>data table notebook</a>'\n",
              "            + ' to learn more about interactive tables.';\n",
              "          element.innerHTML = '';\n",
              "          dataTable['output_type'] = 'display_data';\n",
              "          await google.colab.output.renderOutput(dataTable, element);\n",
              "          const docLink = document.createElement('div');\n",
              "          docLink.innerHTML = docLinkHtml;\n",
              "          element.appendChild(docLink);\n",
              "        }\n",
              "      </script>\n",
              "    </div>\n",
              "  </div>\n",
              "  "
            ]
          },
          "metadata": {},
          "execution_count": 58
        }
      ]
    },
    {
      "cell_type": "code",
      "source": [
        "print('(Broken error %, Sound error %): ', reportPercentageOfBrokenSoundErrors(dev_errorAnalysis))"
      ],
      "metadata": {
        "id": "Rb3-t4ehEVh5",
        "colab": {
          "base_uri": "https://localhost:8080/"
        },
        "outputId": "578a6732-8aa4-4d81-e54c-1177c96d4c03"
      },
      "execution_count": 59,
      "outputs": [
        {
          "output_type": "stream",
          "name": "stdout",
          "text": [
            "(Broken error %, Sound error %):  (60.97560975609756, 39.02439024390244)\n"
          ]
        }
      ]
    },
    {
      "cell_type": "code",
      "source": [
        "checkAccuracy_withPredict(devData[0],dev_pred_OH,dic_lemmaInflection)"
      ],
      "metadata": {
        "colab": {
          "base_uri": "https://localhost:8080/"
        },
        "id": "3q8CzzBqpMAR",
        "outputId": "137797a8-b767-438b-affb-fc355b0a8995"
      },
      "execution_count": 60,
      "outputs": [
        {
          "output_type": "execute_result",
          "data": {
            "text/plain": [
              "(123, 0.889487870619946)"
            ]
          },
          "metadata": {},
          "execution_count": 60
        }
      ]
    },
    {
      "cell_type": "code",
      "source": [
        "# Report Percentage of Unseen Errors in Dev set\n",
        "errorIndices_dev = unseenLemInfIndices_dev_df['index'].tolist()\n",
        "unseenIndices_dev = dev_errorAnalysis['index'].tolist()\n",
        "\n",
        "print('Percentage of Unseen Errors with respect to Total Errors, Percentage of Unseen Errors with respect to Total Unseen Samples')\n",
        "print(reportPercentageOfUnseenErrors(errorIndices_dev, unseenIndices_dev))"
      ],
      "metadata": {
        "colab": {
          "base_uri": "https://localhost:8080/"
        },
        "id": "mOswiP7Fqhdp",
        "outputId": "e0346442-2ad7-419f-e22a-28c867e89dd6"
      },
      "execution_count": 82,
      "outputs": [
        {
          "output_type": "stream",
          "name": "stdout",
          "text": [
            "Percentage of Unseen Errors with respect to Total Errors, Percentage of Unseen Errors with respect to Total Unseen Samples\n",
            "(79.41176470588235, 49.390243902439025)\n"
          ]
        }
      ]
    },
    {
      "cell_type": "markdown",
      "source": [
        "### **Test analyze**"
      ],
      "metadata": {
        "id": "i7R3KZnxEVh5"
      }
    },
    {
      "cell_type": "code",
      "source": [
        "test_pred = model1.predict([X_test_lemma_OH, X_test_root_OH, X_test_genRat])\n",
        "test_pred_OH = oneHot3D(test_pred)\n",
        "test_error_num, test_acc_num = checkAccuracy(test_pred_OH, y_test_inflection_OH)\n",
        "test_error_num, test_acc_num"
      ],
      "metadata": {
        "id": "55GGksBBEVh6",
        "colab": {
          "base_uri": "https://localhost:8080/"
        },
        "outputId": "cfba5f75-2cba-40ea-9c67-1400911f08cb"
      },
      "execution_count": 61,
      "outputs": [
        {
          "output_type": "stream",
          "name": "stdout",
          "text": [
            "34/34 [==============================] - 0s 7ms/step\n"
          ]
        },
        {
          "output_type": "execute_result",
          "data": {
            "text/plain": [
              "(143, 0.8671003717472119)"
            ]
          },
          "metadata": {},
          "execution_count": 61
        }
      ]
    },
    {
      "cell_type": "code",
      "source": [
        "test_errorAnalysis = reportErrorAnalysis(testData[0], testData[5], test_pred_OH, y_test_inflection_OH, path + \"/model 1/test_errorAnalysis.csv\")"
      ],
      "metadata": {
        "id": "i57C2rVDEVh6"
      },
      "execution_count": 62,
      "outputs": []
    },
    {
      "cell_type": "code",
      "source": [
        "print('(Broken error %, Sound error %): ', reportPercentageOfBrokenSoundErrors(test_errorAnalysis))"
      ],
      "metadata": {
        "id": "n6v7_vY1EVh6",
        "colab": {
          "base_uri": "https://localhost:8080/"
        },
        "outputId": "b80968fc-fe45-4e42-d1c1-5f6b56e164d2"
      },
      "execution_count": 63,
      "outputs": [
        {
          "output_type": "stream",
          "name": "stdout",
          "text": [
            "(Broken error %, Sound error %):  (58.74125874125874, 41.25874125874126)\n"
          ]
        }
      ]
    },
    {
      "cell_type": "code",
      "source": [
        "checkAccuracy_withPredict(testData[0],test_pred_OH,dic_lemmaInflection)"
      ],
      "metadata": {
        "colab": {
          "base_uri": "https://localhost:8080/"
        },
        "id": "J2NUckr-pPAf",
        "outputId": "5c8d684c-de81-4548-d190-3a22f25b736f"
      },
      "execution_count": 64,
      "outputs": [
        {
          "output_type": "execute_result",
          "data": {
            "text/plain": [
              "(118, 0.8903345724907064)"
            ]
          },
          "metadata": {},
          "execution_count": 64
        }
      ]
    },
    {
      "cell_type": "code",
      "source": [
        "# Report Percentage of Unseen Errors in Test set\n",
        "errorIndices_test = unseenLemInfIndices_test_df['index'].tolist()\n",
        "unseenIndices_test = test_errorAnalysis['index'].tolist()\n",
        "\n",
        "print('Percentage of Unseen Errors with respect to Total Errors, Percentage of Unseen Errors with respect to Total Unseen Samples')\n",
        "print(reportPercentageOfUnseenErrors(errorIndices_test, unseenIndices_test))"
      ],
      "metadata": {
        "colab": {
          "base_uri": "https://localhost:8080/"
        },
        "id": "7HL3bbXgzGck",
        "outputId": "42261d5d-bfeb-412f-be70-a99001d2bce8"
      },
      "execution_count": 83,
      "outputs": [
        {
          "output_type": "stream",
          "name": "stdout",
          "text": [
            "Percentage of Unseen Errors with respect to Total Errors, Percentage of Unseen Errors with respect to Total Unseen Samples\n",
            "(77.64705882352942, 46.15384615384615)\n"
          ]
        }
      ]
    },
    {
      "cell_type": "markdown",
      "metadata": {
        "id": "XOv7r-UPAa82"
      },
      "source": [
        "## **Model 2**\n",
        "lemma - inflection"
      ]
    },
    {
      "cell_type": "code",
      "execution_count": null,
      "metadata": {
        "id": "gJSuS8jE7EkI"
      },
      "outputs": [],
      "source": [
        "input_lemma = Input(shape=(lemma_length, encode_size))\n",
        "input_sinPat = Input(shape=(singularPattern_length, encode_size))\n",
        "input_root = Input(shape=(root_length, encode_size))\n",
        "input_genRat = Input(shape=(genRat_length, ))\n",
        "input_numOfRoot = Input(shape=(numOfRoot_length, ))\n",
        "\n",
        "\n",
        "lstm1 = Bidirectional(LSTM(256))(input_lemma)\n",
        "lstm2 = Bidirectional(LSTM(128))(input_root)\n",
        "\n",
        "c = Concatenate(axis=1)([lstm1, lstm2])\n",
        "\n",
        "d = Dense(1000, activation='relu')(c)\n",
        "\n",
        "c = Concatenate(axis=1)([d, input_genRat])\n",
        "\n",
        "r = RepeatVector(inflection_length)(c)\n",
        "\n",
        "lstm = Bidirectional(LSTM(256, return_sequences=True))(r)\n",
        "\n",
        "# dense = TimeDistributed(Dense(128, activation='relu'))(lstm)\n",
        "\n",
        "output = TimeDistributed(Dense(encode_size, activation='softmax'))(lstm)\n",
        "\n",
        "model1 = Model(inputs=[input_lemma, input_sinPat, input_root, input_genRat, input_numOfRoot], outputs=output)\n",
        "\n",
        "checkpoint_filepath = path + '/model 2/best model.hdf5'\n",
        "checkpoint = ModelCheckpoint(filepath=checkpoint_filepath, monitor='val_accuracy', mode='max', save_best_only=True, verbose=0)\n",
        "\n",
        "model1.compile(loss=\"binary_crossentropy\", optimizer=Adam(0.001), metrics=['accuracy'])"
      ]
    },
    {
      "cell_type": "code",
      "execution_count": null,
      "metadata": {
        "id": "nl6vG4OOn85h"
      },
      "outputs": [],
      "source": [
        "with tf.device('/GPU:0'):\n",
        "  model1.fit([X_train_lemma_OH, X_train_singularPattern_OH, X_train_root_OH, X_train_genRat, X_train_numOfRoot], y_train_inflection_OH, batch_size=batch_size, epochs=epochs, callbacks=[checkpoint], validation_data=([X_dev_lemma_OH, X_dev_singularPattern_OH, X_dev_root_OH, X_dev_genRat, X_dev_numOfRoot], y_dev_inflection_OH))  # starts training"
      ]
    },
    {
      "cell_type": "code",
      "execution_count": null,
      "metadata": {
        "id": "SGWl02cbomAi"
      },
      "outputs": [],
      "source": [
        "print(model1.summary())\n",
        "plot_model(model1, to_file=path+'/model 2/architecture.png', show_shapes=True, show_layer_names=False)"
      ]
    },
    {
      "cell_type": "code",
      "execution_count": null,
      "metadata": {
        "id": "THMMAnwKor7X"
      },
      "outputs": [],
      "source": [
        "model = load_model(checkpoint_filepath)\n",
        "model.evaluate([X_test_lemma_OH, X_test_singularPattern_OH, X_test_root_OH, X_test_genRat, X_test_numOfRoot], y_test_inflection_OH)"
      ]
    },
    {
      "cell_type": "code",
      "execution_count": null,
      "metadata": {
        "colab": {
          "base_uri": "https://localhost:8080/"
        },
        "id": "8x86ljlTdd3t",
        "outputId": "bb158815-9989-477f-aa36-3c44604250c7"
      },
      "outputs": [
        {
          "output_type": "stream",
          "name": "stdout",
          "text": [
            "34/34 [==============================] - 4s 15ms/step\n",
            "(1076, 17, 48)\n",
            "(1076, 17, 48)\n"
          ]
        }
      ],
      "source": [
        "pred_plPattern = model.predict([X_test_lemma_OH, X_test_singularPattern_OH, X_test_root_OH, X_test_genRat, X_test_numOfRoot])\n",
        "\n",
        "pred_plPattern = oneHot3D(pred_plPattern)\n",
        "\n",
        "print(pred_plPattern.shape)\n",
        "print(y_test_plPattern_OH.shape)"
      ]
    },
    {
      "cell_type": "code",
      "source": [
        "reportErrorAnalysis(testData[0],pred_plPattern,y_test_inflection_OH, path+\"/model 2/test_errorAnalysis.csv\")"
      ],
      "metadata": {
        "colab": {
          "base_uri": "https://localhost:8080/",
          "height": 423
        },
        "id": "umzIhhbWzhiI",
        "outputId": "89bacd28-ebd3-4223-8f7c-9ed5799812d1"
      },
      "execution_count": null,
      "outputs": [
        {
          "output_type": "execute_result",
          "data": {
            "text/plain": [
              "     index      lemma   inflection      predict\n",
              "0        7     quw~ap       quw~At        quwaY\n",
              "1       17      balad        bilAd        bilAd\n",
              "2       41   maso&uwl  maso&uwliyn  maso}uwliyn\n",
              "3       65  mu$okilap      ma$Akil     mu$okilA\n",
              "4       69      TAlib       Tul~Ab       TAlibb\n",
              "..     ...        ...          ...          ...\n",
              "132   1056    majoraY    mujorayAt      majoray\n",
              "133   1060   mano$uwr   mano$uwrAt     manA$iyr\n",
              "134   1061    manobat      manAbit      manAtib\n",
              "135   1065      maqAm      maqAmAt      maqAmim\n",
              "136   1066     maqar~     maqar~At       maqAr~\n",
              "\n",
              "[137 rows x 4 columns]"
            ],
            "text/html": [
              "\n",
              "  <div id=\"df-2ae0c291-7f7c-4f69-a692-5d0409666b80\">\n",
              "    <div class=\"colab-df-container\">\n",
              "      <div>\n",
              "<style scoped>\n",
              "    .dataframe tbody tr th:only-of-type {\n",
              "        vertical-align: middle;\n",
              "    }\n",
              "\n",
              "    .dataframe tbody tr th {\n",
              "        vertical-align: top;\n",
              "    }\n",
              "\n",
              "    .dataframe thead th {\n",
              "        text-align: right;\n",
              "    }\n",
              "</style>\n",
              "<table border=\"1\" class=\"dataframe\">\n",
              "  <thead>\n",
              "    <tr style=\"text-align: right;\">\n",
              "      <th></th>\n",
              "      <th>index</th>\n",
              "      <th>lemma</th>\n",
              "      <th>inflection</th>\n",
              "      <th>predict</th>\n",
              "    </tr>\n",
              "  </thead>\n",
              "  <tbody>\n",
              "    <tr>\n",
              "      <th>0</th>\n",
              "      <td>7</td>\n",
              "      <td>quw~ap</td>\n",
              "      <td>quw~At</td>\n",
              "      <td>quwaY</td>\n",
              "    </tr>\n",
              "    <tr>\n",
              "      <th>1</th>\n",
              "      <td>17</td>\n",
              "      <td>balad</td>\n",
              "      <td>bilAd</td>\n",
              "      <td>bilAd</td>\n",
              "    </tr>\n",
              "    <tr>\n",
              "      <th>2</th>\n",
              "      <td>41</td>\n",
              "      <td>maso&amp;uwl</td>\n",
              "      <td>maso&amp;uwliyn</td>\n",
              "      <td>maso}uwliyn</td>\n",
              "    </tr>\n",
              "    <tr>\n",
              "      <th>3</th>\n",
              "      <td>65</td>\n",
              "      <td>mu$okilap</td>\n",
              "      <td>ma$Akil</td>\n",
              "      <td>mu$okilA</td>\n",
              "    </tr>\n",
              "    <tr>\n",
              "      <th>4</th>\n",
              "      <td>69</td>\n",
              "      <td>TAlib</td>\n",
              "      <td>Tul~Ab</td>\n",
              "      <td>TAlibb</td>\n",
              "    </tr>\n",
              "    <tr>\n",
              "      <th>...</th>\n",
              "      <td>...</td>\n",
              "      <td>...</td>\n",
              "      <td>...</td>\n",
              "      <td>...</td>\n",
              "    </tr>\n",
              "    <tr>\n",
              "      <th>132</th>\n",
              "      <td>1056</td>\n",
              "      <td>majoraY</td>\n",
              "      <td>mujorayAt</td>\n",
              "      <td>majoray</td>\n",
              "    </tr>\n",
              "    <tr>\n",
              "      <th>133</th>\n",
              "      <td>1060</td>\n",
              "      <td>mano$uwr</td>\n",
              "      <td>mano$uwrAt</td>\n",
              "      <td>manA$iyr</td>\n",
              "    </tr>\n",
              "    <tr>\n",
              "      <th>134</th>\n",
              "      <td>1061</td>\n",
              "      <td>manobat</td>\n",
              "      <td>manAbit</td>\n",
              "      <td>manAtib</td>\n",
              "    </tr>\n",
              "    <tr>\n",
              "      <th>135</th>\n",
              "      <td>1065</td>\n",
              "      <td>maqAm</td>\n",
              "      <td>maqAmAt</td>\n",
              "      <td>maqAmim</td>\n",
              "    </tr>\n",
              "    <tr>\n",
              "      <th>136</th>\n",
              "      <td>1066</td>\n",
              "      <td>maqar~</td>\n",
              "      <td>maqar~At</td>\n",
              "      <td>maqAr~</td>\n",
              "    </tr>\n",
              "  </tbody>\n",
              "</table>\n",
              "<p>137 rows × 4 columns</p>\n",
              "</div>\n",
              "      <button class=\"colab-df-convert\" onclick=\"convertToInteractive('df-2ae0c291-7f7c-4f69-a692-5d0409666b80')\"\n",
              "              title=\"Convert this dataframe to an interactive table.\"\n",
              "              style=\"display:none;\">\n",
              "        \n",
              "  <svg xmlns=\"http://www.w3.org/2000/svg\" height=\"24px\"viewBox=\"0 0 24 24\"\n",
              "       width=\"24px\">\n",
              "    <path d=\"M0 0h24v24H0V0z\" fill=\"none\"/>\n",
              "    <path d=\"M18.56 5.44l.94 2.06.94-2.06 2.06-.94-2.06-.94-.94-2.06-.94 2.06-2.06.94zm-11 1L8.5 8.5l.94-2.06 2.06-.94-2.06-.94L8.5 2.5l-.94 2.06-2.06.94zm10 10l.94 2.06.94-2.06 2.06-.94-2.06-.94-.94-2.06-.94 2.06-2.06.94z\"/><path d=\"M17.41 7.96l-1.37-1.37c-.4-.4-.92-.59-1.43-.59-.52 0-1.04.2-1.43.59L10.3 9.45l-7.72 7.72c-.78.78-.78 2.05 0 2.83L4 21.41c.39.39.9.59 1.41.59.51 0 1.02-.2 1.41-.59l7.78-7.78 2.81-2.81c.8-.78.8-2.07 0-2.86zM5.41 20L4 18.59l7.72-7.72 1.47 1.35L5.41 20z\"/>\n",
              "  </svg>\n",
              "      </button>\n",
              "      \n",
              "  <style>\n",
              "    .colab-df-container {\n",
              "      display:flex;\n",
              "      flex-wrap:wrap;\n",
              "      gap: 12px;\n",
              "    }\n",
              "\n",
              "    .colab-df-convert {\n",
              "      background-color: #E8F0FE;\n",
              "      border: none;\n",
              "      border-radius: 50%;\n",
              "      cursor: pointer;\n",
              "      display: none;\n",
              "      fill: #1967D2;\n",
              "      height: 32px;\n",
              "      padding: 0 0 0 0;\n",
              "      width: 32px;\n",
              "    }\n",
              "\n",
              "    .colab-df-convert:hover {\n",
              "      background-color: #E2EBFA;\n",
              "      box-shadow: 0px 1px 2px rgba(60, 64, 67, 0.3), 0px 1px 3px 1px rgba(60, 64, 67, 0.15);\n",
              "      fill: #174EA6;\n",
              "    }\n",
              "\n",
              "    [theme=dark] .colab-df-convert {\n",
              "      background-color: #3B4455;\n",
              "      fill: #D2E3FC;\n",
              "    }\n",
              "\n",
              "    [theme=dark] .colab-df-convert:hover {\n",
              "      background-color: #434B5C;\n",
              "      box-shadow: 0px 1px 3px 1px rgba(0, 0, 0, 0.15);\n",
              "      filter: drop-shadow(0px 1px 2px rgba(0, 0, 0, 0.3));\n",
              "      fill: #FFFFFF;\n",
              "    }\n",
              "  </style>\n",
              "\n",
              "      <script>\n",
              "        const buttonEl =\n",
              "          document.querySelector('#df-2ae0c291-7f7c-4f69-a692-5d0409666b80 button.colab-df-convert');\n",
              "        buttonEl.style.display =\n",
              "          google.colab.kernel.accessAllowed ? 'block' : 'none';\n",
              "\n",
              "        async function convertToInteractive(key) {\n",
              "          const element = document.querySelector('#df-2ae0c291-7f7c-4f69-a692-5d0409666b80');\n",
              "          const dataTable =\n",
              "            await google.colab.kernel.invokeFunction('convertToInteractive',\n",
              "                                                     [key], {});\n",
              "          if (!dataTable) return;\n",
              "\n",
              "          const docLinkHtml = 'Like what you see? Visit the ' +\n",
              "            '<a target=\"_blank\" href=https://colab.research.google.com/notebooks/data_table.ipynb>data table notebook</a>'\n",
              "            + ' to learn more about interactive tables.';\n",
              "          element.innerHTML = '';\n",
              "          dataTable['output_type'] = 'display_data';\n",
              "          await google.colab.output.renderOutput(dataTable, element);\n",
              "          const docLink = document.createElement('div');\n",
              "          docLink.innerHTML = docLinkHtml;\n",
              "          element.appendChild(docLink);\n",
              "        }\n",
              "      </script>\n",
              "    </div>\n",
              "  </div>\n",
              "  "
            ]
          },
          "metadata": {},
          "execution_count": 75
        }
      ]
    },
    {
      "cell_type": "code",
      "execution_count": null,
      "metadata": {
        "colab": {
          "base_uri": "https://localhost:8080/"
        },
        "id": "31Ka-PdPdd33",
        "outputId": "a0018009-0161-4fa6-b9d8-a4eb961a6e57"
      },
      "outputs": [
        {
          "output_type": "execute_result",
          "data": {
            "text/plain": [
              "(137, 0.8726765799256505)"
            ]
          },
          "metadata": {},
          "execution_count": 76
        }
      ],
      "source": [
        "checkAccuracy(pred_plPattern, y_test_inflection_OH)"
      ]
    },
    {
      "cell_type": "markdown",
      "metadata": {
        "id": "bGnDKnFMwWZN"
      },
      "source": [
        "## **Model 3**\n",
        "singular pattern - plural pattern"
      ]
    },
    {
      "cell_type": "code",
      "execution_count": null,
      "metadata": {
        "id": "FbsjWhWDwWZO"
      },
      "outputs": [],
      "source": [
        "input_singularPattern = Input(shape=(singularPattern_length, encode_size))\n",
        "input_root = Input(shape=(root_length, encode_size))\n",
        "input_genRat = Input(shape=(genRat_length, ))\n",
        "\n",
        "\n",
        "lstm1 = Bidirectional(LSTM(256))(input_singularPattern)\n",
        "lstm2 = Bidirectional(LSTM(64))(input_root)\n",
        "\n",
        "c = Concatenate(axis=1)([lstm1, lstm2])\n",
        "\n",
        "d = Dense(126, activation='relu')(c)\n",
        "\n",
        "c = Concatenate(axis=1)([d, input_genRat])\n",
        "\n",
        "r = RepeatVector(plPattern_length)(c)\n",
        "\n",
        "lstm2 = Bidirectional(LSTM(256, return_sequences=True))(r)\n",
        "\n",
        "output = TimeDistributed(Dense(encode_size, activation='softmax'))(lstm2)\n",
        "\n",
        "model2 = Model(inputs=[input_singularPattern, input_root, input_genRat], outputs=output)\n",
        "\n",
        "checkpoint_filepath = path + '/model 2/best model.hdf5'\n",
        "checkpoint = ModelCheckpoint(filepath=checkpoint_filepath, monitor='val_accuracy', mode='max', save_best_only=True, verbose=0)\n",
        "\n",
        "model2.compile(loss=\"binary_crossentropy\", optimizer=Adam(0.001), metrics=['accuracy'])"
      ]
    },
    {
      "cell_type": "code",
      "execution_count": null,
      "metadata": {
        "colab": {
          "base_uri": "https://localhost:8080/"
        },
        "id": "PdX8HQegwWZP",
        "outputId": "d97dd269-a2b8-4888-cd96-ff5fd0747f5a"
      },
      "outputs": [
        {
          "name": "stdout",
          "output_type": "stream",
          "text": [
            "Epoch 1/100\n",
            "45/45 [==============================] - 12s 69ms/step - loss: 0.0460 - accuracy: 0.5854 - val_loss: 0.0336 - val_accuracy: 0.6262\n",
            "Epoch 2/100\n",
            "45/45 [==============================] - 1s 23ms/step - loss: 0.0319 - accuracy: 0.6425 - val_loss: 0.0294 - val_accuracy: 0.6459\n",
            "Epoch 3/100\n",
            "45/45 [==============================] - 1s 24ms/step - loss: 0.0291 - accuracy: 0.6630 - val_loss: 0.0273 - val_accuracy: 0.6707\n",
            "Epoch 4/100\n",
            "45/45 [==============================] - 1s 23ms/step - loss: 0.0272 - accuracy: 0.6816 - val_loss: 0.0257 - val_accuracy: 0.7042\n",
            "Epoch 5/100\n",
            "45/45 [==============================] - 1s 24ms/step - loss: 0.0252 - accuracy: 0.7138 - val_loss: 0.0237 - val_accuracy: 0.7368\n",
            "Epoch 6/100\n",
            "45/45 [==============================] - 1s 24ms/step - loss: 0.0235 - accuracy: 0.7427 - val_loss: 0.0221 - val_accuracy: 0.7664\n",
            "Epoch 7/100\n",
            "45/45 [==============================] - 1s 23ms/step - loss: 0.0219 - accuracy: 0.7698 - val_loss: 0.0206 - val_accuracy: 0.8014\n",
            "Epoch 8/100\n",
            "45/45 [==============================] - 1s 24ms/step - loss: 0.0205 - accuracy: 0.7920 - val_loss: 0.0190 - val_accuracy: 0.8163\n",
            "Epoch 9/100\n",
            "45/45 [==============================] - 1s 24ms/step - loss: 0.0190 - accuracy: 0.8142 - val_loss: 0.0175 - val_accuracy: 0.8307\n",
            "Epoch 10/100\n",
            "45/45 [==============================] - 1s 24ms/step - loss: 0.0175 - accuracy: 0.8321 - val_loss: 0.0163 - val_accuracy: 0.8437\n",
            "Epoch 11/100\n",
            "45/45 [==============================] - 1s 25ms/step - loss: 0.0158 - accuracy: 0.8519 - val_loss: 0.0152 - val_accuracy: 0.8484\n",
            "Epoch 12/100\n",
            "45/45 [==============================] - 1s 24ms/step - loss: 0.0157 - accuracy: 0.8439 - val_loss: 0.0143 - val_accuracy: 0.8631\n",
            "Epoch 13/100\n",
            "45/45 [==============================] - 1s 20ms/step - loss: 0.0142 - accuracy: 0.8646 - val_loss: 0.0139 - val_accuracy: 0.8603\n",
            "Epoch 14/100\n",
            "45/45 [==============================] - 1s 24ms/step - loss: 0.0137 - accuracy: 0.8677 - val_loss: 0.0131 - val_accuracy: 0.8743\n",
            "Epoch 15/100\n",
            "45/45 [==============================] - 1s 23ms/step - loss: 0.0142 - accuracy: 0.8580 - val_loss: 0.0124 - val_accuracy: 0.8838\n",
            "Epoch 16/100\n",
            "45/45 [==============================] - 1s 21ms/step - loss: 0.0125 - accuracy: 0.8785 - val_loss: 0.0126 - val_accuracy: 0.8721\n",
            "Epoch 17/100\n",
            "45/45 [==============================] - 1s 21ms/step - loss: 0.0121 - accuracy: 0.8834 - val_loss: 0.0121 - val_accuracy: 0.8783\n",
            "Epoch 18/100\n",
            "45/45 [==============================] - 1s 23ms/step - loss: 0.0114 - accuracy: 0.8901 - val_loss: 0.0110 - val_accuracy: 0.8963\n",
            "Epoch 19/100\n",
            "45/45 [==============================] - 1s 23ms/step - loss: 0.0107 - accuracy: 0.8989 - val_loss: 0.0101 - val_accuracy: 0.9055\n",
            "Epoch 20/100\n",
            "45/45 [==============================] - 1s 20ms/step - loss: 0.0105 - accuracy: 0.8993 - val_loss: 0.0103 - val_accuracy: 0.8964\n",
            "Epoch 21/100\n",
            "45/45 [==============================] - 1s 23ms/step - loss: 0.0103 - accuracy: 0.9001 - val_loss: 0.0097 - val_accuracy: 0.9067\n",
            "Epoch 22/100\n",
            "45/45 [==============================] - 1s 20ms/step - loss: 0.0101 - accuracy: 0.9028 - val_loss: 0.0100 - val_accuracy: 0.9014\n",
            "Epoch 23/100\n",
            "45/45 [==============================] - 1s 23ms/step - loss: 0.0096 - accuracy: 0.9069 - val_loss: 0.0096 - val_accuracy: 0.9075\n",
            "Epoch 24/100\n",
            "45/45 [==============================] - 1s 23ms/step - loss: 0.0096 - accuracy: 0.9058 - val_loss: 0.0091 - val_accuracy: 0.9120\n",
            "Epoch 25/100\n",
            "45/45 [==============================] - 1s 20ms/step - loss: 0.0092 - accuracy: 0.9113 - val_loss: 0.0096 - val_accuracy: 0.9083\n",
            "Epoch 26/100\n",
            "45/45 [==============================] - 1s 20ms/step - loss: 0.0093 - accuracy: 0.9086 - val_loss: 0.0107 - val_accuracy: 0.8928\n",
            "Epoch 27/100\n",
            "45/45 [==============================] - 1s 23ms/step - loss: 0.0089 - accuracy: 0.9130 - val_loss: 0.0086 - val_accuracy: 0.9195\n",
            "Epoch 28/100\n",
            "45/45 [==============================] - 1s 23ms/step - loss: 0.0085 - accuracy: 0.9181 - val_loss: 0.0083 - val_accuracy: 0.9221\n",
            "Epoch 29/100\n",
            "45/45 [==============================] - 1s 20ms/step - loss: 0.0082 - accuracy: 0.9190 - val_loss: 0.0082 - val_accuracy: 0.9205\n",
            "Epoch 30/100\n",
            "45/45 [==============================] - 1s 23ms/step - loss: 0.0083 - accuracy: 0.9188 - val_loss: 0.0079 - val_accuracy: 0.9237\n",
            "Epoch 31/100\n",
            "45/45 [==============================] - 1s 20ms/step - loss: 0.0077 - accuracy: 0.9258 - val_loss: 0.0078 - val_accuracy: 0.9230\n",
            "Epoch 32/100\n",
            "45/45 [==============================] - 1s 20ms/step - loss: 0.0079 - accuracy: 0.9214 - val_loss: 0.0082 - val_accuracy: 0.9195\n",
            "Epoch 33/100\n",
            "45/45 [==============================] - 1s 20ms/step - loss: 0.0078 - accuracy: 0.9238 - val_loss: 0.0079 - val_accuracy: 0.9225\n",
            "Epoch 34/100\n",
            "45/45 [==============================] - 1s 23ms/step - loss: 0.0075 - accuracy: 0.9265 - val_loss: 0.0074 - val_accuracy: 0.9297\n",
            "Epoch 35/100\n",
            "45/45 [==============================] - 1s 19ms/step - loss: 0.0075 - accuracy: 0.9259 - val_loss: 0.0076 - val_accuracy: 0.9284\n",
            "Epoch 36/100\n",
            "45/45 [==============================] - 1s 21ms/step - loss: 0.0071 - accuracy: 0.9298 - val_loss: 0.0078 - val_accuracy: 0.9223\n",
            "Epoch 37/100\n",
            "45/45 [==============================] - 1s 24ms/step - loss: 0.0071 - accuracy: 0.9302 - val_loss: 0.0070 - val_accuracy: 0.9328\n",
            "Epoch 38/100\n",
            "45/45 [==============================] - 1s 20ms/step - loss: 0.0066 - accuracy: 0.9352 - val_loss: 0.0069 - val_accuracy: 0.9327\n",
            "Epoch 39/100\n",
            "45/45 [==============================] - 1s 20ms/step - loss: 0.0067 - accuracy: 0.9351 - val_loss: 0.0070 - val_accuracy: 0.9320\n",
            "Epoch 40/100\n",
            "45/45 [==============================] - 1s 29ms/step - loss: 0.0064 - accuracy: 0.9375 - val_loss: 0.0066 - val_accuracy: 0.9388\n",
            "Epoch 41/100\n",
            "45/45 [==============================] - 1s 20ms/step - loss: 0.0064 - accuracy: 0.9361 - val_loss: 0.0070 - val_accuracy: 0.9346\n",
            "Epoch 42/100\n",
            "45/45 [==============================] - 1s 19ms/step - loss: 0.0069 - accuracy: 0.9326 - val_loss: 0.0065 - val_accuracy: 0.9384\n",
            "Epoch 43/100\n",
            "45/45 [==============================] - 1s 20ms/step - loss: 0.0062 - accuracy: 0.9383 - val_loss: 0.0065 - val_accuracy: 0.9371\n",
            "Epoch 44/100\n",
            "45/45 [==============================] - 1s 23ms/step - loss: 0.0062 - accuracy: 0.9384 - val_loss: 0.0062 - val_accuracy: 0.9417\n",
            "Epoch 45/100\n",
            "45/45 [==============================] - 1s 24ms/step - loss: 0.0057 - accuracy: 0.9445 - val_loss: 0.0059 - val_accuracy: 0.9449\n",
            "Epoch 46/100\n",
            "45/45 [==============================] - 1s 21ms/step - loss: 0.0064 - accuracy: 0.9372 - val_loss: 0.0069 - val_accuracy: 0.9325\n",
            "Epoch 47/100\n",
            "45/45 [==============================] - 1s 24ms/step - loss: 0.0057 - accuracy: 0.9447 - val_loss: 0.0057 - val_accuracy: 0.9471\n",
            "Epoch 48/100\n",
            "45/45 [==============================] - 1s 20ms/step - loss: 0.0053 - accuracy: 0.9488 - val_loss: 0.0060 - val_accuracy: 0.9431\n",
            "Epoch 49/100\n",
            "45/45 [==============================] - 1s 23ms/step - loss: 0.0053 - accuracy: 0.9483 - val_loss: 0.0054 - val_accuracy: 0.9503\n",
            "Epoch 50/100\n",
            "45/45 [==============================] - 1s 20ms/step - loss: 0.0051 - accuracy: 0.9512 - val_loss: 0.0055 - val_accuracy: 0.9492\n",
            "Epoch 51/100\n",
            "45/45 [==============================] - 1s 23ms/step - loss: 0.0051 - accuracy: 0.9502 - val_loss: 0.0052 - val_accuracy: 0.9513\n",
            "Epoch 52/100\n",
            "45/45 [==============================] - 1s 20ms/step - loss: 0.0050 - accuracy: 0.9513 - val_loss: 0.0055 - val_accuracy: 0.9482\n",
            "Epoch 53/100\n",
            "45/45 [==============================] - 1s 24ms/step - loss: 0.0049 - accuracy: 0.9519 - val_loss: 0.0049 - val_accuracy: 0.9550\n",
            "Epoch 54/100\n",
            "45/45 [==============================] - 1s 21ms/step - loss: 0.0046 - accuracy: 0.9549 - val_loss: 0.0051 - val_accuracy: 0.9530\n",
            "Epoch 55/100\n",
            "45/45 [==============================] - 1s 23ms/step - loss: 0.0044 - accuracy: 0.9560 - val_loss: 0.0049 - val_accuracy: 0.9551\n",
            "Epoch 56/100\n",
            "45/45 [==============================] - 1s 23ms/step - loss: 0.0044 - accuracy: 0.9566 - val_loss: 0.0048 - val_accuracy: 0.9556\n",
            "Epoch 57/100\n",
            "45/45 [==============================] - 1s 21ms/step - loss: 0.0043 - accuracy: 0.9582 - val_loss: 0.0052 - val_accuracy: 0.9518\n",
            "Epoch 58/100\n",
            "45/45 [==============================] - 1s 20ms/step - loss: 0.0043 - accuracy: 0.9571 - val_loss: 0.0049 - val_accuracy: 0.9540\n",
            "Epoch 59/100\n",
            "45/45 [==============================] - 1s 23ms/step - loss: 0.0040 - accuracy: 0.9591 - val_loss: 0.0044 - val_accuracy: 0.9596\n",
            "Epoch 60/100\n",
            "45/45 [==============================] - 1s 20ms/step - loss: 0.0042 - accuracy: 0.9593 - val_loss: 0.0048 - val_accuracy: 0.9560\n",
            "Epoch 61/100\n",
            "45/45 [==============================] - 1s 24ms/step - loss: 0.0038 - accuracy: 0.9614 - val_loss: 0.0043 - val_accuracy: 0.9611\n",
            "Epoch 62/100\n",
            "45/45 [==============================] - 1s 21ms/step - loss: 0.0037 - accuracy: 0.9632 - val_loss: 0.0042 - val_accuracy: 0.9609\n",
            "Epoch 63/100\n",
            "45/45 [==============================] - 1s 20ms/step - loss: 0.0037 - accuracy: 0.9622 - val_loss: 0.0051 - val_accuracy: 0.9533\n",
            "Epoch 64/100\n",
            "45/45 [==============================] - 1s 20ms/step - loss: 0.0042 - accuracy: 0.9582 - val_loss: 0.0046 - val_accuracy: 0.9592\n",
            "Epoch 65/100\n",
            "45/45 [==============================] - 1s 23ms/step - loss: 0.0037 - accuracy: 0.9630 - val_loss: 0.0042 - val_accuracy: 0.9624\n",
            "Epoch 66/100\n",
            "45/45 [==============================] - 1s 20ms/step - loss: 0.0034 - accuracy: 0.9649 - val_loss: 0.0043 - val_accuracy: 0.9604\n",
            "Epoch 67/100\n",
            "45/45 [==============================] - 1s 21ms/step - loss: 0.0035 - accuracy: 0.9650 - val_loss: 0.0043 - val_accuracy: 0.9601\n",
            "Epoch 68/100\n",
            "45/45 [==============================] - 1s 23ms/step - loss: 0.0034 - accuracy: 0.9650 - val_loss: 0.0043 - val_accuracy: 0.9630\n",
            "Epoch 69/100\n",
            "45/45 [==============================] - 1s 23ms/step - loss: 0.0033 - accuracy: 0.9656 - val_loss: 0.0041 - val_accuracy: 0.9638\n",
            "Epoch 70/100\n",
            "45/45 [==============================] - 1s 24ms/step - loss: 0.0033 - accuracy: 0.9652 - val_loss: 0.0040 - val_accuracy: 0.9641\n",
            "Epoch 71/100\n",
            "45/45 [==============================] - 1s 20ms/step - loss: 0.0032 - accuracy: 0.9667 - val_loss: 0.0044 - val_accuracy: 0.9612\n",
            "Epoch 72/100\n",
            "45/45 [==============================] - 1s 23ms/step - loss: 0.0033 - accuracy: 0.9661 - val_loss: 0.0039 - val_accuracy: 0.9643\n",
            "Epoch 73/100\n",
            "45/45 [==============================] - 1s 20ms/step - loss: 0.0030 - accuracy: 0.9683 - val_loss: 0.0040 - val_accuracy: 0.9636\n",
            "Epoch 74/100\n",
            "45/45 [==============================] - 1s 20ms/step - loss: 0.0034 - accuracy: 0.9656 - val_loss: 0.0042 - val_accuracy: 0.9631\n",
            "Epoch 75/100\n",
            "45/45 [==============================] - 1s 23ms/step - loss: 0.0031 - accuracy: 0.9681 - val_loss: 0.0040 - val_accuracy: 0.9646\n",
            "Epoch 76/100\n",
            "45/45 [==============================] - 1s 33ms/step - loss: 0.0029 - accuracy: 0.9697 - val_loss: 0.0036 - val_accuracy: 0.9689\n",
            "Epoch 77/100\n",
            "45/45 [==============================] - 1s 20ms/step - loss: 0.0031 - accuracy: 0.9678 - val_loss: 0.0044 - val_accuracy: 0.9618\n",
            "Epoch 78/100\n",
            "45/45 [==============================] - 1s 20ms/step - loss: 0.0030 - accuracy: 0.9680 - val_loss: 0.0038 - val_accuracy: 0.9668\n",
            "Epoch 79/100\n",
            "45/45 [==============================] - 1s 21ms/step - loss: 0.0030 - accuracy: 0.9692 - val_loss: 0.0037 - val_accuracy: 0.9679\n",
            "Epoch 80/100\n",
            "45/45 [==============================] - 1s 20ms/step - loss: 0.0027 - accuracy: 0.9713 - val_loss: 0.0037 - val_accuracy: 0.9673\n",
            "Epoch 81/100\n",
            "45/45 [==============================] - 1s 20ms/step - loss: 0.0027 - accuracy: 0.9709 - val_loss: 0.0039 - val_accuracy: 0.9652\n",
            "Epoch 82/100\n",
            "45/45 [==============================] - 1s 20ms/step - loss: 0.0033 - accuracy: 0.9649 - val_loss: 0.0042 - val_accuracy: 0.9626\n",
            "Epoch 83/100\n",
            "45/45 [==============================] - 1s 20ms/step - loss: 0.0030 - accuracy: 0.9680 - val_loss: 0.0039 - val_accuracy: 0.9662\n",
            "Epoch 84/100\n",
            "45/45 [==============================] - 1s 23ms/step - loss: 0.0027 - accuracy: 0.9714 - val_loss: 0.0035 - val_accuracy: 0.9689\n",
            "Epoch 85/100\n",
            "45/45 [==============================] - 1s 27ms/step - loss: 0.0024 - accuracy: 0.9727 - val_loss: 0.0037 - val_accuracy: 0.9680\n",
            "Epoch 86/100\n",
            "45/45 [==============================] - 1s 21ms/step - loss: 0.0026 - accuracy: 0.9720 - val_loss: 0.0039 - val_accuracy: 0.9645\n",
            "Epoch 87/100\n",
            "45/45 [==============================] - 1s 20ms/step - loss: 0.0024 - accuracy: 0.9736 - val_loss: 0.0036 - val_accuracy: 0.9682\n",
            "Epoch 88/100\n",
            "45/45 [==============================] - 1s 20ms/step - loss: 0.0023 - accuracy: 0.9738 - val_loss: 0.0037 - val_accuracy: 0.9689\n",
            "Epoch 89/100\n",
            "45/45 [==============================] - 1s 27ms/step - loss: 0.0023 - accuracy: 0.9745 - val_loss: 0.0034 - val_accuracy: 0.9691\n",
            "Epoch 90/100\n",
            "45/45 [==============================] - 1s 31ms/step - loss: 0.0022 - accuracy: 0.9733 - val_loss: 0.0037 - val_accuracy: 0.9693\n",
            "Epoch 91/100\n",
            "45/45 [==============================] - 1s 23ms/step - loss: 0.0022 - accuracy: 0.9751 - val_loss: 0.0035 - val_accuracy: 0.9715\n",
            "Epoch 92/100\n",
            "45/45 [==============================] - 1s 20ms/step - loss: 0.0021 - accuracy: 0.9749 - val_loss: 0.0035 - val_accuracy: 0.9707\n",
            "Epoch 93/100\n",
            "45/45 [==============================] - 1s 20ms/step - loss: 0.0021 - accuracy: 0.9758 - val_loss: 0.0036 - val_accuracy: 0.9665\n",
            "Epoch 94/100\n",
            "45/45 [==============================] - 1s 20ms/step - loss: 0.0021 - accuracy: 0.9749 - val_loss: 0.0035 - val_accuracy: 0.9706\n",
            "Epoch 95/100\n",
            "45/45 [==============================] - 1s 20ms/step - loss: 0.0019 - accuracy: 0.9758 - val_loss: 0.0034 - val_accuracy: 0.9712\n",
            "Epoch 96/100\n",
            "45/45 [==============================] - 1s 20ms/step - loss: 0.0021 - accuracy: 0.9747 - val_loss: 0.0035 - val_accuracy: 0.9695\n",
            "Epoch 97/100\n",
            "45/45 [==============================] - 1s 21ms/step - loss: 0.0021 - accuracy: 0.9749 - val_loss: 0.0036 - val_accuracy: 0.9691\n",
            "Epoch 98/100\n",
            "45/45 [==============================] - 1s 21ms/step - loss: 0.0021 - accuracy: 0.9753 - val_loss: 0.0034 - val_accuracy: 0.9710\n",
            "Epoch 99/100\n",
            "45/45 [==============================] - 1s 24ms/step - loss: 0.0020 - accuracy: 0.9754 - val_loss: 0.0034 - val_accuracy: 0.9718\n",
            "Epoch 100/100\n",
            "45/45 [==============================] - 1s 24ms/step - loss: 0.0019 - accuracy: 0.9753 - val_loss: 0.0034 - val_accuracy: 0.9721\n"
          ]
        }
      ],
      "source": [
        "with tf.device('/GPU:0'):\n",
        "  model2.fit([X_train_singularPattern_OH, X_train_root_OH, X_train_genRat], y_train_plPattern_OH, batch_size=batch_size, epochs=epochs, callbacks=[checkpoint], validation_data=([X_dev_singularPattern_OH, X_dev_root_OH, X_dev_genRat], y_dev_plPattern_OH))  # starts training"
      ]
    },
    {
      "cell_type": "code",
      "execution_count": null,
      "metadata": {
        "colab": {
          "base_uri": "https://localhost:8080/",
          "height": 1000
        },
        "id": "JlGB3C2DwWZQ",
        "outputId": "89c2cf36-1884-49c6-9387-01791e44dfa9"
      },
      "outputs": [
        {
          "name": "stdout",
          "output_type": "stream",
          "text": [
            "Model: \"model_2\"\n",
            "__________________________________________________________________________________________________\n",
            " Layer (type)                   Output Shape         Param #     Connected to                     \n",
            "==================================================================================================\n",
            " input_6 (InputLayer)           [(None, 17, 50)]     0           []                               \n",
            "                                                                                                  \n",
            " input_7 (InputLayer)           [(None, 4, 50)]      0           []                               \n",
            "                                                                                                  \n",
            " bidirectional_4 (Bidirectional  (None, 512)         628736      ['input_6[0][0]']                \n",
            " )                                                                                                \n",
            "                                                                                                  \n",
            " bidirectional_5 (Bidirectional  (None, 128)         58880       ['input_7[0][0]']                \n",
            " )                                                                                                \n",
            "                                                                                                  \n",
            " concatenate_3 (Concatenate)    (None, 640)          0           ['bidirectional_4[0][0]',        \n",
            "                                                                  'bidirectional_5[0][0]']        \n",
            "                                                                                                  \n",
            " dense_5 (Dense)                (None, 126)          80766       ['concatenate_3[0][0]']          \n",
            "                                                                                                  \n",
            " input_8 (InputLayer)           [(None, 2)]          0           []                               \n",
            "                                                                                                  \n",
            " concatenate_4 (Concatenate)    (None, 128)          0           ['dense_5[0][0]',                \n",
            "                                                                  'input_8[0][0]']                \n",
            "                                                                                                  \n",
            " repeat_vector_1 (RepeatVector)  (None, 18, 128)     0           ['concatenate_4[0][0]']          \n",
            "                                                                                                  \n",
            " bidirectional_6 (Bidirectional  (None, 18, 512)     788480      ['repeat_vector_1[0][0]']        \n",
            " )                                                                                                \n",
            "                                                                                                  \n",
            " time_distributed_1 (TimeDistri  (None, 18, 50)      25650       ['bidirectional_6[0][0]']        \n",
            " buted)                                                                                           \n",
            "                                                                                                  \n",
            "==================================================================================================\n",
            "Total params: 1,582,512\n",
            "Trainable params: 1,582,512\n",
            "Non-trainable params: 0\n",
            "__________________________________________________________________________________________________\n",
            "None\n"
          ]
        },
        {
          "data": {
            "image/png": "[encoded data removed]",
            "text/plain": [
              "<IPython.core.display.Image object>"
            ]
          },
          "execution_count": 30,
          "metadata": {},
          "output_type": "execute_result"
        }
      ],
      "source": [
        "print(model2.summary())\n",
        "plot_model(model2, to_file=path+'/model 2/architecture.png', show_shapes=True, show_layer_names=False)"
      ]
    },
    {
      "cell_type": "code",
      "execution_count": null,
      "metadata": {
        "colab": {
          "base_uri": "https://localhost:8080/"
        },
        "id": "3PY123jMwWZR",
        "outputId": "1023d676-37fd-41ce-ed81-80f33c796f65"
      },
      "outputs": [
        {
          "name": "stdout",
          "output_type": "stream",
          "text": [
            "35/35 [==============================] - 2s 8ms/step - loss: 0.0032 - accuracy: 0.9736\n"
          ]
        },
        {
          "data": {
            "text/plain": [
              "[0.0032125026918947697, 0.9735569953918457]"
            ]
          },
          "execution_count": 31,
          "metadata": {},
          "output_type": "execute_result"
        }
      ],
      "source": [
        "model = load_model(checkpoint_filepath)\n",
        "model.evaluate([X_test_singularPattern_OH, X_test_root_OH, X_test_genRat], y_test_plPattern_OH)"
      ]
    },
    {
      "cell_type": "code",
      "execution_count": null,
      "metadata": {
        "colab": {
          "base_uri": "https://localhost:8080/"
        },
        "id": "awoC5qAkwWZR",
        "outputId": "9fede39b-c046-402a-a124-d7e2262d3984"
      },
      "outputs": [
        {
          "name": "stdout",
          "output_type": "stream",
          "text": [
            "(17,)\n",
            "35/35 [==============================] - 2s 7ms/step\n",
            "8\n",
            "8\n"
          ]
        }
      ],
      "source": [
        "print(X_test_lemma[0].shape)\n",
        "# model.predict([X_test_lemma[0], X_test_root[0], X_test_genRat[0]])\n",
        "# print(X_test_lemma[0])\n",
        "print(np.argmax(model2.predict([X_test_singularPattern_OH, X_test_root_OH, X_test_genRat])[0][0]))\n",
        "print(np.argmax(y_test_plPattern_OH[0][0]))"
      ]
    },
    {
      "cell_type": "markdown",
      "metadata": {
        "id": "w8vSGnlA1K3B"
      },
      "source": [
        "## **Model 4**\n",
        "lemma - plural pattern"
      ]
    },
    {
      "cell_type": "code",
      "execution_count": null,
      "metadata": {
        "id": "83b-jT2L1K3C"
      },
      "outputs": [],
      "source": [
        "input_lemma = Input(shape=(lemma_length, encode_size))\n",
        "input_root = Input(shape=(root_length, encode_size))\n",
        "input_genRat = Input(shape=(genRat_length, ))\n",
        "input_numOfRoot = Input(shape=(numOfRoot_length, ))\n",
        "\n",
        "\n",
        "lstm1 = Bidirectional(LSTM(128))(input_lemma)\n",
        "lstm2 = Bidirectional(LSTM(128))(input_root)\n",
        "\n",
        "c = Concatenate(axis=1)([lstm1, lstm2])\n",
        "\n",
        "d = Dense(254, activation='relu')(c)\n",
        "\n",
        "c = Concatenate(axis=1)([d, input_genRat])\n",
        "\n",
        "r = RepeatVector(plPattern_length)(c)\n",
        "\n",
        "lstm1 = Bidirectional(LSTM(128, return_sequences=True))(r)\n",
        "# lstm2 = Bidirectional(LSTM(256, return_sequences=True))(lstm1)\n",
        "\n",
        "output = TimeDistributed(Dense(encode_size, activation='softmax'))(lstm1)\n",
        "\n",
        "model3 = Model(inputs=[input_lemma, input_root, input_genRat, input_numOfRoot], outputs=output)\n",
        "\n",
        "checkpoint_filepath = path + '/model 3/best model.hdf5'\n",
        "checkpoint = ModelCheckpoint(filepath=checkpoint_filepath, monitor='val_accuracy', mode='max', save_best_only=True, verbose=0)\n",
        "\n",
        "model3.compile(loss=\"categorical_crossentropy\", optimizer=Adam(0.001), metrics=['accuracy'])"
      ]
    },
    {
      "cell_type": "code",
      "execution_count": null,
      "metadata": {
        "colab": {
          "base_uri": "https://localhost:8080/"
        },
        "id": "yoHgvt471K3D",
        "outputId": "77a0bf25-9682-4603-952e-2913775f2e0f"
      },
      "outputs": [
        {
          "name": "stdout",
          "output_type": "stream",
          "text": [
            "Epoch 1/100\n",
            "43/43 [==============================] - 11s 80ms/step - loss: 1.8695 - accuracy: 0.5452 - val_loss: 1.3001 - val_accuracy: 0.6137\n",
            "Epoch 2/100\n",
            "43/43 [==============================] - 1s 20ms/step - loss: 1.2023 - accuracy: 0.6192 - val_loss: 1.1079 - val_accuracy: 0.6369\n",
            "Epoch 3/100\n",
            "43/43 [==============================] - 1s 20ms/step - loss: 1.0708 - accuracy: 0.6367 - val_loss: 0.9947 - val_accuracy: 0.6590\n",
            "Epoch 4/100\n",
            "43/43 [==============================] - 1s 21ms/step - loss: 0.9937 - accuracy: 0.6577 - val_loss: 0.9503 - val_accuracy: 0.6671\n",
            "Epoch 5/100\n",
            "43/43 [==============================] - 1s 20ms/step - loss: 0.9297 - accuracy: 0.6792 - val_loss: 0.8702 - val_accuracy: 0.7015\n",
            "Epoch 6/100\n",
            "43/43 [==============================] - 1s 20ms/step - loss: 0.8620 - accuracy: 0.7131 - val_loss: 0.8120 - val_accuracy: 0.7282\n",
            "Epoch 7/100\n",
            "43/43 [==============================] - 1s 20ms/step - loss: 0.8079 - accuracy: 0.7356 - val_loss: 0.7760 - val_accuracy: 0.7408\n",
            "Epoch 8/100\n",
            "43/43 [==============================] - 1s 21ms/step - loss: 0.7572 - accuracy: 0.7518 - val_loss: 0.7460 - val_accuracy: 0.7431\n",
            "Epoch 9/100\n",
            "43/43 [==============================] - 1s 20ms/step - loss: 0.7081 - accuracy: 0.7694 - val_loss: 0.6619 - val_accuracy: 0.7866\n",
            "Epoch 10/100\n",
            "43/43 [==============================] - 1s 20ms/step - loss: 0.6652 - accuracy: 0.7875 - val_loss: 0.6349 - val_accuracy: 0.7948\n",
            "Epoch 11/100\n",
            "43/43 [==============================] - 1s 22ms/step - loss: 0.6280 - accuracy: 0.8012 - val_loss: 0.5858 - val_accuracy: 0.8181\n",
            "Epoch 12/100\n",
            "43/43 [==============================] - 1s 18ms/step - loss: 0.5759 - accuracy: 0.8234 - val_loss: 0.5619 - val_accuracy: 0.8147\n",
            "Epoch 13/100\n",
            "43/43 [==============================] - 1s 20ms/step - loss: 0.5328 - accuracy: 0.8382 - val_loss: 0.4928 - val_accuracy: 0.8487\n",
            "Epoch 14/100\n",
            "43/43 [==============================] - 1s 20ms/step - loss: 0.4880 - accuracy: 0.8525 - val_loss: 0.4610 - val_accuracy: 0.8595\n",
            "Epoch 15/100\n",
            "43/43 [==============================] - 1s 20ms/step - loss: 0.4578 - accuracy: 0.8589 - val_loss: 0.4379 - val_accuracy: 0.8647\n",
            "Epoch 16/100\n",
            "43/43 [==============================] - 1s 20ms/step - loss: 0.4304 - accuracy: 0.8684 - val_loss: 0.4123 - val_accuracy: 0.8704\n",
            "Epoch 17/100\n",
            "43/43 [==============================] - 1s 21ms/step - loss: 0.4104 - accuracy: 0.8708 - val_loss: 0.4019 - val_accuracy: 0.8766\n",
            "Epoch 18/100\n",
            "43/43 [==============================] - 1s 20ms/step - loss: 0.4038 - accuracy: 0.8705 - val_loss: 0.3752 - val_accuracy: 0.8771\n",
            "Epoch 19/100\n",
            "43/43 [==============================] - 1s 20ms/step - loss: 0.3779 - accuracy: 0.8798 - val_loss: 0.3496 - val_accuracy: 0.8903\n",
            "Epoch 20/100\n",
            "43/43 [==============================] - 1s 20ms/step - loss: 0.3541 - accuracy: 0.8888 - val_loss: 0.3378 - val_accuracy: 0.8933\n",
            "Epoch 21/100\n",
            "43/43 [==============================] - 1s 20ms/step - loss: 0.3418 - accuracy: 0.8909 - val_loss: 0.3271 - val_accuracy: 0.8959\n",
            "Epoch 22/100\n",
            "43/43 [==============================] - 1s 20ms/step - loss: 0.3232 - accuracy: 0.8975 - val_loss: 0.3111 - val_accuracy: 0.8980\n",
            "Epoch 23/100\n",
            "43/43 [==============================] - 1s 20ms/step - loss: 0.3202 - accuracy: 0.8973 - val_loss: 0.3097 - val_accuracy: 0.9028\n",
            "Epoch 24/100\n",
            "43/43 [==============================] - 1s 20ms/step - loss: 0.3044 - accuracy: 0.9032 - val_loss: 0.2907 - val_accuracy: 0.9058\n",
            "Epoch 25/100\n",
            "43/43 [==============================] - 1s 20ms/step - loss: 0.2929 - accuracy: 0.9063 - val_loss: 0.2861 - val_accuracy: 0.9106\n",
            "Epoch 26/100\n",
            "43/43 [==============================] - 1s 18ms/step - loss: 0.2784 - accuracy: 0.9095 - val_loss: 0.2822 - val_accuracy: 0.9065\n",
            "Epoch 27/100\n",
            "43/43 [==============================] - 1s 17ms/step - loss: 0.2716 - accuracy: 0.9112 - val_loss: 0.2703 - val_accuracy: 0.9105\n",
            "Epoch 28/100\n",
            "43/43 [==============================] - 1s 20ms/step - loss: 0.2620 - accuracy: 0.9144 - val_loss: 0.2546 - val_accuracy: 0.9206\n",
            "Epoch 29/100\n",
            "43/43 [==============================] - 1s 17ms/step - loss: 0.2515 - accuracy: 0.9185 - val_loss: 0.2573 - val_accuracy: 0.9169\n",
            "Epoch 30/100\n",
            "43/43 [==============================] - 1s 20ms/step - loss: 0.2456 - accuracy: 0.9198 - val_loss: 0.2388 - val_accuracy: 0.9251\n",
            "Epoch 31/100\n",
            "43/43 [==============================] - 1s 18ms/step - loss: 0.2329 - accuracy: 0.9238 - val_loss: 0.2375 - val_accuracy: 0.9233\n",
            "Epoch 32/100\n",
            "43/43 [==============================] - 1s 17ms/step - loss: 0.2205 - accuracy: 0.9284 - val_loss: 0.2449 - val_accuracy: 0.9216\n",
            "Epoch 33/100\n",
            "43/43 [==============================] - 1s 18ms/step - loss: 0.2238 - accuracy: 0.9257 - val_loss: 0.2498 - val_accuracy: 0.9168\n",
            "Epoch 34/100\n",
            "43/43 [==============================] - 1s 20ms/step - loss: 0.2140 - accuracy: 0.9295 - val_loss: 0.2154 - val_accuracy: 0.9315\n",
            "Epoch 35/100\n",
            "43/43 [==============================] - 1s 17ms/step - loss: 0.2014 - accuracy: 0.9340 - val_loss: 0.2324 - val_accuracy: 0.9223\n",
            "Epoch 36/100\n",
            "43/43 [==============================] - 1s 20ms/step - loss: 0.1979 - accuracy: 0.9355 - val_loss: 0.1982 - val_accuracy: 0.9361\n",
            "Epoch 37/100\n",
            "43/43 [==============================] - 1s 18ms/step - loss: 0.1939 - accuracy: 0.9368 - val_loss: 0.2013 - val_accuracy: 0.9360\n",
            "Epoch 38/100\n",
            "43/43 [==============================] - 1s 17ms/step - loss: 0.1862 - accuracy: 0.9390 - val_loss: 0.2178 - val_accuracy: 0.9278\n",
            "Epoch 39/100\n",
            "43/43 [==============================] - 1s 20ms/step - loss: 0.1758 - accuracy: 0.9429 - val_loss: 0.1890 - val_accuracy: 0.9402\n",
            "Epoch 40/100\n",
            "43/43 [==============================] - 1s 20ms/step - loss: 0.1654 - accuracy: 0.9457 - val_loss: 0.1785 - val_accuracy: 0.9434\n",
            "Epoch 41/100\n",
            "43/43 [==============================] - 1s 20ms/step - loss: 0.1556 - accuracy: 0.9495 - val_loss: 0.1694 - val_accuracy: 0.9497\n",
            "Epoch 42/100\n",
            "43/43 [==============================] - 1s 18ms/step - loss: 0.1530 - accuracy: 0.9498 - val_loss: 0.1632 - val_accuracy: 0.9491\n",
            "Epoch 43/100\n",
            "43/43 [==============================] - 1s 20ms/step - loss: 0.1437 - accuracy: 0.9532 - val_loss: 0.1572 - val_accuracy: 0.9526\n",
            "Epoch 44/100\n",
            "43/43 [==============================] - 1s 20ms/step - loss: 0.1339 - accuracy: 0.9579 - val_loss: 0.1544 - val_accuracy: 0.9535\n",
            "Epoch 45/100\n",
            "43/43 [==============================] - 1s 18ms/step - loss: 0.1402 - accuracy: 0.9545 - val_loss: 0.1636 - val_accuracy: 0.9520\n",
            "Epoch 46/100\n",
            "43/43 [==============================] - 1s 18ms/step - loss: 0.1337 - accuracy: 0.9550 - val_loss: 0.1565 - val_accuracy: 0.9535\n",
            "Epoch 47/100\n",
            "43/43 [==============================] - 1s 21ms/step - loss: 0.1237 - accuracy: 0.9595 - val_loss: 0.1457 - val_accuracy: 0.9573\n",
            "Epoch 48/100\n",
            "43/43 [==============================] - 1s 18ms/step - loss: 0.1245 - accuracy: 0.9593 - val_loss: 0.1607 - val_accuracy: 0.9528\n",
            "Epoch 49/100\n",
            "43/43 [==============================] - 1s 21ms/step - loss: 0.1235 - accuracy: 0.9580 - val_loss: 0.1411 - val_accuracy: 0.9586\n",
            "Epoch 50/100\n",
            "43/43 [==============================] - 1s 17ms/step - loss: 0.1142 - accuracy: 0.9617 - val_loss: 0.1428 - val_accuracy: 0.9575\n",
            "Epoch 51/100\n",
            "43/43 [==============================] - 1s 17ms/step - loss: 0.1173 - accuracy: 0.9604 - val_loss: 0.1555 - val_accuracy: 0.9535\n",
            "Epoch 52/100\n",
            "43/43 [==============================] - 1s 18ms/step - loss: 0.1149 - accuracy: 0.9608 - val_loss: 0.1410 - val_accuracy: 0.9573\n",
            "Epoch 53/100\n",
            "43/43 [==============================] - 1s 18ms/step - loss: 0.1051 - accuracy: 0.9651 - val_loss: 0.1439 - val_accuracy: 0.9561\n",
            "Epoch 54/100\n",
            "43/43 [==============================] - 1s 20ms/step - loss: 0.1006 - accuracy: 0.9653 - val_loss: 0.1349 - val_accuracy: 0.9609\n",
            "Epoch 55/100\n",
            "43/43 [==============================] - 1s 20ms/step - loss: 0.0975 - accuracy: 0.9656 - val_loss: 0.1319 - val_accuracy: 0.9621\n",
            "Epoch 56/100\n",
            "43/43 [==============================] - 1s 18ms/step - loss: 0.0966 - accuracy: 0.9668 - val_loss: 0.1373 - val_accuracy: 0.9587\n",
            "Epoch 57/100\n",
            "43/43 [==============================] - 1s 18ms/step - loss: 0.0907 - accuracy: 0.9689 - val_loss: 0.1311 - val_accuracy: 0.9616\n",
            "Epoch 58/100\n",
            "43/43 [==============================] - 1s 20ms/step - loss: 0.0909 - accuracy: 0.9671 - val_loss: 0.1275 - val_accuracy: 0.9622\n",
            "Epoch 59/100\n",
            "43/43 [==============================] - 1s 18ms/step - loss: 0.0847 - accuracy: 0.9706 - val_loss: 0.1286 - val_accuracy: 0.9608\n",
            "Epoch 60/100\n",
            "43/43 [==============================] - 1s 18ms/step - loss: 0.0824 - accuracy: 0.9705 - val_loss: 0.1275 - val_accuracy: 0.9622\n",
            "Epoch 61/100\n",
            "43/43 [==============================] - 1s 20ms/step - loss: 0.0829 - accuracy: 0.9703 - val_loss: 0.1235 - val_accuracy: 0.9646\n",
            "Epoch 62/100\n",
            "43/43 [==============================] - 1s 18ms/step - loss: 0.0782 - accuracy: 0.9711 - val_loss: 0.1245 - val_accuracy: 0.9634\n",
            "Epoch 63/100\n",
            "43/43 [==============================] - 1s 17ms/step - loss: 0.0823 - accuracy: 0.9691 - val_loss: 0.1256 - val_accuracy: 0.9638\n",
            "Epoch 64/100\n",
            "43/43 [==============================] - 1s 18ms/step - loss: 0.0761 - accuracy: 0.9716 - val_loss: 0.1217 - val_accuracy: 0.9640\n",
            "Epoch 65/100\n",
            "43/43 [==============================] - 1s 20ms/step - loss: 0.0728 - accuracy: 0.9725 - val_loss: 0.1229 - val_accuracy: 0.9666\n",
            "Epoch 66/100\n",
            "43/43 [==============================] - 1s 18ms/step - loss: 0.0715 - accuracy: 0.9729 - val_loss: 0.1243 - val_accuracy: 0.9654\n",
            "Epoch 67/100\n",
            "43/43 [==============================] - 1s 18ms/step - loss: 0.0719 - accuracy: 0.9730 - val_loss: 0.1145 - val_accuracy: 0.9664\n",
            "Epoch 68/100\n",
            "43/43 [==============================] - 1s 17ms/step - loss: 0.0689 - accuracy: 0.9731 - val_loss: 0.1186 - val_accuracy: 0.9648\n",
            "Epoch 69/100\n",
            "43/43 [==============================] - 1s 18ms/step - loss: 0.0730 - accuracy: 0.9725 - val_loss: 0.1228 - val_accuracy: 0.9659\n",
            "Epoch 70/100\n",
            "43/43 [==============================] - 1s 20ms/step - loss: 0.0684 - accuracy: 0.9731 - val_loss: 0.1142 - val_accuracy: 0.9669\n",
            "Epoch 71/100\n",
            "43/43 [==============================] - 1s 21ms/step - loss: 0.0678 - accuracy: 0.9733 - val_loss: 0.1163 - val_accuracy: 0.9672\n",
            "Epoch 72/100\n",
            "43/43 [==============================] - 1s 18ms/step - loss: 0.0666 - accuracy: 0.9735 - val_loss: 0.1184 - val_accuracy: 0.9656\n",
            "Epoch 73/100\n",
            "43/43 [==============================] - 1s 17ms/step - loss: 0.0652 - accuracy: 0.9742 - val_loss: 0.1166 - val_accuracy: 0.9665\n",
            "Epoch 74/100\n",
            "43/43 [==============================] - 1s 18ms/step - loss: 0.0686 - accuracy: 0.9729 - val_loss: 0.1180 - val_accuracy: 0.9667\n",
            "Epoch 75/100\n",
            "43/43 [==============================] - 1s 18ms/step - loss: 0.0645 - accuracy: 0.9737 - val_loss: 0.1245 - val_accuracy: 0.9651\n",
            "Epoch 76/100\n",
            "43/43 [==============================] - 1s 20ms/step - loss: 0.0651 - accuracy: 0.9736 - val_loss: 0.1121 - val_accuracy: 0.9677\n",
            "Epoch 77/100\n",
            "43/43 [==============================] - 1s 21ms/step - loss: 0.0621 - accuracy: 0.9745 - val_loss: 0.1145 - val_accuracy: 0.9687\n",
            "Epoch 78/100\n",
            "43/43 [==============================] - 1s 17ms/step - loss: 0.0607 - accuracy: 0.9745 - val_loss: 0.1124 - val_accuracy: 0.9677\n",
            "Epoch 79/100\n",
            "43/43 [==============================] - 1s 18ms/step - loss: 0.0590 - accuracy: 0.9747 - val_loss: 0.1125 - val_accuracy: 0.9679\n",
            "Epoch 80/100\n",
            "43/43 [==============================] - 1s 18ms/step - loss: 0.0583 - accuracy: 0.9744 - val_loss: 0.1171 - val_accuracy: 0.9651\n",
            "Epoch 81/100\n",
            "43/43 [==============================] - 1s 18ms/step - loss: 0.0560 - accuracy: 0.9754 - val_loss: 0.1120 - val_accuracy: 0.9679\n",
            "Epoch 82/100\n",
            "43/43 [==============================] - 1s 17ms/step - loss: 0.0552 - accuracy: 0.9759 - val_loss: 0.1134 - val_accuracy: 0.9679\n",
            "Epoch 83/100\n",
            "43/43 [==============================] - 1s 18ms/step - loss: 0.0619 - accuracy: 0.9746 - val_loss: 0.1225 - val_accuracy: 0.9658\n",
            "Epoch 84/100\n",
            "43/43 [==============================] - 1s 18ms/step - loss: 0.0645 - accuracy: 0.9737 - val_loss: 0.1240 - val_accuracy: 0.9640\n",
            "Epoch 85/100\n",
            "43/43 [==============================] - 1s 19ms/step - loss: 0.0625 - accuracy: 0.9743 - val_loss: 0.1202 - val_accuracy: 0.9679\n",
            "Epoch 86/100\n",
            "43/43 [==============================] - 1s 19ms/step - loss: 0.0620 - accuracy: 0.9745 - val_loss: 0.1184 - val_accuracy: 0.9660\n",
            "Epoch 87/100\n",
            "43/43 [==============================] - 1s 18ms/step - loss: 0.0628 - accuracy: 0.9736 - val_loss: 0.1162 - val_accuracy: 0.9679\n",
            "Epoch 88/100\n",
            "43/43 [==============================] - 1s 19ms/step - loss: 0.0579 - accuracy: 0.9746 - val_loss: 0.1130 - val_accuracy: 0.9686\n",
            "Epoch 89/100\n",
            "43/43 [==============================] - 1s 18ms/step - loss: 0.0554 - accuracy: 0.9749 - val_loss: 0.1131 - val_accuracy: 0.9668\n",
            "Epoch 90/100\n",
            "43/43 [==============================] - 1s 18ms/step - loss: 0.0529 - accuracy: 0.9760 - val_loss: 0.1138 - val_accuracy: 0.9669\n",
            "Epoch 91/100\n",
            "43/43 [==============================] - 1s 18ms/step - loss: 0.0569 - accuracy: 0.9737 - val_loss: 0.1154 - val_accuracy: 0.9674\n",
            "Epoch 92/100\n",
            "43/43 [==============================] - 1s 17ms/step - loss: 0.0557 - accuracy: 0.9753 - val_loss: 0.1144 - val_accuracy: 0.9661\n",
            "Epoch 93/100\n",
            "43/43 [==============================] - 1s 17ms/step - loss: 0.0512 - accuracy: 0.9751 - val_loss: 0.1139 - val_accuracy: 0.9677\n",
            "Epoch 94/100\n",
            "43/43 [==============================] - 1s 18ms/step - loss: 0.0487 - accuracy: 0.9764 - val_loss: 0.1107 - val_accuracy: 0.9681\n",
            "Epoch 95/100\n",
            "43/43 [==============================] - 1s 17ms/step - loss: 0.0491 - accuracy: 0.9762 - val_loss: 0.1128 - val_accuracy: 0.9670\n",
            "Epoch 96/100\n",
            "43/43 [==============================] - 1s 18ms/step - loss: 0.0483 - accuracy: 0.9762 - val_loss: 0.1148 - val_accuracy: 0.9671\n",
            "Epoch 97/100\n",
            "43/43 [==============================] - 1s 18ms/step - loss: 0.0487 - accuracy: 0.9751 - val_loss: 0.1195 - val_accuracy: 0.9667\n",
            "Epoch 98/100\n",
            "43/43 [==============================] - 1s 18ms/step - loss: 0.0484 - accuracy: 0.9755 - val_loss: 0.1112 - val_accuracy: 0.9674\n",
            "Epoch 99/100\n",
            "43/43 [==============================] - 1s 18ms/step - loss: 0.0485 - accuracy: 0.9758 - val_loss: 0.1151 - val_accuracy: 0.9675\n",
            "Epoch 100/100\n",
            "43/43 [==============================] - 1s 35ms/step - loss: 0.0484 - accuracy: 0.9756 - val_loss: 0.1100 - val_accuracy: 0.9694\n"
          ]
        }
      ],
      "source": [
        "with tf.device('/GPU:0'):\n",
        "  model3.fit([X_train_lemma_OH, X_train_root_OH, X_train_genRat, X_train_numOfRoot], y_train_plPattern_OH, batch_size=batch_size, epochs=epochs, callbacks=[checkpoint], validation_data=([X_dev_lemma_OH, X_dev_root_OH, X_dev_genRat, X_dev_numOfRoot], y_dev_plPattern_OH))  # starts training"
      ]
    },
    {
      "cell_type": "code",
      "execution_count": null,
      "metadata": {
        "colab": {
          "base_uri": "https://localhost:8080/",
          "height": 1000
        },
        "id": "BdcTuQmr1K3F",
        "outputId": "e289ec02-a5ea-480d-9327-eb01396b38d4"
      },
      "outputs": [
        {
          "name": "stdout",
          "output_type": "stream",
          "text": [
            "Model: \"model_8\"\n",
            "__________________________________________________________________________________________________\n",
            " Layer (type)                   Output Shape         Param #     Connected to                     \n",
            "==================================================================================================\n",
            " input_39 (InputLayer)          [(None, 16, 48)]     0           []                               \n",
            "                                                                                                  \n",
            " input_40 (InputLayer)          [(None, 4, 48)]      0           []                               \n",
            "                                                                                                  \n",
            " bidirectional_25 (Bidirectiona  (None, 256)         181248      ['input_39[0][0]']               \n",
            " l)                                                                                               \n",
            "                                                                                                  \n",
            " bidirectional_26 (Bidirectiona  (None, 256)         181248      ['input_40[0][0]']               \n",
            " l)                                                                                               \n",
            "                                                                                                  \n",
            " concatenate_15 (Concatenate)   (None, 512)          0           ['bidirectional_25[0][0]',       \n",
            "                                                                  'bidirectional_26[0][0]']       \n",
            "                                                                                                  \n",
            " dense_16 (Dense)               (None, 254)          130302      ['concatenate_15[0][0]']         \n",
            "                                                                                                  \n",
            " input_41 (InputLayer)          [(None, 2)]          0           []                               \n",
            "                                                                                                  \n",
            " concatenate_16 (Concatenate)   (None, 256)          0           ['dense_16[0][0]',               \n",
            "                                                                  'input_41[0][0]']               \n",
            "                                                                                                  \n",
            " repeat_vector_8 (RepeatVector)  (None, 17, 256)     0           ['concatenate_16[0][0]']         \n",
            "                                                                                                  \n",
            " bidirectional_27 (Bidirectiona  (None, 17, 256)     394240      ['repeat_vector_8[0][0]']        \n",
            " l)                                                                                               \n",
            "                                                                                                  \n",
            " input_42 (InputLayer)          [(None, 1)]          0           []                               \n",
            "                                                                                                  \n",
            " time_distributed_8 (TimeDistri  (None, 17, 48)      12336       ['bidirectional_27[0][0]']       \n",
            " buted)                                                                                           \n",
            "                                                                                                  \n",
            "==================================================================================================\n",
            "Total params: 899,374\n",
            "Trainable params: 899,374\n",
            "Non-trainable params: 0\n",
            "__________________________________________________________________________________________________\n",
            "None\n"
          ]
        },
        {
          "data": {
            "image/png": "[encoded data removed]",
            "text/plain": [
              "<IPython.core.display.Image object>"
            ]
          },
          "execution_count": 52,
          "metadata": {},
          "output_type": "execute_result"
        }
      ],
      "source": [
        "print(model3.summary())\n",
        "plot_model(model3, to_file=path+'/model 3/architecture.png', show_shapes=True, show_layer_names=False)"
      ]
    },
    {
      "cell_type": "code",
      "execution_count": null,
      "metadata": {
        "colab": {
          "base_uri": "https://localhost:8080/"
        },
        "id": "0Da0kwHx1K3F",
        "outputId": "d4eb7529-1ff9-4a2e-d013-01eb1b7dab61"
      },
      "outputs": [
        {
          "name": "stdout",
          "output_type": "stream",
          "text": [
            "34/34 [==============================] - 2s 7ms/step - loss: 0.0973 - accuracy: 0.9712\n"
          ]
        },
        {
          "data": {
            "text/plain": [
              "[0.09726995974779129, 0.9711896181106567]"
            ]
          },
          "execution_count": 53,
          "metadata": {},
          "output_type": "execute_result"
        }
      ],
      "source": [
        "model = load_model(checkpoint_filepath)\n",
        "model.evaluate([X_test_lemma_OH, X_test_root_OH, X_test_genRat, X_test_numOfRoot], y_test_plPattern_OH)"
      ]
    },
    {
      "cell_type": "code",
      "execution_count": null,
      "metadata": {
        "colab": {
          "base_uri": "https://localhost:8080/"
        },
        "id": "3mMRUOvb-OvF",
        "outputId": "2204db7f-4801-4007-bff2-93d67e82e170"
      },
      "outputs": [
        {
          "name": "stdout",
          "output_type": "stream",
          "text": [
            "34/34 [==============================] - 2s 6ms/step\n",
            "(1076, 17, 48)\n",
            "(1076, 17, 48)\n"
          ]
        }
      ],
      "source": [
        "pred_plPattern = model.predict([X_test_lemma_OH, X_test_root_OH, X_test_genRat, X_test_numOfRoot])\n",
        "\n",
        "print(pred_plPattern.shape)\n",
        "print(y_test_plPattern_OH.shape)"
      ]
    },
    {
      "cell_type": "code",
      "source": [
        "reportErrorAnalysis(testData[0],pred_plPattern,y_test_inflection_OH, path+\"/model 3/test_errorAnalysis.csv\")"
      ],
      "metadata": {
        "id": "g-hxObTBxU4T"
      },
      "execution_count": null,
      "outputs": []
    },
    {
      "cell_type": "code",
      "execution_count": null,
      "metadata": {
        "id": "brGJUavNZRxD"
      },
      "outputs": [],
      "source": [
        "pred_plPattern = oneHot3D(pred_plPattern)"
      ]
    },
    {
      "cell_type": "code",
      "execution_count": null,
      "metadata": {
        "colab": {
          "base_uri": "https://localhost:8080/"
        },
        "id": "9MHCGKotkWA4",
        "outputId": "6cd3de6f-e29f-4132-c0a9-5fb3ae206cb2"
      },
      "outputs": [
        {
          "data": {
            "text/plain": [
              "0.7955390334572491"
            ]
          },
          "execution_count": 56,
          "metadata": {},
          "output_type": "execute_result"
        }
      ],
      "source": [
        "checkAccuracy(pred_plPattern, y_test_plPattern_OH)"
      ]
    },
    {
      "cell_type": "code",
      "source": [
        "BSClassification_path = '/content/drive/MyDrive/AI Projects/Arabic Broken Plural/Results/Classification Models'\n",
        "BSClassification_checkpoint_filepath = BSClassification_path + '/model 1/model 1.hdf5'"
      ],
      "metadata": {
        "id": "JGnrK8xLz3hQ"
      },
      "execution_count": null,
      "outputs": []
    },
    {
      "cell_type": "code",
      "source": [],
      "metadata": {
        "id": "QiWt5TJCTZXO"
      },
      "execution_count": null,
      "outputs": []
    }
  ],
  "metadata": {
    "accelerator": "GPU",
    "colab": {
      "collapsed_sections": [
        "rgbi7F8b_x30",
        "-WOml2gW6dg-",
        "mGvkEaGn52gO",
        "_g-e8zVR6FP4",
        "g4MC1JT3TSec",
        "5aRDIUaOvvJv",
        "wYae4z1hhH4t",
        "UB0fawJa66PY",
        "K87j_k_oEVh3",
        "XAoL0KSoEVh4",
        "ybXFriUqEVh5",
        "i7R3KZnxEVh5",
        "XOv7r-UPAa82",
        "bGnDKnFMwWZN",
        "w8vSGnlA1K3B"
      ],
      "provenance": [],
      "include_colab_link": true
    },
    "kernelspec": {
      "display_name": "Python 3",
      "name": "python3"
    },
    "language_info": {
      "name": "python"
    }
  },
  "nbformat": 4,
  "nbformat_minor": 0
}