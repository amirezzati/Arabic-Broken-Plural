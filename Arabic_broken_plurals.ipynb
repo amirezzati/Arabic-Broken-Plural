{
  "cells": [
    {
      "cell_type": "markdown",
      "metadata": {
        "id": "view-in-github",
        "colab_type": "text"
      },
      "source": [
        "<a href=\"https://colab.research.google.com/github/amirezzati/Arabic-Broken-Plural-RNN/blob/main/Arabic_broken_plurals.ipynb\" target=\"_parent\"><img src=\"https://colab.research.google.com/assets/colab-badge.svg\" alt=\"Open In Colab\"/></a>"
      ]
    },
    {
      "cell_type": "markdown",
      "metadata": {
        "id": "rgbi7F8b_x30"
      },
      "source": [
        "# **Libraries & Constants**"
      ]
    },
    {
      "cell_type": "code",
      "execution_count": 1,
      "metadata": {
        "id": "D2-wlVMZYEkZ"
      },
      "outputs": [],
      "source": [
        "import pandas as pd\n",
        "import tensorflow as tf\n",
        "import numpy as np\n",
        "from keras.models import Sequential, load_model\n",
        "from keras.layers import Dense, Input, Softmax, BatchNormalization, Dropout, Conv2D, MaxPool2D, Embedding, Reshape, Flatten, LSTM, GRU, SimpleRNN, Concatenate, concatenate, RepeatVector, TimeDistributed, Bidirectional\n",
        "# from keras.layers.merge import concatenate\n",
        "from keras.losses import CategoricalCrossentropy\n",
        "from keras.metrics import CategoricalAccuracy\n",
        "from keras.preprocessing.text import Tokenizer\n",
        "from tensorflow.keras.optimizers import RMSprop, Adam, Adamax, Nadam, SGD\n",
        "from tensorflow.keras import Model\n",
        "from tensorflow.keras.optimizers.schedules import InverseTimeDecay, ExponentialDecay\n",
        "from tensorflow.keras.utils import to_categorical\n",
        "from keras.utils.vis_utils import plot_model\n",
        "from keras.callbacks import ModelCheckpoint\n",
        "from tensorflow.keras.preprocessing.sequence import pad_sequences #from keras.preprocessing.sequence import pad_sequences\n",
        "from sklearn.preprocessing import LabelEncoder\n",
        "from sklearn.model_selection import train_test_split, KFold\n",
        "from sklearn import metrics\n",
        "from matplotlib import pyplot as plt\n",
        "from sklearn.model_selection import KFold\n",
        "import os\n",
        "import string\n",
        "from google.colab import drive"
      ]
    },
    {
      "cell_type": "code",
      "execution_count": 2,
      "metadata": {
        "id": "srVvFhQrdymB",
        "colab": {
          "base_uri": "https://localhost:8080/"
        },
        "outputId": "31c78920-644a-4e4b-9c4e-11080c6a13be"
      },
      "outputs": [
        {
          "output_type": "stream",
          "name": "stdout",
          "text": [
            "Mounted at /content/drive\n"
          ]
        }
      ],
      "source": [
        "drive.mount('/content/drive')\n",
        "dataPath=\"/content/drive/MyDrive/AI Projects/Arabic Broken Plural/data\""
      ]
    },
    {
      "cell_type": "markdown",
      "metadata": {
        "id": "i2nvnH4mAR8F"
      },
      "source": [
        "# **Preprocessing**"
      ]
    },
    {
      "cell_type": "markdown",
      "source": [
        "## **Get dataset files and Organizing**"
      ],
      "metadata": {
        "id": "-WOml2gW6dg-"
      }
    },
    {
      "cell_type": "code",
      "execution_count": 3,
      "metadata": {
        "colab": {
          "base_uri": "https://localhost:8080/",
          "height": 270
        },
        "id": "m21FhzeWeGRd",
        "outputId": "d2105b05-0f9a-4657-c4f0-e3a952cdc1be"
      },
      "outputs": [
        {
          "output_type": "execute_result",
          "data": {
            "text/plain": [
              "   lemma inflection NUM GEN RAT  lex_freq B/S SING_PATT    PL_PATT   ROOT  \\\n",
              "0  Eamal    >aEomAl  PL   m   i        49   B     1a2a3    >a1o2A3  E.m.l   \n",
              "1  hadaf    >ahodAf  PL   m   i        42   B     1a2a3    >a1o2A3  h.d.f   \n",
              "2  EuDow    >aEoDA'  PL   m   r        46   B     1u2ow    >a1o2A'  E.D.#   \n",
              "3  jihAz  >ajohizap  PL   m   i        41   B     1i2A3  >a1o2i3ap  j.h.z   \n",
              "4  Hukom    >aHokAm  PL   m   i        35   B     1u2o3    >a1o2A3  H.k.m   \n",
              "\n",
              "   FREQ  \n",
              "0    49  \n",
              "1    42  \n",
              "2    39  \n",
              "3    35  \n",
              "4    35  "
            ],
            "text/html": [
              "\n",
              "  <div id=\"df-f2ab4dc3-02b9-4855-b17a-8f9377c9afc2\">\n",
              "    <div class=\"colab-df-container\">\n",
              "      <div>\n",
              "<style scoped>\n",
              "    .dataframe tbody tr th:only-of-type {\n",
              "        vertical-align: middle;\n",
              "    }\n",
              "\n",
              "    .dataframe tbody tr th {\n",
              "        vertical-align: top;\n",
              "    }\n",
              "\n",
              "    .dataframe thead th {\n",
              "        text-align: right;\n",
              "    }\n",
              "</style>\n",
              "<table border=\"1\" class=\"dataframe\">\n",
              "  <thead>\n",
              "    <tr style=\"text-align: right;\">\n",
              "      <th></th>\n",
              "      <th>lemma</th>\n",
              "      <th>inflection</th>\n",
              "      <th>NUM</th>\n",
              "      <th>GEN</th>\n",
              "      <th>RAT</th>\n",
              "      <th>lex_freq</th>\n",
              "      <th>B/S</th>\n",
              "      <th>SING_PATT</th>\n",
              "      <th>PL_PATT</th>\n",
              "      <th>ROOT</th>\n",
              "      <th>FREQ</th>\n",
              "    </tr>\n",
              "  </thead>\n",
              "  <tbody>\n",
              "    <tr>\n",
              "      <th>0</th>\n",
              "      <td>Eamal</td>\n",
              "      <td>&gt;aEomAl</td>\n",
              "      <td>PL</td>\n",
              "      <td>m</td>\n",
              "      <td>i</td>\n",
              "      <td>49</td>\n",
              "      <td>B</td>\n",
              "      <td>1a2a3</td>\n",
              "      <td>&gt;a1o2A3</td>\n",
              "      <td>E.m.l</td>\n",
              "      <td>49</td>\n",
              "    </tr>\n",
              "    <tr>\n",
              "      <th>1</th>\n",
              "      <td>hadaf</td>\n",
              "      <td>&gt;ahodAf</td>\n",
              "      <td>PL</td>\n",
              "      <td>m</td>\n",
              "      <td>i</td>\n",
              "      <td>42</td>\n",
              "      <td>B</td>\n",
              "      <td>1a2a3</td>\n",
              "      <td>&gt;a1o2A3</td>\n",
              "      <td>h.d.f</td>\n",
              "      <td>42</td>\n",
              "    </tr>\n",
              "    <tr>\n",
              "      <th>2</th>\n",
              "      <td>EuDow</td>\n",
              "      <td>&gt;aEoDA'</td>\n",
              "      <td>PL</td>\n",
              "      <td>m</td>\n",
              "      <td>r</td>\n",
              "      <td>46</td>\n",
              "      <td>B</td>\n",
              "      <td>1u2ow</td>\n",
              "      <td>&gt;a1o2A'</td>\n",
              "      <td>E.D.#</td>\n",
              "      <td>39</td>\n",
              "    </tr>\n",
              "    <tr>\n",
              "      <th>3</th>\n",
              "      <td>jihAz</td>\n",
              "      <td>&gt;ajohizap</td>\n",
              "      <td>PL</td>\n",
              "      <td>m</td>\n",
              "      <td>i</td>\n",
              "      <td>41</td>\n",
              "      <td>B</td>\n",
              "      <td>1i2A3</td>\n",
              "      <td>&gt;a1o2i3ap</td>\n",
              "      <td>j.h.z</td>\n",
              "      <td>35</td>\n",
              "    </tr>\n",
              "    <tr>\n",
              "      <th>4</th>\n",
              "      <td>Hukom</td>\n",
              "      <td>&gt;aHokAm</td>\n",
              "      <td>PL</td>\n",
              "      <td>m</td>\n",
              "      <td>i</td>\n",
              "      <td>35</td>\n",
              "      <td>B</td>\n",
              "      <td>1u2o3</td>\n",
              "      <td>&gt;a1o2A3</td>\n",
              "      <td>H.k.m</td>\n",
              "      <td>35</td>\n",
              "    </tr>\n",
              "  </tbody>\n",
              "</table>\n",
              "</div>\n",
              "      <button class=\"colab-df-convert\" onclick=\"convertToInteractive('df-f2ab4dc3-02b9-4855-b17a-8f9377c9afc2')\"\n",
              "              title=\"Convert this dataframe to an interactive table.\"\n",
              "              style=\"display:none;\">\n",
              "        \n",
              "  <svg xmlns=\"http://www.w3.org/2000/svg\" height=\"24px\"viewBox=\"0 0 24 24\"\n",
              "       width=\"24px\">\n",
              "    <path d=\"M0 0h24v24H0V0z\" fill=\"none\"/>\n",
              "    <path d=\"M18.56 5.44l.94 2.06.94-2.06 2.06-.94-2.06-.94-.94-2.06-.94 2.06-2.06.94zm-11 1L8.5 8.5l.94-2.06 2.06-.94-2.06-.94L8.5 2.5l-.94 2.06-2.06.94zm10 10l.94 2.06.94-2.06 2.06-.94-2.06-.94-.94-2.06-.94 2.06-2.06.94z\"/><path d=\"M17.41 7.96l-1.37-1.37c-.4-.4-.92-.59-1.43-.59-.52 0-1.04.2-1.43.59L10.3 9.45l-7.72 7.72c-.78.78-.78 2.05 0 2.83L4 21.41c.39.39.9.59 1.41.59.51 0 1.02-.2 1.41-.59l7.78-7.78 2.81-2.81c.8-.78.8-2.07 0-2.86zM5.41 20L4 18.59l7.72-7.72 1.47 1.35L5.41 20z\"/>\n",
              "  </svg>\n",
              "      </button>\n",
              "      \n",
              "  <style>\n",
              "    .colab-df-container {\n",
              "      display:flex;\n",
              "      flex-wrap:wrap;\n",
              "      gap: 12px;\n",
              "    }\n",
              "\n",
              "    .colab-df-convert {\n",
              "      background-color: #E8F0FE;\n",
              "      border: none;\n",
              "      border-radius: 50%;\n",
              "      cursor: pointer;\n",
              "      display: none;\n",
              "      fill: #1967D2;\n",
              "      height: 32px;\n",
              "      padding: 0 0 0 0;\n",
              "      width: 32px;\n",
              "    }\n",
              "\n",
              "    .colab-df-convert:hover {\n",
              "      background-color: #E2EBFA;\n",
              "      box-shadow: 0px 1px 2px rgba(60, 64, 67, 0.3), 0px 1px 3px 1px rgba(60, 64, 67, 0.15);\n",
              "      fill: #174EA6;\n",
              "    }\n",
              "\n",
              "    [theme=dark] .colab-df-convert {\n",
              "      background-color: #3B4455;\n",
              "      fill: #D2E3FC;\n",
              "    }\n",
              "\n",
              "    [theme=dark] .colab-df-convert:hover {\n",
              "      background-color: #434B5C;\n",
              "      box-shadow: 0px 1px 3px 1px rgba(0, 0, 0, 0.15);\n",
              "      filter: drop-shadow(0px 1px 2px rgba(0, 0, 0, 0.3));\n",
              "      fill: #FFFFFF;\n",
              "    }\n",
              "  </style>\n",
              "\n",
              "      <script>\n",
              "        const buttonEl =\n",
              "          document.querySelector('#df-f2ab4dc3-02b9-4855-b17a-8f9377c9afc2 button.colab-df-convert');\n",
              "        buttonEl.style.display =\n",
              "          google.colab.kernel.accessAllowed ? 'block' : 'none';\n",
              "\n",
              "        async function convertToInteractive(key) {\n",
              "          const element = document.querySelector('#df-f2ab4dc3-02b9-4855-b17a-8f9377c9afc2');\n",
              "          const dataTable =\n",
              "            await google.colab.kernel.invokeFunction('convertToInteractive',\n",
              "                                                     [key], {});\n",
              "          if (!dataTable) return;\n",
              "\n",
              "          const docLinkHtml = 'Like what you see? Visit the ' +\n",
              "            '<a target=\"_blank\" href=https://colab.research.google.com/notebooks/data_table.ipynb>data table notebook</a>'\n",
              "            + ' to learn more about interactive tables.';\n",
              "          element.innerHTML = '';\n",
              "          dataTable['output_type'] = 'display_data';\n",
              "          await google.colab.output.renderOutput(dataTable, element);\n",
              "          const docLink = document.createElement('div');\n",
              "          docLink.innerHTML = docLinkHtml;\n",
              "          element.appendChild(docLink);\n",
              "        }\n",
              "      </script>\n",
              "    </div>\n",
              "  </div>\n",
              "  "
            ]
          },
          "metadata": {},
          "execution_count": 3
        }
      ],
      "source": [
        "train_csv = pd.read_csv(dataPath+\"/train_pairs_all.csv\")\n",
        "dev_csv = pd.read_csv(dataPath+\"/dev_pairs_all.csv\")\n",
        "test_csv = pd.read_csv(dataPath+\"/test_pairs_all.csv\")\n",
        "\n",
        "train_csv.head()"
      ]
    },
    {
      "cell_type": "code",
      "execution_count": 4,
      "metadata": {
        "id": "FOzSPP8jz291"
      },
      "outputs": [],
      "source": [
        "train_csv_filtered = train_csv[train_csv['ROOT'] != 'NTWS']\n",
        "dev_csv_filtered = dev_csv[dev_csv['ROOT'] != 'NTWS']\n",
        "test_csv_filtered = test_csv[test_csv['ROOT'] != 'NTWS']"
      ]
    },
    {
      "cell_type": "code",
      "execution_count": 5,
      "metadata": {
        "colab": {
          "base_uri": "https://localhost:8080/",
          "height": 376
        },
        "id": "7Y-HQQM57AzY",
        "outputId": "9f5b44ef-b279-461c-f9e1-1a17995e2d04"
      },
      "outputs": [
        {
          "output_type": "stream",
          "name": "stderr",
          "text": [
            "/usr/local/lib/python3.7/dist-packages/pandas/core/frame.py:3641: SettingWithCopyWarning: \n",
            "A value is trying to be set on a copy of a slice from a DataFrame.\n",
            "Try using .loc[row_indexer,col_indexer] = value instead\n",
            "\n",
            "See the caveats in the documentation: https://pandas.pydata.org/pandas-docs/stable/user_guide/indexing.html#returning-a-view-versus-a-copy\n",
            "  self[k1] = value[k2]\n"
          ]
        },
        {
          "output_type": "execute_result",
          "data": {
            "text/plain": [
              "        lemma  inflection NUM  GEN  RAT  lex_freq  B/S   SING_PATT  \\\n",
              "0       Eamal     >aEomAl  PL    1    0        23    0       1a2a3   \n",
              "1       hadaf     >ahodAf  PL    1    0        16    0       1a2a3   \n",
              "2     EalAqap     EalAqAt  PL    0    0        15    1     1a2A3ap   \n",
              "3  mu&as~asap  mu&as~asAt  PL    0    0        14    1  mu&a2~a3ap   \n",
              "4       EuDow     >aEoDA'  PL    1    1        15    0       1u2ow   \n",
              "\n",
              "      PL_PATT   ROOT  FREQ  \n",
              "0     >a1o2A3  E.m.l    23  \n",
              "1     >a1o2A3  h.d.f    16  \n",
              "2     1a2A3At  E.l.q    15  \n",
              "3  mu&a2~a3At  #.s.s    14  \n",
              "4     >a1o2A'  E.D.#    13  "
            ],
            "text/html": [
              "\n",
              "  <div id=\"df-2556fd54-dad8-4274-b722-65242cd560cc\">\n",
              "    <div class=\"colab-df-container\">\n",
              "      <div>\n",
              "<style scoped>\n",
              "    .dataframe tbody tr th:only-of-type {\n",
              "        vertical-align: middle;\n",
              "    }\n",
              "\n",
              "    .dataframe tbody tr th {\n",
              "        vertical-align: top;\n",
              "    }\n",
              "\n",
              "    .dataframe thead th {\n",
              "        text-align: right;\n",
              "    }\n",
              "</style>\n",
              "<table border=\"1\" class=\"dataframe\">\n",
              "  <thead>\n",
              "    <tr style=\"text-align: right;\">\n",
              "      <th></th>\n",
              "      <th>lemma</th>\n",
              "      <th>inflection</th>\n",
              "      <th>NUM</th>\n",
              "      <th>GEN</th>\n",
              "      <th>RAT</th>\n",
              "      <th>lex_freq</th>\n",
              "      <th>B/S</th>\n",
              "      <th>SING_PATT</th>\n",
              "      <th>PL_PATT</th>\n",
              "      <th>ROOT</th>\n",
              "      <th>FREQ</th>\n",
              "    </tr>\n",
              "  </thead>\n",
              "  <tbody>\n",
              "    <tr>\n",
              "      <th>0</th>\n",
              "      <td>Eamal</td>\n",
              "      <td>&gt;aEomAl</td>\n",
              "      <td>PL</td>\n",
              "      <td>1</td>\n",
              "      <td>0</td>\n",
              "      <td>23</td>\n",
              "      <td>0</td>\n",
              "      <td>1a2a3</td>\n",
              "      <td>&gt;a1o2A3</td>\n",
              "      <td>E.m.l</td>\n",
              "      <td>23</td>\n",
              "    </tr>\n",
              "    <tr>\n",
              "      <th>1</th>\n",
              "      <td>hadaf</td>\n",
              "      <td>&gt;ahodAf</td>\n",
              "      <td>PL</td>\n",
              "      <td>1</td>\n",
              "      <td>0</td>\n",
              "      <td>16</td>\n",
              "      <td>0</td>\n",
              "      <td>1a2a3</td>\n",
              "      <td>&gt;a1o2A3</td>\n",
              "      <td>h.d.f</td>\n",
              "      <td>16</td>\n",
              "    </tr>\n",
              "    <tr>\n",
              "      <th>2</th>\n",
              "      <td>EalAqap</td>\n",
              "      <td>EalAqAt</td>\n",
              "      <td>PL</td>\n",
              "      <td>0</td>\n",
              "      <td>0</td>\n",
              "      <td>15</td>\n",
              "      <td>1</td>\n",
              "      <td>1a2A3ap</td>\n",
              "      <td>1a2A3At</td>\n",
              "      <td>E.l.q</td>\n",
              "      <td>15</td>\n",
              "    </tr>\n",
              "    <tr>\n",
              "      <th>3</th>\n",
              "      <td>mu&amp;as~asap</td>\n",
              "      <td>mu&amp;as~asAt</td>\n",
              "      <td>PL</td>\n",
              "      <td>0</td>\n",
              "      <td>0</td>\n",
              "      <td>14</td>\n",
              "      <td>1</td>\n",
              "      <td>mu&amp;a2~a3ap</td>\n",
              "      <td>mu&amp;a2~a3At</td>\n",
              "      <td>#.s.s</td>\n",
              "      <td>14</td>\n",
              "    </tr>\n",
              "    <tr>\n",
              "      <th>4</th>\n",
              "      <td>EuDow</td>\n",
              "      <td>&gt;aEoDA'</td>\n",
              "      <td>PL</td>\n",
              "      <td>1</td>\n",
              "      <td>1</td>\n",
              "      <td>15</td>\n",
              "      <td>0</td>\n",
              "      <td>1u2ow</td>\n",
              "      <td>&gt;a1o2A'</td>\n",
              "      <td>E.D.#</td>\n",
              "      <td>13</td>\n",
              "    </tr>\n",
              "  </tbody>\n",
              "</table>\n",
              "</div>\n",
              "      <button class=\"colab-df-convert\" onclick=\"convertToInteractive('df-2556fd54-dad8-4274-b722-65242cd560cc')\"\n",
              "              title=\"Convert this dataframe to an interactive table.\"\n",
              "              style=\"display:none;\">\n",
              "        \n",
              "  <svg xmlns=\"http://www.w3.org/2000/svg\" height=\"24px\"viewBox=\"0 0 24 24\"\n",
              "       width=\"24px\">\n",
              "    <path d=\"M0 0h24v24H0V0z\" fill=\"none\"/>\n",
              "    <path d=\"M18.56 5.44l.94 2.06.94-2.06 2.06-.94-2.06-.94-.94-2.06-.94 2.06-2.06.94zm-11 1L8.5 8.5l.94-2.06 2.06-.94-2.06-.94L8.5 2.5l-.94 2.06-2.06.94zm10 10l.94 2.06.94-2.06 2.06-.94-2.06-.94-.94-2.06-.94 2.06-2.06.94z\"/><path d=\"M17.41 7.96l-1.37-1.37c-.4-.4-.92-.59-1.43-.59-.52 0-1.04.2-1.43.59L10.3 9.45l-7.72 7.72c-.78.78-.78 2.05 0 2.83L4 21.41c.39.39.9.59 1.41.59.51 0 1.02-.2 1.41-.59l7.78-7.78 2.81-2.81c.8-.78.8-2.07 0-2.86zM5.41 20L4 18.59l7.72-7.72 1.47 1.35L5.41 20z\"/>\n",
              "  </svg>\n",
              "      </button>\n",
              "      \n",
              "  <style>\n",
              "    .colab-df-container {\n",
              "      display:flex;\n",
              "      flex-wrap:wrap;\n",
              "      gap: 12px;\n",
              "    }\n",
              "\n",
              "    .colab-df-convert {\n",
              "      background-color: #E8F0FE;\n",
              "      border: none;\n",
              "      border-radius: 50%;\n",
              "      cursor: pointer;\n",
              "      display: none;\n",
              "      fill: #1967D2;\n",
              "      height: 32px;\n",
              "      padding: 0 0 0 0;\n",
              "      width: 32px;\n",
              "    }\n",
              "\n",
              "    .colab-df-convert:hover {\n",
              "      background-color: #E2EBFA;\n",
              "      box-shadow: 0px 1px 2px rgba(60, 64, 67, 0.3), 0px 1px 3px 1px rgba(60, 64, 67, 0.15);\n",
              "      fill: #174EA6;\n",
              "    }\n",
              "\n",
              "    [theme=dark] .colab-df-convert {\n",
              "      background-color: #3B4455;\n",
              "      fill: #D2E3FC;\n",
              "    }\n",
              "\n",
              "    [theme=dark] .colab-df-convert:hover {\n",
              "      background-color: #434B5C;\n",
              "      box-shadow: 0px 1px 3px 1px rgba(0, 0, 0, 0.15);\n",
              "      filter: drop-shadow(0px 1px 2px rgba(0, 0, 0, 0.3));\n",
              "      fill: #FFFFFF;\n",
              "    }\n",
              "  </style>\n",
              "\n",
              "      <script>\n",
              "        const buttonEl =\n",
              "          document.querySelector('#df-2556fd54-dad8-4274-b722-65242cd560cc button.colab-df-convert');\n",
              "        buttonEl.style.display =\n",
              "          google.colab.kernel.accessAllowed ? 'block' : 'none';\n",
              "\n",
              "        async function convertToInteractive(key) {\n",
              "          const element = document.querySelector('#df-2556fd54-dad8-4274-b722-65242cd560cc');\n",
              "          const dataTable =\n",
              "            await google.colab.kernel.invokeFunction('convertToInteractive',\n",
              "                                                     [key], {});\n",
              "          if (!dataTable) return;\n",
              "\n",
              "          const docLinkHtml = 'Like what you see? Visit the ' +\n",
              "            '<a target=\"_blank\" href=https://colab.research.google.com/notebooks/data_table.ipynb>data table notebook</a>'\n",
              "            + ' to learn more about interactive tables.';\n",
              "          element.innerHTML = '';\n",
              "          dataTable['output_type'] = 'display_data';\n",
              "          await google.colab.output.renderOutput(dataTable, element);\n",
              "          const docLink = document.createElement('div');\n",
              "          docLink.innerHTML = docLinkHtml;\n",
              "          element.appendChild(docLink);\n",
              "        }\n",
              "      </script>\n",
              "    </div>\n",
              "  </div>\n",
              "  "
            ]
          },
          "metadata": {},
          "execution_count": 5
        }
      ],
      "source": [
        "# Label encoder for encoding gender and rational features\n",
        "# 'B' class: 0      'S' class: 1\n",
        "categorical_attr = ['GEN', 'RAT', 'B/S']\n",
        "\n",
        "le = LabelEncoder()\n",
        "train_csv_filtered[categorical_attr] = train_csv_filtered[categorical_attr].apply(le.fit_transform, axis=0)\n",
        "\n",
        "le = LabelEncoder()\n",
        "dev_csv_filtered[categorical_attr] = dev_csv_filtered[categorical_attr].apply(le.fit_transform, axis=0)\n",
        "\n",
        "le = LabelEncoder()\n",
        "test_csv_filtered[categorical_attr] = test_csv_filtered[categorical_attr].apply(le.fit_transform, axis=0)\n",
        "\n",
        "test_csv_filtered.head()"
      ]
    },
    {
      "cell_type": "code",
      "execution_count": 6,
      "metadata": {
        "colab": {
          "base_uri": "https://localhost:8080/"
        },
        "id": "HULbwhrD7Azc",
        "outputId": "642c01b6-9d42-4b05-fdc7-2e8f404549f2"
      },
      "outputs": [
        {
          "output_type": "stream",
          "name": "stdout",
          "text": [
            "(2748,)\n",
            "(1113,)\n",
            "(1076,)\n"
          ]
        }
      ],
      "source": [
        "def getNumpyData(dataFrame):\n",
        "  '''\n",
        "  Output type->List : 0:lamma | 1:singular pattern | 2:root |3:inflection | 4:plural pattern | 5:plural type(B/S) | 6:gender | 7:rational | 8:freq | 9:nmberOfRoot\n",
        "  '''\n",
        "  data = [] # 0:lemma | 1:singular pattern | 2:root |3:inflection | 4:plural pattern | 5:plural type(B/S) | 6:gender | 7:rational \n",
        "  data.append(dataFrame['lemma'].to_numpy())\n",
        "  data.append(dataFrame['SING_PATT'].to_numpy())\n",
        "\n",
        "  root = dataFrame['ROOT'].to_numpy()\n",
        "  # delete dot sign(.) in root feature\n",
        "  for i in range(len(root)): \n",
        "    root[i] = root[i].replace(\".\",\"\")\n",
        "    root[i] = root[i].replace(\"#\",\"\")\n",
        "  data.append(root)\n",
        "\n",
        "  data.append(dataFrame['inflection'].to_numpy())\n",
        "  data.append(dataFrame['PL_PATT'].to_numpy())\n",
        "  data.append(dataFrame['B/S'].to_numpy())\n",
        "  data.append(dataFrame['GEN'].to_numpy())\n",
        "  data.append(dataFrame['RAT'].to_numpy())\n",
        "  data.append(dataFrame['FREQ'].to_numpy())\n",
        "\n",
        "  numOfRoot = [len(x) for x in root]\n",
        "  data.append(np.array(numOfRoot))\n",
        "\n",
        "  print(data[0].shape)\n",
        "  return data\n",
        "\n",
        "trainData = getNumpyData(train_csv_filtered)\n",
        "devData = getNumpyData(dev_csv_filtered)\n",
        "testData = getNumpyData(test_csv_filtered)"
      ]
    },
    {
      "cell_type": "markdown",
      "source": [
        "## **Analyzing Datasets**"
      ],
      "metadata": {
        "id": "mGvkEaGn52gO"
      }
    },
    {
      "cell_type": "code",
      "source": [
        "# generate samples of dev/test set which are not in train set\n",
        "# compare with lemma\n",
        "devSetExistence = np.array([lemma in trainData[0] for lemma in devData[0]])\n",
        "testSetExistence = np.array([lemma in trainData[0] for lemma in testData[0]])\n",
        "\n",
        "unseenLemmaIndices_dev = np.where(devSetExistence==False)[0]\n",
        "unseenLemmaIndices_test = np.where(testSetExistence==False)[0]\n",
        "\n",
        "print('number of unseen data(lemma) in dev set: ', np.count_nonzero(devSetExistence==False))\n",
        "print('number of unseen data(lemma) in test set: ', np.count_nonzero(testSetExistence==False), end='\\n\\n')\n",
        "\n",
        "# compare with (lemma, inflection) pair\n",
        "  # first: generate (lemma, inflection) pair in sets\n",
        "trainLemmaInf = np.stack((trainData[0], trainData[3]), axis=-1).tolist()\n",
        "devLemmaInf = np.stack((devData[0], devData[3]), axis=-1).tolist()\n",
        "testLemmaInf = np.stack((testData[0], testData[3]), axis=-1).tolist()\n",
        "\n",
        "devSetExistence = np.array([lemInf in trainLemmaInf for lemInf in devLemmaInf])\n",
        "testSetExistence = np.array([lemInf in trainLemmaInf for lemInf in testLemmaInf])\n",
        "\n",
        "unseenLemInfIndices_dev = np.where(devSetExistence==False)[0]\n",
        "unseenLemInfIndices_test = np.where(testSetExistence==False)[0]\n",
        "\n",
        "print('number of unseen data((lemma, inflection) pair) in dev set: ', np.count_nonzero(devSetExistence==False))\n",
        "print('number of unseen data((lemma, inflection) pair) in test set: ', np.count_nonzero(testSetExistence==False))"
      ],
      "metadata": {
        "colab": {
          "base_uri": "https://localhost:8080/"
        },
        "id": "8A4h0Xsq2D5T",
        "outputId": "1afd5993-c28d-421b-8340-d914a8f159ad"
      },
      "execution_count": 7,
      "outputs": [
        {
          "output_type": "stream",
          "name": "stdout",
          "text": [
            "number of unseen data(lemma) in dev set:  80\n",
            "number of unseen data(lemma) in test set:  75\n",
            "\n",
            "number of unseen data((lemma, inflection) pair) in dev set:  102\n",
            "number of unseen data((lemma, inflection) pair) in test set:  85\n"
          ]
        }
      ]
    },
    {
      "cell_type": "code",
      "source": [
        "# create dataframe for dev set's unseen data\n",
        "    # 0:lemma | 1:singular pattern | 2:root |3:inflection | 4:plural pattern | 5:plural type(B/S) | 6:gender | 7:rational \n",
        "    \n",
        "path = '/content/drive/MyDrive/AI Projects/Arabic Broken Plural/Datasets analysis/'\n",
        "# os.makedirs(path, exist_ok=True)  \n",
        "\n",
        "unseenLemmaIndices_dev_df = pd.DataFrame({'index': unseenLemmaIndices_dev,\n",
        "                                           'lemma': devData[0][unseenLemmaIndices_dev],\n",
        "                                           'inflection': devData[3][unseenLemmaIndices_dev],\n",
        "                                           'pl pattern': devData[4][unseenLemmaIndices_dev]})\n",
        "unseenLemmaIndices_dev_df.to_csv(path + 'unseenLemma_dev.csv')\n",
        "\n",
        "\n",
        "unseenLemInfIndices_dev_df = pd.DataFrame({'index': unseenLemInfIndices_dev,\n",
        "                                           'lemma': devData[0][unseenLemInfIndices_dev],\n",
        "                                           'inflection': devData[3][unseenLemInfIndices_dev],\n",
        "                                           'pl pattern': devData[4][unseenLemInfIndices_dev]})\n",
        "unseenLemInfIndices_dev_df.to_csv(path + 'unseenLemInf_dev.csv')"
      ],
      "metadata": {
        "id": "4svS48t-E52e"
      },
      "execution_count": 8,
      "outputs": []
    },
    {
      "cell_type": "code",
      "source": [
        "unseenLemInfIndices_dev_df.head()"
      ],
      "metadata": {
        "colab": {
          "base_uri": "https://localhost:8080/",
          "height": 206
        },
        "id": "uyffjGYjL9Er",
        "outputId": "86293562-0bab-449e-ce43-f73d8825f681"
      },
      "execution_count": 9,
      "outputs": [
        {
          "output_type": "execute_result",
          "data": {
            "text/plain": [
              "   index      lemma   inflection   pl pattern\n",
              "0    220   muHaw~il   muHaw~ilAt   mu1aw~i3At\n",
              "1    230  mujawohar  mujawoharAt  mu1awo3a4At\n",
              "2    278      Haloy       Huliy~       1u2iy~\n",
              "3    293     tAriyx     tawAriyx     tawA2iy3\n",
              "4    383      madad      >amodAd      >a1o2A3"
            ],
            "text/html": [
              "\n",
              "  <div id=\"df-5a1e8780-0df7-4b9b-978c-c9bcbc0dffdc\">\n",
              "    <div class=\"colab-df-container\">\n",
              "      <div>\n",
              "<style scoped>\n",
              "    .dataframe tbody tr th:only-of-type {\n",
              "        vertical-align: middle;\n",
              "    }\n",
              "\n",
              "    .dataframe tbody tr th {\n",
              "        vertical-align: top;\n",
              "    }\n",
              "\n",
              "    .dataframe thead th {\n",
              "        text-align: right;\n",
              "    }\n",
              "</style>\n",
              "<table border=\"1\" class=\"dataframe\">\n",
              "  <thead>\n",
              "    <tr style=\"text-align: right;\">\n",
              "      <th></th>\n",
              "      <th>index</th>\n",
              "      <th>lemma</th>\n",
              "      <th>inflection</th>\n",
              "      <th>pl pattern</th>\n",
              "    </tr>\n",
              "  </thead>\n",
              "  <tbody>\n",
              "    <tr>\n",
              "      <th>0</th>\n",
              "      <td>220</td>\n",
              "      <td>muHaw~il</td>\n",
              "      <td>muHaw~ilAt</td>\n",
              "      <td>mu1aw~i3At</td>\n",
              "    </tr>\n",
              "    <tr>\n",
              "      <th>1</th>\n",
              "      <td>230</td>\n",
              "      <td>mujawohar</td>\n",
              "      <td>mujawoharAt</td>\n",
              "      <td>mu1awo3a4At</td>\n",
              "    </tr>\n",
              "    <tr>\n",
              "      <th>2</th>\n",
              "      <td>278</td>\n",
              "      <td>Haloy</td>\n",
              "      <td>Huliy~</td>\n",
              "      <td>1u2iy~</td>\n",
              "    </tr>\n",
              "    <tr>\n",
              "      <th>3</th>\n",
              "      <td>293</td>\n",
              "      <td>tAriyx</td>\n",
              "      <td>tawAriyx</td>\n",
              "      <td>tawA2iy3</td>\n",
              "    </tr>\n",
              "    <tr>\n",
              "      <th>4</th>\n",
              "      <td>383</td>\n",
              "      <td>madad</td>\n",
              "      <td>&gt;amodAd</td>\n",
              "      <td>&gt;a1o2A3</td>\n",
              "    </tr>\n",
              "  </tbody>\n",
              "</table>\n",
              "</div>\n",
              "      <button class=\"colab-df-convert\" onclick=\"convertToInteractive('df-5a1e8780-0df7-4b9b-978c-c9bcbc0dffdc')\"\n",
              "              title=\"Convert this dataframe to an interactive table.\"\n",
              "              style=\"display:none;\">\n",
              "        \n",
              "  <svg xmlns=\"http://www.w3.org/2000/svg\" height=\"24px\"viewBox=\"0 0 24 24\"\n",
              "       width=\"24px\">\n",
              "    <path d=\"M0 0h24v24H0V0z\" fill=\"none\"/>\n",
              "    <path d=\"M18.56 5.44l.94 2.06.94-2.06 2.06-.94-2.06-.94-.94-2.06-.94 2.06-2.06.94zm-11 1L8.5 8.5l.94-2.06 2.06-.94-2.06-.94L8.5 2.5l-.94 2.06-2.06.94zm10 10l.94 2.06.94-2.06 2.06-.94-2.06-.94-.94-2.06-.94 2.06-2.06.94z\"/><path d=\"M17.41 7.96l-1.37-1.37c-.4-.4-.92-.59-1.43-.59-.52 0-1.04.2-1.43.59L10.3 9.45l-7.72 7.72c-.78.78-.78 2.05 0 2.83L4 21.41c.39.39.9.59 1.41.59.51 0 1.02-.2 1.41-.59l7.78-7.78 2.81-2.81c.8-.78.8-2.07 0-2.86zM5.41 20L4 18.59l7.72-7.72 1.47 1.35L5.41 20z\"/>\n",
              "  </svg>\n",
              "      </button>\n",
              "      \n",
              "  <style>\n",
              "    .colab-df-container {\n",
              "      display:flex;\n",
              "      flex-wrap:wrap;\n",
              "      gap: 12px;\n",
              "    }\n",
              "\n",
              "    .colab-df-convert {\n",
              "      background-color: #E8F0FE;\n",
              "      border: none;\n",
              "      border-radius: 50%;\n",
              "      cursor: pointer;\n",
              "      display: none;\n",
              "      fill: #1967D2;\n",
              "      height: 32px;\n",
              "      padding: 0 0 0 0;\n",
              "      width: 32px;\n",
              "    }\n",
              "\n",
              "    .colab-df-convert:hover {\n",
              "      background-color: #E2EBFA;\n",
              "      box-shadow: 0px 1px 2px rgba(60, 64, 67, 0.3), 0px 1px 3px 1px rgba(60, 64, 67, 0.15);\n",
              "      fill: #174EA6;\n",
              "    }\n",
              "\n",
              "    [theme=dark] .colab-df-convert {\n",
              "      background-color: #3B4455;\n",
              "      fill: #D2E3FC;\n",
              "    }\n",
              "\n",
              "    [theme=dark] .colab-df-convert:hover {\n",
              "      background-color: #434B5C;\n",
              "      box-shadow: 0px 1px 3px 1px rgba(0, 0, 0, 0.15);\n",
              "      filter: drop-shadow(0px 1px 2px rgba(0, 0, 0, 0.3));\n",
              "      fill: #FFFFFF;\n",
              "    }\n",
              "  </style>\n",
              "\n",
              "      <script>\n",
              "        const buttonEl =\n",
              "          document.querySelector('#df-5a1e8780-0df7-4b9b-978c-c9bcbc0dffdc button.colab-df-convert');\n",
              "        buttonEl.style.display =\n",
              "          google.colab.kernel.accessAllowed ? 'block' : 'none';\n",
              "\n",
              "        async function convertToInteractive(key) {\n",
              "          const element = document.querySelector('#df-5a1e8780-0df7-4b9b-978c-c9bcbc0dffdc');\n",
              "          const dataTable =\n",
              "            await google.colab.kernel.invokeFunction('convertToInteractive',\n",
              "                                                     [key], {});\n",
              "          if (!dataTable) return;\n",
              "\n",
              "          const docLinkHtml = 'Like what you see? Visit the ' +\n",
              "            '<a target=\"_blank\" href=https://colab.research.google.com/notebooks/data_table.ipynb>data table notebook</a>'\n",
              "            + ' to learn more about interactive tables.';\n",
              "          element.innerHTML = '';\n",
              "          dataTable['output_type'] = 'display_data';\n",
              "          await google.colab.output.renderOutput(dataTable, element);\n",
              "          const docLink = document.createElement('div');\n",
              "          docLink.innerHTML = docLinkHtml;\n",
              "          element.appendChild(docLink);\n",
              "        }\n",
              "      </script>\n",
              "    </div>\n",
              "  </div>\n",
              "  "
            ]
          },
          "metadata": {},
          "execution_count": 9
        }
      ]
    },
    {
      "cell_type": "code",
      "source": [
        "# create dataframe for test set's unseen data\n",
        "unseenLemmaIndices_test_df = pd.DataFrame({'index': unseenLemmaIndices_test,\n",
        "                                           'lemma': testData[0][unseenLemmaIndices_test],\n",
        "                                           'inflection': testData[3][unseenLemmaIndices_test],\n",
        "                                           'pl pattern': testData[4][unseenLemmaIndices_test]})\n",
        "unseenLemmaIndices_test_df.to_csv(path + 'unseenLemma_test.csv')\n",
        "\n",
        "\n",
        "unseenLemInfIndices_test_df = pd.DataFrame({'index': unseenLemInfIndices_test,\n",
        "                                           'lemma': testData[0][unseenLemInfIndices_test],\n",
        "                                           'inflection': testData[3][unseenLemInfIndices_test],\n",
        "                                           'pl pattern': testData[4][unseenLemInfIndices_test]})\n",
        "unseenLemInfIndices_test_df.to_csv(path + 'unseenLemInf_test.csv')"
      ],
      "metadata": {
        "id": "89nLjJsYLKBq"
      },
      "execution_count": 10,
      "outputs": []
    },
    {
      "cell_type": "code",
      "source": [
        "unseenLemInfIndices_test_df.head()"
      ],
      "metadata": {
        "colab": {
          "base_uri": "https://localhost:8080/",
          "height": 206
        },
        "id": "rSBoMvifMDd4",
        "outputId": "5da77146-1e58-49cd-e420-8113f9846553"
      },
      "execution_count": 11,
      "outputs": [
        {
          "output_type": "execute_result",
          "data": {
            "text/plain": [
              "   index     lemma  inflection  pl pattern\n",
              "0    177  minaS~ap    minaS~At    mi1a2~At\n",
              "1    270   muDorib  muDoribiyn  mu1o2i3iyn\n",
              "2    307  Eubuw~ap    Eubuw~At    1u2uw~At\n",
              "3    332  rafiyqap    rafiyqAt    1a2iy3At\n",
              "4    355   sAEidap     sawAEid     1awA2i3"
            ],
            "text/html": [
              "\n",
              "  <div id=\"df-13f9e5b9-14c5-48d5-879b-099ee3b77633\">\n",
              "    <div class=\"colab-df-container\">\n",
              "      <div>\n",
              "<style scoped>\n",
              "    .dataframe tbody tr th:only-of-type {\n",
              "        vertical-align: middle;\n",
              "    }\n",
              "\n",
              "    .dataframe tbody tr th {\n",
              "        vertical-align: top;\n",
              "    }\n",
              "\n",
              "    .dataframe thead th {\n",
              "        text-align: right;\n",
              "    }\n",
              "</style>\n",
              "<table border=\"1\" class=\"dataframe\">\n",
              "  <thead>\n",
              "    <tr style=\"text-align: right;\">\n",
              "      <th></th>\n",
              "      <th>index</th>\n",
              "      <th>lemma</th>\n",
              "      <th>inflection</th>\n",
              "      <th>pl pattern</th>\n",
              "    </tr>\n",
              "  </thead>\n",
              "  <tbody>\n",
              "    <tr>\n",
              "      <th>0</th>\n",
              "      <td>177</td>\n",
              "      <td>minaS~ap</td>\n",
              "      <td>minaS~At</td>\n",
              "      <td>mi1a2~At</td>\n",
              "    </tr>\n",
              "    <tr>\n",
              "      <th>1</th>\n",
              "      <td>270</td>\n",
              "      <td>muDorib</td>\n",
              "      <td>muDoribiyn</td>\n",
              "      <td>mu1o2i3iyn</td>\n",
              "    </tr>\n",
              "    <tr>\n",
              "      <th>2</th>\n",
              "      <td>307</td>\n",
              "      <td>Eubuw~ap</td>\n",
              "      <td>Eubuw~At</td>\n",
              "      <td>1u2uw~At</td>\n",
              "    </tr>\n",
              "    <tr>\n",
              "      <th>3</th>\n",
              "      <td>332</td>\n",
              "      <td>rafiyqap</td>\n",
              "      <td>rafiyqAt</td>\n",
              "      <td>1a2iy3At</td>\n",
              "    </tr>\n",
              "    <tr>\n",
              "      <th>4</th>\n",
              "      <td>355</td>\n",
              "      <td>sAEidap</td>\n",
              "      <td>sawAEid</td>\n",
              "      <td>1awA2i3</td>\n",
              "    </tr>\n",
              "  </tbody>\n",
              "</table>\n",
              "</div>\n",
              "      <button class=\"colab-df-convert\" onclick=\"convertToInteractive('df-13f9e5b9-14c5-48d5-879b-099ee3b77633')\"\n",
              "              title=\"Convert this dataframe to an interactive table.\"\n",
              "              style=\"display:none;\">\n",
              "        \n",
              "  <svg xmlns=\"http://www.w3.org/2000/svg\" height=\"24px\"viewBox=\"0 0 24 24\"\n",
              "       width=\"24px\">\n",
              "    <path d=\"M0 0h24v24H0V0z\" fill=\"none\"/>\n",
              "    <path d=\"M18.56 5.44l.94 2.06.94-2.06 2.06-.94-2.06-.94-.94-2.06-.94 2.06-2.06.94zm-11 1L8.5 8.5l.94-2.06 2.06-.94-2.06-.94L8.5 2.5l-.94 2.06-2.06.94zm10 10l.94 2.06.94-2.06 2.06-.94-2.06-.94-.94-2.06-.94 2.06-2.06.94z\"/><path d=\"M17.41 7.96l-1.37-1.37c-.4-.4-.92-.59-1.43-.59-.52 0-1.04.2-1.43.59L10.3 9.45l-7.72 7.72c-.78.78-.78 2.05 0 2.83L4 21.41c.39.39.9.59 1.41.59.51 0 1.02-.2 1.41-.59l7.78-7.78 2.81-2.81c.8-.78.8-2.07 0-2.86zM5.41 20L4 18.59l7.72-7.72 1.47 1.35L5.41 20z\"/>\n",
              "  </svg>\n",
              "      </button>\n",
              "      \n",
              "  <style>\n",
              "    .colab-df-container {\n",
              "      display:flex;\n",
              "      flex-wrap:wrap;\n",
              "      gap: 12px;\n",
              "    }\n",
              "\n",
              "    .colab-df-convert {\n",
              "      background-color: #E8F0FE;\n",
              "      border: none;\n",
              "      border-radius: 50%;\n",
              "      cursor: pointer;\n",
              "      display: none;\n",
              "      fill: #1967D2;\n",
              "      height: 32px;\n",
              "      padding: 0 0 0 0;\n",
              "      width: 32px;\n",
              "    }\n",
              "\n",
              "    .colab-df-convert:hover {\n",
              "      background-color: #E2EBFA;\n",
              "      box-shadow: 0px 1px 2px rgba(60, 64, 67, 0.3), 0px 1px 3px 1px rgba(60, 64, 67, 0.15);\n",
              "      fill: #174EA6;\n",
              "    }\n",
              "\n",
              "    [theme=dark] .colab-df-convert {\n",
              "      background-color: #3B4455;\n",
              "      fill: #D2E3FC;\n",
              "    }\n",
              "\n",
              "    [theme=dark] .colab-df-convert:hover {\n",
              "      background-color: #434B5C;\n",
              "      box-shadow: 0px 1px 3px 1px rgba(0, 0, 0, 0.15);\n",
              "      filter: drop-shadow(0px 1px 2px rgba(0, 0, 0, 0.3));\n",
              "      fill: #FFFFFF;\n",
              "    }\n",
              "  </style>\n",
              "\n",
              "      <script>\n",
              "        const buttonEl =\n",
              "          document.querySelector('#df-13f9e5b9-14c5-48d5-879b-099ee3b77633 button.colab-df-convert');\n",
              "        buttonEl.style.display =\n",
              "          google.colab.kernel.accessAllowed ? 'block' : 'none';\n",
              "\n",
              "        async function convertToInteractive(key) {\n",
              "          const element = document.querySelector('#df-13f9e5b9-14c5-48d5-879b-099ee3b77633');\n",
              "          const dataTable =\n",
              "            await google.colab.kernel.invokeFunction('convertToInteractive',\n",
              "                                                     [key], {});\n",
              "          if (!dataTable) return;\n",
              "\n",
              "          const docLinkHtml = 'Like what you see? Visit the ' +\n",
              "            '<a target=\"_blank\" href=https://colab.research.google.com/notebooks/data_table.ipynb>data table notebook</a>'\n",
              "            + ' to learn more about interactive tables.';\n",
              "          element.innerHTML = '';\n",
              "          dataTable['output_type'] = 'display_data';\n",
              "          await google.colab.output.renderOutput(dataTable, element);\n",
              "          const docLink = document.createElement('div');\n",
              "          docLink.innerHTML = docLinkHtml;\n",
              "          element.appendChild(docLink);\n",
              "        }\n",
              "      </script>\n",
              "    </div>\n",
              "  </div>\n",
              "  "
            ]
          },
          "metadata": {},
          "execution_count": 11
        }
      ]
    },
    {
      "cell_type": "markdown",
      "source": [
        "## **Encoding Datasets (Character-based)**"
      ],
      "metadata": {
        "id": "_g-e8zVR6FP4"
      }
    },
    {
      "cell_type": "code",
      "execution_count": 12,
      "metadata": {
        "id": "N7T6jiEjfAdt",
        "colab": {
          "base_uri": "https://localhost:8080/"
        },
        "outputId": "346f192d-8609-4ff9-d701-1abe1a28f4bc"
      },
      "outputs": [
        {
          "output_type": "stream",
          "name": "stdout",
          "text": [
            "48\n",
            "{'not available char': 0, 'E': 1, 'a': 2, 'm': 3, 'l': 4, '1': 5, '2': 6, '3': 7, '>': 8, 'o': 9, 'A': 10, 'h': 11, 'd': 12, 'f': 13, 'u': 14, 'D': 15, 'w': 16, \"'\": 17, 'j': 18, 'i': 19, 'z': 20, 'p': 21, 'H': 22, 'k': 23, 'n': 24, 'S': 25, 'r': 26, '4': 27, 'q': 28, '~': 29, 'y': 30, 't': 31, 's': 32, '<': 33, 'b': 34, 'v': 35, '|': 36, 'T': 37, '}': 38, 'Z': 39, '{': 40, '&': 41, '$': 42, 'x': 43, '*': 44, 'g': 45, 'Y': 46, 'F': 47}\n"
          ]
        }
      ],
      "source": [
        "# generate character encoding\n",
        "oov_token = 'not available char'\n",
        "char_index = {oov_token: 0}\n",
        "\n",
        "def updateCharIndex(data):\n",
        "  global char_index\n",
        "  # encode input with encoding character set\n",
        "  for i in range(len(data[0])):\n",
        "      chars = list(data[0][i]) + list(data[1][i]) + list(data[3][i]) + list(data[4][i])\n",
        "      for c in chars:\n",
        "          if c not in char_index:\n",
        "              char_index[c] = len(char_index)\n",
        "\n",
        "updateCharIndex(trainData)\n",
        "print(len(char_index))\n",
        "print(char_index)"
      ]
    },
    {
      "cell_type": "code",
      "execution_count": 13,
      "metadata": {
        "id": "pg2zaYXBgGL8",
        "colab": {
          "base_uri": "https://localhost:8080/"
        },
        "outputId": "6e5202a6-34b9-452d-fce5-0cbfbfc90211"
      },
      "outputs": [
        {
          "output_type": "stream",
          "name": "stdout",
          "text": [
            "lemma shape train:  (2748,)\n",
            "lemma shape dev:  (1113,)\n",
            "lemma shape test:  (1076,)\n",
            "max length in lemma elements:  16\n",
            "max length in root elements:  4\n",
            "max length in inflection elements:  17\n"
          ]
        },
        {
          "output_type": "stream",
          "name": "stderr",
          "text": [
            "/usr/local/lib/python3.7/dist-packages/ipykernel_launcher.py:12: VisibleDeprecationWarning: Creating an ndarray from ragged nested sequences (which is a list-or-tuple of lists-or-tuples-or ndarrays with different lengths or shapes) is deprecated. If you meant to do this, you must specify 'dtype=object' when creating the ndarray.\n",
            "  if sys.path[0] == '':\n",
            "/usr/local/lib/python3.7/dist-packages/ipykernel_launcher.py:13: VisibleDeprecationWarning: Creating an ndarray from ragged nested sequences (which is a list-or-tuple of lists-or-tuples-or ndarrays with different lengths or shapes) is deprecated. If you meant to do this, you must specify 'dtype=object' when creating the ndarray.\n",
            "  del sys.path[0]\n",
            "/usr/local/lib/python3.7/dist-packages/ipykernel_launcher.py:14: VisibleDeprecationWarning: Creating an ndarray from ragged nested sequences (which is a list-or-tuple of lists-or-tuples-or ndarrays with different lengths or shapes) is deprecated. If you meant to do this, you must specify 'dtype=object' when creating the ndarray.\n",
            "  \n",
            "/usr/local/lib/python3.7/dist-packages/ipykernel_launcher.py:15: VisibleDeprecationWarning: Creating an ndarray from ragged nested sequences (which is a list-or-tuple of lists-or-tuples-or ndarrays with different lengths or shapes) is deprecated. If you meant to do this, you must specify 'dtype=object' when creating the ndarray.\n",
            "  from ipykernel import kernelapp as app\n",
            "/usr/local/lib/python3.7/dist-packages/ipykernel_launcher.py:16: VisibleDeprecationWarning: Creating an ndarray from ragged nested sequences (which is a list-or-tuple of lists-or-tuples-or ndarrays with different lengths or shapes) is deprecated. If you meant to do this, you must specify 'dtype=object' when creating the ndarray.\n",
            "  app.launch_new_instance()\n"
          ]
        }
      ],
      "source": [
        "# encode words with character encoder\n",
        "def encodeWord(word, dic=char_index, oov=oov_token):\n",
        "    return [dic[c] if c in dic else dic[oov] for c in list(word)]\n",
        "\n",
        "# encode data and get maximum length of features\n",
        "def getEncodedData(data):\n",
        "  '''\n",
        "  Output type->List : 0:lamma | 1:singular pattern | 2:root |3:inflection | 4:plural pattern | 5:plural type(B/S) | 6:gender | 7:rational | 8:number of root\n",
        "  '''\n",
        "\n",
        "  data_encoded = np.copy(data)\n",
        "  data_encoded[0] = np.array([encodeWord(each) for each in data[0]])\n",
        "  data_encoded[1] = np.array([encodeWord(each) for each in data[1]])\n",
        "  data_encoded[2] = np.array([encodeWord(each) for each in data[2]])\n",
        "  data_encoded[3] = np.array([encodeWord(each) for each in data[3]])\n",
        "  data_encoded[4] = np.array([encodeWord(each) for each in data[4]])\n",
        "\n",
        "  lemma_max_len = max([len(each) for each in data_encoded[0]])\n",
        "  root_max_len = max([len(each) for each in data_encoded[2]])\n",
        "  inflection_max_len = max([len(each) for each in data_encoded[3]])\n",
        "\n",
        "  return data_encoded, lemma_max_len, root_max_len, inflection_max_len\n",
        "\n",
        "\n",
        "trainData_encoded, lemma_max_len, root_max_len, inflection_max_len = getEncodedData(trainData)\n",
        "devData_encoded, _, _, _  = getEncodedData(devData)\n",
        "testData_encoded, _, _, _ = getEncodedData(testData)\n",
        "\n",
        "print('lemma shape train: ', trainData_encoded[0].shape)\n",
        "print('lemma shape dev: ', devData_encoded[0].shape)\n",
        "print('lemma shape test: ', testData_encoded[0].shape)\n",
        "print('max length in lemma elements: ', lemma_max_len)\n",
        "print('max length in root elements: ', root_max_len)\n",
        "print('max length in inflection elements: ', inflection_max_len)"
      ]
    },
    {
      "cell_type": "code",
      "execution_count": 14,
      "metadata": {
        "id": "t84a_M5RgWak",
        "colab": {
          "base_uri": "https://localhost:8080/"
        },
        "outputId": "66f34d7e-ba13-4ef4-86fc-8b94914f0620"
      },
      "outputs": [
        {
          "output_type": "stream",
          "name": "stdout",
          "text": [
            "lemma with pad shape train:  (2748, 16)\n",
            "lemma with pad shape dev:  (1113, 16)\n",
            "lemma with pad shape test:  (1076, 16)\n"
          ]
        }
      ],
      "source": [
        "# ADD padding to sample\n",
        "# 0:lamma | 1:singular pattern | 2:root |3:inflection | 4:plural pattern | 5:plural type(B/S) | 6:gender | 7:rational \n",
        "def getPaddedData(encodedData, lemma_max_len, root_max_len, inflection_max_len):\n",
        "  data_pad = []\n",
        "  data_pad.append(np.array(pad_sequences(encodedData[0], maxlen=lemma_max_len, padding='post'))) \n",
        "  data_pad.append(np.array(pad_sequences(encodedData[1], maxlen=lemma_max_len, padding='post')))\n",
        "  data_pad.append(np.array(pad_sequences(encodedData[2], maxlen=root_max_len, padding='post')))\n",
        "  data_pad.append(np.array(pad_sequences(encodedData[3], maxlen=inflection_max_len, padding='post')))\n",
        "  data_pad.append(np.array(pad_sequences(encodedData[4], maxlen=inflection_max_len, padding='post')))\n",
        "  data_pad.append(encodedData[5])\n",
        "  data_pad.append(encodedData[6])\n",
        "  data_pad.append(encodedData[7])\n",
        "  data_pad.append(encodedData[8])\n",
        "\n",
        "  return data_pad\n",
        "\n",
        "trainData_pad = getPaddedData(trainData_encoded, lemma_max_len, root_max_len, inflection_max_len)\n",
        "devData_pad = getPaddedData(devData_encoded, lemma_max_len, root_max_len, inflection_max_len)\n",
        "testData_pad = getPaddedData(testData_encoded, lemma_max_len, root_max_len, inflection_max_len)\n",
        "\n",
        "print('lemma with pad shape train: ', trainData_pad[0].shape)\n",
        "print('lemma with pad shape dev: ', devData_pad[0].shape)\n",
        "print('lemma with pad shape test: ', testData_pad[0].shape)"
      ]
    },
    {
      "cell_type": "markdown",
      "metadata": {
        "id": "GOz6rMhcCHXo"
      },
      "source": [
        "### **Create inputs of neural network**"
      ]
    },
    {
      "cell_type": "code",
      "execution_count": 15,
      "metadata": {
        "id": "moNhyuol4RMk",
        "colab": {
          "base_uri": "https://localhost:8080/"
        },
        "outputId": "81b53c2a-cc58-43be-a6cb-56690bf33ffd"
      },
      "outputs": [
        {
          "output_type": "stream",
          "name": "stdout",
          "text": [
            "X_train_lemma shape:  (2748, 16)\n",
            "X_train_singularPattern shape:  (2748, 16)\n",
            "X_train_root shape:  (2748, 4)\n",
            "X_train_genRat shape:  (2748, 2)\n",
            "X_train_numOfRoot shape:  (2748, 1)\n",
            "y_train_class shape:  (2748, 1)\n",
            "y_train_plPattern shape:  (2748, 17)\n",
            "y_train_unflection shape:  (2748, 17)\n"
          ]
        }
      ],
      "source": [
        "# 0:lamma | 1:singular pattern | 2:root |3:inflection | 4:plural pattern | 5:plural type(B/S) | 6:gender | 7:rational | 8:number of root\n",
        "# create train set\n",
        "X_train_lemma = trainData_pad[0]  # lemma feature\n",
        "X_train_singularPattern = trainData_pad[1]  # singular pattern feature\n",
        "X_train_root = trainData_pad[2]  # root feature\n",
        "X_train_genRat = np.stack((trainData_pad[6], trainData_pad[7]), axis=-1)  # gender & rational features\n",
        "X_train_numOfRoot = trainData_pad[8].reshape((trainData_pad[8].shape[0], -1))  # number of root\n",
        "\n",
        "y_train_class = trainData_pad[5].reshape((trainData_pad[5].shape[0], -1))  # broken or sound classes\n",
        "y_train_plPattern = trainData_pad[4]  # plural pattern\n",
        "y_train_inflection = trainData_pad[3]  # inflection\n",
        "\n",
        "# create dev set\n",
        "X_dev_lemma = devData_pad[0]  # lemma feature\n",
        "X_dev_singularPattern = devData_pad[1]  # singular pattern feature\n",
        "X_dev_root = devData_pad[2]  # root feature\n",
        "X_dev_genRat = np.stack((devData_pad[6], devData_pad[7]), axis=-1)  # gender & rational features\n",
        "X_dev_numOfRoot = devData_pad[8].reshape((devData_pad[8].shape[0], -1))  # number of root\n",
        "\n",
        "y_dev_class = devData_pad[5].reshape((devData_pad[5].shape[0], -1))  # broken or sound classes\n",
        "y_dev_plPattern = devData_pad[4]  # plural pattern\n",
        "y_dev_inflection = devData_pad[3]  # inflection\n",
        "\n",
        "# create test set\n",
        "X_test_lemma = testData_pad[0]  # lemma feature\n",
        "X_test_singularPattern = testData_pad[1]  # singular pattern feature\n",
        "X_test_root = testData_pad[2]  # root feature\n",
        "X_test_genRat = np.stack((testData_pad[6], testData_pad[7]), axis=-1)  # gender & rational features\n",
        "X_test_numOfRoot = testData_pad[8].reshape((testData_pad[8].shape[0], -1))  # number of root\n",
        "\n",
        "y_test_class = testData_pad[5].reshape((testData_pad[5].shape[0], -1))  # broken or sound classes\n",
        "y_test_plPattern = testData_pad[4]  # plural pattern\n",
        "y_test_inflection = testData_pad[3]  # inflection\n",
        "\n",
        "print('X_train_lemma shape: ', X_train_lemma.shape)\n",
        "print('X_train_singularPattern shape: ', X_train_singularPattern.shape)\n",
        "print('X_train_root shape: ', X_train_root.shape)\n",
        "print('X_train_genRat shape: ', X_train_genRat.shape)\n",
        "print('X_train_numOfRoot shape: ', X_train_numOfRoot.shape)\n",
        "print('y_train_class shape: ', y_train_class.shape)\n",
        "print('y_train_plPattern shape: ', y_train_plPattern.shape)\n",
        "print('y_train_unflection shape: ', y_train_inflection.shape)"
      ]
    },
    {
      "cell_type": "code",
      "execution_count": 16,
      "metadata": {
        "id": "aPdGFMk81RY8",
        "colab": {
          "base_uri": "https://localhost:8080/"
        },
        "outputId": "1e5672f8-897e-4c27-cfa3-422143c3ef7b"
      },
      "outputs": [
        {
          "output_type": "stream",
          "name": "stdout",
          "text": [
            "(2748, 16, 48)\n",
            "(2748, 16, 48)\n",
            "(2748, 4, 48)\n",
            "(2748, 17, 48)\n",
            "(2748, 17, 48)\n"
          ]
        }
      ],
      "source": [
        "# Convert to ONE-HOT encoding\n",
        "X_train_lemma_OH = to_categorical(X_train_lemma, len(char_index))\n",
        "X_train_singularPattern_OH = to_categorical(X_train_singularPattern, len(char_index))\n",
        "X_train_root_OH = to_categorical(X_train_root, len(char_index))\n",
        "\n",
        "X_dev_lemma_OH = to_categorical(X_dev_lemma, len(char_index))\n",
        "X_dev_singularPattern_OH = to_categorical(X_dev_singularPattern, len(char_index))\n",
        "X_dev_root_OH = to_categorical(X_dev_root, len(char_index))\n",
        "\n",
        "X_test_lemma_OH = to_categorical(X_test_lemma, len(char_index))\n",
        "X_test_singularPattern_OH = to_categorical(X_test_singularPattern, len(char_index))\n",
        "X_test_root_OH = to_categorical(X_test_root, len(char_index))\n",
        "\n",
        "y_train_plPattern_OH = to_categorical(y_train_plPattern, len(char_index))\n",
        "y_dev_plPattern_OH = to_categorical(y_dev_plPattern, len(char_index))\n",
        "y_test_plPattern_OH = to_categorical(y_test_plPattern, len(char_index))\n",
        "\n",
        "y_train_inflection_OH = to_categorical(y_train_inflection, len(char_index))\n",
        "y_dev_inflection_OH = to_categorical(y_dev_inflection, len(char_index))\n",
        "y_test_inflection_OH = to_categorical(y_test_inflection, len(char_index))\n",
        "\n",
        "print(X_train_lemma_OH.shape)\n",
        "print(X_train_singularPattern_OH.shape)\n",
        "print(X_train_root_OH.shape)\n",
        "print(y_train_plPattern_OH.shape)\n",
        "print(y_train_inflection_OH.shape)"
      ]
    },
    {
      "cell_type": "code",
      "execution_count": 17,
      "metadata": {
        "id": "yVSLXq6_j4Xe"
      },
      "outputs": [],
      "source": [
        "# covern numerical inputs to int32\n",
        "X_train_genRat = np.asarray(X_train_genRat).astype('int32')\n",
        "X_train_numOfRoot = np.asarray(X_train_numOfRoot).astype('int32')\n",
        "X_dev_genRat = np.asarray(X_dev_genRat).astype('int32')\n",
        "X_dev_numOfRoot = np.asarray(X_dev_numOfRoot).astype('int32')\n",
        "X_test_genRat = np.asarray(X_test_genRat).astype('int32')\n",
        "X_test_numOfRoot = np.asarray(X_test_numOfRoot).astype('int32')\n",
        "\n",
        "y_train_class = np.asarray(y_train_class).astype('int32')\n",
        "y_dev_class = np.asarray(y_dev_class).astype('int32')\n",
        "y_test_class = np.asarray(y_test_class).astype('int32')"
      ]
    },
    {
      "cell_type": "markdown",
      "metadata": {
        "id": "g4MC1JT3TSec"
      },
      "source": [
        "# **Helper Functions**"
      ]
    },
    {
      "cell_type": "code",
      "source": [
        "from collections import Counter\n",
        "# 0:lamma | 1:singular pattern | 2:root |3:inflection | 4:plural pattern | 5:plural type(B/S) | 6:gender | 7:rational \n",
        "def getDuplicateIndexes(data):\n",
        "  dupindex={}\n",
        "  for i in range(len(data[0])):\n",
        "    if dupindex.get(data[0][i])==None:\n",
        "      dupindex[data[0][i]]=[]\n",
        "    dupindex[data[0][i]].append(i)\n",
        "\n",
        "  return dupindex\n",
        "\n",
        "def reportErrorAnalysis_duplicates(dataframe,dicDup,path):\n",
        "  df=dataframe.loc[[]]\n",
        "  \n",
        "  indexes=[]\n",
        "  for key, value in dicDup.items():\n",
        "    for x in value:\n",
        "      n=len(df)\n",
        "      indexes.append(x)\n",
        "      df.loc[n]=dataframe.loc[x]\n",
        "  df.insert(0, \"index\", indexes, True)\n",
        "  df.to_csv(path)\n",
        "  return df\n",
        "\n",
        "def getUniqueNumpy(data,dicDup):\n",
        "  \n",
        "  dic=Counter(data[0])\n",
        "  out=[]\n",
        "  out_np=[]\n",
        "  for i in range(len(data)):out.append([])\n",
        "  for key, value in dicDup.items():\n",
        "    for k in range(len(data)):\n",
        "      out[k].append(data[k][value[0]])\n",
        "  for i in range(data[0].shape[0]):\n",
        "    if dic[data[0][i]] == 1:\n",
        "      for k in range(len(data)):\n",
        "        out[k].append(data[k][i])\n",
        "  for i in range(len(out)):out_np.append(np.array(out[i]))\n",
        "  return out\n",
        "  \n",
        "\n",
        "trainDupIndex=getDuplicateIndexes(trainData)\n",
        "print(trainDupIndex)\n",
        "print(len(trainDupIndex))\n",
        "#uniqueTrainCsv=reportErrorAnalysis_duplicates(train_csv,dupindex,dataPath+\"/duplicateAnalyssis_train.csv\")\n",
        "#trainData=getUniqueNumpy(trainData,dupindex)\n",
        "print('unique: ',len(trainData[0]))\n",
        "\n",
        "devDupIndex=getDuplicateIndexes(devData)\n",
        "print(devDupIndex)\n",
        "print(len(devDupIndex))\n",
        "#uniqueTrainCsv=reportErrorAnalysis_duplicates(dev_csv,dupindex,dataPath+\"/duplicateAnalyssis_dev.csv\")\n",
        "#devData=getUniqueNumpy(devData,dupindex)\n",
        "print('unique: ',len(devData[0]))\n",
        "\n",
        "testDupindex=getDuplicateIndexes(testData)\n",
        "print(testDupindex)\n",
        "print(len(testDupindex))\n",
        "#uniqueTrainCsv=reportErrorAnalysis_duplicates(test_csv,dupindex,dataPath+\"/duplicateAnalyssis_test.csv\")\n",
        "#testData=getUniqueNumpy(testData,dupindex)\n",
        "print('unique: ',len(testData[0]))\n",
        "\n",
        "\n",
        "#uniqueTrainCsv.head()\n",
        "\n",
        "#Generate lemma-inflection refrence\n",
        "dic_lemmaInflection={}\n",
        "for key, value in trainDupIndex.items():\n",
        "  if dic_lemmaInflection.get(key)==None:\n",
        "    dic_lemmaInflection[key]=[]\n",
        "  for x in value : \n",
        "    if not trainData[3][x] in dic_lemmaInflection[key]: dic_lemmaInflection[key].append(trainData[3][x])\n",
        "\n",
        "for key, value in testDupindex.items():\n",
        "  if dic_lemmaInflection.get(key)==None:\n",
        "    dic_lemmaInflection[key]=[]\n",
        "  for x in value : \n",
        "    if not testData[3][x] in dic_lemmaInflection[key]: dic_lemmaInflection[key].append(testData[3][x])\n",
        "\n",
        "for key, value in devDupIndex.items():\n",
        "  if dic_lemmaInflection.get(key)==None:\n",
        "    dic_lemmaInflection[key]=[]\n",
        "  for x in value : \n",
        "    if not devData[3][x] in dic_lemmaInflection[key]: dic_lemmaInflection[key].append(devData[3][x])\n",
        "\n"
      ],
      "metadata": {
        "id": "PtI4-1PCuFcB"
      },
      "execution_count": null,
      "outputs": []
    },
    {
      "cell_type": "code",
      "source": [
        "def oneHot2D(arr):\n",
        "    tmp = np.zeros_like(arr)\n",
        "    tmp[np.arange(len(arr)), arr.argmax(1)] = 1\n",
        "    return tmp\n",
        "\n",
        "def oneHot3D(arr):\n",
        "    tmp = np.array([oneHot2D(x) for x in arr])\n",
        "    return tmp"
      ],
      "metadata": {
        "id": "PYqxULkbTSed"
      },
      "execution_count": 38,
      "outputs": []
    },
    {
      "cell_type": "code",
      "source": [
        "char_index_key_list = list(char_index.keys())\n",
        "char_index_val_list = list(char_index.values())\n",
        "def getCharFromIdx(idx):\n",
        "  position = char_index_val_list.index(idx)\n",
        "  return char_index_key_list[position]"
      ],
      "metadata": {
        "id": "lR89g_k_7dYp"
      },
      "execution_count": 39,
      "outputs": []
    },
    {
      "cell_type": "code",
      "execution_count": 65,
      "metadata": {
        "id": "M6wNFevTTSee"
      },
      "outputs": [],
      "source": [
        "def getWordFromOnehot(onehot):\n",
        "  encoded=np.argmax(onehot,axis=1)\n",
        "  word=[]\n",
        "  for x in encoded :\n",
        "    if x==0:break\n",
        "    word.append(getCharFromIdx(x))\n",
        "  return ''.join(word)\n",
        "\n",
        "def binaryConversion(arr, threshold=0.5):\n",
        "  tmp = np.zeros_like(arr)\n",
        "  tmp[arr > threshold] = 1\n",
        "  return tmp\n",
        "\n",
        "def reportResult(model, history, X_test, y_test):\n",
        "\n",
        "    # best models based on acc or loss in tarin set or test set\n",
        "    testHistory = list(\n",
        "        map(lambda x, y: [x, y], history['val_accuracy'], history['val_loss']))\n",
        "    print(\n",
        "        f\"best model based on min test set loss:  acc= {min(testHistory, key = lambda k: k[1])[0]}  loss= {min(testHistory, key = lambda k: k[1])[1]}\")\n",
        "    print(\n",
        "        f\"best model based on max test set accuracy:  acc= {max(testHistory, key = lambda k: k[0])[0]}  loss= {max(testHistory, key = lambda k: k[0])[1]}\")\n",
        "\n",
        "    print(\"\\nevaluate dataset with best model based on maximum test set accuracy\")\n",
        "    print(\"evaluate test set = \", model.evaluate(X_test, y_test, verbose=0))\n",
        "\n",
        "    y_test_pred = model.predict(X_test)\n",
        "    y_test_pred = binaryConversion(y_test_pred)\n",
        "\n",
        "    # confusion matrix and precision, recall and f1 report\n",
        "    print('-'*30, 'metrics for test set', '-'*30)\n",
        "    print(\"confusion matrix: \\n\", metrics.confusion_matrix(y_test, y_test_pred))\n",
        "    print(metrics.classification_report(y_test,\n",
        "          y_test_pred, digits=3, target_names=['Broken', 'Sound']))\n",
        "    \n",
        "def argmaxKeepDimensions(arr):\n",
        "  tmp = np.zeros_like(arr)\n",
        "  tmp[np.arange(len(arr)), arr.argmax(1)] = 1\n",
        "  return tmp\n",
        "\n",
        "def checkAccuracy(pred, true):\n",
        "  size = pred.shape[0]\n",
        "  numOfTrue = 0\n",
        "  for (x, y) in zip(pred, true):\n",
        "    if np.array_equal(x, y):\n",
        "      numOfTrue += 1\n",
        "  \n",
        "  return size-numOfTrue, numOfTrue/size\n",
        "\n",
        "def checkAccuracy_withPredict(lemma, pred, dic_refrence):\n",
        "  size = pred.shape[0]\n",
        "  numOfTrue = 0\n",
        "  for i in range (len(pred)):\n",
        "    w=getWordFromOnehot(pred[i])\n",
        "    if w in dic_refrence[lemma[i]]:\n",
        "      numOfTrue += 1\n",
        "  \n",
        "  return size-numOfTrue, numOfTrue/size\n",
        "\n",
        "def reportErrorAnalysis(lemma, bs, pred_OH, inflection_OH, path):\n",
        "  size = pred_OH.shape[0]\n",
        "  report={'index':[], 'lemma':[], 'b/s':[], 'inflection':[], 'predict':[]}\n",
        "  i=0\n",
        "  for (x, y) in zip(pred_OH, inflection_OH):\n",
        "    if not np.array_equal(x, y):\n",
        "      report['index'].append(i)\n",
        "      report['lemma'].append(lemma[i])\n",
        "      report['b/s'].append(bs[i])\n",
        "      report['inflection'].append(getWordFromOnehot(inflection_OH[i]))\n",
        "      report['predict'].append(getWordFromOnehot(pred_OH[i]))\n",
        "    i+=1\n",
        "  \n",
        "  df = pd.DataFrame(report) \n",
        "  df.to_csv(path)\n",
        "  return df"
      ]
    },
    {
      "cell_type": "code",
      "source": [
        "def reportPercentageOfBrokenSoundErrors(dataset_errorAnalysis):\n",
        "  total_errors_num = dataset_errorAnalysis.shape[0]\n",
        "  train_sound_error = np.sum(dataset_errorAnalysis['b/s'])\n",
        "  train_broken_error = total_errors_num - train_sound_error\n",
        "  return train_broken_error/total_errors_num * 100, train_sound_error/total_errors_num * 100\n",
        "\n",
        "def reportPercentageOfUnseenErrors(errorIndices, unseenIndices):\n",
        "  isInUnseen = np.array([index in unseenIndices for index in errorIndices])\n",
        "  return np.count_nonzero(isInUnseen==True) / len(errorIndices) * 100, np.count_nonzero(isInUnseen==True) / len(unseenIndices) * 100"
      ],
      "metadata": {
        "id": "jPbJ_pHqmsyV"
      },
      "execution_count": 81,
      "outputs": []
    },
    {
      "cell_type": "markdown",
      "metadata": {
        "id": "5aRDIUaOvvJv"
      },
      "source": [
        "# **Classification Models**"
      ]
    },
    {
      "cell_type": "code",
      "execution_count": null,
      "metadata": {
        "id": "o2WmPwVwV7z-"
      },
      "outputs": [],
      "source": [
        "path = '/content/drive/MyDrive/AI Projects/Arabic Broken Plural/Results/Classification Models'"
      ]
    },
    {
      "cell_type": "code",
      "execution_count": null,
      "metadata": {
        "id": "caFMHfjbiMQT"
      },
      "outputs": [],
      "source": [
        "lemma_length = X_train_lemma_OH.shape[1] #17\n",
        "encode_size = X_train_lemma_OH.shape[2] #50\n",
        "genRat_length = X_train_genRat.shape[1] #2\n",
        "\n",
        "epochs = 100\n",
        "batch_size = 64"
      ]
    },
    {
      "cell_type": "markdown",
      "metadata": {
        "id": "wYae4z1hhH4t"
      },
      "source": [
        "## **Model 1**"
      ]
    },
    {
      "cell_type": "code",
      "execution_count": null,
      "metadata": {
        "id": "BUCsnXkThH4z"
      },
      "outputs": [],
      "source": [
        "input_lemma = Input(shape=(lemma_length, encode_size))\n",
        "input_genRat = Input(shape=(genRat_length,))\n",
        "\n",
        "\n",
        "lstm = Bidirectional(LSTM(256))(input_lemma)\n",
        "\n",
        "c = Concatenate(axis=1)([lstm, input_genRat])\n",
        "\n",
        "d = Dense(256, activation='relu')(c)\n",
        "d = Dense(64, activation='relu')(d)\n",
        "# d = Dense(32, activation='relu')(d)\n",
        "\n",
        "output = Dense(1, activation='sigmoid')(d)\n",
        "model = Model(inputs=[input_lemma, input_genRat], outputs=output)\n",
        "\n",
        "checkpoint_filepath = path + '/model 1/model 1.hdf5'\n",
        "checkpoint = ModelCheckpoint(filepath=checkpoint_filepath, monitor='val_accuracy', mode='max', save_best_only=True, verbose=0)\n",
        "\n",
        "model.compile(loss=\"binary_crossentropy\", optimizer=Adam(0.001), metrics=['accuracy'])"
      ]
    },
    {
      "cell_type": "code",
      "execution_count": null,
      "metadata": {
        "id": "gd9ygt4yhH4-"
      },
      "outputs": [],
      "source": [
        "with tf.device('/GPU:0'):\n",
        "  history = model.fit([X_train_lemma_OH, X_train_genRat], y_train_class, batch_size=batch_size, epochs=epochs, \n",
        "                      verbose=1, callbacks=[checkpoint], validation_data=([X_dev_lemma_OH, X_dev_genRat], y_dev_class)).history"
      ]
    },
    {
      "cell_type": "code",
      "execution_count": null,
      "metadata": {
        "id": "BB-ixvAghH5E"
      },
      "outputs": [],
      "source": [
        "print(model.summary())\n",
        "plot_model(model, to_file=path+'/model 1/architecture.png', show_shapes=True, show_layer_names=False)"
      ]
    },
    {
      "cell_type": "code",
      "execution_count": null,
      "metadata": {
        "colab": {
          "base_uri": "https://localhost:8080/"
        },
        "id": "dDj9zmJqhH5J",
        "outputId": "54fd6d9f-d7ef-43fc-b8d2-7a169bf1502f"
      },
      "outputs": [
        {
          "output_type": "stream",
          "name": "stdout",
          "text": [
            "34/34 [==============================] - 1s 4ms/step - loss: 0.1456 - accuracy: 0.9684\n"
          ]
        },
        {
          "output_type": "execute_result",
          "data": {
            "text/plain": [
              "[0.14561790227890015, 0.9684014916419983]"
            ]
          },
          "metadata": {},
          "execution_count": 21
        }
      ],
      "source": [
        "model = load_model(BSClassification_checkpoint_filepath)\n",
        "model.evaluate([X_test_lemma_OH, X_test_genRat], y_test_class)"
      ]
    },
    {
      "cell_type": "code",
      "execution_count": null,
      "metadata": {
        "id": "8IP3NKsfhH5N"
      },
      "outputs": [],
      "source": [
        "reportResult(model, history, [X_test_lemma_OH, X_test_genRat], y_test_class)"
      ]
    },
    {
      "cell_type": "markdown",
      "metadata": {
        "id": "UB0fawJa66PY"
      },
      "source": [
        "# **Machine Translation Models**"
      ]
    },
    {
      "cell_type": "code",
      "execution_count": 22,
      "metadata": {
        "id": "QjirN8TtdNqu"
      },
      "outputs": [],
      "source": [
        "path = '/content/drive/MyDrive/AI Projects/Arabic Broken Plural/Results/Machine Translation Models'"
      ]
    },
    {
      "cell_type": "code",
      "execution_count": 23,
      "metadata": {
        "id": "52n_VZ40dNqy"
      },
      "outputs": [],
      "source": [
        "lemma_length = X_train_lemma_OH.shape[1] #17\n",
        "singularPattern_length = X_train_singularPattern_OH.shape[1] #17\n",
        "root_length = X_train_root_OH.shape[1] #4\n",
        "genRat_length = X_train_genRat.shape[1] #2\n",
        "numOfRoot_length = X_train_numOfRoot.shape[1] #1\n",
        "plPattern_length = y_train_plPattern_OH.shape[1] #18\n",
        "inflection_length = y_train_inflection_OH.shape[1] #18\n",
        "encode_size = X_train_lemma_OH.shape[2] #50\n",
        "\n",
        "epochs = 100\n",
        "batch_size = 64"
      ]
    },
    {
      "cell_type": "markdown",
      "metadata": {
        "id": "K87j_k_oEVh3"
      },
      "source": [
        "## **Model 1**\n",
        "lemma - inflection"
      ]
    },
    {
      "cell_type": "code",
      "execution_count": 24,
      "metadata": {
        "id": "M-3oRhRlEVh4"
      },
      "outputs": [],
      "source": [
        "input_lemma = Input(shape=(lemma_length, encode_size))\n",
        "input_root = Input(shape=(root_length, encode_size))\n",
        "input_genRat = Input(shape=(genRat_length, ))\n",
        "\n",
        "\n",
        "lstm1 = Bidirectional(LSTM(256))(input_lemma)\n",
        "lstm2 = Bidirectional(LSTM(64))(input_root)\n",
        "\n",
        "c = Concatenate(axis=1)([lstm1, lstm2])\n",
        "\n",
        "d = Dense(254, activation='relu')(c)\n",
        "\n",
        "c = Concatenate(axis=1)([d, input_genRat])\n",
        "\n",
        "r = RepeatVector(inflection_length)(c)\n",
        "\n",
        "lstm2 = Bidirectional(LSTM(256, return_sequences=True))(r)\n",
        "\n",
        "output = TimeDistributed(Dense(encode_size, activation='softmax'))(lstm2)\n",
        "\n",
        "model1 = Model(inputs=[input_lemma, input_root, input_genRat], outputs=output)\n",
        "\n",
        "checkpoint_filepath = path + '/model 1/best model.hdf5'\n",
        "checkpoint = ModelCheckpoint(filepath=checkpoint_filepath, monitor='val_accuracy', mode='max', save_best_only=True, verbose=0)\n",
        "\n",
        "model1.compile(loss=\"binary_crossentropy\", optimizer=Adam(0.001), metrics=['accuracy'])"
      ]
    },
    {
      "cell_type": "code",
      "execution_count": null,
      "metadata": {
        "id": "7k64r76HEVh4"
      },
      "outputs": [],
      "source": [
        "with tf.device('/GPU:0'):\n",
        "  model1.fit([X_train_lemma_OH, X_train_root_OH, X_train_genRat], y_train_inflection_OH, batch_size=batch_size, epochs=epochs, callbacks=[checkpoint], validation_data=([X_dev_lemma_OH, X_dev_root_OH, X_dev_genRat], y_dev_inflection_OH))  # starts training"
      ]
    },
    {
      "cell_type": "code",
      "execution_count": 26,
      "metadata": {
        "id": "CF__oNPxEVh4",
        "colab": {
          "base_uri": "https://localhost:8080/"
        },
        "outputId": "59fd9a01-b662-4356-dea8-59e1ce2c6b7a"
      },
      "outputs": [
        {
          "output_type": "stream",
          "name": "stdout",
          "text": [
            "34/34 [==============================] - 2s 8ms/step - loss: 0.0028 - accuracy: 0.9771\n"
          ]
        },
        {
          "output_type": "execute_result",
          "data": {
            "text/plain": [
              "[0.002833267441019416, 0.9771484732627869]"
            ]
          },
          "metadata": {},
          "execution_count": 26
        }
      ],
      "source": [
        "model1 = load_model(checkpoint_filepath)\n",
        "model1.evaluate([X_test_lemma_OH, X_test_root_OH, X_test_genRat], y_test_inflection_OH)"
      ]
    },
    {
      "cell_type": "code",
      "execution_count": null,
      "metadata": {
        "id": "C-_uAugdEVh4"
      },
      "outputs": [],
      "source": [
        "print(model1.summary())\n",
        "plot_model(model1, to_file=path+'/model 1/architecture.png', show_shapes=True, show_layer_names=False)"
      ]
    },
    {
      "cell_type": "markdown",
      "source": [
        "### **Train analyze**"
      ],
      "metadata": {
        "id": "XAoL0KSoEVh4"
      }
    },
    {
      "cell_type": "code",
      "source": [
        "train_pred = model1.predict([X_train_lemma_OH, X_train_root_OH, X_train_genRat])\n",
        "train_pred_OH = oneHot3D(train_pred)\n",
        "train_error_num, train_acc_num = checkAccuracy(train_pred_OH, y_train_inflection_OH)\n",
        "train_error_num, train_acc_num"
      ],
      "metadata": {
        "id": "pq30qNbbEVh5",
        "colab": {
          "base_uri": "https://localhost:8080/"
        },
        "outputId": "5d21ae58-ca40-41fd-feaf-ad797e4106f8"
      },
      "execution_count": 52,
      "outputs": [
        {
          "output_type": "stream",
          "name": "stdout",
          "text": [
            "86/86 [==============================] - 1s 7ms/step\n"
          ]
        },
        {
          "output_type": "execute_result",
          "data": {
            "text/plain": [
              "(194, 0.9294032023289666)"
            ]
          },
          "metadata": {},
          "execution_count": 52
        }
      ]
    },
    {
      "cell_type": "code",
      "source": [
        "y_train_inflection_OH.shape"
      ],
      "metadata": {
        "id": "Lktzh8o5HNsn",
        "colab": {
          "base_uri": "https://localhost:8080/"
        },
        "outputId": "8481e6c0-20a2-4792-a6da-f70d2eb64c1b"
      },
      "execution_count": 53,
      "outputs": [
        {
          "output_type": "execute_result",
          "data": {
            "text/plain": [
              "(2748, 17, 48)"
            ]
          },
          "metadata": {},
          "execution_count": 53
        }
      ]
    },
    {
      "cell_type": "code",
      "source": [
        "train_errorAnalysis = reportErrorAnalysis(trainData[0], trainData[5], train_pred_OH, y_train_inflection_OH, path + \"/model 1/train_errorAnalysis.csv\")\n",
        "train_errorAnalysis.head()"
      ],
      "metadata": {
        "id": "XK3xq6x0EVh5",
        "colab": {
          "base_uri": "https://localhost:8080/",
          "height": 270
        },
        "outputId": "1e7afb3a-ac2e-43df-a064-f969ec99b4b8"
      },
      "execution_count": 54,
      "outputs": [
        {
          "output_type": "execute_result",
          "data": {
            "text/plain": [
              "   index     lemma  b/s inflection     predict\n",
              "0     15    quw~ap    1     quw~At       quwaY\n",
              "1     24     balad    0      bilAd     bilodAn\n",
              "2     30     TAlib    0     Tul~Ab    TAlabayn\n",
              "3     34     >aroD    0    >arADiy      >arADi\n",
              "4     41  ma$oruwE    0   ma$AriyE  ma$AruwEAt"
            ],
            "text/html": [
              "\n",
              "  <div id=\"df-1ada9eb2-34d4-4886-8034-d6bb949a27f3\">\n",
              "    <div class=\"colab-df-container\">\n",
              "      <div>\n",
              "<style scoped>\n",
              "    .dataframe tbody tr th:only-of-type {\n",
              "        vertical-align: middle;\n",
              "    }\n",
              "\n",
              "    .dataframe tbody tr th {\n",
              "        vertical-align: top;\n",
              "    }\n",
              "\n",
              "    .dataframe thead th {\n",
              "        text-align: right;\n",
              "    }\n",
              "</style>\n",
              "<table border=\"1\" class=\"dataframe\">\n",
              "  <thead>\n",
              "    <tr style=\"text-align: right;\">\n",
              "      <th></th>\n",
              "      <th>index</th>\n",
              "      <th>lemma</th>\n",
              "      <th>b/s</th>\n",
              "      <th>inflection</th>\n",
              "      <th>predict</th>\n",
              "    </tr>\n",
              "  </thead>\n",
              "  <tbody>\n",
              "    <tr>\n",
              "      <th>0</th>\n",
              "      <td>15</td>\n",
              "      <td>quw~ap</td>\n",
              "      <td>1</td>\n",
              "      <td>quw~At</td>\n",
              "      <td>quwaY</td>\n",
              "    </tr>\n",
              "    <tr>\n",
              "      <th>1</th>\n",
              "      <td>24</td>\n",
              "      <td>balad</td>\n",
              "      <td>0</td>\n",
              "      <td>bilAd</td>\n",
              "      <td>bilodAn</td>\n",
              "    </tr>\n",
              "    <tr>\n",
              "      <th>2</th>\n",
              "      <td>30</td>\n",
              "      <td>TAlib</td>\n",
              "      <td>0</td>\n",
              "      <td>Tul~Ab</td>\n",
              "      <td>TAlabayn</td>\n",
              "    </tr>\n",
              "    <tr>\n",
              "      <th>3</th>\n",
              "      <td>34</td>\n",
              "      <td>&gt;aroD</td>\n",
              "      <td>0</td>\n",
              "      <td>&gt;arADiy</td>\n",
              "      <td>&gt;arADi</td>\n",
              "    </tr>\n",
              "    <tr>\n",
              "      <th>4</th>\n",
              "      <td>41</td>\n",
              "      <td>ma$oruwE</td>\n",
              "      <td>0</td>\n",
              "      <td>ma$AriyE</td>\n",
              "      <td>ma$AruwEAt</td>\n",
              "    </tr>\n",
              "  </tbody>\n",
              "</table>\n",
              "</div>\n",
              "      <button class=\"colab-df-convert\" onclick=\"convertToInteractive('df-1ada9eb2-34d4-4886-8034-d6bb949a27f3')\"\n",
              "              title=\"Convert this dataframe to an interactive table.\"\n",
              "              style=\"display:none;\">\n",
              "        \n",
              "  <svg xmlns=\"http://www.w3.org/2000/svg\" height=\"24px\"viewBox=\"0 0 24 24\"\n",
              "       width=\"24px\">\n",
              "    <path d=\"M0 0h24v24H0V0z\" fill=\"none\"/>\n",
              "    <path d=\"M18.56 5.44l.94 2.06.94-2.06 2.06-.94-2.06-.94-.94-2.06-.94 2.06-2.06.94zm-11 1L8.5 8.5l.94-2.06 2.06-.94-2.06-.94L8.5 2.5l-.94 2.06-2.06.94zm10 10l.94 2.06.94-2.06 2.06-.94-2.06-.94-.94-2.06-.94 2.06-2.06.94z\"/><path d=\"M17.41 7.96l-1.37-1.37c-.4-.4-.92-.59-1.43-.59-.52 0-1.04.2-1.43.59L10.3 9.45l-7.72 7.72c-.78.78-.78 2.05 0 2.83L4 21.41c.39.39.9.59 1.41.59.51 0 1.02-.2 1.41-.59l7.78-7.78 2.81-2.81c.8-.78.8-2.07 0-2.86zM5.41 20L4 18.59l7.72-7.72 1.47 1.35L5.41 20z\"/>\n",
              "  </svg>\n",
              "      </button>\n",
              "      \n",
              "  <style>\n",
              "    .colab-df-container {\n",
              "      display:flex;\n",
              "      flex-wrap:wrap;\n",
              "      gap: 12px;\n",
              "    }\n",
              "\n",
              "    .colab-df-convert {\n",
              "      background-color: #E8F0FE;\n",
              "      border: none;\n",
              "      border-radius: 50%;\n",
              "      cursor: pointer;\n",
              "      display: none;\n",
              "      fill: #1967D2;\n",
              "      height: 32px;\n",
              "      padding: 0 0 0 0;\n",
              "      width: 32px;\n",
              "    }\n",
              "\n",
              "    .colab-df-convert:hover {\n",
              "      background-color: #E2EBFA;\n",
              "      box-shadow: 0px 1px 2px rgba(60, 64, 67, 0.3), 0px 1px 3px 1px rgba(60, 64, 67, 0.15);\n",
              "      fill: #174EA6;\n",
              "    }\n",
              "\n",
              "    [theme=dark] .colab-df-convert {\n",
              "      background-color: #3B4455;\n",
              "      fill: #D2E3FC;\n",
              "    }\n",
              "\n",
              "    [theme=dark] .colab-df-convert:hover {\n",
              "      background-color: #434B5C;\n",
              "      box-shadow: 0px 1px 3px 1px rgba(0, 0, 0, 0.15);\n",
              "      filter: drop-shadow(0px 1px 2px rgba(0, 0, 0, 0.3));\n",
              "      fill: #FFFFFF;\n",
              "    }\n",
              "  </style>\n",
              "\n",
              "      <script>\n",
              "        const buttonEl =\n",
              "          document.querySelector('#df-1ada9eb2-34d4-4886-8034-d6bb949a27f3 button.colab-df-convert');\n",
              "        buttonEl.style.display =\n",
              "          google.colab.kernel.accessAllowed ? 'block' : 'none';\n",
              "\n",
              "        async function convertToInteractive(key) {\n",
              "          const element = document.querySelector('#df-1ada9eb2-34d4-4886-8034-d6bb949a27f3');\n",
              "          const dataTable =\n",
              "            await google.colab.kernel.invokeFunction('convertToInteractive',\n",
              "                                                     [key], {});\n",
              "          if (!dataTable) return;\n",
              "\n",
              "          const docLinkHtml = 'Like what you see? Visit the ' +\n",
              "            '<a target=\"_blank\" href=https://colab.research.google.com/notebooks/data_table.ipynb>data table notebook</a>'\n",
              "            + ' to learn more about interactive tables.';\n",
              "          element.innerHTML = '';\n",
              "          dataTable['output_type'] = 'display_data';\n",
              "          await google.colab.output.renderOutput(dataTable, element);\n",
              "          const docLink = document.createElement('div');\n",
              "          docLink.innerHTML = docLinkHtml;\n",
              "          element.appendChild(docLink);\n",
              "        }\n",
              "      </script>\n",
              "    </div>\n",
              "  </div>\n",
              "  "
            ]
          },
          "metadata": {},
          "execution_count": 54
        }
      ]
    },
    {
      "cell_type": "code",
      "source": [
        "print('(Broken error %, Sound error %): ', reportPercentageOfBrokenSoundErrors(train_errorAnalysis))"
      ],
      "metadata": {
        "id": "YzOAAD4jEVh5",
        "colab": {
          "base_uri": "https://localhost:8080/"
        },
        "outputId": "44cc9d94-266e-4aa6-cfa7-6ae5a3128288"
      },
      "execution_count": 55,
      "outputs": [
        {
          "output_type": "stream",
          "name": "stdout",
          "text": [
            "(Broken error %, Sound error %):  (75.25773195876289, 24.742268041237114)\n"
          ]
        }
      ]
    },
    {
      "cell_type": "code",
      "source": [
        "checkAccuracy_withPredict(trainData[0],train_pred_OH,dic_lemmaInflection)"
      ],
      "metadata": {
        "colab": {
          "base_uri": "https://localhost:8080/"
        },
        "id": "86i08EoppWIi",
        "outputId": "315f339b-47aa-43af-c187-ab8353250646"
      },
      "execution_count": 56,
      "outputs": [
        {
          "output_type": "execute_result",
          "data": {
            "text/plain": [
              "(132, 0.9519650655021834)"
            ]
          },
          "metadata": {},
          "execution_count": 56
        }
      ]
    },
    {
      "cell_type": "markdown",
      "source": [
        "### **Dev analyze**"
      ],
      "metadata": {
        "id": "ybXFriUqEVh5"
      }
    },
    {
      "cell_type": "code",
      "source": [
        "dev_pred = model1.predict([X_dev_lemma_OH, X_dev_root_OH, X_dev_genRat])\n",
        "dev_pred_OH = oneHot3D(dev_pred)\n",
        "dev_error_num, dev_acc_num = checkAccuracy(dev_pred_OH, y_dev_inflection_OH)\n",
        "dev_error_num, dev_acc_num"
      ],
      "metadata": {
        "id": "2s-l01ipEVh5",
        "colab": {
          "base_uri": "https://localhost:8080/"
        },
        "outputId": "a670bdce-cc2f-4163-e68f-3d70a72c6bcf"
      },
      "execution_count": 57,
      "outputs": [
        {
          "output_type": "stream",
          "name": "stdout",
          "text": [
            "35/35 [==============================] - 0s 7ms/step\n"
          ]
        },
        {
          "output_type": "execute_result",
          "data": {
            "text/plain": [
              "(164, 0.8526504941599281)"
            ]
          },
          "metadata": {},
          "execution_count": 57
        }
      ]
    },
    {
      "cell_type": "code",
      "source": [
        "dev_errorAnalysis = reportErrorAnalysis(devData[0], devData[5], dev_pred_OH, y_dev_inflection_OH, path + \"/model 1/dev_errorAnalysis.csv\")\n",
        "dev_errorAnalysis.head()"
      ],
      "metadata": {
        "id": "yPCOBCrEEVh5",
        "colab": {
          "base_uri": "https://localhost:8080/",
          "height": 206
        },
        "outputId": "85cd03ad-3518-4639-dc1e-f9a71ae46489"
      },
      "execution_count": 58,
      "outputs": [
        {
          "output_type": "execute_result",
          "data": {
            "text/plain": [
              "   index     lemma  b/s   inflection      predict\n",
              "0     13       >ax    0      <ixowAn      <ixowap\n",
              "1     14     TAlib    0       Tul~Ab     TAlabayn\n",
              "2     17     >amor    0       >umuwr       >awuwi\n",
              "3     18  maso&uwl    1  maso&uwliyn  maso}uwliyn\n",
              "4     20     DagoT    0       DuguwT      DuguwTA"
            ],
            "text/html": [
              "\n",
              "  <div id=\"df-006e43f3-d2c7-4766-a154-5889ce786d7c\">\n",
              "    <div class=\"colab-df-container\">\n",
              "      <div>\n",
              "<style scoped>\n",
              "    .dataframe tbody tr th:only-of-type {\n",
              "        vertical-align: middle;\n",
              "    }\n",
              "\n",
              "    .dataframe tbody tr th {\n",
              "        vertical-align: top;\n",
              "    }\n",
              "\n",
              "    .dataframe thead th {\n",
              "        text-align: right;\n",
              "    }\n",
              "</style>\n",
              "<table border=\"1\" class=\"dataframe\">\n",
              "  <thead>\n",
              "    <tr style=\"text-align: right;\">\n",
              "      <th></th>\n",
              "      <th>index</th>\n",
              "      <th>lemma</th>\n",
              "      <th>b/s</th>\n",
              "      <th>inflection</th>\n",
              "      <th>predict</th>\n",
              "    </tr>\n",
              "  </thead>\n",
              "  <tbody>\n",
              "    <tr>\n",
              "      <th>0</th>\n",
              "      <td>13</td>\n",
              "      <td>&gt;ax</td>\n",
              "      <td>0</td>\n",
              "      <td>&lt;ixowAn</td>\n",
              "      <td>&lt;ixowap</td>\n",
              "    </tr>\n",
              "    <tr>\n",
              "      <th>1</th>\n",
              "      <td>14</td>\n",
              "      <td>TAlib</td>\n",
              "      <td>0</td>\n",
              "      <td>Tul~Ab</td>\n",
              "      <td>TAlabayn</td>\n",
              "    </tr>\n",
              "    <tr>\n",
              "      <th>2</th>\n",
              "      <td>17</td>\n",
              "      <td>&gt;amor</td>\n",
              "      <td>0</td>\n",
              "      <td>&gt;umuwr</td>\n",
              "      <td>&gt;awuwi</td>\n",
              "    </tr>\n",
              "    <tr>\n",
              "      <th>3</th>\n",
              "      <td>18</td>\n",
              "      <td>maso&amp;uwl</td>\n",
              "      <td>1</td>\n",
              "      <td>maso&amp;uwliyn</td>\n",
              "      <td>maso}uwliyn</td>\n",
              "    </tr>\n",
              "    <tr>\n",
              "      <th>4</th>\n",
              "      <td>20</td>\n",
              "      <td>DagoT</td>\n",
              "      <td>0</td>\n",
              "      <td>DuguwT</td>\n",
              "      <td>DuguwTA</td>\n",
              "    </tr>\n",
              "  </tbody>\n",
              "</table>\n",
              "</div>\n",
              "      <button class=\"colab-df-convert\" onclick=\"convertToInteractive('df-006e43f3-d2c7-4766-a154-5889ce786d7c')\"\n",
              "              title=\"Convert this dataframe to an interactive table.\"\n",
              "              style=\"display:none;\">\n",
              "        \n",
              "  <svg xmlns=\"http://www.w3.org/2000/svg\" height=\"24px\"viewBox=\"0 0 24 24\"\n",
              "       width=\"24px\">\n",
              "    <path d=\"M0 0h24v24H0V0z\" fill=\"none\"/>\n",
              "    <path d=\"M18.56 5.44l.94 2.06.94-2.06 2.06-.94-2.06-.94-.94-2.06-.94 2.06-2.06.94zm-11 1L8.5 8.5l.94-2.06 2.06-.94-2.06-.94L8.5 2.5l-.94 2.06-2.06.94zm10 10l.94 2.06.94-2.06 2.06-.94-2.06-.94-.94-2.06-.94 2.06-2.06.94z\"/><path d=\"M17.41 7.96l-1.37-1.37c-.4-.4-.92-.59-1.43-.59-.52 0-1.04.2-1.43.59L10.3 9.45l-7.72 7.72c-.78.78-.78 2.05 0 2.83L4 21.41c.39.39.9.59 1.41.59.51 0 1.02-.2 1.41-.59l7.78-7.78 2.81-2.81c.8-.78.8-2.07 0-2.86zM5.41 20L4 18.59l7.72-7.72 1.47 1.35L5.41 20z\"/>\n",
              "  </svg>\n",
              "      </button>\n",
              "      \n",
              "  <style>\n",
              "    .colab-df-container {\n",
              "      display:flex;\n",
              "      flex-wrap:wrap;\n",
              "      gap: 12px;\n",
              "    }\n",
              "\n",
              "    .colab-df-convert {\n",
              "      background-color: #E8F0FE;\n",
              "      border: none;\n",
              "      border-radius: 50%;\n",
              "      cursor: pointer;\n",
              "      display: none;\n",
              "      fill: #1967D2;\n",
              "      height: 32px;\n",
              "      padding: 0 0 0 0;\n",
              "      width: 32px;\n",
              "    }\n",
              "\n",
              "    .colab-df-convert:hover {\n",
              "      background-color: #E2EBFA;\n",
              "      box-shadow: 0px 1px 2px rgba(60, 64, 67, 0.3), 0px 1px 3px 1px rgba(60, 64, 67, 0.15);\n",
              "      fill: #174EA6;\n",
              "    }\n",
              "\n",
              "    [theme=dark] .colab-df-convert {\n",
              "      background-color: #3B4455;\n",
              "      fill: #D2E3FC;\n",
              "    }\n",
              "\n",
              "    [theme=dark] .colab-df-convert:hover {\n",
              "      background-color: #434B5C;\n",
              "      box-shadow: 0px 1px 3px 1px rgba(0, 0, 0, 0.15);\n",
              "      filter: drop-shadow(0px 1px 2px rgba(0, 0, 0, 0.3));\n",
              "      fill: #FFFFFF;\n",
              "    }\n",
              "  </style>\n",
              "\n",
              "      <script>\n",
              "        const buttonEl =\n",
              "          document.querySelector('#df-006e43f3-d2c7-4766-a154-5889ce786d7c button.colab-df-convert');\n",
              "        buttonEl.style.display =\n",
              "          google.colab.kernel.accessAllowed ? 'block' : 'none';\n",
              "\n",
              "        async function convertToInteractive(key) {\n",
              "          const element = document.querySelector('#df-006e43f3-d2c7-4766-a154-5889ce786d7c');\n",
              "          const dataTable =\n",
              "            await google.colab.kernel.invokeFunction('convertToInteractive',\n",
              "                                                     [key], {});\n",
              "          if (!dataTable) return;\n",
              "\n",
              "          const docLinkHtml = 'Like what you see? Visit the ' +\n",
              "            '<a target=\"_blank\" href=https://colab.research.google.com/notebooks/data_table.ipynb>data table notebook</a>'\n",
              "            + ' to learn more about interactive tables.';\n",
              "          element.innerHTML = '';\n",
              "          dataTable['output_type'] = 'display_data';\n",
              "          await google.colab.output.renderOutput(dataTable, element);\n",
              "          const docLink = document.createElement('div');\n",
              "          docLink.innerHTML = docLinkHtml;\n",
              "          element.appendChild(docLink);\n",
              "        }\n",
              "      </script>\n",
              "    </div>\n",
              "  </div>\n",
              "  "
            ]
          },
          "metadata": {},
          "execution_count": 58
        }
      ]
    },
    {
      "cell_type": "code",
      "source": [
        "print('(Broken error %, Sound error %): ', reportPercentageOfBrokenSoundErrors(dev_errorAnalysis))"
      ],
      "metadata": {
        "id": "Rb3-t4ehEVh5",
        "colab": {
          "base_uri": "https://localhost:8080/"
        },
        "outputId": "578a6732-8aa4-4d81-e54c-1177c96d4c03"
      },
      "execution_count": 59,
      "outputs": [
        {
          "output_type": "stream",
          "name": "stdout",
          "text": [
            "(Broken error %, Sound error %):  (60.97560975609756, 39.02439024390244)\n"
          ]
        }
      ]
    },
    {
      "cell_type": "code",
      "source": [
        "checkAccuracy_withPredict(devData[0],dev_pred_OH,dic_lemmaInflection)"
      ],
      "metadata": {
        "colab": {
          "base_uri": "https://localhost:8080/"
        },
        "id": "3q8CzzBqpMAR",
        "outputId": "137797a8-b767-438b-affb-fc355b0a8995"
      },
      "execution_count": 60,
      "outputs": [
        {
          "output_type": "execute_result",
          "data": {
            "text/plain": [
              "(123, 0.889487870619946)"
            ]
          },
          "metadata": {},
          "execution_count": 60
        }
      ]
    },
    {
      "cell_type": "code",
      "source": [
        "# Report Percentage of Unseen Errors in Dev set\n",
        "errorIndices_dev = unseenLemInfIndices_dev_df['index'].tolist()\n",
        "unseenIndices_dev = dev_errorAnalysis['index'].tolist()\n",
        "\n",
        "print('Percentage of Unseen Errors with respect to Total Errors, Percentage of Unseen Errors with respect to Total Unseen Samples')\n",
        "print(reportPercentageOfUnseenErrors(errorIndices_dev, unseenIndices_dev))"
      ],
      "metadata": {
        "colab": {
          "base_uri": "https://localhost:8080/"
        },
        "id": "mOswiP7Fqhdp",
        "outputId": "e0346442-2ad7-419f-e22a-28c867e89dd6"
      },
      "execution_count": 82,
      "outputs": [
        {
          "output_type": "stream",
          "name": "stdout",
          "text": [
            "Percentage of Unseen Errors with respect to Total Errors, Percentage of Unseen Errors with respect to Total Unseen Samples\n",
            "(79.41176470588235, 49.390243902439025)\n"
          ]
        }
      ]
    },
    {
      "cell_type": "markdown",
      "source": [
        "### **Test analyze**"
      ],
      "metadata": {
        "id": "i7R3KZnxEVh5"
      }
    },
    {
      "cell_type": "code",
      "source": [
        "test_pred = model1.predict([X_test_lemma_OH, X_test_root_OH, X_test_genRat])\n",
        "test_pred_OH = oneHot3D(test_pred)\n",
        "test_error_num, test_acc_num = checkAccuracy(test_pred_OH, y_test_inflection_OH)\n",
        "test_error_num, test_acc_num"
      ],
      "metadata": {
        "id": "55GGksBBEVh6",
        "colab": {
          "base_uri": "https://localhost:8080/"
        },
        "outputId": "cfba5f75-2cba-40ea-9c67-1400911f08cb"
      },
      "execution_count": 61,
      "outputs": [
        {
          "output_type": "stream",
          "name": "stdout",
          "text": [
            "34/34 [==============================] - 0s 7ms/step\n"
          ]
        },
        {
          "output_type": "execute_result",
          "data": {
            "text/plain": [
              "(143, 0.8671003717472119)"
            ]
          },
          "metadata": {},
          "execution_count": 61
        }
      ]
    },
    {
      "cell_type": "code",
      "source": [
        "test_errorAnalysis = reportErrorAnalysis(testData[0], testData[5], test_pred_OH, y_test_inflection_OH, path + \"/model 1/test_errorAnalysis.csv\")"
      ],
      "metadata": {
        "id": "i57C2rVDEVh6"
      },
      "execution_count": 62,
      "outputs": []
    },
    {
      "cell_type": "code",
      "source": [
        "print('(Broken error %, Sound error %): ', reportPercentageOfBrokenSoundErrors(test_errorAnalysis))"
      ],
      "metadata": {
        "id": "n6v7_vY1EVh6",
        "colab": {
          "base_uri": "https://localhost:8080/"
        },
        "outputId": "b80968fc-fe45-4e42-d1c1-5f6b56e164d2"
      },
      "execution_count": 63,
      "outputs": [
        {
          "output_type": "stream",
          "name": "stdout",
          "text": [
            "(Broken error %, Sound error %):  (58.74125874125874, 41.25874125874126)\n"
          ]
        }
      ]
    },
    {
      "cell_type": "code",
      "source": [
        "checkAccuracy_withPredict(testData[0],test_pred_OH,dic_lemmaInflection)"
      ],
      "metadata": {
        "colab": {
          "base_uri": "https://localhost:8080/"
        },
        "id": "J2NUckr-pPAf",
        "outputId": "5c8d684c-de81-4548-d190-3a22f25b736f"
      },
      "execution_count": 64,
      "outputs": [
        {
          "output_type": "execute_result",
          "data": {
            "text/plain": [
              "(118, 0.8903345724907064)"
            ]
          },
          "metadata": {},
          "execution_count": 64
        }
      ]
    },
    {
      "cell_type": "code",
      "source": [
        "# Report Percentage of Unseen Errors in Test set\n",
        "errorIndices_test = unseenLemInfIndices_test_df['index'].tolist()\n",
        "unseenIndices_test = test_errorAnalysis['index'].tolist()\n",
        "\n",
        "print('Percentage of Unseen Errors with respect to Total Errors, Percentage of Unseen Errors with respect to Total Unseen Samples')\n",
        "print(reportPercentageOfUnseenErrors(errorIndices_test, unseenIndices_test))"
      ],
      "metadata": {
        "colab": {
          "base_uri": "https://localhost:8080/"
        },
        "id": "7HL3bbXgzGck",
        "outputId": "42261d5d-bfeb-412f-be70-a99001d2bce8"
      },
      "execution_count": 83,
      "outputs": [
        {
          "output_type": "stream",
          "name": "stdout",
          "text": [
            "Percentage of Unseen Errors with respect to Total Errors, Percentage of Unseen Errors with respect to Total Unseen Samples\n",
            "(77.64705882352942, 46.15384615384615)\n"
          ]
        }
      ]
    },
    {
      "cell_type": "markdown",
      "metadata": {
        "id": "XOv7r-UPAa82"
      },
      "source": [
        "## **Model 2**\n",
        "lemma - inflection"
      ]
    },
    {
      "cell_type": "code",
      "execution_count": null,
      "metadata": {
        "id": "gJSuS8jE7EkI"
      },
      "outputs": [],
      "source": [
        "input_lemma = Input(shape=(lemma_length, encode_size))\n",
        "input_sinPat = Input(shape=(singularPattern_length, encode_size))\n",
        "input_root = Input(shape=(root_length, encode_size))\n",
        "input_genRat = Input(shape=(genRat_length, ))\n",
        "input_numOfRoot = Input(shape=(numOfRoot_length, ))\n",
        "\n",
        "\n",
        "lstm1 = Bidirectional(LSTM(256))(input_lemma)\n",
        "lstm2 = Bidirectional(LSTM(128))(input_root)\n",
        "\n",
        "c = Concatenate(axis=1)([lstm1, lstm2])\n",
        "\n",
        "d = Dense(1000, activation='relu')(c)\n",
        "\n",
        "c = Concatenate(axis=1)([d, input_genRat])\n",
        "\n",
        "r = RepeatVector(inflection_length)(c)\n",
        "\n",
        "lstm = Bidirectional(LSTM(256, return_sequences=True))(r)\n",
        "\n",
        "# dense = TimeDistributed(Dense(128, activation='relu'))(lstm)\n",
        "\n",
        "output = TimeDistributed(Dense(encode_size, activation='softmax'))(lstm)\n",
        "\n",
        "model1 = Model(inputs=[input_lemma, input_sinPat, input_root, input_genRat, input_numOfRoot], outputs=output)\n",
        "\n",
        "checkpoint_filepath = path + '/model 2/best model.hdf5'\n",
        "checkpoint = ModelCheckpoint(filepath=checkpoint_filepath, monitor='val_accuracy', mode='max', save_best_only=True, verbose=0)\n",
        "\n",
        "model1.compile(loss=\"binary_crossentropy\", optimizer=Adam(0.001), metrics=['accuracy'])"
      ]
    },
    {
      "cell_type": "code",
      "execution_count": null,
      "metadata": {
        "id": "nl6vG4OOn85h"
      },
      "outputs": [],
      "source": [
        "with tf.device('/GPU:0'):\n",
        "  model1.fit([X_train_lemma_OH, X_train_singularPattern_OH, X_train_root_OH, X_train_genRat, X_train_numOfRoot], y_train_inflection_OH, batch_size=batch_size, epochs=epochs, callbacks=[checkpoint], validation_data=([X_dev_lemma_OH, X_dev_singularPattern_OH, X_dev_root_OH, X_dev_genRat, X_dev_numOfRoot], y_dev_inflection_OH))  # starts training"
      ]
    },
    {
      "cell_type": "code",
      "execution_count": null,
      "metadata": {
        "id": "SGWl02cbomAi"
      },
      "outputs": [],
      "source": [
        "print(model1.summary())\n",
        "plot_model(model1, to_file=path+'/model 2/architecture.png', show_shapes=True, show_layer_names=False)"
      ]
    },
    {
      "cell_type": "code",
      "execution_count": null,
      "metadata": {
        "id": "THMMAnwKor7X"
      },
      "outputs": [],
      "source": [
        "model = load_model(checkpoint_filepath)\n",
        "model.evaluate([X_test_lemma_OH, X_test_singularPattern_OH, X_test_root_OH, X_test_genRat, X_test_numOfRoot], y_test_inflection_OH)"
      ]
    },
    {
      "cell_type": "code",
      "execution_count": null,
      "metadata": {
        "colab": {
          "base_uri": "https://localhost:8080/"
        },
        "id": "8x86ljlTdd3t",
        "outputId": "bb158815-9989-477f-aa36-3c44604250c7"
      },
      "outputs": [
        {
          "output_type": "stream",
          "name": "stdout",
          "text": [
            "34/34 [==============================] - 4s 15ms/step\n",
            "(1076, 17, 48)\n",
            "(1076, 17, 48)\n"
          ]
        }
      ],
      "source": [
        "pred_plPattern = model.predict([X_test_lemma_OH, X_test_singularPattern_OH, X_test_root_OH, X_test_genRat, X_test_numOfRoot])\n",
        "\n",
        "pred_plPattern = oneHot3D(pred_plPattern)\n",
        "\n",
        "print(pred_plPattern.shape)\n",
        "print(y_test_plPattern_OH.shape)"
      ]
    },
    {
      "cell_type": "code",
      "source": [
        "reportErrorAnalysis(testData[0],pred_plPattern,y_test_inflection_OH, path+\"/model 2/test_errorAnalysis.csv\")"
      ],
      "metadata": {
        "colab": {
          "base_uri": "https://localhost:8080/",
          "height": 423
        },
        "id": "umzIhhbWzhiI",
        "outputId": "89bacd28-ebd3-4223-8f7c-9ed5799812d1"
      },
      "execution_count": null,
      "outputs": [
        {
          "output_type": "execute_result",
          "data": {
            "text/plain": [
              "     index      lemma   inflection      predict\n",
              "0        7     quw~ap       quw~At        quwaY\n",
              "1       17      balad        bilAd        bilAd\n",
              "2       41   maso&uwl  maso&uwliyn  maso}uwliyn\n",
              "3       65  mu$okilap      ma$Akil     mu$okilA\n",
              "4       69      TAlib       Tul~Ab       TAlibb\n",
              "..     ...        ...          ...          ...\n",
              "132   1056    majoraY    mujorayAt      majoray\n",
              "133   1060   mano$uwr   mano$uwrAt     manA$iyr\n",
              "134   1061    manobat      manAbit      manAtib\n",
              "135   1065      maqAm      maqAmAt      maqAmim\n",
              "136   1066     maqar~     maqar~At       maqAr~\n",
              "\n",
              "[137 rows x 4 columns]"
            ],
            "text/html": [
              "\n",
              "  <div id=\"df-2ae0c291-7f7c-4f69-a692-5d0409666b80\">\n",
              "    <div class=\"colab-df-container\">\n",
              "      <div>\n",
              "<style scoped>\n",
              "    .dataframe tbody tr th:only-of-type {\n",
              "        vertical-align: middle;\n",
              "    }\n",
              "\n",
              "    .dataframe tbody tr th {\n",
              "        vertical-align: top;\n",
              "    }\n",
              "\n",
              "    .dataframe thead th {\n",
              "        text-align: right;\n",
              "    }\n",
              "</style>\n",
              "<table border=\"1\" class=\"dataframe\">\n",
              "  <thead>\n",
              "    <tr style=\"text-align: right;\">\n",
              "      <th></th>\n",
              "      <th>index</th>\n",
              "      <th>lemma</th>\n",
              "      <th>inflection</th>\n",
              "      <th>predict</th>\n",
              "    </tr>\n",
              "  </thead>\n",
              "  <tbody>\n",
              "    <tr>\n",
              "      <th>0</th>\n",
              "      <td>7</td>\n",
              "      <td>quw~ap</td>\n",
              "      <td>quw~At</td>\n",
              "      <td>quwaY</td>\n",
              "    </tr>\n",
              "    <tr>\n",
              "      <th>1</th>\n",
              "      <td>17</td>\n",
              "      <td>balad</td>\n",
              "      <td>bilAd</td>\n",
              "      <td>bilAd</td>\n",
              "    </tr>\n",
              "    <tr>\n",
              "      <th>2</th>\n",
              "      <td>41</td>\n",
              "      <td>maso&amp;uwl</td>\n",
              "      <td>maso&amp;uwliyn</td>\n",
              "      <td>maso}uwliyn</td>\n",
              "    </tr>\n",
              "    <tr>\n",
              "      <th>3</th>\n",
              "      <td>65</td>\n",
              "      <td>mu$okilap</td>\n",
              "      <td>ma$Akil</td>\n",
              "      <td>mu$okilA</td>\n",
              "    </tr>\n",
              "    <tr>\n",
              "      <th>4</th>\n",
              "      <td>69</td>\n",
              "      <td>TAlib</td>\n",
              "      <td>Tul~Ab</td>\n",
              "      <td>TAlibb</td>\n",
              "    </tr>\n",
              "    <tr>\n",
              "      <th>...</th>\n",
              "      <td>...</td>\n",
              "      <td>...</td>\n",
              "      <td>...</td>\n",
              "      <td>...</td>\n",
              "    </tr>\n",
              "    <tr>\n",
              "      <th>132</th>\n",
              "      <td>1056</td>\n",
              "      <td>majoraY</td>\n",
              "      <td>mujorayAt</td>\n",
              "      <td>majoray</td>\n",
              "    </tr>\n",
              "    <tr>\n",
              "      <th>133</th>\n",
              "      <td>1060</td>\n",
              "      <td>mano$uwr</td>\n",
              "      <td>mano$uwrAt</td>\n",
              "      <td>manA$iyr</td>\n",
              "    </tr>\n",
              "    <tr>\n",
              "      <th>134</th>\n",
              "      <td>1061</td>\n",
              "      <td>manobat</td>\n",
              "      <td>manAbit</td>\n",
              "      <td>manAtib</td>\n",
              "    </tr>\n",
              "    <tr>\n",
              "      <th>135</th>\n",
              "      <td>1065</td>\n",
              "      <td>maqAm</td>\n",
              "      <td>maqAmAt</td>\n",
              "      <td>maqAmim</td>\n",
              "    </tr>\n",
              "    <tr>\n",
              "      <th>136</th>\n",
              "      <td>1066</td>\n",
              "      <td>maqar~</td>\n",
              "      <td>maqar~At</td>\n",
              "      <td>maqAr~</td>\n",
              "    </tr>\n",
              "  </tbody>\n",
              "</table>\n",
              "<p>137 rows × 4 columns</p>\n",
              "</div>\n",
              "      <button class=\"colab-df-convert\" onclick=\"convertToInteractive('df-2ae0c291-7f7c-4f69-a692-5d0409666b80')\"\n",
              "              title=\"Convert this dataframe to an interactive table.\"\n",
              "              style=\"display:none;\">\n",
              "        \n",
              "  <svg xmlns=\"http://www.w3.org/2000/svg\" height=\"24px\"viewBox=\"0 0 24 24\"\n",
              "       width=\"24px\">\n",
              "    <path d=\"M0 0h24v24H0V0z\" fill=\"none\"/>\n",
              "    <path d=\"M18.56 5.44l.94 2.06.94-2.06 2.06-.94-2.06-.94-.94-2.06-.94 2.06-2.06.94zm-11 1L8.5 8.5l.94-2.06 2.06-.94-2.06-.94L8.5 2.5l-.94 2.06-2.06.94zm10 10l.94 2.06.94-2.06 2.06-.94-2.06-.94-.94-2.06-.94 2.06-2.06.94z\"/><path d=\"M17.41 7.96l-1.37-1.37c-.4-.4-.92-.59-1.43-.59-.52 0-1.04.2-1.43.59L10.3 9.45l-7.72 7.72c-.78.78-.78 2.05 0 2.83L4 21.41c.39.39.9.59 1.41.59.51 0 1.02-.2 1.41-.59l7.78-7.78 2.81-2.81c.8-.78.8-2.07 0-2.86zM5.41 20L4 18.59l7.72-7.72 1.47 1.35L5.41 20z\"/>\n",
              "  </svg>\n",
              "      </button>\n",
              "      \n",
              "  <style>\n",
              "    .colab-df-container {\n",
              "      display:flex;\n",
              "      flex-wrap:wrap;\n",
              "      gap: 12px;\n",
              "    }\n",
              "\n",
              "    .colab-df-convert {\n",
              "      background-color: #E8F0FE;\n",
              "      border: none;\n",
              "      border-radius: 50%;\n",
              "      cursor: pointer;\n",
              "      display: none;\n",
              "      fill: #1967D2;\n",
              "      height: 32px;\n",
              "      padding: 0 0 0 0;\n",
              "      width: 32px;\n",
              "    }\n",
              "\n",
              "    .colab-df-convert:hover {\n",
              "      background-color: #E2EBFA;\n",
              "      box-shadow: 0px 1px 2px rgba(60, 64, 67, 0.3), 0px 1px 3px 1px rgba(60, 64, 67, 0.15);\n",
              "      fill: #174EA6;\n",
              "    }\n",
              "\n",
              "    [theme=dark] .colab-df-convert {\n",
              "      background-color: #3B4455;\n",
              "      fill: #D2E3FC;\n",
              "    }\n",
              "\n",
              "    [theme=dark] .colab-df-convert:hover {\n",
              "      background-color: #434B5C;\n",
              "      box-shadow: 0px 1px 3px 1px rgba(0, 0, 0, 0.15);\n",
              "      filter: drop-shadow(0px 1px 2px rgba(0, 0, 0, 0.3));\n",
              "      fill: #FFFFFF;\n",
              "    }\n",
              "  </style>\n",
              "\n",
              "      <script>\n",
              "        const buttonEl =\n",
              "          document.querySelector('#df-2ae0c291-7f7c-4f69-a692-5d0409666b80 button.colab-df-convert');\n",
              "        buttonEl.style.display =\n",
              "          google.colab.kernel.accessAllowed ? 'block' : 'none';\n",
              "\n",
              "        async function convertToInteractive(key) {\n",
              "          const element = document.querySelector('#df-2ae0c291-7f7c-4f69-a692-5d0409666b80');\n",
              "          const dataTable =\n",
              "            await google.colab.kernel.invokeFunction('convertToInteractive',\n",
              "                                                     [key], {});\n",
              "          if (!dataTable) return;\n",
              "\n",
              "          const docLinkHtml = 'Like what you see? Visit the ' +\n",
              "            '<a target=\"_blank\" href=https://colab.research.google.com/notebooks/data_table.ipynb>data table notebook</a>'\n",
              "            + ' to learn more about interactive tables.';\n",
              "          element.innerHTML = '';\n",
              "          dataTable['output_type'] = 'display_data';\n",
              "          await google.colab.output.renderOutput(dataTable, element);\n",
              "          const docLink = document.createElement('div');\n",
              "          docLink.innerHTML = docLinkHtml;\n",
              "          element.appendChild(docLink);\n",
              "        }\n",
              "      </script>\n",
              "    </div>\n",
              "  </div>\n",
              "  "
            ]
          },
          "metadata": {},
          "execution_count": 75
        }
      ]
    },
    {
      "cell_type": "code",
      "execution_count": null,
      "metadata": {
        "colab": {
          "base_uri": "https://localhost:8080/"
        },
        "id": "31Ka-PdPdd33",
        "outputId": "a0018009-0161-4fa6-b9d8-a4eb961a6e57"
      },
      "outputs": [
        {
          "output_type": "execute_result",
          "data": {
            "text/plain": [
              "(137, 0.8726765799256505)"
            ]
          },
          "metadata": {},
          "execution_count": 76
        }
      ],
      "source": [
        "checkAccuracy(pred_plPattern, y_test_inflection_OH)"
      ]
    },
    {
      "cell_type": "markdown",
      "metadata": {
        "id": "bGnDKnFMwWZN"
      },
      "source": [
        "## **Model 3**\n",
        "singular pattern - plural pattern"
      ]
    },
    {
      "cell_type": "code",
      "execution_count": null,
      "metadata": {
        "id": "FbsjWhWDwWZO"
      },
      "outputs": [],
      "source": [
        "input_singularPattern = Input(shape=(singularPattern_length, encode_size))\n",
        "input_root = Input(shape=(root_length, encode_size))\n",
        "input_genRat = Input(shape=(genRat_length, ))\n",
        "\n",
        "\n",
        "lstm1 = Bidirectional(LSTM(256))(input_singularPattern)\n",
        "lstm2 = Bidirectional(LSTM(64))(input_root)\n",
        "\n",
        "c = Concatenate(axis=1)([lstm1, lstm2])\n",
        "\n",
        "d = Dense(126, activation='relu')(c)\n",
        "\n",
        "c = Concatenate(axis=1)([d, input_genRat])\n",
        "\n",
        "r = RepeatVector(plPattern_length)(c)\n",
        "\n",
        "lstm2 = Bidirectional(LSTM(256, return_sequences=True))(r)\n",
        "\n",
        "output = TimeDistributed(Dense(encode_size, activation='softmax'))(lstm2)\n",
        "\n",
        "model2 = Model(inputs=[input_singularPattern, input_root, input_genRat], outputs=output)\n",
        "\n",
        "checkpoint_filepath = path + '/model 2/best model.hdf5'\n",
        "checkpoint = ModelCheckpoint(filepath=checkpoint_filepath, monitor='val_accuracy', mode='max', save_best_only=True, verbose=0)\n",
        "\n",
        "model2.compile(loss=\"binary_crossentropy\", optimizer=Adam(0.001), metrics=['accuracy'])"
      ]
    },
    {
      "cell_type": "code",
      "execution_count": null,
      "metadata": {
        "id": "PdX8HQegwWZP"
      },
      "outputs": [],
      "source": [
        "with tf.device('/GPU:0'):\n",
        "  model2.fit([X_train_singularPattern_OH, X_train_root_OH, X_train_genRat], y_train_plPattern_OH, batch_size=batch_size, epochs=epochs, callbacks=[checkpoint], validation_data=([X_dev_singularPattern_OH, X_dev_root_OH, X_dev_genRat], y_dev_plPattern_OH))  # starts training"
      ]
    },
    {
      "cell_type": "code",
      "execution_count": null,
      "metadata": {
        "id": "JlGB3C2DwWZQ"
      },
      "outputs": [],
      "source": [
        "print(model2.summary())\n",
        "plot_model(model2, to_file=path+'/model 2/architecture.png', show_shapes=True, show_layer_names=False)"
      ]
    },
    {
      "cell_type": "code",
      "execution_count": null,
      "metadata": {
        "colab": {
          "base_uri": "https://localhost:8080/"
        },
        "id": "3PY123jMwWZR",
        "outputId": "1023d676-37fd-41ce-ed81-80f33c796f65"
      },
      "outputs": [
        {
          "name": "stdout",
          "output_type": "stream",
          "text": [
            "35/35 [==============================] - 2s 8ms/step - loss: 0.0032 - accuracy: 0.9736\n"
          ]
        },
        {
          "data": {
            "text/plain": [
              "[0.0032125026918947697, 0.9735569953918457]"
            ]
          },
          "execution_count": 31,
          "metadata": {},
          "output_type": "execute_result"
        }
      ],
      "source": [
        "model = load_model(checkpoint_filepath)\n",
        "model.evaluate([X_test_singularPattern_OH, X_test_root_OH, X_test_genRat], y_test_plPattern_OH)"
      ]
    },
    {
      "cell_type": "markdown",
      "metadata": {
        "id": "w8vSGnlA1K3B"
      },
      "source": [
        "## **Model 4**\n",
        "lemma - plural pattern"
      ]
    },
    {
      "cell_type": "code",
      "execution_count": null,
      "metadata": {
        "id": "83b-jT2L1K3C"
      },
      "outputs": [],
      "source": [
        "input_lemma = Input(shape=(lemma_length, encode_size))\n",
        "input_root = Input(shape=(root_length, encode_size))\n",
        "input_genRat = Input(shape=(genRat_length, ))\n",
        "input_numOfRoot = Input(shape=(numOfRoot_length, ))\n",
        "\n",
        "\n",
        "lstm1 = Bidirectional(LSTM(128))(input_lemma)\n",
        "lstm2 = Bidirectional(LSTM(128))(input_root)\n",
        "\n",
        "c = Concatenate(axis=1)([lstm1, lstm2])\n",
        "\n",
        "d = Dense(254, activation='relu')(c)\n",
        "\n",
        "c = Concatenate(axis=1)([d, input_genRat])\n",
        "\n",
        "r = RepeatVector(plPattern_length)(c)\n",
        "\n",
        "lstm1 = Bidirectional(LSTM(128, return_sequences=True))(r)\n",
        "# lstm2 = Bidirectional(LSTM(256, return_sequences=True))(lstm1)\n",
        "\n",
        "output = TimeDistributed(Dense(encode_size, activation='softmax'))(lstm1)\n",
        "\n",
        "model3 = Model(inputs=[input_lemma, input_root, input_genRat, input_numOfRoot], outputs=output)\n",
        "\n",
        "checkpoint_filepath = path + '/model 3/best model.hdf5'\n",
        "checkpoint = ModelCheckpoint(filepath=checkpoint_filepath, monitor='val_accuracy', mode='max', save_best_only=True, verbose=0)\n",
        "\n",
        "model3.compile(loss=\"categorical_crossentropy\", optimizer=Adam(0.001), metrics=['accuracy'])"
      ]
    },
    {
      "cell_type": "code",
      "execution_count": null,
      "metadata": {
        "id": "yoHgvt471K3D"
      },
      "outputs": [],
      "source": [
        "with tf.device('/GPU:0'):\n",
        "  model3.fit([X_train_lemma_OH, X_train_root_OH, X_train_genRat, X_train_numOfRoot], y_train_plPattern_OH, batch_size=batch_size, epochs=epochs, callbacks=[checkpoint], validation_data=([X_dev_lemma_OH, X_dev_root_OH, X_dev_genRat, X_dev_numOfRoot], y_dev_plPattern_OH))  # starts training"
      ]
    },
    {
      "cell_type": "code",
      "execution_count": null,
      "metadata": {
        "id": "BdcTuQmr1K3F"
      },
      "outputs": [],
      "source": [
        "print(model3.summary())\n",
        "plot_model(model3, to_file=path+'/model 3/architecture.png', show_shapes=True, show_layer_names=False)"
      ]
    },
    {
      "cell_type": "code",
      "execution_count": null,
      "metadata": {
        "colab": {
          "base_uri": "https://localhost:8080/"
        },
        "id": "0Da0kwHx1K3F",
        "outputId": "d4eb7529-1ff9-4a2e-d013-01eb1b7dab61"
      },
      "outputs": [
        {
          "name": "stdout",
          "output_type": "stream",
          "text": [
            "34/34 [==============================] - 2s 7ms/step - loss: 0.0973 - accuracy: 0.9712\n"
          ]
        },
        {
          "data": {
            "text/plain": [
              "[0.09726995974779129, 0.9711896181106567]"
            ]
          },
          "execution_count": 53,
          "metadata": {},
          "output_type": "execute_result"
        }
      ],
      "source": [
        "model = load_model(checkpoint_filepath)\n",
        "model.evaluate([X_test_lemma_OH, X_test_root_OH, X_test_genRat, X_test_numOfRoot], y_test_plPattern_OH)"
      ]
    },
    {
      "cell_type": "code",
      "execution_count": null,
      "metadata": {
        "colab": {
          "base_uri": "https://localhost:8080/"
        },
        "id": "3mMRUOvb-OvF",
        "outputId": "2204db7f-4801-4007-bff2-93d67e82e170"
      },
      "outputs": [
        {
          "name": "stdout",
          "output_type": "stream",
          "text": [
            "34/34 [==============================] - 2s 6ms/step\n",
            "(1076, 17, 48)\n",
            "(1076, 17, 48)\n"
          ]
        }
      ],
      "source": [
        "pred_plPattern = model.predict([X_test_lemma_OH, X_test_root_OH, X_test_genRat, X_test_numOfRoot])\n",
        "\n",
        "print(pred_plPattern.shape)\n",
        "print(y_test_plPattern_OH.shape)"
      ]
    },
    {
      "cell_type": "code",
      "source": [
        "reportErrorAnalysis(testData[0],pred_plPattern,y_test_inflection_OH, path+\"/model 3/test_errorAnalysis.csv\")"
      ],
      "metadata": {
        "id": "g-hxObTBxU4T"
      },
      "execution_count": null,
      "outputs": []
    },
    {
      "cell_type": "code",
      "execution_count": null,
      "metadata": {
        "id": "brGJUavNZRxD"
      },
      "outputs": [],
      "source": [
        "pred_plPattern = oneHot3D(pred_plPattern)"
      ]
    },
    {
      "cell_type": "code",
      "execution_count": null,
      "metadata": {
        "colab": {
          "base_uri": "https://localhost:8080/"
        },
        "id": "9MHCGKotkWA4",
        "outputId": "6cd3de6f-e29f-4132-c0a9-5fb3ae206cb2"
      },
      "outputs": [
        {
          "data": {
            "text/plain": [
              "0.7955390334572491"
            ]
          },
          "execution_count": 56,
          "metadata": {},
          "output_type": "execute_result"
        }
      ],
      "source": [
        "checkAccuracy(pred_plPattern, y_test_plPattern_OH)"
      ]
    }
  ],
  "metadata": {
    "accelerator": "GPU",
    "colab": {
      "collapsed_sections": [
        "rgbi7F8b_x30",
        "-WOml2gW6dg-",
        "mGvkEaGn52gO",
        "_g-e8zVR6FP4",
        "g4MC1JT3TSec",
        "5aRDIUaOvvJv",
        "wYae4z1hhH4t",
        "UB0fawJa66PY",
        "K87j_k_oEVh3",
        "XAoL0KSoEVh4",
        "ybXFriUqEVh5",
        "i7R3KZnxEVh5",
        "XOv7r-UPAa82",
        "bGnDKnFMwWZN",
        "w8vSGnlA1K3B"
      ],
      "provenance": [],
      "include_colab_link": true
    },
    "kernelspec": {
      "display_name": "Python 3",
      "name": "python3"
    },
    "language_info": {
      "name": "python"
    }
  },
  "nbformat": 4,
  "nbformat_minor": 0
}