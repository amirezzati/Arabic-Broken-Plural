{
  "cells": [
    {
      "cell_type": "markdown",
      "metadata": {
        "id": "view-in-github",
        "colab_type": "text"
      },
      "source": [
        "<a href=\"https://colab.research.google.com/github/amirezzati/Arabic-Broken-Plural-RNN/blob/main/Arabic_broken_plurals.ipynb\" target=\"_parent\"><img src=\"https://colab.research.google.com/assets/colab-badge.svg\" alt=\"Open In Colab\"/></a>"
      ]
    },
    {
      "cell_type": "markdown",
      "metadata": {
        "id": "rgbi7F8b_x30"
      },
      "source": [
        "# **Libraries & Constants**"
      ]
    },
    {
      "cell_type": "code",
      "execution_count": null,
      "metadata": {
        "id": "lvARVj-B2jPW"
      },
      "outputs": [],
      "source": [
        "!pip install transformers"
      ]
    },
    {
      "cell_type": "code",
      "execution_count": 2,
      "metadata": {
        "id": "D2-wlVMZYEkZ"
      },
      "outputs": [],
      "source": [
        "import pandas as pd\n",
        "import tensorflow as tf\n",
        "import numpy as np\n",
        "from keras.models import Sequential, load_model\n",
        "from keras.layers import Dense, Input, Softmax, BatchNormalization, Dropout, Conv2D, MaxPool2D, Embedding, Reshape, Flatten, LSTM, GRU, SimpleRNN, Concatenate, concatenate, RepeatVector, TimeDistributed, Bidirectional\n",
        "# from keras.layers.merge import concatenate\n",
        "from keras.losses import CategoricalCrossentropy\n",
        "from keras.metrics import CategoricalAccuracy\n",
        "from keras.preprocessing.text import Tokenizer\n",
        "from tensorflow.keras.optimizers import RMSprop, Adam, Adamax, Nadam, SGD\n",
        "from tensorflow.keras import Model\n",
        "from tensorflow.keras.optimizers.schedules import InverseTimeDecay, ExponentialDecay\n",
        "from tensorflow.keras.utils import to_categorical\n",
        "from keras.utils.vis_utils import plot_model\n",
        "from keras.callbacks import ModelCheckpoint\n",
        "from tensorflow.keras.preprocessing.sequence import pad_sequences #from keras.preprocessing.sequence import pad_sequences\n",
        "from sklearn.preprocessing import LabelEncoder\n",
        "from sklearn.model_selection import train_test_split, KFold\n",
        "from sklearn import metrics\n",
        "from matplotlib import pyplot as plt\n",
        "from sklearn.model_selection import KFold\n",
        "import os\n",
        "import string\n",
        "from google.colab import drive\n",
        "import json\n",
        "\n",
        "from transformers import AutoTokenizer,BertTokenizer,TFBertModel\n",
        "\n",
        "import copy"
      ]
    },
    {
      "cell_type": "markdown",
      "source": [
        "# **Declaring And Initializing Global Variables**"
      ],
      "metadata": {
        "id": "Z8EaaCpl4vRw"
      }
    },
    {
      "cell_type": "markdown",
      "source": [
        "## **Paths**"
      ],
      "metadata": {
        "id": "AE4iDRzh47E-"
      }
    },
    {
      "cell_type": "code",
      "execution_count": null,
      "metadata": {
        "id": "srVvFhQrdymB"
      },
      "outputs": [],
      "source": [
        "drive.mount('/content/drive')\n",
        "dataPath=\"/content/drive/MyDrive/AI Projects/Arabic Broken Plural/data\"\n",
        "# dataPath = '/content/drive/MyDrive/Deep Learning/Datasets/Arabic Broken Plural/data'\n",
        "\n",
        "data_analysis_path = '/content/drive/MyDrive/AI Projects/Arabic Broken Plural/Datasets analysis/'"
      ]
    },
    {
      "cell_type": "markdown",
      "source": [
        "## **Global Variables Used For Encoding Data**"
      ],
      "metadata": {
        "id": "bh5sOf1t5B2h"
      }
    },
    {
      "cell_type": "code",
      "source": [
        "# generate character encoding\n",
        "oov_token = 'not available char'\n",
        "char_index = {oov_token: 0}\n",
        "char_index_key_list = list(char_index.keys())\n",
        "char_index_val_list = list(char_index.values())"
      ],
      "metadata": {
        "id": "u8QvtGou5UTp"
      },
      "execution_count": 17,
      "outputs": []
    },
    {
      "cell_type": "markdown",
      "metadata": {
        "id": "g4MC1JT3TSec"
      },
      "source": [
        "# **Helper Functions**"
      ]
    },
    {
      "cell_type": "code",
      "execution_count": 18,
      "metadata": {
        "id": "PYqxULkbTSed"
      },
      "outputs": [],
      "source": [
        "def oneHot2D(arr):\n",
        "    tmp = np.zeros_like(arr)\n",
        "    tmp[np.arange(len(arr)), arr.argmax(1)] = 1\n",
        "    return tmp\n",
        "\n",
        "def oneHot3D(arr):\n",
        "    tmp = np.array([oneHot2D(x) for x in arr])\n",
        "    return tmp"
      ]
    },
    {
      "cell_type": "code",
      "execution_count": 19,
      "metadata": {
        "id": "lR89g_k_7dYp"
      },
      "outputs": [],
      "source": [
        "def updateCharIndex(data):\n",
        "  global char_index , char_index_key_list , char_index_val_list\n",
        "  # encode input with encoding character set\n",
        "  for i in range(len(data[0])):\n",
        "      chars = data[0][i] + data[1][i] + data[3][i] + data[4][i]\n",
        "      for c in chars:\n",
        "          if c not in char_index:\n",
        "              char_index[c] = len(char_index)\n",
        "  char_index_key_list = list(char_index.keys())\n",
        "  char_index_val_list = list(char_index.values())\n",
        "\n",
        "def getCharFromIdx(idx):\n",
        "  position = char_index_val_list.index(idx)\n",
        "  return char_index_key_list[position]\n",
        "\n",
        "def getWordFromOnehot(onehot):\n",
        "  encoded=np.argmax(onehot, axis=1)\n",
        "  word=[]\n",
        "  for x in encoded:\n",
        "    if x==0:break\n",
        "    word.append(getCharFromIdx(x))\n",
        "  return ''.join(word)"
      ]
    },
    {
      "cell_type": "code",
      "execution_count": 20,
      "metadata": {
        "id": "PtI4-1PCuFcB"
      },
      "outputs": [],
      "source": [
        "# find duplicates and create dictionaries\n",
        "def getDuplicateIndexes(data):\n",
        "  dupindex={}\n",
        "  for i in range(len(data[0])):\n",
        "    lemma = data[0][i]\n",
        "    if dupindex.get(lemma)==None :\n",
        "      dupindex[lemma]=[]\n",
        "      dupindex[lemma].append(i)\n",
        "    elif len(data)<9:\n",
        "      dupindex[lemma].append(i)\n",
        "    else:\n",
        "      f=False\n",
        "      for k in range(len(dupindex[lemma])):\n",
        "        if data[8][i] > data[8][dupindex[lemma][k]]:\n",
        "          dupindex[lemma].insert(0,i)\n",
        "          f=True\n",
        "      if not f : dupindex[lemma].append(i)\n",
        "\n",
        "\n",
        "  return dupindex\n",
        "\n",
        "def reportErrorAnalysis_duplicates(dataframe,dicDup,path):\n",
        "  df=dataframe.loc[[]]\n",
        "  \n",
        "  indexes=[]\n",
        "  for key, value in dicDup.items():\n",
        "    if len(value)>1 :\n",
        "      for x in value:\n",
        "        n=len(df)\n",
        "        indexes.append(x)\n",
        "        df.loc[n]=dataframe.loc[x]\n",
        "  df.insert(0, \"index\", indexes, True)\n",
        "  df.to_csv(path)\n",
        "  return df\n",
        "\n",
        "#Generate lemma-inflection reference\n",
        "def updateDic_lemmaInflection(data,inflection_index,dupIndex,dic_lemmaInflection):\n",
        "  for key, value in dupIndex.items():\n",
        "    if dic_lemmaInflection.get(key)==None:\n",
        "      dic_lemmaInflection[key]=[]\n",
        "    for x in value : \n",
        "      if not data[inflection_index][x] in dic_lemmaInflection[key]: dic_lemmaInflection[key].append(data[inflection_index][x])\n",
        "  return dic_lemmaInflection\n",
        "\n",
        "\n",
        "def report_similarLemmas(lemma, inflection, dic, path, name):\n",
        "  '''\n",
        "  Get a csv report on similar lemmas comparing to a dictionary\n",
        "  inputs = list of lemmas, list inflections,\n",
        "    reference dictionary, saving path for the report,\n",
        "    name of the report\n",
        "  output = report in csv format\n",
        "  '''\n",
        "  report={'index':[], 'lemma':[], 'new inflection':[], 'old inflection':[],'is_similar':[]}\n",
        "\n",
        "  for i in range(len(lemma)):\n",
        "    if dic.get(lemma[i])==None:\n",
        "      continue\n",
        "    else:\n",
        "      report['index'].append(i)\n",
        "      report['lemma'].append(lemma[i])\n",
        "      report['new inflection'].append(inflection[i])\n",
        "      report['old inflection'].append(dic.get(lemma[i])[0])\n",
        "      report['is_similar'].append(dic.get(lemma[i])[0]==inflection[i])\n",
        "  df = pd.DataFrame(report) \n",
        "  df.to_csv(path+\"/\"+name+\".csv\")\n",
        "  return df\n"
      ]
    },
    {
      "cell_type": "code",
      "source": [
        "#Drop unnecessary duplicates\n",
        "def getUniqueData(data,dupIndex):\n",
        "  out=[]\n",
        "  #init nested lists\n",
        "  for x in data: out.append([])\n",
        "  #fill out with most frequent lemma-inflection pairs\n",
        "  for key, value in dupIndex.items():\n",
        "    for k in range(len(data)):\n",
        "      out[k].append(data[k][value[0]])\n",
        "  return out\n",
        "\n",
        "#Fix defferent inflection comparing to a dictionary of lemma-inflection pairs\n",
        "def fixInflections(data,inflection_index,dic):\n",
        "  out = copy.deepcopy(data)\n",
        "  c=0\n",
        "  for i in range(len(data[0])):\n",
        "    if dic.get(data[0][i])==None:\n",
        "      continue\n",
        "    else:\n",
        "      inf = dic.get(data[0][i])[0]\n",
        "      if not data[inflection_index][i] == inf:\n",
        "        out[inflection_index][i]=inf\n",
        "        c+=1\n",
        "  return out,c"
      ],
      "metadata": {
        "id": "frDAdHFw6ZP_"
      },
      "execution_count": 21,
      "outputs": []
    },
    {
      "cell_type": "code",
      "execution_count": 22,
      "metadata": {
        "id": "M6wNFevTTSee"
      },
      "outputs": [],
      "source": [
        "def binaryConversion(arr, threshold=0.5):\n",
        "  tmp = np.zeros_like(arr)\n",
        "  tmp[arr > threshold] = 1\n",
        "  return tmp\n",
        "\n",
        "def reportResult(model, history, X_test, y_test):\n",
        "\n",
        "    # best models based on acc or loss in tarin set or test set\n",
        "    testHistory = list(\n",
        "        map(lambda x, y: [x, y], history['val_accuracy'], history['val_loss']))\n",
        "    print(\n",
        "        f\"best model based on min test set loss:  acc= {min(testHistory, key = lambda k: k[1])[0]}  loss= {min(testHistory, key = lambda k: k[1])[1]}\")\n",
        "    print(\n",
        "        f\"best model based on max test set accuracy:  acc= {max(testHistory, key = lambda k: k[0])[0]}  loss= {max(testHistory, key = lambda k: k[0])[1]}\")\n",
        "\n",
        "    print(\"\\nevaluate dataset with best model based on maximum test set accuracy\")\n",
        "    print(\"evaluate test set = \", model.evaluate(X_test, y_test, verbose=0))\n",
        "\n",
        "    y_test_pred = model.predict(X_test)\n",
        "    y_test_pred = binaryConversion(y_test_pred)\n",
        "\n",
        "    # confusion matrix and precision, recall and f1 report\n",
        "    print('-'*30, 'metrics for test set', '-'*30)\n",
        "    print(\"confusion matrix: \\n\", metrics.confusion_matrix(y_test, y_test_pred))\n",
        "    print(metrics.classification_report(y_test,\n",
        "          y_test_pred, digits=3, target_names=['Broken', 'Sound']))\n",
        "    \n",
        "def argmaxKeepDimensions(arr):\n",
        "  tmp = np.zeros_like(arr)\n",
        "  tmp[np.arange(len(arr)), arr.argmax(1)] = 1\n",
        "  return tmp\n",
        "\n",
        "def checkAccuracy(pred, true):\n",
        "  size = pred.shape[0]\n",
        "  numOfTrue = 0\n",
        "  for (x, y) in zip(pred, true):\n",
        "    if np.array_equal(x, y):\n",
        "      numOfTrue += 1\n",
        "  \n",
        "  return size-numOfTrue, numOfTrue/size\n",
        "\n",
        "def checkAccuracy_anyAcceptableInflectionInDataset(lemma, pred, dic_refrence):\n",
        "  size = pred.shape[0]\n",
        "  numOfTrue = 0\n",
        "  for i in range (len(pred)):\n",
        "    w=getWordFromOnehot(pred[i])\n",
        "    if w in dic_refrence[lemma[i]]:\n",
        "      numOfTrue += 1\n",
        "  \n",
        "  return size-numOfTrue, numOfTrue/size\n",
        "\n",
        "def reportErrorAnalysis(lemma, bs, pred_OH, inflection_OH, path):\n",
        "  size = pred_OH.shape[0]\n",
        "  report={'index':[], 'lemma':[], 'b/s':[], 'inflection':[], 'predict':[]}\n",
        "  i=0\n",
        "  for (x, y) in zip(pred_OH, inflection_OH):\n",
        "    if not np.array_equal(x, y):\n",
        "      report['index'].append(i)\n",
        "      report['lemma'].append(lemma[i])\n",
        "      if bs==None:\n",
        "        report['b/s'].append(\"NAN\")\n",
        "      else:\n",
        "        report['b/s'].append(bs[i])\n",
        "      report['inflection'].append(getWordFromOnehot(inflection_OH[i]))\n",
        "      report['predict'].append(getWordFromOnehot(pred_OH[i]))\n",
        "    i+=1\n",
        "  \n",
        "  df = pd.DataFrame(report) \n",
        "  df.to_csv(path)\n",
        "  return df\n",
        "\n",
        "def reportErrorAnalysis_inflectionWithBS(lemma, bs,bs_pred, pred_OH, inflection_OH, path):\n",
        "  size = pred_OH.shape[0]\n",
        "  report={'index':[], 'lemma':[], 'b/s':[], 'b/s predict':[], 'inflection':[], 'predict':[]}\n",
        "  bs_pred = binaryConversion(bs_pred)\n",
        "  i=0\n",
        "  for (x, y) in zip(pred_OH, inflection_OH):\n",
        "    if not np.array_equal(x, y):\n",
        "      report['index'].append(i)\n",
        "      report['lemma'].append(lemma[i])\n",
        "      report['b/s'].append(bs[i])\n",
        "      report['b/s predict'].append(bs_pred[i])\n",
        "      report['inflection'].append(getWordFromOnehot(inflection_OH[i]))\n",
        "      report['predict'].append(getWordFromOnehot(pred_OH[i]))\n",
        "    i+=1\n",
        "  \n",
        "  df = pd.DataFrame(report) \n",
        "  df.to_csv(path)\n",
        "  return df\n",
        "\n",
        "def reportErrorAnalysis_classification(lemma, inflection_OH, bs, bs_pred, path):\n",
        "  size = bs.shape[0]\n",
        "  report={'index':[], 'lemma':[], 'inflection':[],'b/s':[], 'b/s predict':[] }\n",
        "  bs_pred = binaryConversion(bs_pred, 0.5)\n",
        "  i=0\n",
        "  for (x, y) in zip(bs, bs_pred):\n",
        "    if not x==y:\n",
        "      report['index'].append(i)\n",
        "      report['lemma'].append(lemma[i])\n",
        "      report['b/s'].append(x)\n",
        "      report['inflection'].append(getWordFromOnehot(inflection_OH[i]))\n",
        "      report['b/s predict'].append(y)\n",
        "    i+=1\n",
        "  \n",
        "  df = pd.DataFrame(report) \n",
        "  df.to_csv(path)\n",
        "  return df"
      ]
    },
    {
      "cell_type": "code",
      "execution_count": 23,
      "metadata": {
        "id": "jPbJ_pHqmsyV"
      },
      "outputs": [],
      "source": [
        "def reportPercentageOfBrokenSoundErrors(dataset_errorAnalysis):\n",
        "  total_errors_num = dataset_errorAnalysis.shape[0]\n",
        "  train_sound_error = np.sum(dataset_errorAnalysis['b/s'])\n",
        "  train_broken_error = total_errors_num - train_sound_error\n",
        "  return train_broken_error/total_errors_num * 100, train_sound_error/total_errors_num * 100\n",
        "\n",
        "def reportPercentageOfUnseenErrors(errorIndices, unseenIndices):\n",
        "  isInUnseen = np.array([index in unseenIndices for index in errorIndices])\n",
        "  return np.count_nonzero(isInUnseen==True) / len(errorIndices) * 100, np.count_nonzero(isInUnseen==True) / len(unseenIndices) * 100"
      ]
    },
    {
      "cell_type": "markdown",
      "metadata": {
        "id": "XOX50iU1Kha1"
      },
      "source": [
        "## **Encoding Schemes**"
      ]
    },
    {
      "cell_type": "code",
      "execution_count": 24,
      "metadata": {
        "id": "ZDoScnOfGIiX"
      },
      "outputs": [],
      "source": [
        "encoding_schemes = pd.read_excel(dataPath+\"/Encoding Schemes.xlsx\")"
      ]
    },
    {
      "cell_type": "code",
      "execution_count": 25,
      "metadata": {
        "colab": {
          "base_uri": "https://localhost:8080/"
        },
        "id": "twMF1Mw5JXe_",
        "outputId": "280fd34e-1b51-4177-a0cd-ed477a4a8736"
      },
      "outputs": [
        {
          "output_type": "execute_result",
          "data": {
            "text/plain": [
              "51"
            ]
          },
          "metadata": {},
          "execution_count": 25
        }
      ],
      "source": [
        "arabic_bw = encoding_schemes[['Arabic', 'BW']]\n",
        "arabic_bw.shape[0]"
      ]
    },
    {
      "cell_type": "code",
      "execution_count": 26,
      "metadata": {
        "id": "pvjYOWufI8-X"
      },
      "outputs": [],
      "source": [
        "bw_to_arabic, arabic_to_bw = {}, {}\n",
        "for i in range(arabic_bw.shape[0]):\n",
        "  bw_to_arabic[arabic_bw['BW'][i]] = arabic_bw['Arabic'][i]\n",
        "  arabic_to_bw[arabic_bw['Arabic'][i]] = arabic_bw['BW'][i]"
      ]
    },
    {
      "cell_type": "code",
      "execution_count": 27,
      "metadata": {
        "colab": {
          "base_uri": "https://localhost:8080/"
        },
        "id": "8dCiVrv2xwDU",
        "outputId": "2a4e74da-515a-4e13-fd99-486440888be8"
      },
      "outputs": [
        {
          "output_type": "stream",
          "name": "stdout",
          "text": [
            "{\"'\": 'ء', '|': 'آ', '>': 'أ', '&': 'ؤ', '<': 'إ', '}': 'ئ', 'A': 'ا', 'b': 'ب', 'p': 'ة', 't': 'ت', 'v': 'ث', 'j': 'ج', 'H': 'ح', 'x': 'خ', 'd': 'د', '*': 'ذ', 'r': 'ر', 'z': 'ز', 's': 'س', '$': 'ش', 'S': 'ص', 'D': 'ض', 'T': 'ط', 'Z': 'ظ', 'E': 'ع', 'g': 'غ', '_': 'ـ', 'f': 'ف', 'q': 'ق', 'k': 'ك', 'l': 'ل', 'm': 'م', 'n': 'ن', 'h': 'ه', 'w': 'و', 'Y': 'ى', 'y': 'ي', 'F': 'ً', 'N': 'ٌ', 'K': 'ٍ', 'a': 'َ', 'u': 'ُ', 'i': 'ِ', '~': 'ّ', 'o': 'ْ', '`': 'ٰ', '{': 'ٱ', 'P': 'پ', 'J': 'چ', 'V': 'ڤ', 'G': 'گ'}\n"
          ]
        }
      ],
      "source": [
        "print(bw_to_arabic)"
      ]
    },
    {
      "cell_type": "code",
      "execution_count": 28,
      "metadata": {
        "id": "NwhxwGI3LsSJ"
      },
      "outputs": [],
      "source": [
        "def getArabicForm(bwForm):\n",
        "  global bw_to_arabic\n",
        "  arabicForm = []\n",
        "  for x in bwForm:\n",
        "    arabicForm.append(\"\".join([bw_to_arabic[char] for char in x]))\n",
        "  return arabicForm\n",
        "\n",
        "def getBWForm(arabicForm):\n",
        "  global arabic_to_bw\n",
        "  bwForm = []\n",
        "  for x in arabicForm:\n",
        "    bwForm.append(\"\".join([arabic_to_bw[char] for char in x]))\n",
        "  return bwForm"
      ]
    },
    {
      "cell_type": "markdown",
      "metadata": {
        "id": "pGFwazuJClaC"
      },
      "source": [
        "# **Preprocessing**"
      ]
    },
    {
      "cell_type": "markdown",
      "metadata": {
        "id": "9ZQvZUkdGb9Z"
      },
      "source": [
        "## **Hugging face Arabic Bert Config**"
      ]
    },
    {
      "cell_type": "code",
      "execution_count": null,
      "metadata": {
        "id": "EWufMcZMHDgY"
      },
      "outputs": [],
      "source": [
        "#bert_tokenizer = AutoTokenizer.from_pretrained(\"asafaya/bert-base-arabic\")\n",
        "bert_tokenizer = BertTokenizer.from_pretrained(\"asafaya/bert-base-arabic\")"
      ]
    },
    {
      "cell_type": "code",
      "execution_count": 30,
      "metadata": {
        "id": "9Vc8mS4CFfoe"
      },
      "outputs": [],
      "source": [
        "encoding = bert_tokenizer.encode_plus(\n",
        "      'علم',\n",
        "      max_length=18,\n",
        "      add_special_tokens=True, # Add '[CLS]' and '[SEP]'\n",
        "      return_token_type_ids=True,\n",
        "      padding = 'max_length',  # Pad to longest in batch.\n",
        "      truncation=True,\n",
        "      return_attention_mask=True,\n",
        "      return_tensors='tf'  # Return PyTorch tensors\n",
        "    )\n",
        "#print(len(encoding['token_type_ids'][0]))"
      ]
    },
    {
      "cell_type": "code",
      "execution_count": 31,
      "metadata": {
        "id": "Q7hXWVrepQgl"
      },
      "outputs": [],
      "source": [
        "bert_test=bert_tokenizer(\"عِلمة\")"
      ]
    },
    {
      "cell_type": "code",
      "execution_count": 32,
      "metadata": {
        "colab": {
          "base_uri": "https://localhost:8080/"
        },
        "id": "ultG0eVNnUfG",
        "outputId": "ca945585-1ee0-4388-f97e-b9ffea827504"
      },
      "outputs": [
        {
          "output_type": "stream",
          "name": "stdout",
          "text": [
            "{'input_ids': [2, 2816, 1012, 3], 'token_type_ids': [0, 0, 0, 0], 'attention_mask': [1, 1, 1, 1]}\n"
          ]
        }
      ],
      "source": [
        "print(bert_test)"
      ]
    },
    {
      "cell_type": "markdown",
      "metadata": {
        "id": "ubE6nCh4ClaD"
      },
      "source": [
        "## **Get dataset files and Organizing**"
      ]
    },
    {
      "cell_type": "code",
      "execution_count": 33,
      "metadata": {
        "colab": {
          "base_uri": "https://localhost:8080/",
          "height": 206
        },
        "id": "_uBC6rVkClaD",
        "outputId": "a7ca86f5-2716-4cbd-a71f-1c6ad0650158"
      },
      "outputs": [
        {
          "output_type": "execute_result",
          "data": {
            "text/plain": [
              "   lemma inflection NUM GEN RAT  lex_freq B/S SING_PATT    PL_PATT   ROOT  \\\n",
              "0  Eamal    >aEomAl  PL   m   i        49   B     1a2a3    >a1o2A3  E.m.l   \n",
              "1  hadaf    >ahodAf  PL   m   i        42   B     1a2a3    >a1o2A3  h.d.f   \n",
              "2  EuDow    >aEoDA'  PL   m   r        46   B     1u2ow    >a1o2A'  E.D.#   \n",
              "3  jihAz  >ajohizap  PL   m   i        41   B     1i2A3  >a1o2i3ap  j.h.z   \n",
              "4  Hukom    >aHokAm  PL   m   i        35   B     1u2o3    >a1o2A3  H.k.m   \n",
              "\n",
              "   FREQ  \n",
              "0    49  \n",
              "1    42  \n",
              "2    39  \n",
              "3    35  \n",
              "4    35  "
            ],
            "text/html": [
              "\n",
              "  <div id=\"df-389797d0-9450-45e9-bee4-b8d69af4d13d\">\n",
              "    <div class=\"colab-df-container\">\n",
              "      <div>\n",
              "<style scoped>\n",
              "    .dataframe tbody tr th:only-of-type {\n",
              "        vertical-align: middle;\n",
              "    }\n",
              "\n",
              "    .dataframe tbody tr th {\n",
              "        vertical-align: top;\n",
              "    }\n",
              "\n",
              "    .dataframe thead th {\n",
              "        text-align: right;\n",
              "    }\n",
              "</style>\n",
              "<table border=\"1\" class=\"dataframe\">\n",
              "  <thead>\n",
              "    <tr style=\"text-align: right;\">\n",
              "      <th></th>\n",
              "      <th>lemma</th>\n",
              "      <th>inflection</th>\n",
              "      <th>NUM</th>\n",
              "      <th>GEN</th>\n",
              "      <th>RAT</th>\n",
              "      <th>lex_freq</th>\n",
              "      <th>B/S</th>\n",
              "      <th>SING_PATT</th>\n",
              "      <th>PL_PATT</th>\n",
              "      <th>ROOT</th>\n",
              "      <th>FREQ</th>\n",
              "    </tr>\n",
              "  </thead>\n",
              "  <tbody>\n",
              "    <tr>\n",
              "      <th>0</th>\n",
              "      <td>Eamal</td>\n",
              "      <td>&gt;aEomAl</td>\n",
              "      <td>PL</td>\n",
              "      <td>m</td>\n",
              "      <td>i</td>\n",
              "      <td>49</td>\n",
              "      <td>B</td>\n",
              "      <td>1a2a3</td>\n",
              "      <td>&gt;a1o2A3</td>\n",
              "      <td>E.m.l</td>\n",
              "      <td>49</td>\n",
              "    </tr>\n",
              "    <tr>\n",
              "      <th>1</th>\n",
              "      <td>hadaf</td>\n",
              "      <td>&gt;ahodAf</td>\n",
              "      <td>PL</td>\n",
              "      <td>m</td>\n",
              "      <td>i</td>\n",
              "      <td>42</td>\n",
              "      <td>B</td>\n",
              "      <td>1a2a3</td>\n",
              "      <td>&gt;a1o2A3</td>\n",
              "      <td>h.d.f</td>\n",
              "      <td>42</td>\n",
              "    </tr>\n",
              "    <tr>\n",
              "      <th>2</th>\n",
              "      <td>EuDow</td>\n",
              "      <td>&gt;aEoDA'</td>\n",
              "      <td>PL</td>\n",
              "      <td>m</td>\n",
              "      <td>r</td>\n",
              "      <td>46</td>\n",
              "      <td>B</td>\n",
              "      <td>1u2ow</td>\n",
              "      <td>&gt;a1o2A'</td>\n",
              "      <td>E.D.#</td>\n",
              "      <td>39</td>\n",
              "    </tr>\n",
              "    <tr>\n",
              "      <th>3</th>\n",
              "      <td>jihAz</td>\n",
              "      <td>&gt;ajohizap</td>\n",
              "      <td>PL</td>\n",
              "      <td>m</td>\n",
              "      <td>i</td>\n",
              "      <td>41</td>\n",
              "      <td>B</td>\n",
              "      <td>1i2A3</td>\n",
              "      <td>&gt;a1o2i3ap</td>\n",
              "      <td>j.h.z</td>\n",
              "      <td>35</td>\n",
              "    </tr>\n",
              "    <tr>\n",
              "      <th>4</th>\n",
              "      <td>Hukom</td>\n",
              "      <td>&gt;aHokAm</td>\n",
              "      <td>PL</td>\n",
              "      <td>m</td>\n",
              "      <td>i</td>\n",
              "      <td>35</td>\n",
              "      <td>B</td>\n",
              "      <td>1u2o3</td>\n",
              "      <td>&gt;a1o2A3</td>\n",
              "      <td>H.k.m</td>\n",
              "      <td>35</td>\n",
              "    </tr>\n",
              "  </tbody>\n",
              "</table>\n",
              "</div>\n",
              "      <button class=\"colab-df-convert\" onclick=\"convertToInteractive('df-389797d0-9450-45e9-bee4-b8d69af4d13d')\"\n",
              "              title=\"Convert this dataframe to an interactive table.\"\n",
              "              style=\"display:none;\">\n",
              "        \n",
              "  <svg xmlns=\"http://www.w3.org/2000/svg\" height=\"24px\"viewBox=\"0 0 24 24\"\n",
              "       width=\"24px\">\n",
              "    <path d=\"M0 0h24v24H0V0z\" fill=\"none\"/>\n",
              "    <path d=\"M18.56 5.44l.94 2.06.94-2.06 2.06-.94-2.06-.94-.94-2.06-.94 2.06-2.06.94zm-11 1L8.5 8.5l.94-2.06 2.06-.94-2.06-.94L8.5 2.5l-.94 2.06-2.06.94zm10 10l.94 2.06.94-2.06 2.06-.94-2.06-.94-.94-2.06-.94 2.06-2.06.94z\"/><path d=\"M17.41 7.96l-1.37-1.37c-.4-.4-.92-.59-1.43-.59-.52 0-1.04.2-1.43.59L10.3 9.45l-7.72 7.72c-.78.78-.78 2.05 0 2.83L4 21.41c.39.39.9.59 1.41.59.51 0 1.02-.2 1.41-.59l7.78-7.78 2.81-2.81c.8-.78.8-2.07 0-2.86zM5.41 20L4 18.59l7.72-7.72 1.47 1.35L5.41 20z\"/>\n",
              "  </svg>\n",
              "      </button>\n",
              "      \n",
              "  <style>\n",
              "    .colab-df-container {\n",
              "      display:flex;\n",
              "      flex-wrap:wrap;\n",
              "      gap: 12px;\n",
              "    }\n",
              "\n",
              "    .colab-df-convert {\n",
              "      background-color: #E8F0FE;\n",
              "      border: none;\n",
              "      border-radius: 50%;\n",
              "      cursor: pointer;\n",
              "      display: none;\n",
              "      fill: #1967D2;\n",
              "      height: 32px;\n",
              "      padding: 0 0 0 0;\n",
              "      width: 32px;\n",
              "    }\n",
              "\n",
              "    .colab-df-convert:hover {\n",
              "      background-color: #E2EBFA;\n",
              "      box-shadow: 0px 1px 2px rgba(60, 64, 67, 0.3), 0px 1px 3px 1px rgba(60, 64, 67, 0.15);\n",
              "      fill: #174EA6;\n",
              "    }\n",
              "\n",
              "    [theme=dark] .colab-df-convert {\n",
              "      background-color: #3B4455;\n",
              "      fill: #D2E3FC;\n",
              "    }\n",
              "\n",
              "    [theme=dark] .colab-df-convert:hover {\n",
              "      background-color: #434B5C;\n",
              "      box-shadow: 0px 1px 3px 1px rgba(0, 0, 0, 0.15);\n",
              "      filter: drop-shadow(0px 1px 2px rgba(0, 0, 0, 0.3));\n",
              "      fill: #FFFFFF;\n",
              "    }\n",
              "  </style>\n",
              "\n",
              "      <script>\n",
              "        const buttonEl =\n",
              "          document.querySelector('#df-389797d0-9450-45e9-bee4-b8d69af4d13d button.colab-df-convert');\n",
              "        buttonEl.style.display =\n",
              "          google.colab.kernel.accessAllowed ? 'block' : 'none';\n",
              "\n",
              "        async function convertToInteractive(key) {\n",
              "          const element = document.querySelector('#df-389797d0-9450-45e9-bee4-b8d69af4d13d');\n",
              "          const dataTable =\n",
              "            await google.colab.kernel.invokeFunction('convertToInteractive',\n",
              "                                                     [key], {});\n",
              "          if (!dataTable) return;\n",
              "\n",
              "          const docLinkHtml = 'Like what you see? Visit the ' +\n",
              "            '<a target=\"_blank\" href=https://colab.research.google.com/notebooks/data_table.ipynb>data table notebook</a>'\n",
              "            + ' to learn more about interactive tables.';\n",
              "          element.innerHTML = '';\n",
              "          dataTable['output_type'] = 'display_data';\n",
              "          await google.colab.output.renderOutput(dataTable, element);\n",
              "          const docLink = document.createElement('div');\n",
              "          docLink.innerHTML = docLinkHtml;\n",
              "          element.appendChild(docLink);\n",
              "        }\n",
              "      </script>\n",
              "    </div>\n",
              "  </div>\n",
              "  "
            ]
          },
          "metadata": {},
          "execution_count": 33
        }
      ],
      "source": [
        "train_csv = pd.read_csv(dataPath+\"/train_pairs_all.csv\")\n",
        "dev_csv = pd.read_csv(dataPath+\"/dev_pairs_all.csv\")\n",
        "test_csv = pd.read_csv(dataPath+\"/test_pairs_all.csv\")\n",
        "\n",
        "train_csv.head()"
      ]
    },
    {
      "cell_type": "code",
      "execution_count": 34,
      "metadata": {
        "id": "SdFejowuClaD"
      },
      "outputs": [],
      "source": [
        "train_csv_filtered = train_csv[train_csv['ROOT'] != 'NTWS']\n",
        "dev_csv_filtered = dev_csv[dev_csv['ROOT'] != 'NTWS']\n",
        "test_csv_filtered = test_csv[test_csv['ROOT'] != 'NTWS']"
      ]
    },
    {
      "cell_type": "code",
      "execution_count": 35,
      "metadata": {
        "colab": {
          "base_uri": "https://localhost:8080/"
        },
        "id": "aMrYNnyDClaD",
        "outputId": "753bc48d-9f2c-4585-a6fb-7823b7834a48"
      },
      "outputs": [
        {
          "output_type": "stream",
          "name": "stdout",
          "text": [
            "114\n",
            "38\n",
            "27\n"
          ]
        }
      ],
      "source": [
        "print(train_csv.shape[0] - train_csv_filtered.shape[0])\n",
        "print(dev_csv.shape[0] - dev_csv_filtered.shape[0])\n",
        "print(test_csv.shape[0] - test_csv_filtered.shape[0])"
      ]
    },
    {
      "cell_type": "code",
      "execution_count": 36,
      "metadata": {
        "colab": {
          "base_uri": "https://localhost:8080/",
          "height": 206
        },
        "id": "yD10TibJClaD",
        "outputId": "3ff4aa06-28b5-45d6-c2ca-eb4841d64a4e"
      },
      "outputs": [
        {
          "output_type": "execute_result",
          "data": {
            "text/plain": [
              "        lemma  inflection NUM  GEN  RAT  lex_freq  B/S   SING_PATT  \\\n",
              "0       Eamal     >aEomAl  PL    1    0        23    0       1a2a3   \n",
              "1       hadaf     >ahodAf  PL    1    0        16    0       1a2a3   \n",
              "2     EalAqap     EalAqAt  PL    0    0        15    1     1a2A3ap   \n",
              "3  mu&as~asap  mu&as~asAt  PL    0    0        14    1  mu&a2~a3ap   \n",
              "4       EuDow     >aEoDA'  PL    1    1        15    0       1u2ow   \n",
              "\n",
              "      PL_PATT   ROOT  FREQ  \n",
              "0     >a1o2A3  E.m.l    23  \n",
              "1     >a1o2A3  h.d.f    16  \n",
              "2     1a2A3At  E.l.q    15  \n",
              "3  mu&a2~a3At  #.s.s    14  \n",
              "4     >a1o2A'  E.D.#    13  "
            ],
            "text/html": [
              "\n",
              "  <div id=\"df-b60c4e4a-2879-419b-9464-c1794766fea1\">\n",
              "    <div class=\"colab-df-container\">\n",
              "      <div>\n",
              "<style scoped>\n",
              "    .dataframe tbody tr th:only-of-type {\n",
              "        vertical-align: middle;\n",
              "    }\n",
              "\n",
              "    .dataframe tbody tr th {\n",
              "        vertical-align: top;\n",
              "    }\n",
              "\n",
              "    .dataframe thead th {\n",
              "        text-align: right;\n",
              "    }\n",
              "</style>\n",
              "<table border=\"1\" class=\"dataframe\">\n",
              "  <thead>\n",
              "    <tr style=\"text-align: right;\">\n",
              "      <th></th>\n",
              "      <th>lemma</th>\n",
              "      <th>inflection</th>\n",
              "      <th>NUM</th>\n",
              "      <th>GEN</th>\n",
              "      <th>RAT</th>\n",
              "      <th>lex_freq</th>\n",
              "      <th>B/S</th>\n",
              "      <th>SING_PATT</th>\n",
              "      <th>PL_PATT</th>\n",
              "      <th>ROOT</th>\n",
              "      <th>FREQ</th>\n",
              "    </tr>\n",
              "  </thead>\n",
              "  <tbody>\n",
              "    <tr>\n",
              "      <th>0</th>\n",
              "      <td>Eamal</td>\n",
              "      <td>&gt;aEomAl</td>\n",
              "      <td>PL</td>\n",
              "      <td>1</td>\n",
              "      <td>0</td>\n",
              "      <td>23</td>\n",
              "      <td>0</td>\n",
              "      <td>1a2a3</td>\n",
              "      <td>&gt;a1o2A3</td>\n",
              "      <td>E.m.l</td>\n",
              "      <td>23</td>\n",
              "    </tr>\n",
              "    <tr>\n",
              "      <th>1</th>\n",
              "      <td>hadaf</td>\n",
              "      <td>&gt;ahodAf</td>\n",
              "      <td>PL</td>\n",
              "      <td>1</td>\n",
              "      <td>0</td>\n",
              "      <td>16</td>\n",
              "      <td>0</td>\n",
              "      <td>1a2a3</td>\n",
              "      <td>&gt;a1o2A3</td>\n",
              "      <td>h.d.f</td>\n",
              "      <td>16</td>\n",
              "    </tr>\n",
              "    <tr>\n",
              "      <th>2</th>\n",
              "      <td>EalAqap</td>\n",
              "      <td>EalAqAt</td>\n",
              "      <td>PL</td>\n",
              "      <td>0</td>\n",
              "      <td>0</td>\n",
              "      <td>15</td>\n",
              "      <td>1</td>\n",
              "      <td>1a2A3ap</td>\n",
              "      <td>1a2A3At</td>\n",
              "      <td>E.l.q</td>\n",
              "      <td>15</td>\n",
              "    </tr>\n",
              "    <tr>\n",
              "      <th>3</th>\n",
              "      <td>mu&amp;as~asap</td>\n",
              "      <td>mu&amp;as~asAt</td>\n",
              "      <td>PL</td>\n",
              "      <td>0</td>\n",
              "      <td>0</td>\n",
              "      <td>14</td>\n",
              "      <td>1</td>\n",
              "      <td>mu&amp;a2~a3ap</td>\n",
              "      <td>mu&amp;a2~a3At</td>\n",
              "      <td>#.s.s</td>\n",
              "      <td>14</td>\n",
              "    </tr>\n",
              "    <tr>\n",
              "      <th>4</th>\n",
              "      <td>EuDow</td>\n",
              "      <td>&gt;aEoDA'</td>\n",
              "      <td>PL</td>\n",
              "      <td>1</td>\n",
              "      <td>1</td>\n",
              "      <td>15</td>\n",
              "      <td>0</td>\n",
              "      <td>1u2ow</td>\n",
              "      <td>&gt;a1o2A'</td>\n",
              "      <td>E.D.#</td>\n",
              "      <td>13</td>\n",
              "    </tr>\n",
              "  </tbody>\n",
              "</table>\n",
              "</div>\n",
              "      <button class=\"colab-df-convert\" onclick=\"convertToInteractive('df-b60c4e4a-2879-419b-9464-c1794766fea1')\"\n",
              "              title=\"Convert this dataframe to an interactive table.\"\n",
              "              style=\"display:none;\">\n",
              "        \n",
              "  <svg xmlns=\"http://www.w3.org/2000/svg\" height=\"24px\"viewBox=\"0 0 24 24\"\n",
              "       width=\"24px\">\n",
              "    <path d=\"M0 0h24v24H0V0z\" fill=\"none\"/>\n",
              "    <path d=\"M18.56 5.44l.94 2.06.94-2.06 2.06-.94-2.06-.94-.94-2.06-.94 2.06-2.06.94zm-11 1L8.5 8.5l.94-2.06 2.06-.94-2.06-.94L8.5 2.5l-.94 2.06-2.06.94zm10 10l.94 2.06.94-2.06 2.06-.94-2.06-.94-.94-2.06-.94 2.06-2.06.94z\"/><path d=\"M17.41 7.96l-1.37-1.37c-.4-.4-.92-.59-1.43-.59-.52 0-1.04.2-1.43.59L10.3 9.45l-7.72 7.72c-.78.78-.78 2.05 0 2.83L4 21.41c.39.39.9.59 1.41.59.51 0 1.02-.2 1.41-.59l7.78-7.78 2.81-2.81c.8-.78.8-2.07 0-2.86zM5.41 20L4 18.59l7.72-7.72 1.47 1.35L5.41 20z\"/>\n",
              "  </svg>\n",
              "      </button>\n",
              "      \n",
              "  <style>\n",
              "    .colab-df-container {\n",
              "      display:flex;\n",
              "      flex-wrap:wrap;\n",
              "      gap: 12px;\n",
              "    }\n",
              "\n",
              "    .colab-df-convert {\n",
              "      background-color: #E8F0FE;\n",
              "      border: none;\n",
              "      border-radius: 50%;\n",
              "      cursor: pointer;\n",
              "      display: none;\n",
              "      fill: #1967D2;\n",
              "      height: 32px;\n",
              "      padding: 0 0 0 0;\n",
              "      width: 32px;\n",
              "    }\n",
              "\n",
              "    .colab-df-convert:hover {\n",
              "      background-color: #E2EBFA;\n",
              "      box-shadow: 0px 1px 2px rgba(60, 64, 67, 0.3), 0px 1px 3px 1px rgba(60, 64, 67, 0.15);\n",
              "      fill: #174EA6;\n",
              "    }\n",
              "\n",
              "    [theme=dark] .colab-df-convert {\n",
              "      background-color: #3B4455;\n",
              "      fill: #D2E3FC;\n",
              "    }\n",
              "\n",
              "    [theme=dark] .colab-df-convert:hover {\n",
              "      background-color: #434B5C;\n",
              "      box-shadow: 0px 1px 3px 1px rgba(0, 0, 0, 0.15);\n",
              "      filter: drop-shadow(0px 1px 2px rgba(0, 0, 0, 0.3));\n",
              "      fill: #FFFFFF;\n",
              "    }\n",
              "  </style>\n",
              "\n",
              "      <script>\n",
              "        const buttonEl =\n",
              "          document.querySelector('#df-b60c4e4a-2879-419b-9464-c1794766fea1 button.colab-df-convert');\n",
              "        buttonEl.style.display =\n",
              "          google.colab.kernel.accessAllowed ? 'block' : 'none';\n",
              "\n",
              "        async function convertToInteractive(key) {\n",
              "          const element = document.querySelector('#df-b60c4e4a-2879-419b-9464-c1794766fea1');\n",
              "          const dataTable =\n",
              "            await google.colab.kernel.invokeFunction('convertToInteractive',\n",
              "                                                     [key], {});\n",
              "          if (!dataTable) return;\n",
              "\n",
              "          const docLinkHtml = 'Like what you see? Visit the ' +\n",
              "            '<a target=\"_blank\" href=https://colab.research.google.com/notebooks/data_table.ipynb>data table notebook</a>'\n",
              "            + ' to learn more about interactive tables.';\n",
              "          element.innerHTML = '';\n",
              "          dataTable['output_type'] = 'display_data';\n",
              "          await google.colab.output.renderOutput(dataTable, element);\n",
              "          const docLink = document.createElement('div');\n",
              "          docLink.innerHTML = docLinkHtml;\n",
              "          element.appendChild(docLink);\n",
              "        }\n",
              "      </script>\n",
              "    </div>\n",
              "  </div>\n",
              "  "
            ]
          },
          "metadata": {},
          "execution_count": 36
        }
      ],
      "source": [
        "# Label encoder for encoding gender and rational features\n",
        "# 'B' class: 0      'S' class: 1\n",
        "categorical_attr = ['GEN', 'RAT', 'B/S']\n",
        "\n",
        "le = LabelEncoder()\n",
        "#train_csv_filtered[categorical_attr] = train_csv_filtered[categorical_attr].apply(le.fit_transform, axis=0)\n",
        "train_csv[categorical_attr] = train_csv[categorical_attr].apply(le.fit_transform, axis=0)\n",
        "\n",
        "le = LabelEncoder()\n",
        "#dev_csv_filtered[categorical_attr] = dev_csv_filtered[categorical_attr].apply(le.fit_transform, axis=0)\n",
        "dev_csv[categorical_attr] = dev_csv[categorical_attr].apply(le.fit_transform, axis=0)\n",
        "\n",
        "le = LabelEncoder()\n",
        "#test_csv_filtered[categorical_attr] = test_csv_filtered[categorical_attr].apply(le.fit_transform, axis=0)\n",
        "test_csv[categorical_attr] = test_csv[categorical_attr].apply(le.fit_transform, axis=0)\n",
        "\n",
        "#test_csv_filtered.head()\n",
        "test_csv.head()"
      ]
    },
    {
      "cell_type": "code",
      "execution_count": 37,
      "metadata": {
        "id": "vx1uEiSrClaD"
      },
      "outputs": [],
      "source": [
        "def getListOfData(dataFrame):\n",
        "  '''\n",
        "  Output type->List : 0:lamma | 1:singular pattern | 2:root |3:inflection | 4:plural pattern | 5:plural type(B/S) | 6:gender | 7:rational | 8:freq | 9:nmberOfRoot | 10:Arabic Form |\n",
        "  '''\n",
        "  data = [] # 0:lemma | 1:singular pattern | 2:root |3:inflection | 4:plural pattern | 5:plural type(B/S) | 6:gender | 7:rational \n",
        "  data.append(dataFrame['lemma'].tolist())\n",
        "  data.append(dataFrame['SING_PATT'].tolist())\n",
        "\n",
        "  root = dataFrame['ROOT'].tolist()\n",
        "  # delete dot sign(.) in root feature\n",
        "  for i in range(len(root)): \n",
        "    root[i] = root[i].replace(\".\",\"\")\n",
        "    root[i] = root[i].replace(\"#\",\"\")\n",
        "  data.append(root)\n",
        "\n",
        "  data.append(dataFrame['inflection'].tolist())\n",
        "  data.append(dataFrame['PL_PATT'].tolist())\n",
        "  data.append(dataFrame['B/S'].tolist())\n",
        "  data.append(dataFrame['GEN'].tolist())\n",
        "  data.append(dataFrame['RAT'].tolist())\n",
        "  data.append(dataFrame['FREQ'].tolist())\n",
        "\n",
        "  numOfRoot = [len(x) for x in root]\n",
        "  data.append(numOfRoot)\n",
        "\n",
        "  data.append(getArabicForm(dataFrame['lemma'].tolist()))\n",
        "\n",
        "  return data\n",
        "\n",
        "trainData = getListOfData(train_csv)\n",
        "devData = getListOfData(dev_csv)\n",
        "testData = getListOfData(test_csv)\n",
        "is_dataOrginal=True"
      ]
    },
    {
      "cell_type": "markdown",
      "metadata": {
        "id": "u_hpLQfwE5B2"
      },
      "source": [
        "## **Work On Duplicates**"
      ]
    },
    {
      "cell_type": "code",
      "execution_count": null,
      "metadata": {
        "id": "wjehYdq8FCGg"
      },
      "outputs": [],
      "source": [
        "if is_dataOrginal:\n",
        "  #Save similar lemmas indexes in dictionary (key->lemma | value->list of indexes)\n",
        "  trainDupIndex=getDuplicateIndexes(trainData)\n",
        "  devDupIndex=getDuplicateIndexes(devData)\n",
        "  testDupIndex=getDuplicateIndexes(testData)\n",
        "  print(\"duplicate indexes has been updated\")\n",
        "  print(trainDupIndex)\n",
        "\n",
        "if is_dataOrginal:\n",
        "  #Save Duplicate report on data in csv\n",
        "  trainDuplicateCsv=reportErrorAnalysis_duplicates(train_csv,trainDupIndex,data_analysis_path+\"/duplicateAnalysis_train.csv\")\n",
        "  devDuplicateCsv=reportErrorAnalysis_duplicates(dev_csv,devDupIndex,data_analysis_path+\"/duplicateAnalysis_dev.csv\")\n",
        "  testDuplicateCsv=reportErrorAnalysis_duplicates(test_csv,testDupIndex,data_analysis_path+\"/duplicateAnalysis_test.csv\")\n",
        "  print(\"Report Error Analysis on duplicates has been saved in /content/drive/MyDrive/AI Projects/Arabic Broken Plural/Datasets analysis path\")\n",
        "\n",
        "dic_lemmaInflection = {}\n",
        "if is_dataOrginal:\n",
        "  dic_lemmaInflection = updateDic_lemmaInflection(trainData,3,trainDupIndex,dic_lemmaInflection)\n",
        "  print(len(dic_lemmaInflection))\n",
        "  dic_lemmaInflection = updateDic_lemmaInflection(testData,3,testDupIndex,dic_lemmaInflection)\n",
        "  print(len(dic_lemmaInflection))\n",
        "  dic_lemmaInflection = updateDic_lemmaInflection(devData,3,devDupIndex,dic_lemmaInflection)\n",
        "  print(len(dic_lemmaInflection))"
      ]
    },
    {
      "cell_type": "code",
      "execution_count": 39,
      "metadata": {
        "colab": {
          "base_uri": "https://localhost:8080/"
        },
        "id": "3TIS2Q8bFLHE",
        "outputId": "746d1212-31a5-4b04-8081-37a3de9dde71"
      },
      "outputs": [
        {
          "output_type": "stream",
          "name": "stdout",
          "text": [
            "Number Of Lemmas before Dropping duplicates in Train Set:  2862\n",
            "Number Of Lemmas before Dropping duplicates in Test Set:  1103\n",
            "Number Of Lemmas before Dropping duplicates in Dev Set:  1151\n",
            "=============================================================\n",
            "Number Of Lemmas After Dropping duplicates in Train Set:  2475\n",
            "Number Of Lemmas After Dropping duplicates in Test Set:  1028\n",
            "Number Of Lemmas After Dropping duplicates in Dev Set:  1060\n"
          ]
        }
      ],
      "source": [
        "#Drop unnecessary duplicates\n",
        "trainDataUnique=getUniqueData(trainData,trainDupIndex)\n",
        "devDataUnique=getUniqueData(devData,devDupIndex)\n",
        "testDataUnique=getUniqueData(testData,testDupIndex)\n",
        "print(\"Number Of Lemmas before Dropping duplicates in Train Set: \", len(trainData[0]))\n",
        "print(\"Number Of Lemmas before Dropping duplicates in Test Set: \",len(testData[0]))\n",
        "print(\"Number Of Lemmas before Dropping duplicates in Dev Set: \",len(devData[0]))\n",
        "print(\"=============================================================\")\n",
        "print(\"Number Of Lemmas After Dropping duplicates in Train Set: \", len(trainDataUnique[0]))\n",
        "print(\"Number Of Lemmas After Dropping duplicates in Test Set: \",len(testDataUnique[0]))\n",
        "print(\"Number Of Lemmas After Dropping duplicates in Dev Set: \",len(devDataUnique[0]))"
      ]
    },
    {
      "cell_type": "code",
      "source": [
        "#Fix defferent inflection comparing to a dictionary of lemma-inflection pairs\n",
        "\n",
        "trainFixedData , c = fixInflections(trainDataUnique,3,dic_lemmaInflection)\n",
        "print(\"Number of changed inflections in train dataset:\",c)\n",
        "devFixedData , c = fixInflections(devDataUnique,3,dic_lemmaInflection)\n",
        "print(\"Number of changed inflections in dev dataset:\",c)\n",
        "testFixedData , c = fixInflections(testDataUnique,3,dic_lemmaInflection)\n",
        "print(\"Number of changed inflections in test dataset:\",c)"
      ],
      "metadata": {
        "colab": {
          "base_uri": "https://localhost:8080/"
        },
        "id": "FwmG4NOYv2AF",
        "outputId": "bc8b5a08-80dc-412f-f59f-085ebaa0bb5f"
      },
      "execution_count": 40,
      "outputs": [
        {
          "output_type": "stream",
          "name": "stdout",
          "text": [
            "Number of changed inflections in train dataset: 0\n",
            "Number of changed inflections in dev dataset: 34\n",
            "Number of changed inflections in test dataset: 26\n"
          ]
        }
      ]
    },
    {
      "cell_type": "code",
      "execution_count": 41,
      "metadata": {
        "id": "LodNC4wSsL0s"
      },
      "outputs": [],
      "source": [
        "if is_dataOrginal:\n",
        "  trainData=trainDataUnique\n",
        "  devData=devDataUnique\n",
        "  testData=testDataUnique\n",
        "  is_dataOrginal=False\n",
        "else:\n",
        "  print(\"Warning!!! duplicate rows has already been dropped from data.(skipped this step)\")"
      ]
    },
    {
      "cell_type": "markdown",
      "metadata": {
        "id": "JRilqxawClaF"
      },
      "source": [
        "## **Encoding Datasets (Character-based)**"
      ]
    },
    {
      "cell_type": "code",
      "execution_count": 42,
      "metadata": {
        "colab": {
          "base_uri": "https://localhost:8080/"
        },
        "id": "G8UL3rofClaF",
        "outputId": "401fb2bd-e4b5-4938-9993-249a06964e87"
      },
      "outputs": [
        {
          "output_type": "stream",
          "name": "stdout",
          "text": [
            "50\n",
            "{'not available char': 0, 'E': 1, 'a': 2, 'm': 3, 'l': 4, '1': 5, '2': 6, '3': 7, '>': 8, 'o': 9, 'A': 10, 'h': 11, 'd': 12, 'f': 13, 'u': 14, 'D': 15, 'w': 16, \"'\": 17, 'j': 18, 'i': 19, 'z': 20, 'p': 21, 'H': 22, 'k': 23, 'n': 24, 'S': 25, 'r': 26, '4': 27, 'q': 28, '~': 29, 'y': 30, 't': 31, 's': 32, '<': 33, 'b': 34, 'v': 35, '|': 36, 'T': 37, '}': 38, 'Z': 39, '{': 40, '&': 41, '$': 42, 'x': 43, 'N': 44, 'W': 45, '*': 46, 'g': 47, 'Y': 48, 'F': 49}\n"
          ]
        }
      ],
      "source": [
        "updateCharIndex(trainData)\n",
        "print(len(char_index))\n",
        "print(char_index)"
      ]
    },
    {
      "cell_type": "code",
      "execution_count": 43,
      "metadata": {
        "colab": {
          "base_uri": "https://localhost:8080/"
        },
        "id": "y3aR6noZClaF",
        "outputId": "d9347b2e-5e3b-4567-ae1c-1ec769fb48a8"
      },
      "outputs": [
        {
          "output_type": "stream",
          "name": "stdout",
          "text": [
            "lemma shape train:  2475\n",
            "lemma shape dev:  1060\n",
            "lemma shape test:  1028\n",
            "max length in lemma elements:  17\n",
            "max length in root elements:  4\n",
            "max length in inflection elements:  18\n"
          ]
        }
      ],
      "source": [
        "# encode words with character encoder\n",
        "def encodeWord(word, dic=char_index, oov=oov_token):\n",
        "    return [dic[c] if c in dic else dic[oov] for c in list(word)]\n",
        "\n",
        "# encode data and get maximum length of features\n",
        "def getEncodedData(data):\n",
        "  '''\n",
        "  Output type->List : 0:lamma | 1:singular pattern | 2:root |3:inflection | 4:plural pattern | 5:plural type(B/S) | 6:gender | 7:rational | 8:number of root\n",
        "  '''\n",
        "\n",
        "  data_encoded = data.copy()\n",
        "  data_encoded[0] = [encodeWord(each) for each in data[0]]\n",
        "  data_encoded[1] = [encodeWord(each) for each in data[1]]\n",
        "  data_encoded[2] = [encodeWord(each) for each in data[2]]\n",
        "  data_encoded[3] = [encodeWord(each) for each in data[3]]\n",
        "  data_encoded[4] = [encodeWord(each) for each in data[4]]\n",
        "\n",
        "  lemma_max_len = max([len(each) for each in data_encoded[0]])\n",
        "  root_max_len = max([len(each) for each in data_encoded[2]])\n",
        "  inflection_max_len = max([len(each) for each in data_encoded[3]])\n",
        "\n",
        "  return data_encoded, lemma_max_len, root_max_len, inflection_max_len\n",
        "\n",
        "\n",
        "trainData_encoded, lemma_max_len, root_max_len, inflection_max_len = getEncodedData(trainData)\n",
        "devData_encoded, _, _, _  = getEncodedData(devData)\n",
        "testData_encoded, _, _, _ = getEncodedData(testData)\n",
        "\n",
        "print('lemma shape train: ', len(trainData_encoded[0]))\n",
        "print('lemma shape dev: ', len(devData_encoded[0]))\n",
        "print('lemma shape test: ', len(testData_encoded[0]))\n",
        "print('max length in lemma elements: ', lemma_max_len)\n",
        "print('max length in root elements: ', root_max_len)\n",
        "print('max length in inflection elements: ', inflection_max_len)"
      ]
    },
    {
      "cell_type": "code",
      "execution_count": 44,
      "metadata": {
        "colab": {
          "base_uri": "https://localhost:8080/"
        },
        "id": "MoDYp2LuClaF",
        "outputId": "6517b2c4-c3da-460f-fc15-073aa1b6ad1b"
      },
      "outputs": [
        {
          "output_type": "stream",
          "name": "stdout",
          "text": [
            "lemma with pad shape train:  (2475, 17)\n",
            "lemma with pad shape dev:  (1060, 17)\n",
            "lemma with pad shape test:  (1028, 17)\n"
          ]
        }
      ],
      "source": [
        "# ADD padding to sample\n",
        "# 0:lamma | 1:singular pattern | 2:root |3:inflection | 4:plural pattern | 5:plural type(B/S) | 6:gender | 7:rational \n",
        "def getPaddedData(encodedData, lemma_max_len, root_max_len, inflection_max_len):\n",
        "  data_pad = []\n",
        "  data_pad.append(np.array(pad_sequences(encodedData[0], maxlen=lemma_max_len, padding='post'))) \n",
        "  data_pad.append(np.array(pad_sequences(encodedData[1], maxlen=lemma_max_len, padding='post')))\n",
        "  data_pad.append(np.array(pad_sequences(encodedData[2], maxlen=root_max_len, padding='post')))\n",
        "  data_pad.append(np.array(pad_sequences(encodedData[3], maxlen=inflection_max_len, padding='post')))\n",
        "  data_pad.append(np.array(pad_sequences(encodedData[4], maxlen=inflection_max_len, padding='post')))\n",
        "  data_pad.append(np.array(encodedData[5]))\n",
        "  data_pad.append(np.array(encodedData[6]))\n",
        "  data_pad.append(np.array(encodedData[7]))\n",
        "  data_pad.append(np.array(encodedData[8]))\n",
        "\n",
        "  return data_pad\n",
        "\n",
        "trainData_pad = getPaddedData(trainData_encoded, lemma_max_len, root_max_len, inflection_max_len)\n",
        "devData_pad = getPaddedData(devData_encoded, lemma_max_len, root_max_len, inflection_max_len)\n",
        "testData_pad = getPaddedData(testData_encoded, lemma_max_len, root_max_len, inflection_max_len)\n",
        "\n",
        "print('lemma with pad shape train: ', trainData_pad[0].shape)\n",
        "print('lemma with pad shape dev: ', devData_pad[0].shape)\n",
        "print('lemma with pad shape test: ', testData_pad[0].shape)"
      ]
    },
    {
      "cell_type": "markdown",
      "metadata": {
        "id": "O45BUvM0ClaF"
      },
      "source": [
        "### **Create inputs of neural network**"
      ]
    },
    {
      "cell_type": "code",
      "execution_count": 45,
      "metadata": {
        "colab": {
          "base_uri": "https://localhost:8080/"
        },
        "id": "Cm__BnNyClaF",
        "outputId": "9bd88c7b-d7fd-4e75-edc8-9383e2570c1f"
      },
      "outputs": [
        {
          "output_type": "stream",
          "name": "stdout",
          "text": [
            "X_train_lemma shape:  (2475, 17)\n",
            "X_train_singularPattern shape:  (2475, 17)\n",
            "X_train_root shape:  (2475, 4)\n",
            "X_train_genRat shape:  (2475, 2)\n",
            "X_train_numOfRoot shape:  (2475, 1)\n",
            "y_train_class shape:  (2475, 1)\n",
            "y_train_plPattern shape:  (2475, 18)\n",
            "y_train_unflection shape:  (2475, 18)\n"
          ]
        }
      ],
      "source": [
        "# 0:lamma | 1:singular pattern | 2:root |3:inflection | 4:plural pattern | 5:plural type(B/S) | 6:gender | 7:rational | 8:number of root\n",
        "# create train set\n",
        "X_train_lemma = trainData_pad[0]  # lemma feature\n",
        "X_train_singularPattern = trainData_pad[1]  # singular pattern feature\n",
        "X_train_root = trainData_pad[2]  # root feature\n",
        "X_train_genRat = np.stack((trainData_pad[6], trainData_pad[7]), axis=-1)  # gender & rational features\n",
        "X_train_numOfRoot = trainData_pad[8].reshape((trainData_pad[8].shape[0], -1))  # number of root\n",
        "\n",
        "y_train_class = trainData_pad[5].reshape((trainData_pad[5].shape[0], -1))  # broken or sound classes\n",
        "y_train_plPattern = trainData_pad[4]  # plural pattern\n",
        "y_train_inflection = trainData_pad[3]  # inflection\n",
        "\n",
        "# create dev set\n",
        "X_dev_lemma = devData_pad[0]  # lemma feature\n",
        "X_dev_singularPattern = devData_pad[1]  # singular pattern feature\n",
        "X_dev_root = devData_pad[2]  # root feature\n",
        "X_dev_genRat = np.stack((devData_pad[6], devData_pad[7]), axis=-1)  # gender & rational features\n",
        "X_dev_numOfRoot = devData_pad[8].reshape((devData_pad[8].shape[0], -1))  # number of root\n",
        "\n",
        "y_dev_class = devData_pad[5].reshape((devData_pad[5].shape[0], -1))  # broken or sound classes\n",
        "y_dev_plPattern = devData_pad[4]  # plural pattern\n",
        "y_dev_inflection = devData_pad[3]  # inflection\n",
        "\n",
        "# create test set\n",
        "X_test_lemma = testData_pad[0]  # lemma feature\n",
        "X_test_singularPattern = testData_pad[1]  # singular pattern feature\n",
        "X_test_root = testData_pad[2]  # root feature\n",
        "X_test_genRat = np.stack((testData_pad[6], testData_pad[7]), axis=-1)  # gender & rational features\n",
        "X_test_numOfRoot = testData_pad[8].reshape((testData_pad[8].shape[0], -1))  # number of root\n",
        "\n",
        "y_test_class = testData_pad[5].reshape((testData_pad[5].shape[0], -1))  # broken or sound classes\n",
        "y_test_plPattern = testData_pad[4]  # plural pattern\n",
        "y_test_inflection = testData_pad[3]  # inflection\n",
        "\n",
        "print('X_train_lemma shape: ', X_train_lemma.shape)\n",
        "print('X_train_singularPattern shape: ', X_train_singularPattern.shape)\n",
        "print('X_train_root shape: ', X_train_root.shape)\n",
        "print('X_train_genRat shape: ', X_train_genRat.shape)\n",
        "print('X_train_numOfRoot shape: ', X_train_numOfRoot.shape)\n",
        "print('y_train_class shape: ', y_train_class.shape)\n",
        "print('y_train_plPattern shape: ', y_train_plPattern.shape)\n",
        "print('y_train_unflection shape: ', y_train_inflection.shape)"
      ]
    },
    {
      "cell_type": "code",
      "execution_count": 46,
      "metadata": {
        "colab": {
          "base_uri": "https://localhost:8080/"
        },
        "id": "z5tEprqGClaG",
        "outputId": "924789d5-a6c2-4e31-bd87-f09d201b424f"
      },
      "outputs": [
        {
          "output_type": "stream",
          "name": "stdout",
          "text": [
            "(2475, 17, 50)\n",
            "(2475, 17, 50)\n",
            "(2475, 4, 50)\n",
            "(2475, 18, 50)\n",
            "(2475, 18, 50)\n"
          ]
        }
      ],
      "source": [
        "# Convert to ONE-HOT encoding\n",
        "X_train_lemma_OH = to_categorical(X_train_lemma, len(char_index))\n",
        "X_train_singularPattern_OH = to_categorical(X_train_singularPattern, len(char_index))\n",
        "X_train_root_OH = to_categorical(X_train_root, len(char_index))\n",
        "\n",
        "X_dev_lemma_OH = to_categorical(X_dev_lemma, len(char_index))\n",
        "X_dev_singularPattern_OH = to_categorical(X_dev_singularPattern, len(char_index))\n",
        "X_dev_root_OH = to_categorical(X_dev_root, len(char_index))\n",
        "\n",
        "X_test_lemma_OH = to_categorical(X_test_lemma, len(char_index))\n",
        "X_test_singularPattern_OH = to_categorical(X_test_singularPattern, len(char_index))\n",
        "X_test_root_OH = to_categorical(X_test_root, len(char_index))\n",
        "\n",
        "y_train_plPattern_OH = to_categorical(y_train_plPattern, len(char_index))\n",
        "y_dev_plPattern_OH = to_categorical(y_dev_plPattern, len(char_index))\n",
        "y_test_plPattern_OH = to_categorical(y_test_plPattern, len(char_index))\n",
        "\n",
        "y_train_inflection_OH = to_categorical(y_train_inflection, len(char_index))\n",
        "y_dev_inflection_OH = to_categorical(y_dev_inflection, len(char_index))\n",
        "y_test_inflection_OH = to_categorical(y_test_inflection, len(char_index))\n",
        "\n",
        "print(X_train_lemma_OH.shape)\n",
        "print(X_train_singularPattern_OH.shape)\n",
        "print(X_train_root_OH.shape)\n",
        "print(y_train_plPattern_OH.shape)\n",
        "print(y_train_inflection_OH.shape)"
      ]
    },
    {
      "cell_type": "code",
      "execution_count": 47,
      "metadata": {
        "id": "IxUhzb3nClaG"
      },
      "outputs": [],
      "source": [
        "# covern numerical inputs to int32\n",
        "X_train_genRat = np.asarray(X_train_genRat).astype('int32')\n",
        "X_train_numOfRoot = np.asarray(X_train_numOfRoot).astype('int32')\n",
        "X_dev_genRat = np.asarray(X_dev_genRat).astype('int32')\n",
        "X_dev_numOfRoot = np.asarray(X_dev_numOfRoot).astype('int32')\n",
        "X_test_genRat = np.asarray(X_test_genRat).astype('int32')\n",
        "X_test_numOfRoot = np.asarray(X_test_numOfRoot).astype('int32')\n",
        "\n",
        "y_train_class = np.asarray(y_train_class).astype('int32')\n",
        "y_dev_class = np.asarray(y_dev_class).astype('int32')\n",
        "y_test_class = np.asarray(y_test_class).astype('int32')"
      ]
    },
    {
      "cell_type": "markdown",
      "metadata": {
        "id": "WO43412TA77a"
      },
      "source": [
        "## **Encoding Bert Inputs**"
      ]
    },
    {
      "cell_type": "code",
      "execution_count": 48,
      "metadata": {
        "id": "n4kA8ZNkBdTG"
      },
      "outputs": [],
      "source": [
        "max_len = 8\n",
        "\n",
        "def getBertInputs(data,max_len):\n",
        "  ids=[]\n",
        "  token_type_ids=[]\n",
        "  attention_mask=[]\n",
        "\n",
        "  for i in range(len(data[0])):\n",
        "    bert_tokenized = bert_tokenizer.encode_plus(\n",
        "        ''.join(getArabicForm(data[0][i])),\n",
        "        max_length=max_len,\n",
        "        add_special_tokens=True, # Add '[CLS]' and '[SEP]'\n",
        "        return_token_type_ids=True,\n",
        "        padding='max_length',  # Pad to longest in batch.\n",
        "        truncation=True,\n",
        "        return_attention_mask=True,\n",
        "        return_tensors='tf'  # Return PyTorch tensors\n",
        "    )\n",
        "    ids.append(bert_tokenized['input_ids'])\n",
        "    token_type_ids.append(bert_tokenized['token_type_ids'])\n",
        "    attention_mask.append(bert_tokenized['attention_mask'])\n",
        "  \n",
        "  return ids,token_type_ids,attention_mask\n",
        "\n",
        "trainBert_ids, trainBert_token_type, trainBert_attention_mask = getBertInputs(trainData, max_len)\n",
        "devBert_ids, devBert_token_type, devBert_attention_mask = getBertInputs(devData, max_len)\n",
        "testBert_ids, testBert_token_type, testBert_attention_mask = getBertInputs(testData, max_len)"
      ]
    },
    {
      "cell_type": "code",
      "execution_count": 49,
      "metadata": {
        "id": "paZGfm7erG6K",
        "colab": {
          "base_uri": "https://localhost:8080/"
        },
        "outputId": "d23be800-05b8-4038-ce10-68e6590b7747"
      },
      "outputs": [
        {
          "output_type": "stream",
          "name": "stdout",
          "text": [
            "2\n"
          ]
        }
      ],
      "source": [
        "print(min([np.count_nonzero(x==0) for x in trainBert_ids]))"
      ]
    },
    {
      "cell_type": "code",
      "execution_count": null,
      "metadata": {
        "id": "gY7JLXEEJCw8"
      },
      "outputs": [],
      "source": [
        "encoder = TFBertModel.from_pretrained(\"asafaya/bert-base-arabic\")\n",
        "\n",
        "def getEmbeding(ids,token_type,attention_mask,max_len):  \n",
        "  bert_embedding=[]\n",
        "  for i in range(len(ids)):\n",
        "    embedding_output = np.array(encoder(input_ids=ids[i], token_type_ids=token_type[i], attention_mask=attention_mask[i])[1])\n",
        "    embedding_output = embedding_output.reshape(embedding_output.shape[1])\n",
        "    bert_embedding.append(embedding_output)\n",
        "\n",
        "  bert_embedding = np.stack(bert_embedding, axis=0)\n",
        "  return bert_embedding\n",
        "\n",
        "'''with tf.device('/GPU:0'):\n",
        "  trainBert_embedding = getEmbeding(trainBert_ids, trainBert_token_type, trainBert_attention_mask, max_len)\n",
        "  np.save(dataPath+'/train_bert_embedding.npy', trainBert_embedding)\n",
        "  print('train is done!')\n",
        "  devBert_embedding = getEmbeding(devBert_ids, devBert_token_type, devBert_attention_mask, max_len)\n",
        "  np.save(dataPath+'/dev_bert_embedding.npy', devBert_embedding)\n",
        "  print('dev is done!')\n",
        "  testBert_embedding = getEmbeding(testBert_ids, testBert_token_type, testBert_attention_mask, max_len)\n",
        "  np.save(dataPath+'/test_bert_embedding.npy', testBert_embedding)\n",
        "  print('test is done!')\n",
        "  '''\n"
      ]
    },
    {
      "cell_type": "code",
      "execution_count": 51,
      "metadata": {
        "id": "qQsAFwOtvFxt"
      },
      "outputs": [],
      "source": [
        "# read bert_embedding from google drive\n",
        "trainBert_embedding = np.load(dataPath+'/train_bert_embedding.npy')\n",
        "devBert_embedding = np.load(dataPath+'/dev_bert_embedding.npy')\n",
        "testBert_embedding = np.load(dataPath+'/test_bert_embedding.npy')"
      ]
    },
    {
      "cell_type": "code",
      "execution_count": 52,
      "metadata": {
        "id": "inNPOD5aMDvp",
        "colab": {
          "base_uri": "https://localhost:8080/"
        },
        "outputId": "81a33ab9-3959-4be0-c4de-b9b0e19cb111"
      },
      "outputs": [
        {
          "output_type": "stream",
          "name": "stdout",
          "text": [
            "(2475, 768)\n",
            "(1060, 768)\n",
            "(1028, 768)\n"
          ]
        }
      ],
      "source": [
        "print(trainBert_embedding.shape)\n",
        "print(devBert_embedding.shape)\n",
        "print(testBert_embedding.shape)"
      ]
    },
    {
      "cell_type": "markdown",
      "metadata": {
        "id": "62hKeeV_2G77"
      },
      "source": [
        "### **Create inputs of neural network**"
      ]
    },
    {
      "cell_type": "code",
      "execution_count": 53,
      "metadata": {
        "id": "929QNlk72G7_",
        "colab": {
          "base_uri": "https://localhost:8080/"
        },
        "outputId": "9ec4c7cc-53ee-4427-bc6c-7dcec5db005e"
      },
      "outputs": [
        {
          "output_type": "stream",
          "name": "stdout",
          "text": [
            "X_train_bert shape:  (2475, 768)\n",
            "X_train_lemma shape:  (2475, 17)\n",
            "X_train_singularPattern shape:  (2475, 17)\n",
            "X_train_root shape:  (2475, 4)\n",
            "X_train_genRat shape:  (2475, 2)\n",
            "X_train_numOfRoot shape:  (2475, 1)\n",
            "y_train_class shape:  (2475, 1)\n",
            "y_train_plPattern shape:  (2475, 18)\n",
            "y_train_unflection shape:  (2475, 18)\n"
          ]
        }
      ],
      "source": [
        "# 0:lamma | 1:singular pattern | 2:root |3:inflection | 4:plural pattern | 5:plural type(B/S) | 6:gender | 7:rational | 8:number of root\n",
        "# create train set\n",
        "X_train_bert = trainBert_embedding\n",
        "X_train_lemma = trainData_pad[0]  # lemma feature\n",
        "X_train_singularPattern = trainData_pad[1]  # singular pattern feature\n",
        "X_train_root = trainData_pad[2]  # root feature\n",
        "X_train_genRat = np.stack((trainData_pad[6], trainData_pad[7]), axis=-1)  # gender & rational features\n",
        "X_train_numOfRoot = trainData_pad[8].reshape((trainData_pad[8].shape[0], -1))  # number of root\n",
        "\n",
        "y_train_class = trainData_pad[5].reshape((trainData_pad[5].shape[0], -1))  # broken or sound classes\n",
        "y_train_plPattern = trainData_pad[4]  # plural pattern\n",
        "y_train_inflection = trainData_pad[3]  # inflection\n",
        "\n",
        "# create dev set\n",
        "X_dev_bert = devBert_embedding\n",
        "X_dev_lemma = devData_pad[0]  # lemma feature\n",
        "X_dev_singularPattern = devData_pad[1]  # singular pattern feature\n",
        "X_dev_root = devData_pad[2]  # root feature\n",
        "X_dev_genRat = np.stack((devData_pad[6], devData_pad[7]), axis=-1)  # gender & rational features\n",
        "X_dev_numOfRoot = devData_pad[8].reshape((devData_pad[8].shape[0], -1))  # number of root\n",
        "\n",
        "y_dev_class = devData_pad[5].reshape((devData_pad[5].shape[0], -1))  # broken or sound classes\n",
        "y_dev_plPattern = devData_pad[4]  # plural pattern\n",
        "y_dev_inflection = devData_pad[3]  # inflection\n",
        "\n",
        "# create test set\n",
        "X_test_bert = testBert_embedding\n",
        "X_test_lemma = testData_pad[0]  # lemma feature\n",
        "X_test_singularPattern = testData_pad[1]  # singular pattern feature\n",
        "X_test_root = testData_pad[2]  # root feature\n",
        "X_test_genRat = np.stack((testData_pad[6], testData_pad[7]), axis=-1)  # gender & rational features\n",
        "X_test_numOfRoot = testData_pad[8].reshape((testData_pad[8].shape[0], -1))  # number of root\n",
        "\n",
        "y_test_class = testData_pad[5].reshape((testData_pad[5].shape[0], -1))  # broken or sound classes\n",
        "y_test_plPattern = testData_pad[4]  # plural pattern\n",
        "y_test_inflection = testData_pad[3]  # inflection\n",
        "\n",
        "print('X_train_bert shape: ', X_train_bert.shape)\n",
        "print('X_train_lemma shape: ', X_train_lemma.shape)\n",
        "print('X_train_singularPattern shape: ', X_train_singularPattern.shape)\n",
        "print('X_train_root shape: ', X_train_root.shape)\n",
        "print('X_train_genRat shape: ', X_train_genRat.shape)\n",
        "print('X_train_numOfRoot shape: ', X_train_numOfRoot.shape)\n",
        "print('y_train_class shape: ', y_train_class.shape)\n",
        "print('y_train_plPattern shape: ', y_train_plPattern.shape)\n",
        "print('y_train_unflection shape: ', y_train_inflection.shape)"
      ]
    },
    {
      "cell_type": "code",
      "execution_count": 54,
      "metadata": {
        "id": "s9p_i-u-2G8K",
        "colab": {
          "base_uri": "https://localhost:8080/"
        },
        "outputId": "c280dc97-9dda-4a74-fc06-f17a549821eb"
      },
      "outputs": [
        {
          "output_type": "stream",
          "name": "stdout",
          "text": [
            "(2475, 17, 50)\n",
            "(2475, 17, 50)\n",
            "(2475, 4, 50)\n",
            "(2475, 18, 50)\n",
            "(2475, 18, 50)\n"
          ]
        }
      ],
      "source": [
        "# Convert to ONE-HOT encoding\n",
        "X_train_lemma_OH = to_categorical(X_train_lemma, len(char_index))\n",
        "X_train_singularPattern_OH = to_categorical(X_train_singularPattern, len(char_index))\n",
        "X_train_root_OH = to_categorical(X_train_root, len(char_index))\n",
        "\n",
        "X_dev_lemma_OH = to_categorical(X_dev_lemma, len(char_index))\n",
        "X_dev_singularPattern_OH = to_categorical(X_dev_singularPattern, len(char_index))\n",
        "X_dev_root_OH = to_categorical(X_dev_root, len(char_index))\n",
        "\n",
        "X_test_lemma_OH = to_categorical(X_test_lemma, len(char_index))\n",
        "X_test_singularPattern_OH = to_categorical(X_test_singularPattern, len(char_index))\n",
        "X_test_root_OH = to_categorical(X_test_root, len(char_index))\n",
        "\n",
        "y_train_plPattern_OH = to_categorical(y_train_plPattern, len(char_index))\n",
        "y_dev_plPattern_OH = to_categorical(y_dev_plPattern, len(char_index))\n",
        "y_test_plPattern_OH = to_categorical(y_test_plPattern, len(char_index))\n",
        "\n",
        "y_train_inflection_OH = to_categorical(y_train_inflection, len(char_index))\n",
        "y_dev_inflection_OH = to_categorical(y_dev_inflection, len(char_index))\n",
        "y_test_inflection_OH = to_categorical(y_test_inflection, len(char_index))\n",
        "\n",
        "print(X_train_lemma_OH.shape)\n",
        "print(X_train_singularPattern_OH.shape)\n",
        "print(X_train_root_OH.shape)\n",
        "print(y_train_plPattern_OH.shape)\n",
        "print(y_train_inflection_OH.shape)"
      ]
    },
    {
      "cell_type": "code",
      "execution_count": 55,
      "metadata": {
        "id": "4JFJCYFv2G8P"
      },
      "outputs": [],
      "source": [
        "# convert numerical inputs to int32\n",
        "X_train_genRat = np.asarray(X_train_genRat).astype('int32')\n",
        "X_train_numOfRoot = np.asarray(X_train_numOfRoot).astype('int32')\n",
        "X_dev_genRat = np.asarray(X_dev_genRat).astype('int32')\n",
        "X_dev_numOfRoot = np.asarray(X_dev_numOfRoot).astype('int32')\n",
        "X_test_genRat = np.asarray(X_test_genRat).astype('int32')\n",
        "X_test_numOfRoot = np.asarray(X_test_numOfRoot).astype('int32')\n",
        "\n",
        "y_train_class = np.asarray(y_train_class).astype('int32')\n",
        "y_dev_class = np.asarray(y_dev_class).astype('int32')\n",
        "y_test_class = np.asarray(y_test_class).astype('int32')"
      ]
    },
    {
      "cell_type": "markdown",
      "metadata": {
        "id": "JUh5iUSmzZhO"
      },
      "source": [
        "## **Modify new dataset and retrieving**"
      ]
    },
    {
      "cell_type": "code",
      "execution_count": 56,
      "metadata": {
        "id": "5b3sK5EPz8jK"
      },
      "outputs": [],
      "source": [
        "ara_train = dataPath + '/ara_1000.train'\n",
        "ara_dev = dataPath + '/ara.dev'\n",
        "ara_test = dataPath + '/ara.gold'\n",
        "\n",
        "ara_train = pd.read_csv(ara_train, header=None)\n",
        "ara_dev = pd.read_csv(ara_dev, header=None)\n",
        "ara_test = pd.read_csv(ara_test, header=None)"
      ]
    },
    {
      "cell_type": "code",
      "execution_count": 57,
      "metadata": {
        "id": "wJ_MJb2iJ0Yl"
      },
      "outputs": [],
      "source": [
        "# seperate data to singulr, plural, and spec sections\n",
        "def fixDataset(dataframe):\n",
        "  newDF = pd.DataFrame(columns=['lemma', 'inflection', 'SPEC'])\n",
        "  for elm in dataframe[0].tolist():\n",
        "    sample = elm.split('\\t')\n",
        "    splitted_spec = sample[2].split(';') # splitted_spec[1]: Rational, splitted_spec[2]: Gender\n",
        "    dfsample = {'lemma': sample[0], 'inflection': sample[1], \n",
        "                'GEN': 'm' if splitted_spec[2]=='MASC' else 'f',\n",
        "                'RAT': 'r' if splitted_spec[1]=='HUM' else 'i', \n",
        "                'SPEC': sample[2]}\n",
        "    newDF = newDF.append(dfsample, ignore_index=True)\n",
        "\n",
        "  return newDF\n",
        "\n",
        "fixed_ara_train = fixDataset(ara_train)\n",
        "fixed_ara_dev = fixDataset(ara_dev)\n",
        "fixed_ara_test = fixDataset(ara_test)\n",
        "\n",
        "# convert data to BW form \n",
        "bw_train_data = pd.DataFrame({'lemma': getBWForm(fixed_ara_train['lemma'].tolist()), \n",
        "                      'inflection': getBWForm(fixed_ara_train['inflection'].tolist()),\n",
        "                      'GEN': fixed_ara_train['GEN'].tolist(),\n",
        "                      'RAT': fixed_ara_train['RAT'].tolist(), \n",
        "                      'SPEC': fixed_ara_train['SPEC'].tolist()})\n",
        "\n",
        "# convert data to BW form \n",
        "bw_dev_data = pd.DataFrame({'lemma': getBWForm(fixed_ara_dev['lemma'].tolist()), \n",
        "                      'inflection': getBWForm(fixed_ara_dev['inflection'].tolist()),\n",
        "                      'GEN': fixed_ara_dev['GEN'].tolist(),\n",
        "                      'RAT': fixed_ara_dev['RAT'].tolist(), \n",
        "                      'SPEC': fixed_ara_dev['SPEC'].tolist()})\n",
        "\n",
        "# convert data to BW form \n",
        "bw_test_data = pd.DataFrame({'lemma': getBWForm(fixed_ara_test['lemma'].tolist()), \n",
        "                      'inflection': getBWForm(fixed_ara_test['inflection'].tolist()),\n",
        "                      'GEN': fixed_ara_test['GEN'].tolist(),\n",
        "                      'RAT': fixed_ara_test['RAT'].tolist(), \n",
        "                      'SPEC': fixed_ara_test['SPEC'].tolist()})\n",
        "\n",
        "bw_train_data.to_csv(dataPath + '/ara_train_BWForm.csv')\n",
        "bw_dev_data.to_csv(dataPath + '/ara_dev_BWForm.csv')\n",
        "bw_test_data.to_csv(dataPath + '/ara_test_BWForm.csv')"
      ]
    },
    {
      "cell_type": "code",
      "execution_count": 58,
      "metadata": {
        "colab": {
          "base_uri": "https://localhost:8080/",
          "height": 206
        },
        "id": "_d2cKmAKy2VN",
        "outputId": "65a76634-0bee-46eb-8a15-f5aeeb1ee251"
      },
      "outputs": [
        {
          "output_type": "execute_result",
          "data": {
            "text/plain": [
              "   Unnamed: 0     lemma  inflection GEN RAT            SPEC\n",
              "0           0     sAHap       sAHAt   f   i   N;NHUM;FEM;PL\n",
              "1           1     >amor      >umuwr   m   i  N;NHUM;MASC;PL\n",
              "2           2    >uma~p       >umam   f   i   N;NHUM;FEM;PL\n",
              "3           3   jalosap     jalasAt   f   i   N;NHUM;FEM;PL\n",
              "4           4  {iti~hAm  Aiti~hAmAt   m   i  N;NHUM;MASC;PL"
            ],
            "text/html": [
              "\n",
              "  <div id=\"df-c0993ca4-b875-434b-8524-d735b34c2870\">\n",
              "    <div class=\"colab-df-container\">\n",
              "      <div>\n",
              "<style scoped>\n",
              "    .dataframe tbody tr th:only-of-type {\n",
              "        vertical-align: middle;\n",
              "    }\n",
              "\n",
              "    .dataframe tbody tr th {\n",
              "        vertical-align: top;\n",
              "    }\n",
              "\n",
              "    .dataframe thead th {\n",
              "        text-align: right;\n",
              "    }\n",
              "</style>\n",
              "<table border=\"1\" class=\"dataframe\">\n",
              "  <thead>\n",
              "    <tr style=\"text-align: right;\">\n",
              "      <th></th>\n",
              "      <th>Unnamed: 0</th>\n",
              "      <th>lemma</th>\n",
              "      <th>inflection</th>\n",
              "      <th>GEN</th>\n",
              "      <th>RAT</th>\n",
              "      <th>SPEC</th>\n",
              "    </tr>\n",
              "  </thead>\n",
              "  <tbody>\n",
              "    <tr>\n",
              "      <th>0</th>\n",
              "      <td>0</td>\n",
              "      <td>sAHap</td>\n",
              "      <td>sAHAt</td>\n",
              "      <td>f</td>\n",
              "      <td>i</td>\n",
              "      <td>N;NHUM;FEM;PL</td>\n",
              "    </tr>\n",
              "    <tr>\n",
              "      <th>1</th>\n",
              "      <td>1</td>\n",
              "      <td>&gt;amor</td>\n",
              "      <td>&gt;umuwr</td>\n",
              "      <td>m</td>\n",
              "      <td>i</td>\n",
              "      <td>N;NHUM;MASC;PL</td>\n",
              "    </tr>\n",
              "    <tr>\n",
              "      <th>2</th>\n",
              "      <td>2</td>\n",
              "      <td>&gt;uma~p</td>\n",
              "      <td>&gt;umam</td>\n",
              "      <td>f</td>\n",
              "      <td>i</td>\n",
              "      <td>N;NHUM;FEM;PL</td>\n",
              "    </tr>\n",
              "    <tr>\n",
              "      <th>3</th>\n",
              "      <td>3</td>\n",
              "      <td>jalosap</td>\n",
              "      <td>jalasAt</td>\n",
              "      <td>f</td>\n",
              "      <td>i</td>\n",
              "      <td>N;NHUM;FEM;PL</td>\n",
              "    </tr>\n",
              "    <tr>\n",
              "      <th>4</th>\n",
              "      <td>4</td>\n",
              "      <td>{iti~hAm</td>\n",
              "      <td>Aiti~hAmAt</td>\n",
              "      <td>m</td>\n",
              "      <td>i</td>\n",
              "      <td>N;NHUM;MASC;PL</td>\n",
              "    </tr>\n",
              "  </tbody>\n",
              "</table>\n",
              "</div>\n",
              "      <button class=\"colab-df-convert\" onclick=\"convertToInteractive('df-c0993ca4-b875-434b-8524-d735b34c2870')\"\n",
              "              title=\"Convert this dataframe to an interactive table.\"\n",
              "              style=\"display:none;\">\n",
              "        \n",
              "  <svg xmlns=\"http://www.w3.org/2000/svg\" height=\"24px\"viewBox=\"0 0 24 24\"\n",
              "       width=\"24px\">\n",
              "    <path d=\"M0 0h24v24H0V0z\" fill=\"none\"/>\n",
              "    <path d=\"M18.56 5.44l.94 2.06.94-2.06 2.06-.94-2.06-.94-.94-2.06-.94 2.06-2.06.94zm-11 1L8.5 8.5l.94-2.06 2.06-.94-2.06-.94L8.5 2.5l-.94 2.06-2.06.94zm10 10l.94 2.06.94-2.06 2.06-.94-2.06-.94-.94-2.06-.94 2.06-2.06.94z\"/><path d=\"M17.41 7.96l-1.37-1.37c-.4-.4-.92-.59-1.43-.59-.52 0-1.04.2-1.43.59L10.3 9.45l-7.72 7.72c-.78.78-.78 2.05 0 2.83L4 21.41c.39.39.9.59 1.41.59.51 0 1.02-.2 1.41-.59l7.78-7.78 2.81-2.81c.8-.78.8-2.07 0-2.86zM5.41 20L4 18.59l7.72-7.72 1.47 1.35L5.41 20z\"/>\n",
              "  </svg>\n",
              "      </button>\n",
              "      \n",
              "  <style>\n",
              "    .colab-df-container {\n",
              "      display:flex;\n",
              "      flex-wrap:wrap;\n",
              "      gap: 12px;\n",
              "    }\n",
              "\n",
              "    .colab-df-convert {\n",
              "      background-color: #E8F0FE;\n",
              "      border: none;\n",
              "      border-radius: 50%;\n",
              "      cursor: pointer;\n",
              "      display: none;\n",
              "      fill: #1967D2;\n",
              "      height: 32px;\n",
              "      padding: 0 0 0 0;\n",
              "      width: 32px;\n",
              "    }\n",
              "\n",
              "    .colab-df-convert:hover {\n",
              "      background-color: #E2EBFA;\n",
              "      box-shadow: 0px 1px 2px rgba(60, 64, 67, 0.3), 0px 1px 3px 1px rgba(60, 64, 67, 0.15);\n",
              "      fill: #174EA6;\n",
              "    }\n",
              "\n",
              "    [theme=dark] .colab-df-convert {\n",
              "      background-color: #3B4455;\n",
              "      fill: #D2E3FC;\n",
              "    }\n",
              "\n",
              "    [theme=dark] .colab-df-convert:hover {\n",
              "      background-color: #434B5C;\n",
              "      box-shadow: 0px 1px 3px 1px rgba(0, 0, 0, 0.15);\n",
              "      filter: drop-shadow(0px 1px 2px rgba(0, 0, 0, 0.3));\n",
              "      fill: #FFFFFF;\n",
              "    }\n",
              "  </style>\n",
              "\n",
              "      <script>\n",
              "        const buttonEl =\n",
              "          document.querySelector('#df-c0993ca4-b875-434b-8524-d735b34c2870 button.colab-df-convert');\n",
              "        buttonEl.style.display =\n",
              "          google.colab.kernel.accessAllowed ? 'block' : 'none';\n",
              "\n",
              "        async function convertToInteractive(key) {\n",
              "          const element = document.querySelector('#df-c0993ca4-b875-434b-8524-d735b34c2870');\n",
              "          const dataTable =\n",
              "            await google.colab.kernel.invokeFunction('convertToInteractive',\n",
              "                                                     [key], {});\n",
              "          if (!dataTable) return;\n",
              "\n",
              "          const docLinkHtml = 'Like what you see? Visit the ' +\n",
              "            '<a target=\"_blank\" href=https://colab.research.google.com/notebooks/data_table.ipynb>data table notebook</a>'\n",
              "            + ' to learn more about interactive tables.';\n",
              "          element.innerHTML = '';\n",
              "          dataTable['output_type'] = 'display_data';\n",
              "          await google.colab.output.renderOutput(dataTable, element);\n",
              "          const docLink = document.createElement('div');\n",
              "          docLink.innerHTML = docLinkHtml;\n",
              "          element.appendChild(docLink);\n",
              "        }\n",
              "      </script>\n",
              "    </div>\n",
              "  </div>\n",
              "  "
            ]
          },
          "metadata": {},
          "execution_count": 58
        }
      ],
      "source": [
        "# read new data from google drive path that were modified\n",
        "ara_trainData_csv_new = pd.read_csv(dataPath + '/ara_train_BWForm.csv')\n",
        "ara_devData_csv_new = pd.read_csv(dataPath + '/ara_dev_BWForm.csv')\n",
        "ara_testData_csv_new = pd.read_csv(dataPath + '/ara_test_BWForm.csv')\n",
        "ara_trainData_csv_new.head()"
      ]
    },
    {
      "cell_type": "code",
      "execution_count": 59,
      "metadata": {
        "colab": {
          "base_uri": "https://localhost:8080/",
          "height": 206
        },
        "id": "bzASlleHAEoL",
        "outputId": "2f900c41-104b-4578-eab5-b57324b2417b"
      },
      "outputs": [
        {
          "output_type": "execute_result",
          "data": {
            "text/plain": [
              "   Unnamed: 0      lemma   inflection  GEN  RAT            SPEC\n",
              "0           0   Turobiyd  TuwrobiydAt    1    0  N;NHUM;MASC;PL\n",
              "1           1   mawoluwd     mawAliyd    1    1   N;HUM;MASC;PL\n",
              "2           2  Daruwriy~  Daruwriy~At    0    0   N;NHUM;FEM;PL\n",
              "3           3   maEoniy~  maEoniyi~yn    1    0  N;NHUM;MASC;PL\n",
              "4           4      jidAr      judorAn    1    0  N;NHUM;MASC;PL"
            ],
            "text/html": [
              "\n",
              "  <div id=\"df-30414294-0516-462c-be4f-23e683e76d21\">\n",
              "    <div class=\"colab-df-container\">\n",
              "      <div>\n",
              "<style scoped>\n",
              "    .dataframe tbody tr th:only-of-type {\n",
              "        vertical-align: middle;\n",
              "    }\n",
              "\n",
              "    .dataframe tbody tr th {\n",
              "        vertical-align: top;\n",
              "    }\n",
              "\n",
              "    .dataframe thead th {\n",
              "        text-align: right;\n",
              "    }\n",
              "</style>\n",
              "<table border=\"1\" class=\"dataframe\">\n",
              "  <thead>\n",
              "    <tr style=\"text-align: right;\">\n",
              "      <th></th>\n",
              "      <th>Unnamed: 0</th>\n",
              "      <th>lemma</th>\n",
              "      <th>inflection</th>\n",
              "      <th>GEN</th>\n",
              "      <th>RAT</th>\n",
              "      <th>SPEC</th>\n",
              "    </tr>\n",
              "  </thead>\n",
              "  <tbody>\n",
              "    <tr>\n",
              "      <th>0</th>\n",
              "      <td>0</td>\n",
              "      <td>Turobiyd</td>\n",
              "      <td>TuwrobiydAt</td>\n",
              "      <td>1</td>\n",
              "      <td>0</td>\n",
              "      <td>N;NHUM;MASC;PL</td>\n",
              "    </tr>\n",
              "    <tr>\n",
              "      <th>1</th>\n",
              "      <td>1</td>\n",
              "      <td>mawoluwd</td>\n",
              "      <td>mawAliyd</td>\n",
              "      <td>1</td>\n",
              "      <td>1</td>\n",
              "      <td>N;HUM;MASC;PL</td>\n",
              "    </tr>\n",
              "    <tr>\n",
              "      <th>2</th>\n",
              "      <td>2</td>\n",
              "      <td>Daruwriy~</td>\n",
              "      <td>Daruwriy~At</td>\n",
              "      <td>0</td>\n",
              "      <td>0</td>\n",
              "      <td>N;NHUM;FEM;PL</td>\n",
              "    </tr>\n",
              "    <tr>\n",
              "      <th>3</th>\n",
              "      <td>3</td>\n",
              "      <td>maEoniy~</td>\n",
              "      <td>maEoniyi~yn</td>\n",
              "      <td>1</td>\n",
              "      <td>0</td>\n",
              "      <td>N;NHUM;MASC;PL</td>\n",
              "    </tr>\n",
              "    <tr>\n",
              "      <th>4</th>\n",
              "      <td>4</td>\n",
              "      <td>jidAr</td>\n",
              "      <td>judorAn</td>\n",
              "      <td>1</td>\n",
              "      <td>0</td>\n",
              "      <td>N;NHUM;MASC;PL</td>\n",
              "    </tr>\n",
              "  </tbody>\n",
              "</table>\n",
              "</div>\n",
              "      <button class=\"colab-df-convert\" onclick=\"convertToInteractive('df-30414294-0516-462c-be4f-23e683e76d21')\"\n",
              "              title=\"Convert this dataframe to an interactive table.\"\n",
              "              style=\"display:none;\">\n",
              "        \n",
              "  <svg xmlns=\"http://www.w3.org/2000/svg\" height=\"24px\"viewBox=\"0 0 24 24\"\n",
              "       width=\"24px\">\n",
              "    <path d=\"M0 0h24v24H0V0z\" fill=\"none\"/>\n",
              "    <path d=\"M18.56 5.44l.94 2.06.94-2.06 2.06-.94-2.06-.94-.94-2.06-.94 2.06-2.06.94zm-11 1L8.5 8.5l.94-2.06 2.06-.94-2.06-.94L8.5 2.5l-.94 2.06-2.06.94zm10 10l.94 2.06.94-2.06 2.06-.94-2.06-.94-.94-2.06-.94 2.06-2.06.94z\"/><path d=\"M17.41 7.96l-1.37-1.37c-.4-.4-.92-.59-1.43-.59-.52 0-1.04.2-1.43.59L10.3 9.45l-7.72 7.72c-.78.78-.78 2.05 0 2.83L4 21.41c.39.39.9.59 1.41.59.51 0 1.02-.2 1.41-.59l7.78-7.78 2.81-2.81c.8-.78.8-2.07 0-2.86zM5.41 20L4 18.59l7.72-7.72 1.47 1.35L5.41 20z\"/>\n",
              "  </svg>\n",
              "      </button>\n",
              "      \n",
              "  <style>\n",
              "    .colab-df-container {\n",
              "      display:flex;\n",
              "      flex-wrap:wrap;\n",
              "      gap: 12px;\n",
              "    }\n",
              "\n",
              "    .colab-df-convert {\n",
              "      background-color: #E8F0FE;\n",
              "      border: none;\n",
              "      border-radius: 50%;\n",
              "      cursor: pointer;\n",
              "      display: none;\n",
              "      fill: #1967D2;\n",
              "      height: 32px;\n",
              "      padding: 0 0 0 0;\n",
              "      width: 32px;\n",
              "    }\n",
              "\n",
              "    .colab-df-convert:hover {\n",
              "      background-color: #E2EBFA;\n",
              "      box-shadow: 0px 1px 2px rgba(60, 64, 67, 0.3), 0px 1px 3px 1px rgba(60, 64, 67, 0.15);\n",
              "      fill: #174EA6;\n",
              "    }\n",
              "\n",
              "    [theme=dark] .colab-df-convert {\n",
              "      background-color: #3B4455;\n",
              "      fill: #D2E3FC;\n",
              "    }\n",
              "\n",
              "    [theme=dark] .colab-df-convert:hover {\n",
              "      background-color: #434B5C;\n",
              "      box-shadow: 0px 1px 3px 1px rgba(0, 0, 0, 0.15);\n",
              "      filter: drop-shadow(0px 1px 2px rgba(0, 0, 0, 0.3));\n",
              "      fill: #FFFFFF;\n",
              "    }\n",
              "  </style>\n",
              "\n",
              "      <script>\n",
              "        const buttonEl =\n",
              "          document.querySelector('#df-30414294-0516-462c-be4f-23e683e76d21 button.colab-df-convert');\n",
              "        buttonEl.style.display =\n",
              "          google.colab.kernel.accessAllowed ? 'block' : 'none';\n",
              "\n",
              "        async function convertToInteractive(key) {\n",
              "          const element = document.querySelector('#df-30414294-0516-462c-be4f-23e683e76d21');\n",
              "          const dataTable =\n",
              "            await google.colab.kernel.invokeFunction('convertToInteractive',\n",
              "                                                     [key], {});\n",
              "          if (!dataTable) return;\n",
              "\n",
              "          const docLinkHtml = 'Like what you see? Visit the ' +\n",
              "            '<a target=\"_blank\" href=https://colab.research.google.com/notebooks/data_table.ipynb>data table notebook</a>'\n",
              "            + ' to learn more about interactive tables.';\n",
              "          element.innerHTML = '';\n",
              "          dataTable['output_type'] = 'display_data';\n",
              "          await google.colab.output.renderOutput(dataTable, element);\n",
              "          const docLink = document.createElement('div');\n",
              "          docLink.innerHTML = docLinkHtml;\n",
              "          element.appendChild(docLink);\n",
              "        }\n",
              "      </script>\n",
              "    </div>\n",
              "  </div>\n",
              "  "
            ]
          },
          "metadata": {},
          "execution_count": 59
        }
      ],
      "source": [
        "categorical_attr = ['GEN', 'RAT']\n",
        "\n",
        "le = LabelEncoder()\n",
        "ara_trainData_csv_new[categorical_attr] = ara_trainData_csv_new[categorical_attr].apply(le.fit_transform, axis=0)\n",
        "\n",
        "le = LabelEncoder()\n",
        "ara_devData_csv_new[categorical_attr] = ara_devData_csv_new[categorical_attr].apply(le.fit_transform, axis=0)\n",
        "\n",
        "le = LabelEncoder()\n",
        "ara_testData_csv_new[categorical_attr] = ara_testData_csv_new[categorical_attr].apply(le.fit_transform, axis=0)\n",
        "\n",
        "ara_testData_csv_new.head()"
      ]
    },
    {
      "cell_type": "code",
      "execution_count": 60,
      "metadata": {
        "id": "bf-b2QRjXV1O",
        "colab": {
          "base_uri": "https://localhost:8080/"
        },
        "outputId": "7482b02c-2a11-486d-872f-8b6a53ba96c7"
      },
      "outputs": [
        {
          "output_type": "execute_result",
          "data": {
            "text/plain": [
              "(1000, 343, 600)"
            ]
          },
          "metadata": {},
          "execution_count": 60
        }
      ],
      "source": [
        "#Convert data to list\n",
        "def getListOfnewData(dataFrame):\n",
        "  '''\n",
        "  Output type->List : 0:lamma | 1:inflection | 2:gender | 3:rational\n",
        "  '''\n",
        "  data = [] \n",
        "  data.append(dataFrame['lemma'].tolist())\n",
        "  data.append(dataFrame['inflection'].tolist())\n",
        "  data.append(dataFrame['GEN'].tolist())\n",
        "  data.append(dataFrame['RAT'].tolist())\n",
        "  data.append(getArabicForm(dataFrame['lemma'].tolist()))\n",
        "\n",
        "  return data\n",
        "\n",
        "trainData_new = getListOfnewData(ara_trainData_csv_new)\n",
        "devData_new   = getListOfnewData(ara_devData_csv_new)\n",
        "testData_new  = getListOfnewData(ara_testData_csv_new)\n",
        "\n",
        "is_newDataOrginal=True\n",
        "\n",
        "len(trainData_new[0]) ,len(devData_new[0]), len(testData_new[0])"
      ]
    },
    {
      "cell_type": "markdown",
      "metadata": {
        "id": "tUX8Rab-DUup"
      },
      "source": [
        "## **Work on new data duplicates**"
      ]
    },
    {
      "cell_type": "code",
      "execution_count": 61,
      "metadata": {
        "id": "fnxUFxesDwlE",
        "colab": {
          "base_uri": "https://localhost:8080/"
        },
        "outputId": "c6eff3cf-d17c-4fbd-8dae-c6380a04d192"
      },
      "outputs": [
        {
          "output_type": "stream",
          "name": "stdout",
          "text": [
            "duplicate indexes has been updated\n",
            "Report Error Analysis on duplicates has been saved in /content/drive/MyDrive/AI Projects/Arabic Broken Plural/Datasets analysis path\n"
          ]
        }
      ],
      "source": [
        "if is_newDataOrginal:\n",
        "  #Save similar lemmas indexes in dictionary (key->lemma | value->list of indexes)\n",
        "  trainDupIndex_new=getDuplicateIndexes(trainData_new)\n",
        "  devDupIndex_new=getDuplicateIndexes(devData_new)\n",
        "  testDupIndex_new=getDuplicateIndexes(testData_new)\n",
        "  print(\"duplicate indexes has been updated\")\n",
        "\n",
        "if is_newDataOrginal:\n",
        "  #Save Duplicate report on data in csv\n",
        "  DataDuplicateCsv_new=reportErrorAnalysis_duplicates(ara_trainData_csv_new,trainDupIndex_new,data_analysis_path+\"/duplicateAnalysis_train_new.csv\")\n",
        "  DataDuplicateCsv_new=reportErrorAnalysis_duplicates(ara_devData_csv_new,devDupIndex_new,data_analysis_path+\"/duplicateAnalysis_dev_new.csv\")\n",
        "  DataDuplicateCsv_new=reportErrorAnalysis_duplicates(ara_testData_csv_new,testDupIndex_new,data_analysis_path+\"/duplicateAnalysis_test_new.csv\")\n",
        "  print(\"Report Error Analysis on duplicates has been saved in /content/drive/MyDrive/AI Projects/Arabic Broken Plural/Datasets analysis path\")"
      ]
    },
    {
      "cell_type": "code",
      "execution_count": 62,
      "metadata": {
        "id": "QkhwJEWtQJ7v",
        "colab": {
          "base_uri": "https://localhost:8080/"
        },
        "outputId": "a29ded05-7d93-4345-c495-ede695b0b7d8"
      },
      "outputs": [
        {
          "output_type": "stream",
          "name": "stdout",
          "text": [
            "Number Of Lemmas before Dropping duplicates in Train Set:  1000\n",
            "Number Of Lemmas before Dropping duplicates in Test Set:  343\n",
            "Number Of Lemmas before Dropping duplicates in Dev Set:  600\n",
            "=============================================================\n",
            "Number Of Lemmas After Dropping duplicates in Train Set:  1000\n",
            "Number Of Lemmas After Dropping duplicates in Test Set:  343\n",
            "Number Of Lemmas After Dropping duplicates in Dev Set:  600\n"
          ]
        }
      ],
      "source": [
        "trainDataUnique_new=getUniqueData(trainData_new,trainDupIndex_new)\n",
        "devDataUnique_new=getUniqueData(devData_new,devDupIndex_new)\n",
        "testDataUnique_new=getUniqueData(testData_new,testDupIndex_new)\n",
        "print(\"Number Of Lemmas before Dropping duplicates in Train Set: \", len(trainData_new[0]))\n",
        "print(\"Number Of Lemmas before Dropping duplicates in Test Set: \",len(devData_new[0]))\n",
        "print(\"Number Of Lemmas before Dropping duplicates in Dev Set: \",len(testData_new[0]))\n",
        "print(\"=============================================================\")\n",
        "print(\"Number Of Lemmas After Dropping duplicates in Train Set: \", len(trainDataUnique_new[0]))\n",
        "print(\"Number Of Lemmas After Dropping duplicates in Test Set: \",len(devDataUnique_new[0]))\n",
        "print(\"Number Of Lemmas After Dropping duplicates in Dev Set: \",len(testDataUnique_new[0]))"
      ]
    },
    {
      "cell_type": "code",
      "execution_count": 63,
      "metadata": {
        "id": "yedtreeaT8tc"
      },
      "outputs": [],
      "source": [
        "trainFixedData_new , _ = fixInflections(trainDataUnique_new,1,dic_lemmaInflection)\n",
        "devFixedData_new , _ = fixInflections(devDataUnique_new,1,dic_lemmaInflection)\n",
        "testFixedData_new ,_ = fixInflections(testDataUnique_new,1,dic_lemmaInflection)\n"
      ]
    },
    {
      "cell_type": "code",
      "execution_count": 64,
      "metadata": {
        "id": "RenstL7Vos1K",
        "colab": {
          "base_uri": "https://localhost:8080/"
        },
        "outputId": "f50d0392-03be-436c-b7bb-259146609007"
      },
      "outputs": [
        {
          "output_type": "stream",
          "name": "stdout",
          "text": [
            "2742\n",
            "2784\n",
            "2844\n"
          ]
        }
      ],
      "source": [
        "#Update New Lemmas In Dictionary\n",
        "if is_newDataOrginal:\n",
        "  dic_lemmaInflection = updateDic_lemmaInflection(trainFixedData_new,1,trainDupIndex_new,dic_lemmaInflection)\n",
        "  print(len(dic_lemmaInflection))\n",
        "  dic_lemmaInflection = updateDic_lemmaInflection(devFixedData_new,1,devDupIndex_new,dic_lemmaInflection)\n",
        "  print(len(dic_lemmaInflection))\n",
        "  dic_lemmaInflection = updateDic_lemmaInflection(testFixedData_new,1,testDupIndex_new,dic_lemmaInflection)\n",
        "  print(len(dic_lemmaInflection))"
      ]
    },
    {
      "cell_type": "code",
      "execution_count": 65,
      "metadata": {
        "id": "TJfBBVnxkgw0"
      },
      "outputs": [],
      "source": [
        "if is_newDataOrginal:\n",
        "  trainData_new=trainFixedData_new\n",
        "  devData_new=devFixedData_new\n",
        "  testData_new=testFixedData_new\n",
        "  is_newDataOrginal=False\n",
        "else:\n",
        "  print(\"Warning!!! duplicate rows has already been dropped from data.(skipped this step)\")"
      ]
    },
    {
      "cell_type": "markdown",
      "metadata": {
        "id": "4MFDQIHuClaE"
      },
      "source": [
        "## **Analyzing Datasets**"
      ]
    },
    {
      "cell_type": "code",
      "execution_count": 66,
      "metadata": {
        "id": "J0SyPuBTsAQf"
      },
      "outputs": [],
      "source": [
        "# generate samples of a dataset which are not in another dataset\n",
        "def generateUnseenSamples(first_dataset, second_dataset, new=False):\n",
        "  lemma_index = 0\n",
        "  if new:\n",
        "    inf_index = 1\n",
        "  else:\n",
        "    inf_index = 3\n",
        "  # approach 1: compare with lemma\n",
        "  existenceOfFirstDatasetElementsInAnother = np.array([lemma in second_dataset[lemma_index] for lemma in first_dataset[lemma_index]])\n",
        "  unseenLemmaIndices = np.where(existenceOfFirstDatasetElementsInAnother==False)[0]\n",
        "  num_unseen_approach1 = np.count_nonzero(existenceOfFirstDatasetElementsInAnother==False)\n",
        "\n",
        "  # approach 2: compare with (lemma, inflection) pair\n",
        "  firstDataset_lemmaInfPairs = np.stack((first_dataset[lemma_index], first_dataset[inf_index]), axis=-1).tolist()\n",
        "  secondDataset_lemmaInfPairs = np.stack((second_dataset[lemma_index], second_dataset[inf_index]), axis=-1).tolist()\n",
        "\n",
        "  existenceOfFirstDatasetElementsInAnother = np.array([lemInf in secondDataset_lemmaInfPairs for lemInf in firstDataset_lemmaInfPairs])\n",
        "  unseenLemmaInfIndices = np.where(existenceOfFirstDatasetElementsInAnother==False)[0]\n",
        "  num_unseen_approach2 = np.count_nonzero(existenceOfFirstDatasetElementsInAnother==False)\n",
        "\n",
        "  return unseenLemmaIndices, num_unseen_approach1, unseenLemmaInfIndices, num_unseen_approach2\n",
        "\n",
        "\n",
        "# create dataframe for a dataset's unseen data\n",
        "def createUnseensamplesDataframe(dataset, unseenLemmaIndices, unseenLemmaInfIndices, name, new=False):\n",
        "  data_analysis_path = '/content/drive/MyDrive/AI Projects/Arabic Broken Plural/Datasets analysis/'\n",
        "  os.makedirs(data_analysis_path, exist_ok=True)\n",
        "\n",
        "  lemma_index = 0\n",
        "  if new:\n",
        "    inf_index = 1\n",
        "  else:\n",
        "    inf_index = 3\n",
        "  unseenLemmaIndices_df = pd.DataFrame({'index': unseenLemmaIndices,\n",
        "                                           'lemma': np.array(dataset[lemma_index])[unseenLemmaIndices],\n",
        "                                           'inflection': np.array(dataset[inf_index])[unseenLemmaIndices]})\n",
        "  unseenLemmaIndices_df.to_csv(data_analysis_path + f'unseenLemma_{name}.csv')\n",
        "\n",
        "  unseenLemInfIndices_df = pd.DataFrame({'index': unseenLemmaInfIndices,\n",
        "                                           'lemma': np.array(dataset[lemma_index])[unseenLemmaInfIndices],\n",
        "                                           'inflection': np.array(dataset[inf_index])[unseenLemmaInfIndices]})\n",
        "  unseenLemInfIndices_df.to_csv(data_analysis_path + f'unseenLemInf_{name}.csv')\n",
        "\n",
        "  return unseenLemmaIndices_df, unseenLemInfIndices_df\n",
        "\n"
      ]
    },
    {
      "cell_type": "markdown",
      "metadata": {
        "id": "sZxKnStm3HNT"
      },
      "source": [
        "### **Old**"
      ]
    },
    {
      "cell_type": "code",
      "execution_count": 67,
      "metadata": {
        "colab": {
          "base_uri": "https://localhost:8080/"
        },
        "id": "W0pcj48_1sUN",
        "outputId": "face4ae1-4927-4263-ca55-6949576b6279"
      },
      "outputs": [
        {
          "output_type": "stream",
          "name": "stdout",
          "text": [
            "***** OLD DATASET\n",
            "number of unseen data(lemma) in dev set:  85\n",
            "number of unseen data(lemma) in test set:  78\n",
            "\n",
            "number of unseen data((lemma, inflection) pair) in dev set:  116\n",
            "number of unseen data((lemma, inflection) pair) in test set:  104\n"
          ]
        }
      ],
      "source": [
        "# generate samples of dev/test set which are not in train set\n",
        "# compare with lemma and (lemma, inflection) pair\n",
        "unseenLemmaIndices_dev, dev_num1, unseenLemInfIndices_dev, dev_num2 = generateUnseenSamples(devData, trainData)\n",
        "unseenLemmaIndices_test, test_num1, unseenLemInfIndices_test, test_num2 = generateUnseenSamples(testData, trainData)\n",
        "\n",
        "print('*'*5 + ' OLD DATASET')\n",
        "print('number of unseen data(lemma) in dev set: ', dev_num1)\n",
        "print('number of unseen data(lemma) in test set: ', test_num1, end='\\n\\n')\n",
        "print('number of unseen data((lemma, inflection) pair) in dev set: ', dev_num2)\n",
        "print('number of unseen data((lemma, inflection) pair) in test set: ', test_num2)\n",
        "\n",
        "unseenLemmaIndices_dev_df, unseenLemInfIndices_dev_df = createUnseensamplesDataframe(devData, unseenLemmaIndices_dev, unseenLemInfIndices_dev, 'dev')\n",
        "unseenLemmaIndices_test_df, unseenLemInfIndices_test_df = createUnseensamplesDataframe(testData, unseenLemmaIndices_test, unseenLemInfIndices_test, 'test')"
      ]
    },
    {
      "cell_type": "code",
      "execution_count": 68,
      "metadata": {
        "colab": {
          "base_uri": "https://localhost:8080/",
          "height": 206
        },
        "id": "xH8DEKhJ2D54",
        "outputId": "8d73482a-28fe-4daa-e4e4-929035eb10fb"
      },
      "outputs": [
        {
          "output_type": "execute_result",
          "data": {
            "text/plain": [
              "   index      lemma   inflection\n",
              "0     66  mu$okilap      ma$Akil\n",
              "1     94      na$AT    >ano$iTap\n",
              "2    178   minaS~ap     minaS~At\n",
              "3    234   taqoniy~  taqoniy~iyn\n",
              "4    269    muDorib   muDoribiyn"
            ],
            "text/html": [
              "\n",
              "  <div id=\"df-d0a358be-0378-4b52-af2e-0b03ee5158c6\">\n",
              "    <div class=\"colab-df-container\">\n",
              "      <div>\n",
              "<style scoped>\n",
              "    .dataframe tbody tr th:only-of-type {\n",
              "        vertical-align: middle;\n",
              "    }\n",
              "\n",
              "    .dataframe tbody tr th {\n",
              "        vertical-align: top;\n",
              "    }\n",
              "\n",
              "    .dataframe thead th {\n",
              "        text-align: right;\n",
              "    }\n",
              "</style>\n",
              "<table border=\"1\" class=\"dataframe\">\n",
              "  <thead>\n",
              "    <tr style=\"text-align: right;\">\n",
              "      <th></th>\n",
              "      <th>index</th>\n",
              "      <th>lemma</th>\n",
              "      <th>inflection</th>\n",
              "    </tr>\n",
              "  </thead>\n",
              "  <tbody>\n",
              "    <tr>\n",
              "      <th>0</th>\n",
              "      <td>66</td>\n",
              "      <td>mu$okilap</td>\n",
              "      <td>ma$Akil</td>\n",
              "    </tr>\n",
              "    <tr>\n",
              "      <th>1</th>\n",
              "      <td>94</td>\n",
              "      <td>na$AT</td>\n",
              "      <td>&gt;ano$iTap</td>\n",
              "    </tr>\n",
              "    <tr>\n",
              "      <th>2</th>\n",
              "      <td>178</td>\n",
              "      <td>minaS~ap</td>\n",
              "      <td>minaS~At</td>\n",
              "    </tr>\n",
              "    <tr>\n",
              "      <th>3</th>\n",
              "      <td>234</td>\n",
              "      <td>taqoniy~</td>\n",
              "      <td>taqoniy~iyn</td>\n",
              "    </tr>\n",
              "    <tr>\n",
              "      <th>4</th>\n",
              "      <td>269</td>\n",
              "      <td>muDorib</td>\n",
              "      <td>muDoribiyn</td>\n",
              "    </tr>\n",
              "  </tbody>\n",
              "</table>\n",
              "</div>\n",
              "      <button class=\"colab-df-convert\" onclick=\"convertToInteractive('df-d0a358be-0378-4b52-af2e-0b03ee5158c6')\"\n",
              "              title=\"Convert this dataframe to an interactive table.\"\n",
              "              style=\"display:none;\">\n",
              "        \n",
              "  <svg xmlns=\"http://www.w3.org/2000/svg\" height=\"24px\"viewBox=\"0 0 24 24\"\n",
              "       width=\"24px\">\n",
              "    <path d=\"M0 0h24v24H0V0z\" fill=\"none\"/>\n",
              "    <path d=\"M18.56 5.44l.94 2.06.94-2.06 2.06-.94-2.06-.94-.94-2.06-.94 2.06-2.06.94zm-11 1L8.5 8.5l.94-2.06 2.06-.94-2.06-.94L8.5 2.5l-.94 2.06-2.06.94zm10 10l.94 2.06.94-2.06 2.06-.94-2.06-.94-.94-2.06-.94 2.06-2.06.94z\"/><path d=\"M17.41 7.96l-1.37-1.37c-.4-.4-.92-.59-1.43-.59-.52 0-1.04.2-1.43.59L10.3 9.45l-7.72 7.72c-.78.78-.78 2.05 0 2.83L4 21.41c.39.39.9.59 1.41.59.51 0 1.02-.2 1.41-.59l7.78-7.78 2.81-2.81c.8-.78.8-2.07 0-2.86zM5.41 20L4 18.59l7.72-7.72 1.47 1.35L5.41 20z\"/>\n",
              "  </svg>\n",
              "      </button>\n",
              "      \n",
              "  <style>\n",
              "    .colab-df-container {\n",
              "      display:flex;\n",
              "      flex-wrap:wrap;\n",
              "      gap: 12px;\n",
              "    }\n",
              "\n",
              "    .colab-df-convert {\n",
              "      background-color: #E8F0FE;\n",
              "      border: none;\n",
              "      border-radius: 50%;\n",
              "      cursor: pointer;\n",
              "      display: none;\n",
              "      fill: #1967D2;\n",
              "      height: 32px;\n",
              "      padding: 0 0 0 0;\n",
              "      width: 32px;\n",
              "    }\n",
              "\n",
              "    .colab-df-convert:hover {\n",
              "      background-color: #E2EBFA;\n",
              "      box-shadow: 0px 1px 2px rgba(60, 64, 67, 0.3), 0px 1px 3px 1px rgba(60, 64, 67, 0.15);\n",
              "      fill: #174EA6;\n",
              "    }\n",
              "\n",
              "    [theme=dark] .colab-df-convert {\n",
              "      background-color: #3B4455;\n",
              "      fill: #D2E3FC;\n",
              "    }\n",
              "\n",
              "    [theme=dark] .colab-df-convert:hover {\n",
              "      background-color: #434B5C;\n",
              "      box-shadow: 0px 1px 3px 1px rgba(0, 0, 0, 0.15);\n",
              "      filter: drop-shadow(0px 1px 2px rgba(0, 0, 0, 0.3));\n",
              "      fill: #FFFFFF;\n",
              "    }\n",
              "  </style>\n",
              "\n",
              "      <script>\n",
              "        const buttonEl =\n",
              "          document.querySelector('#df-d0a358be-0378-4b52-af2e-0b03ee5158c6 button.colab-df-convert');\n",
              "        buttonEl.style.display =\n",
              "          google.colab.kernel.accessAllowed ? 'block' : 'none';\n",
              "\n",
              "        async function convertToInteractive(key) {\n",
              "          const element = document.querySelector('#df-d0a358be-0378-4b52-af2e-0b03ee5158c6');\n",
              "          const dataTable =\n",
              "            await google.colab.kernel.invokeFunction('convertToInteractive',\n",
              "                                                     [key], {});\n",
              "          if (!dataTable) return;\n",
              "\n",
              "          const docLinkHtml = 'Like what you see? Visit the ' +\n",
              "            '<a target=\"_blank\" href=https://colab.research.google.com/notebooks/data_table.ipynb>data table notebook</a>'\n",
              "            + ' to learn more about interactive tables.';\n",
              "          element.innerHTML = '';\n",
              "          dataTable['output_type'] = 'display_data';\n",
              "          await google.colab.output.renderOutput(dataTable, element);\n",
              "          const docLink = document.createElement('div');\n",
              "          docLink.innerHTML = docLinkHtml;\n",
              "          element.appendChild(docLink);\n",
              "        }\n",
              "      </script>\n",
              "    </div>\n",
              "  </div>\n",
              "  "
            ]
          },
          "metadata": {},
          "execution_count": 68
        }
      ],
      "source": [
        "unseenLemInfIndices_test_df.head()"
      ]
    },
    {
      "cell_type": "markdown",
      "metadata": {
        "id": "tgL6tBRJ3Ofb"
      },
      "source": [
        "### **New**"
      ]
    },
    {
      "cell_type": "code",
      "execution_count": 69,
      "metadata": {
        "id": "LRSP7BldEx8U",
        "colab": {
          "base_uri": "https://localhost:8080/"
        },
        "outputId": "5bc3dd79-977b-4355-f01f-79fcd6b11a10"
      },
      "outputs": [
        {
          "output_type": "stream",
          "name": "stdout",
          "text": [
            "***** NEW DATASET\n",
            "number of unseen data(lemma) in dev set:  343\n",
            "number of unseen data(lemma) in test set:  600\n",
            "\n",
            "number of unseen data((lemma, inflection) pair) in dev set:  343\n",
            "number of unseen data((lemma, inflection) pair) in test set:  600\n"
          ]
        }
      ],
      "source": [
        "# generate samples of dev/test set which are not in train set\n",
        "# compare with lemma and (lemma, inflection) pair\n",
        "unseenLemmaIndices_dev_new, dev_new_num1, unseenLemInfIndices_dev_new, dev_new_num2 = generateUnseenSamples(devData_new, trainData_new, new=True)\n",
        "unseenLemmaIndices_test_new, test_new_num1, unseenLemInfIndices_test_new, test_new_num2 = generateUnseenSamples(testData_new, trainData_new, new=True)\n",
        "\n",
        "print('*'*5 + ' NEW DATASET')\n",
        "print('number of unseen data(lemma) in dev set: ', dev_new_num1)\n",
        "print('number of unseen data(lemma) in test set: ', test_new_num1, end='\\n\\n')\n",
        "print('number of unseen data((lemma, inflection) pair) in dev set: ', dev_new_num2)\n",
        "print('number of unseen data((lemma, inflection) pair) in test set: ', test_new_num2)\n",
        "\n",
        "unseenLemmaIndices_dev_new_df, unseenLemInfIndices_dev_new_df = createUnseensamplesDataframe(devData_new, unseenLemmaIndices_dev_new, unseenLemInfIndices_dev_new, 'dev_new', new=True)\n",
        "unseenLemmaIndices_test_new_df, unseenLemInfIndices_test_new_df = createUnseensamplesDataframe(testData_new, unseenLemmaIndices_test_new, unseenLemInfIndices_test_new, 'test_new', new=True)"
      ]
    },
    {
      "cell_type": "code",
      "execution_count": 70,
      "metadata": {
        "id": "6f2DVZAvGlgs",
        "colab": {
          "base_uri": "https://localhost:8080/",
          "height": 206
        },
        "outputId": "aa7eb293-54d6-4541-acc1-1eb5c0dc5198"
      },
      "outputs": [
        {
          "output_type": "execute_result",
          "data": {
            "text/plain": [
              "   index      lemma   inflection\n",
              "0     66  mu$okilap      ma$Akil\n",
              "1     94      na$AT    >ano$iTap\n",
              "2    178   minaS~ap     minaS~At\n",
              "3    234   taqoniy~  taqoniy~iyn\n",
              "4    269    muDorib   muDoribiyn"
            ],
            "text/html": [
              "\n",
              "  <div id=\"df-5c62802e-4cab-4ecb-929a-e799ed508cf9\">\n",
              "    <div class=\"colab-df-container\">\n",
              "      <div>\n",
              "<style scoped>\n",
              "    .dataframe tbody tr th:only-of-type {\n",
              "        vertical-align: middle;\n",
              "    }\n",
              "\n",
              "    .dataframe tbody tr th {\n",
              "        vertical-align: top;\n",
              "    }\n",
              "\n",
              "    .dataframe thead th {\n",
              "        text-align: right;\n",
              "    }\n",
              "</style>\n",
              "<table border=\"1\" class=\"dataframe\">\n",
              "  <thead>\n",
              "    <tr style=\"text-align: right;\">\n",
              "      <th></th>\n",
              "      <th>index</th>\n",
              "      <th>lemma</th>\n",
              "      <th>inflection</th>\n",
              "    </tr>\n",
              "  </thead>\n",
              "  <tbody>\n",
              "    <tr>\n",
              "      <th>0</th>\n",
              "      <td>66</td>\n",
              "      <td>mu$okilap</td>\n",
              "      <td>ma$Akil</td>\n",
              "    </tr>\n",
              "    <tr>\n",
              "      <th>1</th>\n",
              "      <td>94</td>\n",
              "      <td>na$AT</td>\n",
              "      <td>&gt;ano$iTap</td>\n",
              "    </tr>\n",
              "    <tr>\n",
              "      <th>2</th>\n",
              "      <td>178</td>\n",
              "      <td>minaS~ap</td>\n",
              "      <td>minaS~At</td>\n",
              "    </tr>\n",
              "    <tr>\n",
              "      <th>3</th>\n",
              "      <td>234</td>\n",
              "      <td>taqoniy~</td>\n",
              "      <td>taqoniy~iyn</td>\n",
              "    </tr>\n",
              "    <tr>\n",
              "      <th>4</th>\n",
              "      <td>269</td>\n",
              "      <td>muDorib</td>\n",
              "      <td>muDoribiyn</td>\n",
              "    </tr>\n",
              "  </tbody>\n",
              "</table>\n",
              "</div>\n",
              "      <button class=\"colab-df-convert\" onclick=\"convertToInteractive('df-5c62802e-4cab-4ecb-929a-e799ed508cf9')\"\n",
              "              title=\"Convert this dataframe to an interactive table.\"\n",
              "              style=\"display:none;\">\n",
              "        \n",
              "  <svg xmlns=\"http://www.w3.org/2000/svg\" height=\"24px\"viewBox=\"0 0 24 24\"\n",
              "       width=\"24px\">\n",
              "    <path d=\"M0 0h24v24H0V0z\" fill=\"none\"/>\n",
              "    <path d=\"M18.56 5.44l.94 2.06.94-2.06 2.06-.94-2.06-.94-.94-2.06-.94 2.06-2.06.94zm-11 1L8.5 8.5l.94-2.06 2.06-.94-2.06-.94L8.5 2.5l-.94 2.06-2.06.94zm10 10l.94 2.06.94-2.06 2.06-.94-2.06-.94-.94-2.06-.94 2.06-2.06.94z\"/><path d=\"M17.41 7.96l-1.37-1.37c-.4-.4-.92-.59-1.43-.59-.52 0-1.04.2-1.43.59L10.3 9.45l-7.72 7.72c-.78.78-.78 2.05 0 2.83L4 21.41c.39.39.9.59 1.41.59.51 0 1.02-.2 1.41-.59l7.78-7.78 2.81-2.81c.8-.78.8-2.07 0-2.86zM5.41 20L4 18.59l7.72-7.72 1.47 1.35L5.41 20z\"/>\n",
              "  </svg>\n",
              "      </button>\n",
              "      \n",
              "  <style>\n",
              "    .colab-df-container {\n",
              "      display:flex;\n",
              "      flex-wrap:wrap;\n",
              "      gap: 12px;\n",
              "    }\n",
              "\n",
              "    .colab-df-convert {\n",
              "      background-color: #E8F0FE;\n",
              "      border: none;\n",
              "      border-radius: 50%;\n",
              "      cursor: pointer;\n",
              "      display: none;\n",
              "      fill: #1967D2;\n",
              "      height: 32px;\n",
              "      padding: 0 0 0 0;\n",
              "      width: 32px;\n",
              "    }\n",
              "\n",
              "    .colab-df-convert:hover {\n",
              "      background-color: #E2EBFA;\n",
              "      box-shadow: 0px 1px 2px rgba(60, 64, 67, 0.3), 0px 1px 3px 1px rgba(60, 64, 67, 0.15);\n",
              "      fill: #174EA6;\n",
              "    }\n",
              "\n",
              "    [theme=dark] .colab-df-convert {\n",
              "      background-color: #3B4455;\n",
              "      fill: #D2E3FC;\n",
              "    }\n",
              "\n",
              "    [theme=dark] .colab-df-convert:hover {\n",
              "      background-color: #434B5C;\n",
              "      box-shadow: 0px 1px 3px 1px rgba(0, 0, 0, 0.15);\n",
              "      filter: drop-shadow(0px 1px 2px rgba(0, 0, 0, 0.3));\n",
              "      fill: #FFFFFF;\n",
              "    }\n",
              "  </style>\n",
              "\n",
              "      <script>\n",
              "        const buttonEl =\n",
              "          document.querySelector('#df-5c62802e-4cab-4ecb-929a-e799ed508cf9 button.colab-df-convert');\n",
              "        buttonEl.style.display =\n",
              "          google.colab.kernel.accessAllowed ? 'block' : 'none';\n",
              "\n",
              "        async function convertToInteractive(key) {\n",
              "          const element = document.querySelector('#df-5c62802e-4cab-4ecb-929a-e799ed508cf9');\n",
              "          const dataTable =\n",
              "            await google.colab.kernel.invokeFunction('convertToInteractive',\n",
              "                                                     [key], {});\n",
              "          if (!dataTable) return;\n",
              "\n",
              "          const docLinkHtml = 'Like what you see? Visit the ' +\n",
              "            '<a target=\"_blank\" href=https://colab.research.google.com/notebooks/data_table.ipynb>data table notebook</a>'\n",
              "            + ' to learn more about interactive tables.';\n",
              "          element.innerHTML = '';\n",
              "          dataTable['output_type'] = 'display_data';\n",
              "          await google.colab.output.renderOutput(dataTable, element);\n",
              "          const docLink = document.createElement('div');\n",
              "          docLink.innerHTML = docLinkHtml;\n",
              "          element.appendChild(docLink);\n",
              "        }\n",
              "      </script>\n",
              "    </div>\n",
              "  </div>\n",
              "  "
            ]
          },
          "metadata": {},
          "execution_count": 70
        }
      ],
      "source": [
        "unseenLemInfIndices_test_df.head()"
      ]
    },
    {
      "cell_type": "code",
      "source": [
        "#report_similarLemmas(allData_new[0],allData_new[1], dic_lemmaInflection, data_analysis_path, \"DuplicateLemma_all_new\")"
      ],
      "metadata": {
        "id": "d5fAvv1FDeSY"
      },
      "execution_count": 71,
      "outputs": []
    },
    {
      "cell_type": "code",
      "source": [
        "report_similarLemmas(trainData_new[0],trainData_new[1], dic_lemmaInflection, data_analysis_path, \"DuplicateLemma_train_new\")"
      ],
      "metadata": {
        "id": "_I8Gfgj3JS55",
        "colab": {
          "base_uri": "https://localhost:8080/",
          "height": 423
        },
        "outputId": "39d0ae38-d7a6-4957-bacf-b1cb51c76876"
      },
      "execution_count": 72,
      "outputs": [
        {
          "output_type": "execute_result",
          "data": {
            "text/plain": [
              "     index       lemma new inflection old inflection  is_similar\n",
              "0        0       sAHap          sAHAt          sAHAt        True\n",
              "1        1       >amor         >umuwr         >umuwr        True\n",
              "2        2      >uma~p          >umam          >umam        True\n",
              "3        3     jalosap        jalasAt        jalasAt        True\n",
              "4        4    {iti~hAm     Aiti~hAmAt     Aiti~hAmAt        True\n",
              "..     ...         ...            ...            ...         ...\n",
              "995    995   mujAbahap      mujAbahAt      mujAbahAt        True\n",
              "996    996  >uToruwHap     >uToruwHAt     >uToruwHAt        True\n",
              "997    997        Huwt         HiytAn         HiytAn        True\n",
              "998    998      Ead~Ad       Ead~AdAt       Ead~AdAt        True\n",
              "999    999     malomas        malAmis        malAmis        True\n",
              "\n",
              "[1000 rows x 5 columns]"
            ],
            "text/html": [
              "\n",
              "  <div id=\"df-c61a5095-1607-490b-8db5-813aee342424\">\n",
              "    <div class=\"colab-df-container\">\n",
              "      <div>\n",
              "<style scoped>\n",
              "    .dataframe tbody tr th:only-of-type {\n",
              "        vertical-align: middle;\n",
              "    }\n",
              "\n",
              "    .dataframe tbody tr th {\n",
              "        vertical-align: top;\n",
              "    }\n",
              "\n",
              "    .dataframe thead th {\n",
              "        text-align: right;\n",
              "    }\n",
              "</style>\n",
              "<table border=\"1\" class=\"dataframe\">\n",
              "  <thead>\n",
              "    <tr style=\"text-align: right;\">\n",
              "      <th></th>\n",
              "      <th>index</th>\n",
              "      <th>lemma</th>\n",
              "      <th>new inflection</th>\n",
              "      <th>old inflection</th>\n",
              "      <th>is_similar</th>\n",
              "    </tr>\n",
              "  </thead>\n",
              "  <tbody>\n",
              "    <tr>\n",
              "      <th>0</th>\n",
              "      <td>0</td>\n",
              "      <td>sAHap</td>\n",
              "      <td>sAHAt</td>\n",
              "      <td>sAHAt</td>\n",
              "      <td>True</td>\n",
              "    </tr>\n",
              "    <tr>\n",
              "      <th>1</th>\n",
              "      <td>1</td>\n",
              "      <td>&gt;amor</td>\n",
              "      <td>&gt;umuwr</td>\n",
              "      <td>&gt;umuwr</td>\n",
              "      <td>True</td>\n",
              "    </tr>\n",
              "    <tr>\n",
              "      <th>2</th>\n",
              "      <td>2</td>\n",
              "      <td>&gt;uma~p</td>\n",
              "      <td>&gt;umam</td>\n",
              "      <td>&gt;umam</td>\n",
              "      <td>True</td>\n",
              "    </tr>\n",
              "    <tr>\n",
              "      <th>3</th>\n",
              "      <td>3</td>\n",
              "      <td>jalosap</td>\n",
              "      <td>jalasAt</td>\n",
              "      <td>jalasAt</td>\n",
              "      <td>True</td>\n",
              "    </tr>\n",
              "    <tr>\n",
              "      <th>4</th>\n",
              "      <td>4</td>\n",
              "      <td>{iti~hAm</td>\n",
              "      <td>Aiti~hAmAt</td>\n",
              "      <td>Aiti~hAmAt</td>\n",
              "      <td>True</td>\n",
              "    </tr>\n",
              "    <tr>\n",
              "      <th>...</th>\n",
              "      <td>...</td>\n",
              "      <td>...</td>\n",
              "      <td>...</td>\n",
              "      <td>...</td>\n",
              "      <td>...</td>\n",
              "    </tr>\n",
              "    <tr>\n",
              "      <th>995</th>\n",
              "      <td>995</td>\n",
              "      <td>mujAbahap</td>\n",
              "      <td>mujAbahAt</td>\n",
              "      <td>mujAbahAt</td>\n",
              "      <td>True</td>\n",
              "    </tr>\n",
              "    <tr>\n",
              "      <th>996</th>\n",
              "      <td>996</td>\n",
              "      <td>&gt;uToruwHap</td>\n",
              "      <td>&gt;uToruwHAt</td>\n",
              "      <td>&gt;uToruwHAt</td>\n",
              "      <td>True</td>\n",
              "    </tr>\n",
              "    <tr>\n",
              "      <th>997</th>\n",
              "      <td>997</td>\n",
              "      <td>Huwt</td>\n",
              "      <td>HiytAn</td>\n",
              "      <td>HiytAn</td>\n",
              "      <td>True</td>\n",
              "    </tr>\n",
              "    <tr>\n",
              "      <th>998</th>\n",
              "      <td>998</td>\n",
              "      <td>Ead~Ad</td>\n",
              "      <td>Ead~AdAt</td>\n",
              "      <td>Ead~AdAt</td>\n",
              "      <td>True</td>\n",
              "    </tr>\n",
              "    <tr>\n",
              "      <th>999</th>\n",
              "      <td>999</td>\n",
              "      <td>malomas</td>\n",
              "      <td>malAmis</td>\n",
              "      <td>malAmis</td>\n",
              "      <td>True</td>\n",
              "    </tr>\n",
              "  </tbody>\n",
              "</table>\n",
              "<p>1000 rows × 5 columns</p>\n",
              "</div>\n",
              "      <button class=\"colab-df-convert\" onclick=\"convertToInteractive('df-c61a5095-1607-490b-8db5-813aee342424')\"\n",
              "              title=\"Convert this dataframe to an interactive table.\"\n",
              "              style=\"display:none;\">\n",
              "        \n",
              "  <svg xmlns=\"http://www.w3.org/2000/svg\" height=\"24px\"viewBox=\"0 0 24 24\"\n",
              "       width=\"24px\">\n",
              "    <path d=\"M0 0h24v24H0V0z\" fill=\"none\"/>\n",
              "    <path d=\"M18.56 5.44l.94 2.06.94-2.06 2.06-.94-2.06-.94-.94-2.06-.94 2.06-2.06.94zm-11 1L8.5 8.5l.94-2.06 2.06-.94-2.06-.94L8.5 2.5l-.94 2.06-2.06.94zm10 10l.94 2.06.94-2.06 2.06-.94-2.06-.94-.94-2.06-.94 2.06-2.06.94z\"/><path d=\"M17.41 7.96l-1.37-1.37c-.4-.4-.92-.59-1.43-.59-.52 0-1.04.2-1.43.59L10.3 9.45l-7.72 7.72c-.78.78-.78 2.05 0 2.83L4 21.41c.39.39.9.59 1.41.59.51 0 1.02-.2 1.41-.59l7.78-7.78 2.81-2.81c.8-.78.8-2.07 0-2.86zM5.41 20L4 18.59l7.72-7.72 1.47 1.35L5.41 20z\"/>\n",
              "  </svg>\n",
              "      </button>\n",
              "      \n",
              "  <style>\n",
              "    .colab-df-container {\n",
              "      display:flex;\n",
              "      flex-wrap:wrap;\n",
              "      gap: 12px;\n",
              "    }\n",
              "\n",
              "    .colab-df-convert {\n",
              "      background-color: #E8F0FE;\n",
              "      border: none;\n",
              "      border-radius: 50%;\n",
              "      cursor: pointer;\n",
              "      display: none;\n",
              "      fill: #1967D2;\n",
              "      height: 32px;\n",
              "      padding: 0 0 0 0;\n",
              "      width: 32px;\n",
              "    }\n",
              "\n",
              "    .colab-df-convert:hover {\n",
              "      background-color: #E2EBFA;\n",
              "      box-shadow: 0px 1px 2px rgba(60, 64, 67, 0.3), 0px 1px 3px 1px rgba(60, 64, 67, 0.15);\n",
              "      fill: #174EA6;\n",
              "    }\n",
              "\n",
              "    [theme=dark] .colab-df-convert {\n",
              "      background-color: #3B4455;\n",
              "      fill: #D2E3FC;\n",
              "    }\n",
              "\n",
              "    [theme=dark] .colab-df-convert:hover {\n",
              "      background-color: #434B5C;\n",
              "      box-shadow: 0px 1px 3px 1px rgba(0, 0, 0, 0.15);\n",
              "      filter: drop-shadow(0px 1px 2px rgba(0, 0, 0, 0.3));\n",
              "      fill: #FFFFFF;\n",
              "    }\n",
              "  </style>\n",
              "\n",
              "      <script>\n",
              "        const buttonEl =\n",
              "          document.querySelector('#df-c61a5095-1607-490b-8db5-813aee342424 button.colab-df-convert');\n",
              "        buttonEl.style.display =\n",
              "          google.colab.kernel.accessAllowed ? 'block' : 'none';\n",
              "\n",
              "        async function convertToInteractive(key) {\n",
              "          const element = document.querySelector('#df-c61a5095-1607-490b-8db5-813aee342424');\n",
              "          const dataTable =\n",
              "            await google.colab.kernel.invokeFunction('convertToInteractive',\n",
              "                                                     [key], {});\n",
              "          if (!dataTable) return;\n",
              "\n",
              "          const docLinkHtml = 'Like what you see? Visit the ' +\n",
              "            '<a target=\"_blank\" href=https://colab.research.google.com/notebooks/data_table.ipynb>data table notebook</a>'\n",
              "            + ' to learn more about interactive tables.';\n",
              "          element.innerHTML = '';\n",
              "          dataTable['output_type'] = 'display_data';\n",
              "          await google.colab.output.renderOutput(dataTable, element);\n",
              "          const docLink = document.createElement('div');\n",
              "          docLink.innerHTML = docLinkHtml;\n",
              "          element.appendChild(docLink);\n",
              "        }\n",
              "      </script>\n",
              "    </div>\n",
              "  </div>\n",
              "  "
            ]
          },
          "metadata": {},
          "execution_count": 72
        }
      ]
    },
    {
      "cell_type": "code",
      "source": [
        "report_similarLemmas(devData_new[0],devData_new[1], dic_lemmaInflection, data_analysis_path, \"DuplicateLemma_dev_new\")"
      ],
      "metadata": {
        "id": "clHAzCi3JTsO",
        "colab": {
          "base_uri": "https://localhost:8080/",
          "height": 423
        },
        "outputId": "f0939b4e-6df4-46df-8d24-750dd6f77396"
      },
      "execution_count": 73,
      "outputs": [
        {
          "output_type": "execute_result",
          "data": {
            "text/plain": [
              "     index         lemma new inflection old inflection  is_similar\n",
              "0        0       tuhomap          tuham          tuham        True\n",
              "1        1         mAniE        mawAniE        mawAniE        True\n",
              "2        2         buEod        >aboEAd        >aboEAd        True\n",
              "3        3      tawoZiyf     tawoZiyfAt     tawoZiyfAt        True\n",
              "4        4         xaTar        >axoTAr        >axoTAr        True\n",
              "..     ...           ...            ...            ...         ...\n",
              "338    338     januwbiy~   januwbiy~iyn   januwbiy~iyn        True\n",
              "339    339      mukawi~n     mukawi~nAt     mukawi~nAt        True\n",
              "340    340  bunoduqiya~p        banAdiq        banAdiq        True\n",
              "341    341         junod          junod          junod        True\n",
              "342    342     {iHotirAm    AiHotirAmAt    AiHotirAmAt        True\n",
              "\n",
              "[343 rows x 5 columns]"
            ],
            "text/html": [
              "\n",
              "  <div id=\"df-c299ff80-ef7b-4894-b291-920d92f5ab5c\">\n",
              "    <div class=\"colab-df-container\">\n",
              "      <div>\n",
              "<style scoped>\n",
              "    .dataframe tbody tr th:only-of-type {\n",
              "        vertical-align: middle;\n",
              "    }\n",
              "\n",
              "    .dataframe tbody tr th {\n",
              "        vertical-align: top;\n",
              "    }\n",
              "\n",
              "    .dataframe thead th {\n",
              "        text-align: right;\n",
              "    }\n",
              "</style>\n",
              "<table border=\"1\" class=\"dataframe\">\n",
              "  <thead>\n",
              "    <tr style=\"text-align: right;\">\n",
              "      <th></th>\n",
              "      <th>index</th>\n",
              "      <th>lemma</th>\n",
              "      <th>new inflection</th>\n",
              "      <th>old inflection</th>\n",
              "      <th>is_similar</th>\n",
              "    </tr>\n",
              "  </thead>\n",
              "  <tbody>\n",
              "    <tr>\n",
              "      <th>0</th>\n",
              "      <td>0</td>\n",
              "      <td>tuhomap</td>\n",
              "      <td>tuham</td>\n",
              "      <td>tuham</td>\n",
              "      <td>True</td>\n",
              "    </tr>\n",
              "    <tr>\n",
              "      <th>1</th>\n",
              "      <td>1</td>\n",
              "      <td>mAniE</td>\n",
              "      <td>mawAniE</td>\n",
              "      <td>mawAniE</td>\n",
              "      <td>True</td>\n",
              "    </tr>\n",
              "    <tr>\n",
              "      <th>2</th>\n",
              "      <td>2</td>\n",
              "      <td>buEod</td>\n",
              "      <td>&gt;aboEAd</td>\n",
              "      <td>&gt;aboEAd</td>\n",
              "      <td>True</td>\n",
              "    </tr>\n",
              "    <tr>\n",
              "      <th>3</th>\n",
              "      <td>3</td>\n",
              "      <td>tawoZiyf</td>\n",
              "      <td>tawoZiyfAt</td>\n",
              "      <td>tawoZiyfAt</td>\n",
              "      <td>True</td>\n",
              "    </tr>\n",
              "    <tr>\n",
              "      <th>4</th>\n",
              "      <td>4</td>\n",
              "      <td>xaTar</td>\n",
              "      <td>&gt;axoTAr</td>\n",
              "      <td>&gt;axoTAr</td>\n",
              "      <td>True</td>\n",
              "    </tr>\n",
              "    <tr>\n",
              "      <th>...</th>\n",
              "      <td>...</td>\n",
              "      <td>...</td>\n",
              "      <td>...</td>\n",
              "      <td>...</td>\n",
              "      <td>...</td>\n",
              "    </tr>\n",
              "    <tr>\n",
              "      <th>338</th>\n",
              "      <td>338</td>\n",
              "      <td>januwbiy~</td>\n",
              "      <td>januwbiy~iyn</td>\n",
              "      <td>januwbiy~iyn</td>\n",
              "      <td>True</td>\n",
              "    </tr>\n",
              "    <tr>\n",
              "      <th>339</th>\n",
              "      <td>339</td>\n",
              "      <td>mukawi~n</td>\n",
              "      <td>mukawi~nAt</td>\n",
              "      <td>mukawi~nAt</td>\n",
              "      <td>True</td>\n",
              "    </tr>\n",
              "    <tr>\n",
              "      <th>340</th>\n",
              "      <td>340</td>\n",
              "      <td>bunoduqiya~p</td>\n",
              "      <td>banAdiq</td>\n",
              "      <td>banAdiq</td>\n",
              "      <td>True</td>\n",
              "    </tr>\n",
              "    <tr>\n",
              "      <th>341</th>\n",
              "      <td>341</td>\n",
              "      <td>junod</td>\n",
              "      <td>junod</td>\n",
              "      <td>junod</td>\n",
              "      <td>True</td>\n",
              "    </tr>\n",
              "    <tr>\n",
              "      <th>342</th>\n",
              "      <td>342</td>\n",
              "      <td>{iHotirAm</td>\n",
              "      <td>AiHotirAmAt</td>\n",
              "      <td>AiHotirAmAt</td>\n",
              "      <td>True</td>\n",
              "    </tr>\n",
              "  </tbody>\n",
              "</table>\n",
              "<p>343 rows × 5 columns</p>\n",
              "</div>\n",
              "      <button class=\"colab-df-convert\" onclick=\"convertToInteractive('df-c299ff80-ef7b-4894-b291-920d92f5ab5c')\"\n",
              "              title=\"Convert this dataframe to an interactive table.\"\n",
              "              style=\"display:none;\">\n",
              "        \n",
              "  <svg xmlns=\"http://www.w3.org/2000/svg\" height=\"24px\"viewBox=\"0 0 24 24\"\n",
              "       width=\"24px\">\n",
              "    <path d=\"M0 0h24v24H0V0z\" fill=\"none\"/>\n",
              "    <path d=\"M18.56 5.44l.94 2.06.94-2.06 2.06-.94-2.06-.94-.94-2.06-.94 2.06-2.06.94zm-11 1L8.5 8.5l.94-2.06 2.06-.94-2.06-.94L8.5 2.5l-.94 2.06-2.06.94zm10 10l.94 2.06.94-2.06 2.06-.94-2.06-.94-.94-2.06-.94 2.06-2.06.94z\"/><path d=\"M17.41 7.96l-1.37-1.37c-.4-.4-.92-.59-1.43-.59-.52 0-1.04.2-1.43.59L10.3 9.45l-7.72 7.72c-.78.78-.78 2.05 0 2.83L4 21.41c.39.39.9.59 1.41.59.51 0 1.02-.2 1.41-.59l7.78-7.78 2.81-2.81c.8-.78.8-2.07 0-2.86zM5.41 20L4 18.59l7.72-7.72 1.47 1.35L5.41 20z\"/>\n",
              "  </svg>\n",
              "      </button>\n",
              "      \n",
              "  <style>\n",
              "    .colab-df-container {\n",
              "      display:flex;\n",
              "      flex-wrap:wrap;\n",
              "      gap: 12px;\n",
              "    }\n",
              "\n",
              "    .colab-df-convert {\n",
              "      background-color: #E8F0FE;\n",
              "      border: none;\n",
              "      border-radius: 50%;\n",
              "      cursor: pointer;\n",
              "      display: none;\n",
              "      fill: #1967D2;\n",
              "      height: 32px;\n",
              "      padding: 0 0 0 0;\n",
              "      width: 32px;\n",
              "    }\n",
              "\n",
              "    .colab-df-convert:hover {\n",
              "      background-color: #E2EBFA;\n",
              "      box-shadow: 0px 1px 2px rgba(60, 64, 67, 0.3), 0px 1px 3px 1px rgba(60, 64, 67, 0.15);\n",
              "      fill: #174EA6;\n",
              "    }\n",
              "\n",
              "    [theme=dark] .colab-df-convert {\n",
              "      background-color: #3B4455;\n",
              "      fill: #D2E3FC;\n",
              "    }\n",
              "\n",
              "    [theme=dark] .colab-df-convert:hover {\n",
              "      background-color: #434B5C;\n",
              "      box-shadow: 0px 1px 3px 1px rgba(0, 0, 0, 0.15);\n",
              "      filter: drop-shadow(0px 1px 2px rgba(0, 0, 0, 0.3));\n",
              "      fill: #FFFFFF;\n",
              "    }\n",
              "  </style>\n",
              "\n",
              "      <script>\n",
              "        const buttonEl =\n",
              "          document.querySelector('#df-c299ff80-ef7b-4894-b291-920d92f5ab5c button.colab-df-convert');\n",
              "        buttonEl.style.display =\n",
              "          google.colab.kernel.accessAllowed ? 'block' : 'none';\n",
              "\n",
              "        async function convertToInteractive(key) {\n",
              "          const element = document.querySelector('#df-c299ff80-ef7b-4894-b291-920d92f5ab5c');\n",
              "          const dataTable =\n",
              "            await google.colab.kernel.invokeFunction('convertToInteractive',\n",
              "                                                     [key], {});\n",
              "          if (!dataTable) return;\n",
              "\n",
              "          const docLinkHtml = 'Like what you see? Visit the ' +\n",
              "            '<a target=\"_blank\" href=https://colab.research.google.com/notebooks/data_table.ipynb>data table notebook</a>'\n",
              "            + ' to learn more about interactive tables.';\n",
              "          element.innerHTML = '';\n",
              "          dataTable['output_type'] = 'display_data';\n",
              "          await google.colab.output.renderOutput(dataTable, element);\n",
              "          const docLink = document.createElement('div');\n",
              "          docLink.innerHTML = docLinkHtml;\n",
              "          element.appendChild(docLink);\n",
              "        }\n",
              "      </script>\n",
              "    </div>\n",
              "  </div>\n",
              "  "
            ]
          },
          "metadata": {},
          "execution_count": 73
        }
      ]
    },
    {
      "cell_type": "code",
      "source": [
        "report_similarLemmas(testData_new[0],testData_new[1], dic_lemmaInflection, data_analysis_path, \"DuplicateLemma_test_new\")"
      ],
      "metadata": {
        "colab": {
          "base_uri": "https://localhost:8080/",
          "height": 423
        },
        "id": "HQmHjS-BJUGe",
        "outputId": "66ad36e1-3cc1-4a3e-f389-cf6ccede013c"
      },
      "execution_count": 74,
      "outputs": [
        {
          "output_type": "execute_result",
          "data": {
            "text/plain": [
              "     index      lemma new inflection old inflection  is_similar\n",
              "0        0   Turobiyd    TuwrobiydAt    TuwrobiydAt        True\n",
              "1        1   mawoluwd       mawAliyd       mawAliyd        True\n",
              "2        2  Daruwriy~    Daruwriy~At    Daruwriy~At        True\n",
              "3        3   maEoniy~    maEoniy~iyn    maEoniy~iyn        True\n",
              "4        4      jidAr        judorAn        judorAn        True\n",
              "..     ...        ...            ...            ...         ...\n",
              "595    595      faroE         furuwE         furuwE        True\n",
              "596    596   dar~Ajap       dar~AjAt       dar~AjAt        True\n",
              "597    597  murAjaEap      murAjaEAt      murAjaEAt        True\n",
              "598    598  maEorakap        maEArik        maEArik        True\n",
              "599    599     xabiyr        xubarA'        xubarA'        True\n",
              "\n",
              "[600 rows x 5 columns]"
            ],
            "text/html": [
              "\n",
              "  <div id=\"df-cfe60630-1c08-484f-9920-5a9d25df62e7\">\n",
              "    <div class=\"colab-df-container\">\n",
              "      <div>\n",
              "<style scoped>\n",
              "    .dataframe tbody tr th:only-of-type {\n",
              "        vertical-align: middle;\n",
              "    }\n",
              "\n",
              "    .dataframe tbody tr th {\n",
              "        vertical-align: top;\n",
              "    }\n",
              "\n",
              "    .dataframe thead th {\n",
              "        text-align: right;\n",
              "    }\n",
              "</style>\n",
              "<table border=\"1\" class=\"dataframe\">\n",
              "  <thead>\n",
              "    <tr style=\"text-align: right;\">\n",
              "      <th></th>\n",
              "      <th>index</th>\n",
              "      <th>lemma</th>\n",
              "      <th>new inflection</th>\n",
              "      <th>old inflection</th>\n",
              "      <th>is_similar</th>\n",
              "    </tr>\n",
              "  </thead>\n",
              "  <tbody>\n",
              "    <tr>\n",
              "      <th>0</th>\n",
              "      <td>0</td>\n",
              "      <td>Turobiyd</td>\n",
              "      <td>TuwrobiydAt</td>\n",
              "      <td>TuwrobiydAt</td>\n",
              "      <td>True</td>\n",
              "    </tr>\n",
              "    <tr>\n",
              "      <th>1</th>\n",
              "      <td>1</td>\n",
              "      <td>mawoluwd</td>\n",
              "      <td>mawAliyd</td>\n",
              "      <td>mawAliyd</td>\n",
              "      <td>True</td>\n",
              "    </tr>\n",
              "    <tr>\n",
              "      <th>2</th>\n",
              "      <td>2</td>\n",
              "      <td>Daruwriy~</td>\n",
              "      <td>Daruwriy~At</td>\n",
              "      <td>Daruwriy~At</td>\n",
              "      <td>True</td>\n",
              "    </tr>\n",
              "    <tr>\n",
              "      <th>3</th>\n",
              "      <td>3</td>\n",
              "      <td>maEoniy~</td>\n",
              "      <td>maEoniy~iyn</td>\n",
              "      <td>maEoniy~iyn</td>\n",
              "      <td>True</td>\n",
              "    </tr>\n",
              "    <tr>\n",
              "      <th>4</th>\n",
              "      <td>4</td>\n",
              "      <td>jidAr</td>\n",
              "      <td>judorAn</td>\n",
              "      <td>judorAn</td>\n",
              "      <td>True</td>\n",
              "    </tr>\n",
              "    <tr>\n",
              "      <th>...</th>\n",
              "      <td>...</td>\n",
              "      <td>...</td>\n",
              "      <td>...</td>\n",
              "      <td>...</td>\n",
              "      <td>...</td>\n",
              "    </tr>\n",
              "    <tr>\n",
              "      <th>595</th>\n",
              "      <td>595</td>\n",
              "      <td>faroE</td>\n",
              "      <td>furuwE</td>\n",
              "      <td>furuwE</td>\n",
              "      <td>True</td>\n",
              "    </tr>\n",
              "    <tr>\n",
              "      <th>596</th>\n",
              "      <td>596</td>\n",
              "      <td>dar~Ajap</td>\n",
              "      <td>dar~AjAt</td>\n",
              "      <td>dar~AjAt</td>\n",
              "      <td>True</td>\n",
              "    </tr>\n",
              "    <tr>\n",
              "      <th>597</th>\n",
              "      <td>597</td>\n",
              "      <td>murAjaEap</td>\n",
              "      <td>murAjaEAt</td>\n",
              "      <td>murAjaEAt</td>\n",
              "      <td>True</td>\n",
              "    </tr>\n",
              "    <tr>\n",
              "      <th>598</th>\n",
              "      <td>598</td>\n",
              "      <td>maEorakap</td>\n",
              "      <td>maEArik</td>\n",
              "      <td>maEArik</td>\n",
              "      <td>True</td>\n",
              "    </tr>\n",
              "    <tr>\n",
              "      <th>599</th>\n",
              "      <td>599</td>\n",
              "      <td>xabiyr</td>\n",
              "      <td>xubarA'</td>\n",
              "      <td>xubarA'</td>\n",
              "      <td>True</td>\n",
              "    </tr>\n",
              "  </tbody>\n",
              "</table>\n",
              "<p>600 rows × 5 columns</p>\n",
              "</div>\n",
              "      <button class=\"colab-df-convert\" onclick=\"convertToInteractive('df-cfe60630-1c08-484f-9920-5a9d25df62e7')\"\n",
              "              title=\"Convert this dataframe to an interactive table.\"\n",
              "              style=\"display:none;\">\n",
              "        \n",
              "  <svg xmlns=\"http://www.w3.org/2000/svg\" height=\"24px\"viewBox=\"0 0 24 24\"\n",
              "       width=\"24px\">\n",
              "    <path d=\"M0 0h24v24H0V0z\" fill=\"none\"/>\n",
              "    <path d=\"M18.56 5.44l.94 2.06.94-2.06 2.06-.94-2.06-.94-.94-2.06-.94 2.06-2.06.94zm-11 1L8.5 8.5l.94-2.06 2.06-.94-2.06-.94L8.5 2.5l-.94 2.06-2.06.94zm10 10l.94 2.06.94-2.06 2.06-.94-2.06-.94-.94-2.06-.94 2.06-2.06.94z\"/><path d=\"M17.41 7.96l-1.37-1.37c-.4-.4-.92-.59-1.43-.59-.52 0-1.04.2-1.43.59L10.3 9.45l-7.72 7.72c-.78.78-.78 2.05 0 2.83L4 21.41c.39.39.9.59 1.41.59.51 0 1.02-.2 1.41-.59l7.78-7.78 2.81-2.81c.8-.78.8-2.07 0-2.86zM5.41 20L4 18.59l7.72-7.72 1.47 1.35L5.41 20z\"/>\n",
              "  </svg>\n",
              "      </button>\n",
              "      \n",
              "  <style>\n",
              "    .colab-df-container {\n",
              "      display:flex;\n",
              "      flex-wrap:wrap;\n",
              "      gap: 12px;\n",
              "    }\n",
              "\n",
              "    .colab-df-convert {\n",
              "      background-color: #E8F0FE;\n",
              "      border: none;\n",
              "      border-radius: 50%;\n",
              "      cursor: pointer;\n",
              "      display: none;\n",
              "      fill: #1967D2;\n",
              "      height: 32px;\n",
              "      padding: 0 0 0 0;\n",
              "      width: 32px;\n",
              "    }\n",
              "\n",
              "    .colab-df-convert:hover {\n",
              "      background-color: #E2EBFA;\n",
              "      box-shadow: 0px 1px 2px rgba(60, 64, 67, 0.3), 0px 1px 3px 1px rgba(60, 64, 67, 0.15);\n",
              "      fill: #174EA6;\n",
              "    }\n",
              "\n",
              "    [theme=dark] .colab-df-convert {\n",
              "      background-color: #3B4455;\n",
              "      fill: #D2E3FC;\n",
              "    }\n",
              "\n",
              "    [theme=dark] .colab-df-convert:hover {\n",
              "      background-color: #434B5C;\n",
              "      box-shadow: 0px 1px 3px 1px rgba(0, 0, 0, 0.15);\n",
              "      filter: drop-shadow(0px 1px 2px rgba(0, 0, 0, 0.3));\n",
              "      fill: #FFFFFF;\n",
              "    }\n",
              "  </style>\n",
              "\n",
              "      <script>\n",
              "        const buttonEl =\n",
              "          document.querySelector('#df-cfe60630-1c08-484f-9920-5a9d25df62e7 button.colab-df-convert');\n",
              "        buttonEl.style.display =\n",
              "          google.colab.kernel.accessAllowed ? 'block' : 'none';\n",
              "\n",
              "        async function convertToInteractive(key) {\n",
              "          const element = document.querySelector('#df-cfe60630-1c08-484f-9920-5a9d25df62e7');\n",
              "          const dataTable =\n",
              "            await google.colab.kernel.invokeFunction('convertToInteractive',\n",
              "                                                     [key], {});\n",
              "          if (!dataTable) return;\n",
              "\n",
              "          const docLinkHtml = 'Like what you see? Visit the ' +\n",
              "            '<a target=\"_blank\" href=https://colab.research.google.com/notebooks/data_table.ipynb>data table notebook</a>'\n",
              "            + ' to learn more about interactive tables.';\n",
              "          element.innerHTML = '';\n",
              "          dataTable['output_type'] = 'display_data';\n",
              "          await google.colab.output.renderOutput(dataTable, element);\n",
              "          const docLink = document.createElement('div');\n",
              "          docLink.innerHTML = docLinkHtml;\n",
              "          element.appendChild(docLink);\n",
              "        }\n",
              "      </script>\n",
              "    </div>\n",
              "  </div>\n",
              "  "
            ]
          },
          "metadata": {},
          "execution_count": 74
        }
      ]
    },
    {
      "cell_type": "markdown",
      "metadata": {
        "id": "hKMTPoMto-58"
      },
      "source": [
        "## **Combine 2 datesets for Machine Translation**"
      ]
    },
    {
      "cell_type": "code",
      "execution_count": null,
      "metadata": {
        "id": "nOK64RXSpJ-6"
      },
      "outputs": [],
      "source": [
        "'''# 0:lemma | 1:singular pattern | 2:root |3:inflection | 4:plural pattern | 5:plural type(B/S) | 6:gender | 7:rational \n",
        "\n",
        "df1 = train_csv[[\"lemma\", \"inflection\", \"GEN\", \"RAT\"]]\n",
        "df2 = newData[[\"lemma\", \"inflection\", \"GEN\", \"RAT\"]]\n",
        "\n",
        "df1d = df1.drop_duplicates(keep='first')\n",
        "df2d = df2.drop_duplicates(keep='first')\n",
        "\n",
        "mergedData = pd.concat([df1, df2], axis=0)\n",
        "mdd = pd.concat([df1d,df1d, df2d], axis=0)\n",
        "\n",
        "dfm = mdd.drop_duplicates(keep=False)\n",
        "\n",
        "#df1 = mergedData.drop_duplicates(keep='first')\n",
        "#df1=train_csv.merge(newData, indicator=True, how='outer').query('_merge==\"left_only\"').drop('_merge', axis=0)\n",
        "print(dfm.shape[0])'''"
      ]
    },
    {
      "cell_type": "code",
      "source": [
        "def combine_oldAndNewDataLists(old, new):\n",
        "  out = copy.deepcopy(new)\n",
        "  \n",
        "  for i in range(len(old[0])):\n",
        "    out[0].append(old[0][i])\n",
        "    out[1].append(old[3][i])\n",
        "    out[2].append(old[6][i])\n",
        "    out[3].append(old[7][i])\n",
        "    out[4].append(\"NAN\")\n",
        "  return out\n",
        "\n",
        "trainData_comb = combine_oldAndNewDataLists(trainData,trainData_new)\n",
        "devData_comb = combine_oldAndNewDataLists(devData,devData_new)\n",
        "testData_comb = combine_oldAndNewDataLists(testData,testData_new)\n",
        "\n",
        "(len(trainData_comb[0]), len(devData_comb[0]), len(testData_comb[0]))"
      ],
      "metadata": {
        "colab": {
          "base_uri": "https://localhost:8080/"
        },
        "id": "Kk6Zzla85HH4",
        "outputId": "bf58880d-3db7-48c9-e386-f53bafe9db3b"
      },
      "execution_count": 76,
      "outputs": [
        {
          "output_type": "execute_result",
          "data": {
            "text/plain": [
              "(3475, 1403, 1628)"
            ]
          },
          "metadata": {},
          "execution_count": 76
        }
      ]
    },
    {
      "cell_type": "markdown",
      "metadata": {
        "id": "kPYXqpgcYktV"
      },
      "source": [
        "## **Encoding new data (Character-based)**"
      ]
    },
    {
      "cell_type": "code",
      "execution_count": 77,
      "metadata": {
        "id": "WgP9FLRrYktW",
        "colab": {
          "base_uri": "https://localhost:8080/"
        },
        "outputId": "f58028dd-c182-4714-fa1f-8ad051be524c"
      },
      "outputs": [
        {
          "output_type": "stream",
          "name": "stdout",
          "text": [
            "lemma shape train:  1000\n",
            "lemma shape dev:  343\n",
            "lemma shape test:  600\n"
          ]
        }
      ],
      "source": [
        "# encode data and get maximum length of features\n",
        "def getEncodedNewData(data):\n",
        "  data_encoded = data.copy()\n",
        "  data_encoded[0] = [encodeWord(each) for each in data[0]]\n",
        "  data_encoded[1] = [encodeWord(each) for each in data[1]]\n",
        "\n",
        "  return data_encoded\n",
        "\n",
        "\n",
        "trainData_new_encoded = getEncodedNewData(trainData_new)\n",
        "devData_new_encoded = getEncodedNewData(devData_new)\n",
        "testData_new_encoded = getEncodedNewData(testData_new)\n",
        "\n",
        "trainData_comb_encoded = getEncodedNewData(trainData_comb)\n",
        "devData_comb_encoded = getEncodedNewData(devData_comb)\n",
        "testData_comb_encoded = getEncodedNewData(testData_comb)\n",
        "\n",
        "print('lemma shape train: ', len(trainData_new_encoded[0]))\n",
        "print('lemma shape dev: ', len(devData_new_encoded[0]))\n",
        "print('lemma shape test: ', len(testData_new_encoded[0]))"
      ]
    },
    {
      "cell_type": "code",
      "execution_count": 78,
      "metadata": {
        "id": "bOanXQyHYktX",
        "colab": {
          "base_uri": "https://localhost:8080/"
        },
        "outputId": "0977d9fc-af7e-48d5-ce68-e7915a6d34ad"
      },
      "outputs": [
        {
          "output_type": "stream",
          "name": "stdout",
          "text": [
            "lemma with pad shape train:  (1000, 17)\n",
            "lemma with pad shape dev:  (343, 17)\n",
            "lemma with pad shape test:  (600, 17)\n"
          ]
        }
      ],
      "source": [
        "# ADD padding to sample\n",
        "def getPaddednewData(encodedData, lemma_max_len, inflection_max_len):\n",
        "  data_pad = []\n",
        "  data_pad.append(np.array(pad_sequences(encodedData[0], maxlen=lemma_max_len, padding='post'))) \n",
        "  data_pad.append(np.array(pad_sequences(encodedData[1], maxlen=inflection_max_len, padding='post')))\n",
        "\n",
        "  data_pad.append(np.array(encodedData[2]))\n",
        "  data_pad.append(np.array(encodedData[3]))\n",
        "\n",
        "  return data_pad\n",
        "\n",
        "trainData_new_pad = getPaddednewData(trainData_new_encoded, lemma_max_len, inflection_max_len)\n",
        "devData_new_pad = getPaddednewData(devData_new_encoded, lemma_max_len, inflection_max_len)\n",
        "testData_new_pad = getPaddednewData(testData_new_encoded, lemma_max_len, inflection_max_len)\n",
        "\n",
        "trainData_comb_pad = getPaddednewData(trainData_comb_encoded, lemma_max_len, inflection_max_len)\n",
        "devData_comb_pad = getPaddednewData(devData_comb_encoded, lemma_max_len, inflection_max_len)\n",
        "testData_comb_pad = getPaddednewData(testData_comb_encoded, lemma_max_len, inflection_max_len)\n",
        "\n",
        "print('lemma with pad shape train: ', trainData_new_pad[0].shape)\n",
        "print('lemma with pad shape dev: ', devData_new_pad[0].shape)\n",
        "print('lemma with pad shape test: ', testData_new_pad[0].shape)"
      ]
    },
    {
      "cell_type": "markdown",
      "metadata": {
        "id": "TOcPWZyxYktX"
      },
      "source": [
        "## **Create inputs of neural network**"
      ]
    },
    {
      "cell_type": "markdown",
      "metadata": {
        "id": "KHOXSZq1Rd6C"
      },
      "source": [
        "#### **Old**"
      ]
    },
    {
      "cell_type": "code",
      "execution_count": 79,
      "metadata": {
        "id": "8oRef0-fYktX",
        "colab": {
          "base_uri": "https://localhost:8080/"
        },
        "outputId": "fa120096-a287-4e83-dac4-7a9df0ddaf61"
      },
      "outputs": [
        {
          "output_type": "stream",
          "name": "stdout",
          "text": [
            "X_train_lemma shape:  (2475, 17)\n",
            "X_train_singularPattern shape:  (2475, 17)\n",
            "X_train_root shape:  (2475, 4)\n",
            "X_train_genRat shape:  (2475, 2)\n",
            "X_train_numOfRoot shape:  (2475, 1)\n",
            "y_train_class shape:  (2475, 1)\n",
            "y_train_plPattern shape:  (2475, 18)\n",
            "y_train_unflection shape:  (2475, 18)\n"
          ]
        }
      ],
      "source": [
        "# 0:lamma | 1:singular pattern | 2:root |3:inflection | 4:plural pattern | 5:plural type(B/S) | 6:gender | 7:rational | 8:number of root\n",
        "# create train set\n",
        "X_train_lemma = trainData_pad[0]  # lemma feature\n",
        "X_train_singularPattern = trainData_pad[1]  # singular pattern feature\n",
        "X_train_root = trainData_pad[2]  # root feature\n",
        "X_train_genRat = np.stack((trainData_pad[6], trainData_pad[7]), axis=-1)  # gender & rational features\n",
        "X_train_numOfRoot = trainData_pad[8].reshape((trainData_pad[8].shape[0], -1))  # number of root\n",
        "\n",
        "y_train_class = trainData_pad[5].reshape((trainData_pad[5].shape[0], -1))  # broken or sound classes\n",
        "y_train_plPattern = trainData_pad[4]  # plural pattern\n",
        "y_train_inflection = trainData_pad[3]  # inflection\n",
        "\n",
        "# create dev set\n",
        "X_dev_lemma = devData_pad[0]  # lemma feature\n",
        "X_dev_singularPattern = devData_pad[1]  # singular pattern feature\n",
        "X_dev_root = devData_pad[2]  # root feature\n",
        "X_dev_genRat = np.stack((devData_pad[6], devData_pad[7]), axis=-1)  # gender & rational features\n",
        "X_dev_numOfRoot = devData_pad[8].reshape((devData_pad[8].shape[0], -1))  # number of root\n",
        "\n",
        "y_dev_class = devData_pad[5].reshape((devData_pad[5].shape[0], -1))  # broken or sound classes\n",
        "y_dev_plPattern = devData_pad[4]  # plural pattern\n",
        "y_dev_inflection = devData_pad[3]  # inflection\n",
        "\n",
        "# create test set\n",
        "X_test_lemma = testData_pad[0]  # lemma feature\n",
        "X_test_singularPattern = testData_pad[1]  # singular pattern feature\n",
        "X_test_root = testData_pad[2]  # root feature\n",
        "X_test_genRat = np.stack((testData_pad[6], testData_pad[7]), axis=-1)  # gender & rational features\n",
        "X_test_numOfRoot = testData_pad[8].reshape((testData_pad[8].shape[0], -1))  # number of root\n",
        "\n",
        "y_test_class = testData_pad[5].reshape((testData_pad[5].shape[0], -1))  # broken or sound classes\n",
        "y_test_plPattern = testData_pad[4]  # plural pattern\n",
        "y_test_inflection = testData_pad[3]  # inflection\n",
        "\n",
        "print('X_train_lemma shape: ', X_train_lemma.shape)\n",
        "print('X_train_singularPattern shape: ', X_train_singularPattern.shape)\n",
        "print('X_train_root shape: ', X_train_root.shape)\n",
        "print('X_train_genRat shape: ', X_train_genRat.shape)\n",
        "print('X_train_numOfRoot shape: ', X_train_numOfRoot.shape)\n",
        "print('y_train_class shape: ', y_train_class.shape)\n",
        "print('y_train_plPattern shape: ', y_train_plPattern.shape)\n",
        "print('y_train_unflection shape: ', y_train_inflection.shape)"
      ]
    },
    {
      "cell_type": "code",
      "execution_count": 80,
      "metadata": {
        "id": "zZfIXoHGYktY",
        "colab": {
          "base_uri": "https://localhost:8080/"
        },
        "outputId": "d0efd1e8-9a1a-4a10-fd3f-434f6e058c26"
      },
      "outputs": [
        {
          "output_type": "stream",
          "name": "stdout",
          "text": [
            "(2475, 17, 50)\n",
            "(2475, 17, 50)\n",
            "(2475, 4, 50)\n",
            "(2475, 18, 50)\n",
            "(2475, 18, 50)\n"
          ]
        }
      ],
      "source": [
        "# Convert to ONE-HOT encoding\n",
        "X_train_lemma_OH = to_categorical(X_train_lemma, len(char_index))\n",
        "X_train_singularPattern_OH = to_categorical(X_train_singularPattern, len(char_index))\n",
        "X_train_root_OH = to_categorical(X_train_root, len(char_index))\n",
        "\n",
        "X_dev_lemma_OH = to_categorical(X_dev_lemma, len(char_index))\n",
        "X_dev_singularPattern_OH = to_categorical(X_dev_singularPattern, len(char_index))\n",
        "X_dev_root_OH = to_categorical(X_dev_root, len(char_index))\n",
        "\n",
        "X_test_lemma_OH = to_categorical(X_test_lemma, len(char_index))\n",
        "X_test_singularPattern_OH = to_categorical(X_test_singularPattern, len(char_index))\n",
        "X_test_root_OH = to_categorical(X_test_root, len(char_index))\n",
        "\n",
        "y_train_plPattern_OH = to_categorical(y_train_plPattern, len(char_index))\n",
        "y_dev_plPattern_OH = to_categorical(y_dev_plPattern, len(char_index))\n",
        "y_test_plPattern_OH = to_categorical(y_test_plPattern, len(char_index))\n",
        "\n",
        "y_train_inflection_OH = to_categorical(y_train_inflection, len(char_index))\n",
        "y_dev_inflection_OH = to_categorical(y_dev_inflection, len(char_index))\n",
        "y_test_inflection_OH = to_categorical(y_test_inflection, len(char_index))\n",
        "\n",
        "print(X_train_lemma_OH.shape)\n",
        "print(X_train_singularPattern_OH.shape)\n",
        "print(X_train_root_OH.shape)\n",
        "print(y_train_plPattern_OH.shape)\n",
        "print(y_train_inflection_OH.shape)"
      ]
    },
    {
      "cell_type": "code",
      "execution_count": 81,
      "metadata": {
        "id": "OST6JVaoYktY"
      },
      "outputs": [],
      "source": [
        "# covern numerical inputs to int32\n",
        "X_train_genRat = np.asarray(X_train_genRat).astype('int32')\n",
        "X_train_numOfRoot = np.asarray(X_train_numOfRoot).astype('int32')\n",
        "X_dev_genRat = np.asarray(X_dev_genRat).astype('int32')\n",
        "X_dev_numOfRoot = np.asarray(X_dev_numOfRoot).astype('int32')\n",
        "X_test_genRat = np.asarray(X_test_genRat).astype('int32')\n",
        "X_test_numOfRoot = np.asarray(X_test_numOfRoot).astype('int32')\n",
        "\n",
        "y_train_class = np.asarray(y_train_class).astype('int32')\n",
        "y_dev_class = np.asarray(y_dev_class).astype('int32')\n",
        "y_test_class = np.asarray(y_test_class).astype('int32')"
      ]
    },
    {
      "cell_type": "markdown",
      "metadata": {
        "id": "JJvKtWGURjyg"
      },
      "source": [
        "#### **New**"
      ]
    },
    {
      "cell_type": "code",
      "execution_count": 82,
      "metadata": {
        "id": "5Yc6-yc7XumH"
      },
      "outputs": [],
      "source": [
        "# 0:lamma | 1:inflection | 2:gender | 3:rational\n",
        "# create train set\n",
        "X_train_lemma_new = trainData_new_pad[0]  # lemma feature\n",
        "X_train_genRat_new = np.stack((trainData_new_pad[2], trainData_new_pad[3]), axis=-1)  # gender & rational features\n",
        "y_train_inflection_new = trainData_new_pad[1]  # inflection\n",
        "\n",
        "# create train set\n",
        "X_dev_lemma_new = devData_new_pad[0]  # lemma feature\n",
        "X_dev_genRat_new = np.stack((devData_new_pad[2], devData_new_pad[3]), axis=-1)  # gender & rational features\n",
        "y_dev_inflection_new = devData_new_pad[1]  # inflection\n",
        "\n",
        "# create train set\n",
        "X_test_lemma_new = testData_new_pad[0]  # lemma feature\n",
        "X_test_genRat_new = np.stack((testData_new_pad[2], testData_new_pad[3]), axis=-1)  # gender & rational features\n",
        "y_test_inflection_new = testData_new_pad[1]  # inflection"
      ]
    },
    {
      "cell_type": "code",
      "source": [
        "X_train_lemma_new_OH = to_categorical(X_train_lemma_new, len(char_index))\n",
        "y_train_inflection_new_OH = to_categorical(y_train_inflection_new, len(char_index))\n",
        "\n",
        "X_dev_lemma_new_OH = to_categorical(X_dev_lemma_new, len(char_index))\n",
        "y_dev_inflection_new_OH = to_categorical(y_dev_inflection_new, len(char_index))\n",
        "\n",
        "X_test_lemma_new_OH = to_categorical(X_test_lemma_new, len(char_index))\n",
        "y_test_inflection_new_OH = to_categorical(y_test_inflection_new, len(char_index))\n",
        "\n",
        "y_train_inflection_new_OH.shape"
      ],
      "metadata": {
        "colab": {
          "base_uri": "https://localhost:8080/"
        },
        "id": "Lqnjoqtwtbn5",
        "outputId": "9c0a69d4-4d9b-4c2b-8d88-af6a1f2e63e5"
      },
      "execution_count": 83,
      "outputs": [
        {
          "output_type": "execute_result",
          "data": {
            "text/plain": [
              "(1000, 18, 50)"
            ]
          },
          "metadata": {},
          "execution_count": 83
        }
      ]
    },
    {
      "cell_type": "markdown",
      "metadata": {
        "id": "WrAcTpfr9J82"
      },
      "source": [
        "#### **Combined**"
      ]
    },
    {
      "cell_type": "code",
      "execution_count": 84,
      "metadata": {
        "id": "q81cqKFv9J83"
      },
      "outputs": [],
      "source": [
        "# 0:lamma | 1:inflection | 2:gender | 3:rational\n",
        "# create train set\n",
        "X_train_lemma_comb = trainData_comb_pad[0]  # lemma feature\n",
        "X_train_genRat_comb = np.stack((trainData_comb_pad[2], trainData_comb_pad[3]), axis=-1)  # gender & rational features\n",
        "y_train_inflection_comb = trainData_comb_pad[1]  # inflection\n",
        "\n",
        "# create train set\n",
        "X_dev_lemma_comb = devData_comb_pad[0]  # lemma feature\n",
        "X_dev_genRat_comb = np.stack((devData_comb_pad[2], devData_comb_pad[3]), axis=-1)  # gender & rational features\n",
        "y_dev_inflection_comb = devData_comb_pad[1]  # inflection\n",
        "\n",
        "# create train set\n",
        "X_test_lemma_comb = testData_comb_pad[0]  # lemma feature\n",
        "X_test_genRat_comb = np.stack((testData_comb_pad[2], testData_comb_pad[3]), axis=-1)  # gender & rational features\n",
        "y_test_inflection_comb = testData_comb_pad[1]  # inflection"
      ]
    },
    {
      "cell_type": "code",
      "source": [
        "X_train_lemma_comb_OH = to_categorical(X_train_lemma_comb, len(char_index))\n",
        "y_train_inflection_comb_OH = to_categorical(y_train_inflection_comb, len(char_index))\n",
        "\n",
        "X_dev_lemma_comb_OH = to_categorical(X_dev_lemma_comb, len(char_index))\n",
        "y_dev_inflection_comb_OH = to_categorical(y_dev_inflection_comb, len(char_index))\n",
        "\n",
        "X_test_lemma_comb_OH = to_categorical(X_test_lemma_comb, len(char_index))\n",
        "y_test_inflection_comb_OH = to_categorical(y_test_inflection_comb, len(char_index))\n",
        "\n",
        "y_train_inflection_comb_OH.shape"
      ],
      "metadata": {
        "colab": {
          "base_uri": "https://localhost:8080/"
        },
        "outputId": "4b6f93d1-59b5-45f3-95ff-722628c9fcaf",
        "id": "mE433APE9J83"
      },
      "execution_count": 85,
      "outputs": [
        {
          "output_type": "execute_result",
          "data": {
            "text/plain": [
              "(3475, 18, 50)"
            ]
          },
          "metadata": {},
          "execution_count": 85
        }
      ]
    },
    {
      "cell_type": "markdown",
      "metadata": {
        "id": "5aRDIUaOvvJv"
      },
      "source": [
        "# **Classification Models**"
      ]
    },
    {
      "cell_type": "code",
      "execution_count": 172,
      "metadata": {
        "id": "o2WmPwVwV7z-"
      },
      "outputs": [],
      "source": [
        "path = '/content/drive/MyDrive/AI Projects/Arabic Broken Plural/Results/Classification Models'\n",
        "# path = '/content/drive/MyDrive/Deep Learning/Datasets/Arabic Broken Plural/Results/Classification Models'"
      ]
    },
    {
      "cell_type": "code",
      "execution_count": 173,
      "metadata": {
        "id": "caFMHfjbiMQT"
      },
      "outputs": [],
      "source": [
        "lemma_length = X_train_lemma_OH.shape[1] #17\n",
        "encode_size = X_train_lemma_OH.shape[2] #50\n",
        "genRat_length = X_train_genRat.shape[1] #2\n",
        "\n",
        "epochs = 100\n",
        "batch_size = 64"
      ]
    },
    {
      "cell_type": "markdown",
      "metadata": {
        "id": "wYae4z1hhH4t"
      },
      "source": [
        "## **Model 1**"
      ]
    },
    {
      "cell_type": "code",
      "execution_count": 174,
      "metadata": {
        "id": "BUCsnXkThH4z",
        "colab": {
          "base_uri": "https://localhost:8080/"
        },
        "outputId": "c445d711-ff60-49f8-cb6c-9f71d6776277"
      },
      "outputs": [
        {
          "output_type": "stream",
          "name": "stderr",
          "text": [
            "WARNING:tensorflow:Compiled the loaded model, but the compiled metrics have yet to be built. `model.compile_metrics` will be empty until you train or evaluate the model.\n"
          ]
        }
      ],
      "source": [
        "input_lemma = Input(shape=(lemma_length, encode_size), name='Lemma')\n",
        "input_genRat = Input(shape=(genRat_length,), name='Gender-Rational')\n",
        "\n",
        "\n",
        "lstm = Bidirectional(LSTM(256, name='Lstm'), name='Bidirectional')(input_lemma)\n",
        "\n",
        "c = Concatenate(axis=1, name='Concatenate')([lstm, input_genRat])\n",
        "\n",
        "d = Dense(256, activation='relu', name='Dense1')(c)\n",
        "d = Dense(64, activation='relu', name='Dense2')(d)\n",
        "\n",
        "output = Dense(1, activation='sigmoid', name='Class')(d)\n",
        "model = Model(inputs=[input_lemma, input_genRat], outputs=output)\n",
        "\n",
        "model.save(path + \"/model 1/structure.h5\")\n",
        "\n",
        "checkpoint_filepath = path + '/model 1/weights.hdf5'\n",
        "checkpoint = ModelCheckpoint(filepath=checkpoint_filepath, monitor='val_accuracy', mode='max', save_best_only=True, verbose=0)\n",
        "\n",
        "model.compile(loss=\"binary_crossentropy\", optimizer=Adam(0.001), metrics=['accuracy'])"
      ]
    },
    {
      "cell_type": "code",
      "execution_count": null,
      "metadata": {
        "id": "gd9ygt4yhH4-"
      },
      "outputs": [],
      "source": [
        "with tf.device('/GPU:0'):\n",
        "  history = model.fit([X_train_lemma_OH, X_train_genRat], y_train_class, batch_size=batch_size, epochs=epochs, \n",
        "                      verbose=1, callbacks=[checkpoint], validation_data=([X_dev_lemma_OH, X_dev_genRat], y_dev_class)).history"
      ]
    },
    {
      "cell_type": "code",
      "execution_count": 176,
      "metadata": {
        "id": "BB-ixvAghH5E",
        "colab": {
          "base_uri": "https://localhost:8080/",
          "height": 1000
        },
        "outputId": "bde2909b-de35-45ab-b37a-e31d6abb1566"
      },
      "outputs": [
        {
          "output_type": "stream",
          "name": "stdout",
          "text": [
            "Model: \"model_3\"\n",
            "__________________________________________________________________________________________________\n",
            " Layer (type)                   Output Shape         Param #     Connected to                     \n",
            "==================================================================================================\n",
            " Lemma (InputLayer)             [(None, 17, 50)]     0           []                               \n",
            "                                                                                                  \n",
            " Bidirectional (Bidirectional)  (None, 512)          628736      ['Lemma[0][0]']                  \n",
            "                                                                                                  \n",
            " Gender-Rational (InputLayer)   [(None, 2)]          0           []                               \n",
            "                                                                                                  \n",
            " Concatenate (Concatenate)      (None, 514)          0           ['Bidirectional[0][0]',          \n",
            "                                                                  'Gender-Rational[0][0]']        \n",
            "                                                                                                  \n",
            " Dense1 (Dense)                 (None, 256)          131840      ['Concatenate[0][0]']            \n",
            "                                                                                                  \n",
            " Dense2 (Dense)                 (None, 64)           16448       ['Dense1[0][0]']                 \n",
            "                                                                                                  \n",
            " Class (Dense)                  (None, 1)            65          ['Dense2[0][0]']                 \n",
            "                                                                                                  \n",
            "==================================================================================================\n",
            "Total params: 777,089\n",
            "Trainable params: 777,089\n",
            "Non-trainable params: 0\n",
            "__________________________________________________________________________________________________\n",
            "None\n"
          ]
        },
        {
          "output_type": "execute_result",
          "data": {
            "image/png": "[encoded data removed]",
            "text/plain": [
              "<IPython.core.display.Image object>"
            ]
          },
          "metadata": {},
          "execution_count": 176
        }
      ],
      "source": [
        "print(model.summary())\n",
        "plot_model(model, to_file=path+'/model 1/architecture.png', show_shapes=True, show_layer_names=True)"
      ]
    },
    {
      "cell_type": "code",
      "execution_count": 177,
      "metadata": {
        "id": "dDj9zmJqhH5J",
        "colab": {
          "base_uri": "https://localhost:8080/"
        },
        "outputId": "8166e53c-544b-4ddb-ab42-801f39fb4aaa"
      },
      "outputs": [
        {
          "output_type": "stream",
          "name": "stdout",
          "text": [
            "33/33 [==============================] - 1s 5ms/step - loss: 0.2506 - accuracy: 0.9767\n"
          ]
        },
        {
          "output_type": "execute_result",
          "data": {
            "text/plain": [
              "[0.25061726570129395, 0.9766536951065063]"
            ]
          },
          "metadata": {},
          "execution_count": 177
        }
      ],
      "source": [
        "model = load_model(checkpoint_filepath)\n",
        "model.evaluate([X_test_lemma_OH, X_test_genRat], y_test_class)"
      ]
    },
    {
      "cell_type": "code",
      "execution_count": 178,
      "metadata": {
        "id": "BPWyu0gjgiHO",
        "colab": {
          "base_uri": "https://localhost:8080/"
        },
        "outputId": "ce1d96d6-ef98-470a-eba0-c69b62725229"
      },
      "outputs": [
        {
          "output_type": "stream",
          "name": "stdout",
          "text": [
            "best model based on min test set loss:  acc= 0.9603773355484009  loss= 0.14488400518894196\n",
            "best model based on max test set accuracy:  acc= 0.9764150977134705  loss= 0.26544255018234253\n",
            "\n",
            "evaluate dataset with best model based on maximum test set accuracy\n",
            "evaluate test set =  [0.25061726570129395, 0.9766536951065063]\n",
            "33/33 [==============================] - 1s 5ms/step\n",
            "------------------------------ metrics for test set ------------------------------\n",
            "confusion matrix: \n",
            " [[515  11]\n",
            " [ 13 489]]\n",
            "              precision    recall  f1-score   support\n",
            "\n",
            "      Broken      0.975     0.979     0.977       526\n",
            "       Sound      0.978     0.974     0.976       502\n",
            "\n",
            "    accuracy                          0.977      1028\n",
            "   macro avg      0.977     0.977     0.977      1028\n",
            "weighted avg      0.977     0.977     0.977      1028\n",
            "\n"
          ]
        }
      ],
      "source": [
        "reportResult(model, history, [X_test_lemma_OH, X_test_genRat], y_test_class)"
      ]
    },
    {
      "cell_type": "markdown",
      "metadata": {
        "id": "DBYWYsIYgR4S"
      },
      "source": [
        "### **Error Analysis**"
      ]
    },
    {
      "cell_type": "markdown",
      "metadata": {
        "id": "2WMhXUKOgYzM"
      },
      "source": [
        "Train set"
      ]
    },
    {
      "cell_type": "code",
      "execution_count": 179,
      "metadata": {
        "id": "WxnbG5hDtWlO",
        "colab": {
          "base_uri": "https://localhost:8080/",
          "height": 148
        },
        "outputId": "b8cae9a1-723a-4b33-e73d-a8eac015fed6"
      },
      "outputs": [
        {
          "output_type": "stream",
          "name": "stdout",
          "text": [
            "78/78 [==============================] - 0s 5ms/step\n"
          ]
        },
        {
          "output_type": "execute_result",
          "data": {
            "text/plain": [
              "Empty DataFrame\n",
              "Columns: [index, lemma, inflection, b/s, b/s predict]\n",
              "Index: []"
            ],
            "text/html": [
              "\n",
              "  <div id=\"df-fb635dd5-19d3-4e80-937c-cd660ecb0c26\">\n",
              "    <div class=\"colab-df-container\">\n",
              "      <div>\n",
              "<style scoped>\n",
              "    .dataframe tbody tr th:only-of-type {\n",
              "        vertical-align: middle;\n",
              "    }\n",
              "\n",
              "    .dataframe tbody tr th {\n",
              "        vertical-align: top;\n",
              "    }\n",
              "\n",
              "    .dataframe thead th {\n",
              "        text-align: right;\n",
              "    }\n",
              "</style>\n",
              "<table border=\"1\" class=\"dataframe\">\n",
              "  <thead>\n",
              "    <tr style=\"text-align: right;\">\n",
              "      <th></th>\n",
              "      <th>index</th>\n",
              "      <th>lemma</th>\n",
              "      <th>inflection</th>\n",
              "      <th>b/s</th>\n",
              "      <th>b/s predict</th>\n",
              "    </tr>\n",
              "  </thead>\n",
              "  <tbody>\n",
              "  </tbody>\n",
              "</table>\n",
              "</div>\n",
              "      <button class=\"colab-df-convert\" onclick=\"convertToInteractive('df-fb635dd5-19d3-4e80-937c-cd660ecb0c26')\"\n",
              "              title=\"Convert this dataframe to an interactive table.\"\n",
              "              style=\"display:none;\">\n",
              "        \n",
              "  <svg xmlns=\"http://www.w3.org/2000/svg\" height=\"24px\"viewBox=\"0 0 24 24\"\n",
              "       width=\"24px\">\n",
              "    <path d=\"M0 0h24v24H0V0z\" fill=\"none\"/>\n",
              "    <path d=\"M18.56 5.44l.94 2.06.94-2.06 2.06-.94-2.06-.94-.94-2.06-.94 2.06-2.06.94zm-11 1L8.5 8.5l.94-2.06 2.06-.94-2.06-.94L8.5 2.5l-.94 2.06-2.06.94zm10 10l.94 2.06.94-2.06 2.06-.94-2.06-.94-.94-2.06-.94 2.06-2.06.94z\"/><path d=\"M17.41 7.96l-1.37-1.37c-.4-.4-.92-.59-1.43-.59-.52 0-1.04.2-1.43.59L10.3 9.45l-7.72 7.72c-.78.78-.78 2.05 0 2.83L4 21.41c.39.39.9.59 1.41.59.51 0 1.02-.2 1.41-.59l7.78-7.78 2.81-2.81c.8-.78.8-2.07 0-2.86zM5.41 20L4 18.59l7.72-7.72 1.47 1.35L5.41 20z\"/>\n",
              "  </svg>\n",
              "      </button>\n",
              "      \n",
              "  <style>\n",
              "    .colab-df-container {\n",
              "      display:flex;\n",
              "      flex-wrap:wrap;\n",
              "      gap: 12px;\n",
              "    }\n",
              "\n",
              "    .colab-df-convert {\n",
              "      background-color: #E8F0FE;\n",
              "      border: none;\n",
              "      border-radius: 50%;\n",
              "      cursor: pointer;\n",
              "      display: none;\n",
              "      fill: #1967D2;\n",
              "      height: 32px;\n",
              "      padding: 0 0 0 0;\n",
              "      width: 32px;\n",
              "    }\n",
              "\n",
              "    .colab-df-convert:hover {\n",
              "      background-color: #E2EBFA;\n",
              "      box-shadow: 0px 1px 2px rgba(60, 64, 67, 0.3), 0px 1px 3px 1px rgba(60, 64, 67, 0.15);\n",
              "      fill: #174EA6;\n",
              "    }\n",
              "\n",
              "    [theme=dark] .colab-df-convert {\n",
              "      background-color: #3B4455;\n",
              "      fill: #D2E3FC;\n",
              "    }\n",
              "\n",
              "    [theme=dark] .colab-df-convert:hover {\n",
              "      background-color: #434B5C;\n",
              "      box-shadow: 0px 1px 3px 1px rgba(0, 0, 0, 0.15);\n",
              "      filter: drop-shadow(0px 1px 2px rgba(0, 0, 0, 0.3));\n",
              "      fill: #FFFFFF;\n",
              "    }\n",
              "  </style>\n",
              "\n",
              "      <script>\n",
              "        const buttonEl =\n",
              "          document.querySelector('#df-fb635dd5-19d3-4e80-937c-cd660ecb0c26 button.colab-df-convert');\n",
              "        buttonEl.style.display =\n",
              "          google.colab.kernel.accessAllowed ? 'block' : 'none';\n",
              "\n",
              "        async function convertToInteractive(key) {\n",
              "          const element = document.querySelector('#df-fb635dd5-19d3-4e80-937c-cd660ecb0c26');\n",
              "          const dataTable =\n",
              "            await google.colab.kernel.invokeFunction('convertToInteractive',\n",
              "                                                     [key], {});\n",
              "          if (!dataTable) return;\n",
              "\n",
              "          const docLinkHtml = 'Like what you see? Visit the ' +\n",
              "            '<a target=\"_blank\" href=https://colab.research.google.com/notebooks/data_table.ipynb>data table notebook</a>'\n",
              "            + ' to learn more about interactive tables.';\n",
              "          element.innerHTML = '';\n",
              "          dataTable['output_type'] = 'display_data';\n",
              "          await google.colab.output.renderOutput(dataTable, element);\n",
              "          const docLink = document.createElement('div');\n",
              "          docLink.innerHTML = docLinkHtml;\n",
              "          element.appendChild(docLink);\n",
              "        }\n",
              "      </script>\n",
              "    </div>\n",
              "  </div>\n",
              "  "
            ]
          },
          "metadata": {},
          "execution_count": 179
        }
      ],
      "source": [
        "train_class_p=model.predict([X_train_lemma_OH, X_train_genRat])\n",
        "reportErrorAnalysis_classification(trainData[0], y_train_inflection_OH, y_train_class, train_class_p, path + \"/model 1/train_errorAnalysis.csv\")"
      ]
    },
    {
      "cell_type": "markdown",
      "metadata": {
        "id": "YBgk1fKxgain"
      },
      "source": [
        "Dev set"
      ]
    },
    {
      "cell_type": "code",
      "execution_count": 180,
      "metadata": {
        "id": "_nD8ybG73xFR",
        "colab": {
          "base_uri": "https://localhost:8080/",
          "height": 932
        },
        "outputId": "004056b5-09cf-4cc6-9f40-2a1bad50d977"
      },
      "outputs": [
        {
          "output_type": "stream",
          "name": "stdout",
          "text": [
            "34/34 [==============================] - 0s 5ms/step\n"
          ]
        },
        {
          "output_type": "execute_result",
          "data": {
            "text/plain": [
              "    index           lemma          inflection  b/s b/s predict\n",
              "0     213           na$AT           >ano$iTap  [0]       [1.0]\n",
              "1     317          $Aliyh            $AliyhAt  [1]       [0.0]\n",
              "2     405         qA*ifap             qA*ifAt  [1]       [0.0]\n",
              "3     474             bin               baniy  [0]       [1.0]\n",
              "4     513         >awAdim             >awAdim  [0]       [1.0]\n",
              "5     532         $amoEap             $amaEAt  [1]       [0.0]\n",
              "6     556         HalowaY           HulowayAt  [1]       [0.0]\n",
              "7     607         rAbiTap             rAbiTAt  [1]       [0.0]\n",
              "8     625         raqoSap             raqaSAt  [1]       [0.0]\n",
              "9     627         Eatabap             >aEotAb  [0]       [1.0]\n",
              "10    628         EawAdim             EawAdim  [0]       [1.0]\n",
              "11    649           zA}ir            zA}iriyn  [1]       [0.0]\n",
              "12    651        zam~Arap            zamAmiyr  [0]       [1.0]\n",
              "13    656           <i*on              >u*uwn  [0]       [1.0]\n",
              "14    678        $uroTiy~         $uroTiy~iyn  [1]       [0.0]\n",
              "15    715           DAliE            DAliEiyn  [1]       [0.0]\n",
              "16    717  >urovuwduksiy~  >urovuw*ukosiy~iyn  [1]       [0.0]\n",
              "17    729      >umoniy~ap          >umoniy~At  [1]       [0.0]\n",
              "18    776           wAriv             waravap  [0]       [1.0]\n",
              "19    784        misokiyn            masAkiyn  [0]       [1.0]\n",
              "20    824           fatoH            futuwHAt  [1]       [0.0]\n",
              "21    917         majoraY               majAr  [0]       [1.0]\n",
              "22    977      naSorAniy~             naSAraY  [0]       [1.0]\n",
              "23    999        dukotuwr           dakAtirap  [0]       [1.0]\n",
              "24   1011           faHoS            fuHuwSAt  [1]       [0.0]"
            ],
            "text/html": [
              "\n",
              "  <div id=\"df-f7073922-5b7f-4c0b-8b0d-438e59c097b2\">\n",
              "    <div class=\"colab-df-container\">\n",
              "      <div>\n",
              "<style scoped>\n",
              "    .dataframe tbody tr th:only-of-type {\n",
              "        vertical-align: middle;\n",
              "    }\n",
              "\n",
              "    .dataframe tbody tr th {\n",
              "        vertical-align: top;\n",
              "    }\n",
              "\n",
              "    .dataframe thead th {\n",
              "        text-align: right;\n",
              "    }\n",
              "</style>\n",
              "<table border=\"1\" class=\"dataframe\">\n",
              "  <thead>\n",
              "    <tr style=\"text-align: right;\">\n",
              "      <th></th>\n",
              "      <th>index</th>\n",
              "      <th>lemma</th>\n",
              "      <th>inflection</th>\n",
              "      <th>b/s</th>\n",
              "      <th>b/s predict</th>\n",
              "    </tr>\n",
              "  </thead>\n",
              "  <tbody>\n",
              "    <tr>\n",
              "      <th>0</th>\n",
              "      <td>213</td>\n",
              "      <td>na$AT</td>\n",
              "      <td>&gt;ano$iTap</td>\n",
              "      <td>[0]</td>\n",
              "      <td>[1.0]</td>\n",
              "    </tr>\n",
              "    <tr>\n",
              "      <th>1</th>\n",
              "      <td>317</td>\n",
              "      <td>$Aliyh</td>\n",
              "      <td>$AliyhAt</td>\n",
              "      <td>[1]</td>\n",
              "      <td>[0.0]</td>\n",
              "    </tr>\n",
              "    <tr>\n",
              "      <th>2</th>\n",
              "      <td>405</td>\n",
              "      <td>qA*ifap</td>\n",
              "      <td>qA*ifAt</td>\n",
              "      <td>[1]</td>\n",
              "      <td>[0.0]</td>\n",
              "    </tr>\n",
              "    <tr>\n",
              "      <th>3</th>\n",
              "      <td>474</td>\n",
              "      <td>bin</td>\n",
              "      <td>baniy</td>\n",
              "      <td>[0]</td>\n",
              "      <td>[1.0]</td>\n",
              "    </tr>\n",
              "    <tr>\n",
              "      <th>4</th>\n",
              "      <td>513</td>\n",
              "      <td>&gt;awAdim</td>\n",
              "      <td>&gt;awAdim</td>\n",
              "      <td>[0]</td>\n",
              "      <td>[1.0]</td>\n",
              "    </tr>\n",
              "    <tr>\n",
              "      <th>5</th>\n",
              "      <td>532</td>\n",
              "      <td>$amoEap</td>\n",
              "      <td>$amaEAt</td>\n",
              "      <td>[1]</td>\n",
              "      <td>[0.0]</td>\n",
              "    </tr>\n",
              "    <tr>\n",
              "      <th>6</th>\n",
              "      <td>556</td>\n",
              "      <td>HalowaY</td>\n",
              "      <td>HulowayAt</td>\n",
              "      <td>[1]</td>\n",
              "      <td>[0.0]</td>\n",
              "    </tr>\n",
              "    <tr>\n",
              "      <th>7</th>\n",
              "      <td>607</td>\n",
              "      <td>rAbiTap</td>\n",
              "      <td>rAbiTAt</td>\n",
              "      <td>[1]</td>\n",
              "      <td>[0.0]</td>\n",
              "    </tr>\n",
              "    <tr>\n",
              "      <th>8</th>\n",
              "      <td>625</td>\n",
              "      <td>raqoSap</td>\n",
              "      <td>raqaSAt</td>\n",
              "      <td>[1]</td>\n",
              "      <td>[0.0]</td>\n",
              "    </tr>\n",
              "    <tr>\n",
              "      <th>9</th>\n",
              "      <td>627</td>\n",
              "      <td>Eatabap</td>\n",
              "      <td>&gt;aEotAb</td>\n",
              "      <td>[0]</td>\n",
              "      <td>[1.0]</td>\n",
              "    </tr>\n",
              "    <tr>\n",
              "      <th>10</th>\n",
              "      <td>628</td>\n",
              "      <td>EawAdim</td>\n",
              "      <td>EawAdim</td>\n",
              "      <td>[0]</td>\n",
              "      <td>[1.0]</td>\n",
              "    </tr>\n",
              "    <tr>\n",
              "      <th>11</th>\n",
              "      <td>649</td>\n",
              "      <td>zA}ir</td>\n",
              "      <td>zA}iriyn</td>\n",
              "      <td>[1]</td>\n",
              "      <td>[0.0]</td>\n",
              "    </tr>\n",
              "    <tr>\n",
              "      <th>12</th>\n",
              "      <td>651</td>\n",
              "      <td>zam~Arap</td>\n",
              "      <td>zamAmiyr</td>\n",
              "      <td>[0]</td>\n",
              "      <td>[1.0]</td>\n",
              "    </tr>\n",
              "    <tr>\n",
              "      <th>13</th>\n",
              "      <td>656</td>\n",
              "      <td>&lt;i*on</td>\n",
              "      <td>&gt;u*uwn</td>\n",
              "      <td>[0]</td>\n",
              "      <td>[1.0]</td>\n",
              "    </tr>\n",
              "    <tr>\n",
              "      <th>14</th>\n",
              "      <td>678</td>\n",
              "      <td>$uroTiy~</td>\n",
              "      <td>$uroTiy~iyn</td>\n",
              "      <td>[1]</td>\n",
              "      <td>[0.0]</td>\n",
              "    </tr>\n",
              "    <tr>\n",
              "      <th>15</th>\n",
              "      <td>715</td>\n",
              "      <td>DAliE</td>\n",
              "      <td>DAliEiyn</td>\n",
              "      <td>[1]</td>\n",
              "      <td>[0.0]</td>\n",
              "    </tr>\n",
              "    <tr>\n",
              "      <th>16</th>\n",
              "      <td>717</td>\n",
              "      <td>&gt;urovuwduksiy~</td>\n",
              "      <td>&gt;urovuw*ukosiy~iyn</td>\n",
              "      <td>[1]</td>\n",
              "      <td>[0.0]</td>\n",
              "    </tr>\n",
              "    <tr>\n",
              "      <th>17</th>\n",
              "      <td>729</td>\n",
              "      <td>&gt;umoniy~ap</td>\n",
              "      <td>&gt;umoniy~At</td>\n",
              "      <td>[1]</td>\n",
              "      <td>[0.0]</td>\n",
              "    </tr>\n",
              "    <tr>\n",
              "      <th>18</th>\n",
              "      <td>776</td>\n",
              "      <td>wAriv</td>\n",
              "      <td>waravap</td>\n",
              "      <td>[0]</td>\n",
              "      <td>[1.0]</td>\n",
              "    </tr>\n",
              "    <tr>\n",
              "      <th>19</th>\n",
              "      <td>784</td>\n",
              "      <td>misokiyn</td>\n",
              "      <td>masAkiyn</td>\n",
              "      <td>[0]</td>\n",
              "      <td>[1.0]</td>\n",
              "    </tr>\n",
              "    <tr>\n",
              "      <th>20</th>\n",
              "      <td>824</td>\n",
              "      <td>fatoH</td>\n",
              "      <td>futuwHAt</td>\n",
              "      <td>[1]</td>\n",
              "      <td>[0.0]</td>\n",
              "    </tr>\n",
              "    <tr>\n",
              "      <th>21</th>\n",
              "      <td>917</td>\n",
              "      <td>majoraY</td>\n",
              "      <td>majAr</td>\n",
              "      <td>[0]</td>\n",
              "      <td>[1.0]</td>\n",
              "    </tr>\n",
              "    <tr>\n",
              "      <th>22</th>\n",
              "      <td>977</td>\n",
              "      <td>naSorAniy~</td>\n",
              "      <td>naSAraY</td>\n",
              "      <td>[0]</td>\n",
              "      <td>[1.0]</td>\n",
              "    </tr>\n",
              "    <tr>\n",
              "      <th>23</th>\n",
              "      <td>999</td>\n",
              "      <td>dukotuwr</td>\n",
              "      <td>dakAtirap</td>\n",
              "      <td>[0]</td>\n",
              "      <td>[1.0]</td>\n",
              "    </tr>\n",
              "    <tr>\n",
              "      <th>24</th>\n",
              "      <td>1011</td>\n",
              "      <td>faHoS</td>\n",
              "      <td>fuHuwSAt</td>\n",
              "      <td>[1]</td>\n",
              "      <td>[0.0]</td>\n",
              "    </tr>\n",
              "  </tbody>\n",
              "</table>\n",
              "</div>\n",
              "      <button class=\"colab-df-convert\" onclick=\"convertToInteractive('df-f7073922-5b7f-4c0b-8b0d-438e59c097b2')\"\n",
              "              title=\"Convert this dataframe to an interactive table.\"\n",
              "              style=\"display:none;\">\n",
              "        \n",
              "  <svg xmlns=\"http://www.w3.org/2000/svg\" height=\"24px\"viewBox=\"0 0 24 24\"\n",
              "       width=\"24px\">\n",
              "    <path d=\"M0 0h24v24H0V0z\" fill=\"none\"/>\n",
              "    <path d=\"M18.56 5.44l.94 2.06.94-2.06 2.06-.94-2.06-.94-.94-2.06-.94 2.06-2.06.94zm-11 1L8.5 8.5l.94-2.06 2.06-.94-2.06-.94L8.5 2.5l-.94 2.06-2.06.94zm10 10l.94 2.06.94-2.06 2.06-.94-2.06-.94-.94-2.06-.94 2.06-2.06.94z\"/><path d=\"M17.41 7.96l-1.37-1.37c-.4-.4-.92-.59-1.43-.59-.52 0-1.04.2-1.43.59L10.3 9.45l-7.72 7.72c-.78.78-.78 2.05 0 2.83L4 21.41c.39.39.9.59 1.41.59.51 0 1.02-.2 1.41-.59l7.78-7.78 2.81-2.81c.8-.78.8-2.07 0-2.86zM5.41 20L4 18.59l7.72-7.72 1.47 1.35L5.41 20z\"/>\n",
              "  </svg>\n",
              "      </button>\n",
              "      \n",
              "  <style>\n",
              "    .colab-df-container {\n",
              "      display:flex;\n",
              "      flex-wrap:wrap;\n",
              "      gap: 12px;\n",
              "    }\n",
              "\n",
              "    .colab-df-convert {\n",
              "      background-color: #E8F0FE;\n",
              "      border: none;\n",
              "      border-radius: 50%;\n",
              "      cursor: pointer;\n",
              "      display: none;\n",
              "      fill: #1967D2;\n",
              "      height: 32px;\n",
              "      padding: 0 0 0 0;\n",
              "      width: 32px;\n",
              "    }\n",
              "\n",
              "    .colab-df-convert:hover {\n",
              "      background-color: #E2EBFA;\n",
              "      box-shadow: 0px 1px 2px rgba(60, 64, 67, 0.3), 0px 1px 3px 1px rgba(60, 64, 67, 0.15);\n",
              "      fill: #174EA6;\n",
              "    }\n",
              "\n",
              "    [theme=dark] .colab-df-convert {\n",
              "      background-color: #3B4455;\n",
              "      fill: #D2E3FC;\n",
              "    }\n",
              "\n",
              "    [theme=dark] .colab-df-convert:hover {\n",
              "      background-color: #434B5C;\n",
              "      box-shadow: 0px 1px 3px 1px rgba(0, 0, 0, 0.15);\n",
              "      filter: drop-shadow(0px 1px 2px rgba(0, 0, 0, 0.3));\n",
              "      fill: #FFFFFF;\n",
              "    }\n",
              "  </style>\n",
              "\n",
              "      <script>\n",
              "        const buttonEl =\n",
              "          document.querySelector('#df-f7073922-5b7f-4c0b-8b0d-438e59c097b2 button.colab-df-convert');\n",
              "        buttonEl.style.display =\n",
              "          google.colab.kernel.accessAllowed ? 'block' : 'none';\n",
              "\n",
              "        async function convertToInteractive(key) {\n",
              "          const element = document.querySelector('#df-f7073922-5b7f-4c0b-8b0d-438e59c097b2');\n",
              "          const dataTable =\n",
              "            await google.colab.kernel.invokeFunction('convertToInteractive',\n",
              "                                                     [key], {});\n",
              "          if (!dataTable) return;\n",
              "\n",
              "          const docLinkHtml = 'Like what you see? Visit the ' +\n",
              "            '<a target=\"_blank\" href=https://colab.research.google.com/notebooks/data_table.ipynb>data table notebook</a>'\n",
              "            + ' to learn more about interactive tables.';\n",
              "          element.innerHTML = '';\n",
              "          dataTable['output_type'] = 'display_data';\n",
              "          await google.colab.output.renderOutput(dataTable, element);\n",
              "          const docLink = document.createElement('div');\n",
              "          docLink.innerHTML = docLinkHtml;\n",
              "          element.appendChild(docLink);\n",
              "        }\n",
              "      </script>\n",
              "    </div>\n",
              "  </div>\n",
              "  "
            ]
          },
          "metadata": {},
          "execution_count": 180
        }
      ],
      "source": [
        "dev_class_p=model.predict([X_dev_lemma_OH, X_dev_genRat])\n",
        "reportErrorAnalysis_classification(devData[0], y_dev_inflection_OH, y_dev_class, dev_class_p, path + \"/model 1/dev_errorAnalysis.csv\")"
      ]
    },
    {
      "cell_type": "markdown",
      "metadata": {
        "id": "I7wyRP-agdO9"
      },
      "source": [
        "Test set"
      ]
    },
    {
      "cell_type": "code",
      "execution_count": 181,
      "metadata": {
        "id": "8IP3NKsfhH5N",
        "colab": {
          "base_uri": "https://localhost:8080/",
          "height": 901
        },
        "outputId": "ced66902-3521-413f-a3e8-a18fbbf56394"
      },
      "outputs": [
        {
          "output_type": "stream",
          "name": "stdout",
          "text": [
            "33/33 [==============================] - 0s 5ms/step\n"
          ]
        },
        {
          "output_type": "execute_result",
          "data": {
            "text/plain": [
              "    index      lemma  inflection  b/s b/s predict\n",
              "0      66  mu$okilap     ma$Akil  [0]       [1.0]\n",
              "1      94      na$AT   >ano$iTap  [0]       [1.0]\n",
              "2     330   rafiyqap    rafiyqAt  [1]       [0.0]\n",
              "3     531    vugorap       vugar  [0]       [1.0]\n",
              "4     601      sAmiE    sAmiEiyn  [1]       [0.0]\n",
              "5     616    rayoHAn    rayAHiyn  [0]       [1.0]\n",
              "6     620    xuDorap   xaDorAwAt  [1]       [0.0]\n",
              "7     677    raqoSap     raqaSAt  [1]       [0.0]\n",
              "8     683   taboliyg  taboliygAt  [1]       [0.0]\n",
              "9     701      bAniy       bunAp  [0]       [1.0]\n",
              "10    713      dAris    dArisiyn  [1]       [0.0]\n",
              "11    718      TibAE       TibAE  [0]       [1.0]\n",
              "12    749    jabohap       jibAh  [0]       [1.0]\n",
              "13    775    filo*ap     filo*At  [1]       [0.0]\n",
              "14    798    >awAdim     >awAdim  [0]       [1.0]\n",
              "15    801      <i*on      >u*uwn  [0]       [1.0]\n",
              "16    824      EinAn    >aEin~ap  [0]       [1.0]\n",
              "17    863       jiyn      jiynAt  [1]       [0.0]\n",
              "18    946     maHal~    maHal~At  [1]       [0.0]\n",
              "19    948      mAlik    mAlikiyn  [1]       [0.0]\n",
              "20    954    maHAsin     maHAsin  [0]       [1.0]\n",
              "21    968      kA*ib    kA*ibiyn  [1]       [0.0]\n",
              "22   1018      maqAm     maqAmAt  [1]       [0.0]\n",
              "23   1019     maqar~    maqar~At  [1]       [0.0]"
            ],
            "text/html": [
              "\n",
              "  <div id=\"df-58b3d70d-45c7-4f96-bedf-0da7988290f9\">\n",
              "    <div class=\"colab-df-container\">\n",
              "      <div>\n",
              "<style scoped>\n",
              "    .dataframe tbody tr th:only-of-type {\n",
              "        vertical-align: middle;\n",
              "    }\n",
              "\n",
              "    .dataframe tbody tr th {\n",
              "        vertical-align: top;\n",
              "    }\n",
              "\n",
              "    .dataframe thead th {\n",
              "        text-align: right;\n",
              "    }\n",
              "</style>\n",
              "<table border=\"1\" class=\"dataframe\">\n",
              "  <thead>\n",
              "    <tr style=\"text-align: right;\">\n",
              "      <th></th>\n",
              "      <th>index</th>\n",
              "      <th>lemma</th>\n",
              "      <th>inflection</th>\n",
              "      <th>b/s</th>\n",
              "      <th>b/s predict</th>\n",
              "    </tr>\n",
              "  </thead>\n",
              "  <tbody>\n",
              "    <tr>\n",
              "      <th>0</th>\n",
              "      <td>66</td>\n",
              "      <td>mu$okilap</td>\n",
              "      <td>ma$Akil</td>\n",
              "      <td>[0]</td>\n",
              "      <td>[1.0]</td>\n",
              "    </tr>\n",
              "    <tr>\n",
              "      <th>1</th>\n",
              "      <td>94</td>\n",
              "      <td>na$AT</td>\n",
              "      <td>&gt;ano$iTap</td>\n",
              "      <td>[0]</td>\n",
              "      <td>[1.0]</td>\n",
              "    </tr>\n",
              "    <tr>\n",
              "      <th>2</th>\n",
              "      <td>330</td>\n",
              "      <td>rafiyqap</td>\n",
              "      <td>rafiyqAt</td>\n",
              "      <td>[1]</td>\n",
              "      <td>[0.0]</td>\n",
              "    </tr>\n",
              "    <tr>\n",
              "      <th>3</th>\n",
              "      <td>531</td>\n",
              "      <td>vugorap</td>\n",
              "      <td>vugar</td>\n",
              "      <td>[0]</td>\n",
              "      <td>[1.0]</td>\n",
              "    </tr>\n",
              "    <tr>\n",
              "      <th>4</th>\n",
              "      <td>601</td>\n",
              "      <td>sAmiE</td>\n",
              "      <td>sAmiEiyn</td>\n",
              "      <td>[1]</td>\n",
              "      <td>[0.0]</td>\n",
              "    </tr>\n",
              "    <tr>\n",
              "      <th>5</th>\n",
              "      <td>616</td>\n",
              "      <td>rayoHAn</td>\n",
              "      <td>rayAHiyn</td>\n",
              "      <td>[0]</td>\n",
              "      <td>[1.0]</td>\n",
              "    </tr>\n",
              "    <tr>\n",
              "      <th>6</th>\n",
              "      <td>620</td>\n",
              "      <td>xuDorap</td>\n",
              "      <td>xaDorAwAt</td>\n",
              "      <td>[1]</td>\n",
              "      <td>[0.0]</td>\n",
              "    </tr>\n",
              "    <tr>\n",
              "      <th>7</th>\n",
              "      <td>677</td>\n",
              "      <td>raqoSap</td>\n",
              "      <td>raqaSAt</td>\n",
              "      <td>[1]</td>\n",
              "      <td>[0.0]</td>\n",
              "    </tr>\n",
              "    <tr>\n",
              "      <th>8</th>\n",
              "      <td>683</td>\n",
              "      <td>taboliyg</td>\n",
              "      <td>taboliygAt</td>\n",
              "      <td>[1]</td>\n",
              "      <td>[0.0]</td>\n",
              "    </tr>\n",
              "    <tr>\n",
              "      <th>9</th>\n",
              "      <td>701</td>\n",
              "      <td>bAniy</td>\n",
              "      <td>bunAp</td>\n",
              "      <td>[0]</td>\n",
              "      <td>[1.0]</td>\n",
              "    </tr>\n",
              "    <tr>\n",
              "      <th>10</th>\n",
              "      <td>713</td>\n",
              "      <td>dAris</td>\n",
              "      <td>dArisiyn</td>\n",
              "      <td>[1]</td>\n",
              "      <td>[0.0]</td>\n",
              "    </tr>\n",
              "    <tr>\n",
              "      <th>11</th>\n",
              "      <td>718</td>\n",
              "      <td>TibAE</td>\n",
              "      <td>TibAE</td>\n",
              "      <td>[0]</td>\n",
              "      <td>[1.0]</td>\n",
              "    </tr>\n",
              "    <tr>\n",
              "      <th>12</th>\n",
              "      <td>749</td>\n",
              "      <td>jabohap</td>\n",
              "      <td>jibAh</td>\n",
              "      <td>[0]</td>\n",
              "      <td>[1.0]</td>\n",
              "    </tr>\n",
              "    <tr>\n",
              "      <th>13</th>\n",
              "      <td>775</td>\n",
              "      <td>filo*ap</td>\n",
              "      <td>filo*At</td>\n",
              "      <td>[1]</td>\n",
              "      <td>[0.0]</td>\n",
              "    </tr>\n",
              "    <tr>\n",
              "      <th>14</th>\n",
              "      <td>798</td>\n",
              "      <td>&gt;awAdim</td>\n",
              "      <td>&gt;awAdim</td>\n",
              "      <td>[0]</td>\n",
              "      <td>[1.0]</td>\n",
              "    </tr>\n",
              "    <tr>\n",
              "      <th>15</th>\n",
              "      <td>801</td>\n",
              "      <td>&lt;i*on</td>\n",
              "      <td>&gt;u*uwn</td>\n",
              "      <td>[0]</td>\n",
              "      <td>[1.0]</td>\n",
              "    </tr>\n",
              "    <tr>\n",
              "      <th>16</th>\n",
              "      <td>824</td>\n",
              "      <td>EinAn</td>\n",
              "      <td>&gt;aEin~ap</td>\n",
              "      <td>[0]</td>\n",
              "      <td>[1.0]</td>\n",
              "    </tr>\n",
              "    <tr>\n",
              "      <th>17</th>\n",
              "      <td>863</td>\n",
              "      <td>jiyn</td>\n",
              "      <td>jiynAt</td>\n",
              "      <td>[1]</td>\n",
              "      <td>[0.0]</td>\n",
              "    </tr>\n",
              "    <tr>\n",
              "      <th>18</th>\n",
              "      <td>946</td>\n",
              "      <td>maHal~</td>\n",
              "      <td>maHal~At</td>\n",
              "      <td>[1]</td>\n",
              "      <td>[0.0]</td>\n",
              "    </tr>\n",
              "    <tr>\n",
              "      <th>19</th>\n",
              "      <td>948</td>\n",
              "      <td>mAlik</td>\n",
              "      <td>mAlikiyn</td>\n",
              "      <td>[1]</td>\n",
              "      <td>[0.0]</td>\n",
              "    </tr>\n",
              "    <tr>\n",
              "      <th>20</th>\n",
              "      <td>954</td>\n",
              "      <td>maHAsin</td>\n",
              "      <td>maHAsin</td>\n",
              "      <td>[0]</td>\n",
              "      <td>[1.0]</td>\n",
              "    </tr>\n",
              "    <tr>\n",
              "      <th>21</th>\n",
              "      <td>968</td>\n",
              "      <td>kA*ib</td>\n",
              "      <td>kA*ibiyn</td>\n",
              "      <td>[1]</td>\n",
              "      <td>[0.0]</td>\n",
              "    </tr>\n",
              "    <tr>\n",
              "      <th>22</th>\n",
              "      <td>1018</td>\n",
              "      <td>maqAm</td>\n",
              "      <td>maqAmAt</td>\n",
              "      <td>[1]</td>\n",
              "      <td>[0.0]</td>\n",
              "    </tr>\n",
              "    <tr>\n",
              "      <th>23</th>\n",
              "      <td>1019</td>\n",
              "      <td>maqar~</td>\n",
              "      <td>maqar~At</td>\n",
              "      <td>[1]</td>\n",
              "      <td>[0.0]</td>\n",
              "    </tr>\n",
              "  </tbody>\n",
              "</table>\n",
              "</div>\n",
              "      <button class=\"colab-df-convert\" onclick=\"convertToInteractive('df-58b3d70d-45c7-4f96-bedf-0da7988290f9')\"\n",
              "              title=\"Convert this dataframe to an interactive table.\"\n",
              "              style=\"display:none;\">\n",
              "        \n",
              "  <svg xmlns=\"http://www.w3.org/2000/svg\" height=\"24px\"viewBox=\"0 0 24 24\"\n",
              "       width=\"24px\">\n",
              "    <path d=\"M0 0h24v24H0V0z\" fill=\"none\"/>\n",
              "    <path d=\"M18.56 5.44l.94 2.06.94-2.06 2.06-.94-2.06-.94-.94-2.06-.94 2.06-2.06.94zm-11 1L8.5 8.5l.94-2.06 2.06-.94-2.06-.94L8.5 2.5l-.94 2.06-2.06.94zm10 10l.94 2.06.94-2.06 2.06-.94-2.06-.94-.94-2.06-.94 2.06-2.06.94z\"/><path d=\"M17.41 7.96l-1.37-1.37c-.4-.4-.92-.59-1.43-.59-.52 0-1.04.2-1.43.59L10.3 9.45l-7.72 7.72c-.78.78-.78 2.05 0 2.83L4 21.41c.39.39.9.59 1.41.59.51 0 1.02-.2 1.41-.59l7.78-7.78 2.81-2.81c.8-.78.8-2.07 0-2.86zM5.41 20L4 18.59l7.72-7.72 1.47 1.35L5.41 20z\"/>\n",
              "  </svg>\n",
              "      </button>\n",
              "      \n",
              "  <style>\n",
              "    .colab-df-container {\n",
              "      display:flex;\n",
              "      flex-wrap:wrap;\n",
              "      gap: 12px;\n",
              "    }\n",
              "\n",
              "    .colab-df-convert {\n",
              "      background-color: #E8F0FE;\n",
              "      border: none;\n",
              "      border-radius: 50%;\n",
              "      cursor: pointer;\n",
              "      display: none;\n",
              "      fill: #1967D2;\n",
              "      height: 32px;\n",
              "      padding: 0 0 0 0;\n",
              "      width: 32px;\n",
              "    }\n",
              "\n",
              "    .colab-df-convert:hover {\n",
              "      background-color: #E2EBFA;\n",
              "      box-shadow: 0px 1px 2px rgba(60, 64, 67, 0.3), 0px 1px 3px 1px rgba(60, 64, 67, 0.15);\n",
              "      fill: #174EA6;\n",
              "    }\n",
              "\n",
              "    [theme=dark] .colab-df-convert {\n",
              "      background-color: #3B4455;\n",
              "      fill: #D2E3FC;\n",
              "    }\n",
              "\n",
              "    [theme=dark] .colab-df-convert:hover {\n",
              "      background-color: #434B5C;\n",
              "      box-shadow: 0px 1px 3px 1px rgba(0, 0, 0, 0.15);\n",
              "      filter: drop-shadow(0px 1px 2px rgba(0, 0, 0, 0.3));\n",
              "      fill: #FFFFFF;\n",
              "    }\n",
              "  </style>\n",
              "\n",
              "      <script>\n",
              "        const buttonEl =\n",
              "          document.querySelector('#df-58b3d70d-45c7-4f96-bedf-0da7988290f9 button.colab-df-convert');\n",
              "        buttonEl.style.display =\n",
              "          google.colab.kernel.accessAllowed ? 'block' : 'none';\n",
              "\n",
              "        async function convertToInteractive(key) {\n",
              "          const element = document.querySelector('#df-58b3d70d-45c7-4f96-bedf-0da7988290f9');\n",
              "          const dataTable =\n",
              "            await google.colab.kernel.invokeFunction('convertToInteractive',\n",
              "                                                     [key], {});\n",
              "          if (!dataTable) return;\n",
              "\n",
              "          const docLinkHtml = 'Like what you see? Visit the ' +\n",
              "            '<a target=\"_blank\" href=https://colab.research.google.com/notebooks/data_table.ipynb>data table notebook</a>'\n",
              "            + ' to learn more about interactive tables.';\n",
              "          element.innerHTML = '';\n",
              "          dataTable['output_type'] = 'display_data';\n",
              "          await google.colab.output.renderOutput(dataTable, element);\n",
              "          const docLink = document.createElement('div');\n",
              "          docLink.innerHTML = docLinkHtml;\n",
              "          element.appendChild(docLink);\n",
              "        }\n",
              "      </script>\n",
              "    </div>\n",
              "  </div>\n",
              "  "
            ]
          },
          "metadata": {},
          "execution_count": 181
        }
      ],
      "source": [
        "test_class_p=model.predict([X_test_lemma_OH, X_test_genRat])\n",
        "reportErrorAnalysis_classification(testData[0], y_test_inflection_OH, y_test_class, test_class_p, path + \"/model 1/test_errorAnalysis.csv\")"
      ]
    },
    {
      "cell_type": "markdown",
      "metadata": {
        "id": "UB0fawJa66PY"
      },
      "source": [
        "# **Machine Translation Models**"
      ]
    },
    {
      "cell_type": "code",
      "execution_count": 86,
      "metadata": {
        "id": "QjirN8TtdNqu"
      },
      "outputs": [],
      "source": [
        "path = '/content/drive/MyDrive/AI Projects/Arabic Broken Plural/Results'\n",
        "# path = '/content/drive/MyDrive/Deep Learning/Datasets/Arabic Broken Plural/Results/Machine Translation Models'"
      ]
    },
    {
      "cell_type": "code",
      "execution_count": 87,
      "metadata": {
        "id": "52n_VZ40dNqy"
      },
      "outputs": [],
      "source": [
        "bert_embedding_length = X_train_bert.shape[1] #768\n",
        "lemma_length = X_train_lemma_OH.shape[1] #17\n",
        "singularPattern_length = X_train_singularPattern_OH.shape[1] #17\n",
        "root_length = X_train_root_OH.shape[1] #4\n",
        "genRat_length = X_train_genRat.shape[1] #2\n",
        "numOfRoot_length = X_train_numOfRoot.shape[1] #1\n",
        "plPattern_length = y_train_plPattern_OH.shape[1] #18\n",
        "inflection_length = y_train_inflection_OH.shape[1] #18\n",
        "encode_size = X_train_lemma_OH.shape[2] #50\n",
        "\n",
        "epochs = 100\n",
        "batch_size = 64"
      ]
    },
    {
      "cell_type": "markdown",
      "metadata": {
        "id": "K87j_k_oEVh3"
      },
      "source": [
        "## **Simple Model**\n",
        "lemma - inflection"
      ]
    },
    {
      "cell_type": "code",
      "execution_count": 152,
      "metadata": {
        "id": "MRB1n7PQknbY"
      },
      "outputs": [],
      "source": [
        "model1_path = path + '/Machine Translation Models/Model 1'"
      ]
    },
    {
      "cell_type": "code",
      "execution_count": 153,
      "metadata": {
        "id": "M-3oRhRlEVh4"
      },
      "outputs": [],
      "source": [
        "input_lemma = Input(shape=(lemma_length, encode_size), name='Lemma')\n",
        "input_genRat = Input(shape=(genRat_length, ), name='Gender-Rational')\n",
        "\n",
        "\n",
        "lstm1 = Bidirectional(LSTM(256, name='Lstm1'), name='Encoder')(input_lemma)\n",
        "\n",
        "c = Concatenate(axis=1, name='Concatenate')([lstm1, input_genRat])\n",
        "\n",
        "d = Dense(256, activation='relu', name='Dense1')(c)\n",
        "\n",
        "r = RepeatVector(inflection_length, name='RepeatVector')(d)\n",
        "\n",
        "lstm2 = Bidirectional(LSTM(256, return_sequences=True, name='Lstm2'), name='Decoder')(r)\n",
        "\n",
        "output = TimeDistributed(Dense(encode_size, activation='softmax', name='Dense2'), name='Inflection')(lstm2)\n",
        "\n",
        "model1 = Model(inputs=[input_lemma, input_genRat], outputs=output)\n",
        "\n",
        "checkpoint_filepath = model1_path + '/weights.hdf5'\n",
        "checkpoint = ModelCheckpoint(filepath=checkpoint_filepath, monitor='val_accuracy', mode='max', save_best_only=True, verbose=0)\n",
        "\n",
        "model1.compile(loss=\"binary_crossentropy\", optimizer=Adam(0.001), metrics=['accuracy'])"
      ]
    },
    {
      "cell_type": "code",
      "execution_count": null,
      "metadata": {
        "id": "7k64r76HEVh4"
      },
      "outputs": [],
      "source": [
        "with tf.device('/GPU:0'):\n",
        "  model1.fit([X_train_lemma_OH, X_train_genRat], y_train_inflection_OH, batch_size=batch_size, epochs=epochs, callbacks=[checkpoint], validation_data=([X_dev_lemma_OH, X_dev_genRat], y_dev_inflection_OH))  # starts training"
      ]
    },
    {
      "cell_type": "code",
      "execution_count": 155,
      "metadata": {
        "id": "CF__oNPxEVh4",
        "colab": {
          "base_uri": "https://localhost:8080/"
        },
        "outputId": "fbe5ea90-817d-46fc-ef59-0ca5fce5f417"
      },
      "outputs": [
        {
          "output_type": "stream",
          "name": "stdout",
          "text": [
            "33/33 [==============================] - 2s 7ms/step - loss: 0.0034 - accuracy: 0.9854\n"
          ]
        },
        {
          "output_type": "execute_result",
          "data": {
            "text/plain": [
              "[0.0034107097890228033, 0.9853545427322388]"
            ]
          },
          "metadata": {},
          "execution_count": 155
        }
      ],
      "source": [
        "model1 = load_model(checkpoint_filepath)\n",
        "model1.evaluate([X_test_lemma_OH, X_test_genRat], y_test_inflection_OH)"
      ]
    },
    {
      "cell_type": "code",
      "execution_count": 156,
      "metadata": {
        "id": "C-_uAugdEVh4",
        "colab": {
          "base_uri": "https://localhost:8080/",
          "height": 1000
        },
        "outputId": "b4f8b822-9a82-4f64-844a-c2e6556bee8c"
      },
      "outputs": [
        {
          "output_type": "stream",
          "name": "stdout",
          "text": [
            "Model: \"model_2\"\n",
            "__________________________________________________________________________________________________\n",
            " Layer (type)                   Output Shape         Param #     Connected to                     \n",
            "==================================================================================================\n",
            " Lemma (InputLayer)             [(None, 17, 50)]     0           []                               \n",
            "                                                                                                  \n",
            " Encoder (Bidirectional)        (None, 512)          628736      ['Lemma[0][0]']                  \n",
            "                                                                                                  \n",
            " Gender-Rational (InputLayer)   [(None, 2)]          0           []                               \n",
            "                                                                                                  \n",
            " Concatenate (Concatenate)      (None, 514)          0           ['Encoder[0][0]',                \n",
            "                                                                  'Gender-Rational[0][0]']        \n",
            "                                                                                                  \n",
            " Dense1 (Dense)                 (None, 256)          131840      ['Concatenate[0][0]']            \n",
            "                                                                                                  \n",
            " RepeatVector (RepeatVector)    (None, 18, 256)      0           ['Dense1[0][0]']                 \n",
            "                                                                                                  \n",
            " Decoder (Bidirectional)        (None, 18, 512)      1050624     ['RepeatVector[0][0]']           \n",
            "                                                                                                  \n",
            " Inflection (TimeDistributed)   (None, 18, 50)       25650       ['Decoder[0][0]']                \n",
            "                                                                                                  \n",
            "==================================================================================================\n",
            "Total params: 1,836,850\n",
            "Trainable params: 1,836,850\n",
            "Non-trainable params: 0\n",
            "__________________________________________________________________________________________________\n",
            "None\n"
          ]
        },
        {
          "output_type": "execute_result",
          "data": {
            "image/png": "[encoded data removed]",
            "text/plain": [
              "<IPython.core.display.Image object>"
            ]
          },
          "metadata": {},
          "execution_count": 156
        }
      ],
      "source": [
        "print(model1.summary())\n",
        "plot_model(model1, to_file=model1_path+'/architecture.png', show_shapes=True, show_layer_names=True)"
      ]
    },
    {
      "cell_type": "markdown",
      "metadata": {
        "id": "XAoL0KSoEVh4"
      },
      "source": [
        "### **Train analyze**"
      ]
    },
    {
      "cell_type": "code",
      "execution_count": 157,
      "metadata": {
        "id": "pq30qNbbEVh5",
        "colab": {
          "base_uri": "https://localhost:8080/"
        },
        "outputId": "dbd8101a-3b59-4336-b740-b22fd9746b74"
      },
      "outputs": [
        {
          "output_type": "stream",
          "name": "stdout",
          "text": [
            "78/78 [==============================] - 2s 5ms/step\n"
          ]
        },
        {
          "output_type": "execute_result",
          "data": {
            "text/plain": [
              "(6, 0.9975757575757576)"
            ]
          },
          "metadata": {},
          "execution_count": 157
        }
      ],
      "source": [
        "train_pred = model1.predict([X_train_lemma_OH, X_train_genRat])\n",
        "train_pred_OH = oneHot3D(train_pred)\n",
        "train_error_num, train_acc_num = checkAccuracy(train_pred_OH, y_train_inflection_OH)\n",
        "train_error_num, train_acc_num"
      ]
    },
    {
      "cell_type": "code",
      "execution_count": 158,
      "metadata": {
        "id": "Lktzh8o5HNsn",
        "colab": {
          "base_uri": "https://localhost:8080/"
        },
        "outputId": "5d619c0b-2ee1-4955-ad51-9ff455e9e795"
      },
      "outputs": [
        {
          "output_type": "execute_result",
          "data": {
            "text/plain": [
              "(2475, 18, 50)"
            ]
          },
          "metadata": {},
          "execution_count": 158
        }
      ],
      "source": [
        "y_train_inflection_OH.shape"
      ]
    },
    {
      "cell_type": "code",
      "execution_count": 159,
      "metadata": {
        "id": "XK3xq6x0EVh5",
        "colab": {
          "base_uri": "https://localhost:8080/",
          "height": 270
        },
        "outputId": "fd6452ec-eab2-4400-b40f-60a6304c6384"
      },
      "outputs": [
        {
          "output_type": "execute_result",
          "data": {
            "text/plain": [
              "   index              lemma  b/s         inflection             predict\n",
              "0    863        tilofizyuwn    1      tilofizyuwnAt       tilofizzuwnAt\n",
              "1    939     fiyliyb~iyniy~    1  fiyliyb~iyniy~iyn   fiylibb~iyniy~yyn\n",
              "2    948         briyTAniy~    1      briyTAniy~iyn       brriTAniy~iyn\n",
              "3   1749  <imobirATuwriy~ap    1  <imobirATuwriy~At  <imobirATuwuw~iy~i\n",
              "4   2083         klAsiykiy~    1      klAsiykiy~iyn       kllsiykiy~iyn"
            ],
            "text/html": [
              "\n",
              "  <div id=\"df-0946c2eb-a6da-4905-8d26-72c7864044bc\">\n",
              "    <div class=\"colab-df-container\">\n",
              "      <div>\n",
              "<style scoped>\n",
              "    .dataframe tbody tr th:only-of-type {\n",
              "        vertical-align: middle;\n",
              "    }\n",
              "\n",
              "    .dataframe tbody tr th {\n",
              "        vertical-align: top;\n",
              "    }\n",
              "\n",
              "    .dataframe thead th {\n",
              "        text-align: right;\n",
              "    }\n",
              "</style>\n",
              "<table border=\"1\" class=\"dataframe\">\n",
              "  <thead>\n",
              "    <tr style=\"text-align: right;\">\n",
              "      <th></th>\n",
              "      <th>index</th>\n",
              "      <th>lemma</th>\n",
              "      <th>b/s</th>\n",
              "      <th>inflection</th>\n",
              "      <th>predict</th>\n",
              "    </tr>\n",
              "  </thead>\n",
              "  <tbody>\n",
              "    <tr>\n",
              "      <th>0</th>\n",
              "      <td>863</td>\n",
              "      <td>tilofizyuwn</td>\n",
              "      <td>1</td>\n",
              "      <td>tilofizyuwnAt</td>\n",
              "      <td>tilofizzuwnAt</td>\n",
              "    </tr>\n",
              "    <tr>\n",
              "      <th>1</th>\n",
              "      <td>939</td>\n",
              "      <td>fiyliyb~iyniy~</td>\n",
              "      <td>1</td>\n",
              "      <td>fiyliyb~iyniy~iyn</td>\n",
              "      <td>fiylibb~iyniy~yyn</td>\n",
              "    </tr>\n",
              "    <tr>\n",
              "      <th>2</th>\n",
              "      <td>948</td>\n",
              "      <td>briyTAniy~</td>\n",
              "      <td>1</td>\n",
              "      <td>briyTAniy~iyn</td>\n",
              "      <td>brriTAniy~iyn</td>\n",
              "    </tr>\n",
              "    <tr>\n",
              "      <th>3</th>\n",
              "      <td>1749</td>\n",
              "      <td>&lt;imobirATuwriy~ap</td>\n",
              "      <td>1</td>\n",
              "      <td>&lt;imobirATuwriy~At</td>\n",
              "      <td>&lt;imobirATuwuw~iy~i</td>\n",
              "    </tr>\n",
              "    <tr>\n",
              "      <th>4</th>\n",
              "      <td>2083</td>\n",
              "      <td>klAsiykiy~</td>\n",
              "      <td>1</td>\n",
              "      <td>klAsiykiy~iyn</td>\n",
              "      <td>kllsiykiy~iyn</td>\n",
              "    </tr>\n",
              "  </tbody>\n",
              "</table>\n",
              "</div>\n",
              "      <button class=\"colab-df-convert\" onclick=\"convertToInteractive('df-0946c2eb-a6da-4905-8d26-72c7864044bc')\"\n",
              "              title=\"Convert this dataframe to an interactive table.\"\n",
              "              style=\"display:none;\">\n",
              "        \n",
              "  <svg xmlns=\"http://www.w3.org/2000/svg\" height=\"24px\"viewBox=\"0 0 24 24\"\n",
              "       width=\"24px\">\n",
              "    <path d=\"M0 0h24v24H0V0z\" fill=\"none\"/>\n",
              "    <path d=\"M18.56 5.44l.94 2.06.94-2.06 2.06-.94-2.06-.94-.94-2.06-.94 2.06-2.06.94zm-11 1L8.5 8.5l.94-2.06 2.06-.94-2.06-.94L8.5 2.5l-.94 2.06-2.06.94zm10 10l.94 2.06.94-2.06 2.06-.94-2.06-.94-.94-2.06-.94 2.06-2.06.94z\"/><path d=\"M17.41 7.96l-1.37-1.37c-.4-.4-.92-.59-1.43-.59-.52 0-1.04.2-1.43.59L10.3 9.45l-7.72 7.72c-.78.78-.78 2.05 0 2.83L4 21.41c.39.39.9.59 1.41.59.51 0 1.02-.2 1.41-.59l7.78-7.78 2.81-2.81c.8-.78.8-2.07 0-2.86zM5.41 20L4 18.59l7.72-7.72 1.47 1.35L5.41 20z\"/>\n",
              "  </svg>\n",
              "      </button>\n",
              "      \n",
              "  <style>\n",
              "    .colab-df-container {\n",
              "      display:flex;\n",
              "      flex-wrap:wrap;\n",
              "      gap: 12px;\n",
              "    }\n",
              "\n",
              "    .colab-df-convert {\n",
              "      background-color: #E8F0FE;\n",
              "      border: none;\n",
              "      border-radius: 50%;\n",
              "      cursor: pointer;\n",
              "      display: none;\n",
              "      fill: #1967D2;\n",
              "      height: 32px;\n",
              "      padding: 0 0 0 0;\n",
              "      width: 32px;\n",
              "    }\n",
              "\n",
              "    .colab-df-convert:hover {\n",
              "      background-color: #E2EBFA;\n",
              "      box-shadow: 0px 1px 2px rgba(60, 64, 67, 0.3), 0px 1px 3px 1px rgba(60, 64, 67, 0.15);\n",
              "      fill: #174EA6;\n",
              "    }\n",
              "\n",
              "    [theme=dark] .colab-df-convert {\n",
              "      background-color: #3B4455;\n",
              "      fill: #D2E3FC;\n",
              "    }\n",
              "\n",
              "    [theme=dark] .colab-df-convert:hover {\n",
              "      background-color: #434B5C;\n",
              "      box-shadow: 0px 1px 3px 1px rgba(0, 0, 0, 0.15);\n",
              "      filter: drop-shadow(0px 1px 2px rgba(0, 0, 0, 0.3));\n",
              "      fill: #FFFFFF;\n",
              "    }\n",
              "  </style>\n",
              "\n",
              "      <script>\n",
              "        const buttonEl =\n",
              "          document.querySelector('#df-0946c2eb-a6da-4905-8d26-72c7864044bc button.colab-df-convert');\n",
              "        buttonEl.style.display =\n",
              "          google.colab.kernel.accessAllowed ? 'block' : 'none';\n",
              "\n",
              "        async function convertToInteractive(key) {\n",
              "          const element = document.querySelector('#df-0946c2eb-a6da-4905-8d26-72c7864044bc');\n",
              "          const dataTable =\n",
              "            await google.colab.kernel.invokeFunction('convertToInteractive',\n",
              "                                                     [key], {});\n",
              "          if (!dataTable) return;\n",
              "\n",
              "          const docLinkHtml = 'Like what you see? Visit the ' +\n",
              "            '<a target=\"_blank\" href=https://colab.research.google.com/notebooks/data_table.ipynb>data table notebook</a>'\n",
              "            + ' to learn more about interactive tables.';\n",
              "          element.innerHTML = '';\n",
              "          dataTable['output_type'] = 'display_data';\n",
              "          await google.colab.output.renderOutput(dataTable, element);\n",
              "          const docLink = document.createElement('div');\n",
              "          docLink.innerHTML = docLinkHtml;\n",
              "          element.appendChild(docLink);\n",
              "        }\n",
              "      </script>\n",
              "    </div>\n",
              "  </div>\n",
              "  "
            ]
          },
          "metadata": {},
          "execution_count": 159
        }
      ],
      "source": [
        "train_errorAnalysis = reportErrorAnalysis(trainData[0], trainData[5], train_pred_OH, y_train_inflection_OH, model1_path + \"/train_errorAnalysis.csv\")\n",
        "train_errorAnalysis.head()"
      ]
    },
    {
      "cell_type": "code",
      "execution_count": 160,
      "metadata": {
        "id": "YzOAAD4jEVh5",
        "colab": {
          "base_uri": "https://localhost:8080/"
        },
        "outputId": "1ed3b537-9094-4f64-f986-1ed1c3ac2d25"
      },
      "outputs": [
        {
          "output_type": "stream",
          "name": "stdout",
          "text": [
            "(Broken error %, Sound error %):  (0.0, 100.0)\n"
          ]
        }
      ],
      "source": [
        "print('(Broken error %, Sound error %): ', reportPercentageOfBrokenSoundErrors(train_errorAnalysis))"
      ]
    },
    {
      "cell_type": "code",
      "execution_count": 161,
      "metadata": {
        "id": "86i08EoppWIi",
        "colab": {
          "base_uri": "https://localhost:8080/"
        },
        "outputId": "5f8662f6-4699-4e3c-b373-d5b9052fda1c"
      },
      "outputs": [
        {
          "output_type": "execute_result",
          "data": {
            "text/plain": [
              "(6, 0.9975757575757576)"
            ]
          },
          "metadata": {},
          "execution_count": 161
        }
      ],
      "source": [
        "checkAccuracy_anyAcceptableInflectionInDataset(trainData[0],train_pred_OH,dic_lemmaInflection)"
      ]
    },
    {
      "cell_type": "markdown",
      "metadata": {
        "id": "ybXFriUqEVh5"
      },
      "source": [
        "### **Dev analyze**"
      ]
    },
    {
      "cell_type": "code",
      "execution_count": 162,
      "metadata": {
        "id": "2s-l01ipEVh5",
        "colab": {
          "base_uri": "https://localhost:8080/"
        },
        "outputId": "a48ff8c3-82f7-4d46-c58d-6400ec8541c9"
      },
      "outputs": [
        {
          "output_type": "stream",
          "name": "stdout",
          "text": [
            "34/34 [==============================] - 0s 5ms/step\n"
          ]
        },
        {
          "output_type": "execute_result",
          "data": {
            "text/plain": [
              "(89, 0.9160377358490566)"
            ]
          },
          "metadata": {},
          "execution_count": 162
        }
      ],
      "source": [
        "dev_pred = model1.predict([X_dev_lemma_OH, X_dev_genRat])\n",
        "dev_pred_OH = oneHot3D(dev_pred)\n",
        "dev_error_num, dev_acc_num = checkAccuracy(dev_pred_OH, y_dev_inflection_OH)\n",
        "dev_error_num, dev_acc_num"
      ]
    },
    {
      "cell_type": "code",
      "execution_count": 163,
      "metadata": {
        "id": "yPCOBCrEEVh5",
        "colab": {
          "base_uri": "https://localhost:8080/",
          "height": 270
        },
        "outputId": "ced8807a-89a5-4943-fe65-dde4a9753d60"
      },
      "outputs": [
        {
          "output_type": "execute_result",
          "data": {
            "text/plain": [
              "   index        lemma  b/s      inflection         predict\n",
              "0     59        nAdiy    0       >anodiyap         nawAdiy\n",
              "1    193  >amoriykiy~    1  >amoriykiy~iyn  >amiyrokiy~iyn\n",
              "2    213        na$AT    0       >ano$iTap         na$ATAt\n",
              "3    229    mujawohar    1     mujawoharAt     mujaworArAt\n",
              "4    235      masoEaY    0           masAE         masAEiy"
            ],
            "text/html": [
              "\n",
              "  <div id=\"df-824d0484-a395-4cea-a99f-5580eaab3ae4\">\n",
              "    <div class=\"colab-df-container\">\n",
              "      <div>\n",
              "<style scoped>\n",
              "    .dataframe tbody tr th:only-of-type {\n",
              "        vertical-align: middle;\n",
              "    }\n",
              "\n",
              "    .dataframe tbody tr th {\n",
              "        vertical-align: top;\n",
              "    }\n",
              "\n",
              "    .dataframe thead th {\n",
              "        text-align: right;\n",
              "    }\n",
              "</style>\n",
              "<table border=\"1\" class=\"dataframe\">\n",
              "  <thead>\n",
              "    <tr style=\"text-align: right;\">\n",
              "      <th></th>\n",
              "      <th>index</th>\n",
              "      <th>lemma</th>\n",
              "      <th>b/s</th>\n",
              "      <th>inflection</th>\n",
              "      <th>predict</th>\n",
              "    </tr>\n",
              "  </thead>\n",
              "  <tbody>\n",
              "    <tr>\n",
              "      <th>0</th>\n",
              "      <td>59</td>\n",
              "      <td>nAdiy</td>\n",
              "      <td>0</td>\n",
              "      <td>&gt;anodiyap</td>\n",
              "      <td>nawAdiy</td>\n",
              "    </tr>\n",
              "    <tr>\n",
              "      <th>1</th>\n",
              "      <td>193</td>\n",
              "      <td>&gt;amoriykiy~</td>\n",
              "      <td>1</td>\n",
              "      <td>&gt;amoriykiy~iyn</td>\n",
              "      <td>&gt;amiyrokiy~iyn</td>\n",
              "    </tr>\n",
              "    <tr>\n",
              "      <th>2</th>\n",
              "      <td>213</td>\n",
              "      <td>na$AT</td>\n",
              "      <td>0</td>\n",
              "      <td>&gt;ano$iTap</td>\n",
              "      <td>na$ATAt</td>\n",
              "    </tr>\n",
              "    <tr>\n",
              "      <th>3</th>\n",
              "      <td>229</td>\n",
              "      <td>mujawohar</td>\n",
              "      <td>1</td>\n",
              "      <td>mujawoharAt</td>\n",
              "      <td>mujaworArAt</td>\n",
              "    </tr>\n",
              "    <tr>\n",
              "      <th>4</th>\n",
              "      <td>235</td>\n",
              "      <td>masoEaY</td>\n",
              "      <td>0</td>\n",
              "      <td>masAE</td>\n",
              "      <td>masAEiy</td>\n",
              "    </tr>\n",
              "  </tbody>\n",
              "</table>\n",
              "</div>\n",
              "      <button class=\"colab-df-convert\" onclick=\"convertToInteractive('df-824d0484-a395-4cea-a99f-5580eaab3ae4')\"\n",
              "              title=\"Convert this dataframe to an interactive table.\"\n",
              "              style=\"display:none;\">\n",
              "        \n",
              "  <svg xmlns=\"http://www.w3.org/2000/svg\" height=\"24px\"viewBox=\"0 0 24 24\"\n",
              "       width=\"24px\">\n",
              "    <path d=\"M0 0h24v24H0V0z\" fill=\"none\"/>\n",
              "    <path d=\"M18.56 5.44l.94 2.06.94-2.06 2.06-.94-2.06-.94-.94-2.06-.94 2.06-2.06.94zm-11 1L8.5 8.5l.94-2.06 2.06-.94-2.06-.94L8.5 2.5l-.94 2.06-2.06.94zm10 10l.94 2.06.94-2.06 2.06-.94-2.06-.94-.94-2.06-.94 2.06-2.06.94z\"/><path d=\"M17.41 7.96l-1.37-1.37c-.4-.4-.92-.59-1.43-.59-.52 0-1.04.2-1.43.59L10.3 9.45l-7.72 7.72c-.78.78-.78 2.05 0 2.83L4 21.41c.39.39.9.59 1.41.59.51 0 1.02-.2 1.41-.59l7.78-7.78 2.81-2.81c.8-.78.8-2.07 0-2.86zM5.41 20L4 18.59l7.72-7.72 1.47 1.35L5.41 20z\"/>\n",
              "  </svg>\n",
              "      </button>\n",
              "      \n",
              "  <style>\n",
              "    .colab-df-container {\n",
              "      display:flex;\n",
              "      flex-wrap:wrap;\n",
              "      gap: 12px;\n",
              "    }\n",
              "\n",
              "    .colab-df-convert {\n",
              "      background-color: #E8F0FE;\n",
              "      border: none;\n",
              "      border-radius: 50%;\n",
              "      cursor: pointer;\n",
              "      display: none;\n",
              "      fill: #1967D2;\n",
              "      height: 32px;\n",
              "      padding: 0 0 0 0;\n",
              "      width: 32px;\n",
              "    }\n",
              "\n",
              "    .colab-df-convert:hover {\n",
              "      background-color: #E2EBFA;\n",
              "      box-shadow: 0px 1px 2px rgba(60, 64, 67, 0.3), 0px 1px 3px 1px rgba(60, 64, 67, 0.15);\n",
              "      fill: #174EA6;\n",
              "    }\n",
              "\n",
              "    [theme=dark] .colab-df-convert {\n",
              "      background-color: #3B4455;\n",
              "      fill: #D2E3FC;\n",
              "    }\n",
              "\n",
              "    [theme=dark] .colab-df-convert:hover {\n",
              "      background-color: #434B5C;\n",
              "      box-shadow: 0px 1px 3px 1px rgba(0, 0, 0, 0.15);\n",
              "      filter: drop-shadow(0px 1px 2px rgba(0, 0, 0, 0.3));\n",
              "      fill: #FFFFFF;\n",
              "    }\n",
              "  </style>\n",
              "\n",
              "      <script>\n",
              "        const buttonEl =\n",
              "          document.querySelector('#df-824d0484-a395-4cea-a99f-5580eaab3ae4 button.colab-df-convert');\n",
              "        buttonEl.style.display =\n",
              "          google.colab.kernel.accessAllowed ? 'block' : 'none';\n",
              "\n",
              "        async function convertToInteractive(key) {\n",
              "          const element = document.querySelector('#df-824d0484-a395-4cea-a99f-5580eaab3ae4');\n",
              "          const dataTable =\n",
              "            await google.colab.kernel.invokeFunction('convertToInteractive',\n",
              "                                                     [key], {});\n",
              "          if (!dataTable) return;\n",
              "\n",
              "          const docLinkHtml = 'Like what you see? Visit the ' +\n",
              "            '<a target=\"_blank\" href=https://colab.research.google.com/notebooks/data_table.ipynb>data table notebook</a>'\n",
              "            + ' to learn more about interactive tables.';\n",
              "          element.innerHTML = '';\n",
              "          dataTable['output_type'] = 'display_data';\n",
              "          await google.colab.output.renderOutput(dataTable, element);\n",
              "          const docLink = document.createElement('div');\n",
              "          docLink.innerHTML = docLinkHtml;\n",
              "          element.appendChild(docLink);\n",
              "        }\n",
              "      </script>\n",
              "    </div>\n",
              "  </div>\n",
              "  "
            ]
          },
          "metadata": {},
          "execution_count": 163
        }
      ],
      "source": [
        "dev_errorAnalysis = reportErrorAnalysis(devData[0], devData[5], dev_pred_OH, y_dev_inflection_OH, model1_path + \"/dev_errorAnalysis.csv\")\n",
        "dev_errorAnalysis.head()"
      ]
    },
    {
      "cell_type": "code",
      "execution_count": 164,
      "metadata": {
        "id": "Rb3-t4ehEVh5",
        "colab": {
          "base_uri": "https://localhost:8080/"
        },
        "outputId": "48a556bc-d4dc-4cfc-d31a-82613a24c86b"
      },
      "outputs": [
        {
          "output_type": "stream",
          "name": "stdout",
          "text": [
            "(Broken error %, Sound error %):  (53.93258426966292, 46.06741573033708)\n"
          ]
        }
      ],
      "source": [
        "print('(Broken error %, Sound error %): ', reportPercentageOfBrokenSoundErrors(dev_errorAnalysis))"
      ]
    },
    {
      "cell_type": "code",
      "execution_count": 165,
      "metadata": {
        "id": "3q8CzzBqpMAR",
        "colab": {
          "base_uri": "https://localhost:8080/"
        },
        "outputId": "084aede7-166b-40cb-c544-7998a3db6fe7"
      },
      "outputs": [
        {
          "output_type": "execute_result",
          "data": {
            "text/plain": [
              "(61, 0.9424528301886792)"
            ]
          },
          "metadata": {},
          "execution_count": 165
        }
      ],
      "source": [
        "checkAccuracy_anyAcceptableInflectionInDataset(devData[0],dev_pred_OH,dic_lemmaInflection)"
      ]
    },
    {
      "cell_type": "code",
      "execution_count": 166,
      "metadata": {
        "id": "mOswiP7Fqhdp",
        "colab": {
          "base_uri": "https://localhost:8080/"
        },
        "outputId": "310aea48-c894-486c-fc22-2c58e59be1a4"
      },
      "outputs": [
        {
          "output_type": "stream",
          "name": "stdout",
          "text": [
            "Percentage of Unseen Errors with respect to Total Errors, Percentage of Unseen Errors with respect to Total Unseen Samples\n",
            "(98.87640449438202, 75.86206896551724)\n"
          ]
        }
      ],
      "source": [
        "# Report Percentage of Unseen Errors in Dev set\n",
        "errorIndices_dev = dev_errorAnalysis['index'].tolist()\n",
        "unseenIndices_dev = unseenLemInfIndices_dev_df['index'].tolist()\n",
        "\n",
        "print('Percentage of Unseen Errors with respect to Total Errors, Percentage of Unseen Errors with respect to Total Unseen Samples')\n",
        "print(reportPercentageOfUnseenErrors(errorIndices_dev, unseenIndices_dev))"
      ]
    },
    {
      "cell_type": "markdown",
      "metadata": {
        "id": "i7R3KZnxEVh5"
      },
      "source": [
        "### **Test analyze**"
      ]
    },
    {
      "cell_type": "code",
      "execution_count": 167,
      "metadata": {
        "id": "55GGksBBEVh6",
        "colab": {
          "base_uri": "https://localhost:8080/"
        },
        "outputId": "399734d6-183d-4a9e-d4d0-bc29877e9c3d"
      },
      "outputs": [
        {
          "output_type": "stream",
          "name": "stdout",
          "text": [
            "33/33 [==============================] - 0s 5ms/step\n"
          ]
        },
        {
          "output_type": "execute_result",
          "data": {
            "text/plain": [
              "(75, 0.9270428015564203)"
            ]
          },
          "metadata": {},
          "execution_count": 167
        }
      ],
      "source": [
        "test_pred = model1.predict([X_test_lemma_OH, X_test_genRat])\n",
        "test_pred_OH = oneHot3D(test_pred)\n",
        "test_error_num, test_acc_num = checkAccuracy(test_pred_OH, y_test_inflection_OH)\n",
        "test_error_num, test_acc_num"
      ]
    },
    {
      "cell_type": "code",
      "execution_count": 168,
      "metadata": {
        "id": "i57C2rVDEVh6"
      },
      "outputs": [],
      "source": [
        "test_errorAnalysis = reportErrorAnalysis(testData[0], testData[5], test_pred_OH, y_test_inflection_OH, model1_path + \"/test_errorAnalysis.csv\")"
      ]
    },
    {
      "cell_type": "code",
      "execution_count": 169,
      "metadata": {
        "id": "n6v7_vY1EVh6",
        "colab": {
          "base_uri": "https://localhost:8080/"
        },
        "outputId": "f4659646-d7c6-4251-91d4-2f5f47dbbe70"
      },
      "outputs": [
        {
          "output_type": "stream",
          "name": "stdout",
          "text": [
            "(Broken error %, Sound error %):  (52.0, 48.0)\n"
          ]
        }
      ],
      "source": [
        "print('(Broken error %, Sound error %): ', reportPercentageOfBrokenSoundErrors(test_errorAnalysis))"
      ]
    },
    {
      "cell_type": "code",
      "execution_count": 170,
      "metadata": {
        "id": "J2NUckr-pPAf",
        "colab": {
          "base_uri": "https://localhost:8080/"
        },
        "outputId": "0b275e76-55f9-442d-d7aa-7a7e64b749fd"
      },
      "outputs": [
        {
          "output_type": "execute_result",
          "data": {
            "text/plain": [
              "(55, 0.9464980544747081)"
            ]
          },
          "metadata": {},
          "execution_count": 170
        }
      ],
      "source": [
        "checkAccuracy_anyAcceptableInflectionInDataset(testData[0],test_pred_OH,dic_lemmaInflection)"
      ]
    },
    {
      "cell_type": "code",
      "execution_count": 171,
      "metadata": {
        "id": "7HL3bbXgzGck",
        "colab": {
          "base_uri": "https://localhost:8080/"
        },
        "outputId": "1cf4f905-63d1-449c-b8b1-0bfb72802df5"
      },
      "outputs": [
        {
          "output_type": "stream",
          "name": "stdout",
          "text": [
            "Percentage of Unseen Errors with respect to Total Errors, Percentage of Unseen Errors with respect to Total Unseen Samples\n",
            "(98.66666666666667, 71.15384615384616)\n"
          ]
        }
      ],
      "source": [
        "# Report Percentage of Unseen Errors in Test set\n",
        "errorIndices_test = test_errorAnalysis['index'].tolist()\n",
        "unseenIndices_test = unseenLemInfIndices_test_df['index'].tolist()\n",
        "\n",
        "print('Percentage of Unseen Errors with respect to Total Errors, Percentage of Unseen Errors with respect to Total Unseen Samples')\n",
        "print(reportPercentageOfUnseenErrors(errorIndices_test, unseenIndices_test))"
      ]
    },
    {
      "cell_type": "markdown",
      "metadata": {
        "id": "fdCz16FjpUjU"
      },
      "source": [
        "## **Mix Model 1 (2 Networks: Classification + Machine Translation)**\n",
        "**with Bert embedding input**"
      ]
    },
    {
      "cell_type": "code",
      "execution_count": 130,
      "metadata": {
        "id": "EQR4WH4wnbPX"
      },
      "outputs": [],
      "source": [
        "mixModel1_path = path + '/Machine Translation Models/Mix Model 1'"
      ]
    },
    {
      "cell_type": "code",
      "execution_count": 131,
      "metadata": {
        "id": "VU_KhzdDpTiO",
        "colab": {
          "base_uri": "https://localhost:8080/"
        },
        "outputId": "e6fdb623-b721-40b8-e93e-7faa2c534b07"
      },
      "outputs": [
        {
          "output_type": "stream",
          "name": "stderr",
          "text": [
            "WARNING:tensorflow:No training configuration found in the save file, so the model was *not* compiled. Compile it manually.\n"
          ]
        }
      ],
      "source": [
        "BSClassification_path = path + '/Classification Models'\n",
        "BSClassification_model_path = BSClassification_path + '/model 1/weights.hdf5'\n",
        "BSClassification_model_structure_path = BSClassification_path + \"/model 1/structure.h5\"\n",
        "\n",
        "BSC_model = load_model(BSClassification_model_path)\n",
        "BSC_model_struct = load_model(BSClassification_model_structure_path)\n",
        "\n",
        "BSC_model_struct.set_weights(BSC_model.get_weights())\n",
        "BSC_model_struct.trainable = False\n",
        "# print(BSC_model.layers[1].get_weights()[0][0])\n",
        "# print(BSC_model_struct.layers[1].get_weights()[0][0])"
      ]
    },
    {
      "cell_type": "code",
      "execution_count": 132,
      "metadata": {
        "id": "N0ko_Jsbr3Gs"
      },
      "outputs": [],
      "source": [
        "imput_bert_embedding = Input(shape=(bert_embedding_length, ), name='Bert-Embedding')\n",
        "input_lemma = Input(shape=(lemma_length, encode_size), name='Lemma')\n",
        "input_genRat = Input(shape=(genRat_length, ), name='Gender-Rational')\n",
        "\n",
        "cls = BSC_model_struct([input_lemma, input_genRat])\n",
        "lstm1 = Bidirectional(LSTM(256, name='Lstm1'), name='Encoder')(input_lemma)\n",
        "d = Dense(256,  activation='relu', name='Dense1')(imput_bert_embedding)\n",
        "\n",
        "c = Concatenate(axis=1, name='Concatenate')([lstm1, input_genRat, cls, d])\n",
        "\n",
        "d = Dense(200, activation='relu', name='Dense2')(c)\n",
        "r = RepeatVector(inflection_length, name='RepeatVector')(d)\n",
        "\n",
        "lstm2 = Bidirectional(LSTM(256, return_sequences=True, name='Lstm2'), name='Decoder')(r)\n",
        "output = TimeDistributed(Dense(encode_size, activation='softmax', name='Dense2'), name='Inflection')(lstm2)\n",
        "\n",
        "mix_model = Model(inputs=[imput_bert_embedding, input_lemma, input_genRat], outputs=output)\n",
        "\n",
        "checkpoint_filepath = mixModel1_path + '/weights.hdf5'\n",
        "checkpoint = ModelCheckpoint(filepath=checkpoint_filepath, monitor='val_accuracy', mode='max', save_best_only=True, verbose=0)\n",
        "\n",
        "mix_model.compile(loss=\"binary_crossentropy\", optimizer=Adam(0.001), metrics=['accuracy'])"
      ]
    },
    {
      "cell_type": "code",
      "execution_count": 133,
      "metadata": {
        "id": "i56qrPBBVh4j",
        "colab": {
          "base_uri": "https://localhost:8080/"
        },
        "outputId": "ff54ea22-e6ba-4406-de77-12f7ba509cb9"
      },
      "outputs": [
        {
          "output_type": "execute_result",
          "data": {
            "text/plain": [
              "array([-0.02294529, -0.10742611,  0.02736146, ..., -0.18890691,\n",
              "       -0.01805112, -0.01145793], dtype=float32)"
            ]
          },
          "metadata": {},
          "execution_count": 133
        }
      ],
      "source": [
        "mix_model.layers[4].layers[1].get_weights()[0][0]"
      ]
    },
    {
      "cell_type": "code",
      "execution_count": null,
      "metadata": {
        "id": "tJjSxEPFUUx_"
      },
      "outputs": [],
      "source": [
        "with tf.device('/GPU:0'):\n",
        "  mix_model.fit([X_train_bert, X_train_lemma_OH, X_train_genRat], y_train_inflection_OH, batch_size=batch_size, epochs=epochs, callbacks=[checkpoint], validation_data=([X_dev_bert, X_dev_lemma_OH, X_dev_genRat], y_dev_inflection_OH))  # starts training"
      ]
    },
    {
      "cell_type": "code",
      "execution_count": 135,
      "metadata": {
        "id": "P2s1v375Um5l",
        "colab": {
          "base_uri": "https://localhost:8080/"
        },
        "outputId": "8d99cde9-5c1e-40f3-bd6c-b2a448836600"
      },
      "outputs": [
        {
          "output_type": "stream",
          "name": "stderr",
          "text": [
            "WARNING:tensorflow:Error in loading the saved optimizer state. As a result, your model is starting with a freshly initialized optimizer.\n"
          ]
        },
        {
          "output_type": "stream",
          "name": "stdout",
          "text": [
            "33/33 [==============================] - 3s 9ms/step - loss: 0.0037 - accuracy: 0.9850\n"
          ]
        },
        {
          "output_type": "execute_result",
          "data": {
            "text/plain": [
              "[0.003656055312603712, 0.9849762320518494]"
            ]
          },
          "metadata": {},
          "execution_count": 135
        }
      ],
      "source": [
        "mix_model = load_model(checkpoint_filepath)\n",
        "mix_model.evaluate([X_test_bert, X_test_lemma_OH, X_test_genRat], y_test_inflection_OH)"
      ]
    },
    {
      "cell_type": "code",
      "execution_count": 136,
      "metadata": {
        "id": "PIWe1psZ3dZ4",
        "colab": {
          "base_uri": "https://localhost:8080/",
          "height": 1000
        },
        "outputId": "5cfa7187-c0f7-4362-c989-2d0a6d32ae9c"
      },
      "outputs": [
        {
          "output_type": "stream",
          "name": "stdout",
          "text": [
            "Model: \"model_1\"\n",
            "__________________________________________________________________________________________________\n",
            " Layer (type)                   Output Shape         Param #     Connected to                     \n",
            "==================================================================================================\n",
            " Lemma (InputLayer)             [(None, 17, 50)]     0           []                               \n",
            "                                                                                                  \n",
            " Gender-Rational (InputLayer)   [(None, 2)]          0           []                               \n",
            "                                                                                                  \n",
            " Bert-Embedding (InputLayer)    [(None, 768)]        0           []                               \n",
            "                                                                                                  \n",
            " Encoder (Bidirectional)        (None, 512)          628736      ['Lemma[0][0]']                  \n",
            "                                                                                                  \n",
            " model_2 (Functional)           (None, 1)            777089      ['Lemma[0][0]',                  \n",
            "                                                                  'Gender-Rational[0][0]']        \n",
            "                                                                                                  \n",
            " Dense1 (Dense)                 (None, 256)          196864      ['Bert-Embedding[0][0]']         \n",
            "                                                                                                  \n",
            " Concatenate (Concatenate)      (None, 771)          0           ['Encoder[0][0]',                \n",
            "                                                                  'Gender-Rational[0][0]',        \n",
            "                                                                  'model_2[0][0]',                \n",
            "                                                                  'Dense1[0][0]']                 \n",
            "                                                                                                  \n",
            " Dense2 (Dense)                 (None, 200)          154400      ['Concatenate[0][0]']            \n",
            "                                                                                                  \n",
            " RepeatVector (RepeatVector)    (None, 18, 200)      0           ['Dense2[0][0]']                 \n",
            "                                                                                                  \n",
            " Decoder (Bidirectional)        (None, 18, 512)      935936      ['RepeatVector[0][0]']           \n",
            "                                                                                                  \n",
            " Inflection (TimeDistributed)   (None, 18, 50)       25650       ['Decoder[0][0]']                \n",
            "                                                                                                  \n",
            "==================================================================================================\n",
            "Total params: 2,718,675\n",
            "Trainable params: 2,570,322\n",
            "Non-trainable params: 148,353\n",
            "__________________________________________________________________________________________________\n",
            "None\n"
          ]
        },
        {
          "output_type": "execute_result",
          "data": {
            "image/png": "[encoded data removed]",
            "text/plain": [
              "<IPython.core.display.Image object>"
            ]
          },
          "metadata": {},
          "execution_count": 136
        }
      ],
      "source": [
        "print(mix_model.summary())\n",
        "plot_model(mix_model, to_file=mixModel1_path+'/architecture.png', show_shapes=True, show_layer_names=True)"
      ]
    },
    {
      "cell_type": "markdown",
      "metadata": {
        "id": "jgfj5lhjU6z3"
      },
      "source": [
        "### **Train analyze**"
      ]
    },
    {
      "cell_type": "code",
      "execution_count": 137,
      "metadata": {
        "id": "J_IHpXM1U6z9",
        "colab": {
          "base_uri": "https://localhost:8080/"
        },
        "outputId": "d8f243d3-f535-42a1-fc24-1f4b6d5646fc"
      },
      "outputs": [
        {
          "output_type": "stream",
          "name": "stdout",
          "text": [
            "78/78 [==============================] - 3s 7ms/step\n"
          ]
        },
        {
          "output_type": "execute_result",
          "data": {
            "text/plain": [
              "(10, 0.9959595959595959)"
            ]
          },
          "metadata": {},
          "execution_count": 137
        }
      ],
      "source": [
        "train_pred = mix_model.predict([X_train_bert, X_train_lemma_OH, X_train_genRat])\n",
        "train_pred_OH = oneHot3D(train_pred)\n",
        "train_error_num, train_acc_num = checkAccuracy(train_pred_OH, y_train_inflection_OH)\n",
        "train_error_num, train_acc_num"
      ]
    },
    {
      "cell_type": "code",
      "execution_count": 138,
      "metadata": {
        "id": "FYvcpoH7U60B",
        "colab": {
          "base_uri": "https://localhost:8080/"
        },
        "outputId": "b940357a-c480-4d91-82b4-34ab1ae34240"
      },
      "outputs": [
        {
          "output_type": "execute_result",
          "data": {
            "text/plain": [
              "(2475, 18, 50)"
            ]
          },
          "metadata": {},
          "execution_count": 138
        }
      ],
      "source": [
        "y_train_inflection_OH.shape"
      ]
    },
    {
      "cell_type": "code",
      "execution_count": 139,
      "metadata": {
        "id": "niUWd_7tU60E",
        "colab": {
          "base_uri": "https://localhost:8080/",
          "height": 270
        },
        "outputId": "e7a1d264-ec23-4d02-ced1-8fee03426936"
      },
      "outputs": [
        {
          "output_type": "execute_result",
          "data": {
            "text/plain": [
              "   index            lemma  b/s          inflection             predict\n",
              "0    637         huwiy~ap    1            huwiy~At           huwiyy~At\n",
              "1    863      tilofizyuwn    1       tilofizyuwnAt       tilofiyzuwnAt\n",
              "2    948       briyTAniy~    1       briyTAniy~iyn       biyTTAniy~iyn\n",
              "3   1315  frAnokuwfuwniy~    1  franokuwfuwniy~iyn  franokuwfuwniy~inn\n",
              "4   1652      rAdiykAliy~    1      rAdiykAliy~iyn      rAyiykAliy~iyn"
            ],
            "text/html": [
              "\n",
              "  <div id=\"df-eec177f2-aed3-4ffa-8d8e-81e7e851edd4\">\n",
              "    <div class=\"colab-df-container\">\n",
              "      <div>\n",
              "<style scoped>\n",
              "    .dataframe tbody tr th:only-of-type {\n",
              "        vertical-align: middle;\n",
              "    }\n",
              "\n",
              "    .dataframe tbody tr th {\n",
              "        vertical-align: top;\n",
              "    }\n",
              "\n",
              "    .dataframe thead th {\n",
              "        text-align: right;\n",
              "    }\n",
              "</style>\n",
              "<table border=\"1\" class=\"dataframe\">\n",
              "  <thead>\n",
              "    <tr style=\"text-align: right;\">\n",
              "      <th></th>\n",
              "      <th>index</th>\n",
              "      <th>lemma</th>\n",
              "      <th>b/s</th>\n",
              "      <th>inflection</th>\n",
              "      <th>predict</th>\n",
              "    </tr>\n",
              "  </thead>\n",
              "  <tbody>\n",
              "    <tr>\n",
              "      <th>0</th>\n",
              "      <td>637</td>\n",
              "      <td>huwiy~ap</td>\n",
              "      <td>1</td>\n",
              "      <td>huwiy~At</td>\n",
              "      <td>huwiyy~At</td>\n",
              "    </tr>\n",
              "    <tr>\n",
              "      <th>1</th>\n",
              "      <td>863</td>\n",
              "      <td>tilofizyuwn</td>\n",
              "      <td>1</td>\n",
              "      <td>tilofizyuwnAt</td>\n",
              "      <td>tilofiyzuwnAt</td>\n",
              "    </tr>\n",
              "    <tr>\n",
              "      <th>2</th>\n",
              "      <td>948</td>\n",
              "      <td>briyTAniy~</td>\n",
              "      <td>1</td>\n",
              "      <td>briyTAniy~iyn</td>\n",
              "      <td>biyTTAniy~iyn</td>\n",
              "    </tr>\n",
              "    <tr>\n",
              "      <th>3</th>\n",
              "      <td>1315</td>\n",
              "      <td>frAnokuwfuwniy~</td>\n",
              "      <td>1</td>\n",
              "      <td>franokuwfuwniy~iyn</td>\n",
              "      <td>franokuwfuwniy~inn</td>\n",
              "    </tr>\n",
              "    <tr>\n",
              "      <th>4</th>\n",
              "      <td>1652</td>\n",
              "      <td>rAdiykAliy~</td>\n",
              "      <td>1</td>\n",
              "      <td>rAdiykAliy~iyn</td>\n",
              "      <td>rAyiykAliy~iyn</td>\n",
              "    </tr>\n",
              "  </tbody>\n",
              "</table>\n",
              "</div>\n",
              "      <button class=\"colab-df-convert\" onclick=\"convertToInteractive('df-eec177f2-aed3-4ffa-8d8e-81e7e851edd4')\"\n",
              "              title=\"Convert this dataframe to an interactive table.\"\n",
              "              style=\"display:none;\">\n",
              "        \n",
              "  <svg xmlns=\"http://www.w3.org/2000/svg\" height=\"24px\"viewBox=\"0 0 24 24\"\n",
              "       width=\"24px\">\n",
              "    <path d=\"M0 0h24v24H0V0z\" fill=\"none\"/>\n",
              "    <path d=\"M18.56 5.44l.94 2.06.94-2.06 2.06-.94-2.06-.94-.94-2.06-.94 2.06-2.06.94zm-11 1L8.5 8.5l.94-2.06 2.06-.94-2.06-.94L8.5 2.5l-.94 2.06-2.06.94zm10 10l.94 2.06.94-2.06 2.06-.94-2.06-.94-.94-2.06-.94 2.06-2.06.94z\"/><path d=\"M17.41 7.96l-1.37-1.37c-.4-.4-.92-.59-1.43-.59-.52 0-1.04.2-1.43.59L10.3 9.45l-7.72 7.72c-.78.78-.78 2.05 0 2.83L4 21.41c.39.39.9.59 1.41.59.51 0 1.02-.2 1.41-.59l7.78-7.78 2.81-2.81c.8-.78.8-2.07 0-2.86zM5.41 20L4 18.59l7.72-7.72 1.47 1.35L5.41 20z\"/>\n",
              "  </svg>\n",
              "      </button>\n",
              "      \n",
              "  <style>\n",
              "    .colab-df-container {\n",
              "      display:flex;\n",
              "      flex-wrap:wrap;\n",
              "      gap: 12px;\n",
              "    }\n",
              "\n",
              "    .colab-df-convert {\n",
              "      background-color: #E8F0FE;\n",
              "      border: none;\n",
              "      border-radius: 50%;\n",
              "      cursor: pointer;\n",
              "      display: none;\n",
              "      fill: #1967D2;\n",
              "      height: 32px;\n",
              "      padding: 0 0 0 0;\n",
              "      width: 32px;\n",
              "    }\n",
              "\n",
              "    .colab-df-convert:hover {\n",
              "      background-color: #E2EBFA;\n",
              "      box-shadow: 0px 1px 2px rgba(60, 64, 67, 0.3), 0px 1px 3px 1px rgba(60, 64, 67, 0.15);\n",
              "      fill: #174EA6;\n",
              "    }\n",
              "\n",
              "    [theme=dark] .colab-df-convert {\n",
              "      background-color: #3B4455;\n",
              "      fill: #D2E3FC;\n",
              "    }\n",
              "\n",
              "    [theme=dark] .colab-df-convert:hover {\n",
              "      background-color: #434B5C;\n",
              "      box-shadow: 0px 1px 3px 1px rgba(0, 0, 0, 0.15);\n",
              "      filter: drop-shadow(0px 1px 2px rgba(0, 0, 0, 0.3));\n",
              "      fill: #FFFFFF;\n",
              "    }\n",
              "  </style>\n",
              "\n",
              "      <script>\n",
              "        const buttonEl =\n",
              "          document.querySelector('#df-eec177f2-aed3-4ffa-8d8e-81e7e851edd4 button.colab-df-convert');\n",
              "        buttonEl.style.display =\n",
              "          google.colab.kernel.accessAllowed ? 'block' : 'none';\n",
              "\n",
              "        async function convertToInteractive(key) {\n",
              "          const element = document.querySelector('#df-eec177f2-aed3-4ffa-8d8e-81e7e851edd4');\n",
              "          const dataTable =\n",
              "            await google.colab.kernel.invokeFunction('convertToInteractive',\n",
              "                                                     [key], {});\n",
              "          if (!dataTable) return;\n",
              "\n",
              "          const docLinkHtml = 'Like what you see? Visit the ' +\n",
              "            '<a target=\"_blank\" href=https://colab.research.google.com/notebooks/data_table.ipynb>data table notebook</a>'\n",
              "            + ' to learn more about interactive tables.';\n",
              "          element.innerHTML = '';\n",
              "          dataTable['output_type'] = 'display_data';\n",
              "          await google.colab.output.renderOutput(dataTable, element);\n",
              "          const docLink = document.createElement('div');\n",
              "          docLink.innerHTML = docLinkHtml;\n",
              "          element.appendChild(docLink);\n",
              "        }\n",
              "      </script>\n",
              "    </div>\n",
              "  </div>\n",
              "  "
            ]
          },
          "metadata": {},
          "execution_count": 139
        }
      ],
      "source": [
        "train_errorAnalysis = reportErrorAnalysis(trainData[0], trainData[5], train_pred_OH, y_train_inflection_OH, mixModel1_path + \"/train_errorAnalysis.csv\")\n",
        "train_errorAnalysis.head()"
      ]
    },
    {
      "cell_type": "code",
      "execution_count": 140,
      "metadata": {
        "id": "HkGc9jELU60H",
        "colab": {
          "base_uri": "https://localhost:8080/"
        },
        "outputId": "1e168f2e-24c2-4317-a515-f73735f0005f"
      },
      "outputs": [
        {
          "output_type": "stream",
          "name": "stdout",
          "text": [
            "(Broken error %, Sound error %):  (10.0, 90.0)\n"
          ]
        }
      ],
      "source": [
        "print('(Broken error %, Sound error %): ', reportPercentageOfBrokenSoundErrors(train_errorAnalysis))"
      ]
    },
    {
      "cell_type": "code",
      "execution_count": 141,
      "metadata": {
        "id": "z5l_gwk2U60K",
        "colab": {
          "base_uri": "https://localhost:8080/"
        },
        "outputId": "5a076964-97f1-42f8-d2f8-d938951c3515"
      },
      "outputs": [
        {
          "output_type": "execute_result",
          "data": {
            "text/plain": [
              "(10, 0.9959595959595959)"
            ]
          },
          "metadata": {},
          "execution_count": 141
        }
      ],
      "source": [
        "checkAccuracy_anyAcceptableInflectionInDataset(trainData[0],train_pred_OH,dic_lemmaInflection)"
      ]
    },
    {
      "cell_type": "markdown",
      "metadata": {
        "id": "WHCsxDc9U60N"
      },
      "source": [
        "### **Dev analyze**"
      ]
    },
    {
      "cell_type": "code",
      "execution_count": 142,
      "metadata": {
        "id": "iA-xaxEZU60P",
        "colab": {
          "base_uri": "https://localhost:8080/"
        },
        "outputId": "ff2165a9-93a7-4a0c-a99b-a9cc060d4441"
      },
      "outputs": [
        {
          "output_type": "stream",
          "name": "stdout",
          "text": [
            "34/34 [==============================] - 0s 7ms/step\n"
          ]
        },
        {
          "output_type": "execute_result",
          "data": {
            "text/plain": [
              "(98, 0.9075471698113208)"
            ]
          },
          "metadata": {},
          "execution_count": 142
        }
      ],
      "source": [
        "dev_pred = mix_model.predict([X_dev_bert, X_dev_lemma_OH, X_dev_genRat])\n",
        "dev_pred_OH = oneHot3D(dev_pred)\n",
        "dev_error_num, dev_acc_num = checkAccuracy(dev_pred_OH, y_dev_inflection_OH)\n",
        "dev_error_num, dev_acc_num"
      ]
    },
    {
      "cell_type": "code",
      "execution_count": 143,
      "metadata": {
        "id": "758ZYt8YU60S",
        "colab": {
          "base_uri": "https://localhost:8080/",
          "height": 206
        },
        "outputId": "8b37df87-ce37-4086-e613-485364f28c31"
      },
      "outputs": [
        {
          "output_type": "execute_result",
          "data": {
            "text/plain": [
              "   index        lemma  b/s      inflection         predict\n",
              "0     59        nAdiy    0       >anodiyap         nawAdiy\n",
              "1    193  >amoriykiy~    1  >amoriykiy~iyn  >amiyrokiy~iyn\n",
              "2    213        na$AT    0       >ano$iTap         na$ATAt\n",
              "3    229    mujawohar    1     mujawoharAt     mujaworrrAt\n",
              "4    235      masoEaY    0           masAE         masAEiy"
            ],
            "text/html": [
              "\n",
              "  <div id=\"df-141e4112-189c-4f21-9c8b-01ebcdf62a03\">\n",
              "    <div class=\"colab-df-container\">\n",
              "      <div>\n",
              "<style scoped>\n",
              "    .dataframe tbody tr th:only-of-type {\n",
              "        vertical-align: middle;\n",
              "    }\n",
              "\n",
              "    .dataframe tbody tr th {\n",
              "        vertical-align: top;\n",
              "    }\n",
              "\n",
              "    .dataframe thead th {\n",
              "        text-align: right;\n",
              "    }\n",
              "</style>\n",
              "<table border=\"1\" class=\"dataframe\">\n",
              "  <thead>\n",
              "    <tr style=\"text-align: right;\">\n",
              "      <th></th>\n",
              "      <th>index</th>\n",
              "      <th>lemma</th>\n",
              "      <th>b/s</th>\n",
              "      <th>inflection</th>\n",
              "      <th>predict</th>\n",
              "    </tr>\n",
              "  </thead>\n",
              "  <tbody>\n",
              "    <tr>\n",
              "      <th>0</th>\n",
              "      <td>59</td>\n",
              "      <td>nAdiy</td>\n",
              "      <td>0</td>\n",
              "      <td>&gt;anodiyap</td>\n",
              "      <td>nawAdiy</td>\n",
              "    </tr>\n",
              "    <tr>\n",
              "      <th>1</th>\n",
              "      <td>193</td>\n",
              "      <td>&gt;amoriykiy~</td>\n",
              "      <td>1</td>\n",
              "      <td>&gt;amoriykiy~iyn</td>\n",
              "      <td>&gt;amiyrokiy~iyn</td>\n",
              "    </tr>\n",
              "    <tr>\n",
              "      <th>2</th>\n",
              "      <td>213</td>\n",
              "      <td>na$AT</td>\n",
              "      <td>0</td>\n",
              "      <td>&gt;ano$iTap</td>\n",
              "      <td>na$ATAt</td>\n",
              "    </tr>\n",
              "    <tr>\n",
              "      <th>3</th>\n",
              "      <td>229</td>\n",
              "      <td>mujawohar</td>\n",
              "      <td>1</td>\n",
              "      <td>mujawoharAt</td>\n",
              "      <td>mujaworrrAt</td>\n",
              "    </tr>\n",
              "    <tr>\n",
              "      <th>4</th>\n",
              "      <td>235</td>\n",
              "      <td>masoEaY</td>\n",
              "      <td>0</td>\n",
              "      <td>masAE</td>\n",
              "      <td>masAEiy</td>\n",
              "    </tr>\n",
              "  </tbody>\n",
              "</table>\n",
              "</div>\n",
              "      <button class=\"colab-df-convert\" onclick=\"convertToInteractive('df-141e4112-189c-4f21-9c8b-01ebcdf62a03')\"\n",
              "              title=\"Convert this dataframe to an interactive table.\"\n",
              "              style=\"display:none;\">\n",
              "        \n",
              "  <svg xmlns=\"http://www.w3.org/2000/svg\" height=\"24px\"viewBox=\"0 0 24 24\"\n",
              "       width=\"24px\">\n",
              "    <path d=\"M0 0h24v24H0V0z\" fill=\"none\"/>\n",
              "    <path d=\"M18.56 5.44l.94 2.06.94-2.06 2.06-.94-2.06-.94-.94-2.06-.94 2.06-2.06.94zm-11 1L8.5 8.5l.94-2.06 2.06-.94-2.06-.94L8.5 2.5l-.94 2.06-2.06.94zm10 10l.94 2.06.94-2.06 2.06-.94-2.06-.94-.94-2.06-.94 2.06-2.06.94z\"/><path d=\"M17.41 7.96l-1.37-1.37c-.4-.4-.92-.59-1.43-.59-.52 0-1.04.2-1.43.59L10.3 9.45l-7.72 7.72c-.78.78-.78 2.05 0 2.83L4 21.41c.39.39.9.59 1.41.59.51 0 1.02-.2 1.41-.59l7.78-7.78 2.81-2.81c.8-.78.8-2.07 0-2.86zM5.41 20L4 18.59l7.72-7.72 1.47 1.35L5.41 20z\"/>\n",
              "  </svg>\n",
              "      </button>\n",
              "      \n",
              "  <style>\n",
              "    .colab-df-container {\n",
              "      display:flex;\n",
              "      flex-wrap:wrap;\n",
              "      gap: 12px;\n",
              "    }\n",
              "\n",
              "    .colab-df-convert {\n",
              "      background-color: #E8F0FE;\n",
              "      border: none;\n",
              "      border-radius: 50%;\n",
              "      cursor: pointer;\n",
              "      display: none;\n",
              "      fill: #1967D2;\n",
              "      height: 32px;\n",
              "      padding: 0 0 0 0;\n",
              "      width: 32px;\n",
              "    }\n",
              "\n",
              "    .colab-df-convert:hover {\n",
              "      background-color: #E2EBFA;\n",
              "      box-shadow: 0px 1px 2px rgba(60, 64, 67, 0.3), 0px 1px 3px 1px rgba(60, 64, 67, 0.15);\n",
              "      fill: #174EA6;\n",
              "    }\n",
              "\n",
              "    [theme=dark] .colab-df-convert {\n",
              "      background-color: #3B4455;\n",
              "      fill: #D2E3FC;\n",
              "    }\n",
              "\n",
              "    [theme=dark] .colab-df-convert:hover {\n",
              "      background-color: #434B5C;\n",
              "      box-shadow: 0px 1px 3px 1px rgba(0, 0, 0, 0.15);\n",
              "      filter: drop-shadow(0px 1px 2px rgba(0, 0, 0, 0.3));\n",
              "      fill: #FFFFFF;\n",
              "    }\n",
              "  </style>\n",
              "\n",
              "      <script>\n",
              "        const buttonEl =\n",
              "          document.querySelector('#df-141e4112-189c-4f21-9c8b-01ebcdf62a03 button.colab-df-convert');\n",
              "        buttonEl.style.display =\n",
              "          google.colab.kernel.accessAllowed ? 'block' : 'none';\n",
              "\n",
              "        async function convertToInteractive(key) {\n",
              "          const element = document.querySelector('#df-141e4112-189c-4f21-9c8b-01ebcdf62a03');\n",
              "          const dataTable =\n",
              "            await google.colab.kernel.invokeFunction('convertToInteractive',\n",
              "                                                     [key], {});\n",
              "          if (!dataTable) return;\n",
              "\n",
              "          const docLinkHtml = 'Like what you see? Visit the ' +\n",
              "            '<a target=\"_blank\" href=https://colab.research.google.com/notebooks/data_table.ipynb>data table notebook</a>'\n",
              "            + ' to learn more about interactive tables.';\n",
              "          element.innerHTML = '';\n",
              "          dataTable['output_type'] = 'display_data';\n",
              "          await google.colab.output.renderOutput(dataTable, element);\n",
              "          const docLink = document.createElement('div');\n",
              "          docLink.innerHTML = docLinkHtml;\n",
              "          element.appendChild(docLink);\n",
              "        }\n",
              "      </script>\n",
              "    </div>\n",
              "  </div>\n",
              "  "
            ]
          },
          "metadata": {},
          "execution_count": 143
        }
      ],
      "source": [
        "dev_errorAnalysis = reportErrorAnalysis(devData[0], devData[5], dev_pred_OH, y_dev_inflection_OH, mixModel1_path + \"/dev_errorAnalysis.csv\")\n",
        "dev_errorAnalysis.head()"
      ]
    },
    {
      "cell_type": "code",
      "execution_count": 144,
      "metadata": {
        "id": "r-Kn0v0qU60X",
        "colab": {
          "base_uri": "https://localhost:8080/"
        },
        "outputId": "893a95f9-3f30-4324-84e1-b76a2419095e"
      },
      "outputs": [
        {
          "output_type": "stream",
          "name": "stdout",
          "text": [
            "(Broken error %, Sound error %):  (52.04081632653062, 47.95918367346938)\n"
          ]
        }
      ],
      "source": [
        "print('(Broken error %, Sound error %): ', reportPercentageOfBrokenSoundErrors(dev_errorAnalysis))"
      ]
    },
    {
      "cell_type": "code",
      "execution_count": 145,
      "metadata": {
        "id": "z2SBpLd4U60a",
        "colab": {
          "base_uri": "https://localhost:8080/"
        },
        "outputId": "d06de2ce-b341-45c7-b8d7-101394f67fe6"
      },
      "outputs": [
        {
          "output_type": "execute_result",
          "data": {
            "text/plain": [
              "(70, 0.9339622641509434)"
            ]
          },
          "metadata": {},
          "execution_count": 145
        }
      ],
      "source": [
        "checkAccuracy_anyAcceptableInflectionInDataset(devData[0], dev_pred_OH, dic_lemmaInflection)"
      ]
    },
    {
      "cell_type": "code",
      "execution_count": 146,
      "metadata": {
        "id": "_E1WV0QxU60c",
        "colab": {
          "base_uri": "https://localhost:8080/"
        },
        "outputId": "427ab60e-536d-4523-b368-7a0d693ebd6d"
      },
      "outputs": [
        {
          "output_type": "stream",
          "name": "stdout",
          "text": [
            "Percentage of Unseen Errors with respect to Total Errors, Percentage of Unseen Errors with respect to Total Unseen Samples\n",
            "(97.95918367346938, 82.75862068965517)\n"
          ]
        }
      ],
      "source": [
        "# Report Percentage of Unseen Errors in Dev set\n",
        "errorIndices_dev = dev_errorAnalysis['index'].tolist()\n",
        "unseenIndices_dev = unseenLemInfIndices_dev_df['index'].tolist()\n",
        "\n",
        "print('Percentage of Unseen Errors with respect to Total Errors, Percentage of Unseen Errors with respect to Total Unseen Samples')\n",
        "print(reportPercentageOfUnseenErrors(errorIndices_dev, unseenIndices_dev))"
      ]
    },
    {
      "cell_type": "markdown",
      "metadata": {
        "id": "gVg1pBydU60g"
      },
      "source": [
        "### **Test analyze**"
      ]
    },
    {
      "cell_type": "code",
      "execution_count": 147,
      "metadata": {
        "id": "HqA9bxlFU60i",
        "colab": {
          "base_uri": "https://localhost:8080/"
        },
        "outputId": "e851f08e-3853-409d-e631-0615b4933934"
      },
      "outputs": [
        {
          "output_type": "stream",
          "name": "stdout",
          "text": [
            "33/33 [==============================] - 0s 6ms/step\n"
          ]
        },
        {
          "output_type": "execute_result",
          "data": {
            "text/plain": [
              "(82, 0.9202334630350194)"
            ]
          },
          "metadata": {},
          "execution_count": 147
        }
      ],
      "source": [
        "test_pred = mix_model.predict([X_test_bert, X_test_lemma_OH, X_test_genRat])\n",
        "test_pred_OH = oneHot3D(test_pred)\n",
        "test_error_num, test_acc_num = checkAccuracy(test_pred_OH, y_test_inflection_OH)\n",
        "test_error_num, test_acc_num"
      ]
    },
    {
      "cell_type": "code",
      "execution_count": 148,
      "metadata": {
        "id": "LEn_8FwpU60k"
      },
      "outputs": [],
      "source": [
        "test_errorAnalysis = reportErrorAnalysis(testData[0], testData[5], test_pred_OH, y_test_inflection_OH, mixModel1_path + \"/test_errorAnalysis.csv\")"
      ]
    },
    {
      "cell_type": "code",
      "execution_count": 149,
      "metadata": {
        "id": "7UuTiZ52U60m",
        "colab": {
          "base_uri": "https://localhost:8080/"
        },
        "outputId": "bed5d7e0-b6d6-4fba-aff8-a685c8e286cf"
      },
      "outputs": [
        {
          "output_type": "stream",
          "name": "stdout",
          "text": [
            "(Broken error %, Sound error %):  (50.0, 50.0)\n"
          ]
        }
      ],
      "source": [
        "print('(Broken error %, Sound error %): ', reportPercentageOfBrokenSoundErrors(test_errorAnalysis))"
      ]
    },
    {
      "cell_type": "code",
      "execution_count": 150,
      "metadata": {
        "id": "CitdRhOKU60p",
        "colab": {
          "base_uri": "https://localhost:8080/"
        },
        "outputId": "8ad5e1e6-00f5-4871-8562-ad652a5fabca"
      },
      "outputs": [
        {
          "output_type": "execute_result",
          "data": {
            "text/plain": [
              "(63, 0.938715953307393)"
            ]
          },
          "metadata": {},
          "execution_count": 150
        }
      ],
      "source": [
        "checkAccuracy_anyAcceptableInflectionInDataset(testData[0], test_pred_OH, dic_lemmaInflection)"
      ]
    },
    {
      "cell_type": "code",
      "execution_count": 151,
      "metadata": {
        "id": "TpR-Yp-rU60q",
        "colab": {
          "base_uri": "https://localhost:8080/"
        },
        "outputId": "19ce3e96-0778-4fe7-a7c1-9fe9311e505e"
      },
      "outputs": [
        {
          "output_type": "stream",
          "name": "stdout",
          "text": [
            "Percentage of Unseen Errors with respect to Total Errors, Percentage of Unseen Errors with respect to Total Unseen Samples\n",
            "(97.5609756097561, 76.92307692307693)\n"
          ]
        }
      ],
      "source": [
        "# Report Percentage of Unseen Errors in Test set\n",
        "errorIndices_test = test_errorAnalysis['index'].tolist()\n",
        "unseenIndices_test = unseenLemInfIndices_test_df['index'].tolist()\n",
        "\n",
        "print('Percentage of Unseen Errors with respect to Total Errors, Percentage of Unseen Errors with respect to Total Unseen Samples')\n",
        "print(reportPercentageOfUnseenErrors(errorIndices_test, unseenIndices_test))"
      ]
    },
    {
      "cell_type": "markdown",
      "metadata": {
        "id": "s_lrUYcHGakD"
      },
      "source": [
        "## **Mix Model (2 Networks: Classification + Machine Translation)**\n",
        "with 2 outputs(inflection + BS)"
      ]
    },
    {
      "cell_type": "code",
      "execution_count": null,
      "metadata": {
        "id": "TsMLo7It11GR"
      },
      "outputs": [],
      "source": [
        "mixModel2_path = path + '/Machine Translation Models/Mix Model 2'"
      ]
    },
    {
      "cell_type": "code",
      "execution_count": null,
      "metadata": {
        "id": "sr7OxTgqGakD"
      },
      "outputs": [],
      "source": [
        "BSClassification_path = path + '/Classification Models'\n",
        "BSClassification_model_path = BSClassification_path + '/model 1/weights.hdf5'\n",
        "BSClassification_model_structure_path = BSClassification_path + \"/model 1/structure.h5\"\n",
        "\n",
        "BSC_model = load_model(BSClassification_model_path)\n",
        "BSC_model_struct = load_model(BSClassification_model_structure_path)\n",
        "\n",
        "BSC_model_struct.set_weights(BSC_model.get_weights())\n",
        "BSC_model_struct.trainable = False\n",
        "# print(BSC_model.layers[1].get_weights()[0][0])\n",
        "# print(BSC_model_struct.layers[1].get_weights()[0][0])"
      ]
    },
    {
      "cell_type": "code",
      "execution_count": null,
      "metadata": {
        "id": "GOmmQjYDGakE"
      },
      "outputs": [],
      "source": [
        "input_lemma = Input(shape=(lemma_length, encode_size), name='Lemma')\n",
        "input_genRat = Input(shape=(genRat_length, ), name='Gender-Rational')\n",
        "\n",
        "cls = BSC_model_struct([input_lemma, input_genRat])\n",
        "lstm1 = Bidirectional(LSTM(256, name='Lstm1'), name='Encoder')(input_lemma)\n",
        "\n",
        "c = Concatenate(axis=1, name='Concatenate')([lstm1, input_genRat, cls])\n",
        "\n",
        "d = Dense(200, activation='relu', name='Dense1')(c)\n",
        "r = RepeatVector(inflection_length, name='RepeatVector')(d)\n",
        "\n",
        "lstm2 = Bidirectional(LSTM(256, return_sequences=True, name='Lstm2'), name='Decoder')(r)\n",
        "output = TimeDistributed(Dense(encode_size, activation='softmax', name='Dense2'), name='Inflection')(lstm2)\n",
        "\n",
        "#mix_model = Model(inputs=[input_lemma, input_genRat], outputs=[output,cls])\n",
        "mix_model = Model(inputs=[input_lemma, input_genRat], outputs=[output,cls])\n",
        "\n",
        "checkpoint_filepath = mixModel2_path + '/weights.hdf5'\n",
        "checkpoint = ModelCheckpoint(filepath=checkpoint_filepath, monitor='val_Inflection_accuracy', mode='max', save_best_only=True, verbose=0)\n",
        "\n",
        "mix_model.compile(loss=\"binary_crossentropy\", optimizer=Adam(0.001), metrics=['accuracy'])"
      ]
    },
    {
      "cell_type": "code",
      "execution_count": null,
      "metadata": {
        "id": "iKPaRds2GakE"
      },
      "outputs": [],
      "source": [
        "mix_model.layers[3].layers[1].get_weights()[0][0]"
      ]
    },
    {
      "cell_type": "code",
      "execution_count": null,
      "metadata": {
        "id": "KwpAW-QpGakE"
      },
      "outputs": [],
      "source": [
        "with tf.device('/GPU:0'):\n",
        "  mix_model.fit([X_train_lemma_OH, X_train_genRat], [y_train_inflection_OH, y_train_class], batch_size=batch_size, epochs=epochs, callbacks=[checkpoint], validation_data=([X_dev_lemma_OH, X_dev_genRat], [y_dev_inflection_OH,y_dev_class]))  # starts training"
      ]
    },
    {
      "cell_type": "code",
      "execution_count": null,
      "metadata": {
        "id": "VO4Kj_1ZGakE"
      },
      "outputs": [],
      "source": [
        "mix_model = load_model(checkpoint_filepath)\n",
        "mix_model.evaluate([X_test_lemma_OH, X_test_genRat], [y_test_inflection_OH, y_test_class])"
      ]
    },
    {
      "cell_type": "code",
      "execution_count": null,
      "metadata": {
        "id": "L2bdLMV3FSts"
      },
      "outputs": [],
      "source": [
        "# evaluate new dataset\n",
        "#mix_model = load_model(checkpoint_filepath)\n",
        "mix_model.evaluate([X_train_lemma_new_OH, X_train_genRat_new], [y_test_inflection_OH, y_test_class])"
      ]
    },
    {
      "cell_type": "code",
      "execution_count": null,
      "metadata": {
        "id": "HTslpQJQGakE"
      },
      "outputs": [],
      "source": [
        "print(mix_model.summary())\n",
        "plot_model(mix_model, to_file=mixModel1_path+'/architecture.png', show_shapes=True, show_layer_names=True)"
      ]
    },
    {
      "cell_type": "markdown",
      "metadata": {
        "id": "ED9U383gGakE"
      },
      "source": [
        "### **Train analyze**"
      ]
    },
    {
      "cell_type": "code",
      "execution_count": null,
      "metadata": {
        "id": "f73zoNs4GakF"
      },
      "outputs": [],
      "source": [
        "train_pred,bs_pred = mix_model.predict([X_train_lemma_OH, X_train_genRat])\n",
        "train_pred_OH = oneHot3D(train_pred)\n",
        "train_error_num, train_acc_num = checkAccuracy(train_pred_OH, y_train_inflection_OH)\n",
        "train_error_num, train_acc_num"
      ]
    },
    {
      "cell_type": "code",
      "execution_count": null,
      "metadata": {
        "id": "28tmraM3GakF"
      },
      "outputs": [],
      "source": [
        "y_train_inflection_OH.shape"
      ]
    },
    {
      "cell_type": "code",
      "execution_count": null,
      "metadata": {
        "id": "Gphy8bpaGakF"
      },
      "outputs": [],
      "source": [
        "train_errorAnalysis = reportErrorAnalysis(trainData[0], trainData[5], train_pred_OH, y_train_inflection_OH, mixModel1_path + \"/train_errorAnalysis.csv\")\n",
        "train_errorAnalysis"
      ]
    },
    {
      "cell_type": "code",
      "execution_count": null,
      "metadata": {
        "id": "W4mXyqHAHeT2"
      },
      "outputs": [],
      "source": [
        "reportErrorAnalysis_inflectionWithBS(trainData[0], trainData[5],bs_pred, train_pred_OH, y_train_inflection_OH, mixModel1_path + \"/train_errorAnalysis_with_bs.csv\")"
      ]
    },
    {
      "cell_type": "code",
      "execution_count": null,
      "metadata": {
        "id": "NMPj_yGSGakF"
      },
      "outputs": [],
      "source": [
        "print('(Broken error %, Sound error %): ', reportPercentageOfBrokenSoundErrors(train_errorAnalysis))"
      ]
    },
    {
      "cell_type": "code",
      "execution_count": null,
      "metadata": {
        "id": "BhF3rJ8ZGakF"
      },
      "outputs": [],
      "source": [
        "checkAccuracy_anyAcceptableInflectionInDataset(trainData[0],train_pred_OH,dic_lemmaInflection)"
      ]
    },
    {
      "cell_type": "markdown",
      "metadata": {
        "id": "RHQ5EblGGakF"
      },
      "source": [
        "### **Dev analyze**"
      ]
    },
    {
      "cell_type": "code",
      "execution_count": null,
      "metadata": {
        "id": "ljzLZIbvGakF"
      },
      "outputs": [],
      "source": [
        "dev_pred,bs_pred = mix_model.predict([X_dev_lemma_OH, X_dev_genRat])\n",
        "dev_pred_OH = oneHot3D(dev_pred)\n",
        "dev_error_num, dev_acc_num = checkAccuracy(dev_pred_OH, y_dev_inflection_OH)\n",
        "dev_error_num, dev_acc_num"
      ]
    },
    {
      "cell_type": "code",
      "execution_count": null,
      "metadata": {
        "id": "NHXxon8XGakF"
      },
      "outputs": [],
      "source": [
        "dev_errorAnalysis = reportErrorAnalysis_inflectionWithBS(devData[0], devData[5],bs_pred, dev_pred_OH, y_dev_inflection_OH, mixModel1_path + \"/dev_errorAnalysis_with_bs.csv\")\n",
        "dev_errorAnalysis"
      ]
    },
    {
      "cell_type": "code",
      "execution_count": null,
      "metadata": {
        "id": "CDY9PrfHcuR3"
      },
      "outputs": [],
      "source": [
        "bstuple = [dev_errorAnalysis['b/s'], dev_errorAnalysis['b/s predict']]\n",
        "c = 0\n",
        "n = len(bstuple[0])\n",
        "for i in range(n):\n",
        "  if not bstuple[0][i] == bstuple[1][i]: c+=1\n",
        "\n",
        "c/n"
      ]
    },
    {
      "cell_type": "code",
      "execution_count": null,
      "metadata": {
        "id": "9lXonFHHGakG"
      },
      "outputs": [],
      "source": [
        "print('(Broken error %, Sound error %): ', reportPercentageOfBrokenSoundErrors(dev_errorAnalysis))"
      ]
    },
    {
      "cell_type": "code",
      "execution_count": null,
      "metadata": {
        "id": "ZDrX1fdMGakG"
      },
      "outputs": [],
      "source": [
        "checkAccuracy_anyAcceptableInflectionInDataset(devData[0], dev_pred_OH, dic_lemmaInflection)"
      ]
    },
    {
      "cell_type": "code",
      "execution_count": null,
      "metadata": {
        "id": "74SuAUc9GakG"
      },
      "outputs": [],
      "source": [
        "# Report Percentage of Unseen Errors in Dev set\n",
        "errorIndices_dev = dev_errorAnalysis['index'].tolist()\n",
        "unseenIndices_dev = unseenLemInfIndices_dev_df['index'].tolist()\n",
        "\n",
        "print('Percentage of Unseen Errors with respect to Total Errors, Percentage of Unseen Errors with respect to Total Unseen Samples')\n",
        "print(reportPercentageOfUnseenErrors(errorIndices_dev, unseenIndices_dev))"
      ]
    },
    {
      "cell_type": "markdown",
      "metadata": {
        "id": "sZl-0dRpGakG"
      },
      "source": [
        "### **Test analyze**"
      ]
    },
    {
      "cell_type": "code",
      "execution_count": null,
      "metadata": {
        "id": "_YQAHhxJGakG"
      },
      "outputs": [],
      "source": [
        "test_pred,bs_pred = mix_model.predict([X_test_lemma_OH, X_test_genRat])\n",
        "test_pred_OH = oneHot3D(test_pred)\n",
        "test_error_num, test_acc_num = checkAccuracy(test_pred_OH, y_test_inflection_OH)\n",
        "test_error_num, test_acc_num"
      ]
    },
    {
      "cell_type": "code",
      "execution_count": null,
      "metadata": {
        "id": "-4ejjMmuGakG"
      },
      "outputs": [],
      "source": [
        "test_errorAnalysis = reportErrorAnalysis_inflectionWithBS(testData[0], testData[5],bs_pred, test_pred_OH, y_test_inflection_OH, mixModel1_path + \"/test_errorAnalysis_with_bs.csv\")\n",
        "test_errorAnalysis"
      ]
    },
    {
      "cell_type": "code",
      "execution_count": null,
      "metadata": {
        "id": "U80Tr2o3hLFE"
      },
      "outputs": [],
      "source": [
        "bstuple = [test_errorAnalysis['b/s'], test_errorAnalysis['b/s predict']]\n",
        "c = 0\n",
        "n = len(bstuple[0])\n",
        "for i in range(n):\n",
        "  if not bstuple[0][i] == bstuple[1][i]: c+=1\n",
        "\n",
        "c/n"
      ]
    },
    {
      "cell_type": "code",
      "execution_count": null,
      "metadata": {
        "id": "Y1aOEbV_GakG"
      },
      "outputs": [],
      "source": [
        "print('(Broken error %, Sound error %): ', reportPercentageOfBrokenSoundErrors(test_errorAnalysis))"
      ]
    },
    {
      "cell_type": "code",
      "execution_count": null,
      "metadata": {
        "id": "upu85AtSGakH"
      },
      "outputs": [],
      "source": [
        "checkAccuracy_anyAcceptableInflectionInDataset(testData[0], test_pred_OH, dic_lemmaInflection)"
      ]
    },
    {
      "cell_type": "code",
      "execution_count": null,
      "metadata": {
        "id": "hcIeOUM9GakH"
      },
      "outputs": [],
      "source": [
        "# Report Percentage of Unseen Errors in Test set\n",
        "errorIndices_test = test_errorAnalysis['index'].tolist()\n",
        "unseenIndices_test = unseenLemInfIndices_test_df['index'].tolist()\n",
        "\n",
        "print('Percentage of Unseen Errors with respect to Total Errors, Percentage of Unseen Errors with respect to Total Unseen Samples')\n",
        "print(reportPercentageOfUnseenErrors(errorIndices_test, unseenIndices_test))"
      ]
    },
    {
      "cell_type": "code",
      "execution_count": null,
      "metadata": {
        "id": "7DfEWHAoCQsz"
      },
      "outputs": [],
      "source": []
    },
    {
      "cell_type": "markdown",
      "metadata": {
        "id": "LYsYhh9jIKb9"
      },
      "source": [
        "## **New Mix Model (2 Networks: Classification + Machine Translation)**\n",
        "with 2 outputs(inflection)"
      ]
    },
    {
      "cell_type": "code",
      "execution_count": 88,
      "metadata": {
        "id": "Vow5vxE5IKcB"
      },
      "outputs": [],
      "source": [
        "mixModel3_path = path + '/Machine Translation Models/Mix Model 3'"
      ]
    },
    {
      "cell_type": "code",
      "execution_count": 89,
      "metadata": {
        "colab": {
          "base_uri": "https://localhost:8080/"
        },
        "id": "OS63RzZuIKcF",
        "outputId": "41b284da-6946-46ba-ec81-8381f3b5ab4e"
      },
      "outputs": [
        {
          "output_type": "stream",
          "name": "stderr",
          "text": [
            "WARNING:tensorflow:No training configuration found in the save file, so the model was *not* compiled. Compile it manually.\n"
          ]
        }
      ],
      "source": [
        "BSClassification_path = path + '/Classification Models'\n",
        "BSClassification_model_path = BSClassification_path + '/model 1/weights.hdf5'\n",
        "BSClassification_model_structure_path = BSClassification_path + \"/model 1/structure.h5\"\n",
        "\n",
        "BSC_model = load_model(BSClassification_model_path)\n",
        "BSC_model_struct = load_model(BSClassification_model_structure_path)\n",
        "\n",
        "BSC_model_struct.set_weights(BSC_model.get_weights())\n",
        "BSC_model_struct.trainable = False\n",
        "# print(BSC_model.layers[1].get_weights()[0][0])\n",
        "# print(BSC_model_struct.layers[1].get_weights()[0][0])"
      ]
    },
    {
      "cell_type": "code",
      "execution_count": 90,
      "metadata": {
        "id": "-FwTYKESIKcJ"
      },
      "outputs": [],
      "source": [
        "input_lemma = Input(shape=(lemma_length, encode_size), name='Lemma')\n",
        "input_genRat = Input(shape=(genRat_length, ), name='Gender-Rational')\n",
        "\n",
        "cls = BSC_model_struct([input_lemma, input_genRat])\n",
        "lstm1 = Bidirectional(LSTM(256, name='Lstm1'), name='Encoder')(input_lemma)\n",
        "\n",
        "c = Concatenate(axis=1, name='Concatenate')([lstm1, input_genRat, cls])\n",
        "\n",
        "d = Dense(200, activation='relu', name='Dense1')(c)\n",
        "r = RepeatVector(inflection_length, name='RepeatVector')(d)\n",
        "\n",
        "lstm2 = Bidirectional(LSTM(256, return_sequences=True, name='Lstm2'), name='Decoder')(r)\n",
        "output = TimeDistributed(Dense(encode_size, activation='softmax', name='Dense2'), name='Inflection')(lstm2)\n",
        "\n",
        "mix_model = Model(inputs=[input_lemma, input_genRat], outputs=output)\n",
        "\n",
        "checkpoint_filepath = mixModel3_path + '/weights.hdf5'\n",
        "checkpoint = ModelCheckpoint(filepath=checkpoint_filepath, monitor='val_accuracy', mode='max', save_best_only=True, verbose=0)\n",
        "\n",
        "mix_model.compile(loss=\"binary_crossentropy\", optimizer=Adam(0.001), metrics=['accuracy'])"
      ]
    },
    {
      "cell_type": "code",
      "execution_count": 91,
      "metadata": {
        "colab": {
          "base_uri": "https://localhost:8080/"
        },
        "id": "3IsULwqQIKcN",
        "outputId": "c252469b-696c-4369-cf15-48e41d3bec6e"
      },
      "outputs": [
        {
          "output_type": "execute_result",
          "data": {
            "text/plain": [
              "array([-0.02294529, -0.10742611,  0.02736146, ..., -0.18890691,\n",
              "       -0.01805112, -0.01145793], dtype=float32)"
            ]
          },
          "metadata": {},
          "execution_count": 91
        }
      ],
      "source": [
        "mix_model.layers[3].layers[1].get_weights()[0][0]"
      ]
    },
    {
      "cell_type": "code",
      "execution_count": 92,
      "metadata": {
        "colab": {
          "base_uri": "https://localhost:8080/",
          "height": 1000
        },
        "id": "bkbFjq1FIKcY",
        "outputId": "57e93aae-343c-4f19-f9c2-d1495f06ac08"
      },
      "outputs": [
        {
          "output_type": "stream",
          "name": "stdout",
          "text": [
            "Model: \"model\"\n",
            "__________________________________________________________________________________________________\n",
            " Layer (type)                   Output Shape         Param #     Connected to                     \n",
            "==================================================================================================\n",
            " Lemma (InputLayer)             [(None, 17, 50)]     0           []                               \n",
            "                                                                                                  \n",
            " Gender-Rational (InputLayer)   [(None, 2)]          0           []                               \n",
            "                                                                                                  \n",
            " Encoder (Bidirectional)        (None, 512)          628736      ['Lemma[0][0]']                  \n",
            "                                                                                                  \n",
            " model_2 (Functional)           (None, 1)            777089      ['Lemma[0][0]',                  \n",
            "                                                                  'Gender-Rational[0][0]']        \n",
            "                                                                                                  \n",
            " Concatenate (Concatenate)      (None, 515)          0           ['Encoder[0][0]',                \n",
            "                                                                  'Gender-Rational[0][0]',        \n",
            "                                                                  'model_2[0][0]']                \n",
            "                                                                                                  \n",
            " Dense1 (Dense)                 (None, 200)          103200      ['Concatenate[0][0]']            \n",
            "                                                                                                  \n",
            " RepeatVector (RepeatVector)    (None, 18, 200)      0           ['Dense1[0][0]']                 \n",
            "                                                                                                  \n",
            " Decoder (Bidirectional)        (None, 18, 512)      935936      ['RepeatVector[0][0]']           \n",
            "                                                                                                  \n",
            " Inflection (TimeDistributed)   (None, 18, 50)       25650       ['Decoder[0][0]']                \n",
            "                                                                                                  \n",
            "==================================================================================================\n",
            "Total params: 2,470,611\n",
            "Trainable params: 1,693,522\n",
            "Non-trainable params: 777,089\n",
            "__________________________________________________________________________________________________\n",
            "None\n"
          ]
        },
        {
          "output_type": "execute_result",
          "data": {
            "image/png": "[encoded data removed]",
            "text/plain": [
              "<IPython.core.display.Image object>"
            ]
          },
          "metadata": {},
          "execution_count": 92
        }
      ],
      "source": [
        "print(mix_model.summary())\n",
        "plot_model(mix_model, to_file=mixModel3_path + '/architecture.png', show_shapes=True, show_layer_names=True)"
      ]
    },
    {
      "cell_type": "markdown",
      "metadata": {
        "id": "p8OxlGTpl3Sw"
      },
      "source": [
        "### **Fit Model On Data**"
      ]
    },
    {
      "cell_type": "markdown",
      "metadata": {
        "id": "9tjmQhdrERFu"
      },
      "source": [
        "#### **Old Dataset**"
      ]
    },
    {
      "cell_type": "code",
      "execution_count": null,
      "metadata": {
        "id": "EsfcDk7qIKcR"
      },
      "outputs": [],
      "source": [
        "with tf.device('/GPU:0'):\n",
        "  mix_model.fit([X_train_lemma_OH, X_train_genRat], y_train_inflection_OH, batch_size=batch_size, epochs=epochs, callbacks=[checkpoint], validation_data=([X_dev_lemma_OH, X_dev_genRat], y_dev_inflection_OH))  # starts training"
      ]
    },
    {
      "cell_type": "code",
      "execution_count": 94,
      "metadata": {
        "colab": {
          "base_uri": "https://localhost:8080/"
        },
        "id": "wOD8aZJAIKcT",
        "outputId": "e03ee1d4-3d24-4168-ca07-fbb6d85a99bb"
      },
      "outputs": [
        {
          "output_type": "stream",
          "name": "stderr",
          "text": [
            "WARNING:tensorflow:Error in loading the saved optimizer state. As a result, your model is starting with a freshly initialized optimizer.\n"
          ]
        },
        {
          "output_type": "stream",
          "name": "stdout",
          "text": [
            "78/78 [==============================] - 3s 8ms/step - loss: 2.0155e-04 - accuracy: 0.9994\n",
            "[0.00020155214588157833, 0.9994388222694397]\n",
            "34/34 [==============================] - 0s 8ms/step - loss: 0.0046 - accuracy: 0.9810\n",
            "[0.004611619748175144, 0.9809748530387878]\n",
            "33/33 [==============================] - 0s 7ms/step - loss: 0.0033 - accuracy: 0.9871\n",
            "[0.003321649506688118, 0.9870838522911072]\n"
          ]
        }
      ],
      "source": [
        "mix_model = load_model(checkpoint_filepath)\n",
        "print(mix_model.evaluate([X_train_lemma_OH, X_train_genRat], [y_train_inflection_OH]))\n",
        "print(mix_model.evaluate([X_dev_lemma_OH, X_dev_genRat], [y_dev_inflection_OH]))\n",
        "print(mix_model.evaluate([X_test_lemma_OH, X_test_genRat], [y_test_inflection_OH]))"
      ]
    },
    {
      "cell_type": "code",
      "source": [
        "#evaluate new data\n",
        "print(mix_model.evaluate([X_train_lemma_new_OH, X_train_genRat_new], [y_train_inflection_new_OH]))\n",
        "print(mix_model.evaluate([X_dev_lemma_new_OH, X_dev_genRat_new], [y_dev_inflection_new_OH]))\n",
        "print(mix_model.evaluate([X_test_lemma_new_OH, X_test_genRat_new], [y_test_inflection_new_OH]))"
      ],
      "metadata": {
        "colab": {
          "base_uri": "https://localhost:8080/"
        },
        "id": "kw9KSz8d0GRA",
        "outputId": "ef7e6e76-5953-46ee-ce6c-394d91001ff4"
      },
      "execution_count": 95,
      "outputs": [
        {
          "output_type": "stream",
          "name": "stdout",
          "text": [
            "32/32 [==============================] - 4s 11ms/step - loss: 0.0035 - accuracy: 0.9861\n",
            "[0.0035231709480285645, 0.9860555529594421]\n",
            "11/11 [==============================] - 0s 12ms/step - loss: 0.0035 - accuracy: 0.9856\n",
            "[0.003471402684226632, 0.9855847358703613]\n",
            "19/19 [==============================] - 0s 12ms/step - loss: 0.0026 - accuracy: 0.9896\n",
            "[0.0025994323659688234, 0.9896296262741089]\n"
          ]
        }
      ]
    },
    {
      "cell_type": "markdown",
      "metadata": {
        "id": "9Ww3flacEkTR"
      },
      "source": [
        "#### **New Dataset**"
      ]
    },
    {
      "cell_type": "code",
      "execution_count": null,
      "metadata": {
        "id": "4KRmtdCvEqYG"
      },
      "outputs": [],
      "source": [
        "with tf.device('/GPU:0'):\n",
        "  mix_model.fit([X_train_lemma_new_OH, X_train_genRat_new], y_train_inflection_new_OH, batch_size=batch_size, epochs=100, callbacks=[checkpoint], validation_data=([X_dev_lemma_new_OH, X_dev_genRat_new], y_dev_inflection_new_OH))  # starts training"
      ]
    },
    {
      "cell_type": "code",
      "source": [
        "# evaluate new dataset\n",
        "mix_model = load_model(checkpoint_filepath)\n",
        "print(mix_model.evaluate([X_train_lemma_new_OH, X_train_genRat_new], [y_train_inflection_new_OH]))\n",
        "print(mix_model.evaluate([X_dev_lemma_new_OH, X_dev_genRat_new], [y_dev_inflection_new_OH]))\n",
        "print(mix_model.evaluate([X_test_lemma_new_OH, X_test_genRat_new], [y_test_inflection_new_OH]))"
      ],
      "metadata": {
        "id": "1-RhD3Q_AFnQ",
        "colab": {
          "base_uri": "https://localhost:8080/"
        },
        "outputId": "353c1d04-66ff-471a-d3c5-f20ee00c3fd9"
      },
      "execution_count": 97,
      "outputs": [
        {
          "output_type": "stream",
          "name": "stderr",
          "text": [
            "WARNING:tensorflow:Error in loading the saved optimizer state. As a result, your model is starting with a freshly initialized optimizer.\n"
          ]
        },
        {
          "output_type": "stream",
          "name": "stdout",
          "text": [
            "32/32 [==============================] - 3s 11ms/step - loss: 0.0035 - accuracy: 0.9861\n",
            "[0.0035231709480285645, 0.9860555529594421]\n",
            "11/11 [==============================] - 0s 12ms/step - loss: 0.0035 - accuracy: 0.9856\n",
            "[0.003471402684226632, 0.9855847358703613]\n",
            "19/19 [==============================] - 0s 11ms/step - loss: 0.0026 - accuracy: 0.9896\n",
            "[0.0025994323659688234, 0.9896296262741089]\n"
          ]
        }
      ]
    },
    {
      "cell_type": "code",
      "source": [
        "# evaluate old dataset\n",
        "print(mix_model.evaluate([X_train_lemma_OH, X_train_genRat], [y_train_inflection_OH]))\n",
        "print(mix_model.evaluate([X_dev_lemma_OH, X_dev_genRat], [y_dev_inflection_OH]))\n",
        "print(mix_model.evaluate([X_test_lemma_OH, X_test_genRat], [y_test_inflection_OH]))"
      ],
      "metadata": {
        "id": "OrUNqOGfALIi",
        "colab": {
          "base_uri": "https://localhost:8080/"
        },
        "outputId": "96e34765-af23-4605-dfad-b5bf38bfb11c"
      },
      "execution_count": 98,
      "outputs": [
        {
          "output_type": "stream",
          "name": "stdout",
          "text": [
            "78/78 [==============================] - 3s 8ms/step - loss: 2.0155e-04 - accuracy: 0.9994\n",
            "[0.00020155214588157833, 0.9994388222694397]\n",
            "34/34 [==============================] - 0s 7ms/step - loss: 0.0046 - accuracy: 0.9810\n",
            "[0.004611619748175144, 0.9809748530387878]\n",
            "33/33 [==============================] - 0s 8ms/step - loss: 0.0033 - accuracy: 0.9871\n",
            "[0.003321649506688118, 0.9870838522911072]\n"
          ]
        }
      ]
    },
    {
      "cell_type": "markdown",
      "metadata": {
        "id": "ehuHuIxJ_G0f"
      },
      "source": [
        "#### **Combined Dataset**"
      ]
    },
    {
      "cell_type": "code",
      "execution_count": 99,
      "metadata": {
        "colab": {
          "base_uri": "https://localhost:8080/"
        },
        "outputId": "aaf10491-d4f8-4aa1-a066-50cf8ac01eaf",
        "id": "x3ZLc9mk_G0f"
      },
      "outputs": [
        {
          "output_type": "stream",
          "name": "stdout",
          "text": [
            "Epoch 1/100\n",
            "55/55 [==============================] - 13s 93ms/step - loss: 0.0238 - accuracy: 0.7856 - val_loss: 0.0135 - val_accuracy: 0.8660\n",
            "Epoch 2/100\n",
            "55/55 [==============================] - 1s 19ms/step - loss: 0.0108 - accuracy: 0.8927 - val_loss: 0.0097 - val_accuracy: 0.9114\n",
            "Epoch 3/100\n",
            "55/55 [==============================] - 1s 22ms/step - loss: 0.0075 - accuracy: 0.9298 - val_loss: 0.0077 - val_accuracy: 0.9329\n",
            "Epoch 4/100\n",
            "55/55 [==============================] - 1s 18ms/step - loss: 0.0064 - accuracy: 0.9419 - val_loss: 0.0063 - val_accuracy: 0.9503\n",
            "Epoch 5/100\n",
            "55/55 [==============================] - 1s 19ms/step - loss: 0.0046 - accuracy: 0.9598 - val_loss: 0.0060 - val_accuracy: 0.9509\n",
            "Epoch 6/100\n",
            "55/55 [==============================] - 1s 21ms/step - loss: 0.0038 - accuracy: 0.9681 - val_loss: 0.0053 - val_accuracy: 0.9619\n",
            "Epoch 7/100\n",
            "55/55 [==============================] - 1s 24ms/step - loss: 0.0032 - accuracy: 0.9746 - val_loss: 0.0046 - val_accuracy: 0.9688\n",
            "Epoch 8/100\n",
            "55/55 [==============================] - 1s 27ms/step - loss: 0.0020 - accuracy: 0.9855 - val_loss: 0.0040 - val_accuracy: 0.9746\n",
            "Epoch 9/100\n",
            "55/55 [==============================] - 2s 31ms/step - loss: 0.0014 - accuracy: 0.9911 - val_loss: 0.0038 - val_accuracy: 0.9780\n",
            "Epoch 10/100\n",
            "55/55 [==============================] - 2s 35ms/step - loss: 0.0016 - accuracy: 0.9885 - val_loss: 0.0047 - val_accuracy: 0.9694\n",
            "Epoch 11/100\n",
            "55/55 [==============================] - 2s 28ms/step - loss: 0.0022 - accuracy: 0.9824 - val_loss: 0.0038 - val_accuracy: 0.9780\n",
            "Epoch 12/100\n",
            "55/55 [==============================] - 2s 28ms/step - loss: 0.0015 - accuracy: 0.9897 - val_loss: 0.0038 - val_accuracy: 0.9791\n",
            "Epoch 13/100\n",
            "55/55 [==============================] - 1s 21ms/step - loss: 7.1952e-04 - accuracy: 0.9963 - val_loss: 0.0034 - val_accuracy: 0.9817\n",
            "Epoch 14/100\n",
            "55/55 [==============================] - 1s 24ms/step - loss: 5.0056e-04 - accuracy: 0.9978 - val_loss: 0.0034 - val_accuracy: 0.9826\n",
            "Epoch 15/100\n",
            "55/55 [==============================] - 1s 23ms/step - loss: 3.6700e-04 - accuracy: 0.9986 - val_loss: 0.0034 - val_accuracy: 0.9829\n",
            "Epoch 16/100\n",
            "55/55 [==============================] - 1s 19ms/step - loss: 2.9567e-04 - accuracy: 0.9989 - val_loss: 0.0034 - val_accuracy: 0.9828\n",
            "Epoch 17/100\n",
            "55/55 [==============================] - 1s 22ms/step - loss: 3.5210e-04 - accuracy: 0.9984 - val_loss: 0.0034 - val_accuracy: 0.9834\n",
            "Epoch 18/100\n",
            "55/55 [==============================] - 1s 18ms/step - loss: 8.7307e-04 - accuracy: 0.9943 - val_loss: 0.0036 - val_accuracy: 0.9813\n",
            "Epoch 19/100\n",
            "55/55 [==============================] - 1s 22ms/step - loss: 6.6738e-04 - accuracy: 0.9964 - val_loss: 0.0036 - val_accuracy: 0.9810\n",
            "Epoch 20/100\n",
            "55/55 [==============================] - 1s 19ms/step - loss: 4.8379e-04 - accuracy: 0.9975 - val_loss: 0.0037 - val_accuracy: 0.9817\n",
            "Epoch 21/100\n",
            "55/55 [==============================] - 1s 25ms/step - loss: 0.0010 - accuracy: 0.9928 - val_loss: 0.0043 - val_accuracy: 0.9762\n",
            "Epoch 22/100\n",
            "55/55 [==============================] - 2s 29ms/step - loss: 0.0015 - accuracy: 0.9890 - val_loss: 0.0046 - val_accuracy: 0.9717\n",
            "Epoch 23/100\n",
            "55/55 [==============================] - 2s 29ms/step - loss: 0.0016 - accuracy: 0.9879 - val_loss: 0.0045 - val_accuracy: 0.9745\n",
            "Epoch 24/100\n",
            "55/55 [==============================] - 2s 27ms/step - loss: 9.1292e-04 - accuracy: 0.9943 - val_loss: 0.0041 - val_accuracy: 0.9785\n",
            "Epoch 25/100\n",
            "55/55 [==============================] - 1s 22ms/step - loss: 8.0514e-04 - accuracy: 0.9949 - val_loss: 0.0040 - val_accuracy: 0.9797\n",
            "Epoch 26/100\n",
            "55/55 [==============================] - 1s 21ms/step - loss: 9.4655e-04 - accuracy: 0.9935 - val_loss: 0.0039 - val_accuracy: 0.9803\n",
            "Epoch 27/100\n",
            "55/55 [==============================] - 1s 19ms/step - loss: 7.7480e-04 - accuracy: 0.9955 - val_loss: 0.0036 - val_accuracy: 0.9830\n",
            "Epoch 28/100\n",
            "55/55 [==============================] - 2s 29ms/step - loss: 2.4352e-04 - accuracy: 0.9990 - val_loss: 0.0035 - val_accuracy: 0.9842\n",
            "Epoch 29/100\n",
            "55/55 [==============================] - 1s 19ms/step - loss: 1.4355e-04 - accuracy: 0.9996 - val_loss: 0.0036 - val_accuracy: 0.9838\n",
            "Epoch 30/100\n",
            "55/55 [==============================] - 1s 25ms/step - loss: 1.1502e-04 - accuracy: 0.9996 - val_loss: 0.0036 - val_accuracy: 0.9842\n",
            "Epoch 31/100\n",
            "55/55 [==============================] - 1s 21ms/step - loss: 9.9395e-05 - accuracy: 0.9997 - val_loss: 0.0036 - val_accuracy: 0.9841\n",
            "Epoch 32/100\n",
            "55/55 [==============================] - 1s 26ms/step - loss: 8.9162e-05 - accuracy: 0.9997 - val_loss: 0.0037 - val_accuracy: 0.9843\n",
            "Epoch 33/100\n",
            "55/55 [==============================] - 2s 30ms/step - loss: 8.6094e-05 - accuracy: 0.9998 - val_loss: 0.0037 - val_accuracy: 0.9842\n",
            "Epoch 34/100\n",
            "55/55 [==============================] - 2s 28ms/step - loss: 8.4100e-05 - accuracy: 0.9997 - val_loss: 0.0037 - val_accuracy: 0.9838\n",
            "Epoch 35/100\n",
            "55/55 [==============================] - 1s 27ms/step - loss: 1.3700e-04 - accuracy: 0.9993 - val_loss: 0.0039 - val_accuracy: 0.9825\n",
            "Epoch 36/100\n",
            "55/55 [==============================] - 1s 21ms/step - loss: 3.1375e-04 - accuracy: 0.9982 - val_loss: 0.0041 - val_accuracy: 0.9816\n",
            "Epoch 37/100\n",
            "55/55 [==============================] - 1s 22ms/step - loss: 2.1968e-04 - accuracy: 0.9988 - val_loss: 0.0040 - val_accuracy: 0.9814\n",
            "Epoch 38/100\n",
            "55/55 [==============================] - 1s 19ms/step - loss: 2.1761e-04 - accuracy: 0.9988 - val_loss: 0.0038 - val_accuracy: 0.9830\n",
            "Epoch 39/100\n",
            "55/55 [==============================] - 1s 22ms/step - loss: 1.9102e-04 - accuracy: 0.9991 - val_loss: 0.0038 - val_accuracy: 0.9843\n",
            "Epoch 40/100\n",
            "55/55 [==============================] - 1s 18ms/step - loss: 0.0012 - accuracy: 0.9909 - val_loss: 0.0043 - val_accuracy: 0.9785\n",
            "Epoch 41/100\n",
            "55/55 [==============================] - 1s 21ms/step - loss: 0.0018 - accuracy: 0.9854 - val_loss: 0.0059 - val_accuracy: 0.9619\n",
            "Epoch 42/100\n",
            "55/55 [==============================] - 1s 18ms/step - loss: 0.0022 - accuracy: 0.9814 - val_loss: 0.0044 - val_accuracy: 0.9746\n",
            "Epoch 43/100\n",
            "55/55 [==============================] - 1s 19ms/step - loss: 0.0012 - accuracy: 0.9907 - val_loss: 0.0039 - val_accuracy: 0.9818\n",
            "Epoch 44/100\n",
            "55/55 [==============================] - 1s 26ms/step - loss: 5.2161e-04 - accuracy: 0.9968 - val_loss: 0.0038 - val_accuracy: 0.9829\n",
            "Epoch 45/100\n",
            "55/55 [==============================] - 2s 31ms/step - loss: 2.0358e-04 - accuracy: 0.9990 - val_loss: 0.0037 - val_accuracy: 0.9837\n",
            "Epoch 46/100\n",
            "55/55 [==============================] - 2s 39ms/step - loss: 9.8186e-05 - accuracy: 0.9997 - val_loss: 0.0037 - val_accuracy: 0.9844\n",
            "Epoch 47/100\n",
            "55/55 [==============================] - 1s 19ms/step - loss: 7.4602e-05 - accuracy: 0.9998 - val_loss: 0.0037 - val_accuracy: 0.9842\n",
            "Epoch 48/100\n",
            "55/55 [==============================] - 1s 19ms/step - loss: 7.2476e-05 - accuracy: 0.9998 - val_loss: 0.0037 - val_accuracy: 0.9842\n",
            "Epoch 49/100\n",
            "55/55 [==============================] - 1s 19ms/step - loss: 7.4168e-05 - accuracy: 0.9997 - val_loss: 0.0038 - val_accuracy: 0.9844\n",
            "Epoch 50/100\n",
            "55/55 [==============================] - 1s 19ms/step - loss: 5.8351e-05 - accuracy: 0.9998 - val_loss: 0.0038 - val_accuracy: 0.9840\n",
            "Epoch 51/100\n",
            "55/55 [==============================] - 1s 19ms/step - loss: 5.0079e-05 - accuracy: 0.9998 - val_loss: 0.0038 - val_accuracy: 0.9844\n",
            "Epoch 52/100\n",
            "55/55 [==============================] - 1s 22ms/step - loss: 4.5786e-05 - accuracy: 0.9999 - val_loss: 0.0038 - val_accuracy: 0.9842\n",
            "Epoch 53/100\n",
            "55/55 [==============================] - 1s 19ms/step - loss: 4.5727e-05 - accuracy: 0.9998 - val_loss: 0.0039 - val_accuracy: 0.9841\n",
            "Epoch 54/100\n",
            "55/55 [==============================] - 1s 23ms/step - loss: 3.8829e-05 - accuracy: 0.9999 - val_loss: 0.0039 - val_accuracy: 0.9842\n",
            "Epoch 55/100\n",
            "55/55 [==============================] - 1s 22ms/step - loss: 3.9027e-05 - accuracy: 0.9998 - val_loss: 0.0039 - val_accuracy: 0.9844\n",
            "Epoch 56/100\n",
            "55/55 [==============================] - 2s 29ms/step - loss: 3.4203e-05 - accuracy: 0.9999 - val_loss: 0.0039 - val_accuracy: 0.9844\n",
            "Epoch 57/100\n",
            "55/55 [==============================] - 2s 39ms/step - loss: 3.5979e-05 - accuracy: 0.9998 - val_loss: 0.0039 - val_accuracy: 0.9845\n",
            "Epoch 58/100\n",
            "55/55 [==============================] - 1s 22ms/step - loss: 3.2186e-05 - accuracy: 0.9999 - val_loss: 0.0040 - val_accuracy: 0.9843\n",
            "Epoch 59/100\n",
            "55/55 [==============================] - 1s 22ms/step - loss: 3.1010e-05 - accuracy: 0.9999 - val_loss: 0.0039 - val_accuracy: 0.9846\n",
            "Epoch 60/100\n",
            "55/55 [==============================] - 1s 25ms/step - loss: 3.6283e-05 - accuracy: 0.9999 - val_loss: 0.0040 - val_accuracy: 0.9846\n",
            "Epoch 61/100\n",
            "55/55 [==============================] - 1s 23ms/step - loss: 3.1859e-05 - accuracy: 0.9999 - val_loss: 0.0039 - val_accuracy: 0.9847\n",
            "Epoch 62/100\n",
            "55/55 [==============================] - 1s 20ms/step - loss: 3.8731e-05 - accuracy: 0.9998 - val_loss: 0.0040 - val_accuracy: 0.9842\n",
            "Epoch 63/100\n",
            "55/55 [==============================] - 1s 19ms/step - loss: 3.2330e-05 - accuracy: 0.9999 - val_loss: 0.0040 - val_accuracy: 0.9846\n",
            "Epoch 64/100\n",
            "55/55 [==============================] - 1s 22ms/step - loss: 5.2048e-05 - accuracy: 0.9998 - val_loss: 0.0040 - val_accuracy: 0.9843\n",
            "Epoch 65/100\n",
            "55/55 [==============================] - 1s 22ms/step - loss: 1.9649e-04 - accuracy: 0.9986 - val_loss: 0.0043 - val_accuracy: 0.9819\n",
            "Epoch 66/100\n",
            "55/55 [==============================] - 1s 22ms/step - loss: 0.0022 - accuracy: 0.9825 - val_loss: 0.0081 - val_accuracy: 0.9443\n",
            "Epoch 67/100\n",
            "55/55 [==============================] - 2s 30ms/step - loss: 0.0048 - accuracy: 0.9584 - val_loss: 0.0057 - val_accuracy: 0.9616\n",
            "Epoch 68/100\n",
            "55/55 [==============================] - 2s 30ms/step - loss: 0.0016 - accuracy: 0.9869 - val_loss: 0.0040 - val_accuracy: 0.9796\n",
            "Epoch 69/100\n",
            "55/55 [==============================] - 2s 30ms/step - loss: 7.9950e-04 - accuracy: 0.9945 - val_loss: 0.0043 - val_accuracy: 0.9749\n",
            "Epoch 70/100\n",
            "55/55 [==============================] - 1s 21ms/step - loss: 8.4884e-04 - accuracy: 0.9937 - val_loss: 0.0041 - val_accuracy: 0.9796\n",
            "Epoch 71/100\n",
            "55/55 [==============================] - 1s 19ms/step - loss: 6.2923e-04 - accuracy: 0.9957 - val_loss: 0.0038 - val_accuracy: 0.9829\n",
            "Epoch 72/100\n",
            "55/55 [==============================] - 1s 21ms/step - loss: 2.1058e-04 - accuracy: 0.9990 - val_loss: 0.0038 - val_accuracy: 0.9832\n",
            "Epoch 73/100\n",
            "55/55 [==============================] - 1s 18ms/step - loss: 8.5783e-05 - accuracy: 0.9998 - val_loss: 0.0038 - val_accuracy: 0.9839\n",
            "Epoch 74/100\n",
            "55/55 [==============================] - 1s 19ms/step - loss: 5.6431e-05 - accuracy: 0.9998 - val_loss: 0.0039 - val_accuracy: 0.9841\n",
            "Epoch 75/100\n",
            "55/55 [==============================] - 1s 19ms/step - loss: 4.5583e-05 - accuracy: 0.9999 - val_loss: 0.0040 - val_accuracy: 0.9840\n",
            "Epoch 76/100\n",
            "55/55 [==============================] - 1s 19ms/step - loss: 4.0427e-05 - accuracy: 0.9999 - val_loss: 0.0039 - val_accuracy: 0.9841\n",
            "Epoch 77/100\n",
            "55/55 [==============================] - 1s 22ms/step - loss: 3.7938e-05 - accuracy: 0.9999 - val_loss: 0.0040 - val_accuracy: 0.9840\n",
            "Epoch 78/100\n",
            "55/55 [==============================] - 1s 20ms/step - loss: 3.3723e-05 - accuracy: 0.9999 - val_loss: 0.0040 - val_accuracy: 0.9842\n",
            "Epoch 79/100\n",
            "55/55 [==============================] - 2s 29ms/step - loss: 3.2611e-05 - accuracy: 0.9999 - val_loss: 0.0040 - val_accuracy: 0.9844\n",
            "Epoch 80/100\n",
            "55/55 [==============================] - 2s 29ms/step - loss: 3.2599e-05 - accuracy: 0.9999 - val_loss: 0.0040 - val_accuracy: 0.9840\n",
            "Epoch 81/100\n",
            "55/55 [==============================] - 1s 27ms/step - loss: 3.3943e-05 - accuracy: 0.9999 - val_loss: 0.0040 - val_accuracy: 0.9845\n",
            "Epoch 82/100\n",
            "55/55 [==============================] - 1s 19ms/step - loss: 3.6192e-05 - accuracy: 0.9997 - val_loss: 0.0041 - val_accuracy: 0.9842\n",
            "Epoch 83/100\n",
            "55/55 [==============================] - 1s 19ms/step - loss: 3.7585e-05 - accuracy: 0.9999 - val_loss: 0.0041 - val_accuracy: 0.9843\n",
            "Epoch 84/100\n",
            "55/55 [==============================] - 1s 22ms/step - loss: 3.5125e-05 - accuracy: 0.9998 - val_loss: 0.0041 - val_accuracy: 0.9842\n",
            "Epoch 85/100\n",
            "55/55 [==============================] - 1s 19ms/step - loss: 3.4609e-05 - accuracy: 0.9999 - val_loss: 0.0041 - val_accuracy: 0.9842\n",
            "Epoch 86/100\n",
            "55/55 [==============================] - 1s 19ms/step - loss: 4.1482e-05 - accuracy: 0.9998 - val_loss: 0.0041 - val_accuracy: 0.9842\n",
            "Epoch 87/100\n",
            "55/55 [==============================] - 1s 19ms/step - loss: 5.3998e-05 - accuracy: 0.9996 - val_loss: 0.0041 - val_accuracy: 0.9838\n",
            "Epoch 88/100\n",
            "55/55 [==============================] - 1s 19ms/step - loss: 4.7193e-04 - accuracy: 0.9966 - val_loss: 0.0055 - val_accuracy: 0.9707\n",
            "Epoch 89/100\n",
            "55/55 [==============================] - 1s 19ms/step - loss: 0.0015 - accuracy: 0.9882 - val_loss: 0.0052 - val_accuracy: 0.9701\n",
            "Epoch 90/100\n",
            "55/55 [==============================] - 1s 19ms/step - loss: 0.0018 - accuracy: 0.9853 - val_loss: 0.0045 - val_accuracy: 0.9760\n",
            "Epoch 91/100\n",
            "55/55 [==============================] - 1s 27ms/step - loss: 0.0010 - accuracy: 0.9924 - val_loss: 0.0042 - val_accuracy: 0.9792\n",
            "Epoch 92/100\n",
            "55/55 [==============================] - 2s 29ms/step - loss: 8.9887e-04 - accuracy: 0.9936 - val_loss: 0.0042 - val_accuracy: 0.9805\n",
            "Epoch 93/100\n",
            "55/55 [==============================] - 2s 31ms/step - loss: 4.1198e-04 - accuracy: 0.9975 - val_loss: 0.0038 - val_accuracy: 0.9837\n",
            "Epoch 94/100\n",
            "55/55 [==============================] - 1s 20ms/step - loss: 1.8829e-04 - accuracy: 0.9991 - val_loss: 0.0038 - val_accuracy: 0.9840\n",
            "Epoch 95/100\n",
            "55/55 [==============================] - 1s 19ms/step - loss: 9.0655e-05 - accuracy: 0.9997 - val_loss: 0.0039 - val_accuracy: 0.9842\n",
            "Epoch 96/100\n",
            "55/55 [==============================] - 1s 22ms/step - loss: 5.0998e-05 - accuracy: 0.9998 - val_loss: 0.0040 - val_accuracy: 0.9843\n",
            "Epoch 97/100\n",
            "55/55 [==============================] - 1s 19ms/step - loss: 4.5525e-05 - accuracy: 0.9999 - val_loss: 0.0040 - val_accuracy: 0.9844\n",
            "Epoch 98/100\n",
            "55/55 [==============================] - 1s 22ms/step - loss: 3.7938e-05 - accuracy: 0.9999 - val_loss: 0.0040 - val_accuracy: 0.9844\n",
            "Epoch 99/100\n",
            "55/55 [==============================] - 1s 22ms/step - loss: 3.6067e-05 - accuracy: 0.9999 - val_loss: 0.0040 - val_accuracy: 0.9846\n",
            "Epoch 100/100\n",
            "55/55 [==============================] - 1s 19ms/step - loss: 3.0455e-05 - accuracy: 0.9999 - val_loss: 0.0041 - val_accuracy: 0.9844\n"
          ]
        }
      ],
      "source": [
        "with tf.device('/GPU:0'):\n",
        "  mix_model.fit([X_train_lemma_comb_OH, X_train_genRat_comb], y_train_inflection_comb_OH, batch_size=batch_size, epochs=100, callbacks=[checkpoint], validation_data=([X_dev_lemma_comb_OH, X_dev_genRat_comb], y_dev_inflection_comb_OH))  # starts training"
      ]
    },
    {
      "cell_type": "code",
      "execution_count": 100,
      "metadata": {
        "colab": {
          "base_uri": "https://localhost:8080/"
        },
        "outputId": "026ba569-2f34-4223-9ad3-f63eb9b9e229",
        "id": "Jwiymdz-_G0f"
      },
      "outputs": [
        {
          "output_type": "stream",
          "name": "stdout",
          "text": [
            "32/32 [==============================] - 3s 11ms/step - loss: 5.3462e-05 - accuracy: 0.9996\n",
            "[5.346232865122147e-05, 0.9996111392974854]\n",
            "11/11 [==============================] - 0s 13ms/step - loss: 9.5850e-04 - accuracy: 0.9942\n",
            "[0.0009584979270584881, 0.9941691160202026]\n",
            "19/19 [==============================] - 0s 11ms/step - loss: 6.7918e-04 - accuracy: 0.9967\n",
            "[0.0006791818886995316, 0.996666669845581]\n"
          ]
        }
      ],
      "source": [
        "# evaluate new dataset\n",
        "mix_model = load_model(checkpoint_filepath)\n",
        "print(mix_model.evaluate([X_train_lemma_new_OH, X_train_genRat_new], [y_train_inflection_new_OH]))\n",
        "print(mix_model.evaluate([X_dev_lemma_new_OH, X_dev_genRat_new], [y_dev_inflection_new_OH]))\n",
        "print(mix_model.evaluate([X_test_lemma_new_OH, X_test_genRat_new], [y_test_inflection_new_OH]))"
      ]
    },
    {
      "cell_type": "code",
      "source": [
        "# evaluate old dataset\n",
        "print(mix_model.evaluate([X_train_lemma_OH, X_train_genRat], [y_train_inflection_OH]))\n",
        "print(mix_model.evaluate([X_dev_lemma_OH, X_dev_genRat], [y_dev_inflection_OH]))\n",
        "print(mix_model.evaluate([X_test_lemma_OH, X_test_genRat], [y_test_inflection_OH]))"
      ],
      "metadata": {
        "colab": {
          "base_uri": "https://localhost:8080/"
        },
        "outputId": "3aa9fbfc-5350-43a7-842d-26874d08c153",
        "id": "QDg-neCo_G0f"
      },
      "execution_count": 101,
      "outputs": [
        {
          "output_type": "stream",
          "name": "stdout",
          "text": [
            "78/78 [==============================] - 4s 8ms/step - loss: 2.5308e-05 - accuracy: 1.0000\n",
            "[2.5307828764198348e-05, 0.9999551177024841]\n",
            "34/34 [==============================] - 0s 7ms/step - loss: 0.0049 - accuracy: 0.9816\n",
            "[0.004900439642369747, 0.9816038012504578]\n",
            "33/33 [==============================] - 0s 8ms/step - loss: 0.0038 - accuracy: 0.9858\n",
            "[0.00381846958771348, 0.985840916633606]\n"
          ]
        }
      ]
    },
    {
      "cell_type": "markdown",
      "metadata": {
        "id": "xQocIJpEIKcb"
      },
      "source": [
        "### **Train analyze**"
      ]
    },
    {
      "cell_type": "markdown",
      "metadata": {
        "id": "L9-VPeG5mdMp"
      },
      "source": [
        "#### **Old Data**"
      ]
    },
    {
      "cell_type": "code",
      "execution_count": 102,
      "metadata": {
        "colab": {
          "base_uri": "https://localhost:8080/"
        },
        "id": "O0uSTRE0IKce",
        "outputId": "0e72b405-719f-4b27-ec21-82b75dba9056"
      },
      "outputs": [
        {
          "output_type": "stream",
          "name": "stdout",
          "text": [
            "78/78 [==============================] - 3s 6ms/step\n"
          ]
        },
        {
          "output_type": "execute_result",
          "data": {
            "text/plain": [
              "(1, 0.9995959595959596)"
            ]
          },
          "metadata": {},
          "execution_count": 102
        }
      ],
      "source": [
        "train_pred = mix_model.predict([X_train_lemma_OH, X_train_genRat])\n",
        "train_pred_OH = oneHot3D(train_pred)\n",
        "train_error_num, train_acc_num = checkAccuracy(train_pred_OH, y_train_inflection_OH)\n",
        "train_error_num, train_acc_num"
      ]
    },
    {
      "cell_type": "code",
      "execution_count": 103,
      "metadata": {
        "id": "RRfJFF1-IKch",
        "colab": {
          "base_uri": "https://localhost:8080/",
          "height": 80
        },
        "outputId": "ec5ad766-4cd0-4120-8e17-2d56c5e911b6"
      },
      "outputs": [
        {
          "output_type": "execute_result",
          "data": {
            "text/plain": [
              "   index          lemma  b/s     inflection        predict\n",
              "0   1687  {it~ifAqiy~ap    1  Ait~ifAqiy~At  Aiti~fAqiy~At"
            ],
            "text/html": [
              "\n",
              "  <div id=\"df-8a856fbc-a45b-4625-975f-61696d7bd2a7\">\n",
              "    <div class=\"colab-df-container\">\n",
              "      <div>\n",
              "<style scoped>\n",
              "    .dataframe tbody tr th:only-of-type {\n",
              "        vertical-align: middle;\n",
              "    }\n",
              "\n",
              "    .dataframe tbody tr th {\n",
              "        vertical-align: top;\n",
              "    }\n",
              "\n",
              "    .dataframe thead th {\n",
              "        text-align: right;\n",
              "    }\n",
              "</style>\n",
              "<table border=\"1\" class=\"dataframe\">\n",
              "  <thead>\n",
              "    <tr style=\"text-align: right;\">\n",
              "      <th></th>\n",
              "      <th>index</th>\n",
              "      <th>lemma</th>\n",
              "      <th>b/s</th>\n",
              "      <th>inflection</th>\n",
              "      <th>predict</th>\n",
              "    </tr>\n",
              "  </thead>\n",
              "  <tbody>\n",
              "    <tr>\n",
              "      <th>0</th>\n",
              "      <td>1687</td>\n",
              "      <td>{it~ifAqiy~ap</td>\n",
              "      <td>1</td>\n",
              "      <td>Ait~ifAqiy~At</td>\n",
              "      <td>Aiti~fAqiy~At</td>\n",
              "    </tr>\n",
              "  </tbody>\n",
              "</table>\n",
              "</div>\n",
              "      <button class=\"colab-df-convert\" onclick=\"convertToInteractive('df-8a856fbc-a45b-4625-975f-61696d7bd2a7')\"\n",
              "              title=\"Convert this dataframe to an interactive table.\"\n",
              "              style=\"display:none;\">\n",
              "        \n",
              "  <svg xmlns=\"http://www.w3.org/2000/svg\" height=\"24px\"viewBox=\"0 0 24 24\"\n",
              "       width=\"24px\">\n",
              "    <path d=\"M0 0h24v24H0V0z\" fill=\"none\"/>\n",
              "    <path d=\"M18.56 5.44l.94 2.06.94-2.06 2.06-.94-2.06-.94-.94-2.06-.94 2.06-2.06.94zm-11 1L8.5 8.5l.94-2.06 2.06-.94-2.06-.94L8.5 2.5l-.94 2.06-2.06.94zm10 10l.94 2.06.94-2.06 2.06-.94-2.06-.94-.94-2.06-.94 2.06-2.06.94z\"/><path d=\"M17.41 7.96l-1.37-1.37c-.4-.4-.92-.59-1.43-.59-.52 0-1.04.2-1.43.59L10.3 9.45l-7.72 7.72c-.78.78-.78 2.05 0 2.83L4 21.41c.39.39.9.59 1.41.59.51 0 1.02-.2 1.41-.59l7.78-7.78 2.81-2.81c.8-.78.8-2.07 0-2.86zM5.41 20L4 18.59l7.72-7.72 1.47 1.35L5.41 20z\"/>\n",
              "  </svg>\n",
              "      </button>\n",
              "      \n",
              "  <style>\n",
              "    .colab-df-container {\n",
              "      display:flex;\n",
              "      flex-wrap:wrap;\n",
              "      gap: 12px;\n",
              "    }\n",
              "\n",
              "    .colab-df-convert {\n",
              "      background-color: #E8F0FE;\n",
              "      border: none;\n",
              "      border-radius: 50%;\n",
              "      cursor: pointer;\n",
              "      display: none;\n",
              "      fill: #1967D2;\n",
              "      height: 32px;\n",
              "      padding: 0 0 0 0;\n",
              "      width: 32px;\n",
              "    }\n",
              "\n",
              "    .colab-df-convert:hover {\n",
              "      background-color: #E2EBFA;\n",
              "      box-shadow: 0px 1px 2px rgba(60, 64, 67, 0.3), 0px 1px 3px 1px rgba(60, 64, 67, 0.15);\n",
              "      fill: #174EA6;\n",
              "    }\n",
              "\n",
              "    [theme=dark] .colab-df-convert {\n",
              "      background-color: #3B4455;\n",
              "      fill: #D2E3FC;\n",
              "    }\n",
              "\n",
              "    [theme=dark] .colab-df-convert:hover {\n",
              "      background-color: #434B5C;\n",
              "      box-shadow: 0px 1px 3px 1px rgba(0, 0, 0, 0.15);\n",
              "      filter: drop-shadow(0px 1px 2px rgba(0, 0, 0, 0.3));\n",
              "      fill: #FFFFFF;\n",
              "    }\n",
              "  </style>\n",
              "\n",
              "      <script>\n",
              "        const buttonEl =\n",
              "          document.querySelector('#df-8a856fbc-a45b-4625-975f-61696d7bd2a7 button.colab-df-convert');\n",
              "        buttonEl.style.display =\n",
              "          google.colab.kernel.accessAllowed ? 'block' : 'none';\n",
              "\n",
              "        async function convertToInteractive(key) {\n",
              "          const element = document.querySelector('#df-8a856fbc-a45b-4625-975f-61696d7bd2a7');\n",
              "          const dataTable =\n",
              "            await google.colab.kernel.invokeFunction('convertToInteractive',\n",
              "                                                     [key], {});\n",
              "          if (!dataTable) return;\n",
              "\n",
              "          const docLinkHtml = 'Like what you see? Visit the ' +\n",
              "            '<a target=\"_blank\" href=https://colab.research.google.com/notebooks/data_table.ipynb>data table notebook</a>'\n",
              "            + ' to learn more about interactive tables.';\n",
              "          element.innerHTML = '';\n",
              "          dataTable['output_type'] = 'display_data';\n",
              "          await google.colab.output.renderOutput(dataTable, element);\n",
              "          const docLink = document.createElement('div');\n",
              "          docLink.innerHTML = docLinkHtml;\n",
              "          element.appendChild(docLink);\n",
              "        }\n",
              "      </script>\n",
              "    </div>\n",
              "  </div>\n",
              "  "
            ]
          },
          "metadata": {},
          "execution_count": 103
        }
      ],
      "source": [
        "train_errorAnalysis = reportErrorAnalysis(trainData[0], trainData[5], train_pred_OH, y_train_inflection_OH, mixModel3_path + \"/train_errorAnalysis.csv\")\n",
        "train_errorAnalysis"
      ]
    },
    {
      "cell_type": "code",
      "execution_count": 104,
      "metadata": {
        "id": "1c5q-sOBr0gV",
        "colab": {
          "base_uri": "https://localhost:8080/"
        },
        "outputId": "ddde6730-ab41-41f0-c5b9-062a9db0e8e6"
      },
      "outputs": [
        {
          "output_type": "execute_result",
          "data": {
            "text/plain": [
              "(1, 0.9995959595959596)"
            ]
          },
          "metadata": {},
          "execution_count": 104
        }
      ],
      "source": [
        "checkAccuracy_anyAcceptableInflectionInDataset(trainData[0], train_pred_OH, dic_lemmaInflection)"
      ]
    },
    {
      "cell_type": "code",
      "execution_count": 105,
      "metadata": {
        "id": "MwRybc-AIKcl",
        "colab": {
          "base_uri": "https://localhost:8080/"
        },
        "outputId": "bec65244-2a67-4a97-b674-bfe772aff5d7"
      },
      "outputs": [
        {
          "output_type": "stream",
          "name": "stdout",
          "text": [
            "(Broken error %, Sound error %):  (0.0, 100.0)\n"
          ]
        }
      ],
      "source": [
        "print('(Broken error %, Sound error %): ', reportPercentageOfBrokenSoundErrors(train_errorAnalysis))"
      ]
    },
    {
      "cell_type": "markdown",
      "metadata": {
        "id": "hNm39hVHmrK6"
      },
      "source": [
        "#### **New Data**"
      ]
    },
    {
      "cell_type": "code",
      "execution_count": 106,
      "metadata": {
        "id": "lb8jdvuJm0L6",
        "colab": {
          "base_uri": "https://localhost:8080/"
        },
        "outputId": "4acd11be-f7e8-4026-adf1-36e7c2141b5f"
      },
      "outputs": [
        {
          "output_type": "stream",
          "name": "stdout",
          "text": [
            "32/32 [==============================] - 2s 7ms/step\n"
          ]
        },
        {
          "output_type": "execute_result",
          "data": {
            "text/plain": [
              "(2, 0.998)"
            ]
          },
          "metadata": {},
          "execution_count": 106
        }
      ],
      "source": [
        "new_train_pred = mix_model.predict([X_train_lemma_new_OH, X_train_genRat_new])\n",
        "new_train_pred_OH = oneHot3D(new_train_pred)\n",
        "new_train_error_num, new_train_acc_num = checkAccuracy(new_train_pred_OH, y_train_inflection_new_OH)\n",
        "new_train_error_num, new_train_acc_num"
      ]
    },
    {
      "cell_type": "code",
      "execution_count": 107,
      "metadata": {
        "id": "NUxhsW6Tm1mj",
        "colab": {
          "base_uri": "https://localhost:8080/",
          "height": 112
        },
        "outputId": "22b2ab96-e497-4a1c-8db0-549b09d38d1b"
      },
      "outputs": [
        {
          "output_type": "execute_result",
          "data": {
            "text/plain": [
              "   index           lemma  b/s         inflection            predict\n",
              "0    115     >uroduni~y~  NAN     >uroduni~yi~yn     >uroduniiy~iyn\n",
              "1    677  fiyliybi~yniy~  NAN  fiyliybi~yniyi~yn  fiyliyb~iyniy~iyn"
            ],
            "text/html": [
              "\n",
              "  <div id=\"df-02803c62-b1fb-48d9-a2f0-190e2c6ccb26\">\n",
              "    <div class=\"colab-df-container\">\n",
              "      <div>\n",
              "<style scoped>\n",
              "    .dataframe tbody tr th:only-of-type {\n",
              "        vertical-align: middle;\n",
              "    }\n",
              "\n",
              "    .dataframe tbody tr th {\n",
              "        vertical-align: top;\n",
              "    }\n",
              "\n",
              "    .dataframe thead th {\n",
              "        text-align: right;\n",
              "    }\n",
              "</style>\n",
              "<table border=\"1\" class=\"dataframe\">\n",
              "  <thead>\n",
              "    <tr style=\"text-align: right;\">\n",
              "      <th></th>\n",
              "      <th>index</th>\n",
              "      <th>lemma</th>\n",
              "      <th>b/s</th>\n",
              "      <th>inflection</th>\n",
              "      <th>predict</th>\n",
              "    </tr>\n",
              "  </thead>\n",
              "  <tbody>\n",
              "    <tr>\n",
              "      <th>0</th>\n",
              "      <td>115</td>\n",
              "      <td>&gt;uroduni~y~</td>\n",
              "      <td>NAN</td>\n",
              "      <td>&gt;uroduni~yi~yn</td>\n",
              "      <td>&gt;uroduniiy~iyn</td>\n",
              "    </tr>\n",
              "    <tr>\n",
              "      <th>1</th>\n",
              "      <td>677</td>\n",
              "      <td>fiyliybi~yniy~</td>\n",
              "      <td>NAN</td>\n",
              "      <td>fiyliybi~yniyi~yn</td>\n",
              "      <td>fiyliyb~iyniy~iyn</td>\n",
              "    </tr>\n",
              "  </tbody>\n",
              "</table>\n",
              "</div>\n",
              "      <button class=\"colab-df-convert\" onclick=\"convertToInteractive('df-02803c62-b1fb-48d9-a2f0-190e2c6ccb26')\"\n",
              "              title=\"Convert this dataframe to an interactive table.\"\n",
              "              style=\"display:none;\">\n",
              "        \n",
              "  <svg xmlns=\"http://www.w3.org/2000/svg\" height=\"24px\"viewBox=\"0 0 24 24\"\n",
              "       width=\"24px\">\n",
              "    <path d=\"M0 0h24v24H0V0z\" fill=\"none\"/>\n",
              "    <path d=\"M18.56 5.44l.94 2.06.94-2.06 2.06-.94-2.06-.94-.94-2.06-.94 2.06-2.06.94zm-11 1L8.5 8.5l.94-2.06 2.06-.94-2.06-.94L8.5 2.5l-.94 2.06-2.06.94zm10 10l.94 2.06.94-2.06 2.06-.94-2.06-.94-.94-2.06-.94 2.06-2.06.94z\"/><path d=\"M17.41 7.96l-1.37-1.37c-.4-.4-.92-.59-1.43-.59-.52 0-1.04.2-1.43.59L10.3 9.45l-7.72 7.72c-.78.78-.78 2.05 0 2.83L4 21.41c.39.39.9.59 1.41.59.51 0 1.02-.2 1.41-.59l7.78-7.78 2.81-2.81c.8-.78.8-2.07 0-2.86zM5.41 20L4 18.59l7.72-7.72 1.47 1.35L5.41 20z\"/>\n",
              "  </svg>\n",
              "      </button>\n",
              "      \n",
              "  <style>\n",
              "    .colab-df-container {\n",
              "      display:flex;\n",
              "      flex-wrap:wrap;\n",
              "      gap: 12px;\n",
              "    }\n",
              "\n",
              "    .colab-df-convert {\n",
              "      background-color: #E8F0FE;\n",
              "      border: none;\n",
              "      border-radius: 50%;\n",
              "      cursor: pointer;\n",
              "      display: none;\n",
              "      fill: #1967D2;\n",
              "      height: 32px;\n",
              "      padding: 0 0 0 0;\n",
              "      width: 32px;\n",
              "    }\n",
              "\n",
              "    .colab-df-convert:hover {\n",
              "      background-color: #E2EBFA;\n",
              "      box-shadow: 0px 1px 2px rgba(60, 64, 67, 0.3), 0px 1px 3px 1px rgba(60, 64, 67, 0.15);\n",
              "      fill: #174EA6;\n",
              "    }\n",
              "\n",
              "    [theme=dark] .colab-df-convert {\n",
              "      background-color: #3B4455;\n",
              "      fill: #D2E3FC;\n",
              "    }\n",
              "\n",
              "    [theme=dark] .colab-df-convert:hover {\n",
              "      background-color: #434B5C;\n",
              "      box-shadow: 0px 1px 3px 1px rgba(0, 0, 0, 0.15);\n",
              "      filter: drop-shadow(0px 1px 2px rgba(0, 0, 0, 0.3));\n",
              "      fill: #FFFFFF;\n",
              "    }\n",
              "  </style>\n",
              "\n",
              "      <script>\n",
              "        const buttonEl =\n",
              "          document.querySelector('#df-02803c62-b1fb-48d9-a2f0-190e2c6ccb26 button.colab-df-convert');\n",
              "        buttonEl.style.display =\n",
              "          google.colab.kernel.accessAllowed ? 'block' : 'none';\n",
              "\n",
              "        async function convertToInteractive(key) {\n",
              "          const element = document.querySelector('#df-02803c62-b1fb-48d9-a2f0-190e2c6ccb26');\n",
              "          const dataTable =\n",
              "            await google.colab.kernel.invokeFunction('convertToInteractive',\n",
              "                                                     [key], {});\n",
              "          if (!dataTable) return;\n",
              "\n",
              "          const docLinkHtml = 'Like what you see? Visit the ' +\n",
              "            '<a target=\"_blank\" href=https://colab.research.google.com/notebooks/data_table.ipynb>data table notebook</a>'\n",
              "            + ' to learn more about interactive tables.';\n",
              "          element.innerHTML = '';\n",
              "          dataTable['output_type'] = 'display_data';\n",
              "          await google.colab.output.renderOutput(dataTable, element);\n",
              "          const docLink = document.createElement('div');\n",
              "          docLink.innerHTML = docLinkHtml;\n",
              "          element.appendChild(docLink);\n",
              "        }\n",
              "      </script>\n",
              "    </div>\n",
              "  </div>\n",
              "  "
            ]
          },
          "metadata": {},
          "execution_count": 107
        }
      ],
      "source": [
        "new_train_errorAnalysis = reportErrorAnalysis(trainData_new[0], None, new_train_pred_OH, y_train_inflection_new_OH, mixModel3_path + \"/train_errorAnalysis_new.csv\")\n",
        "new_train_errorAnalysis"
      ]
    },
    {
      "cell_type": "code",
      "execution_count": 108,
      "metadata": {
        "id": "yUayloFXn0Tu",
        "colab": {
          "base_uri": "https://localhost:8080/"
        },
        "outputId": "690942c5-d763-4acd-a01c-7e2bcd1cc6a3"
      },
      "outputs": [
        {
          "output_type": "execute_result",
          "data": {
            "text/plain": [
              "(2, 0.998)"
            ]
          },
          "metadata": {},
          "execution_count": 108
        }
      ],
      "source": [
        "checkAccuracy_anyAcceptableInflectionInDataset(trainData_new[0], new_train_pred_OH, dic_lemmaInflection)"
      ]
    },
    {
      "cell_type": "code",
      "execution_count": 109,
      "metadata": {
        "id": "76LTfoXVm24R"
      },
      "outputs": [],
      "source": [
        "# # Report Percentage of Unseen Errors in Test set\n",
        "# errorIndices_test = new_train_errorAnalysis['index'].tolist()\n",
        "# unseenIndices_test = unseenLemInfIndices_train_new_df['index'].tolist()\n",
        "\n",
        "# print('Percentage of Unseen Errors with respect to Total Errors, Percentage of Unseen Errors with respect to Total Unseen Samples')\n",
        "# print(reportPercentageOfUnseenErrors(errorIndices_test, unseenIndices_test))"
      ]
    },
    {
      "cell_type": "markdown",
      "metadata": {
        "id": "rNmcuKe1IKcp"
      },
      "source": [
        "### **Dev analyze**"
      ]
    },
    {
      "cell_type": "markdown",
      "metadata": {
        "id": "PbEbj8cTnkQ0"
      },
      "source": [
        "#### **Old Data**"
      ]
    },
    {
      "cell_type": "code",
      "execution_count": 110,
      "metadata": {
        "colab": {
          "base_uri": "https://localhost:8080/"
        },
        "id": "F-y6AQRFIKdB",
        "outputId": "1b223138-974a-4db5-dd60-de9cfafc3955"
      },
      "outputs": [
        {
          "output_type": "stream",
          "name": "stdout",
          "text": [
            "34/34 [==============================] - 0s 10ms/step\n"
          ]
        },
        {
          "output_type": "execute_result",
          "data": {
            "text/plain": [
              "(89, 0.9160377358490566)"
            ]
          },
          "metadata": {},
          "execution_count": 110
        }
      ],
      "source": [
        "dev_pred = mix_model.predict([X_dev_lemma_OH, X_dev_genRat])\n",
        "dev_pred_OH = oneHot3D(dev_pred)\n",
        "dev_error_num, dev_acc_num = checkAccuracy(dev_pred_OH, y_dev_inflection_OH)\n",
        "dev_error_num, dev_acc_num"
      ]
    },
    {
      "cell_type": "code",
      "execution_count": 111,
      "metadata": {
        "colab": {
          "base_uri": "https://localhost:8080/",
          "height": 423
        },
        "id": "uBW0WeK9IKdD",
        "outputId": "7decabef-8cbb-4295-8f47-98c91f6d742a"
      },
      "outputs": [
        {
          "output_type": "execute_result",
          "data": {
            "text/plain": [
              "    index        lemma  b/s      inflection         predict\n",
              "0      59        nAdiy    0       >anodiyap         nawAdiy\n",
              "1     193  >amoriykiy~    1  >amoriykiy~iyn  >amiyrokiy~iyn\n",
              "2     213        na$AT    0       >ano$iTap         na$ATAt\n",
              "3     229    mujawohar    1     mujawoharAt     mujahohrrAt\n",
              "4     235      masoEaY    0           masAE         masAEiy\n",
              "..    ...          ...  ...             ...             ...\n",
              "84   1016     mujal~ad    1      mujal~adAt      mujal~alAt\n",
              "85   1025    mutarojim    1    mutarojimiyn    mutotajijiyn\n",
              "86   1041    mutaqADiy    1      mutaqADiyn      mutaqAyiyn\n",
              "87   1043  musotaEoTiy    1    musotaEoTiyn    musotaEoEiyn\n",
              "88   1057     musaj~il    1      musaj~ilAt     musaj~iliyn\n",
              "\n",
              "[89 rows x 5 columns]"
            ],
            "text/html": [
              "\n",
              "  <div id=\"df-c19b8b99-1972-4edc-bd9d-87aa2e214861\">\n",
              "    <div class=\"colab-df-container\">\n",
              "      <div>\n",
              "<style scoped>\n",
              "    .dataframe tbody tr th:only-of-type {\n",
              "        vertical-align: middle;\n",
              "    }\n",
              "\n",
              "    .dataframe tbody tr th {\n",
              "        vertical-align: top;\n",
              "    }\n",
              "\n",
              "    .dataframe thead th {\n",
              "        text-align: right;\n",
              "    }\n",
              "</style>\n",
              "<table border=\"1\" class=\"dataframe\">\n",
              "  <thead>\n",
              "    <tr style=\"text-align: right;\">\n",
              "      <th></th>\n",
              "      <th>index</th>\n",
              "      <th>lemma</th>\n",
              "      <th>b/s</th>\n",
              "      <th>inflection</th>\n",
              "      <th>predict</th>\n",
              "    </tr>\n",
              "  </thead>\n",
              "  <tbody>\n",
              "    <tr>\n",
              "      <th>0</th>\n",
              "      <td>59</td>\n",
              "      <td>nAdiy</td>\n",
              "      <td>0</td>\n",
              "      <td>&gt;anodiyap</td>\n",
              "      <td>nawAdiy</td>\n",
              "    </tr>\n",
              "    <tr>\n",
              "      <th>1</th>\n",
              "      <td>193</td>\n",
              "      <td>&gt;amoriykiy~</td>\n",
              "      <td>1</td>\n",
              "      <td>&gt;amoriykiy~iyn</td>\n",
              "      <td>&gt;amiyrokiy~iyn</td>\n",
              "    </tr>\n",
              "    <tr>\n",
              "      <th>2</th>\n",
              "      <td>213</td>\n",
              "      <td>na$AT</td>\n",
              "      <td>0</td>\n",
              "      <td>&gt;ano$iTap</td>\n",
              "      <td>na$ATAt</td>\n",
              "    </tr>\n",
              "    <tr>\n",
              "      <th>3</th>\n",
              "      <td>229</td>\n",
              "      <td>mujawohar</td>\n",
              "      <td>1</td>\n",
              "      <td>mujawoharAt</td>\n",
              "      <td>mujahohrrAt</td>\n",
              "    </tr>\n",
              "    <tr>\n",
              "      <th>4</th>\n",
              "      <td>235</td>\n",
              "      <td>masoEaY</td>\n",
              "      <td>0</td>\n",
              "      <td>masAE</td>\n",
              "      <td>masAEiy</td>\n",
              "    </tr>\n",
              "    <tr>\n",
              "      <th>...</th>\n",
              "      <td>...</td>\n",
              "      <td>...</td>\n",
              "      <td>...</td>\n",
              "      <td>...</td>\n",
              "      <td>...</td>\n",
              "    </tr>\n",
              "    <tr>\n",
              "      <th>84</th>\n",
              "      <td>1016</td>\n",
              "      <td>mujal~ad</td>\n",
              "      <td>1</td>\n",
              "      <td>mujal~adAt</td>\n",
              "      <td>mujal~alAt</td>\n",
              "    </tr>\n",
              "    <tr>\n",
              "      <th>85</th>\n",
              "      <td>1025</td>\n",
              "      <td>mutarojim</td>\n",
              "      <td>1</td>\n",
              "      <td>mutarojimiyn</td>\n",
              "      <td>mutotajijiyn</td>\n",
              "    </tr>\n",
              "    <tr>\n",
              "      <th>86</th>\n",
              "      <td>1041</td>\n",
              "      <td>mutaqADiy</td>\n",
              "      <td>1</td>\n",
              "      <td>mutaqADiyn</td>\n",
              "      <td>mutaqAyiyn</td>\n",
              "    </tr>\n",
              "    <tr>\n",
              "      <th>87</th>\n",
              "      <td>1043</td>\n",
              "      <td>musotaEoTiy</td>\n",
              "      <td>1</td>\n",
              "      <td>musotaEoTiyn</td>\n",
              "      <td>musotaEoEiyn</td>\n",
              "    </tr>\n",
              "    <tr>\n",
              "      <th>88</th>\n",
              "      <td>1057</td>\n",
              "      <td>musaj~il</td>\n",
              "      <td>1</td>\n",
              "      <td>musaj~ilAt</td>\n",
              "      <td>musaj~iliyn</td>\n",
              "    </tr>\n",
              "  </tbody>\n",
              "</table>\n",
              "<p>89 rows × 5 columns</p>\n",
              "</div>\n",
              "      <button class=\"colab-df-convert\" onclick=\"convertToInteractive('df-c19b8b99-1972-4edc-bd9d-87aa2e214861')\"\n",
              "              title=\"Convert this dataframe to an interactive table.\"\n",
              "              style=\"display:none;\">\n",
              "        \n",
              "  <svg xmlns=\"http://www.w3.org/2000/svg\" height=\"24px\"viewBox=\"0 0 24 24\"\n",
              "       width=\"24px\">\n",
              "    <path d=\"M0 0h24v24H0V0z\" fill=\"none\"/>\n",
              "    <path d=\"M18.56 5.44l.94 2.06.94-2.06 2.06-.94-2.06-.94-.94-2.06-.94 2.06-2.06.94zm-11 1L8.5 8.5l.94-2.06 2.06-.94-2.06-.94L8.5 2.5l-.94 2.06-2.06.94zm10 10l.94 2.06.94-2.06 2.06-.94-2.06-.94-.94-2.06-.94 2.06-2.06.94z\"/><path d=\"M17.41 7.96l-1.37-1.37c-.4-.4-.92-.59-1.43-.59-.52 0-1.04.2-1.43.59L10.3 9.45l-7.72 7.72c-.78.78-.78 2.05 0 2.83L4 21.41c.39.39.9.59 1.41.59.51 0 1.02-.2 1.41-.59l7.78-7.78 2.81-2.81c.8-.78.8-2.07 0-2.86zM5.41 20L4 18.59l7.72-7.72 1.47 1.35L5.41 20z\"/>\n",
              "  </svg>\n",
              "      </button>\n",
              "      \n",
              "  <style>\n",
              "    .colab-df-container {\n",
              "      display:flex;\n",
              "      flex-wrap:wrap;\n",
              "      gap: 12px;\n",
              "    }\n",
              "\n",
              "    .colab-df-convert {\n",
              "      background-color: #E8F0FE;\n",
              "      border: none;\n",
              "      border-radius: 50%;\n",
              "      cursor: pointer;\n",
              "      display: none;\n",
              "      fill: #1967D2;\n",
              "      height: 32px;\n",
              "      padding: 0 0 0 0;\n",
              "      width: 32px;\n",
              "    }\n",
              "\n",
              "    .colab-df-convert:hover {\n",
              "      background-color: #E2EBFA;\n",
              "      box-shadow: 0px 1px 2px rgba(60, 64, 67, 0.3), 0px 1px 3px 1px rgba(60, 64, 67, 0.15);\n",
              "      fill: #174EA6;\n",
              "    }\n",
              "\n",
              "    [theme=dark] .colab-df-convert {\n",
              "      background-color: #3B4455;\n",
              "      fill: #D2E3FC;\n",
              "    }\n",
              "\n",
              "    [theme=dark] .colab-df-convert:hover {\n",
              "      background-color: #434B5C;\n",
              "      box-shadow: 0px 1px 3px 1px rgba(0, 0, 0, 0.15);\n",
              "      filter: drop-shadow(0px 1px 2px rgba(0, 0, 0, 0.3));\n",
              "      fill: #FFFFFF;\n",
              "    }\n",
              "  </style>\n",
              "\n",
              "      <script>\n",
              "        const buttonEl =\n",
              "          document.querySelector('#df-c19b8b99-1972-4edc-bd9d-87aa2e214861 button.colab-df-convert');\n",
              "        buttonEl.style.display =\n",
              "          google.colab.kernel.accessAllowed ? 'block' : 'none';\n",
              "\n",
              "        async function convertToInteractive(key) {\n",
              "          const element = document.querySelector('#df-c19b8b99-1972-4edc-bd9d-87aa2e214861');\n",
              "          const dataTable =\n",
              "            await google.colab.kernel.invokeFunction('convertToInteractive',\n",
              "                                                     [key], {});\n",
              "          if (!dataTable) return;\n",
              "\n",
              "          const docLinkHtml = 'Like what you see? Visit the ' +\n",
              "            '<a target=\"_blank\" href=https://colab.research.google.com/notebooks/data_table.ipynb>data table notebook</a>'\n",
              "            + ' to learn more about interactive tables.';\n",
              "          element.innerHTML = '';\n",
              "          dataTable['output_type'] = 'display_data';\n",
              "          await google.colab.output.renderOutput(dataTable, element);\n",
              "          const docLink = document.createElement('div');\n",
              "          docLink.innerHTML = docLinkHtml;\n",
              "          element.appendChild(docLink);\n",
              "        }\n",
              "      </script>\n",
              "    </div>\n",
              "  </div>\n",
              "  "
            ]
          },
          "metadata": {},
          "execution_count": 111
        }
      ],
      "source": [
        "dev_errorAnalysis = reportErrorAnalysis(devData[0], devData[5] , dev_pred_OH, y_dev_inflection_OH, mixModel3_path + \"/dev_errorAnalysis_with_bs.csv\")\n",
        "dev_errorAnalysis"
      ]
    },
    {
      "cell_type": "code",
      "execution_count": null,
      "metadata": {
        "id": "ds1AobJrIKdF"
      },
      "outputs": [],
      "source": [
        "'''bstuple = [dev_errorAnalysis['b/s'], dev_errorAnalysis['b/s predict']]\n",
        "c = 0\n",
        "n = len(bstuple[0])\n",
        "for i in range(n):\n",
        "  if not bstuple[0][i] == bstuple[1][i]: c+=1\n",
        "\n",
        "c/n'''"
      ]
    },
    {
      "cell_type": "code",
      "execution_count": 113,
      "metadata": {
        "colab": {
          "base_uri": "https://localhost:8080/"
        },
        "id": "WY7eNKIsIKdH",
        "outputId": "131339f9-72d7-4d27-c8d7-5233a13901e3"
      },
      "outputs": [
        {
          "output_type": "stream",
          "name": "stdout",
          "text": [
            "(Broken error %, Sound error %):  (53.93258426966292, 46.06741573033708)\n"
          ]
        }
      ],
      "source": [
        "print('(Broken error %, Sound error %): ', reportPercentageOfBrokenSoundErrors(dev_errorAnalysis))"
      ]
    },
    {
      "cell_type": "code",
      "execution_count": 114,
      "metadata": {
        "colab": {
          "base_uri": "https://localhost:8080/"
        },
        "id": "nZuJTpWZIKdI",
        "outputId": "605871d5-b05e-4d83-e48f-3abe1006b53a"
      },
      "outputs": [
        {
          "output_type": "execute_result",
          "data": {
            "text/plain": [
              "(59, 0.9443396226415094)"
            ]
          },
          "metadata": {},
          "execution_count": 114
        }
      ],
      "source": [
        "checkAccuracy_anyAcceptableInflectionInDataset(devData[0], dev_pred_OH, dic_lemmaInflection)"
      ]
    },
    {
      "cell_type": "code",
      "execution_count": 115,
      "metadata": {
        "colab": {
          "base_uri": "https://localhost:8080/"
        },
        "id": "NBrFJ8-lIKdJ",
        "outputId": "c7634f1b-5d39-4c16-c8c8-78d8ad9e8027"
      },
      "outputs": [
        {
          "output_type": "stream",
          "name": "stdout",
          "text": [
            "Percentage of Unseen Errors with respect to Total Errors, Percentage of Unseen Errors with respect to Total Unseen Samples\n",
            "(100.0, 76.72413793103449)\n"
          ]
        }
      ],
      "source": [
        "# Report Percentage of Unseen Errors in Dev set\n",
        "errorIndices_dev = dev_errorAnalysis['index'].tolist()\n",
        "unseenIndices_dev = unseenLemInfIndices_dev_df['index'].tolist()\n",
        "\n",
        "print('Percentage of Unseen Errors with respect to Total Errors, Percentage of Unseen Errors with respect to Total Unseen Samples')\n",
        "print(reportPercentageOfUnseenErrors(errorIndices_dev, unseenIndices_dev))"
      ]
    },
    {
      "cell_type": "markdown",
      "metadata": {
        "id": "nfNHJWE3r9mn"
      },
      "source": [
        "#### **New Data**"
      ]
    },
    {
      "cell_type": "code",
      "execution_count": 116,
      "metadata": {
        "colab": {
          "base_uri": "https://localhost:8080/"
        },
        "id": "mVx8DGSor9mo",
        "outputId": "b17ec9ed-befd-4843-fdef-c0c90c651513"
      },
      "outputs": [
        {
          "output_type": "stream",
          "name": "stdout",
          "text": [
            "11/11 [==============================] - 0s 10ms/step\n"
          ]
        },
        {
          "output_type": "execute_result",
          "data": {
            "text/plain": [
              "(13, 0.9620991253644315)"
            ]
          },
          "metadata": {},
          "execution_count": 116
        }
      ],
      "source": [
        "new_dev_pred = mix_model.predict([X_dev_lemma_new_OH, X_dev_genRat_new])\n",
        "new_dev_pred_OH = oneHot3D(new_dev_pred)\n",
        "new_dev_error_num, new_dev_acc_num = checkAccuracy(new_dev_pred_OH, y_dev_inflection_new_OH)\n",
        "new_dev_error_num, new_dev_acc_num"
      ]
    },
    {
      "cell_type": "code",
      "execution_count": 117,
      "metadata": {
        "colab": {
          "base_uri": "https://localhost:8080/",
          "height": 457
        },
        "id": "LWB5791ur9mo",
        "outputId": "2307dbc0-770c-4d18-ed04-47a80e9155b9"
      },
      "outputs": [
        {
          "output_type": "execute_result",
          "data": {
            "text/plain": [
              "    index       lemma  b/s     inflection         predict\n",
              "0      39  >uwrubi~y~  NAN  >uwruwbi~y~At  >uwruwb~iy~iyn\n",
              "1      67  klAsiykiy~  NAN  klAsiykiy~iyn    klAsiykiy~At\n",
              "2     101     mu$Arik  NAN     mu$Arikiyn       mu$ArikAt\n",
              "3     108    muda~Eiy  NAN      muda~Eiyn       mud~aEiyn\n",
              "4     114       nafos  NAN         nufuws          nafuws\n",
              "5     166    tagayu~r  NAN     tagayu~rAt      tagay~~rAt\n",
              "6     185    muSali~y  NAN      muSali~yn       muSal~iyn\n",
              "7     191    muta~jih  NAN    muta~jihiyn     mut~ajihiyn\n",
              "8     237    sayi~dap  NAN       sayi~dAt          sAyayd\n",
              "9     248      fan~An  NAN      fan~Aniyn        fan~AnAt\n",
              "10    295      naZiyr  NAN        nuZarA'         naZayAr\n",
              "11    300    muqara~b  NAN    muqara~biyn      muqara~bAy\n",
              "12    326      jana~p  NAN         jan~At           jinAn"
            ],
            "text/html": [
              "\n",
              "  <div id=\"df-7ce8fd6e-98e9-4554-bf29-354d40a983f4\">\n",
              "    <div class=\"colab-df-container\">\n",
              "      <div>\n",
              "<style scoped>\n",
              "    .dataframe tbody tr th:only-of-type {\n",
              "        vertical-align: middle;\n",
              "    }\n",
              "\n",
              "    .dataframe tbody tr th {\n",
              "        vertical-align: top;\n",
              "    }\n",
              "\n",
              "    .dataframe thead th {\n",
              "        text-align: right;\n",
              "    }\n",
              "</style>\n",
              "<table border=\"1\" class=\"dataframe\">\n",
              "  <thead>\n",
              "    <tr style=\"text-align: right;\">\n",
              "      <th></th>\n",
              "      <th>index</th>\n",
              "      <th>lemma</th>\n",
              "      <th>b/s</th>\n",
              "      <th>inflection</th>\n",
              "      <th>predict</th>\n",
              "    </tr>\n",
              "  </thead>\n",
              "  <tbody>\n",
              "    <tr>\n",
              "      <th>0</th>\n",
              "      <td>39</td>\n",
              "      <td>&gt;uwrubi~y~</td>\n",
              "      <td>NAN</td>\n",
              "      <td>&gt;uwruwbi~y~At</td>\n",
              "      <td>&gt;uwruwb~iy~iyn</td>\n",
              "    </tr>\n",
              "    <tr>\n",
              "      <th>1</th>\n",
              "      <td>67</td>\n",
              "      <td>klAsiykiy~</td>\n",
              "      <td>NAN</td>\n",
              "      <td>klAsiykiy~iyn</td>\n",
              "      <td>klAsiykiy~At</td>\n",
              "    </tr>\n",
              "    <tr>\n",
              "      <th>2</th>\n",
              "      <td>101</td>\n",
              "      <td>mu$Arik</td>\n",
              "      <td>NAN</td>\n",
              "      <td>mu$Arikiyn</td>\n",
              "      <td>mu$ArikAt</td>\n",
              "    </tr>\n",
              "    <tr>\n",
              "      <th>3</th>\n",
              "      <td>108</td>\n",
              "      <td>muda~Eiy</td>\n",
              "      <td>NAN</td>\n",
              "      <td>muda~Eiyn</td>\n",
              "      <td>mud~aEiyn</td>\n",
              "    </tr>\n",
              "    <tr>\n",
              "      <th>4</th>\n",
              "      <td>114</td>\n",
              "      <td>nafos</td>\n",
              "      <td>NAN</td>\n",
              "      <td>nufuws</td>\n",
              "      <td>nafuws</td>\n",
              "    </tr>\n",
              "    <tr>\n",
              "      <th>5</th>\n",
              "      <td>166</td>\n",
              "      <td>tagayu~r</td>\n",
              "      <td>NAN</td>\n",
              "      <td>tagayu~rAt</td>\n",
              "      <td>tagay~~rAt</td>\n",
              "    </tr>\n",
              "    <tr>\n",
              "      <th>6</th>\n",
              "      <td>185</td>\n",
              "      <td>muSali~y</td>\n",
              "      <td>NAN</td>\n",
              "      <td>muSali~yn</td>\n",
              "      <td>muSal~iyn</td>\n",
              "    </tr>\n",
              "    <tr>\n",
              "      <th>7</th>\n",
              "      <td>191</td>\n",
              "      <td>muta~jih</td>\n",
              "      <td>NAN</td>\n",
              "      <td>muta~jihiyn</td>\n",
              "      <td>mut~ajihiyn</td>\n",
              "    </tr>\n",
              "    <tr>\n",
              "      <th>8</th>\n",
              "      <td>237</td>\n",
              "      <td>sayi~dap</td>\n",
              "      <td>NAN</td>\n",
              "      <td>sayi~dAt</td>\n",
              "      <td>sAyayd</td>\n",
              "    </tr>\n",
              "    <tr>\n",
              "      <th>9</th>\n",
              "      <td>248</td>\n",
              "      <td>fan~An</td>\n",
              "      <td>NAN</td>\n",
              "      <td>fan~Aniyn</td>\n",
              "      <td>fan~AnAt</td>\n",
              "    </tr>\n",
              "    <tr>\n",
              "      <th>10</th>\n",
              "      <td>295</td>\n",
              "      <td>naZiyr</td>\n",
              "      <td>NAN</td>\n",
              "      <td>nuZarA'</td>\n",
              "      <td>naZayAr</td>\n",
              "    </tr>\n",
              "    <tr>\n",
              "      <th>11</th>\n",
              "      <td>300</td>\n",
              "      <td>muqara~b</td>\n",
              "      <td>NAN</td>\n",
              "      <td>muqara~biyn</td>\n",
              "      <td>muqara~bAy</td>\n",
              "    </tr>\n",
              "    <tr>\n",
              "      <th>12</th>\n",
              "      <td>326</td>\n",
              "      <td>jana~p</td>\n",
              "      <td>NAN</td>\n",
              "      <td>jan~At</td>\n",
              "      <td>jinAn</td>\n",
              "    </tr>\n",
              "  </tbody>\n",
              "</table>\n",
              "</div>\n",
              "      <button class=\"colab-df-convert\" onclick=\"convertToInteractive('df-7ce8fd6e-98e9-4554-bf29-354d40a983f4')\"\n",
              "              title=\"Convert this dataframe to an interactive table.\"\n",
              "              style=\"display:none;\">\n",
              "        \n",
              "  <svg xmlns=\"http://www.w3.org/2000/svg\" height=\"24px\"viewBox=\"0 0 24 24\"\n",
              "       width=\"24px\">\n",
              "    <path d=\"M0 0h24v24H0V0z\" fill=\"none\"/>\n",
              "    <path d=\"M18.56 5.44l.94 2.06.94-2.06 2.06-.94-2.06-.94-.94-2.06-.94 2.06-2.06.94zm-11 1L8.5 8.5l.94-2.06 2.06-.94-2.06-.94L8.5 2.5l-.94 2.06-2.06.94zm10 10l.94 2.06.94-2.06 2.06-.94-2.06-.94-.94-2.06-.94 2.06-2.06.94z\"/><path d=\"M17.41 7.96l-1.37-1.37c-.4-.4-.92-.59-1.43-.59-.52 0-1.04.2-1.43.59L10.3 9.45l-7.72 7.72c-.78.78-.78 2.05 0 2.83L4 21.41c.39.39.9.59 1.41.59.51 0 1.02-.2 1.41-.59l7.78-7.78 2.81-2.81c.8-.78.8-2.07 0-2.86zM5.41 20L4 18.59l7.72-7.72 1.47 1.35L5.41 20z\"/>\n",
              "  </svg>\n",
              "      </button>\n",
              "      \n",
              "  <style>\n",
              "    .colab-df-container {\n",
              "      display:flex;\n",
              "      flex-wrap:wrap;\n",
              "      gap: 12px;\n",
              "    }\n",
              "\n",
              "    .colab-df-convert {\n",
              "      background-color: #E8F0FE;\n",
              "      border: none;\n",
              "      border-radius: 50%;\n",
              "      cursor: pointer;\n",
              "      display: none;\n",
              "      fill: #1967D2;\n",
              "      height: 32px;\n",
              "      padding: 0 0 0 0;\n",
              "      width: 32px;\n",
              "    }\n",
              "\n",
              "    .colab-df-convert:hover {\n",
              "      background-color: #E2EBFA;\n",
              "      box-shadow: 0px 1px 2px rgba(60, 64, 67, 0.3), 0px 1px 3px 1px rgba(60, 64, 67, 0.15);\n",
              "      fill: #174EA6;\n",
              "    }\n",
              "\n",
              "    [theme=dark] .colab-df-convert {\n",
              "      background-color: #3B4455;\n",
              "      fill: #D2E3FC;\n",
              "    }\n",
              "\n",
              "    [theme=dark] .colab-df-convert:hover {\n",
              "      background-color: #434B5C;\n",
              "      box-shadow: 0px 1px 3px 1px rgba(0, 0, 0, 0.15);\n",
              "      filter: drop-shadow(0px 1px 2px rgba(0, 0, 0, 0.3));\n",
              "      fill: #FFFFFF;\n",
              "    }\n",
              "  </style>\n",
              "\n",
              "      <script>\n",
              "        const buttonEl =\n",
              "          document.querySelector('#df-7ce8fd6e-98e9-4554-bf29-354d40a983f4 button.colab-df-convert');\n",
              "        buttonEl.style.display =\n",
              "          google.colab.kernel.accessAllowed ? 'block' : 'none';\n",
              "\n",
              "        async function convertToInteractive(key) {\n",
              "          const element = document.querySelector('#df-7ce8fd6e-98e9-4554-bf29-354d40a983f4');\n",
              "          const dataTable =\n",
              "            await google.colab.kernel.invokeFunction('convertToInteractive',\n",
              "                                                     [key], {});\n",
              "          if (!dataTable) return;\n",
              "\n",
              "          const docLinkHtml = 'Like what you see? Visit the ' +\n",
              "            '<a target=\"_blank\" href=https://colab.research.google.com/notebooks/data_table.ipynb>data table notebook</a>'\n",
              "            + ' to learn more about interactive tables.';\n",
              "          element.innerHTML = '';\n",
              "          dataTable['output_type'] = 'display_data';\n",
              "          await google.colab.output.renderOutput(dataTable, element);\n",
              "          const docLink = document.createElement('div');\n",
              "          docLink.innerHTML = docLinkHtml;\n",
              "          element.appendChild(docLink);\n",
              "        }\n",
              "      </script>\n",
              "    </div>\n",
              "  </div>\n",
              "  "
            ]
          },
          "metadata": {},
          "execution_count": 117
        }
      ],
      "source": [
        "new_dev_errorAnalysis = reportErrorAnalysis(devData_new[0], None, new_dev_pred_OH, y_dev_inflection_new_OH, mixModel3_path + \"/dev_errorAnalysis_new.csv\")\n",
        "new_dev_errorAnalysis"
      ]
    },
    {
      "cell_type": "code",
      "execution_count": 118,
      "metadata": {
        "colab": {
          "base_uri": "https://localhost:8080/"
        },
        "id": "DkiKzkFZr9mo",
        "outputId": "e1cf57b8-b0e7-48c7-e124-4cf773de9073"
      },
      "outputs": [
        {
          "output_type": "execute_result",
          "data": {
            "text/plain": [
              "(10, 0.9708454810495627)"
            ]
          },
          "metadata": {},
          "execution_count": 118
        }
      ],
      "source": [
        "checkAccuracy_anyAcceptableInflectionInDataset(devData_new[0], new_dev_pred_OH, dic_lemmaInflection)"
      ]
    },
    {
      "cell_type": "code",
      "execution_count": 119,
      "metadata": {
        "colab": {
          "base_uri": "https://localhost:8080/"
        },
        "id": "bhCAJpJvr9mo",
        "outputId": "80574320-6a48-4304-80cf-781048e9bfdf"
      },
      "outputs": [
        {
          "output_type": "stream",
          "name": "stdout",
          "text": [
            "Percentage of Unseen Errors with respect to Total Errors, Percentage of Unseen Errors with respect to Total Unseen Samples\n",
            "(100.0, 3.7900874635568513)\n"
          ]
        }
      ],
      "source": [
        "# Report Percentage of Unseen Errors in Test set\n",
        "errorIndices_test = new_dev_errorAnalysis['index'].tolist()\n",
        "unseenIndices_test = unseenLemInfIndices_dev_new_df['index'].tolist()\n",
        "\n",
        "print('Percentage of Unseen Errors with respect to Total Errors, Percentage of Unseen Errors with respect to Total Unseen Samples')\n",
        "print(reportPercentageOfUnseenErrors(errorIndices_test, unseenIndices_test))"
      ]
    },
    {
      "cell_type": "markdown",
      "metadata": {
        "id": "0ThCOc4GIKdM"
      },
      "source": [
        "### **Test analyze**"
      ]
    },
    {
      "cell_type": "markdown",
      "metadata": {
        "id": "4l3ZqqFHtdTP"
      },
      "source": [
        "#### **Old Data**"
      ]
    },
    {
      "cell_type": "code",
      "execution_count": 120,
      "metadata": {
        "id": "tv9cD_n-IKdO",
        "colab": {
          "base_uri": "https://localhost:8080/"
        },
        "outputId": "89f3f224-c0a4-47a7-b8bc-e06f70aef7db"
      },
      "outputs": [
        {
          "output_type": "stream",
          "name": "stdout",
          "text": [
            "33/33 [==============================] - 0s 9ms/step\n"
          ]
        },
        {
          "output_type": "execute_result",
          "data": {
            "text/plain": [
              "(74, 0.9280155642023347)"
            ]
          },
          "metadata": {},
          "execution_count": 120
        }
      ],
      "source": [
        "test_pred = mix_model.predict([X_test_lemma_OH, X_test_genRat])\n",
        "test_pred_OH = oneHot3D(test_pred)\n",
        "test_error_num, test_acc_num = checkAccuracy(test_pred_OH, y_test_inflection_OH)\n",
        "test_error_num, test_acc_num"
      ]
    },
    {
      "cell_type": "code",
      "execution_count": 121,
      "metadata": {
        "id": "dcBc4Us4IKdP",
        "colab": {
          "base_uri": "https://localhost:8080/",
          "height": 423
        },
        "outputId": "767dc912-a26b-4206-eedd-4f6ed24e889b"
      },
      "outputs": [
        {
          "output_type": "execute_result",
          "data": {
            "text/plain": [
              "    index      lemma  b/s   inflection     predict\n",
              "0      66  mu$okilap    0      ma$Akil   mu$okilAt\n",
              "1      94      na$AT    0    >ano$iTap     na$ATAt\n",
              "2     178   minaS~ap    1     minaS~At    munaS~At\n",
              "3     234   taqoniy~    1  taqoniy~iyn  taqoniy~iy\n",
              "4     269    muDorib    1   muDoribiyn  muDAribiyn\n",
              "..    ...        ...  ...          ...         ...\n",
              "69    989      maval    0      >amovAl      >amAll\n",
              "70    997     may~it    0      mawotaY     >amowAt\n",
              "71   1014    manobat    0      manAbit     manobit\n",
              "72   1018      maqAm    1      maqAmAt    maqAqima\n",
              "73   1019     maqar~    1     maqar~At      maqAr~\n",
              "\n",
              "[74 rows x 5 columns]"
            ],
            "text/html": [
              "\n",
              "  <div id=\"df-d07ff2c0-c14f-4cf1-b57a-286d98ab372d\">\n",
              "    <div class=\"colab-df-container\">\n",
              "      <div>\n",
              "<style scoped>\n",
              "    .dataframe tbody tr th:only-of-type {\n",
              "        vertical-align: middle;\n",
              "    }\n",
              "\n",
              "    .dataframe tbody tr th {\n",
              "        vertical-align: top;\n",
              "    }\n",
              "\n",
              "    .dataframe thead th {\n",
              "        text-align: right;\n",
              "    }\n",
              "</style>\n",
              "<table border=\"1\" class=\"dataframe\">\n",
              "  <thead>\n",
              "    <tr style=\"text-align: right;\">\n",
              "      <th></th>\n",
              "      <th>index</th>\n",
              "      <th>lemma</th>\n",
              "      <th>b/s</th>\n",
              "      <th>inflection</th>\n",
              "      <th>predict</th>\n",
              "    </tr>\n",
              "  </thead>\n",
              "  <tbody>\n",
              "    <tr>\n",
              "      <th>0</th>\n",
              "      <td>66</td>\n",
              "      <td>mu$okilap</td>\n",
              "      <td>0</td>\n",
              "      <td>ma$Akil</td>\n",
              "      <td>mu$okilAt</td>\n",
              "    </tr>\n",
              "    <tr>\n",
              "      <th>1</th>\n",
              "      <td>94</td>\n",
              "      <td>na$AT</td>\n",
              "      <td>0</td>\n",
              "      <td>&gt;ano$iTap</td>\n",
              "      <td>na$ATAt</td>\n",
              "    </tr>\n",
              "    <tr>\n",
              "      <th>2</th>\n",
              "      <td>178</td>\n",
              "      <td>minaS~ap</td>\n",
              "      <td>1</td>\n",
              "      <td>minaS~At</td>\n",
              "      <td>munaS~At</td>\n",
              "    </tr>\n",
              "    <tr>\n",
              "      <th>3</th>\n",
              "      <td>234</td>\n",
              "      <td>taqoniy~</td>\n",
              "      <td>1</td>\n",
              "      <td>taqoniy~iyn</td>\n",
              "      <td>taqoniy~iy</td>\n",
              "    </tr>\n",
              "    <tr>\n",
              "      <th>4</th>\n",
              "      <td>269</td>\n",
              "      <td>muDorib</td>\n",
              "      <td>1</td>\n",
              "      <td>muDoribiyn</td>\n",
              "      <td>muDAribiyn</td>\n",
              "    </tr>\n",
              "    <tr>\n",
              "      <th>...</th>\n",
              "      <td>...</td>\n",
              "      <td>...</td>\n",
              "      <td>...</td>\n",
              "      <td>...</td>\n",
              "      <td>...</td>\n",
              "    </tr>\n",
              "    <tr>\n",
              "      <th>69</th>\n",
              "      <td>989</td>\n",
              "      <td>maval</td>\n",
              "      <td>0</td>\n",
              "      <td>&gt;amovAl</td>\n",
              "      <td>&gt;amAll</td>\n",
              "    </tr>\n",
              "    <tr>\n",
              "      <th>70</th>\n",
              "      <td>997</td>\n",
              "      <td>may~it</td>\n",
              "      <td>0</td>\n",
              "      <td>mawotaY</td>\n",
              "      <td>&gt;amowAt</td>\n",
              "    </tr>\n",
              "    <tr>\n",
              "      <th>71</th>\n",
              "      <td>1014</td>\n",
              "      <td>manobat</td>\n",
              "      <td>0</td>\n",
              "      <td>manAbit</td>\n",
              "      <td>manobit</td>\n",
              "    </tr>\n",
              "    <tr>\n",
              "      <th>72</th>\n",
              "      <td>1018</td>\n",
              "      <td>maqAm</td>\n",
              "      <td>1</td>\n",
              "      <td>maqAmAt</td>\n",
              "      <td>maqAqima</td>\n",
              "    </tr>\n",
              "    <tr>\n",
              "      <th>73</th>\n",
              "      <td>1019</td>\n",
              "      <td>maqar~</td>\n",
              "      <td>1</td>\n",
              "      <td>maqar~At</td>\n",
              "      <td>maqAr~</td>\n",
              "    </tr>\n",
              "  </tbody>\n",
              "</table>\n",
              "<p>74 rows × 5 columns</p>\n",
              "</div>\n",
              "      <button class=\"colab-df-convert\" onclick=\"convertToInteractive('df-d07ff2c0-c14f-4cf1-b57a-286d98ab372d')\"\n",
              "              title=\"Convert this dataframe to an interactive table.\"\n",
              "              style=\"display:none;\">\n",
              "        \n",
              "  <svg xmlns=\"http://www.w3.org/2000/svg\" height=\"24px\"viewBox=\"0 0 24 24\"\n",
              "       width=\"24px\">\n",
              "    <path d=\"M0 0h24v24H0V0z\" fill=\"none\"/>\n",
              "    <path d=\"M18.56 5.44l.94 2.06.94-2.06 2.06-.94-2.06-.94-.94-2.06-.94 2.06-2.06.94zm-11 1L8.5 8.5l.94-2.06 2.06-.94-2.06-.94L8.5 2.5l-.94 2.06-2.06.94zm10 10l.94 2.06.94-2.06 2.06-.94-2.06-.94-.94-2.06-.94 2.06-2.06.94z\"/><path d=\"M17.41 7.96l-1.37-1.37c-.4-.4-.92-.59-1.43-.59-.52 0-1.04.2-1.43.59L10.3 9.45l-7.72 7.72c-.78.78-.78 2.05 0 2.83L4 21.41c.39.39.9.59 1.41.59.51 0 1.02-.2 1.41-.59l7.78-7.78 2.81-2.81c.8-.78.8-2.07 0-2.86zM5.41 20L4 18.59l7.72-7.72 1.47 1.35L5.41 20z\"/>\n",
              "  </svg>\n",
              "      </button>\n",
              "      \n",
              "  <style>\n",
              "    .colab-df-container {\n",
              "      display:flex;\n",
              "      flex-wrap:wrap;\n",
              "      gap: 12px;\n",
              "    }\n",
              "\n",
              "    .colab-df-convert {\n",
              "      background-color: #E8F0FE;\n",
              "      border: none;\n",
              "      border-radius: 50%;\n",
              "      cursor: pointer;\n",
              "      display: none;\n",
              "      fill: #1967D2;\n",
              "      height: 32px;\n",
              "      padding: 0 0 0 0;\n",
              "      width: 32px;\n",
              "    }\n",
              "\n",
              "    .colab-df-convert:hover {\n",
              "      background-color: #E2EBFA;\n",
              "      box-shadow: 0px 1px 2px rgba(60, 64, 67, 0.3), 0px 1px 3px 1px rgba(60, 64, 67, 0.15);\n",
              "      fill: #174EA6;\n",
              "    }\n",
              "\n",
              "    [theme=dark] .colab-df-convert {\n",
              "      background-color: #3B4455;\n",
              "      fill: #D2E3FC;\n",
              "    }\n",
              "\n",
              "    [theme=dark] .colab-df-convert:hover {\n",
              "      background-color: #434B5C;\n",
              "      box-shadow: 0px 1px 3px 1px rgba(0, 0, 0, 0.15);\n",
              "      filter: drop-shadow(0px 1px 2px rgba(0, 0, 0, 0.3));\n",
              "      fill: #FFFFFF;\n",
              "    }\n",
              "  </style>\n",
              "\n",
              "      <script>\n",
              "        const buttonEl =\n",
              "          document.querySelector('#df-d07ff2c0-c14f-4cf1-b57a-286d98ab372d button.colab-df-convert');\n",
              "        buttonEl.style.display =\n",
              "          google.colab.kernel.accessAllowed ? 'block' : 'none';\n",
              "\n",
              "        async function convertToInteractive(key) {\n",
              "          const element = document.querySelector('#df-d07ff2c0-c14f-4cf1-b57a-286d98ab372d');\n",
              "          const dataTable =\n",
              "            await google.colab.kernel.invokeFunction('convertToInteractive',\n",
              "                                                     [key], {});\n",
              "          if (!dataTable) return;\n",
              "\n",
              "          const docLinkHtml = 'Like what you see? Visit the ' +\n",
              "            '<a target=\"_blank\" href=https://colab.research.google.com/notebooks/data_table.ipynb>data table notebook</a>'\n",
              "            + ' to learn more about interactive tables.';\n",
              "          element.innerHTML = '';\n",
              "          dataTable['output_type'] = 'display_data';\n",
              "          await google.colab.output.renderOutput(dataTable, element);\n",
              "          const docLink = document.createElement('div');\n",
              "          docLink.innerHTML = docLinkHtml;\n",
              "          element.appendChild(docLink);\n",
              "        }\n",
              "      </script>\n",
              "    </div>\n",
              "  </div>\n",
              "  "
            ]
          },
          "metadata": {},
          "execution_count": 121
        }
      ],
      "source": [
        "test_errorAnalysis = reportErrorAnalysis(testData[0], testData[5], test_pred_OH, y_test_inflection_OH, mixModel3_path + \"/test_errorAnalysis_with_bs.csv\")\n",
        "test_errorAnalysis"
      ]
    },
    {
      "cell_type": "code",
      "execution_count": null,
      "metadata": {
        "id": "FkBwllGOIKdQ"
      },
      "outputs": [],
      "source": [
        "'''bstuple = [test_errorAnalysis['b/s'], test_errorAnalysis['b/s predict']]\n",
        "c = 0\n",
        "n = len(bstuple[0])\n",
        "for i in range(n):\n",
        "  if not bstuple[0][i] == bstuple[1][i]: c+=1\n",
        "\n",
        "c/n'''"
      ]
    },
    {
      "cell_type": "code",
      "execution_count": 123,
      "metadata": {
        "id": "l0Blg_-2IKdS",
        "colab": {
          "base_uri": "https://localhost:8080/"
        },
        "outputId": "3600dd75-d871-454c-ebc4-ebebdf21386f"
      },
      "outputs": [
        {
          "output_type": "stream",
          "name": "stdout",
          "text": [
            "(Broken error %, Sound error %):  (54.054054054054056, 45.94594594594595)\n"
          ]
        }
      ],
      "source": [
        "print('(Broken error %, Sound error %): ', reportPercentageOfBrokenSoundErrors(test_errorAnalysis))"
      ]
    },
    {
      "cell_type": "code",
      "execution_count": 124,
      "metadata": {
        "id": "OAuneYQnIKdT",
        "colab": {
          "base_uri": "https://localhost:8080/"
        },
        "outputId": "82c6e7ad-c8f3-4aba-b391-7ddb42556e8f"
      },
      "outputs": [
        {
          "output_type": "execute_result",
          "data": {
            "text/plain": [
              "(53, 0.9484435797665369)"
            ]
          },
          "metadata": {},
          "execution_count": 124
        }
      ],
      "source": [
        "checkAccuracy_anyAcceptableInflectionInDataset(testData[0], test_pred_OH, dic_lemmaInflection)"
      ]
    },
    {
      "cell_type": "code",
      "execution_count": 125,
      "metadata": {
        "id": "jQxDnq2qIKdV",
        "colab": {
          "base_uri": "https://localhost:8080/"
        },
        "outputId": "da5aba49-2fb4-400b-8231-c4461f21300d"
      },
      "outputs": [
        {
          "output_type": "stream",
          "name": "stdout",
          "text": [
            "Percentage of Unseen Errors with respect to Total Errors, Percentage of Unseen Errors with respect to Total Unseen Samples\n",
            "(100.0, 71.15384615384616)\n"
          ]
        }
      ],
      "source": [
        "# Report Percentage of Unseen Errors in Test set\n",
        "errorIndices_test = test_errorAnalysis['index'].tolist()\n",
        "unseenIndices_test = unseenLemInfIndices_test_df['index'].tolist()\n",
        "\n",
        "print('Percentage of Unseen Errors with respect to Total Errors, Percentage of Unseen Errors with respect to Total Unseen Samples')\n",
        "print(reportPercentageOfUnseenErrors(errorIndices_test, unseenIndices_test))"
      ]
    },
    {
      "cell_type": "markdown",
      "metadata": {
        "id": "hORyX5w_9Ff5"
      },
      "source": [
        "#### **New Data**"
      ]
    },
    {
      "cell_type": "code",
      "execution_count": 126,
      "metadata": {
        "id": "KSaXVkF99Ff_",
        "colab": {
          "base_uri": "https://localhost:8080/"
        },
        "outputId": "abad9468-4bd8-4329-fae9-f314928ed2d0"
      },
      "outputs": [
        {
          "output_type": "stream",
          "name": "stdout",
          "text": [
            "19/19 [==============================] - 0s 11ms/step\n"
          ]
        },
        {
          "output_type": "execute_result",
          "data": {
            "text/plain": [
              "(15, 0.975)"
            ]
          },
          "metadata": {},
          "execution_count": 126
        }
      ],
      "source": [
        "new_test_pred = mix_model.predict([X_test_lemma_new_OH, X_test_genRat_new])\n",
        "new_test_pred_OH = oneHot3D(new_test_pred)\n",
        "new_test_error_num, new_test_acc_num = checkAccuracy(new_test_pred_OH, y_test_inflection_new_OH)\n",
        "new_test_error_num, new_test_acc_num"
      ]
    },
    {
      "cell_type": "code",
      "execution_count": 127,
      "metadata": {
        "id": "SxsYV8a79FgH",
        "colab": {
          "base_uri": "https://localhost:8080/",
          "height": 520
        },
        "outputId": "f957662e-23e0-4706-be71-444657c0b2a2"
      },
      "outputs": [
        {
          "output_type": "execute_result",
          "data": {
            "text/plain": [
              "    index           lemma  b/s         inflection            predict\n",
              "0     147          qayi~m  NAN          qayi~miyn            qayAmim\n",
              "1     152       kuli~ya~p  NAN          kuli~y~At          kuliiy~At\n",
              "2     169        taHafu~Z  NAN         taHafu~ZAt         taHaf~~ZAt\n",
              "3     189  <isotrAtiyjiy~  NAN  <isotrAtiyjiy~iyn   <isotrAtiyjiy~At\n",
              "4     236       mujotamiE  NAN       mujotamiEiyn        mujotamiEit\n",
              "5     243           rA}id  NAN             ruw~Ad            rA}idAt\n",
              "6     274       Huri~ya~p  NAN          Huri~y~At          Huriiy~At\n",
              "7     303   finizuwili~y~  NAN  finizowiyli~yi~yn  finizowiil~iy~iyn\n",
              "8     313     >aqali~ya~p  NAN        >aqali~y~At        >aqaliyy~At\n",
              "9     393      mu&asa~sap  NAN         mu&asa~sAt         mu&as~asAt\n",
              "10    415        tajamu~E  NAN         tajamu~EAt         tajamuuEAt\n",
              "11    436        muta~him  NAN        muta~himiyn        mutaahimiyn\n",
              "12    506          Tay~Ar  NAN          Tay~Ariyn          Tay~ArAyn\n",
              "13    538        mabara~p  NAN           mabar~At           mabar~~t\n",
              "14    561        mu&asi~s  NAN         mu&asi~sAt        mu&asiisiyn"
            ],
            "text/html": [
              "\n",
              "  <div id=\"df-6a72ab81-894c-4141-9676-afd25dccd914\">\n",
              "    <div class=\"colab-df-container\">\n",
              "      <div>\n",
              "<style scoped>\n",
              "    .dataframe tbody tr th:only-of-type {\n",
              "        vertical-align: middle;\n",
              "    }\n",
              "\n",
              "    .dataframe tbody tr th {\n",
              "        vertical-align: top;\n",
              "    }\n",
              "\n",
              "    .dataframe thead th {\n",
              "        text-align: right;\n",
              "    }\n",
              "</style>\n",
              "<table border=\"1\" class=\"dataframe\">\n",
              "  <thead>\n",
              "    <tr style=\"text-align: right;\">\n",
              "      <th></th>\n",
              "      <th>index</th>\n",
              "      <th>lemma</th>\n",
              "      <th>b/s</th>\n",
              "      <th>inflection</th>\n",
              "      <th>predict</th>\n",
              "    </tr>\n",
              "  </thead>\n",
              "  <tbody>\n",
              "    <tr>\n",
              "      <th>0</th>\n",
              "      <td>147</td>\n",
              "      <td>qayi~m</td>\n",
              "      <td>NAN</td>\n",
              "      <td>qayi~miyn</td>\n",
              "      <td>qayAmim</td>\n",
              "    </tr>\n",
              "    <tr>\n",
              "      <th>1</th>\n",
              "      <td>152</td>\n",
              "      <td>kuli~ya~p</td>\n",
              "      <td>NAN</td>\n",
              "      <td>kuli~y~At</td>\n",
              "      <td>kuliiy~At</td>\n",
              "    </tr>\n",
              "    <tr>\n",
              "      <th>2</th>\n",
              "      <td>169</td>\n",
              "      <td>taHafu~Z</td>\n",
              "      <td>NAN</td>\n",
              "      <td>taHafu~ZAt</td>\n",
              "      <td>taHaf~~ZAt</td>\n",
              "    </tr>\n",
              "    <tr>\n",
              "      <th>3</th>\n",
              "      <td>189</td>\n",
              "      <td>&lt;isotrAtiyjiy~</td>\n",
              "      <td>NAN</td>\n",
              "      <td>&lt;isotrAtiyjiy~iyn</td>\n",
              "      <td>&lt;isotrAtiyjiy~At</td>\n",
              "    </tr>\n",
              "    <tr>\n",
              "      <th>4</th>\n",
              "      <td>236</td>\n",
              "      <td>mujotamiE</td>\n",
              "      <td>NAN</td>\n",
              "      <td>mujotamiEiyn</td>\n",
              "      <td>mujotamiEit</td>\n",
              "    </tr>\n",
              "    <tr>\n",
              "      <th>5</th>\n",
              "      <td>243</td>\n",
              "      <td>rA}id</td>\n",
              "      <td>NAN</td>\n",
              "      <td>ruw~Ad</td>\n",
              "      <td>rA}idAt</td>\n",
              "    </tr>\n",
              "    <tr>\n",
              "      <th>6</th>\n",
              "      <td>274</td>\n",
              "      <td>Huri~ya~p</td>\n",
              "      <td>NAN</td>\n",
              "      <td>Huri~y~At</td>\n",
              "      <td>Huriiy~At</td>\n",
              "    </tr>\n",
              "    <tr>\n",
              "      <th>7</th>\n",
              "      <td>303</td>\n",
              "      <td>finizuwili~y~</td>\n",
              "      <td>NAN</td>\n",
              "      <td>finizowiyli~yi~yn</td>\n",
              "      <td>finizowiil~iy~iyn</td>\n",
              "    </tr>\n",
              "    <tr>\n",
              "      <th>8</th>\n",
              "      <td>313</td>\n",
              "      <td>&gt;aqali~ya~p</td>\n",
              "      <td>NAN</td>\n",
              "      <td>&gt;aqali~y~At</td>\n",
              "      <td>&gt;aqaliyy~At</td>\n",
              "    </tr>\n",
              "    <tr>\n",
              "      <th>9</th>\n",
              "      <td>393</td>\n",
              "      <td>mu&amp;asa~sap</td>\n",
              "      <td>NAN</td>\n",
              "      <td>mu&amp;asa~sAt</td>\n",
              "      <td>mu&amp;as~asAt</td>\n",
              "    </tr>\n",
              "    <tr>\n",
              "      <th>10</th>\n",
              "      <td>415</td>\n",
              "      <td>tajamu~E</td>\n",
              "      <td>NAN</td>\n",
              "      <td>tajamu~EAt</td>\n",
              "      <td>tajamuuEAt</td>\n",
              "    </tr>\n",
              "    <tr>\n",
              "      <th>11</th>\n",
              "      <td>436</td>\n",
              "      <td>muta~him</td>\n",
              "      <td>NAN</td>\n",
              "      <td>muta~himiyn</td>\n",
              "      <td>mutaahimiyn</td>\n",
              "    </tr>\n",
              "    <tr>\n",
              "      <th>12</th>\n",
              "      <td>506</td>\n",
              "      <td>Tay~Ar</td>\n",
              "      <td>NAN</td>\n",
              "      <td>Tay~Ariyn</td>\n",
              "      <td>Tay~ArAyn</td>\n",
              "    </tr>\n",
              "    <tr>\n",
              "      <th>13</th>\n",
              "      <td>538</td>\n",
              "      <td>mabara~p</td>\n",
              "      <td>NAN</td>\n",
              "      <td>mabar~At</td>\n",
              "      <td>mabar~~t</td>\n",
              "    </tr>\n",
              "    <tr>\n",
              "      <th>14</th>\n",
              "      <td>561</td>\n",
              "      <td>mu&amp;asi~s</td>\n",
              "      <td>NAN</td>\n",
              "      <td>mu&amp;asi~sAt</td>\n",
              "      <td>mu&amp;asiisiyn</td>\n",
              "    </tr>\n",
              "  </tbody>\n",
              "</table>\n",
              "</div>\n",
              "      <button class=\"colab-df-convert\" onclick=\"convertToInteractive('df-6a72ab81-894c-4141-9676-afd25dccd914')\"\n",
              "              title=\"Convert this dataframe to an interactive table.\"\n",
              "              style=\"display:none;\">\n",
              "        \n",
              "  <svg xmlns=\"http://www.w3.org/2000/svg\" height=\"24px\"viewBox=\"0 0 24 24\"\n",
              "       width=\"24px\">\n",
              "    <path d=\"M0 0h24v24H0V0z\" fill=\"none\"/>\n",
              "    <path d=\"M18.56 5.44l.94 2.06.94-2.06 2.06-.94-2.06-.94-.94-2.06-.94 2.06-2.06.94zm-11 1L8.5 8.5l.94-2.06 2.06-.94-2.06-.94L8.5 2.5l-.94 2.06-2.06.94zm10 10l.94 2.06.94-2.06 2.06-.94-2.06-.94-.94-2.06-.94 2.06-2.06.94z\"/><path d=\"M17.41 7.96l-1.37-1.37c-.4-.4-.92-.59-1.43-.59-.52 0-1.04.2-1.43.59L10.3 9.45l-7.72 7.72c-.78.78-.78 2.05 0 2.83L4 21.41c.39.39.9.59 1.41.59.51 0 1.02-.2 1.41-.59l7.78-7.78 2.81-2.81c.8-.78.8-2.07 0-2.86zM5.41 20L4 18.59l7.72-7.72 1.47 1.35L5.41 20z\"/>\n",
              "  </svg>\n",
              "      </button>\n",
              "      \n",
              "  <style>\n",
              "    .colab-df-container {\n",
              "      display:flex;\n",
              "      flex-wrap:wrap;\n",
              "      gap: 12px;\n",
              "    }\n",
              "\n",
              "    .colab-df-convert {\n",
              "      background-color: #E8F0FE;\n",
              "      border: none;\n",
              "      border-radius: 50%;\n",
              "      cursor: pointer;\n",
              "      display: none;\n",
              "      fill: #1967D2;\n",
              "      height: 32px;\n",
              "      padding: 0 0 0 0;\n",
              "      width: 32px;\n",
              "    }\n",
              "\n",
              "    .colab-df-convert:hover {\n",
              "      background-color: #E2EBFA;\n",
              "      box-shadow: 0px 1px 2px rgba(60, 64, 67, 0.3), 0px 1px 3px 1px rgba(60, 64, 67, 0.15);\n",
              "      fill: #174EA6;\n",
              "    }\n",
              "\n",
              "    [theme=dark] .colab-df-convert {\n",
              "      background-color: #3B4455;\n",
              "      fill: #D2E3FC;\n",
              "    }\n",
              "\n",
              "    [theme=dark] .colab-df-convert:hover {\n",
              "      background-color: #434B5C;\n",
              "      box-shadow: 0px 1px 3px 1px rgba(0, 0, 0, 0.15);\n",
              "      filter: drop-shadow(0px 1px 2px rgba(0, 0, 0, 0.3));\n",
              "      fill: #FFFFFF;\n",
              "    }\n",
              "  </style>\n",
              "\n",
              "      <script>\n",
              "        const buttonEl =\n",
              "          document.querySelector('#df-6a72ab81-894c-4141-9676-afd25dccd914 button.colab-df-convert');\n",
              "        buttonEl.style.display =\n",
              "          google.colab.kernel.accessAllowed ? 'block' : 'none';\n",
              "\n",
              "        async function convertToInteractive(key) {\n",
              "          const element = document.querySelector('#df-6a72ab81-894c-4141-9676-afd25dccd914');\n",
              "          const dataTable =\n",
              "            await google.colab.kernel.invokeFunction('convertToInteractive',\n",
              "                                                     [key], {});\n",
              "          if (!dataTable) return;\n",
              "\n",
              "          const docLinkHtml = 'Like what you see? Visit the ' +\n",
              "            '<a target=\"_blank\" href=https://colab.research.google.com/notebooks/data_table.ipynb>data table notebook</a>'\n",
              "            + ' to learn more about interactive tables.';\n",
              "          element.innerHTML = '';\n",
              "          dataTable['output_type'] = 'display_data';\n",
              "          await google.colab.output.renderOutput(dataTable, element);\n",
              "          const docLink = document.createElement('div');\n",
              "          docLink.innerHTML = docLinkHtml;\n",
              "          element.appendChild(docLink);\n",
              "        }\n",
              "      </script>\n",
              "    </div>\n",
              "  </div>\n",
              "  "
            ]
          },
          "metadata": {},
          "execution_count": 127
        }
      ],
      "source": [
        "new_test_errorAnalysis = reportErrorAnalysis(testData_new[0], None, new_test_pred_OH, y_test_inflection_new_OH, mixModel3_path + \"/new_test_errorAnalysis.csv\")\n",
        "new_test_errorAnalysis"
      ]
    },
    {
      "cell_type": "code",
      "execution_count": 128,
      "metadata": {
        "id": "wzORcbb9fFti",
        "colab": {
          "base_uri": "https://localhost:8080/"
        },
        "outputId": "de5e6fa8-295e-410e-c02b-4391fa3441c5"
      },
      "outputs": [
        {
          "output_type": "stream",
          "name": "stdout",
          "text": [
            "Percentage of Unseen Errors with respect to Total Errors, Percentage of Unseen Errors with respect to Total Unseen Samples\n",
            "(100.0, 2.5)\n"
          ]
        }
      ],
      "source": [
        "# Report Percentage of Unseen Errors in Test set\n",
        "errorIndices_test = new_test_errorAnalysis['index'].tolist()\n",
        "unseenIndices_test = unseenLemInfIndices_test_new_df['index'].tolist()\n",
        "\n",
        "print('Percentage of Unseen Errors with respect to Total Errors, Percentage of Unseen Errors with respect to Total Unseen Samples')\n",
        "print(reportPercentageOfUnseenErrors(errorIndices_test, unseenIndices_test))"
      ]
    },
    {
      "cell_type": "code",
      "execution_count": 129,
      "metadata": {
        "id": "VjxMNLEit5JO",
        "colab": {
          "base_uri": "https://localhost:8080/"
        },
        "outputId": "d591b0bc-7da9-4059-c6fd-4aaaf76421d8"
      },
      "outputs": [
        {
          "output_type": "execute_result",
          "data": {
            "text/plain": [
              "(13, 0.9783333333333334)"
            ]
          },
          "metadata": {},
          "execution_count": 129
        }
      ],
      "source": [
        "checkAccuracy_anyAcceptableInflectionInDataset(testData_new[0], new_test_pred_OH, dic_lemmaInflection)"
      ]
    }
  ],
  "metadata": {
    "accelerator": "GPU",
    "colab": {
      "collapsed_sections": [
        "rgbi7F8b_x30",
        "Z8EaaCpl4vRw",
        "AE4iDRzh47E-",
        "bh5sOf1t5B2h",
        "g4MC1JT3TSec",
        "XOX50iU1Kha1",
        "9ZQvZUkdGb9Z",
        "ubE6nCh4ClaD",
        "dU09qVXA9kp0",
        "u_hpLQfwE5B2",
        "JRilqxawClaF",
        "O45BUvM0ClaF",
        "WO43412TA77a",
        "62hKeeV_2G77",
        "JUh5iUSmzZhO",
        "4MFDQIHuClaE",
        "sZxKnStm3HNT",
        "hKMTPoMto-58",
        "tUX8Rab-DUup",
        "kPYXqpgcYktV",
        "TOcPWZyxYktX",
        "KHOXSZq1Rd6C",
        "JJvKtWGURjyg",
        "5aRDIUaOvvJv",
        "wYae4z1hhH4t",
        "DBYWYsIYgR4S",
        "K87j_k_oEVh3",
        "XAoL0KSoEVh4",
        "ybXFriUqEVh5",
        "i7R3KZnxEVh5",
        "fdCz16FjpUjU",
        "jgfj5lhjU6z3",
        "WHCsxDc9U60N",
        "gVg1pBydU60g",
        "s_lrUYcHGakD",
        "ED9U383gGakE",
        "RHQ5EblGGakF",
        "sZl-0dRpGakG",
        "9tjmQhdrERFu",
        "rNmcuKe1IKcp",
        "4l3ZqqFHtdTP",
        "hORyX5w_9Ff5"
      ],
      "provenance": [],
      "include_colab_link": true
    },
    "kernelspec": {
      "display_name": "Python 3",
      "name": "python3"
    },
    "language_info": {
      "name": "python"
    },
    "gpuClass": "standard"
  },
  "nbformat": 4,
  "nbformat_minor": 0
}